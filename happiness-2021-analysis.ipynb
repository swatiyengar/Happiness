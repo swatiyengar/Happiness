{
 "cells": [
  {
   "cell_type": "markdown",
   "id": "807e5fc1",
   "metadata": {},
   "source": [
    "# World Happiness Report 2021"
   ]
  },
  {
   "cell_type": "markdown",
   "id": "614eb26b",
   "metadata": {},
   "source": [
    "## Background"
   ]
  },
  {
   "cell_type": "markdown",
   "id": "1e127433",
   "metadata": {},
   "source": [
    "- The World Happiness Report is an annual publication produced by the the Sustainable Development Solutions Network (SDSN) and The Center for Sustainable Development at Columbia University.\n",
    "- It was first produced as a reponse to a UN General Assembly 2011 Resolution which invited national governments to “give more importance to happiness and well-being in determining how to achieve and measure social and economic development.” \n",
    "- Data is collected in partnership with the Gallup World Poll team\n",
    "- Data sources used to develop the WHR include:\n",
    "- Gallup World Poll\n",
    "- World Risk Poll (Lloyd's Register Foundation)\n",
    "- Covid Data Hub (Imperial College London // YouGov)"
   ]
  },
  {
   "cell_type": "markdown",
   "id": "43d63246",
   "metadata": {},
   "source": [
    "## Methodology"
   ]
  },
  {
   "cell_type": "markdown",
   "id": "1c94e211",
   "metadata": {},
   "source": [
    "1. Accessed the World Happiness Report (https://worldhappiness.report/) to review methodology and types of data included\n",
    "2. Downloaded dataset from Kaggle\n",
    "3. The Happiness Index includes questions about perceptions about corruption, social support, healthy life expectancy, generousity, and freedom. So I sought to address the following questions:\n",
    "- how do perceptions of corruptions by the public compare with expert opinions on global corruption (via Transparency International Corruption Perception Index)?\n",
    "- how do these elements compare between countries with questionably lower numbers of COVID deaths and COVID cases? \n",
    "- if data is available, this analysis could be supplemented with information about levels of restriction in each country\n",
    "\n",
    "## Datasets:\n",
    "- World Happiness Report: https://www.kaggle.com/ajaypalsinghlo/world-happiness-report-2021\n",
    "- Transparency International Corruption Index: https://www.transparency.org/en/cpi/2020/index/nzl\n",
    "- Novel Coronavirus (COVID-19) Cases and Deaths (JHU CSSE): https://github.com/CSSEGISandData/COVID-19\n",
    "- World Bank Population Estimates and Projections: https://datacatalog.worldbank.org/dataset/population-estimates-and-projections\n",
    "\n",
    "\n",
    "## Methods:\n",
    "\n",
    "I mapped the country names across the different datasets. In the instances where country names differed, I mapped the following:\n",
    "\n",
    "| Base                    | Alternative Spellings               |\n",
    "|-------------------------|-------------------------------------|\n",
    "| Czech Republic          | Czechia                             |\n",
    "| United States           | US                                  |\n",
    "| United States           | United States of America            |\n",
    "| Taiwan                  | Taiwan*                             |\n",
    "| Taiwan                  | Taiwan Province of China            |\n",
    "| South Korea             | Korea, South                        |\n",
    "| South Korea             | Korea                      |\n",
    "| North Korea             | Korea, North                        |\n",
    "| North Cyprus            | Turkish Republic of Northern Cyprus |\n",
    "| North Cyprus            | Northern Cyprus                     |\n",
    "| Ivory Coast             | Cote d'Ivoire                       |\n",
    "| Hong Kong               | Hong Kong S.A.R. of China           |\n",
    "| Palestinian Territories | West Bank and Gaza                  |\n",
    "| Myanmar                 | Burma                               |\n",
    "| Eswatini                | Swaziland                           |\n",
    "| Congo (Brazzaville)     | Republic of Congo                   |\n",
    "| Congo (Kinshasa)        | Democratic Republic of Congo        |\n",
    "| Slovaka    | Slovak Republic                   |\n",
    "| Russia     | Russian Federation       |\n",
    "| Egypt  | Egypt, Arab Rep                   |\n",
    "| Gambia     | Gambia, The       |\n",
    "\n",
    "I extracted cumulative case and death data as of 31 December 2020 from Novel Coronavirus (COVID-19) Cases and Deaths (JHU CSSE) and the 2021 Corruption Perception Index (CPI) Score from Transparency International Corruption Index and added them to the a new combined file containg World Happiness Report 2021 indicators\n",
    "\n",
    "I mapped CPI scores to WHR Perception of Corruption Scores (100-cpi_score/100) and added them to the combined file\n",
    "- <i>NOTE: This is my rough mapping - not an evidence-based method to compare these scores<i>\n",
    "\n",
    "I added World Bank 2020 Population estimates and used them, in conjuction with CCSE data, to derive cases and deaths per 100k population, as of 31 Dec 2020 (e.g. number of cases/population *100000), and added them to the combined file\n",
    "- <i>NOTE: World Bank data did not include population data on Taiwan or North Cyprus. Taiwanese population data was taken from UN Population division estimates (https://population.un.org/wpp/) and North Cyprus data was taken from https://www.ticaret.gov.tr/<i>\n",
    "\n",
    "I extracted a list of OECD countries and matched countries to their OECD status in the combined file. \n",
    "  \n",
    "In the combined file, I removed data irrelevant to this analysis including:                         \n",
    "- Standard error of ladder score            \n",
    "- upperwhisker                                \n",
    "- lowerwhisker\n",
    "- Explained by: Log GDP per capita\n",
    "- Explained by: Social support\n",
    "- Explained by: Healthy life expectancy\n",
    "- Explained by: Freedom to make life choices\n",
    "- Explained by: Generosity\n",
    "- Explained by: Perceptions of corruption\n",
    "- Dystopia + residual  \n",
    "    \n",
    "####Data Notes:\n",
    "- North Cyprus is only recognized by Turkey, and thus excluded from the analysis. \n",
    "- Turkmenistan was not included in the JHU CSSE because it claims no COVID-19 cases or deaths, and thus do not report. Thus, in the combined dataset, I mark it as 0 deaths and 0 cases to compare '0' reporting with perception of corruption scores in this analysis.\n",
    "- North Korea was not included in the World Happiness Report\n",
    "- Palestinian Territories were not included in the Transparency International Corruption Index "
   ]
  },
  {
   "cell_type": "markdown",
   "id": "45d79c48",
   "metadata": {},
   "source": [
    "## Analysis"
   ]
  },
  {
   "cell_type": "markdown",
   "id": "219ce469",
   "metadata": {},
   "source": [
    "### Setup"
   ]
  },
  {
   "cell_type": "markdown",
   "id": "ce81d757",
   "metadata": {},
   "source": [
    "Import pandas and matplotlib libraries"
   ]
  },
  {
   "cell_type": "code",
   "execution_count": 93,
   "id": "ffcff115",
   "metadata": {},
   "outputs": [],
   "source": [
    "import pandas as pd"
   ]
  },
  {
   "cell_type": "code",
   "execution_count": 94,
   "id": "d98977cd",
   "metadata": {},
   "outputs": [],
   "source": [
    "import matplotlib.pyplot as plt"
   ]
  },
  {
   "cell_type": "code",
   "execution_count": 95,
   "id": "a3f94617",
   "metadata": {},
   "outputs": [],
   "source": [
    "import numpy as np"
   ]
  },
  {
   "cell_type": "markdown",
   "id": "6798b9d5",
   "metadata": {},
   "source": [
    "Import combined datasets\n",
    "\n",
    "- World Happiness Report: https://www.kaggle.com/ajaypalsinghlo/world-happiness-report-2021\n",
    "- Transparency International Corruption Index: https://www.transparency.org/en/cpi/2020/index/nzl\n",
    "- Novel Coronavirus (COVID-19) Cases and Deaths (JHU CSSE): https://github.com/CSSEGISandData/COVID-19"
   ]
  },
  {
   "cell_type": "code",
   "execution_count": 96,
   "id": "b0c94420",
   "metadata": {},
   "outputs": [
    {
     "output_type": "execute_result",
     "data": {
      "text/plain": [
       "         country              region  score  log_gdp_cap  social_support  \\\n",
       "0        Finland      Western Europe  7.842       10.775           0.954   \n",
       "1        Denmark      Western Europe  7.620       10.933           0.954   \n",
       "2    Switzerland      Western Europe  7.571       11.117           0.942   \n",
       "3        Iceland      Western Europe  7.554       10.878           0.983   \n",
       "4    Netherlands      Western Europe  7.464       10.932           0.942   \n",
       "..           ...                 ...    ...          ...             ...   \n",
       "144      Lesotho  Sub-Saharan Africa  3.512        7.926           0.787   \n",
       "145     Botswana  Sub-Saharan Africa  3.467        9.782           0.784   \n",
       "146       Rwanda  Sub-Saharan Africa  3.415        7.676           0.552   \n",
       "147     Zimbabwe  Sub-Saharan Africa  3.145        7.943           0.750   \n",
       "148  Afghanistan          South Asia  2.523        7.695           0.463   \n",
       "\n",
       "     life_expectancy  freedom_to_make_life_choices  generosity  \\\n",
       "0             72.000                         0.949      -0.098   \n",
       "1             72.700                         0.946       0.030   \n",
       "2             74.400                         0.919       0.025   \n",
       "3             73.000                         0.955       0.160   \n",
       "4             72.400                         0.913       0.175   \n",
       "..               ...                           ...         ...   \n",
       "144           48.700                         0.715      -0.131   \n",
       "145           59.269                         0.824      -0.246   \n",
       "146           61.400                         0.897       0.061   \n",
       "147           56.201                         0.677      -0.047   \n",
       "148           52.493                         0.382      -0.102   \n",
       "\n",
       "     perceptions_of_corruption  ti_corrupt_harmonized  covid_deaths  \\\n",
       "0                        0.186                   0.15         561.0   \n",
       "1                        0.179                   0.12        1298.0   \n",
       "2                        0.292                   0.15        7645.0   \n",
       "3                        0.673                   0.25          29.0   \n",
       "4                        0.338                   0.18       11432.0   \n",
       "..                         ...                    ...           ...   \n",
       "144                      0.915                   0.59          51.0   \n",
       "145                      0.801                   0.40          42.0   \n",
       "146                      0.167                   0.46          92.0   \n",
       "147                      0.821                   0.76         363.0   \n",
       "148                      0.924                   0.81        2191.0   \n",
       "\n",
       "     covid_cases     pop_2020   death_100k  cases_100k  oecd  \n",
       "0        36107.0    5,529,000        10.15      653.05     1  \n",
       "1       163479.0    5,834,000        22.25     2802.18     1  \n",
       "2       452296.0    8,633,000        88.56     5239.15     1  \n",
       "3         5754.0      363,000         7.99     1585.12     1  \n",
       "4       796981.0   17,380,000        65.78     4585.62     1  \n",
       "..           ...           ...         ...         ...   ...  \n",
       "144       3094.0    2,142,000         2.38      144.44     0  \n",
       "145      14805.0    2,352,000         1.79      629.46     0  \n",
       "146       8383.0   12,952,000         0.71       64.72     0  \n",
       "147      13867.0   14,863,000         2.44       93.30     0  \n",
       "148      51526.0   38,928,000         5.63      132.36     0  \n",
       "\n",
       "[149 rows x 16 columns]"
      ],
      "text/html": "<div>\n<style scoped>\n    .dataframe tbody tr th:only-of-type {\n        vertical-align: middle;\n    }\n\n    .dataframe tbody tr th {\n        vertical-align: top;\n    }\n\n    .dataframe thead th {\n        text-align: right;\n    }\n</style>\n<table border=\"1\" class=\"dataframe\">\n  <thead>\n    <tr style=\"text-align: right;\">\n      <th></th>\n      <th>country</th>\n      <th>region</th>\n      <th>score</th>\n      <th>log_gdp_cap</th>\n      <th>social_support</th>\n      <th>life_expectancy</th>\n      <th>freedom_to_make_life_choices</th>\n      <th>generosity</th>\n      <th>perceptions_of_corruption</th>\n      <th>ti_corrupt_harmonized</th>\n      <th>covid_deaths</th>\n      <th>covid_cases</th>\n      <th>pop_2020</th>\n      <th>death_100k</th>\n      <th>cases_100k</th>\n      <th>oecd</th>\n    </tr>\n  </thead>\n  <tbody>\n    <tr>\n      <th>0</th>\n      <td>Finland</td>\n      <td>Western Europe</td>\n      <td>7.842</td>\n      <td>10.775</td>\n      <td>0.954</td>\n      <td>72.000</td>\n      <td>0.949</td>\n      <td>-0.098</td>\n      <td>0.186</td>\n      <td>0.15</td>\n      <td>561.0</td>\n      <td>36107.0</td>\n      <td>5,529,000</td>\n      <td>10.15</td>\n      <td>653.05</td>\n      <td>1</td>\n    </tr>\n    <tr>\n      <th>1</th>\n      <td>Denmark</td>\n      <td>Western Europe</td>\n      <td>7.620</td>\n      <td>10.933</td>\n      <td>0.954</td>\n      <td>72.700</td>\n      <td>0.946</td>\n      <td>0.030</td>\n      <td>0.179</td>\n      <td>0.12</td>\n      <td>1298.0</td>\n      <td>163479.0</td>\n      <td>5,834,000</td>\n      <td>22.25</td>\n      <td>2802.18</td>\n      <td>1</td>\n    </tr>\n    <tr>\n      <th>2</th>\n      <td>Switzerland</td>\n      <td>Western Europe</td>\n      <td>7.571</td>\n      <td>11.117</td>\n      <td>0.942</td>\n      <td>74.400</td>\n      <td>0.919</td>\n      <td>0.025</td>\n      <td>0.292</td>\n      <td>0.15</td>\n      <td>7645.0</td>\n      <td>452296.0</td>\n      <td>8,633,000</td>\n      <td>88.56</td>\n      <td>5239.15</td>\n      <td>1</td>\n    </tr>\n    <tr>\n      <th>3</th>\n      <td>Iceland</td>\n      <td>Western Europe</td>\n      <td>7.554</td>\n      <td>10.878</td>\n      <td>0.983</td>\n      <td>73.000</td>\n      <td>0.955</td>\n      <td>0.160</td>\n      <td>0.673</td>\n      <td>0.25</td>\n      <td>29.0</td>\n      <td>5754.0</td>\n      <td>363,000</td>\n      <td>7.99</td>\n      <td>1585.12</td>\n      <td>1</td>\n    </tr>\n    <tr>\n      <th>4</th>\n      <td>Netherlands</td>\n      <td>Western Europe</td>\n      <td>7.464</td>\n      <td>10.932</td>\n      <td>0.942</td>\n      <td>72.400</td>\n      <td>0.913</td>\n      <td>0.175</td>\n      <td>0.338</td>\n      <td>0.18</td>\n      <td>11432.0</td>\n      <td>796981.0</td>\n      <td>17,380,000</td>\n      <td>65.78</td>\n      <td>4585.62</td>\n      <td>1</td>\n    </tr>\n    <tr>\n      <th>...</th>\n      <td>...</td>\n      <td>...</td>\n      <td>...</td>\n      <td>...</td>\n      <td>...</td>\n      <td>...</td>\n      <td>...</td>\n      <td>...</td>\n      <td>...</td>\n      <td>...</td>\n      <td>...</td>\n      <td>...</td>\n      <td>...</td>\n      <td>...</td>\n      <td>...</td>\n      <td>...</td>\n    </tr>\n    <tr>\n      <th>144</th>\n      <td>Lesotho</td>\n      <td>Sub-Saharan Africa</td>\n      <td>3.512</td>\n      <td>7.926</td>\n      <td>0.787</td>\n      <td>48.700</td>\n      <td>0.715</td>\n      <td>-0.131</td>\n      <td>0.915</td>\n      <td>0.59</td>\n      <td>51.0</td>\n      <td>3094.0</td>\n      <td>2,142,000</td>\n      <td>2.38</td>\n      <td>144.44</td>\n      <td>0</td>\n    </tr>\n    <tr>\n      <th>145</th>\n      <td>Botswana</td>\n      <td>Sub-Saharan Africa</td>\n      <td>3.467</td>\n      <td>9.782</td>\n      <td>0.784</td>\n      <td>59.269</td>\n      <td>0.824</td>\n      <td>-0.246</td>\n      <td>0.801</td>\n      <td>0.40</td>\n      <td>42.0</td>\n      <td>14805.0</td>\n      <td>2,352,000</td>\n      <td>1.79</td>\n      <td>629.46</td>\n      <td>0</td>\n    </tr>\n    <tr>\n      <th>146</th>\n      <td>Rwanda</td>\n      <td>Sub-Saharan Africa</td>\n      <td>3.415</td>\n      <td>7.676</td>\n      <td>0.552</td>\n      <td>61.400</td>\n      <td>0.897</td>\n      <td>0.061</td>\n      <td>0.167</td>\n      <td>0.46</td>\n      <td>92.0</td>\n      <td>8383.0</td>\n      <td>12,952,000</td>\n      <td>0.71</td>\n      <td>64.72</td>\n      <td>0</td>\n    </tr>\n    <tr>\n      <th>147</th>\n      <td>Zimbabwe</td>\n      <td>Sub-Saharan Africa</td>\n      <td>3.145</td>\n      <td>7.943</td>\n      <td>0.750</td>\n      <td>56.201</td>\n      <td>0.677</td>\n      <td>-0.047</td>\n      <td>0.821</td>\n      <td>0.76</td>\n      <td>363.0</td>\n      <td>13867.0</td>\n      <td>14,863,000</td>\n      <td>2.44</td>\n      <td>93.30</td>\n      <td>0</td>\n    </tr>\n    <tr>\n      <th>148</th>\n      <td>Afghanistan</td>\n      <td>South Asia</td>\n      <td>2.523</td>\n      <td>7.695</td>\n      <td>0.463</td>\n      <td>52.493</td>\n      <td>0.382</td>\n      <td>-0.102</td>\n      <td>0.924</td>\n      <td>0.81</td>\n      <td>2191.0</td>\n      <td>51526.0</td>\n      <td>38,928,000</td>\n      <td>5.63</td>\n      <td>132.36</td>\n      <td>0</td>\n    </tr>\n  </tbody>\n</table>\n<p>149 rows × 16 columns</p>\n</div>"
     },
     "metadata": {},
     "execution_count": 96
    }
   ],
   "source": [
    "df = pd.read_csv('combined-data-summary.csv')\n",
    "df = df.rename(columns={\n",
    "    'Ladder score': 'score'\n",
    "})\n",
    "df"
   ]
  },
  {
   "cell_type": "code",
   "execution_count": 97,
   "id": "eb3bb26f",
   "metadata": {},
   "outputs": [
    {
     "output_type": "execute_result",
     "data": {
      "text/plain": [
       "       country          region  score  log_gdp_cap  social_support  \\\n",
       "0      Finland  Western Europe  7.842       10.775           0.954   \n",
       "1      Denmark  Western Europe  7.620       10.933           0.954   \n",
       "2  Switzerland  Western Europe  7.571       11.117           0.942   \n",
       "3      Iceland  Western Europe  7.554       10.878           0.983   \n",
       "4  Netherlands  Western Europe  7.464       10.932           0.942   \n",
       "\n",
       "   life_expectancy  freedom_to_make_life_choices  generosity  \\\n",
       "0             72.0                         0.949      -0.098   \n",
       "1             72.7                         0.946       0.030   \n",
       "2             74.4                         0.919       0.025   \n",
       "3             73.0                         0.955       0.160   \n",
       "4             72.4                         0.913       0.175   \n",
       "\n",
       "   perceptions_of_corruption  ti_corrupt_harmonized  covid_deaths  \\\n",
       "0                      0.186                   0.15         561.0   \n",
       "1                      0.179                   0.12        1298.0   \n",
       "2                      0.292                   0.15        7645.0   \n",
       "3                      0.673                   0.25          29.0   \n",
       "4                      0.338                   0.18       11432.0   \n",
       "\n",
       "   covid_cases     pop_2020   death_100k  cases_100k  oecd  \n",
       "0      36107.0    5,529,000        10.15      653.05     1  \n",
       "1     163479.0    5,834,000        22.25     2802.18     1  \n",
       "2     452296.0    8,633,000        88.56     5239.15     1  \n",
       "3       5754.0      363,000         7.99     1585.12     1  \n",
       "4     796981.0   17,380,000        65.78     4585.62     1  "
      ],
      "text/html": "<div>\n<style scoped>\n    .dataframe tbody tr th:only-of-type {\n        vertical-align: middle;\n    }\n\n    .dataframe tbody tr th {\n        vertical-align: top;\n    }\n\n    .dataframe thead th {\n        text-align: right;\n    }\n</style>\n<table border=\"1\" class=\"dataframe\">\n  <thead>\n    <tr style=\"text-align: right;\">\n      <th></th>\n      <th>country</th>\n      <th>region</th>\n      <th>score</th>\n      <th>log_gdp_cap</th>\n      <th>social_support</th>\n      <th>life_expectancy</th>\n      <th>freedom_to_make_life_choices</th>\n      <th>generosity</th>\n      <th>perceptions_of_corruption</th>\n      <th>ti_corrupt_harmonized</th>\n      <th>covid_deaths</th>\n      <th>covid_cases</th>\n      <th>pop_2020</th>\n      <th>death_100k</th>\n      <th>cases_100k</th>\n      <th>oecd</th>\n    </tr>\n  </thead>\n  <tbody>\n    <tr>\n      <th>0</th>\n      <td>Finland</td>\n      <td>Western Europe</td>\n      <td>7.842</td>\n      <td>10.775</td>\n      <td>0.954</td>\n      <td>72.0</td>\n      <td>0.949</td>\n      <td>-0.098</td>\n      <td>0.186</td>\n      <td>0.15</td>\n      <td>561.0</td>\n      <td>36107.0</td>\n      <td>5,529,000</td>\n      <td>10.15</td>\n      <td>653.05</td>\n      <td>1</td>\n    </tr>\n    <tr>\n      <th>1</th>\n      <td>Denmark</td>\n      <td>Western Europe</td>\n      <td>7.620</td>\n      <td>10.933</td>\n      <td>0.954</td>\n      <td>72.7</td>\n      <td>0.946</td>\n      <td>0.030</td>\n      <td>0.179</td>\n      <td>0.12</td>\n      <td>1298.0</td>\n      <td>163479.0</td>\n      <td>5,834,000</td>\n      <td>22.25</td>\n      <td>2802.18</td>\n      <td>1</td>\n    </tr>\n    <tr>\n      <th>2</th>\n      <td>Switzerland</td>\n      <td>Western Europe</td>\n      <td>7.571</td>\n      <td>11.117</td>\n      <td>0.942</td>\n      <td>74.4</td>\n      <td>0.919</td>\n      <td>0.025</td>\n      <td>0.292</td>\n      <td>0.15</td>\n      <td>7645.0</td>\n      <td>452296.0</td>\n      <td>8,633,000</td>\n      <td>88.56</td>\n      <td>5239.15</td>\n      <td>1</td>\n    </tr>\n    <tr>\n      <th>3</th>\n      <td>Iceland</td>\n      <td>Western Europe</td>\n      <td>7.554</td>\n      <td>10.878</td>\n      <td>0.983</td>\n      <td>73.0</td>\n      <td>0.955</td>\n      <td>0.160</td>\n      <td>0.673</td>\n      <td>0.25</td>\n      <td>29.0</td>\n      <td>5754.0</td>\n      <td>363,000</td>\n      <td>7.99</td>\n      <td>1585.12</td>\n      <td>1</td>\n    </tr>\n    <tr>\n      <th>4</th>\n      <td>Netherlands</td>\n      <td>Western Europe</td>\n      <td>7.464</td>\n      <td>10.932</td>\n      <td>0.942</td>\n      <td>72.4</td>\n      <td>0.913</td>\n      <td>0.175</td>\n      <td>0.338</td>\n      <td>0.18</td>\n      <td>11432.0</td>\n      <td>796981.0</td>\n      <td>17,380,000</td>\n      <td>65.78</td>\n      <td>4585.62</td>\n      <td>1</td>\n    </tr>\n  </tbody>\n</table>\n</div>"
     },
     "metadata": {},
     "execution_count": 97
    }
   ],
   "source": [
    "df.head()"
   ]
  },
  {
   "cell_type": "markdown",
   "id": "6a9c2071",
   "metadata": {},
   "source": [
    "### What are the 10 top happiest countries?"
   ]
  },
  {
   "cell_type": "code",
   "execution_count": 98,
   "id": "24b4129e",
   "metadata": {},
   "outputs": [],
   "source": [
    "top10_happy = df.sort_values(by = 'score', ascending = False).head(10)"
   ]
  },
  {
   "cell_type": "code",
   "execution_count": 99,
   "id": "aba33047",
   "metadata": {},
   "outputs": [
    {
     "output_type": "execute_result",
     "data": {
      "text/plain": [
       "Text(7.554, 0.673, 'Iceland')"
      ]
     },
     "metadata": {},
     "execution_count": 99
    },
    {
     "output_type": "display_data",
     "data": {
      "text/plain": "<Figure size 432x288 with 1 Axes>",
      "image/svg+xml": "<?xml version=\"1.0\" encoding=\"utf-8\" standalone=\"no\"?>\r\n<!DOCTYPE svg PUBLIC \"-//W3C//DTD SVG 1.1//EN\"\r\n  \"http://www.w3.org/Graphics/SVG/1.1/DTD/svg11.dtd\">\r\n<svg height=\"265.995469pt\" version=\"1.1\" viewBox=\"0 0 392.421875 265.995469\" width=\"392.421875pt\" xmlns=\"http://www.w3.org/2000/svg\" xmlns:xlink=\"http://www.w3.org/1999/xlink\">\r\n <metadata>\r\n  <rdf:RDF xmlns:cc=\"http://creativecommons.org/ns#\" xmlns:dc=\"http://purl.org/dc/elements/1.1/\" xmlns:rdf=\"http://www.w3.org/1999/02/22-rdf-syntax-ns#\">\r\n   <cc:Work>\r\n    <dc:type rdf:resource=\"http://purl.org/dc/dcmitype/StillImage\"/>\r\n    <dc:date>2021-06-25T10:19:43.975513</dc:date>\r\n    <dc:format>image/svg+xml</dc:format>\r\n    <dc:creator>\r\n     <cc:Agent>\r\n      <dc:title>Matplotlib v3.4.2, https://matplotlib.org/</dc:title>\r\n     </cc:Agent>\r\n    </dc:creator>\r\n   </cc:Work>\r\n  </rdf:RDF>\r\n </metadata>\r\n <defs>\r\n  <style type=\"text/css\">*{stroke-linecap:butt;stroke-linejoin:round;}</style>\r\n </defs>\r\n <g id=\"figure_1\">\r\n  <g id=\"patch_1\">\r\n   <path d=\"M 0 265.995469 \r\nL 392.421875 265.995469 \r\nL 392.421875 0 \r\nL 0 0 \r\nz\r\n\" style=\"fill:none;\"/>\r\n  </g>\r\n  <g id=\"axes_1\">\r\n   <g id=\"patch_2\">\r\n    <path d=\"M 44.059375 228.439219 \r\nL 378.859375 228.439219 \r\nL 378.859375 10.999219 \r\nL 44.059375 10.999219 \r\nz\r\n\" style=\"fill:#ffffff;\"/>\r\n   </g>\r\n   <g id=\"PathCollection_1\">\r\n    <defs>\r\n     <path d=\"M 0 2.236068 \r\nC 0.593012 2.236068 1.161816 2.000462 1.581139 1.581139 \r\nC 2.000462 1.161816 2.236068 0.593012 2.236068 0 \r\nC 2.236068 -0.593012 2.000462 -1.161816 1.581139 -1.581139 \r\nC 1.161816 -2.000462 0.593012 -2.236068 0 -2.236068 \r\nC -0.593012 -2.236068 -1.161816 -2.000462 -1.581139 -1.581139 \r\nC -2.000462 -1.161816 -2.236068 -0.593012 -2.236068 0 \r\nC -2.236068 0.593012 -2.000462 1.161816 -1.581139 1.581139 \r\nC -1.161816 2.000462 -0.593012 2.236068 0 2.236068 \r\nz\r\n\" id=\"m52c6e4c48e\" style=\"stroke:#1f77b4;\"/>\r\n    </defs>\r\n    <g clip-path=\"url(#pf2cfd12d38)\">\r\n     <use style=\"fill:#1f77b4;stroke:#1f77b4;\" x=\"306.609535\" xlink:href=\"#m52c6e4c48e\" y=\"187.995379\"/>\r\n     <use style=\"fill:#1f77b4;stroke:#1f77b4;\" x=\"299.176975\" xlink:href=\"#m52c6e4c48e\" y=\"189.517459\"/>\r\n     <use style=\"fill:#1f77b4;stroke:#1f77b4;\" x=\"297.536455\" xlink:href=\"#m52c6e4c48e\" y=\"164.946739\"/>\r\n     <use style=\"fill:#1f77b4;stroke:#1f77b4;\" x=\"296.967295\" xlink:href=\"#m52c6e4c48e\" y=\"82.102099\"/>\r\n     <use style=\"fill:#1f77b4;stroke:#1f77b4;\" x=\"293.954095\" xlink:href=\"#m52c6e4c48e\" y=\"154.944499\"/>\r\n     <use style=\"fill:#1f77b4;stroke:#1f77b4;\" x=\"291.543535\" xlink:href=\"#m52c6e4c48e\" y=\"169.730419\"/>\r\n     <use style=\"fill:#1f77b4;stroke:#1f77b4;\" x=\"290.572615\" xlink:href=\"#m52c6e4c48e\" y=\"176.905939\"/>\r\n     <use style=\"fill:#1f77b4;stroke:#1f77b4;\" x=\"289.266895\" xlink:href=\"#m52c6e4c48e\" y=\"144.507379\"/>\r\n     <use style=\"fill:#1f77b4;stroke:#1f77b4;\" x=\"287.693335\" xlink:href=\"#m52c6e4c48e\" y=\"175.818739\"/>\r\n     <use style=\"fill:#1f77b4;stroke:#1f77b4;\" x=\"287.392015\" xlink:href=\"#m52c6e4c48e\" y=\"123.850579\"/>\r\n    </g>\r\n   </g>\r\n   <g id=\"matplotlib.axis_1\">\r\n    <g id=\"xtick_1\">\r\n     <g id=\"line2d_1\">\r\n      <defs>\r\n       <path d=\"M 0 0 \r\nL 0 3.5 \r\n\" id=\"m62307a2c8e\" style=\"stroke:#000000;stroke-width:0.8;\"/>\r\n      </defs>\r\n      <g>\r\n       <use style=\"stroke:#000000;stroke-width:0.8;\" x=\"44.059375\" xlink:href=\"#m62307a2c8e\" y=\"228.439219\"/>\r\n      </g>\r\n     </g>\r\n     <g id=\"text_1\">\r\n      <!-- 0 -->\r\n      <g transform=\"translate(40.878125 243.037656)scale(0.1 -0.1)\">\r\n       <defs>\r\n        <path d=\"M 2034 4250 \r\nQ 1547 4250 1301 3770 \r\nQ 1056 3291 1056 2328 \r\nQ 1056 1369 1301 889 \r\nQ 1547 409 2034 409 \r\nQ 2525 409 2770 889 \r\nQ 3016 1369 3016 2328 \r\nQ 3016 3291 2770 3770 \r\nQ 2525 4250 2034 4250 \r\nz\r\nM 2034 4750 \r\nQ 2819 4750 3233 4129 \r\nQ 3647 3509 3647 2328 \r\nQ 3647 1150 3233 529 \r\nQ 2819 -91 2034 -91 \r\nQ 1250 -91 836 529 \r\nQ 422 1150 422 2328 \r\nQ 422 3509 836 4129 \r\nQ 1250 4750 2034 4750 \r\nz\r\n\" id=\"DejaVuSans-30\" transform=\"scale(0.015625)\"/>\r\n       </defs>\r\n       <use xlink:href=\"#DejaVuSans-30\"/>\r\n      </g>\r\n     </g>\r\n    </g>\r\n    <g id=\"xtick_2\">\r\n     <g id=\"line2d_2\">\r\n      <g>\r\n       <use style=\"stroke:#000000;stroke-width:0.8;\" x=\"111.019375\" xlink:href=\"#m62307a2c8e\" y=\"228.439219\"/>\r\n      </g>\r\n     </g>\r\n     <g id=\"text_2\">\r\n      <!-- 2 -->\r\n      <g transform=\"translate(107.838125 243.037656)scale(0.1 -0.1)\">\r\n       <defs>\r\n        <path d=\"M 1228 531 \r\nL 3431 531 \r\nL 3431 0 \r\nL 469 0 \r\nL 469 531 \r\nQ 828 903 1448 1529 \r\nQ 2069 2156 2228 2338 \r\nQ 2531 2678 2651 2914 \r\nQ 2772 3150 2772 3378 \r\nQ 2772 3750 2511 3984 \r\nQ 2250 4219 1831 4219 \r\nQ 1534 4219 1204 4116 \r\nQ 875 4013 500 3803 \r\nL 500 4441 \r\nQ 881 4594 1212 4672 \r\nQ 1544 4750 1819 4750 \r\nQ 2544 4750 2975 4387 \r\nQ 3406 4025 3406 3419 \r\nQ 3406 3131 3298 2873 \r\nQ 3191 2616 2906 2266 \r\nQ 2828 2175 2409 1742 \r\nQ 1991 1309 1228 531 \r\nz\r\n\" id=\"DejaVuSans-32\" transform=\"scale(0.015625)\"/>\r\n       </defs>\r\n       <use xlink:href=\"#DejaVuSans-32\"/>\r\n      </g>\r\n     </g>\r\n    </g>\r\n    <g id=\"xtick_3\">\r\n     <g id=\"line2d_3\">\r\n      <g>\r\n       <use style=\"stroke:#000000;stroke-width:0.8;\" x=\"177.979375\" xlink:href=\"#m62307a2c8e\" y=\"228.439219\"/>\r\n      </g>\r\n     </g>\r\n     <g id=\"text_3\">\r\n      <!-- 4 -->\r\n      <g transform=\"translate(174.798125 243.037656)scale(0.1 -0.1)\">\r\n       <defs>\r\n        <path d=\"M 2419 4116 \r\nL 825 1625 \r\nL 2419 1625 \r\nL 2419 4116 \r\nz\r\nM 2253 4666 \r\nL 3047 4666 \r\nL 3047 1625 \r\nL 3713 1625 \r\nL 3713 1100 \r\nL 3047 1100 \r\nL 3047 0 \r\nL 2419 0 \r\nL 2419 1100 \r\nL 313 1100 \r\nL 313 1709 \r\nL 2253 4666 \r\nz\r\n\" id=\"DejaVuSans-34\" transform=\"scale(0.015625)\"/>\r\n       </defs>\r\n       <use xlink:href=\"#DejaVuSans-34\"/>\r\n      </g>\r\n     </g>\r\n    </g>\r\n    <g id=\"xtick_4\">\r\n     <g id=\"line2d_4\">\r\n      <g>\r\n       <use style=\"stroke:#000000;stroke-width:0.8;\" x=\"244.939375\" xlink:href=\"#m62307a2c8e\" y=\"228.439219\"/>\r\n      </g>\r\n     </g>\r\n     <g id=\"text_4\">\r\n      <!-- 6 -->\r\n      <g transform=\"translate(241.758125 243.037656)scale(0.1 -0.1)\">\r\n       <defs>\r\n        <path d=\"M 2113 2584 \r\nQ 1688 2584 1439 2293 \r\nQ 1191 2003 1191 1497 \r\nQ 1191 994 1439 701 \r\nQ 1688 409 2113 409 \r\nQ 2538 409 2786 701 \r\nQ 3034 994 3034 1497 \r\nQ 3034 2003 2786 2293 \r\nQ 2538 2584 2113 2584 \r\nz\r\nM 3366 4563 \r\nL 3366 3988 \r\nQ 3128 4100 2886 4159 \r\nQ 2644 4219 2406 4219 \r\nQ 1781 4219 1451 3797 \r\nQ 1122 3375 1075 2522 \r\nQ 1259 2794 1537 2939 \r\nQ 1816 3084 2150 3084 \r\nQ 2853 3084 3261 2657 \r\nQ 3669 2231 3669 1497 \r\nQ 3669 778 3244 343 \r\nQ 2819 -91 2113 -91 \r\nQ 1303 -91 875 529 \r\nQ 447 1150 447 2328 \r\nQ 447 3434 972 4092 \r\nQ 1497 4750 2381 4750 \r\nQ 2619 4750 2861 4703 \r\nQ 3103 4656 3366 4563 \r\nz\r\n\" id=\"DejaVuSans-36\" transform=\"scale(0.015625)\"/>\r\n       </defs>\r\n       <use xlink:href=\"#DejaVuSans-36\"/>\r\n      </g>\r\n     </g>\r\n    </g>\r\n    <g id=\"xtick_5\">\r\n     <g id=\"line2d_5\">\r\n      <g>\r\n       <use style=\"stroke:#000000;stroke-width:0.8;\" x=\"311.899375\" xlink:href=\"#m62307a2c8e\" y=\"228.439219\"/>\r\n      </g>\r\n     </g>\r\n     <g id=\"text_5\">\r\n      <!-- 8 -->\r\n      <g transform=\"translate(308.718125 243.037656)scale(0.1 -0.1)\">\r\n       <defs>\r\n        <path d=\"M 2034 2216 \r\nQ 1584 2216 1326 1975 \r\nQ 1069 1734 1069 1313 \r\nQ 1069 891 1326 650 \r\nQ 1584 409 2034 409 \r\nQ 2484 409 2743 651 \r\nQ 3003 894 3003 1313 \r\nQ 3003 1734 2745 1975 \r\nQ 2488 2216 2034 2216 \r\nz\r\nM 1403 2484 \r\nQ 997 2584 770 2862 \r\nQ 544 3141 544 3541 \r\nQ 544 4100 942 4425 \r\nQ 1341 4750 2034 4750 \r\nQ 2731 4750 3128 4425 \r\nQ 3525 4100 3525 3541 \r\nQ 3525 3141 3298 2862 \r\nQ 3072 2584 2669 2484 \r\nQ 3125 2378 3379 2068 \r\nQ 3634 1759 3634 1313 \r\nQ 3634 634 3220 271 \r\nQ 2806 -91 2034 -91 \r\nQ 1263 -91 848 271 \r\nQ 434 634 434 1313 \r\nQ 434 1759 690 2068 \r\nQ 947 2378 1403 2484 \r\nz\r\nM 1172 3481 \r\nQ 1172 3119 1398 2916 \r\nQ 1625 2713 2034 2713 \r\nQ 2441 2713 2670 2916 \r\nQ 2900 3119 2900 3481 \r\nQ 2900 3844 2670 4047 \r\nQ 2441 4250 2034 4250 \r\nQ 1625 4250 1398 4047 \r\nQ 1172 3844 1172 3481 \r\nz\r\n\" id=\"DejaVuSans-38\" transform=\"scale(0.015625)\"/>\r\n       </defs>\r\n       <use xlink:href=\"#DejaVuSans-38\"/>\r\n      </g>\r\n     </g>\r\n    </g>\r\n    <g id=\"xtick_6\">\r\n     <g id=\"line2d_6\">\r\n      <g>\r\n       <use style=\"stroke:#000000;stroke-width:0.8;\" x=\"378.859375\" xlink:href=\"#m62307a2c8e\" y=\"228.439219\"/>\r\n      </g>\r\n     </g>\r\n     <g id=\"text_6\">\r\n      <!-- 10 -->\r\n      <g transform=\"translate(372.496875 243.037656)scale(0.1 -0.1)\">\r\n       <defs>\r\n        <path d=\"M 794 531 \r\nL 1825 531 \r\nL 1825 4091 \r\nL 703 3866 \r\nL 703 4441 \r\nL 1819 4666 \r\nL 2450 4666 \r\nL 2450 531 \r\nL 3481 531 \r\nL 3481 0 \r\nL 794 0 \r\nL 794 531 \r\nz\r\n\" id=\"DejaVuSans-31\" transform=\"scale(0.015625)\"/>\r\n       </defs>\r\n       <use xlink:href=\"#DejaVuSans-31\"/>\r\n       <use x=\"63.623047\" xlink:href=\"#DejaVuSans-30\"/>\r\n      </g>\r\n     </g>\r\n    </g>\r\n    <g id=\"text_7\">\r\n     <!-- score -->\r\n     <g transform=\"translate(198.026563 256.715781)scale(0.1 -0.1)\">\r\n      <defs>\r\n       <path d=\"M 2834 3397 \r\nL 2834 2853 \r\nQ 2591 2978 2328 3040 \r\nQ 2066 3103 1784 3103 \r\nQ 1356 3103 1142 2972 \r\nQ 928 2841 928 2578 \r\nQ 928 2378 1081 2264 \r\nQ 1234 2150 1697 2047 \r\nL 1894 2003 \r\nQ 2506 1872 2764 1633 \r\nQ 3022 1394 3022 966 \r\nQ 3022 478 2636 193 \r\nQ 2250 -91 1575 -91 \r\nQ 1294 -91 989 -36 \r\nQ 684 19 347 128 \r\nL 347 722 \r\nQ 666 556 975 473 \r\nQ 1284 391 1588 391 \r\nQ 1994 391 2212 530 \r\nQ 2431 669 2431 922 \r\nQ 2431 1156 2273 1281 \r\nQ 2116 1406 1581 1522 \r\nL 1381 1569 \r\nQ 847 1681 609 1914 \r\nQ 372 2147 372 2553 \r\nQ 372 3047 722 3315 \r\nQ 1072 3584 1716 3584 \r\nQ 2034 3584 2315 3537 \r\nQ 2597 3491 2834 3397 \r\nz\r\n\" id=\"DejaVuSans-73\" transform=\"scale(0.015625)\"/>\r\n       <path d=\"M 3122 3366 \r\nL 3122 2828 \r\nQ 2878 2963 2633 3030 \r\nQ 2388 3097 2138 3097 \r\nQ 1578 3097 1268 2742 \r\nQ 959 2388 959 1747 \r\nQ 959 1106 1268 751 \r\nQ 1578 397 2138 397 \r\nQ 2388 397 2633 464 \r\nQ 2878 531 3122 666 \r\nL 3122 134 \r\nQ 2881 22 2623 -34 \r\nQ 2366 -91 2075 -91 \r\nQ 1284 -91 818 406 \r\nQ 353 903 353 1747 \r\nQ 353 2603 823 3093 \r\nQ 1294 3584 2113 3584 \r\nQ 2378 3584 2631 3529 \r\nQ 2884 3475 3122 3366 \r\nz\r\n\" id=\"DejaVuSans-63\" transform=\"scale(0.015625)\"/>\r\n       <path d=\"M 1959 3097 \r\nQ 1497 3097 1228 2736 \r\nQ 959 2375 959 1747 \r\nQ 959 1119 1226 758 \r\nQ 1494 397 1959 397 \r\nQ 2419 397 2687 759 \r\nQ 2956 1122 2956 1747 \r\nQ 2956 2369 2687 2733 \r\nQ 2419 3097 1959 3097 \r\nz\r\nM 1959 3584 \r\nQ 2709 3584 3137 3096 \r\nQ 3566 2609 3566 1747 \r\nQ 3566 888 3137 398 \r\nQ 2709 -91 1959 -91 \r\nQ 1206 -91 779 398 \r\nQ 353 888 353 1747 \r\nQ 353 2609 779 3096 \r\nQ 1206 3584 1959 3584 \r\nz\r\n\" id=\"DejaVuSans-6f\" transform=\"scale(0.015625)\"/>\r\n       <path d=\"M 2631 2963 \r\nQ 2534 3019 2420 3045 \r\nQ 2306 3072 2169 3072 \r\nQ 1681 3072 1420 2755 \r\nQ 1159 2438 1159 1844 \r\nL 1159 0 \r\nL 581 0 \r\nL 581 3500 \r\nL 1159 3500 \r\nL 1159 2956 \r\nQ 1341 3275 1631 3429 \r\nQ 1922 3584 2338 3584 \r\nQ 2397 3584 2469 3576 \r\nQ 2541 3569 2628 3553 \r\nL 2631 2963 \r\nz\r\n\" id=\"DejaVuSans-72\" transform=\"scale(0.015625)\"/>\r\n       <path d=\"M 3597 1894 \r\nL 3597 1613 \r\nL 953 1613 \r\nQ 991 1019 1311 708 \r\nQ 1631 397 2203 397 \r\nQ 2534 397 2845 478 \r\nQ 3156 559 3463 722 \r\nL 3463 178 \r\nQ 3153 47 2828 -22 \r\nQ 2503 -91 2169 -91 \r\nQ 1331 -91 842 396 \r\nQ 353 884 353 1716 \r\nQ 353 2575 817 3079 \r\nQ 1281 3584 2069 3584 \r\nQ 2775 3584 3186 3129 \r\nQ 3597 2675 3597 1894 \r\nz\r\nM 3022 2063 \r\nQ 3016 2534 2758 2815 \r\nQ 2500 3097 2075 3097 \r\nQ 1594 3097 1305 2825 \r\nQ 1016 2553 972 2059 \r\nL 3022 2063 \r\nz\r\n\" id=\"DejaVuSans-65\" transform=\"scale(0.015625)\"/>\r\n      </defs>\r\n      <use xlink:href=\"#DejaVuSans-73\"/>\r\n      <use x=\"52.099609\" xlink:href=\"#DejaVuSans-63\"/>\r\n      <use x=\"107.080078\" xlink:href=\"#DejaVuSans-6f\"/>\r\n      <use x=\"168.261719\" xlink:href=\"#DejaVuSans-72\"/>\r\n      <use x=\"207.125\" xlink:href=\"#DejaVuSans-65\"/>\r\n     </g>\r\n    </g>\r\n   </g>\r\n   <g id=\"matplotlib.axis_2\">\r\n    <g id=\"ytick_1\">\r\n     <g id=\"line2d_7\">\r\n      <defs>\r\n       <path d=\"M 0 0 \r\nL -3.5 0 \r\n\" id=\"m748e6a0009\" style=\"stroke:#000000;stroke-width:0.8;\"/>\r\n      </defs>\r\n      <g>\r\n       <use style=\"stroke:#000000;stroke-width:0.8;\" x=\"44.059375\" xlink:href=\"#m748e6a0009\" y=\"228.439219\"/>\r\n      </g>\r\n     </g>\r\n     <g id=\"text_8\">\r\n      <!-- 0.0 -->\r\n      <g transform=\"translate(21.15625 232.238437)scale(0.1 -0.1)\">\r\n       <defs>\r\n        <path d=\"M 684 794 \r\nL 1344 794 \r\nL 1344 0 \r\nL 684 0 \r\nL 684 794 \r\nz\r\n\" id=\"DejaVuSans-2e\" transform=\"scale(0.015625)\"/>\r\n       </defs>\r\n       <use xlink:href=\"#DejaVuSans-30\"/>\r\n       <use x=\"63.623047\" xlink:href=\"#DejaVuSans-2e\"/>\r\n       <use x=\"95.410156\" xlink:href=\"#DejaVuSans-30\"/>\r\n      </g>\r\n     </g>\r\n    </g>\r\n    <g id=\"ytick_2\">\r\n     <g id=\"line2d_8\">\r\n      <g>\r\n       <use style=\"stroke:#000000;stroke-width:0.8;\" x=\"44.059375\" xlink:href=\"#m748e6a0009\" y=\"184.951219\"/>\r\n      </g>\r\n     </g>\r\n     <g id=\"text_9\">\r\n      <!-- 0.2 -->\r\n      <g transform=\"translate(21.15625 188.750437)scale(0.1 -0.1)\">\r\n       <use xlink:href=\"#DejaVuSans-30\"/>\r\n       <use x=\"63.623047\" xlink:href=\"#DejaVuSans-2e\"/>\r\n       <use x=\"95.410156\" xlink:href=\"#DejaVuSans-32\"/>\r\n      </g>\r\n     </g>\r\n    </g>\r\n    <g id=\"ytick_3\">\r\n     <g id=\"line2d_9\">\r\n      <g>\r\n       <use style=\"stroke:#000000;stroke-width:0.8;\" x=\"44.059375\" xlink:href=\"#m748e6a0009\" y=\"141.463219\"/>\r\n      </g>\r\n     </g>\r\n     <g id=\"text_10\">\r\n      <!-- 0.4 -->\r\n      <g transform=\"translate(21.15625 145.262437)scale(0.1 -0.1)\">\r\n       <use xlink:href=\"#DejaVuSans-30\"/>\r\n       <use x=\"63.623047\" xlink:href=\"#DejaVuSans-2e\"/>\r\n       <use x=\"95.410156\" xlink:href=\"#DejaVuSans-34\"/>\r\n      </g>\r\n     </g>\r\n    </g>\r\n    <g id=\"ytick_4\">\r\n     <g id=\"line2d_10\">\r\n      <g>\r\n       <use style=\"stroke:#000000;stroke-width:0.8;\" x=\"44.059375\" xlink:href=\"#m748e6a0009\" y=\"97.975219\"/>\r\n      </g>\r\n     </g>\r\n     <g id=\"text_11\">\r\n      <!-- 0.6 -->\r\n      <g transform=\"translate(21.15625 101.774437)scale(0.1 -0.1)\">\r\n       <use xlink:href=\"#DejaVuSans-30\"/>\r\n       <use x=\"63.623047\" xlink:href=\"#DejaVuSans-2e\"/>\r\n       <use x=\"95.410156\" xlink:href=\"#DejaVuSans-36\"/>\r\n      </g>\r\n     </g>\r\n    </g>\r\n    <g id=\"ytick_5\">\r\n     <g id=\"line2d_11\">\r\n      <g>\r\n       <use style=\"stroke:#000000;stroke-width:0.8;\" x=\"44.059375\" xlink:href=\"#m748e6a0009\" y=\"54.487219\"/>\r\n      </g>\r\n     </g>\r\n     <g id=\"text_12\">\r\n      <!-- 0.8 -->\r\n      <g transform=\"translate(21.15625 58.286437)scale(0.1 -0.1)\">\r\n       <use xlink:href=\"#DejaVuSans-30\"/>\r\n       <use x=\"63.623047\" xlink:href=\"#DejaVuSans-2e\"/>\r\n       <use x=\"95.410156\" xlink:href=\"#DejaVuSans-38\"/>\r\n      </g>\r\n     </g>\r\n    </g>\r\n    <g id=\"ytick_6\">\r\n     <g id=\"line2d_12\">\r\n      <g>\r\n       <use style=\"stroke:#000000;stroke-width:0.8;\" x=\"44.059375\" xlink:href=\"#m748e6a0009\" y=\"10.999219\"/>\r\n      </g>\r\n     </g>\r\n     <g id=\"text_13\">\r\n      <!-- 1.0 -->\r\n      <g transform=\"translate(21.15625 14.798437)scale(0.1 -0.1)\">\r\n       <use xlink:href=\"#DejaVuSans-31\"/>\r\n       <use x=\"63.623047\" xlink:href=\"#DejaVuSans-2e\"/>\r\n       <use x=\"95.410156\" xlink:href=\"#DejaVuSans-30\"/>\r\n      </g>\r\n     </g>\r\n    </g>\r\n    <g id=\"text_14\">\r\n     <!-- perceptions_of_corruption -->\r\n     <g transform=\"translate(14.798438 184.666875)rotate(-90)scale(0.1 -0.1)\">\r\n      <defs>\r\n       <path d=\"M 1159 525 \r\nL 1159 -1331 \r\nL 581 -1331 \r\nL 581 3500 \r\nL 1159 3500 \r\nL 1159 2969 \r\nQ 1341 3281 1617 3432 \r\nQ 1894 3584 2278 3584 \r\nQ 2916 3584 3314 3078 \r\nQ 3713 2572 3713 1747 \r\nQ 3713 922 3314 415 \r\nQ 2916 -91 2278 -91 \r\nQ 1894 -91 1617 61 \r\nQ 1341 213 1159 525 \r\nz\r\nM 3116 1747 \r\nQ 3116 2381 2855 2742 \r\nQ 2594 3103 2138 3103 \r\nQ 1681 3103 1420 2742 \r\nQ 1159 2381 1159 1747 \r\nQ 1159 1113 1420 752 \r\nQ 1681 391 2138 391 \r\nQ 2594 391 2855 752 \r\nQ 3116 1113 3116 1747 \r\nz\r\n\" id=\"DejaVuSans-70\" transform=\"scale(0.015625)\"/>\r\n       <path d=\"M 1172 4494 \r\nL 1172 3500 \r\nL 2356 3500 \r\nL 2356 3053 \r\nL 1172 3053 \r\nL 1172 1153 \r\nQ 1172 725 1289 603 \r\nQ 1406 481 1766 481 \r\nL 2356 481 \r\nL 2356 0 \r\nL 1766 0 \r\nQ 1100 0 847 248 \r\nQ 594 497 594 1153 \r\nL 594 3053 \r\nL 172 3053 \r\nL 172 3500 \r\nL 594 3500 \r\nL 594 4494 \r\nL 1172 4494 \r\nz\r\n\" id=\"DejaVuSans-74\" transform=\"scale(0.015625)\"/>\r\n       <path d=\"M 603 3500 \r\nL 1178 3500 \r\nL 1178 0 \r\nL 603 0 \r\nL 603 3500 \r\nz\r\nM 603 4863 \r\nL 1178 4863 \r\nL 1178 4134 \r\nL 603 4134 \r\nL 603 4863 \r\nz\r\n\" id=\"DejaVuSans-69\" transform=\"scale(0.015625)\"/>\r\n       <path d=\"M 3513 2113 \r\nL 3513 0 \r\nL 2938 0 \r\nL 2938 2094 \r\nQ 2938 2591 2744 2837 \r\nQ 2550 3084 2163 3084 \r\nQ 1697 3084 1428 2787 \r\nQ 1159 2491 1159 1978 \r\nL 1159 0 \r\nL 581 0 \r\nL 581 3500 \r\nL 1159 3500 \r\nL 1159 2956 \r\nQ 1366 3272 1645 3428 \r\nQ 1925 3584 2291 3584 \r\nQ 2894 3584 3203 3211 \r\nQ 3513 2838 3513 2113 \r\nz\r\n\" id=\"DejaVuSans-6e\" transform=\"scale(0.015625)\"/>\r\n       <path d=\"M 3263 -1063 \r\nL 3263 -1509 \r\nL -63 -1509 \r\nL -63 -1063 \r\nL 3263 -1063 \r\nz\r\n\" id=\"DejaVuSans-5f\" transform=\"scale(0.015625)\"/>\r\n       <path d=\"M 2375 4863 \r\nL 2375 4384 \r\nL 1825 4384 \r\nQ 1516 4384 1395 4259 \r\nQ 1275 4134 1275 3809 \r\nL 1275 3500 \r\nL 2222 3500 \r\nL 2222 3053 \r\nL 1275 3053 \r\nL 1275 0 \r\nL 697 0 \r\nL 697 3053 \r\nL 147 3053 \r\nL 147 3500 \r\nL 697 3500 \r\nL 697 3744 \r\nQ 697 4328 969 4595 \r\nQ 1241 4863 1831 4863 \r\nL 2375 4863 \r\nz\r\n\" id=\"DejaVuSans-66\" transform=\"scale(0.015625)\"/>\r\n       <path d=\"M 544 1381 \r\nL 544 3500 \r\nL 1119 3500 \r\nL 1119 1403 \r\nQ 1119 906 1312 657 \r\nQ 1506 409 1894 409 \r\nQ 2359 409 2629 706 \r\nQ 2900 1003 2900 1516 \r\nL 2900 3500 \r\nL 3475 3500 \r\nL 3475 0 \r\nL 2900 0 \r\nL 2900 538 \r\nQ 2691 219 2414 64 \r\nQ 2138 -91 1772 -91 \r\nQ 1169 -91 856 284 \r\nQ 544 659 544 1381 \r\nz\r\nM 1991 3584 \r\nL 1991 3584 \r\nz\r\n\" id=\"DejaVuSans-75\" transform=\"scale(0.015625)\"/>\r\n      </defs>\r\n      <use xlink:href=\"#DejaVuSans-70\"/>\r\n      <use x=\"63.476562\" xlink:href=\"#DejaVuSans-65\"/>\r\n      <use x=\"125\" xlink:href=\"#DejaVuSans-72\"/>\r\n      <use x=\"163.863281\" xlink:href=\"#DejaVuSans-63\"/>\r\n      <use x=\"218.84375\" xlink:href=\"#DejaVuSans-65\"/>\r\n      <use x=\"280.367188\" xlink:href=\"#DejaVuSans-70\"/>\r\n      <use x=\"343.84375\" xlink:href=\"#DejaVuSans-74\"/>\r\n      <use x=\"383.052734\" xlink:href=\"#DejaVuSans-69\"/>\r\n      <use x=\"410.835938\" xlink:href=\"#DejaVuSans-6f\"/>\r\n      <use x=\"472.017578\" xlink:href=\"#DejaVuSans-6e\"/>\r\n      <use x=\"535.396484\" xlink:href=\"#DejaVuSans-73\"/>\r\n      <use x=\"587.496094\" xlink:href=\"#DejaVuSans-5f\"/>\r\n      <use x=\"637.496094\" xlink:href=\"#DejaVuSans-6f\"/>\r\n      <use x=\"698.677734\" xlink:href=\"#DejaVuSans-66\"/>\r\n      <use x=\"733.882812\" xlink:href=\"#DejaVuSans-5f\"/>\r\n      <use x=\"783.882812\" xlink:href=\"#DejaVuSans-63\"/>\r\n      <use x=\"838.863281\" xlink:href=\"#DejaVuSans-6f\"/>\r\n      <use x=\"900.044922\" xlink:href=\"#DejaVuSans-72\"/>\r\n      <use x=\"939.408203\" xlink:href=\"#DejaVuSans-72\"/>\r\n      <use x=\"980.521484\" xlink:href=\"#DejaVuSans-75\"/>\r\n      <use x=\"1043.900391\" xlink:href=\"#DejaVuSans-70\"/>\r\n      <use x=\"1107.376953\" xlink:href=\"#DejaVuSans-74\"/>\r\n      <use x=\"1146.585938\" xlink:href=\"#DejaVuSans-69\"/>\r\n      <use x=\"1174.369141\" xlink:href=\"#DejaVuSans-6f\"/>\r\n      <use x=\"1235.550781\" xlink:href=\"#DejaVuSans-6e\"/>\r\n     </g>\r\n    </g>\r\n   </g>\r\n   <g id=\"patch_3\">\r\n    <path d=\"M 44.059375 228.439219 \r\nL 44.059375 10.999219 \r\n\" style=\"fill:none;stroke:#000000;stroke-linecap:square;stroke-linejoin:miter;stroke-width:0.8;\"/>\r\n   </g>\r\n   <g id=\"patch_4\">\r\n    <path d=\"M 378.859375 228.439219 \r\nL 378.859375 10.999219 \r\n\" style=\"fill:none;stroke:#000000;stroke-linecap:square;stroke-linejoin:miter;stroke-width:0.8;\"/>\r\n   </g>\r\n   <g id=\"patch_5\">\r\n    <path d=\"M 44.059375 228.439219 \r\nL 378.859375 228.439219 \r\n\" style=\"fill:none;stroke:#000000;stroke-linecap:square;stroke-linejoin:miter;stroke-width:0.8;\"/>\r\n   </g>\r\n   <g id=\"patch_6\">\r\n    <path d=\"M 44.059375 10.999219 \r\nL 378.859375 10.999219 \r\n\" style=\"fill:none;stroke:#000000;stroke-linecap:square;stroke-linejoin:miter;stroke-width:0.8;\"/>\r\n   </g>\r\n   <g id=\"text_15\">\r\n    <!-- Iceland -->\r\n    <g transform=\"translate(296.967295 82.102099)scale(0.1 -0.1)\">\r\n     <defs>\r\n      <path d=\"M 628 4666 \r\nL 1259 4666 \r\nL 1259 0 \r\nL 628 0 \r\nL 628 4666 \r\nz\r\n\" id=\"DejaVuSans-49\" transform=\"scale(0.015625)\"/>\r\n      <path d=\"M 603 4863 \r\nL 1178 4863 \r\nL 1178 0 \r\nL 603 0 \r\nL 603 4863 \r\nz\r\n\" id=\"DejaVuSans-6c\" transform=\"scale(0.015625)\"/>\r\n      <path d=\"M 2194 1759 \r\nQ 1497 1759 1228 1600 \r\nQ 959 1441 959 1056 \r\nQ 959 750 1161 570 \r\nQ 1363 391 1709 391 \r\nQ 2188 391 2477 730 \r\nQ 2766 1069 2766 1631 \r\nL 2766 1759 \r\nL 2194 1759 \r\nz\r\nM 3341 1997 \r\nL 3341 0 \r\nL 2766 0 \r\nL 2766 531 \r\nQ 2569 213 2275 61 \r\nQ 1981 -91 1556 -91 \r\nQ 1019 -91 701 211 \r\nQ 384 513 384 1019 \r\nQ 384 1609 779 1909 \r\nQ 1175 2209 1959 2209 \r\nL 2766 2209 \r\nL 2766 2266 \r\nQ 2766 2663 2505 2880 \r\nQ 2244 3097 1772 3097 \r\nQ 1472 3097 1187 3025 \r\nQ 903 2953 641 2809 \r\nL 641 3341 \r\nQ 956 3463 1253 3523 \r\nQ 1550 3584 1831 3584 \r\nQ 2591 3584 2966 3190 \r\nQ 3341 2797 3341 1997 \r\nz\r\n\" id=\"DejaVuSans-61\" transform=\"scale(0.015625)\"/>\r\n      <path d=\"M 2906 2969 \r\nL 2906 4863 \r\nL 3481 4863 \r\nL 3481 0 \r\nL 2906 0 \r\nL 2906 525 \r\nQ 2725 213 2448 61 \r\nQ 2172 -91 1784 -91 \r\nQ 1150 -91 751 415 \r\nQ 353 922 353 1747 \r\nQ 353 2572 751 3078 \r\nQ 1150 3584 1784 3584 \r\nQ 2172 3584 2448 3432 \r\nQ 2725 3281 2906 2969 \r\nz\r\nM 947 1747 \r\nQ 947 1113 1208 752 \r\nQ 1469 391 1925 391 \r\nQ 2381 391 2643 752 \r\nQ 2906 1113 2906 1747 \r\nQ 2906 2381 2643 2742 \r\nQ 2381 3103 1925 3103 \r\nQ 1469 3103 1208 2742 \r\nQ 947 2381 947 1747 \r\nz\r\n\" id=\"DejaVuSans-64\" transform=\"scale(0.015625)\"/>\r\n     </defs>\r\n     <use xlink:href=\"#DejaVuSans-49\"/>\r\n     <use x=\"29.492188\" xlink:href=\"#DejaVuSans-63\"/>\r\n     <use x=\"84.472656\" xlink:href=\"#DejaVuSans-65\"/>\r\n     <use x=\"145.996094\" xlink:href=\"#DejaVuSans-6c\"/>\r\n     <use x=\"173.779297\" xlink:href=\"#DejaVuSans-61\"/>\r\n     <use x=\"235.058594\" xlink:href=\"#DejaVuSans-6e\"/>\r\n     <use x=\"298.4375\" xlink:href=\"#DejaVuSans-64\"/>\r\n    </g>\r\n   </g>\r\n  </g>\r\n </g>\r\n <defs>\r\n  <clipPath id=\"pf2cfd12d38\">\r\n   <rect height=\"217.44\" width=\"334.8\" x=\"44.059375\" y=\"10.999219\"/>\r\n  </clipPath>\r\n </defs>\r\n</svg>\r\n",
      "image/png": "[encoded data removed]"
     },
     "metadata": {
      "needs_background": "light"
     }
    }
   ],
   "source": [
    "top10_happy.plot(kind = 'scatter', x = 'score', y = 'perceptions_of_corruption').set(xlim =(0, 10), ylim =(0, 1))\n",
    "plt.annotate(\"Iceland\", (7.554, 0.673))"
   ]
  },
  {
   "cell_type": "code",
   "execution_count": 100,
   "id": "bc8ab153",
   "metadata": {},
   "outputs": [
    {
     "output_type": "execute_result",
     "data": {
      "text/plain": [
       "       country                 region  score  log_gdp_cap  social_support  \\\n",
       "3      Iceland         Western Europe  7.554       10.878           0.983   \n",
       "9      Austria         Western Europe  7.268       10.906           0.934   \n",
       "7   Luxembourg         Western Europe  7.324       11.647           0.908   \n",
       "4  Netherlands         Western Europe  7.464       10.932           0.942   \n",
       "2  Switzerland         Western Europe  7.571       11.117           0.942   \n",
       "5       Norway         Western Europe  7.392       11.053           0.954   \n",
       "8  New Zealand  North America and ANZ  7.277       10.643           0.948   \n",
       "6       Sweden         Western Europe  7.363       10.867           0.934   \n",
       "0      Finland         Western Europe  7.842       10.775           0.954   \n",
       "1      Denmark         Western Europe  7.620       10.933           0.954   \n",
       "\n",
       "   life_expectancy  freedom_to_make_life_choices  generosity  \\\n",
       "3             73.0                         0.955       0.160   \n",
       "9             73.3                         0.908       0.042   \n",
       "7             72.6                         0.907      -0.034   \n",
       "4             72.4                         0.913       0.175   \n",
       "2             74.4                         0.919       0.025   \n",
       "5             73.3                         0.960       0.093   \n",
       "8             73.4                         0.929       0.134   \n",
       "6             72.7                         0.945       0.086   \n",
       "0             72.0                         0.949      -0.098   \n",
       "1             72.7                         0.946       0.030   \n",
       "\n",
       "   perceptions_of_corruption  ti_corrupt_harmonized  covid_deaths  \\\n",
       "3                      0.673                   0.25          29.0   \n",
       "9                      0.481                   0.24        6222.0   \n",
       "7                      0.386                   0.20         495.0   \n",
       "4                      0.338                   0.18       11432.0   \n",
       "2                      0.292                   0.15        7645.0   \n",
       "5                      0.270                   0.16         436.0   \n",
       "8                      0.242                   0.12          25.0   \n",
       "6                      0.237                   0.15        8727.0   \n",
       "0                      0.186                   0.15         561.0   \n",
       "1                      0.179                   0.12        1298.0   \n",
       "\n",
       "   covid_cases     pop_2020   death_100k  cases_100k  oecd  \n",
       "3       5754.0      363,000         7.99     1585.12     1  \n",
       "9     360815.0    8,915,000        69.79     4047.28     1  \n",
       "7      46415.0      629,000        78.70     7379.17     1  \n",
       "4     796981.0   17,380,000        65.78     4585.62     1  \n",
       "2     452296.0    8,633,000        88.56     5239.15     1  \n",
       "5      49567.0    5,391,000         8.09      919.44     1  \n",
       "8       2162.0    5,018,000         0.50       43.08     1  \n",
       "6     437379.0   10,340,000        84.40     4229.97     1  \n",
       "0      36107.0    5,529,000        10.15      653.05     1  \n",
       "1     163479.0    5,834,000        22.25     2802.18     1  "
      ],
      "text/html": "<div>\n<style scoped>\n    .dataframe tbody tr th:only-of-type {\n        vertical-align: middle;\n    }\n\n    .dataframe tbody tr th {\n        vertical-align: top;\n    }\n\n    .dataframe thead th {\n        text-align: right;\n    }\n</style>\n<table border=\"1\" class=\"dataframe\">\n  <thead>\n    <tr style=\"text-align: right;\">\n      <th></th>\n      <th>country</th>\n      <th>region</th>\n      <th>score</th>\n      <th>log_gdp_cap</th>\n      <th>social_support</th>\n      <th>life_expectancy</th>\n      <th>freedom_to_make_life_choices</th>\n      <th>generosity</th>\n      <th>perceptions_of_corruption</th>\n      <th>ti_corrupt_harmonized</th>\n      <th>covid_deaths</th>\n      <th>covid_cases</th>\n      <th>pop_2020</th>\n      <th>death_100k</th>\n      <th>cases_100k</th>\n      <th>oecd</th>\n    </tr>\n  </thead>\n  <tbody>\n    <tr>\n      <th>3</th>\n      <td>Iceland</td>\n      <td>Western Europe</td>\n      <td>7.554</td>\n      <td>10.878</td>\n      <td>0.983</td>\n      <td>73.0</td>\n      <td>0.955</td>\n      <td>0.160</td>\n      <td>0.673</td>\n      <td>0.25</td>\n      <td>29.0</td>\n      <td>5754.0</td>\n      <td>363,000</td>\n      <td>7.99</td>\n      <td>1585.12</td>\n      <td>1</td>\n    </tr>\n    <tr>\n      <th>9</th>\n      <td>Austria</td>\n      <td>Western Europe</td>\n      <td>7.268</td>\n      <td>10.906</td>\n      <td>0.934</td>\n      <td>73.3</td>\n      <td>0.908</td>\n      <td>0.042</td>\n      <td>0.481</td>\n      <td>0.24</td>\n      <td>6222.0</td>\n      <td>360815.0</td>\n      <td>8,915,000</td>\n      <td>69.79</td>\n      <td>4047.28</td>\n      <td>1</td>\n    </tr>\n    <tr>\n      <th>7</th>\n      <td>Luxembourg</td>\n      <td>Western Europe</td>\n      <td>7.324</td>\n      <td>11.647</td>\n      <td>0.908</td>\n      <td>72.6</td>\n      <td>0.907</td>\n      <td>-0.034</td>\n      <td>0.386</td>\n      <td>0.20</td>\n      <td>495.0</td>\n      <td>46415.0</td>\n      <td>629,000</td>\n      <td>78.70</td>\n      <td>7379.17</td>\n      <td>1</td>\n    </tr>\n    <tr>\n      <th>4</th>\n      <td>Netherlands</td>\n      <td>Western Europe</td>\n      <td>7.464</td>\n      <td>10.932</td>\n      <td>0.942</td>\n      <td>72.4</td>\n      <td>0.913</td>\n      <td>0.175</td>\n      <td>0.338</td>\n      <td>0.18</td>\n      <td>11432.0</td>\n      <td>796981.0</td>\n      <td>17,380,000</td>\n      <td>65.78</td>\n      <td>4585.62</td>\n      <td>1</td>\n    </tr>\n    <tr>\n      <th>2</th>\n      <td>Switzerland</td>\n      <td>Western Europe</td>\n      <td>7.571</td>\n      <td>11.117</td>\n      <td>0.942</td>\n      <td>74.4</td>\n      <td>0.919</td>\n      <td>0.025</td>\n      <td>0.292</td>\n      <td>0.15</td>\n      <td>7645.0</td>\n      <td>452296.0</td>\n      <td>8,633,000</td>\n      <td>88.56</td>\n      <td>5239.15</td>\n      <td>1</td>\n    </tr>\n    <tr>\n      <th>5</th>\n      <td>Norway</td>\n      <td>Western Europe</td>\n      <td>7.392</td>\n      <td>11.053</td>\n      <td>0.954</td>\n      <td>73.3</td>\n      <td>0.960</td>\n      <td>0.093</td>\n      <td>0.270</td>\n      <td>0.16</td>\n      <td>436.0</td>\n      <td>49567.0</td>\n      <td>5,391,000</td>\n      <td>8.09</td>\n      <td>919.44</td>\n      <td>1</td>\n    </tr>\n    <tr>\n      <th>8</th>\n      <td>New Zealand</td>\n      <td>North America and ANZ</td>\n      <td>7.277</td>\n      <td>10.643</td>\n      <td>0.948</td>\n      <td>73.4</td>\n      <td>0.929</td>\n      <td>0.134</td>\n      <td>0.242</td>\n      <td>0.12</td>\n      <td>25.0</td>\n      <td>2162.0</td>\n      <td>5,018,000</td>\n      <td>0.50</td>\n      <td>43.08</td>\n      <td>1</td>\n    </tr>\n    <tr>\n      <th>6</th>\n      <td>Sweden</td>\n      <td>Western Europe</td>\n      <td>7.363</td>\n      <td>10.867</td>\n      <td>0.934</td>\n      <td>72.7</td>\n      <td>0.945</td>\n      <td>0.086</td>\n      <td>0.237</td>\n      <td>0.15</td>\n      <td>8727.0</td>\n      <td>437379.0</td>\n      <td>10,340,000</td>\n      <td>84.40</td>\n      <td>4229.97</td>\n      <td>1</td>\n    </tr>\n    <tr>\n      <th>0</th>\n      <td>Finland</td>\n      <td>Western Europe</td>\n      <td>7.842</td>\n      <td>10.775</td>\n      <td>0.954</td>\n      <td>72.0</td>\n      <td>0.949</td>\n      <td>-0.098</td>\n      <td>0.186</td>\n      <td>0.15</td>\n      <td>561.0</td>\n      <td>36107.0</td>\n      <td>5,529,000</td>\n      <td>10.15</td>\n      <td>653.05</td>\n      <td>1</td>\n    </tr>\n    <tr>\n      <th>1</th>\n      <td>Denmark</td>\n      <td>Western Europe</td>\n      <td>7.620</td>\n      <td>10.933</td>\n      <td>0.954</td>\n      <td>72.7</td>\n      <td>0.946</td>\n      <td>0.030</td>\n      <td>0.179</td>\n      <td>0.12</td>\n      <td>1298.0</td>\n      <td>163479.0</td>\n      <td>5,834,000</td>\n      <td>22.25</td>\n      <td>2802.18</td>\n      <td>1</td>\n    </tr>\n  </tbody>\n</table>\n</div>"
     },
     "metadata": {},
     "execution_count": 100
    }
   ],
   "source": [
    "top10_happy_corrupt = top10_happy.sort_values(by = 'perceptions_of_corruption', ascending = False).head(10)\n",
    "top10_happy_corrupt"
   ]
  },
  {
   "cell_type": "code",
   "execution_count": 101,
   "id": "63d09d39",
   "metadata": {},
   "outputs": [
    {
     "output_type": "execute_result",
     "data": {
      "text/plain": [
       "Text(0.25, 0.673, 'Iceland')"
      ]
     },
     "metadata": {},
     "execution_count": 101
    },
    {
     "output_type": "display_data",
     "data": {
      "text/plain": "<Figure size 432x288 with 1 Axes>",
      "image/svg+xml": "<?xml version=\"1.0\" encoding=\"utf-8\" standalone=\"no\"?>\r\n<!DOCTYPE svg PUBLIC \"-//W3C//DTD SVG 1.1//EN\"\r\n  \"http://www.w3.org/Graphics/SVG/1.1/DTD/svg11.dtd\">\r\n<svg height=\"266.273594pt\" version=\"1.1\" viewBox=\"0 0 394.010937 266.273594\" width=\"394.010937pt\" xmlns=\"http://www.w3.org/2000/svg\" xmlns:xlink=\"http://www.w3.org/1999/xlink\">\r\n <metadata>\r\n  <rdf:RDF xmlns:cc=\"http://creativecommons.org/ns#\" xmlns:dc=\"http://purl.org/dc/elements/1.1/\" xmlns:rdf=\"http://www.w3.org/1999/02/22-rdf-syntax-ns#\">\r\n   <cc:Work>\r\n    <dc:type rdf:resource=\"http://purl.org/dc/dcmitype/StillImage\"/>\r\n    <dc:date>2021-06-25T10:19:44.643270</dc:date>\r\n    <dc:format>image/svg+xml</dc:format>\r\n    <dc:creator>\r\n     <cc:Agent>\r\n      <dc:title>Matplotlib v3.4.2, https://matplotlib.org/</dc:title>\r\n     </cc:Agent>\r\n    </dc:creator>\r\n   </cc:Work>\r\n  </rdf:RDF>\r\n </metadata>\r\n <defs>\r\n  <style type=\"text/css\">*{stroke-linecap:butt;stroke-linejoin:round;}</style>\r\n </defs>\r\n <g id=\"figure_1\">\r\n  <g id=\"patch_1\">\r\n   <path d=\"M 0 266.273594 \r\nL 394.010937 266.273594 \r\nL 394.010937 0 \r\nL 0 0 \r\nz\r\n\" style=\"fill:none;\"/>\r\n  </g>\r\n  <g id=\"axes_1\">\r\n   <g id=\"patch_2\">\r\n    <path d=\"M 44.059375 228.439219 \r\nL 378.859375 228.439219 \r\nL 378.859375 10.999219 \r\nL 44.059375 10.999219 \r\nz\r\n\" style=\"fill:#ffffff;\"/>\r\n   </g>\r\n   <g id=\"PathCollection_1\">\r\n    <defs>\r\n     <path d=\"M 0 2.236068 \r\nC 0.593012 2.236068 1.161816 2.000462 1.581139 1.581139 \r\nC 2.000462 1.161816 2.236068 0.593012 2.236068 0 \r\nC 2.236068 -0.593012 2.000462 -1.161816 1.581139 -1.581139 \r\nC 1.161816 -2.000462 0.593012 -2.236068 0 -2.236068 \r\nC -0.593012 -2.236068 -1.161816 -2.000462 -1.581139 -1.581139 \r\nC -2.000462 -1.161816 -2.236068 -0.593012 -2.236068 0 \r\nC -2.236068 0.593012 -2.000462 1.161816 -1.581139 1.581139 \r\nC -1.161816 2.000462 -0.593012 2.236068 0 2.236068 \r\nz\r\n\" id=\"m825a7b31d0\" style=\"stroke:#1f77b4;\"/>\r\n    </defs>\r\n    <g clip-path=\"url(#p57e3376505)\">\r\n     <use style=\"fill:#1f77b4;stroke:#1f77b4;\" x=\"127.759375\" xlink:href=\"#m825a7b31d0\" y=\"82.102099\"/>\r\n     <use style=\"fill:#1f77b4;stroke:#1f77b4;\" x=\"124.411375\" xlink:href=\"#m825a7b31d0\" y=\"123.850579\"/>\r\n     <use style=\"fill:#1f77b4;stroke:#1f77b4;\" x=\"111.019375\" xlink:href=\"#m825a7b31d0\" y=\"144.507379\"/>\r\n     <use style=\"fill:#1f77b4;stroke:#1f77b4;\" x=\"104.323375\" xlink:href=\"#m825a7b31d0\" y=\"154.944499\"/>\r\n     <use style=\"fill:#1f77b4;stroke:#1f77b4;\" x=\"94.279375\" xlink:href=\"#m825a7b31d0\" y=\"164.946739\"/>\r\n     <use style=\"fill:#1f77b4;stroke:#1f77b4;\" x=\"97.627375\" xlink:href=\"#m825a7b31d0\" y=\"169.730419\"/>\r\n     <use style=\"fill:#1f77b4;stroke:#1f77b4;\" x=\"84.235375\" xlink:href=\"#m825a7b31d0\" y=\"175.818739\"/>\r\n     <use style=\"fill:#1f77b4;stroke:#1f77b4;\" x=\"94.279375\" xlink:href=\"#m825a7b31d0\" y=\"176.905939\"/>\r\n     <use style=\"fill:#1f77b4;stroke:#1f77b4;\" x=\"94.279375\" xlink:href=\"#m825a7b31d0\" y=\"187.995379\"/>\r\n     <use style=\"fill:#1f77b4;stroke:#1f77b4;\" x=\"84.235375\" xlink:href=\"#m825a7b31d0\" y=\"189.517459\"/>\r\n    </g>\r\n   </g>\r\n   <g id=\"matplotlib.axis_1\">\r\n    <g id=\"xtick_1\">\r\n     <g id=\"line2d_1\">\r\n      <defs>\r\n       <path d=\"M 0 0 \r\nL 0 3.5 \r\n\" id=\"me6be152fb3\" style=\"stroke:#000000;stroke-width:0.8;\"/>\r\n      </defs>\r\n      <g>\r\n       <use style=\"stroke:#000000;stroke-width:0.8;\" x=\"44.059375\" xlink:href=\"#me6be152fb3\" y=\"228.439219\"/>\r\n      </g>\r\n     </g>\r\n     <g id=\"text_1\">\r\n      <!-- 0.0 -->\r\n      <g transform=\"translate(36.107813 243.037656)scale(0.1 -0.1)\">\r\n       <defs>\r\n        <path d=\"M 2034 4250 \r\nQ 1547 4250 1301 3770 \r\nQ 1056 3291 1056 2328 \r\nQ 1056 1369 1301 889 \r\nQ 1547 409 2034 409 \r\nQ 2525 409 2770 889 \r\nQ 3016 1369 3016 2328 \r\nQ 3016 3291 2770 3770 \r\nQ 2525 4250 2034 4250 \r\nz\r\nM 2034 4750 \r\nQ 2819 4750 3233 4129 \r\nQ 3647 3509 3647 2328 \r\nQ 3647 1150 3233 529 \r\nQ 2819 -91 2034 -91 \r\nQ 1250 -91 836 529 \r\nQ 422 1150 422 2328 \r\nQ 422 3509 836 4129 \r\nQ 1250 4750 2034 4750 \r\nz\r\n\" id=\"DejaVuSans-30\" transform=\"scale(0.015625)\"/>\r\n        <path d=\"M 684 794 \r\nL 1344 794 \r\nL 1344 0 \r\nL 684 0 \r\nL 684 794 \r\nz\r\n\" id=\"DejaVuSans-2e\" transform=\"scale(0.015625)\"/>\r\n       </defs>\r\n       <use xlink:href=\"#DejaVuSans-30\"/>\r\n       <use x=\"63.623047\" xlink:href=\"#DejaVuSans-2e\"/>\r\n       <use x=\"95.410156\" xlink:href=\"#DejaVuSans-30\"/>\r\n      </g>\r\n     </g>\r\n    </g>\r\n    <g id=\"xtick_2\">\r\n     <g id=\"line2d_2\">\r\n      <g>\r\n       <use style=\"stroke:#000000;stroke-width:0.8;\" x=\"111.019375\" xlink:href=\"#me6be152fb3\" y=\"228.439219\"/>\r\n      </g>\r\n     </g>\r\n     <g id=\"text_2\">\r\n      <!-- 0.2 -->\r\n      <g transform=\"translate(103.067813 243.037656)scale(0.1 -0.1)\">\r\n       <defs>\r\n        <path d=\"M 1228 531 \r\nL 3431 531 \r\nL 3431 0 \r\nL 469 0 \r\nL 469 531 \r\nQ 828 903 1448 1529 \r\nQ 2069 2156 2228 2338 \r\nQ 2531 2678 2651 2914 \r\nQ 2772 3150 2772 3378 \r\nQ 2772 3750 2511 3984 \r\nQ 2250 4219 1831 4219 \r\nQ 1534 4219 1204 4116 \r\nQ 875 4013 500 3803 \r\nL 500 4441 \r\nQ 881 4594 1212 4672 \r\nQ 1544 4750 1819 4750 \r\nQ 2544 4750 2975 4387 \r\nQ 3406 4025 3406 3419 \r\nQ 3406 3131 3298 2873 \r\nQ 3191 2616 2906 2266 \r\nQ 2828 2175 2409 1742 \r\nQ 1991 1309 1228 531 \r\nz\r\n\" id=\"DejaVuSans-32\" transform=\"scale(0.015625)\"/>\r\n       </defs>\r\n       <use xlink:href=\"#DejaVuSans-30\"/>\r\n       <use x=\"63.623047\" xlink:href=\"#DejaVuSans-2e\"/>\r\n       <use x=\"95.410156\" xlink:href=\"#DejaVuSans-32\"/>\r\n      </g>\r\n     </g>\r\n    </g>\r\n    <g id=\"xtick_3\">\r\n     <g id=\"line2d_3\">\r\n      <g>\r\n       <use style=\"stroke:#000000;stroke-width:0.8;\" x=\"177.979375\" xlink:href=\"#me6be152fb3\" y=\"228.439219\"/>\r\n      </g>\r\n     </g>\r\n     <g id=\"text_3\">\r\n      <!-- 0.4 -->\r\n      <g transform=\"translate(170.027813 243.037656)scale(0.1 -0.1)\">\r\n       <defs>\r\n        <path d=\"M 2419 4116 \r\nL 825 1625 \r\nL 2419 1625 \r\nL 2419 4116 \r\nz\r\nM 2253 4666 \r\nL 3047 4666 \r\nL 3047 1625 \r\nL 3713 1625 \r\nL 3713 1100 \r\nL 3047 1100 \r\nL 3047 0 \r\nL 2419 0 \r\nL 2419 1100 \r\nL 313 1100 \r\nL 313 1709 \r\nL 2253 4666 \r\nz\r\n\" id=\"DejaVuSans-34\" transform=\"scale(0.015625)\"/>\r\n       </defs>\r\n       <use xlink:href=\"#DejaVuSans-30\"/>\r\n       <use x=\"63.623047\" xlink:href=\"#DejaVuSans-2e\"/>\r\n       <use x=\"95.410156\" xlink:href=\"#DejaVuSans-34\"/>\r\n      </g>\r\n     </g>\r\n    </g>\r\n    <g id=\"xtick_4\">\r\n     <g id=\"line2d_4\">\r\n      <g>\r\n       <use style=\"stroke:#000000;stroke-width:0.8;\" x=\"244.939375\" xlink:href=\"#me6be152fb3\" y=\"228.439219\"/>\r\n      </g>\r\n     </g>\r\n     <g id=\"text_4\">\r\n      <!-- 0.6 -->\r\n      <g transform=\"translate(236.987813 243.037656)scale(0.1 -0.1)\">\r\n       <defs>\r\n        <path d=\"M 2113 2584 \r\nQ 1688 2584 1439 2293 \r\nQ 1191 2003 1191 1497 \r\nQ 1191 994 1439 701 \r\nQ 1688 409 2113 409 \r\nQ 2538 409 2786 701 \r\nQ 3034 994 3034 1497 \r\nQ 3034 2003 2786 2293 \r\nQ 2538 2584 2113 2584 \r\nz\r\nM 3366 4563 \r\nL 3366 3988 \r\nQ 3128 4100 2886 4159 \r\nQ 2644 4219 2406 4219 \r\nQ 1781 4219 1451 3797 \r\nQ 1122 3375 1075 2522 \r\nQ 1259 2794 1537 2939 \r\nQ 1816 3084 2150 3084 \r\nQ 2853 3084 3261 2657 \r\nQ 3669 2231 3669 1497 \r\nQ 3669 778 3244 343 \r\nQ 2819 -91 2113 -91 \r\nQ 1303 -91 875 529 \r\nQ 447 1150 447 2328 \r\nQ 447 3434 972 4092 \r\nQ 1497 4750 2381 4750 \r\nQ 2619 4750 2861 4703 \r\nQ 3103 4656 3366 4563 \r\nz\r\n\" id=\"DejaVuSans-36\" transform=\"scale(0.015625)\"/>\r\n       </defs>\r\n       <use xlink:href=\"#DejaVuSans-30\"/>\r\n       <use x=\"63.623047\" xlink:href=\"#DejaVuSans-2e\"/>\r\n       <use x=\"95.410156\" xlink:href=\"#DejaVuSans-36\"/>\r\n      </g>\r\n     </g>\r\n    </g>\r\n    <g id=\"xtick_5\">\r\n     <g id=\"line2d_5\">\r\n      <g>\r\n       <use style=\"stroke:#000000;stroke-width:0.8;\" x=\"311.899375\" xlink:href=\"#me6be152fb3\" y=\"228.439219\"/>\r\n      </g>\r\n     </g>\r\n     <g id=\"text_5\">\r\n      <!-- 0.8 -->\r\n      <g transform=\"translate(303.947812 243.037656)scale(0.1 -0.1)\">\r\n       <defs>\r\n        <path d=\"M 2034 2216 \r\nQ 1584 2216 1326 1975 \r\nQ 1069 1734 1069 1313 \r\nQ 1069 891 1326 650 \r\nQ 1584 409 2034 409 \r\nQ 2484 409 2743 651 \r\nQ 3003 894 3003 1313 \r\nQ 3003 1734 2745 1975 \r\nQ 2488 2216 2034 2216 \r\nz\r\nM 1403 2484 \r\nQ 997 2584 770 2862 \r\nQ 544 3141 544 3541 \r\nQ 544 4100 942 4425 \r\nQ 1341 4750 2034 4750 \r\nQ 2731 4750 3128 4425 \r\nQ 3525 4100 3525 3541 \r\nQ 3525 3141 3298 2862 \r\nQ 3072 2584 2669 2484 \r\nQ 3125 2378 3379 2068 \r\nQ 3634 1759 3634 1313 \r\nQ 3634 634 3220 271 \r\nQ 2806 -91 2034 -91 \r\nQ 1263 -91 848 271 \r\nQ 434 634 434 1313 \r\nQ 434 1759 690 2068 \r\nQ 947 2378 1403 2484 \r\nz\r\nM 1172 3481 \r\nQ 1172 3119 1398 2916 \r\nQ 1625 2713 2034 2713 \r\nQ 2441 2713 2670 2916 \r\nQ 2900 3119 2900 3481 \r\nQ 2900 3844 2670 4047 \r\nQ 2441 4250 2034 4250 \r\nQ 1625 4250 1398 4047 \r\nQ 1172 3844 1172 3481 \r\nz\r\n\" id=\"DejaVuSans-38\" transform=\"scale(0.015625)\"/>\r\n       </defs>\r\n       <use xlink:href=\"#DejaVuSans-30\"/>\r\n       <use x=\"63.623047\" xlink:href=\"#DejaVuSans-2e\"/>\r\n       <use x=\"95.410156\" xlink:href=\"#DejaVuSans-38\"/>\r\n      </g>\r\n     </g>\r\n    </g>\r\n    <g id=\"xtick_6\">\r\n     <g id=\"line2d_6\">\r\n      <g>\r\n       <use style=\"stroke:#000000;stroke-width:0.8;\" x=\"378.859375\" xlink:href=\"#me6be152fb3\" y=\"228.439219\"/>\r\n      </g>\r\n     </g>\r\n     <g id=\"text_6\">\r\n      <!-- 1.0 -->\r\n      <g transform=\"translate(370.907812 243.037656)scale(0.1 -0.1)\">\r\n       <defs>\r\n        <path d=\"M 794 531 \r\nL 1825 531 \r\nL 1825 4091 \r\nL 703 3866 \r\nL 703 4441 \r\nL 1819 4666 \r\nL 2450 4666 \r\nL 2450 531 \r\nL 3481 531 \r\nL 3481 0 \r\nL 794 0 \r\nL 794 531 \r\nz\r\n\" id=\"DejaVuSans-31\" transform=\"scale(0.015625)\"/>\r\n       </defs>\r\n       <use xlink:href=\"#DejaVuSans-31\"/>\r\n       <use x=\"63.623047\" xlink:href=\"#DejaVuSans-2e\"/>\r\n       <use x=\"95.410156\" xlink:href=\"#DejaVuSans-30\"/>\r\n      </g>\r\n     </g>\r\n    </g>\r\n    <g id=\"text_7\">\r\n     <!-- ti_corrupt_harmonized -->\r\n     <g transform=\"translate(155.411719 256.715781)scale(0.1 -0.1)\">\r\n      <defs>\r\n       <path d=\"M 1172 4494 \r\nL 1172 3500 \r\nL 2356 3500 \r\nL 2356 3053 \r\nL 1172 3053 \r\nL 1172 1153 \r\nQ 1172 725 1289 603 \r\nQ 1406 481 1766 481 \r\nL 2356 481 \r\nL 2356 0 \r\nL 1766 0 \r\nQ 1100 0 847 248 \r\nQ 594 497 594 1153 \r\nL 594 3053 \r\nL 172 3053 \r\nL 172 3500 \r\nL 594 3500 \r\nL 594 4494 \r\nL 1172 4494 \r\nz\r\n\" id=\"DejaVuSans-74\" transform=\"scale(0.015625)\"/>\r\n       <path d=\"M 603 3500 \r\nL 1178 3500 \r\nL 1178 0 \r\nL 603 0 \r\nL 603 3500 \r\nz\r\nM 603 4863 \r\nL 1178 4863 \r\nL 1178 4134 \r\nL 603 4134 \r\nL 603 4863 \r\nz\r\n\" id=\"DejaVuSans-69\" transform=\"scale(0.015625)\"/>\r\n       <path d=\"M 3263 -1063 \r\nL 3263 -1509 \r\nL -63 -1509 \r\nL -63 -1063 \r\nL 3263 -1063 \r\nz\r\n\" id=\"DejaVuSans-5f\" transform=\"scale(0.015625)\"/>\r\n       <path d=\"M 3122 3366 \r\nL 3122 2828 \r\nQ 2878 2963 2633 3030 \r\nQ 2388 3097 2138 3097 \r\nQ 1578 3097 1268 2742 \r\nQ 959 2388 959 1747 \r\nQ 959 1106 1268 751 \r\nQ 1578 397 2138 397 \r\nQ 2388 397 2633 464 \r\nQ 2878 531 3122 666 \r\nL 3122 134 \r\nQ 2881 22 2623 -34 \r\nQ 2366 -91 2075 -91 \r\nQ 1284 -91 818 406 \r\nQ 353 903 353 1747 \r\nQ 353 2603 823 3093 \r\nQ 1294 3584 2113 3584 \r\nQ 2378 3584 2631 3529 \r\nQ 2884 3475 3122 3366 \r\nz\r\n\" id=\"DejaVuSans-63\" transform=\"scale(0.015625)\"/>\r\n       <path d=\"M 1959 3097 \r\nQ 1497 3097 1228 2736 \r\nQ 959 2375 959 1747 \r\nQ 959 1119 1226 758 \r\nQ 1494 397 1959 397 \r\nQ 2419 397 2687 759 \r\nQ 2956 1122 2956 1747 \r\nQ 2956 2369 2687 2733 \r\nQ 2419 3097 1959 3097 \r\nz\r\nM 1959 3584 \r\nQ 2709 3584 3137 3096 \r\nQ 3566 2609 3566 1747 \r\nQ 3566 888 3137 398 \r\nQ 2709 -91 1959 -91 \r\nQ 1206 -91 779 398 \r\nQ 353 888 353 1747 \r\nQ 353 2609 779 3096 \r\nQ 1206 3584 1959 3584 \r\nz\r\n\" id=\"DejaVuSans-6f\" transform=\"scale(0.015625)\"/>\r\n       <path d=\"M 2631 2963 \r\nQ 2534 3019 2420 3045 \r\nQ 2306 3072 2169 3072 \r\nQ 1681 3072 1420 2755 \r\nQ 1159 2438 1159 1844 \r\nL 1159 0 \r\nL 581 0 \r\nL 581 3500 \r\nL 1159 3500 \r\nL 1159 2956 \r\nQ 1341 3275 1631 3429 \r\nQ 1922 3584 2338 3584 \r\nQ 2397 3584 2469 3576 \r\nQ 2541 3569 2628 3553 \r\nL 2631 2963 \r\nz\r\n\" id=\"DejaVuSans-72\" transform=\"scale(0.015625)\"/>\r\n       <path d=\"M 544 1381 \r\nL 544 3500 \r\nL 1119 3500 \r\nL 1119 1403 \r\nQ 1119 906 1312 657 \r\nQ 1506 409 1894 409 \r\nQ 2359 409 2629 706 \r\nQ 2900 1003 2900 1516 \r\nL 2900 3500 \r\nL 3475 3500 \r\nL 3475 0 \r\nL 2900 0 \r\nL 2900 538 \r\nQ 2691 219 2414 64 \r\nQ 2138 -91 1772 -91 \r\nQ 1169 -91 856 284 \r\nQ 544 659 544 1381 \r\nz\r\nM 1991 3584 \r\nL 1991 3584 \r\nz\r\n\" id=\"DejaVuSans-75\" transform=\"scale(0.015625)\"/>\r\n       <path d=\"M 1159 525 \r\nL 1159 -1331 \r\nL 581 -1331 \r\nL 581 3500 \r\nL 1159 3500 \r\nL 1159 2969 \r\nQ 1341 3281 1617 3432 \r\nQ 1894 3584 2278 3584 \r\nQ 2916 3584 3314 3078 \r\nQ 3713 2572 3713 1747 \r\nQ 3713 922 3314 415 \r\nQ 2916 -91 2278 -91 \r\nQ 1894 -91 1617 61 \r\nQ 1341 213 1159 525 \r\nz\r\nM 3116 1747 \r\nQ 3116 2381 2855 2742 \r\nQ 2594 3103 2138 3103 \r\nQ 1681 3103 1420 2742 \r\nQ 1159 2381 1159 1747 \r\nQ 1159 1113 1420 752 \r\nQ 1681 391 2138 391 \r\nQ 2594 391 2855 752 \r\nQ 3116 1113 3116 1747 \r\nz\r\n\" id=\"DejaVuSans-70\" transform=\"scale(0.015625)\"/>\r\n       <path d=\"M 3513 2113 \r\nL 3513 0 \r\nL 2938 0 \r\nL 2938 2094 \r\nQ 2938 2591 2744 2837 \r\nQ 2550 3084 2163 3084 \r\nQ 1697 3084 1428 2787 \r\nQ 1159 2491 1159 1978 \r\nL 1159 0 \r\nL 581 0 \r\nL 581 4863 \r\nL 1159 4863 \r\nL 1159 2956 \r\nQ 1366 3272 1645 3428 \r\nQ 1925 3584 2291 3584 \r\nQ 2894 3584 3203 3211 \r\nQ 3513 2838 3513 2113 \r\nz\r\n\" id=\"DejaVuSans-68\" transform=\"scale(0.015625)\"/>\r\n       <path d=\"M 2194 1759 \r\nQ 1497 1759 1228 1600 \r\nQ 959 1441 959 1056 \r\nQ 959 750 1161 570 \r\nQ 1363 391 1709 391 \r\nQ 2188 391 2477 730 \r\nQ 2766 1069 2766 1631 \r\nL 2766 1759 \r\nL 2194 1759 \r\nz\r\nM 3341 1997 \r\nL 3341 0 \r\nL 2766 0 \r\nL 2766 531 \r\nQ 2569 213 2275 61 \r\nQ 1981 -91 1556 -91 \r\nQ 1019 -91 701 211 \r\nQ 384 513 384 1019 \r\nQ 384 1609 779 1909 \r\nQ 1175 2209 1959 2209 \r\nL 2766 2209 \r\nL 2766 2266 \r\nQ 2766 2663 2505 2880 \r\nQ 2244 3097 1772 3097 \r\nQ 1472 3097 1187 3025 \r\nQ 903 2953 641 2809 \r\nL 641 3341 \r\nQ 956 3463 1253 3523 \r\nQ 1550 3584 1831 3584 \r\nQ 2591 3584 2966 3190 \r\nQ 3341 2797 3341 1997 \r\nz\r\n\" id=\"DejaVuSans-61\" transform=\"scale(0.015625)\"/>\r\n       <path d=\"M 3328 2828 \r\nQ 3544 3216 3844 3400 \r\nQ 4144 3584 4550 3584 \r\nQ 5097 3584 5394 3201 \r\nQ 5691 2819 5691 2113 \r\nL 5691 0 \r\nL 5113 0 \r\nL 5113 2094 \r\nQ 5113 2597 4934 2840 \r\nQ 4756 3084 4391 3084 \r\nQ 3944 3084 3684 2787 \r\nQ 3425 2491 3425 1978 \r\nL 3425 0 \r\nL 2847 0 \r\nL 2847 2094 \r\nQ 2847 2600 2669 2842 \r\nQ 2491 3084 2119 3084 \r\nQ 1678 3084 1418 2786 \r\nQ 1159 2488 1159 1978 \r\nL 1159 0 \r\nL 581 0 \r\nL 581 3500 \r\nL 1159 3500 \r\nL 1159 2956 \r\nQ 1356 3278 1631 3431 \r\nQ 1906 3584 2284 3584 \r\nQ 2666 3584 2933 3390 \r\nQ 3200 3197 3328 2828 \r\nz\r\n\" id=\"DejaVuSans-6d\" transform=\"scale(0.015625)\"/>\r\n       <path d=\"M 3513 2113 \r\nL 3513 0 \r\nL 2938 0 \r\nL 2938 2094 \r\nQ 2938 2591 2744 2837 \r\nQ 2550 3084 2163 3084 \r\nQ 1697 3084 1428 2787 \r\nQ 1159 2491 1159 1978 \r\nL 1159 0 \r\nL 581 0 \r\nL 581 3500 \r\nL 1159 3500 \r\nL 1159 2956 \r\nQ 1366 3272 1645 3428 \r\nQ 1925 3584 2291 3584 \r\nQ 2894 3584 3203 3211 \r\nQ 3513 2838 3513 2113 \r\nz\r\n\" id=\"DejaVuSans-6e\" transform=\"scale(0.015625)\"/>\r\n       <path d=\"M 353 3500 \r\nL 3084 3500 \r\nL 3084 2975 \r\nL 922 459 \r\nL 3084 459 \r\nL 3084 0 \r\nL 275 0 \r\nL 275 525 \r\nL 2438 3041 \r\nL 353 3041 \r\nL 353 3500 \r\nz\r\n\" id=\"DejaVuSans-7a\" transform=\"scale(0.015625)\"/>\r\n       <path d=\"M 3597 1894 \r\nL 3597 1613 \r\nL 953 1613 \r\nQ 991 1019 1311 708 \r\nQ 1631 397 2203 397 \r\nQ 2534 397 2845 478 \r\nQ 3156 559 3463 722 \r\nL 3463 178 \r\nQ 3153 47 2828 -22 \r\nQ 2503 -91 2169 -91 \r\nQ 1331 -91 842 396 \r\nQ 353 884 353 1716 \r\nQ 353 2575 817 3079 \r\nQ 1281 3584 2069 3584 \r\nQ 2775 3584 3186 3129 \r\nQ 3597 2675 3597 1894 \r\nz\r\nM 3022 2063 \r\nQ 3016 2534 2758 2815 \r\nQ 2500 3097 2075 3097 \r\nQ 1594 3097 1305 2825 \r\nQ 1016 2553 972 2059 \r\nL 3022 2063 \r\nz\r\n\" id=\"DejaVuSans-65\" transform=\"scale(0.015625)\"/>\r\n       <path d=\"M 2906 2969 \r\nL 2906 4863 \r\nL 3481 4863 \r\nL 3481 0 \r\nL 2906 0 \r\nL 2906 525 \r\nQ 2725 213 2448 61 \r\nQ 2172 -91 1784 -91 \r\nQ 1150 -91 751 415 \r\nQ 353 922 353 1747 \r\nQ 353 2572 751 3078 \r\nQ 1150 3584 1784 3584 \r\nQ 2172 3584 2448 3432 \r\nQ 2725 3281 2906 2969 \r\nz\r\nM 947 1747 \r\nQ 947 1113 1208 752 \r\nQ 1469 391 1925 391 \r\nQ 2381 391 2643 752 \r\nQ 2906 1113 2906 1747 \r\nQ 2906 2381 2643 2742 \r\nQ 2381 3103 1925 3103 \r\nQ 1469 3103 1208 2742 \r\nQ 947 2381 947 1747 \r\nz\r\n\" id=\"DejaVuSans-64\" transform=\"scale(0.015625)\"/>\r\n      </defs>\r\n      <use xlink:href=\"#DejaVuSans-74\"/>\r\n      <use x=\"39.208984\" xlink:href=\"#DejaVuSans-69\"/>\r\n      <use x=\"66.992188\" xlink:href=\"#DejaVuSans-5f\"/>\r\n      <use x=\"116.992188\" xlink:href=\"#DejaVuSans-63\"/>\r\n      <use x=\"171.972656\" xlink:href=\"#DejaVuSans-6f\"/>\r\n      <use x=\"233.154297\" xlink:href=\"#DejaVuSans-72\"/>\r\n      <use x=\"272.517578\" xlink:href=\"#DejaVuSans-72\"/>\r\n      <use x=\"313.630859\" xlink:href=\"#DejaVuSans-75\"/>\r\n      <use x=\"377.009766\" xlink:href=\"#DejaVuSans-70\"/>\r\n      <use x=\"440.486328\" xlink:href=\"#DejaVuSans-74\"/>\r\n      <use x=\"479.695312\" xlink:href=\"#DejaVuSans-5f\"/>\r\n      <use x=\"529.695312\" xlink:href=\"#DejaVuSans-68\"/>\r\n      <use x=\"593.074219\" xlink:href=\"#DejaVuSans-61\"/>\r\n      <use x=\"654.353516\" xlink:href=\"#DejaVuSans-72\"/>\r\n      <use x=\"693.716797\" xlink:href=\"#DejaVuSans-6d\"/>\r\n      <use x=\"791.128906\" xlink:href=\"#DejaVuSans-6f\"/>\r\n      <use x=\"852.310547\" xlink:href=\"#DejaVuSans-6e\"/>\r\n      <use x=\"915.689453\" xlink:href=\"#DejaVuSans-69\"/>\r\n      <use x=\"943.472656\" xlink:href=\"#DejaVuSans-7a\"/>\r\n      <use x=\"995.962891\" xlink:href=\"#DejaVuSans-65\"/>\r\n      <use x=\"1057.486328\" xlink:href=\"#DejaVuSans-64\"/>\r\n     </g>\r\n    </g>\r\n   </g>\r\n   <g id=\"matplotlib.axis_2\">\r\n    <g id=\"ytick_1\">\r\n     <g id=\"line2d_7\">\r\n      <defs>\r\n       <path d=\"M 0 0 \r\nL -3.5 0 \r\n\" id=\"m4802dd594a\" style=\"stroke:#000000;stroke-width:0.8;\"/>\r\n      </defs>\r\n      <g>\r\n       <use style=\"stroke:#000000;stroke-width:0.8;\" x=\"44.059375\" xlink:href=\"#m4802dd594a\" y=\"228.439219\"/>\r\n      </g>\r\n     </g>\r\n     <g id=\"text_8\">\r\n      <!-- 0.0 -->\r\n      <g transform=\"translate(21.15625 232.238438)scale(0.1 -0.1)\">\r\n       <use xlink:href=\"#DejaVuSans-30\"/>\r\n       <use x=\"63.623047\" xlink:href=\"#DejaVuSans-2e\"/>\r\n       <use x=\"95.410156\" xlink:href=\"#DejaVuSans-30\"/>\r\n      </g>\r\n     </g>\r\n    </g>\r\n    <g id=\"ytick_2\">\r\n     <g id=\"line2d_8\">\r\n      <g>\r\n       <use style=\"stroke:#000000;stroke-width:0.8;\" x=\"44.059375\" xlink:href=\"#m4802dd594a\" y=\"184.951219\"/>\r\n      </g>\r\n     </g>\r\n     <g id=\"text_9\">\r\n      <!-- 0.2 -->\r\n      <g transform=\"translate(21.15625 188.750438)scale(0.1 -0.1)\">\r\n       <use xlink:href=\"#DejaVuSans-30\"/>\r\n       <use x=\"63.623047\" xlink:href=\"#DejaVuSans-2e\"/>\r\n       <use x=\"95.410156\" xlink:href=\"#DejaVuSans-32\"/>\r\n      </g>\r\n     </g>\r\n    </g>\r\n    <g id=\"ytick_3\">\r\n     <g id=\"line2d_9\">\r\n      <g>\r\n       <use style=\"stroke:#000000;stroke-width:0.8;\" x=\"44.059375\" xlink:href=\"#m4802dd594a\" y=\"141.463219\"/>\r\n      </g>\r\n     </g>\r\n     <g id=\"text_10\">\r\n      <!-- 0.4 -->\r\n      <g transform=\"translate(21.15625 145.262438)scale(0.1 -0.1)\">\r\n       <use xlink:href=\"#DejaVuSans-30\"/>\r\n       <use x=\"63.623047\" xlink:href=\"#DejaVuSans-2e\"/>\r\n       <use x=\"95.410156\" xlink:href=\"#DejaVuSans-34\"/>\r\n      </g>\r\n     </g>\r\n    </g>\r\n    <g id=\"ytick_4\">\r\n     <g id=\"line2d_10\">\r\n      <g>\r\n       <use style=\"stroke:#000000;stroke-width:0.8;\" x=\"44.059375\" xlink:href=\"#m4802dd594a\" y=\"97.975219\"/>\r\n      </g>\r\n     </g>\r\n     <g id=\"text_11\">\r\n      <!-- 0.6 -->\r\n      <g transform=\"translate(21.15625 101.774438)scale(0.1 -0.1)\">\r\n       <use xlink:href=\"#DejaVuSans-30\"/>\r\n       <use x=\"63.623047\" xlink:href=\"#DejaVuSans-2e\"/>\r\n       <use x=\"95.410156\" xlink:href=\"#DejaVuSans-36\"/>\r\n      </g>\r\n     </g>\r\n    </g>\r\n    <g id=\"ytick_5\">\r\n     <g id=\"line2d_11\">\r\n      <g>\r\n       <use style=\"stroke:#000000;stroke-width:0.8;\" x=\"44.059375\" xlink:href=\"#m4802dd594a\" y=\"54.487219\"/>\r\n      </g>\r\n     </g>\r\n     <g id=\"text_12\">\r\n      <!-- 0.8 -->\r\n      <g transform=\"translate(21.15625 58.286438)scale(0.1 -0.1)\">\r\n       <use xlink:href=\"#DejaVuSans-30\"/>\r\n       <use x=\"63.623047\" xlink:href=\"#DejaVuSans-2e\"/>\r\n       <use x=\"95.410156\" xlink:href=\"#DejaVuSans-38\"/>\r\n      </g>\r\n     </g>\r\n    </g>\r\n    <g id=\"ytick_6\">\r\n     <g id=\"line2d_12\">\r\n      <g>\r\n       <use style=\"stroke:#000000;stroke-width:0.8;\" x=\"44.059375\" xlink:href=\"#m4802dd594a\" y=\"10.999219\"/>\r\n      </g>\r\n     </g>\r\n     <g id=\"text_13\">\r\n      <!-- 1.0 -->\r\n      <g transform=\"translate(21.15625 14.798438)scale(0.1 -0.1)\">\r\n       <use xlink:href=\"#DejaVuSans-31\"/>\r\n       <use x=\"63.623047\" xlink:href=\"#DejaVuSans-2e\"/>\r\n       <use x=\"95.410156\" xlink:href=\"#DejaVuSans-30\"/>\r\n      </g>\r\n     </g>\r\n    </g>\r\n    <g id=\"text_14\">\r\n     <!-- perceptions_of_corruption -->\r\n     <g transform=\"translate(14.798438 184.666875)rotate(-90)scale(0.1 -0.1)\">\r\n      <defs>\r\n       <path d=\"M 2834 3397 \r\nL 2834 2853 \r\nQ 2591 2978 2328 3040 \r\nQ 2066 3103 1784 3103 \r\nQ 1356 3103 1142 2972 \r\nQ 928 2841 928 2578 \r\nQ 928 2378 1081 2264 \r\nQ 1234 2150 1697 2047 \r\nL 1894 2003 \r\nQ 2506 1872 2764 1633 \r\nQ 3022 1394 3022 966 \r\nQ 3022 478 2636 193 \r\nQ 2250 -91 1575 -91 \r\nQ 1294 -91 989 -36 \r\nQ 684 19 347 128 \r\nL 347 722 \r\nQ 666 556 975 473 \r\nQ 1284 391 1588 391 \r\nQ 1994 391 2212 530 \r\nQ 2431 669 2431 922 \r\nQ 2431 1156 2273 1281 \r\nQ 2116 1406 1581 1522 \r\nL 1381 1569 \r\nQ 847 1681 609 1914 \r\nQ 372 2147 372 2553 \r\nQ 372 3047 722 3315 \r\nQ 1072 3584 1716 3584 \r\nQ 2034 3584 2315 3537 \r\nQ 2597 3491 2834 3397 \r\nz\r\n\" id=\"DejaVuSans-73\" transform=\"scale(0.015625)\"/>\r\n       <path d=\"M 2375 4863 \r\nL 2375 4384 \r\nL 1825 4384 \r\nQ 1516 4384 1395 4259 \r\nQ 1275 4134 1275 3809 \r\nL 1275 3500 \r\nL 2222 3500 \r\nL 2222 3053 \r\nL 1275 3053 \r\nL 1275 0 \r\nL 697 0 \r\nL 697 3053 \r\nL 147 3053 \r\nL 147 3500 \r\nL 697 3500 \r\nL 697 3744 \r\nQ 697 4328 969 4595 \r\nQ 1241 4863 1831 4863 \r\nL 2375 4863 \r\nz\r\n\" id=\"DejaVuSans-66\" transform=\"scale(0.015625)\"/>\r\n      </defs>\r\n      <use xlink:href=\"#DejaVuSans-70\"/>\r\n      <use x=\"63.476562\" xlink:href=\"#DejaVuSans-65\"/>\r\n      <use x=\"125\" xlink:href=\"#DejaVuSans-72\"/>\r\n      <use x=\"163.863281\" xlink:href=\"#DejaVuSans-63\"/>\r\n      <use x=\"218.84375\" xlink:href=\"#DejaVuSans-65\"/>\r\n      <use x=\"280.367188\" xlink:href=\"#DejaVuSans-70\"/>\r\n      <use x=\"343.84375\" xlink:href=\"#DejaVuSans-74\"/>\r\n      <use x=\"383.052734\" xlink:href=\"#DejaVuSans-69\"/>\r\n      <use x=\"410.835938\" xlink:href=\"#DejaVuSans-6f\"/>\r\n      <use x=\"472.017578\" xlink:href=\"#DejaVuSans-6e\"/>\r\n      <use x=\"535.396484\" xlink:href=\"#DejaVuSans-73\"/>\r\n      <use x=\"587.496094\" xlink:href=\"#DejaVuSans-5f\"/>\r\n      <use x=\"637.496094\" xlink:href=\"#DejaVuSans-6f\"/>\r\n      <use x=\"698.677734\" xlink:href=\"#DejaVuSans-66\"/>\r\n      <use x=\"733.882812\" xlink:href=\"#DejaVuSans-5f\"/>\r\n      <use x=\"783.882812\" xlink:href=\"#DejaVuSans-63\"/>\r\n      <use x=\"838.863281\" xlink:href=\"#DejaVuSans-6f\"/>\r\n      <use x=\"900.044922\" xlink:href=\"#DejaVuSans-72\"/>\r\n      <use x=\"939.408203\" xlink:href=\"#DejaVuSans-72\"/>\r\n      <use x=\"980.521484\" xlink:href=\"#DejaVuSans-75\"/>\r\n      <use x=\"1043.900391\" xlink:href=\"#DejaVuSans-70\"/>\r\n      <use x=\"1107.376953\" xlink:href=\"#DejaVuSans-74\"/>\r\n      <use x=\"1146.585938\" xlink:href=\"#DejaVuSans-69\"/>\r\n      <use x=\"1174.369141\" xlink:href=\"#DejaVuSans-6f\"/>\r\n      <use x=\"1235.550781\" xlink:href=\"#DejaVuSans-6e\"/>\r\n     </g>\r\n    </g>\r\n   </g>\r\n   <g id=\"patch_3\">\r\n    <path d=\"M 44.059375 228.439219 \r\nL 44.059375 10.999219 \r\n\" style=\"fill:none;stroke:#000000;stroke-linecap:square;stroke-linejoin:miter;stroke-width:0.8;\"/>\r\n   </g>\r\n   <g id=\"patch_4\">\r\n    <path d=\"M 378.859375 228.439219 \r\nL 378.859375 10.999219 \r\n\" style=\"fill:none;stroke:#000000;stroke-linecap:square;stroke-linejoin:miter;stroke-width:0.8;\"/>\r\n   </g>\r\n   <g id=\"patch_5\">\r\n    <path d=\"M 44.059375 228.439219 \r\nL 378.859375 228.439219 \r\n\" style=\"fill:none;stroke:#000000;stroke-linecap:square;stroke-linejoin:miter;stroke-width:0.8;\"/>\r\n   </g>\r\n   <g id=\"patch_6\">\r\n    <path d=\"M 44.059375 10.999219 \r\nL 378.859375 10.999219 \r\n\" style=\"fill:none;stroke:#000000;stroke-linecap:square;stroke-linejoin:miter;stroke-width:0.8;\"/>\r\n   </g>\r\n   <g id=\"text_15\">\r\n    <!-- Iceland -->\r\n    <g transform=\"translate(127.759375 82.102099)scale(0.1 -0.1)\">\r\n     <defs>\r\n      <path d=\"M 628 4666 \r\nL 1259 4666 \r\nL 1259 0 \r\nL 628 0 \r\nL 628 4666 \r\nz\r\n\" id=\"DejaVuSans-49\" transform=\"scale(0.015625)\"/>\r\n      <path d=\"M 603 4863 \r\nL 1178 4863 \r\nL 1178 0 \r\nL 603 0 \r\nL 603 4863 \r\nz\r\n\" id=\"DejaVuSans-6c\" transform=\"scale(0.015625)\"/>\r\n     </defs>\r\n     <use xlink:href=\"#DejaVuSans-49\"/>\r\n     <use x=\"29.492188\" xlink:href=\"#DejaVuSans-63\"/>\r\n     <use x=\"84.472656\" xlink:href=\"#DejaVuSans-65\"/>\r\n     <use x=\"145.996094\" xlink:href=\"#DejaVuSans-6c\"/>\r\n     <use x=\"173.779297\" xlink:href=\"#DejaVuSans-61\"/>\r\n     <use x=\"235.058594\" xlink:href=\"#DejaVuSans-6e\"/>\r\n     <use x=\"298.4375\" xlink:href=\"#DejaVuSans-64\"/>\r\n    </g>\r\n   </g>\r\n  </g>\r\n </g>\r\n <defs>\r\n  <clipPath id=\"p57e3376505\">\r\n   <rect height=\"217.44\" width=\"334.8\" x=\"44.059375\" y=\"10.999219\"/>\r\n  </clipPath>\r\n </defs>\r\n</svg>\r\n",
      "image/png": "[encoded data removed]"
     },
     "metadata": {
      "needs_background": "light"
     }
    }
   ],
   "source": [
    "top10_happy_corrupt.plot(kind = 'scatter', x = 'ti_corrupt_harmonized', y = 'perceptions_of_corruption').set(xlim =(0, 1), ylim =(0, 1))\n",
    "plt.annotate(\"Iceland\", (0.25, 0.673))"
   ]
  },
  {
   "cell_type": "markdown",
   "id": "7d2dee6e",
   "metadata": {},
   "source": [
    "##### Both the Iceland public and governance experts agree that Iceland is the most corrupt of the Top 10. Why?"
   ]
  },
  {
   "cell_type": "markdown",
   "id": "8987f3d8",
   "metadata": {},
   "source": [
    "https://www.aljazeera.com/news/2019/12/1/exclusive-corruption-in-namibias-fishing-industry-unveiled\n",
    "https://www.transparency.org/en/blog/a-wake-up-call-in-reykjav%C3%ADk\n",
    "\n",
    "Transparency International: \"Contrary to its CPI score, Iceland (75) and its reputation as a corruption-free country took a nosedive as revelations came to light that incriminated the country’s governing elite and its national companies. For example, the 2008 financial crisis exposed shady banks, the Panama Papers implicated the country’s former Prime Minister and the Fishrot Files revealed how far the country’s biggest fishery would go to extend its business and launder suspicious proceeds. Iceland’s foreign bribery problem is also a big issue. Last month, the OECD published a new report harshly criticizing the country’s enforcement efforts.\" (Source: Transparency International)"
   ]
  },
  {
   "cell_type": "markdown",
   "id": "71b4e4f4",
   "metadata": {},
   "source": [
    "##### How does its corruption score compare with the rest of Western Europe?"
   ]
  },
  {
   "cell_type": "code",
   "execution_count": 102,
   "id": "9d1c4efe",
   "metadata": {},
   "outputs": [
    {
     "output_type": "execute_result",
     "data": {
      "text/plain": [
       "Sub-Saharan Africa                    36\n",
       "Western Europe                        21\n",
       "Latin America and Caribbean           20\n",
       "Central and Eastern Europe            17\n",
       "Middle East and North Africa          17\n",
       "Commonwealth of Independent States    12\n",
       "Southeast Asia                         9\n",
       "South Asia                             7\n",
       "East Asia                              6\n",
       "North America and ANZ                  4\n",
       "Name: region, dtype: int64"
      ]
     },
     "metadata": {},
     "execution_count": 102
    }
   ],
   "source": [
    "df.region.value_counts()"
   ]
  },
  {
   "cell_type": "code",
   "execution_count": 103,
   "id": "117bc6db",
   "metadata": {},
   "outputs": [
    {
     "output_type": "execute_result",
     "data": {
      "text/plain": [
       "           country          region  score  log_gdp_cap  social_support  \\\n",
       "1          Denmark  Western Europe  7.620       10.933           0.954   \n",
       "0          Finland  Western Europe  7.842       10.775           0.954   \n",
       "6           Sweden  Western Europe  7.363       10.867           0.934   \n",
       "5           Norway  Western Europe  7.392       11.053           0.954   \n",
       "2      Switzerland  Western Europe  7.571       11.117           0.942   \n",
       "4      Netherlands  Western Europe  7.464       10.932           0.942   \n",
       "14         Ireland  Western Europe  7.085       11.342           0.947   \n",
       "7       Luxembourg  Western Europe  7.324       11.647           0.908   \n",
       "16  United Kingdom  Western Europe  7.064       10.707           0.934   \n",
       "12         Germany  Western Europe  7.155       10.873           0.903   \n",
       "9          Austria  Western Europe  7.268       10.906           0.934   \n",
       "20          France  Western Europe  6.690       10.704           0.942   \n",
       "73    North Cyprus  Western Europe  5.536       10.576           0.820   \n",
       "19         Belgium  Western Europe  6.834       10.823           0.906   \n",
       "22           Malta  Western Europe  6.602       10.674           0.931   \n",
       "3          Iceland  Western Europe  7.554       10.878           0.983   \n",
       "26           Spain  Western Europe  6.491       10.571           0.932   \n",
       "67          Greece  Western Europe  5.723       10.279           0.823   \n",
       "38          Cyprus  Western Europe  6.223       10.576           0.802   \n",
       "27           Italy  Western Europe  6.483       10.623           0.880   \n",
       "57        Portugal  Western Europe  5.929       10.421           0.879   \n",
       "\n",
       "    life_expectancy  freedom_to_make_life_choices  generosity  \\\n",
       "1            72.700                         0.946       0.030   \n",
       "0            72.000                         0.949      -0.098   \n",
       "6            72.700                         0.945       0.086   \n",
       "5            73.300                         0.960       0.093   \n",
       "2            74.400                         0.919       0.025   \n",
       "4            72.400                         0.913       0.175   \n",
       "14           72.400                         0.879       0.077   \n",
       "7            72.600                         0.907      -0.034   \n",
       "16           72.500                         0.859       0.233   \n",
       "12           72.500                         0.875       0.011   \n",
       "9            73.300                         0.908       0.042   \n",
       "20           74.000                         0.822      -0.147   \n",
       "73           73.898                         0.795       0.012   \n",
       "19           72.199                         0.783      -0.153   \n",
       "22           72.200                         0.927       0.133   \n",
       "3            73.000                         0.955       0.160   \n",
       "26           74.700                         0.761      -0.081   \n",
       "67           72.600                         0.582      -0.288   \n",
       "38           73.898                         0.763      -0.015   \n",
       "27           73.800                         0.693      -0.084   \n",
       "57           72.600                         0.892      -0.244   \n",
       "\n",
       "    perceptions_of_corruption  ti_corrupt_harmonized  covid_deaths  \\\n",
       "1                       0.179                   0.12        1298.0   \n",
       "0                       0.186                   0.15         561.0   \n",
       "6                       0.237                   0.15        8727.0   \n",
       "5                       0.270                   0.16         436.0   \n",
       "2                       0.292                   0.15        7645.0   \n",
       "4                       0.338                   0.18       11432.0   \n",
       "14                      0.363                   0.28        2237.0   \n",
       "7                       0.386                   0.20         495.0   \n",
       "16                      0.459                   0.23       73512.0   \n",
       "12                      0.460                   0.20       33791.0   \n",
       "9                       0.481                   0.24        6222.0   \n",
       "20                      0.571                   0.31       64267.0   \n",
       "73                      0.626                    NaN           NaN   \n",
       "19                      0.646                   0.24       19528.0   \n",
       "22                      0.653                   0.47         219.0   \n",
       "3                       0.673                   0.25          29.0   \n",
       "26                      0.745                   0.38       50837.0   \n",
       "67                      0.823                   0.50        4838.0   \n",
       "38                      0.844                   0.43         119.0   \n",
       "27                      0.866                   0.47       74159.0   \n",
       "57                      0.887                   0.39        6906.0   \n",
       "\n",
       "    covid_cases     pop_2020   death_100k  cases_100k  oecd  \n",
       "1      163479.0    5,834,000        22.25     2802.18     1  \n",
       "0       36107.0    5,529,000        10.15      653.05     1  \n",
       "6      437379.0   10,340,000        84.40     4229.97     1  \n",
       "5       49567.0    5,391,000         8.09      919.44     1  \n",
       "2      452296.0    8,633,000        88.56     5239.15     1  \n",
       "4      796981.0   17,380,000        65.78     4585.62     1  \n",
       "14      91779.0    4,983,000        44.89     1841.84     1  \n",
       "7       46415.0      629,000        78.70     7379.17     1  \n",
       "16    2488780.0   67,158,000       109.46     3705.86     1  \n",
       "12    1760520.0   83,152,000        40.64     2117.23     1  \n",
       "9      360815.0    8,915,000        69.79     4047.28     1  \n",
       "20    2616902.0   67,202,000        95.63     3894.08     1  \n",
       "73          NaN      326,000         0.00        0.00     0  \n",
       "19     646496.0   11,543,000       169.18     5600.76     1  \n",
       "22      12774.0      505,000        43.37     2529.50     0  \n",
       "3        5754.0      363,000         7.99     1585.12     1  \n",
       "26    1928265.0   47,133,000       107.86     4091.11     1  \n",
       "67     138850.0   10,658,000        45.39     1302.78     1  \n",
       "38      22019.0    1,207,000         9.86     1824.28     0  \n",
       "27    2107166.0   60,177,000       123.23     3501.61     1  \n",
       "57     413678.0   10,254,000        67.35     4034.31     1  "
      ],
      "text/html": "<div>\n<style scoped>\n    .dataframe tbody tr th:only-of-type {\n        vertical-align: middle;\n    }\n\n    .dataframe tbody tr th {\n        vertical-align: top;\n    }\n\n    .dataframe thead th {\n        text-align: right;\n    }\n</style>\n<table border=\"1\" class=\"dataframe\">\n  <thead>\n    <tr style=\"text-align: right;\">\n      <th></th>\n      <th>country</th>\n      <th>region</th>\n      <th>score</th>\n      <th>log_gdp_cap</th>\n      <th>social_support</th>\n      <th>life_expectancy</th>\n      <th>freedom_to_make_life_choices</th>\n      <th>generosity</th>\n      <th>perceptions_of_corruption</th>\n      <th>ti_corrupt_harmonized</th>\n      <th>covid_deaths</th>\n      <th>covid_cases</th>\n      <th>pop_2020</th>\n      <th>death_100k</th>\n      <th>cases_100k</th>\n      <th>oecd</th>\n    </tr>\n  </thead>\n  <tbody>\n    <tr>\n      <th>1</th>\n      <td>Denmark</td>\n      <td>Western Europe</td>\n      <td>7.620</td>\n      <td>10.933</td>\n      <td>0.954</td>\n      <td>72.700</td>\n      <td>0.946</td>\n      <td>0.030</td>\n      <td>0.179</td>\n      <td>0.12</td>\n      <td>1298.0</td>\n      <td>163479.0</td>\n      <td>5,834,000</td>\n      <td>22.25</td>\n      <td>2802.18</td>\n      <td>1</td>\n    </tr>\n    <tr>\n      <th>0</th>\n      <td>Finland</td>\n      <td>Western Europe</td>\n      <td>7.842</td>\n      <td>10.775</td>\n      <td>0.954</td>\n      <td>72.000</td>\n      <td>0.949</td>\n      <td>-0.098</td>\n      <td>0.186</td>\n      <td>0.15</td>\n      <td>561.0</td>\n      <td>36107.0</td>\n      <td>5,529,000</td>\n      <td>10.15</td>\n      <td>653.05</td>\n      <td>1</td>\n    </tr>\n    <tr>\n      <th>6</th>\n      <td>Sweden</td>\n      <td>Western Europe</td>\n      <td>7.363</td>\n      <td>10.867</td>\n      <td>0.934</td>\n      <td>72.700</td>\n      <td>0.945</td>\n      <td>0.086</td>\n      <td>0.237</td>\n      <td>0.15</td>\n      <td>8727.0</td>\n      <td>437379.0</td>\n      <td>10,340,000</td>\n      <td>84.40</td>\n      <td>4229.97</td>\n      <td>1</td>\n    </tr>\n    <tr>\n      <th>5</th>\n      <td>Norway</td>\n      <td>Western Europe</td>\n      <td>7.392</td>\n      <td>11.053</td>\n      <td>0.954</td>\n      <td>73.300</td>\n      <td>0.960</td>\n      <td>0.093</td>\n      <td>0.270</td>\n      <td>0.16</td>\n      <td>436.0</td>\n      <td>49567.0</td>\n      <td>5,391,000</td>\n      <td>8.09</td>\n      <td>919.44</td>\n      <td>1</td>\n    </tr>\n    <tr>\n      <th>2</th>\n      <td>Switzerland</td>\n      <td>Western Europe</td>\n      <td>7.571</td>\n      <td>11.117</td>\n      <td>0.942</td>\n      <td>74.400</td>\n      <td>0.919</td>\n      <td>0.025</td>\n      <td>0.292</td>\n      <td>0.15</td>\n      <td>7645.0</td>\n      <td>452296.0</td>\n      <td>8,633,000</td>\n      <td>88.56</td>\n      <td>5239.15</td>\n      <td>1</td>\n    </tr>\n    <tr>\n      <th>4</th>\n      <td>Netherlands</td>\n      <td>Western Europe</td>\n      <td>7.464</td>\n      <td>10.932</td>\n      <td>0.942</td>\n      <td>72.400</td>\n      <td>0.913</td>\n      <td>0.175</td>\n      <td>0.338</td>\n      <td>0.18</td>\n      <td>11432.0</td>\n      <td>796981.0</td>\n      <td>17,380,000</td>\n      <td>65.78</td>\n      <td>4585.62</td>\n      <td>1</td>\n    </tr>\n    <tr>\n      <th>14</th>\n      <td>Ireland</td>\n      <td>Western Europe</td>\n      <td>7.085</td>\n      <td>11.342</td>\n      <td>0.947</td>\n      <td>72.400</td>\n      <td>0.879</td>\n      <td>0.077</td>\n      <td>0.363</td>\n      <td>0.28</td>\n      <td>2237.0</td>\n      <td>91779.0</td>\n      <td>4,983,000</td>\n      <td>44.89</td>\n      <td>1841.84</td>\n      <td>1</td>\n    </tr>\n    <tr>\n      <th>7</th>\n      <td>Luxembourg</td>\n      <td>Western Europe</td>\n      <td>7.324</td>\n      <td>11.647</td>\n      <td>0.908</td>\n      <td>72.600</td>\n      <td>0.907</td>\n      <td>-0.034</td>\n      <td>0.386</td>\n      <td>0.20</td>\n      <td>495.0</td>\n      <td>46415.0</td>\n      <td>629,000</td>\n      <td>78.70</td>\n      <td>7379.17</td>\n      <td>1</td>\n    </tr>\n    <tr>\n      <th>16</th>\n      <td>United Kingdom</td>\n      <td>Western Europe</td>\n      <td>7.064</td>\n      <td>10.707</td>\n      <td>0.934</td>\n      <td>72.500</td>\n      <td>0.859</td>\n      <td>0.233</td>\n      <td>0.459</td>\n      <td>0.23</td>\n      <td>73512.0</td>\n      <td>2488780.0</td>\n      <td>67,158,000</td>\n      <td>109.46</td>\n      <td>3705.86</td>\n      <td>1</td>\n    </tr>\n    <tr>\n      <th>12</th>\n      <td>Germany</td>\n      <td>Western Europe</td>\n      <td>7.155</td>\n      <td>10.873</td>\n      <td>0.903</td>\n      <td>72.500</td>\n      <td>0.875</td>\n      <td>0.011</td>\n      <td>0.460</td>\n      <td>0.20</td>\n      <td>33791.0</td>\n      <td>1760520.0</td>\n      <td>83,152,000</td>\n      <td>40.64</td>\n      <td>2117.23</td>\n      <td>1</td>\n    </tr>\n    <tr>\n      <th>9</th>\n      <td>Austria</td>\n      <td>Western Europe</td>\n      <td>7.268</td>\n      <td>10.906</td>\n      <td>0.934</td>\n      <td>73.300</td>\n      <td>0.908</td>\n      <td>0.042</td>\n      <td>0.481</td>\n      <td>0.24</td>\n      <td>6222.0</td>\n      <td>360815.0</td>\n      <td>8,915,000</td>\n      <td>69.79</td>\n      <td>4047.28</td>\n      <td>1</td>\n    </tr>\n    <tr>\n      <th>20</th>\n      <td>France</td>\n      <td>Western Europe</td>\n      <td>6.690</td>\n      <td>10.704</td>\n      <td>0.942</td>\n      <td>74.000</td>\n      <td>0.822</td>\n      <td>-0.147</td>\n      <td>0.571</td>\n      <td>0.31</td>\n      <td>64267.0</td>\n      <td>2616902.0</td>\n      <td>67,202,000</td>\n      <td>95.63</td>\n      <td>3894.08</td>\n      <td>1</td>\n    </tr>\n    <tr>\n      <th>73</th>\n      <td>North Cyprus</td>\n      <td>Western Europe</td>\n      <td>5.536</td>\n      <td>10.576</td>\n      <td>0.820</td>\n      <td>73.898</td>\n      <td>0.795</td>\n      <td>0.012</td>\n      <td>0.626</td>\n      <td>NaN</td>\n      <td>NaN</td>\n      <td>NaN</td>\n      <td>326,000</td>\n      <td>0.00</td>\n      <td>0.00</td>\n      <td>0</td>\n    </tr>\n    <tr>\n      <th>19</th>\n      <td>Belgium</td>\n      <td>Western Europe</td>\n      <td>6.834</td>\n      <td>10.823</td>\n      <td>0.906</td>\n      <td>72.199</td>\n      <td>0.783</td>\n      <td>-0.153</td>\n      <td>0.646</td>\n      <td>0.24</td>\n      <td>19528.0</td>\n      <td>646496.0</td>\n      <td>11,543,000</td>\n      <td>169.18</td>\n      <td>5600.76</td>\n      <td>1</td>\n    </tr>\n    <tr>\n      <th>22</th>\n      <td>Malta</td>\n      <td>Western Europe</td>\n      <td>6.602</td>\n      <td>10.674</td>\n      <td>0.931</td>\n      <td>72.200</td>\n      <td>0.927</td>\n      <td>0.133</td>\n      <td>0.653</td>\n      <td>0.47</td>\n      <td>219.0</td>\n      <td>12774.0</td>\n      <td>505,000</td>\n      <td>43.37</td>\n      <td>2529.50</td>\n      <td>0</td>\n    </tr>\n    <tr>\n      <th>3</th>\n      <td>Iceland</td>\n      <td>Western Europe</td>\n      <td>7.554</td>\n      <td>10.878</td>\n      <td>0.983</td>\n      <td>73.000</td>\n      <td>0.955</td>\n      <td>0.160</td>\n      <td>0.673</td>\n      <td>0.25</td>\n      <td>29.0</td>\n      <td>5754.0</td>\n      <td>363,000</td>\n      <td>7.99</td>\n      <td>1585.12</td>\n      <td>1</td>\n    </tr>\n    <tr>\n      <th>26</th>\n      <td>Spain</td>\n      <td>Western Europe</td>\n      <td>6.491</td>\n      <td>10.571</td>\n      <td>0.932</td>\n      <td>74.700</td>\n      <td>0.761</td>\n      <td>-0.081</td>\n      <td>0.745</td>\n      <td>0.38</td>\n      <td>50837.0</td>\n      <td>1928265.0</td>\n      <td>47,133,000</td>\n      <td>107.86</td>\n      <td>4091.11</td>\n      <td>1</td>\n    </tr>\n    <tr>\n      <th>67</th>\n      <td>Greece</td>\n      <td>Western Europe</td>\n      <td>5.723</td>\n      <td>10.279</td>\n      <td>0.823</td>\n      <td>72.600</td>\n      <td>0.582</td>\n      <td>-0.288</td>\n      <td>0.823</td>\n      <td>0.50</td>\n      <td>4838.0</td>\n      <td>138850.0</td>\n      <td>10,658,000</td>\n      <td>45.39</td>\n      <td>1302.78</td>\n      <td>1</td>\n    </tr>\n    <tr>\n      <th>38</th>\n      <td>Cyprus</td>\n      <td>Western Europe</td>\n      <td>6.223</td>\n      <td>10.576</td>\n      <td>0.802</td>\n      <td>73.898</td>\n      <td>0.763</td>\n      <td>-0.015</td>\n      <td>0.844</td>\n      <td>0.43</td>\n      <td>119.0</td>\n      <td>22019.0</td>\n      <td>1,207,000</td>\n      <td>9.86</td>\n      <td>1824.28</td>\n      <td>0</td>\n    </tr>\n    <tr>\n      <th>27</th>\n      <td>Italy</td>\n      <td>Western Europe</td>\n      <td>6.483</td>\n      <td>10.623</td>\n      <td>0.880</td>\n      <td>73.800</td>\n      <td>0.693</td>\n      <td>-0.084</td>\n      <td>0.866</td>\n      <td>0.47</td>\n      <td>74159.0</td>\n      <td>2107166.0</td>\n      <td>60,177,000</td>\n      <td>123.23</td>\n      <td>3501.61</td>\n      <td>1</td>\n    </tr>\n    <tr>\n      <th>57</th>\n      <td>Portugal</td>\n      <td>Western Europe</td>\n      <td>5.929</td>\n      <td>10.421</td>\n      <td>0.879</td>\n      <td>72.600</td>\n      <td>0.892</td>\n      <td>-0.244</td>\n      <td>0.887</td>\n      <td>0.39</td>\n      <td>6906.0</td>\n      <td>413678.0</td>\n      <td>10,254,000</td>\n      <td>67.35</td>\n      <td>4034.31</td>\n      <td>1</td>\n    </tr>\n  </tbody>\n</table>\n</div>"
     },
     "metadata": {},
     "execution_count": 103
    }
   ],
   "source": [
    "w_europe = df[df.region == 'Western Europe']\n",
    "\n",
    "w_europe.sort_values(by = 'perceptions_of_corruption')\n",
    "\n",
    "#lower corruption perception values = less (perceived) corruption"
   ]
  },
  {
   "cell_type": "code",
   "execution_count": 104,
   "id": "d5e2fdab",
   "metadata": {},
   "outputs": [
    {
     "output_type": "execute_result",
     "data": {
      "text/plain": [
       "     country          region  score  log_gdp_cap  social_support  \\\n",
       "3    Iceland  Western Europe  7.554       10.878           0.983   \n",
       "26     Spain  Western Europe  6.491       10.571           0.932   \n",
       "67    Greece  Western Europe  5.723       10.279           0.823   \n",
       "38    Cyprus  Western Europe  6.223       10.576           0.802   \n",
       "27     Italy  Western Europe  6.483       10.623           0.880   \n",
       "57  Portugal  Western Europe  5.929       10.421           0.879   \n",
       "\n",
       "    life_expectancy  freedom_to_make_life_choices  generosity  \\\n",
       "3            73.000                         0.955       0.160   \n",
       "26           74.700                         0.761      -0.081   \n",
       "67           72.600                         0.582      -0.288   \n",
       "38           73.898                         0.763      -0.015   \n",
       "27           73.800                         0.693      -0.084   \n",
       "57           72.600                         0.892      -0.244   \n",
       "\n",
       "    perceptions_of_corruption  ti_corrupt_harmonized  covid_deaths  \\\n",
       "3                       0.673                   0.25          29.0   \n",
       "26                      0.745                   0.38       50837.0   \n",
       "67                      0.823                   0.50        4838.0   \n",
       "38                      0.844                   0.43         119.0   \n",
       "27                      0.866                   0.47       74159.0   \n",
       "57                      0.887                   0.39        6906.0   \n",
       "\n",
       "    covid_cases     pop_2020   death_100k  cases_100k  oecd  \n",
       "3        5754.0      363,000         7.99     1585.12     1  \n",
       "26    1928265.0   47,133,000       107.86     4091.11     1  \n",
       "67     138850.0   10,658,000        45.39     1302.78     1  \n",
       "38      22019.0    1,207,000         9.86     1824.28     0  \n",
       "27    2107166.0   60,177,000       123.23     3501.61     1  \n",
       "57     413678.0   10,254,000        67.35     4034.31     1  "
      ],
      "text/html": "<div>\n<style scoped>\n    .dataframe tbody tr th:only-of-type {\n        vertical-align: middle;\n    }\n\n    .dataframe tbody tr th {\n        vertical-align: top;\n    }\n\n    .dataframe thead th {\n        text-align: right;\n    }\n</style>\n<table border=\"1\" class=\"dataframe\">\n  <thead>\n    <tr style=\"text-align: right;\">\n      <th></th>\n      <th>country</th>\n      <th>region</th>\n      <th>score</th>\n      <th>log_gdp_cap</th>\n      <th>social_support</th>\n      <th>life_expectancy</th>\n      <th>freedom_to_make_life_choices</th>\n      <th>generosity</th>\n      <th>perceptions_of_corruption</th>\n      <th>ti_corrupt_harmonized</th>\n      <th>covid_deaths</th>\n      <th>covid_cases</th>\n      <th>pop_2020</th>\n      <th>death_100k</th>\n      <th>cases_100k</th>\n      <th>oecd</th>\n    </tr>\n  </thead>\n  <tbody>\n    <tr>\n      <th>3</th>\n      <td>Iceland</td>\n      <td>Western Europe</td>\n      <td>7.554</td>\n      <td>10.878</td>\n      <td>0.983</td>\n      <td>73.000</td>\n      <td>0.955</td>\n      <td>0.160</td>\n      <td>0.673</td>\n      <td>0.25</td>\n      <td>29.0</td>\n      <td>5754.0</td>\n      <td>363,000</td>\n      <td>7.99</td>\n      <td>1585.12</td>\n      <td>1</td>\n    </tr>\n    <tr>\n      <th>26</th>\n      <td>Spain</td>\n      <td>Western Europe</td>\n      <td>6.491</td>\n      <td>10.571</td>\n      <td>0.932</td>\n      <td>74.700</td>\n      <td>0.761</td>\n      <td>-0.081</td>\n      <td>0.745</td>\n      <td>0.38</td>\n      <td>50837.0</td>\n      <td>1928265.0</td>\n      <td>47,133,000</td>\n      <td>107.86</td>\n      <td>4091.11</td>\n      <td>1</td>\n    </tr>\n    <tr>\n      <th>67</th>\n      <td>Greece</td>\n      <td>Western Europe</td>\n      <td>5.723</td>\n      <td>10.279</td>\n      <td>0.823</td>\n      <td>72.600</td>\n      <td>0.582</td>\n      <td>-0.288</td>\n      <td>0.823</td>\n      <td>0.50</td>\n      <td>4838.0</td>\n      <td>138850.0</td>\n      <td>10,658,000</td>\n      <td>45.39</td>\n      <td>1302.78</td>\n      <td>1</td>\n    </tr>\n    <tr>\n      <th>38</th>\n      <td>Cyprus</td>\n      <td>Western Europe</td>\n      <td>6.223</td>\n      <td>10.576</td>\n      <td>0.802</td>\n      <td>73.898</td>\n      <td>0.763</td>\n      <td>-0.015</td>\n      <td>0.844</td>\n      <td>0.43</td>\n      <td>119.0</td>\n      <td>22019.0</td>\n      <td>1,207,000</td>\n      <td>9.86</td>\n      <td>1824.28</td>\n      <td>0</td>\n    </tr>\n    <tr>\n      <th>27</th>\n      <td>Italy</td>\n      <td>Western Europe</td>\n      <td>6.483</td>\n      <td>10.623</td>\n      <td>0.880</td>\n      <td>73.800</td>\n      <td>0.693</td>\n      <td>-0.084</td>\n      <td>0.866</td>\n      <td>0.47</td>\n      <td>74159.0</td>\n      <td>2107166.0</td>\n      <td>60,177,000</td>\n      <td>123.23</td>\n      <td>3501.61</td>\n      <td>1</td>\n    </tr>\n    <tr>\n      <th>57</th>\n      <td>Portugal</td>\n      <td>Western Europe</td>\n      <td>5.929</td>\n      <td>10.421</td>\n      <td>0.879</td>\n      <td>72.600</td>\n      <td>0.892</td>\n      <td>-0.244</td>\n      <td>0.887</td>\n      <td>0.39</td>\n      <td>6906.0</td>\n      <td>413678.0</td>\n      <td>10,254,000</td>\n      <td>67.35</td>\n      <td>4034.31</td>\n      <td>1</td>\n    </tr>\n  </tbody>\n</table>\n</div>"
     },
     "metadata": {},
     "execution_count": 104
    }
   ],
   "source": [
    "w_europe.sort_values(by = 'perceptions_of_corruption').tail(6)"
   ]
  },
  {
   "cell_type": "code",
   "execution_count": 105,
   "metadata": {},
   "outputs": [
    {
     "output_type": "execute_result",
     "data": {
      "text/plain": [
       "         country          region  score  log_gdp_cap  social_support  \\\n",
       "3        Iceland  Western Europe  7.554       10.878           0.983   \n",
       "14       Ireland  Western Europe  7.085       11.342           0.947   \n",
       "20        France  Western Europe  6.690       10.704           0.942   \n",
       "26         Spain  Western Europe  6.491       10.571           0.932   \n",
       "57      Portugal  Western Europe  5.929       10.421           0.879   \n",
       "38        Cyprus  Western Europe  6.223       10.576           0.802   \n",
       "22         Malta  Western Europe  6.602       10.674           0.931   \n",
       "27         Italy  Western Europe  6.483       10.623           0.880   \n",
       "67        Greece  Western Europe  5.723       10.279           0.823   \n",
       "73  North Cyprus  Western Europe  5.536       10.576           0.820   \n",
       "\n",
       "    life_expectancy  freedom_to_make_life_choices  generosity  \\\n",
       "3            73.000                         0.955       0.160   \n",
       "14           72.400                         0.879       0.077   \n",
       "20           74.000                         0.822      -0.147   \n",
       "26           74.700                         0.761      -0.081   \n",
       "57           72.600                         0.892      -0.244   \n",
       "38           73.898                         0.763      -0.015   \n",
       "22           72.200                         0.927       0.133   \n",
       "27           73.800                         0.693      -0.084   \n",
       "67           72.600                         0.582      -0.288   \n",
       "73           73.898                         0.795       0.012   \n",
       "\n",
       "    perceptions_of_corruption  ti_corrupt_harmonized  covid_deaths  \\\n",
       "3                       0.673                   0.25          29.0   \n",
       "14                      0.363                   0.28        2237.0   \n",
       "20                      0.571                   0.31       64267.0   \n",
       "26                      0.745                   0.38       50837.0   \n",
       "57                      0.887                   0.39        6906.0   \n",
       "38                      0.844                   0.43         119.0   \n",
       "22                      0.653                   0.47         219.0   \n",
       "27                      0.866                   0.47       74159.0   \n",
       "67                      0.823                   0.50        4838.0   \n",
       "73                      0.626                    NaN           NaN   \n",
       "\n",
       "    covid_cases     pop_2020   death_100k  cases_100k  oecd  \n",
       "3        5754.0      363,000         7.99     1585.12     1  \n",
       "14      91779.0    4,983,000        44.89     1841.84     1  \n",
       "20    2616902.0   67,202,000        95.63     3894.08     1  \n",
       "26    1928265.0   47,133,000       107.86     4091.11     1  \n",
       "57     413678.0   10,254,000        67.35     4034.31     1  \n",
       "38      22019.0    1,207,000         9.86     1824.28     0  \n",
       "22      12774.0      505,000        43.37     2529.50     0  \n",
       "27    2107166.0   60,177,000       123.23     3501.61     1  \n",
       "67     138850.0   10,658,000        45.39     1302.78     1  \n",
       "73          NaN      326,000         0.00        0.00     0  "
      ],
      "text/html": "<div>\n<style scoped>\n    .dataframe tbody tr th:only-of-type {\n        vertical-align: middle;\n    }\n\n    .dataframe tbody tr th {\n        vertical-align: top;\n    }\n\n    .dataframe thead th {\n        text-align: right;\n    }\n</style>\n<table border=\"1\" class=\"dataframe\">\n  <thead>\n    <tr style=\"text-align: right;\">\n      <th></th>\n      <th>country</th>\n      <th>region</th>\n      <th>score</th>\n      <th>log_gdp_cap</th>\n      <th>social_support</th>\n      <th>life_expectancy</th>\n      <th>freedom_to_make_life_choices</th>\n      <th>generosity</th>\n      <th>perceptions_of_corruption</th>\n      <th>ti_corrupt_harmonized</th>\n      <th>covid_deaths</th>\n      <th>covid_cases</th>\n      <th>pop_2020</th>\n      <th>death_100k</th>\n      <th>cases_100k</th>\n      <th>oecd</th>\n    </tr>\n  </thead>\n  <tbody>\n    <tr>\n      <th>3</th>\n      <td>Iceland</td>\n      <td>Western Europe</td>\n      <td>7.554</td>\n      <td>10.878</td>\n      <td>0.983</td>\n      <td>73.000</td>\n      <td>0.955</td>\n      <td>0.160</td>\n      <td>0.673</td>\n      <td>0.25</td>\n      <td>29.0</td>\n      <td>5754.0</td>\n      <td>363,000</td>\n      <td>7.99</td>\n      <td>1585.12</td>\n      <td>1</td>\n    </tr>\n    <tr>\n      <th>14</th>\n      <td>Ireland</td>\n      <td>Western Europe</td>\n      <td>7.085</td>\n      <td>11.342</td>\n      <td>0.947</td>\n      <td>72.400</td>\n      <td>0.879</td>\n      <td>0.077</td>\n      <td>0.363</td>\n      <td>0.28</td>\n      <td>2237.0</td>\n      <td>91779.0</td>\n      <td>4,983,000</td>\n      <td>44.89</td>\n      <td>1841.84</td>\n      <td>1</td>\n    </tr>\n    <tr>\n      <th>20</th>\n      <td>France</td>\n      <td>Western Europe</td>\n      <td>6.690</td>\n      <td>10.704</td>\n      <td>0.942</td>\n      <td>74.000</td>\n      <td>0.822</td>\n      <td>-0.147</td>\n      <td>0.571</td>\n      <td>0.31</td>\n      <td>64267.0</td>\n      <td>2616902.0</td>\n      <td>67,202,000</td>\n      <td>95.63</td>\n      <td>3894.08</td>\n      <td>1</td>\n    </tr>\n    <tr>\n      <th>26</th>\n      <td>Spain</td>\n      <td>Western Europe</td>\n      <td>6.491</td>\n      <td>10.571</td>\n      <td>0.932</td>\n      <td>74.700</td>\n      <td>0.761</td>\n      <td>-0.081</td>\n      <td>0.745</td>\n      <td>0.38</td>\n      <td>50837.0</td>\n      <td>1928265.0</td>\n      <td>47,133,000</td>\n      <td>107.86</td>\n      <td>4091.11</td>\n      <td>1</td>\n    </tr>\n    <tr>\n      <th>57</th>\n      <td>Portugal</td>\n      <td>Western Europe</td>\n      <td>5.929</td>\n      <td>10.421</td>\n      <td>0.879</td>\n      <td>72.600</td>\n      <td>0.892</td>\n      <td>-0.244</td>\n      <td>0.887</td>\n      <td>0.39</td>\n      <td>6906.0</td>\n      <td>413678.0</td>\n      <td>10,254,000</td>\n      <td>67.35</td>\n      <td>4034.31</td>\n      <td>1</td>\n    </tr>\n    <tr>\n      <th>38</th>\n      <td>Cyprus</td>\n      <td>Western Europe</td>\n      <td>6.223</td>\n      <td>10.576</td>\n      <td>0.802</td>\n      <td>73.898</td>\n      <td>0.763</td>\n      <td>-0.015</td>\n      <td>0.844</td>\n      <td>0.43</td>\n      <td>119.0</td>\n      <td>22019.0</td>\n      <td>1,207,000</td>\n      <td>9.86</td>\n      <td>1824.28</td>\n      <td>0</td>\n    </tr>\n    <tr>\n      <th>22</th>\n      <td>Malta</td>\n      <td>Western Europe</td>\n      <td>6.602</td>\n      <td>10.674</td>\n      <td>0.931</td>\n      <td>72.200</td>\n      <td>0.927</td>\n      <td>0.133</td>\n      <td>0.653</td>\n      <td>0.47</td>\n      <td>219.0</td>\n      <td>12774.0</td>\n      <td>505,000</td>\n      <td>43.37</td>\n      <td>2529.50</td>\n      <td>0</td>\n    </tr>\n    <tr>\n      <th>27</th>\n      <td>Italy</td>\n      <td>Western Europe</td>\n      <td>6.483</td>\n      <td>10.623</td>\n      <td>0.880</td>\n      <td>73.800</td>\n      <td>0.693</td>\n      <td>-0.084</td>\n      <td>0.866</td>\n      <td>0.47</td>\n      <td>74159.0</td>\n      <td>2107166.0</td>\n      <td>60,177,000</td>\n      <td>123.23</td>\n      <td>3501.61</td>\n      <td>1</td>\n    </tr>\n    <tr>\n      <th>67</th>\n      <td>Greece</td>\n      <td>Western Europe</td>\n      <td>5.723</td>\n      <td>10.279</td>\n      <td>0.823</td>\n      <td>72.600</td>\n      <td>0.582</td>\n      <td>-0.288</td>\n      <td>0.823</td>\n      <td>0.50</td>\n      <td>4838.0</td>\n      <td>138850.0</td>\n      <td>10,658,000</td>\n      <td>45.39</td>\n      <td>1302.78</td>\n      <td>1</td>\n    </tr>\n    <tr>\n      <th>73</th>\n      <td>North Cyprus</td>\n      <td>Western Europe</td>\n      <td>5.536</td>\n      <td>10.576</td>\n      <td>0.820</td>\n      <td>73.898</td>\n      <td>0.795</td>\n      <td>0.012</td>\n      <td>0.626</td>\n      <td>NaN</td>\n      <td>NaN</td>\n      <td>NaN</td>\n      <td>326,000</td>\n      <td>0.00</td>\n      <td>0.00</td>\n      <td>0</td>\n    </tr>\n  </tbody>\n</table>\n</div>"
     },
     "metadata": {},
     "execution_count": 105
    }
   ],
   "source": [
    "w_europe.sort_values(by = 'ti_corrupt_harmonized').tail(10)"
   ]
  },
  {
   "cell_type": "code",
   "execution_count": 106,
   "id": "090898d3",
   "metadata": {},
   "outputs": [
    {
     "output_type": "execute_result",
     "data": {
      "text/plain": [
       "Text(0.25, 0.673, 'Iceland')"
      ]
     },
     "metadata": {},
     "execution_count": 106
    },
    {
     "output_type": "display_data",
     "data": {
      "text/plain": "<Figure size 432x288 with 1 Axes>",
      "image/svg+xml": "<?xml version=\"1.0\" encoding=\"utf-8\" standalone=\"no\"?>\r\n<!DOCTYPE svg PUBLIC \"-//W3C//DTD SVG 1.1//EN\"\r\n  \"http://www.w3.org/Graphics/SVG/1.1/DTD/svg11.dtd\">\r\n<svg height=\"266.273594pt\" version=\"1.1\" viewBox=\"0 0 394.010937 266.273594\" width=\"394.010937pt\" xmlns=\"http://www.w3.org/2000/svg\" xmlns:xlink=\"http://www.w3.org/1999/xlink\">\r\n <metadata>\r\n  <rdf:RDF xmlns:cc=\"http://creativecommons.org/ns#\" xmlns:dc=\"http://purl.org/dc/elements/1.1/\" xmlns:rdf=\"http://www.w3.org/1999/02/22-rdf-syntax-ns#\">\r\n   <cc:Work>\r\n    <dc:type rdf:resource=\"http://purl.org/dc/dcmitype/StillImage\"/>\r\n    <dc:date>2021-06-25T10:19:45.686091</dc:date>\r\n    <dc:format>image/svg+xml</dc:format>\r\n    <dc:creator>\r\n     <cc:Agent>\r\n      <dc:title>Matplotlib v3.4.2, https://matplotlib.org/</dc:title>\r\n     </cc:Agent>\r\n    </dc:creator>\r\n   </cc:Work>\r\n  </rdf:RDF>\r\n </metadata>\r\n <defs>\r\n  <style type=\"text/css\">*{stroke-linecap:butt;stroke-linejoin:round;}</style>\r\n </defs>\r\n <g id=\"figure_1\">\r\n  <g id=\"patch_1\">\r\n   <path d=\"M 0 266.273594 \r\nL 394.010937 266.273594 \r\nL 394.010937 0 \r\nL 0 0 \r\nz\r\n\" style=\"fill:none;\"/>\r\n  </g>\r\n  <g id=\"axes_1\">\r\n   <g id=\"patch_2\">\r\n    <path d=\"M 44.059375 228.439219 \r\nL 378.859375 228.439219 \r\nL 378.859375 10.999219 \r\nL 44.059375 10.999219 \r\nz\r\n\" style=\"fill:#ffffff;\"/>\r\n   </g>\r\n   <g id=\"PathCollection_1\">\r\n    <defs>\r\n     <path d=\"M 0 2.236068 \r\nC 0.593012 2.236068 1.161816 2.000462 1.581139 1.581139 \r\nC 2.000462 1.161816 2.236068 0.593012 2.236068 0 \r\nC 2.236068 -0.593012 2.000462 -1.161816 1.581139 -1.581139 \r\nC 1.161816 -2.000462 0.593012 -2.236068 0 -2.236068 \r\nC -0.593012 -2.236068 -1.161816 -2.000462 -1.581139 -1.581139 \r\nC -2.000462 -1.161816 -2.236068 -0.593012 -2.236068 0 \r\nC -2.236068 0.593012 -2.000462 1.161816 -1.581139 1.581139 \r\nC -1.161816 2.000462 -0.593012 2.236068 0 2.236068 \r\nz\r\n\" id=\"m4149a7a975\" style=\"stroke:#1f77b4;\"/>\r\n    </defs>\r\n    <g clip-path=\"url(#p270b28761e)\">\r\n     <use style=\"fill:#1f77b4;stroke:#1f77b4;\" x=\"94.279375\" xlink:href=\"#m4149a7a975\" y=\"187.995379\"/>\r\n     <use style=\"fill:#1f77b4;stroke:#1f77b4;\" x=\"84.235375\" xlink:href=\"#m4149a7a975\" y=\"189.517459\"/>\r\n     <use style=\"fill:#1f77b4;stroke:#1f77b4;\" x=\"94.279375\" xlink:href=\"#m4149a7a975\" y=\"164.946739\"/>\r\n     <use style=\"fill:#1f77b4;stroke:#1f77b4;\" x=\"127.759375\" xlink:href=\"#m4149a7a975\" y=\"82.102099\"/>\r\n     <use style=\"fill:#1f77b4;stroke:#1f77b4;\" x=\"104.323375\" xlink:href=\"#m4149a7a975\" y=\"154.944499\"/>\r\n     <use style=\"fill:#1f77b4;stroke:#1f77b4;\" x=\"97.627375\" xlink:href=\"#m4149a7a975\" y=\"169.730419\"/>\r\n     <use style=\"fill:#1f77b4;stroke:#1f77b4;\" x=\"94.279375\" xlink:href=\"#m4149a7a975\" y=\"176.905939\"/>\r\n     <use style=\"fill:#1f77b4;stroke:#1f77b4;\" x=\"111.019375\" xlink:href=\"#m4149a7a975\" y=\"144.507379\"/>\r\n     <use style=\"fill:#1f77b4;stroke:#1f77b4;\" x=\"124.411375\" xlink:href=\"#m4149a7a975\" y=\"123.850579\"/>\r\n     <use style=\"fill:#1f77b4;stroke:#1f77b4;\" x=\"111.019375\" xlink:href=\"#m4149a7a975\" y=\"128.416819\"/>\r\n     <use style=\"fill:#1f77b4;stroke:#1f77b4;\" x=\"137.803375\" xlink:href=\"#m4149a7a975\" y=\"149.508499\"/>\r\n     <use style=\"fill:#1f77b4;stroke:#1f77b4;\" x=\"121.063375\" xlink:href=\"#m4149a7a975\" y=\"128.634259\"/>\r\n     <use style=\"fill:#1f77b4;stroke:#1f77b4;\" x=\"124.411375\" xlink:href=\"#m4149a7a975\" y=\"87.972979\"/>\r\n     <use style=\"fill:#1f77b4;stroke:#1f77b4;\" x=\"147.847375\" xlink:href=\"#m4149a7a975\" y=\"104.280979\"/>\r\n     <use style=\"fill:#1f77b4;stroke:#1f77b4;\" x=\"201.415375\" xlink:href=\"#m4149a7a975\" y=\"86.450899\"/>\r\n     <use style=\"fill:#1f77b4;stroke:#1f77b4;\" x=\"171.283375\" xlink:href=\"#m4149a7a975\" y=\"66.446419\"/>\r\n     <use style=\"fill:#1f77b4;stroke:#1f77b4;\" x=\"201.415375\" xlink:href=\"#m4149a7a975\" y=\"40.136179\"/>\r\n     <use style=\"fill:#1f77b4;stroke:#1f77b4;\" x=\"188.023375\" xlink:href=\"#m4149a7a975\" y=\"44.919859\"/>\r\n     <use style=\"fill:#1f77b4;stroke:#1f77b4;\" x=\"174.631375\" xlink:href=\"#m4149a7a975\" y=\"35.569939\"/>\r\n     <use style=\"fill:#1f77b4;stroke:#1f77b4;\" x=\"211.459375\" xlink:href=\"#m4149a7a975\" y=\"49.486099\"/>\r\n    </g>\r\n   </g>\r\n   <g id=\"matplotlib.axis_1\">\r\n    <g id=\"xtick_1\">\r\n     <g id=\"line2d_1\">\r\n      <defs>\r\n       <path d=\"M 0 0 \r\nL 0 3.5 \r\n\" id=\"m8fbe88e2a6\" style=\"stroke:#000000;stroke-width:0.8;\"/>\r\n      </defs>\r\n      <g>\r\n       <use style=\"stroke:#000000;stroke-width:0.8;\" x=\"44.059375\" xlink:href=\"#m8fbe88e2a6\" y=\"228.439219\"/>\r\n      </g>\r\n     </g>\r\n     <g id=\"text_1\">\r\n      <!-- 0.0 -->\r\n      <g transform=\"translate(36.107813 243.037656)scale(0.1 -0.1)\">\r\n       <defs>\r\n        <path d=\"M 2034 4250 \r\nQ 1547 4250 1301 3770 \r\nQ 1056 3291 1056 2328 \r\nQ 1056 1369 1301 889 \r\nQ 1547 409 2034 409 \r\nQ 2525 409 2770 889 \r\nQ 3016 1369 3016 2328 \r\nQ 3016 3291 2770 3770 \r\nQ 2525 4250 2034 4250 \r\nz\r\nM 2034 4750 \r\nQ 2819 4750 3233 4129 \r\nQ 3647 3509 3647 2328 \r\nQ 3647 1150 3233 529 \r\nQ 2819 -91 2034 -91 \r\nQ 1250 -91 836 529 \r\nQ 422 1150 422 2328 \r\nQ 422 3509 836 4129 \r\nQ 1250 4750 2034 4750 \r\nz\r\n\" id=\"DejaVuSans-30\" transform=\"scale(0.015625)\"/>\r\n        <path d=\"M 684 794 \r\nL 1344 794 \r\nL 1344 0 \r\nL 684 0 \r\nL 684 794 \r\nz\r\n\" id=\"DejaVuSans-2e\" transform=\"scale(0.015625)\"/>\r\n       </defs>\r\n       <use xlink:href=\"#DejaVuSans-30\"/>\r\n       <use x=\"63.623047\" xlink:href=\"#DejaVuSans-2e\"/>\r\n       <use x=\"95.410156\" xlink:href=\"#DejaVuSans-30\"/>\r\n      </g>\r\n     </g>\r\n    </g>\r\n    <g id=\"xtick_2\">\r\n     <g id=\"line2d_2\">\r\n      <g>\r\n       <use style=\"stroke:#000000;stroke-width:0.8;\" x=\"111.019375\" xlink:href=\"#m8fbe88e2a6\" y=\"228.439219\"/>\r\n      </g>\r\n     </g>\r\n     <g id=\"text_2\">\r\n      <!-- 0.2 -->\r\n      <g transform=\"translate(103.067813 243.037656)scale(0.1 -0.1)\">\r\n       <defs>\r\n        <path d=\"M 1228 531 \r\nL 3431 531 \r\nL 3431 0 \r\nL 469 0 \r\nL 469 531 \r\nQ 828 903 1448 1529 \r\nQ 2069 2156 2228 2338 \r\nQ 2531 2678 2651 2914 \r\nQ 2772 3150 2772 3378 \r\nQ 2772 3750 2511 3984 \r\nQ 2250 4219 1831 4219 \r\nQ 1534 4219 1204 4116 \r\nQ 875 4013 500 3803 \r\nL 500 4441 \r\nQ 881 4594 1212 4672 \r\nQ 1544 4750 1819 4750 \r\nQ 2544 4750 2975 4387 \r\nQ 3406 4025 3406 3419 \r\nQ 3406 3131 3298 2873 \r\nQ 3191 2616 2906 2266 \r\nQ 2828 2175 2409 1742 \r\nQ 1991 1309 1228 531 \r\nz\r\n\" id=\"DejaVuSans-32\" transform=\"scale(0.015625)\"/>\r\n       </defs>\r\n       <use xlink:href=\"#DejaVuSans-30\"/>\r\n       <use x=\"63.623047\" xlink:href=\"#DejaVuSans-2e\"/>\r\n       <use x=\"95.410156\" xlink:href=\"#DejaVuSans-32\"/>\r\n      </g>\r\n     </g>\r\n    </g>\r\n    <g id=\"xtick_3\">\r\n     <g id=\"line2d_3\">\r\n      <g>\r\n       <use style=\"stroke:#000000;stroke-width:0.8;\" x=\"177.979375\" xlink:href=\"#m8fbe88e2a6\" y=\"228.439219\"/>\r\n      </g>\r\n     </g>\r\n     <g id=\"text_3\">\r\n      <!-- 0.4 -->\r\n      <g transform=\"translate(170.027813 243.037656)scale(0.1 -0.1)\">\r\n       <defs>\r\n        <path d=\"M 2419 4116 \r\nL 825 1625 \r\nL 2419 1625 \r\nL 2419 4116 \r\nz\r\nM 2253 4666 \r\nL 3047 4666 \r\nL 3047 1625 \r\nL 3713 1625 \r\nL 3713 1100 \r\nL 3047 1100 \r\nL 3047 0 \r\nL 2419 0 \r\nL 2419 1100 \r\nL 313 1100 \r\nL 313 1709 \r\nL 2253 4666 \r\nz\r\n\" id=\"DejaVuSans-34\" transform=\"scale(0.015625)\"/>\r\n       </defs>\r\n       <use xlink:href=\"#DejaVuSans-30\"/>\r\n       <use x=\"63.623047\" xlink:href=\"#DejaVuSans-2e\"/>\r\n       <use x=\"95.410156\" xlink:href=\"#DejaVuSans-34\"/>\r\n      </g>\r\n     </g>\r\n    </g>\r\n    <g id=\"xtick_4\">\r\n     <g id=\"line2d_4\">\r\n      <g>\r\n       <use style=\"stroke:#000000;stroke-width:0.8;\" x=\"244.939375\" xlink:href=\"#m8fbe88e2a6\" y=\"228.439219\"/>\r\n      </g>\r\n     </g>\r\n     <g id=\"text_4\">\r\n      <!-- 0.6 -->\r\n      <g transform=\"translate(236.987813 243.037656)scale(0.1 -0.1)\">\r\n       <defs>\r\n        <path d=\"M 2113 2584 \r\nQ 1688 2584 1439 2293 \r\nQ 1191 2003 1191 1497 \r\nQ 1191 994 1439 701 \r\nQ 1688 409 2113 409 \r\nQ 2538 409 2786 701 \r\nQ 3034 994 3034 1497 \r\nQ 3034 2003 2786 2293 \r\nQ 2538 2584 2113 2584 \r\nz\r\nM 3366 4563 \r\nL 3366 3988 \r\nQ 3128 4100 2886 4159 \r\nQ 2644 4219 2406 4219 \r\nQ 1781 4219 1451 3797 \r\nQ 1122 3375 1075 2522 \r\nQ 1259 2794 1537 2939 \r\nQ 1816 3084 2150 3084 \r\nQ 2853 3084 3261 2657 \r\nQ 3669 2231 3669 1497 \r\nQ 3669 778 3244 343 \r\nQ 2819 -91 2113 -91 \r\nQ 1303 -91 875 529 \r\nQ 447 1150 447 2328 \r\nQ 447 3434 972 4092 \r\nQ 1497 4750 2381 4750 \r\nQ 2619 4750 2861 4703 \r\nQ 3103 4656 3366 4563 \r\nz\r\n\" id=\"DejaVuSans-36\" transform=\"scale(0.015625)\"/>\r\n       </defs>\r\n       <use xlink:href=\"#DejaVuSans-30\"/>\r\n       <use x=\"63.623047\" xlink:href=\"#DejaVuSans-2e\"/>\r\n       <use x=\"95.410156\" xlink:href=\"#DejaVuSans-36\"/>\r\n      </g>\r\n     </g>\r\n    </g>\r\n    <g id=\"xtick_5\">\r\n     <g id=\"line2d_5\">\r\n      <g>\r\n       <use style=\"stroke:#000000;stroke-width:0.8;\" x=\"311.899375\" xlink:href=\"#m8fbe88e2a6\" y=\"228.439219\"/>\r\n      </g>\r\n     </g>\r\n     <g id=\"text_5\">\r\n      <!-- 0.8 -->\r\n      <g transform=\"translate(303.947812 243.037656)scale(0.1 -0.1)\">\r\n       <defs>\r\n        <path d=\"M 2034 2216 \r\nQ 1584 2216 1326 1975 \r\nQ 1069 1734 1069 1313 \r\nQ 1069 891 1326 650 \r\nQ 1584 409 2034 409 \r\nQ 2484 409 2743 651 \r\nQ 3003 894 3003 1313 \r\nQ 3003 1734 2745 1975 \r\nQ 2488 2216 2034 2216 \r\nz\r\nM 1403 2484 \r\nQ 997 2584 770 2862 \r\nQ 544 3141 544 3541 \r\nQ 544 4100 942 4425 \r\nQ 1341 4750 2034 4750 \r\nQ 2731 4750 3128 4425 \r\nQ 3525 4100 3525 3541 \r\nQ 3525 3141 3298 2862 \r\nQ 3072 2584 2669 2484 \r\nQ 3125 2378 3379 2068 \r\nQ 3634 1759 3634 1313 \r\nQ 3634 634 3220 271 \r\nQ 2806 -91 2034 -91 \r\nQ 1263 -91 848 271 \r\nQ 434 634 434 1313 \r\nQ 434 1759 690 2068 \r\nQ 947 2378 1403 2484 \r\nz\r\nM 1172 3481 \r\nQ 1172 3119 1398 2916 \r\nQ 1625 2713 2034 2713 \r\nQ 2441 2713 2670 2916 \r\nQ 2900 3119 2900 3481 \r\nQ 2900 3844 2670 4047 \r\nQ 2441 4250 2034 4250 \r\nQ 1625 4250 1398 4047 \r\nQ 1172 3844 1172 3481 \r\nz\r\n\" id=\"DejaVuSans-38\" transform=\"scale(0.015625)\"/>\r\n       </defs>\r\n       <use xlink:href=\"#DejaVuSans-30\"/>\r\n       <use x=\"63.623047\" xlink:href=\"#DejaVuSans-2e\"/>\r\n       <use x=\"95.410156\" xlink:href=\"#DejaVuSans-38\"/>\r\n      </g>\r\n     </g>\r\n    </g>\r\n    <g id=\"xtick_6\">\r\n     <g id=\"line2d_6\">\r\n      <g>\r\n       <use style=\"stroke:#000000;stroke-width:0.8;\" x=\"378.859375\" xlink:href=\"#m8fbe88e2a6\" y=\"228.439219\"/>\r\n      </g>\r\n     </g>\r\n     <g id=\"text_6\">\r\n      <!-- 1.0 -->\r\n      <g transform=\"translate(370.907812 243.037656)scale(0.1 -0.1)\">\r\n       <defs>\r\n        <path d=\"M 794 531 \r\nL 1825 531 \r\nL 1825 4091 \r\nL 703 3866 \r\nL 703 4441 \r\nL 1819 4666 \r\nL 2450 4666 \r\nL 2450 531 \r\nL 3481 531 \r\nL 3481 0 \r\nL 794 0 \r\nL 794 531 \r\nz\r\n\" id=\"DejaVuSans-31\" transform=\"scale(0.015625)\"/>\r\n       </defs>\r\n       <use xlink:href=\"#DejaVuSans-31\"/>\r\n       <use x=\"63.623047\" xlink:href=\"#DejaVuSans-2e\"/>\r\n       <use x=\"95.410156\" xlink:href=\"#DejaVuSans-30\"/>\r\n      </g>\r\n     </g>\r\n    </g>\r\n    <g id=\"text_7\">\r\n     <!-- ti_corrupt_harmonized -->\r\n     <g transform=\"translate(155.411719 256.715781)scale(0.1 -0.1)\">\r\n      <defs>\r\n       <path d=\"M 1172 4494 \r\nL 1172 3500 \r\nL 2356 3500 \r\nL 2356 3053 \r\nL 1172 3053 \r\nL 1172 1153 \r\nQ 1172 725 1289 603 \r\nQ 1406 481 1766 481 \r\nL 2356 481 \r\nL 2356 0 \r\nL 1766 0 \r\nQ 1100 0 847 248 \r\nQ 594 497 594 1153 \r\nL 594 3053 \r\nL 172 3053 \r\nL 172 3500 \r\nL 594 3500 \r\nL 594 4494 \r\nL 1172 4494 \r\nz\r\n\" id=\"DejaVuSans-74\" transform=\"scale(0.015625)\"/>\r\n       <path d=\"M 603 3500 \r\nL 1178 3500 \r\nL 1178 0 \r\nL 603 0 \r\nL 603 3500 \r\nz\r\nM 603 4863 \r\nL 1178 4863 \r\nL 1178 4134 \r\nL 603 4134 \r\nL 603 4863 \r\nz\r\n\" id=\"DejaVuSans-69\" transform=\"scale(0.015625)\"/>\r\n       <path d=\"M 3263 -1063 \r\nL 3263 -1509 \r\nL -63 -1509 \r\nL -63 -1063 \r\nL 3263 -1063 \r\nz\r\n\" id=\"DejaVuSans-5f\" transform=\"scale(0.015625)\"/>\r\n       <path d=\"M 3122 3366 \r\nL 3122 2828 \r\nQ 2878 2963 2633 3030 \r\nQ 2388 3097 2138 3097 \r\nQ 1578 3097 1268 2742 \r\nQ 959 2388 959 1747 \r\nQ 959 1106 1268 751 \r\nQ 1578 397 2138 397 \r\nQ 2388 397 2633 464 \r\nQ 2878 531 3122 666 \r\nL 3122 134 \r\nQ 2881 22 2623 -34 \r\nQ 2366 -91 2075 -91 \r\nQ 1284 -91 818 406 \r\nQ 353 903 353 1747 \r\nQ 353 2603 823 3093 \r\nQ 1294 3584 2113 3584 \r\nQ 2378 3584 2631 3529 \r\nQ 2884 3475 3122 3366 \r\nz\r\n\" id=\"DejaVuSans-63\" transform=\"scale(0.015625)\"/>\r\n       <path d=\"M 1959 3097 \r\nQ 1497 3097 1228 2736 \r\nQ 959 2375 959 1747 \r\nQ 959 1119 1226 758 \r\nQ 1494 397 1959 397 \r\nQ 2419 397 2687 759 \r\nQ 2956 1122 2956 1747 \r\nQ 2956 2369 2687 2733 \r\nQ 2419 3097 1959 3097 \r\nz\r\nM 1959 3584 \r\nQ 2709 3584 3137 3096 \r\nQ 3566 2609 3566 1747 \r\nQ 3566 888 3137 398 \r\nQ 2709 -91 1959 -91 \r\nQ 1206 -91 779 398 \r\nQ 353 888 353 1747 \r\nQ 353 2609 779 3096 \r\nQ 1206 3584 1959 3584 \r\nz\r\n\" id=\"DejaVuSans-6f\" transform=\"scale(0.015625)\"/>\r\n       <path d=\"M 2631 2963 \r\nQ 2534 3019 2420 3045 \r\nQ 2306 3072 2169 3072 \r\nQ 1681 3072 1420 2755 \r\nQ 1159 2438 1159 1844 \r\nL 1159 0 \r\nL 581 0 \r\nL 581 3500 \r\nL 1159 3500 \r\nL 1159 2956 \r\nQ 1341 3275 1631 3429 \r\nQ 1922 3584 2338 3584 \r\nQ 2397 3584 2469 3576 \r\nQ 2541 3569 2628 3553 \r\nL 2631 2963 \r\nz\r\n\" id=\"DejaVuSans-72\" transform=\"scale(0.015625)\"/>\r\n       <path d=\"M 544 1381 \r\nL 544 3500 \r\nL 1119 3500 \r\nL 1119 1403 \r\nQ 1119 906 1312 657 \r\nQ 1506 409 1894 409 \r\nQ 2359 409 2629 706 \r\nQ 2900 1003 2900 1516 \r\nL 2900 3500 \r\nL 3475 3500 \r\nL 3475 0 \r\nL 2900 0 \r\nL 2900 538 \r\nQ 2691 219 2414 64 \r\nQ 2138 -91 1772 -91 \r\nQ 1169 -91 856 284 \r\nQ 544 659 544 1381 \r\nz\r\nM 1991 3584 \r\nL 1991 3584 \r\nz\r\n\" id=\"DejaVuSans-75\" transform=\"scale(0.015625)\"/>\r\n       <path d=\"M 1159 525 \r\nL 1159 -1331 \r\nL 581 -1331 \r\nL 581 3500 \r\nL 1159 3500 \r\nL 1159 2969 \r\nQ 1341 3281 1617 3432 \r\nQ 1894 3584 2278 3584 \r\nQ 2916 3584 3314 3078 \r\nQ 3713 2572 3713 1747 \r\nQ 3713 922 3314 415 \r\nQ 2916 -91 2278 -91 \r\nQ 1894 -91 1617 61 \r\nQ 1341 213 1159 525 \r\nz\r\nM 3116 1747 \r\nQ 3116 2381 2855 2742 \r\nQ 2594 3103 2138 3103 \r\nQ 1681 3103 1420 2742 \r\nQ 1159 2381 1159 1747 \r\nQ 1159 1113 1420 752 \r\nQ 1681 391 2138 391 \r\nQ 2594 391 2855 752 \r\nQ 3116 1113 3116 1747 \r\nz\r\n\" id=\"DejaVuSans-70\" transform=\"scale(0.015625)\"/>\r\n       <path d=\"M 3513 2113 \r\nL 3513 0 \r\nL 2938 0 \r\nL 2938 2094 \r\nQ 2938 2591 2744 2837 \r\nQ 2550 3084 2163 3084 \r\nQ 1697 3084 1428 2787 \r\nQ 1159 2491 1159 1978 \r\nL 1159 0 \r\nL 581 0 \r\nL 581 4863 \r\nL 1159 4863 \r\nL 1159 2956 \r\nQ 1366 3272 1645 3428 \r\nQ 1925 3584 2291 3584 \r\nQ 2894 3584 3203 3211 \r\nQ 3513 2838 3513 2113 \r\nz\r\n\" id=\"DejaVuSans-68\" transform=\"scale(0.015625)\"/>\r\n       <path d=\"M 2194 1759 \r\nQ 1497 1759 1228 1600 \r\nQ 959 1441 959 1056 \r\nQ 959 750 1161 570 \r\nQ 1363 391 1709 391 \r\nQ 2188 391 2477 730 \r\nQ 2766 1069 2766 1631 \r\nL 2766 1759 \r\nL 2194 1759 \r\nz\r\nM 3341 1997 \r\nL 3341 0 \r\nL 2766 0 \r\nL 2766 531 \r\nQ 2569 213 2275 61 \r\nQ 1981 -91 1556 -91 \r\nQ 1019 -91 701 211 \r\nQ 384 513 384 1019 \r\nQ 384 1609 779 1909 \r\nQ 1175 2209 1959 2209 \r\nL 2766 2209 \r\nL 2766 2266 \r\nQ 2766 2663 2505 2880 \r\nQ 2244 3097 1772 3097 \r\nQ 1472 3097 1187 3025 \r\nQ 903 2953 641 2809 \r\nL 641 3341 \r\nQ 956 3463 1253 3523 \r\nQ 1550 3584 1831 3584 \r\nQ 2591 3584 2966 3190 \r\nQ 3341 2797 3341 1997 \r\nz\r\n\" id=\"DejaVuSans-61\" transform=\"scale(0.015625)\"/>\r\n       <path d=\"M 3328 2828 \r\nQ 3544 3216 3844 3400 \r\nQ 4144 3584 4550 3584 \r\nQ 5097 3584 5394 3201 \r\nQ 5691 2819 5691 2113 \r\nL 5691 0 \r\nL 5113 0 \r\nL 5113 2094 \r\nQ 5113 2597 4934 2840 \r\nQ 4756 3084 4391 3084 \r\nQ 3944 3084 3684 2787 \r\nQ 3425 2491 3425 1978 \r\nL 3425 0 \r\nL 2847 0 \r\nL 2847 2094 \r\nQ 2847 2600 2669 2842 \r\nQ 2491 3084 2119 3084 \r\nQ 1678 3084 1418 2786 \r\nQ 1159 2488 1159 1978 \r\nL 1159 0 \r\nL 581 0 \r\nL 581 3500 \r\nL 1159 3500 \r\nL 1159 2956 \r\nQ 1356 3278 1631 3431 \r\nQ 1906 3584 2284 3584 \r\nQ 2666 3584 2933 3390 \r\nQ 3200 3197 3328 2828 \r\nz\r\n\" id=\"DejaVuSans-6d\" transform=\"scale(0.015625)\"/>\r\n       <path d=\"M 3513 2113 \r\nL 3513 0 \r\nL 2938 0 \r\nL 2938 2094 \r\nQ 2938 2591 2744 2837 \r\nQ 2550 3084 2163 3084 \r\nQ 1697 3084 1428 2787 \r\nQ 1159 2491 1159 1978 \r\nL 1159 0 \r\nL 581 0 \r\nL 581 3500 \r\nL 1159 3500 \r\nL 1159 2956 \r\nQ 1366 3272 1645 3428 \r\nQ 1925 3584 2291 3584 \r\nQ 2894 3584 3203 3211 \r\nQ 3513 2838 3513 2113 \r\nz\r\n\" id=\"DejaVuSans-6e\" transform=\"scale(0.015625)\"/>\r\n       <path d=\"M 353 3500 \r\nL 3084 3500 \r\nL 3084 2975 \r\nL 922 459 \r\nL 3084 459 \r\nL 3084 0 \r\nL 275 0 \r\nL 275 525 \r\nL 2438 3041 \r\nL 353 3041 \r\nL 353 3500 \r\nz\r\n\" id=\"DejaVuSans-7a\" transform=\"scale(0.015625)\"/>\r\n       <path d=\"M 3597 1894 \r\nL 3597 1613 \r\nL 953 1613 \r\nQ 991 1019 1311 708 \r\nQ 1631 397 2203 397 \r\nQ 2534 397 2845 478 \r\nQ 3156 559 3463 722 \r\nL 3463 178 \r\nQ 3153 47 2828 -22 \r\nQ 2503 -91 2169 -91 \r\nQ 1331 -91 842 396 \r\nQ 353 884 353 1716 \r\nQ 353 2575 817 3079 \r\nQ 1281 3584 2069 3584 \r\nQ 2775 3584 3186 3129 \r\nQ 3597 2675 3597 1894 \r\nz\r\nM 3022 2063 \r\nQ 3016 2534 2758 2815 \r\nQ 2500 3097 2075 3097 \r\nQ 1594 3097 1305 2825 \r\nQ 1016 2553 972 2059 \r\nL 3022 2063 \r\nz\r\n\" id=\"DejaVuSans-65\" transform=\"scale(0.015625)\"/>\r\n       <path d=\"M 2906 2969 \r\nL 2906 4863 \r\nL 3481 4863 \r\nL 3481 0 \r\nL 2906 0 \r\nL 2906 525 \r\nQ 2725 213 2448 61 \r\nQ 2172 -91 1784 -91 \r\nQ 1150 -91 751 415 \r\nQ 353 922 353 1747 \r\nQ 353 2572 751 3078 \r\nQ 1150 3584 1784 3584 \r\nQ 2172 3584 2448 3432 \r\nQ 2725 3281 2906 2969 \r\nz\r\nM 947 1747 \r\nQ 947 1113 1208 752 \r\nQ 1469 391 1925 391 \r\nQ 2381 391 2643 752 \r\nQ 2906 1113 2906 1747 \r\nQ 2906 2381 2643 2742 \r\nQ 2381 3103 1925 3103 \r\nQ 1469 3103 1208 2742 \r\nQ 947 2381 947 1747 \r\nz\r\n\" id=\"DejaVuSans-64\" transform=\"scale(0.015625)\"/>\r\n      </defs>\r\n      <use xlink:href=\"#DejaVuSans-74\"/>\r\n      <use x=\"39.208984\" xlink:href=\"#DejaVuSans-69\"/>\r\n      <use x=\"66.992188\" xlink:href=\"#DejaVuSans-5f\"/>\r\n      <use x=\"116.992188\" xlink:href=\"#DejaVuSans-63\"/>\r\n      <use x=\"171.972656\" xlink:href=\"#DejaVuSans-6f\"/>\r\n      <use x=\"233.154297\" xlink:href=\"#DejaVuSans-72\"/>\r\n      <use x=\"272.517578\" xlink:href=\"#DejaVuSans-72\"/>\r\n      <use x=\"313.630859\" xlink:href=\"#DejaVuSans-75\"/>\r\n      <use x=\"377.009766\" xlink:href=\"#DejaVuSans-70\"/>\r\n      <use x=\"440.486328\" xlink:href=\"#DejaVuSans-74\"/>\r\n      <use x=\"479.695312\" xlink:href=\"#DejaVuSans-5f\"/>\r\n      <use x=\"529.695312\" xlink:href=\"#DejaVuSans-68\"/>\r\n      <use x=\"593.074219\" xlink:href=\"#DejaVuSans-61\"/>\r\n      <use x=\"654.353516\" xlink:href=\"#DejaVuSans-72\"/>\r\n      <use x=\"693.716797\" xlink:href=\"#DejaVuSans-6d\"/>\r\n      <use x=\"791.128906\" xlink:href=\"#DejaVuSans-6f\"/>\r\n      <use x=\"852.310547\" xlink:href=\"#DejaVuSans-6e\"/>\r\n      <use x=\"915.689453\" xlink:href=\"#DejaVuSans-69\"/>\r\n      <use x=\"943.472656\" xlink:href=\"#DejaVuSans-7a\"/>\r\n      <use x=\"995.962891\" xlink:href=\"#DejaVuSans-65\"/>\r\n      <use x=\"1057.486328\" xlink:href=\"#DejaVuSans-64\"/>\r\n     </g>\r\n    </g>\r\n   </g>\r\n   <g id=\"matplotlib.axis_2\">\r\n    <g id=\"ytick_1\">\r\n     <g id=\"line2d_7\">\r\n      <defs>\r\n       <path d=\"M 0 0 \r\nL -3.5 0 \r\n\" id=\"m00e985570b\" style=\"stroke:#000000;stroke-width:0.8;\"/>\r\n      </defs>\r\n      <g>\r\n       <use style=\"stroke:#000000;stroke-width:0.8;\" x=\"44.059375\" xlink:href=\"#m00e985570b\" y=\"228.439219\"/>\r\n      </g>\r\n     </g>\r\n     <g id=\"text_8\">\r\n      <!-- 0.0 -->\r\n      <g transform=\"translate(21.15625 232.238438)scale(0.1 -0.1)\">\r\n       <use xlink:href=\"#DejaVuSans-30\"/>\r\n       <use x=\"63.623047\" xlink:href=\"#DejaVuSans-2e\"/>\r\n       <use x=\"95.410156\" xlink:href=\"#DejaVuSans-30\"/>\r\n      </g>\r\n     </g>\r\n    </g>\r\n    <g id=\"ytick_2\">\r\n     <g id=\"line2d_8\">\r\n      <g>\r\n       <use style=\"stroke:#000000;stroke-width:0.8;\" x=\"44.059375\" xlink:href=\"#m00e985570b\" y=\"184.951219\"/>\r\n      </g>\r\n     </g>\r\n     <g id=\"text_9\">\r\n      <!-- 0.2 -->\r\n      <g transform=\"translate(21.15625 188.750438)scale(0.1 -0.1)\">\r\n       <use xlink:href=\"#DejaVuSans-30\"/>\r\n       <use x=\"63.623047\" xlink:href=\"#DejaVuSans-2e\"/>\r\n       <use x=\"95.410156\" xlink:href=\"#DejaVuSans-32\"/>\r\n      </g>\r\n     </g>\r\n    </g>\r\n    <g id=\"ytick_3\">\r\n     <g id=\"line2d_9\">\r\n      <g>\r\n       <use style=\"stroke:#000000;stroke-width:0.8;\" x=\"44.059375\" xlink:href=\"#m00e985570b\" y=\"141.463219\"/>\r\n      </g>\r\n     </g>\r\n     <g id=\"text_10\">\r\n      <!-- 0.4 -->\r\n      <g transform=\"translate(21.15625 145.262438)scale(0.1 -0.1)\">\r\n       <use xlink:href=\"#DejaVuSans-30\"/>\r\n       <use x=\"63.623047\" xlink:href=\"#DejaVuSans-2e\"/>\r\n       <use x=\"95.410156\" xlink:href=\"#DejaVuSans-34\"/>\r\n      </g>\r\n     </g>\r\n    </g>\r\n    <g id=\"ytick_4\">\r\n     <g id=\"line2d_10\">\r\n      <g>\r\n       <use style=\"stroke:#000000;stroke-width:0.8;\" x=\"44.059375\" xlink:href=\"#m00e985570b\" y=\"97.975219\"/>\r\n      </g>\r\n     </g>\r\n     <g id=\"text_11\">\r\n      <!-- 0.6 -->\r\n      <g transform=\"translate(21.15625 101.774438)scale(0.1 -0.1)\">\r\n       <use xlink:href=\"#DejaVuSans-30\"/>\r\n       <use x=\"63.623047\" xlink:href=\"#DejaVuSans-2e\"/>\r\n       <use x=\"95.410156\" xlink:href=\"#DejaVuSans-36\"/>\r\n      </g>\r\n     </g>\r\n    </g>\r\n    <g id=\"ytick_5\">\r\n     <g id=\"line2d_11\">\r\n      <g>\r\n       <use style=\"stroke:#000000;stroke-width:0.8;\" x=\"44.059375\" xlink:href=\"#m00e985570b\" y=\"54.487219\"/>\r\n      </g>\r\n     </g>\r\n     <g id=\"text_12\">\r\n      <!-- 0.8 -->\r\n      <g transform=\"translate(21.15625 58.286438)scale(0.1 -0.1)\">\r\n       <use xlink:href=\"#DejaVuSans-30\"/>\r\n       <use x=\"63.623047\" xlink:href=\"#DejaVuSans-2e\"/>\r\n       <use x=\"95.410156\" xlink:href=\"#DejaVuSans-38\"/>\r\n      </g>\r\n     </g>\r\n    </g>\r\n    <g id=\"ytick_6\">\r\n     <g id=\"line2d_12\">\r\n      <g>\r\n       <use style=\"stroke:#000000;stroke-width:0.8;\" x=\"44.059375\" xlink:href=\"#m00e985570b\" y=\"10.999219\"/>\r\n      </g>\r\n     </g>\r\n     <g id=\"text_13\">\r\n      <!-- 1.0 -->\r\n      <g transform=\"translate(21.15625 14.798438)scale(0.1 -0.1)\">\r\n       <use xlink:href=\"#DejaVuSans-31\"/>\r\n       <use x=\"63.623047\" xlink:href=\"#DejaVuSans-2e\"/>\r\n       <use x=\"95.410156\" xlink:href=\"#DejaVuSans-30\"/>\r\n      </g>\r\n     </g>\r\n    </g>\r\n    <g id=\"text_14\">\r\n     <!-- perceptions_of_corruption -->\r\n     <g transform=\"translate(14.798438 184.666875)rotate(-90)scale(0.1 -0.1)\">\r\n      <defs>\r\n       <path d=\"M 2834 3397 \r\nL 2834 2853 \r\nQ 2591 2978 2328 3040 \r\nQ 2066 3103 1784 3103 \r\nQ 1356 3103 1142 2972 \r\nQ 928 2841 928 2578 \r\nQ 928 2378 1081 2264 \r\nQ 1234 2150 1697 2047 \r\nL 1894 2003 \r\nQ 2506 1872 2764 1633 \r\nQ 3022 1394 3022 966 \r\nQ 3022 478 2636 193 \r\nQ 2250 -91 1575 -91 \r\nQ 1294 -91 989 -36 \r\nQ 684 19 347 128 \r\nL 347 722 \r\nQ 666 556 975 473 \r\nQ 1284 391 1588 391 \r\nQ 1994 391 2212 530 \r\nQ 2431 669 2431 922 \r\nQ 2431 1156 2273 1281 \r\nQ 2116 1406 1581 1522 \r\nL 1381 1569 \r\nQ 847 1681 609 1914 \r\nQ 372 2147 372 2553 \r\nQ 372 3047 722 3315 \r\nQ 1072 3584 1716 3584 \r\nQ 2034 3584 2315 3537 \r\nQ 2597 3491 2834 3397 \r\nz\r\n\" id=\"DejaVuSans-73\" transform=\"scale(0.015625)\"/>\r\n       <path d=\"M 2375 4863 \r\nL 2375 4384 \r\nL 1825 4384 \r\nQ 1516 4384 1395 4259 \r\nQ 1275 4134 1275 3809 \r\nL 1275 3500 \r\nL 2222 3500 \r\nL 2222 3053 \r\nL 1275 3053 \r\nL 1275 0 \r\nL 697 0 \r\nL 697 3053 \r\nL 147 3053 \r\nL 147 3500 \r\nL 697 3500 \r\nL 697 3744 \r\nQ 697 4328 969 4595 \r\nQ 1241 4863 1831 4863 \r\nL 2375 4863 \r\nz\r\n\" id=\"DejaVuSans-66\" transform=\"scale(0.015625)\"/>\r\n      </defs>\r\n      <use xlink:href=\"#DejaVuSans-70\"/>\r\n      <use x=\"63.476562\" xlink:href=\"#DejaVuSans-65\"/>\r\n      <use x=\"125\" xlink:href=\"#DejaVuSans-72\"/>\r\n      <use x=\"163.863281\" xlink:href=\"#DejaVuSans-63\"/>\r\n      <use x=\"218.84375\" xlink:href=\"#DejaVuSans-65\"/>\r\n      <use x=\"280.367188\" xlink:href=\"#DejaVuSans-70\"/>\r\n      <use x=\"343.84375\" xlink:href=\"#DejaVuSans-74\"/>\r\n      <use x=\"383.052734\" xlink:href=\"#DejaVuSans-69\"/>\r\n      <use x=\"410.835938\" xlink:href=\"#DejaVuSans-6f\"/>\r\n      <use x=\"472.017578\" xlink:href=\"#DejaVuSans-6e\"/>\r\n      <use x=\"535.396484\" xlink:href=\"#DejaVuSans-73\"/>\r\n      <use x=\"587.496094\" xlink:href=\"#DejaVuSans-5f\"/>\r\n      <use x=\"637.496094\" xlink:href=\"#DejaVuSans-6f\"/>\r\n      <use x=\"698.677734\" xlink:href=\"#DejaVuSans-66\"/>\r\n      <use x=\"733.882812\" xlink:href=\"#DejaVuSans-5f\"/>\r\n      <use x=\"783.882812\" xlink:href=\"#DejaVuSans-63\"/>\r\n      <use x=\"838.863281\" xlink:href=\"#DejaVuSans-6f\"/>\r\n      <use x=\"900.044922\" xlink:href=\"#DejaVuSans-72\"/>\r\n      <use x=\"939.408203\" xlink:href=\"#DejaVuSans-72\"/>\r\n      <use x=\"980.521484\" xlink:href=\"#DejaVuSans-75\"/>\r\n      <use x=\"1043.900391\" xlink:href=\"#DejaVuSans-70\"/>\r\n      <use x=\"1107.376953\" xlink:href=\"#DejaVuSans-74\"/>\r\n      <use x=\"1146.585938\" xlink:href=\"#DejaVuSans-69\"/>\r\n      <use x=\"1174.369141\" xlink:href=\"#DejaVuSans-6f\"/>\r\n      <use x=\"1235.550781\" xlink:href=\"#DejaVuSans-6e\"/>\r\n     </g>\r\n    </g>\r\n   </g>\r\n   <g id=\"patch_3\">\r\n    <path d=\"M 44.059375 228.439219 \r\nL 44.059375 10.999219 \r\n\" style=\"fill:none;stroke:#000000;stroke-linecap:square;stroke-linejoin:miter;stroke-width:0.8;\"/>\r\n   </g>\r\n   <g id=\"patch_4\">\r\n    <path d=\"M 378.859375 228.439219 \r\nL 378.859375 10.999219 \r\n\" style=\"fill:none;stroke:#000000;stroke-linecap:square;stroke-linejoin:miter;stroke-width:0.8;\"/>\r\n   </g>\r\n   <g id=\"patch_5\">\r\n    <path d=\"M 44.059375 228.439219 \r\nL 378.859375 228.439219 \r\n\" style=\"fill:none;stroke:#000000;stroke-linecap:square;stroke-linejoin:miter;stroke-width:0.8;\"/>\r\n   </g>\r\n   <g id=\"patch_6\">\r\n    <path d=\"M 44.059375 10.999219 \r\nL 378.859375 10.999219 \r\n\" style=\"fill:none;stroke:#000000;stroke-linecap:square;stroke-linejoin:miter;stroke-width:0.8;\"/>\r\n   </g>\r\n   <g id=\"text_15\">\r\n    <!-- Iceland -->\r\n    <g transform=\"translate(127.759375 82.102099)scale(0.1 -0.1)\">\r\n     <defs>\r\n      <path d=\"M 628 4666 \r\nL 1259 4666 \r\nL 1259 0 \r\nL 628 0 \r\nL 628 4666 \r\nz\r\n\" id=\"DejaVuSans-49\" transform=\"scale(0.015625)\"/>\r\n      <path d=\"M 603 4863 \r\nL 1178 4863 \r\nL 1178 0 \r\nL 603 0 \r\nL 603 4863 \r\nz\r\n\" id=\"DejaVuSans-6c\" transform=\"scale(0.015625)\"/>\r\n     </defs>\r\n     <use xlink:href=\"#DejaVuSans-49\"/>\r\n     <use x=\"29.492188\" xlink:href=\"#DejaVuSans-63\"/>\r\n     <use x=\"84.472656\" xlink:href=\"#DejaVuSans-65\"/>\r\n     <use x=\"145.996094\" xlink:href=\"#DejaVuSans-6c\"/>\r\n     <use x=\"173.779297\" xlink:href=\"#DejaVuSans-61\"/>\r\n     <use x=\"235.058594\" xlink:href=\"#DejaVuSans-6e\"/>\r\n     <use x=\"298.4375\" xlink:href=\"#DejaVuSans-64\"/>\r\n    </g>\r\n   </g>\r\n  </g>\r\n </g>\r\n <defs>\r\n  <clipPath id=\"p270b28761e\">\r\n   <rect height=\"217.44\" width=\"334.8\" x=\"44.059375\" y=\"10.999219\"/>\r\n  </clipPath>\r\n </defs>\r\n</svg>\r\n",
      "image/png": "[encoded data removed]"
     },
     "metadata": {
      "needs_background": "light"
     }
    }
   ],
   "source": [
    "#Iceland is at the bottom of the Western Europe pack\n",
    "\n",
    "w_europe.plot(kind = 'scatter', x = 'ti_corrupt_harmonized', y = 'perceptions_of_corruption').set(xlim =(0, 1), ylim =(0, 1))\n",
    "plt.annotate(\"Iceland\", (0.25, 0.673))"
   ]
  },
  {
   "cell_type": "markdown",
   "id": "27182e01",
   "metadata": {},
   "source": [
    "###### How does its corruption score compare with the rest of the OECD?"
   ]
  },
  {
   "cell_type": "code",
   "execution_count": 107,
   "id": "2b91f596",
   "metadata": {},
   "outputs": [
    {
     "output_type": "execute_result",
     "data": {
      "text/plain": [
       "            country                        region  score  log_gdp_cap  \\\n",
       "33         Slovakia    Central and Eastern Europe  6.331       10.369   \n",
       "57         Portugal                Western Europe  5.929       10.421   \n",
       "52          Hungary    Central and Eastern Europe  5.992       10.358   \n",
       "17   Czech Republic    Central and Eastern Europe  6.965       10.556   \n",
       "27            Italy                Western Europe  6.483       10.623   \n",
       "51         Colombia   Latin America and Caribbean  6.012        9.557   \n",
       "42            Chile   Latin America and Caribbean  6.172       10.071   \n",
       "37        Lithuania    Central and Eastern Europe  6.255       10.499   \n",
       "67           Greece                Western Europe  5.723       10.279   \n",
       "28         Slovenia    Central and Eastern Europe  6.461       10.529   \n",
       "50           Latvia    Central and Eastern Europe  6.032       10.315   \n",
       "35           Mexico   Latin America and Caribbean  6.317        9.859   \n",
       "103          Turkey  Middle East and North Africa  4.948       10.240   \n",
       "11           Israel  Middle East and North Africa  7.157       10.575   \n",
       "26            Spain                Western Europe  6.491       10.571   \n",
       "43           Poland    Central and Eastern Europe  6.166       10.382   \n",
       "61      South Korea                     East Asia  5.845       10.651   \n",
       "18    United States         North America and ANZ  6.951       11.023   \n",
       "3           Iceland                Western Europe  7.554       10.878   \n",
       "19          Belgium                Western Europe  6.834       10.823   \n",
       "55            Japan                     East Asia  5.940       10.611   \n",
       "20           France                Western Europe  6.690       10.704   \n",
       "39          Estonia    Central and Eastern Europe  6.189       10.481   \n",
       "9           Austria                Western Europe  7.268       10.906   \n",
       "12          Germany                Western Europe  7.155       10.873   \n",
       "16   United Kingdom                Western Europe  7.064       10.707   \n",
       "10        Australia         North America and ANZ  7.183       10.796   \n",
       "13           Canada         North America and ANZ  7.103       10.776   \n",
       "7        Luxembourg                Western Europe  7.324       11.647   \n",
       "14          Ireland                Western Europe  7.085       11.342   \n",
       "4       Netherlands                Western Europe  7.464       10.932   \n",
       "2       Switzerland                Western Europe  7.571       11.117   \n",
       "5            Norway                Western Europe  7.392       11.053   \n",
       "8       New Zealand         North America and ANZ  7.277       10.643   \n",
       "6            Sweden                Western Europe  7.363       10.867   \n",
       "0           Finland                Western Europe  7.842       10.775   \n",
       "1           Denmark                Western Europe  7.620       10.933   \n",
       "\n",
       "     social_support  life_expectancy  freedom_to_make_life_choices  \\\n",
       "33            0.936           69.201                         0.766   \n",
       "57            0.879           72.600                         0.892   \n",
       "52            0.943           68.000                         0.755   \n",
       "17            0.947           70.807                         0.858   \n",
       "27            0.880           73.800                         0.693   \n",
       "51            0.847           68.001                         0.837   \n",
       "42            0.882           70.000                         0.742   \n",
       "37            0.935           67.906                         0.773   \n",
       "67            0.823           72.600                         0.582   \n",
       "28            0.948           71.400                         0.949   \n",
       "50            0.927           67.100                         0.715   \n",
       "35            0.831           68.597                         0.862   \n",
       "103           0.822           67.199                         0.576   \n",
       "11            0.939           73.503                         0.800   \n",
       "26            0.932           74.700                         0.761   \n",
       "43            0.898           69.702                         0.841   \n",
       "61            0.799           73.900                         0.672   \n",
       "18            0.920           68.200                         0.837   \n",
       "3             0.983           73.000                         0.955   \n",
       "19            0.906           72.199                         0.783   \n",
       "55            0.884           75.100                         0.796   \n",
       "20            0.942           74.000                         0.822   \n",
       "39            0.941           68.800                         0.909   \n",
       "9             0.934           73.300                         0.908   \n",
       "12            0.903           72.500                         0.875   \n",
       "16            0.934           72.500                         0.859   \n",
       "10            0.940           73.900                         0.914   \n",
       "13            0.926           73.800                         0.915   \n",
       "7             0.908           72.600                         0.907   \n",
       "14            0.947           72.400                         0.879   \n",
       "4             0.942           72.400                         0.913   \n",
       "2             0.942           74.400                         0.919   \n",
       "5             0.954           73.300                         0.960   \n",
       "8             0.948           73.400                         0.929   \n",
       "6             0.934           72.700                         0.945   \n",
       "0             0.954           72.000                         0.949   \n",
       "1             0.954           72.700                         0.946   \n",
       "\n",
       "     generosity  perceptions_of_corruption  ti_corrupt_harmonized  \\\n",
       "33       -0.124                      0.911                   0.51   \n",
       "57       -0.244                      0.887                   0.39   \n",
       "52       -0.186                      0.876                   0.56   \n",
       "17       -0.208                      0.868                   0.46   \n",
       "27       -0.084                      0.866                   0.47   \n",
       "51       -0.135                      0.841                   0.61   \n",
       "42       -0.044                      0.830                   0.33   \n",
       "37       -0.203                      0.826                   0.40   \n",
       "67       -0.288                      0.823                   0.50   \n",
       "28       -0.101                      0.806                   0.40   \n",
       "50       -0.162                      0.800                   0.43   \n",
       "35       -0.147                      0.799                   0.69   \n",
       "103      -0.139                      0.776                   0.60   \n",
       "11        0.031                      0.753                   0.40   \n",
       "26       -0.081                      0.745                   0.38   \n",
       "43       -0.165                      0.735                   0.44   \n",
       "61       -0.083                      0.727                   0.39   \n",
       "18        0.098                      0.698                   0.33   \n",
       "3         0.160                      0.673                   0.25   \n",
       "19       -0.153                      0.646                   0.24   \n",
       "55       -0.258                      0.638                   0.26   \n",
       "20       -0.147                      0.571                   0.31   \n",
       "39       -0.106                      0.527                   0.25   \n",
       "9         0.042                      0.481                   0.24   \n",
       "12        0.011                      0.460                   0.20   \n",
       "16        0.233                      0.459                   0.23   \n",
       "10        0.159                      0.442                   0.23   \n",
       "13        0.089                      0.415                   0.23   \n",
       "7        -0.034                      0.386                   0.20   \n",
       "14        0.077                      0.363                   0.28   \n",
       "4         0.175                      0.338                   0.18   \n",
       "2         0.025                      0.292                   0.15   \n",
       "5         0.093                      0.270                   0.16   \n",
       "8         0.134                      0.242                   0.12   \n",
       "6         0.086                      0.237                   0.15   \n",
       "0        -0.098                      0.186                   0.15   \n",
       "1         0.030                      0.179                   0.12   \n",
       "\n",
       "     covid_deaths  covid_cases      pop_2020   death_100k  cases_100k  oecd  \n",
       "33         2138.0     179543.0     5,456,000        39.19     3290.74     1  \n",
       "57         6906.0     413678.0    10,254,000        67.35     4034.31     1  \n",
       "52         9537.0     322514.0     9,743,000        97.89     3310.21     1  \n",
       "17        11580.0     718661.0    10,690,000       108.33     6722.74     1  \n",
       "27        74159.0    2107166.0    60,177,000       123.23     3501.61     1  \n",
       "51        43213.0    1642775.0    50,883,000        84.93     3228.53     1  \n",
       "42        16608.0     608973.0    19,116,000        86.88     3185.67     1  \n",
       "37         1796.0     141955.0     2,760,000        65.07     5143.30     1  \n",
       "67         4838.0     138850.0    10,658,000        45.39     1302.78     1  \n",
       "28         2697.0     122152.0     2,088,000       129.17     5850.19     1  \n",
       "50          635.0      40904.0     1,894,000        33.53     2159.66     1  \n",
       "35       125807.0    1426094.0   128,933,000        97.58     1106.07     1  \n",
       "103       20881.0    2208652.0    84,339,000        24.76     2618.78     1  \n",
       "11         3325.0     423262.0     9,198,000        36.15     4601.67     1  \n",
       "26        50837.0    1928265.0    47,133,000       107.86     4091.11     1  \n",
       "43        28554.0    1294878.0    37,914,000        75.31     3415.30     1  \n",
       "61          917.0      61769.0    51,727,000         1.77      119.41     1  \n",
       "18       352210.0   20100244.0   330,139,000       106.69     6088.42     1  \n",
       "3            29.0       5754.0       363,000         7.99     1585.12     1  \n",
       "19        19528.0     646496.0    11,543,000       169.18     5600.76     1  \n",
       "55         3292.0     235811.0   125,769,000         2.62      187.50     1  \n",
       "20        64267.0    2616902.0    67,202,000        95.63     3894.08     1  \n",
       "39          229.0      27990.0     1,325,000        17.28     2112.45     1  \n",
       "9          6222.0     360815.0     8,915,000        69.79     4047.28     1  \n",
       "12        33791.0    1760520.0    83,152,000        40.64     2117.23     1  \n",
       "16        73512.0    2488780.0    67,158,000       109.46     3705.86     1  \n",
       "10          909.0      28425.0    25,653,000         3.54      110.81     1  \n",
       "13        15762.0     584409.0    37,916,000        41.57     1541.33     1  \n",
       "7           495.0      46415.0       629,000        78.70     7379.17     1  \n",
       "14         2237.0      91779.0     4,983,000        44.89     1841.84     1  \n",
       "4         11432.0     796981.0    17,380,000        65.78     4585.62     1  \n",
       "2          7645.0     452296.0     8,633,000        88.56     5239.15     1  \n",
       "5           436.0      49567.0     5,391,000         8.09      919.44     1  \n",
       "8            25.0       2162.0     5,018,000         0.50       43.08     1  \n",
       "6          8727.0     437379.0    10,340,000        84.40     4229.97     1  \n",
       "0           561.0      36107.0     5,529,000        10.15      653.05     1  \n",
       "1          1298.0     163479.0     5,834,000        22.25     2802.18     1  "
      ],
      "text/html": "<div>\n<style scoped>\n    .dataframe tbody tr th:only-of-type {\n        vertical-align: middle;\n    }\n\n    .dataframe tbody tr th {\n        vertical-align: top;\n    }\n\n    .dataframe thead th {\n        text-align: right;\n    }\n</style>\n<table border=\"1\" class=\"dataframe\">\n  <thead>\n    <tr style=\"text-align: right;\">\n      <th></th>\n      <th>country</th>\n      <th>region</th>\n      <th>score</th>\n      <th>log_gdp_cap</th>\n      <th>social_support</th>\n      <th>life_expectancy</th>\n      <th>freedom_to_make_life_choices</th>\n      <th>generosity</th>\n      <th>perceptions_of_corruption</th>\n      <th>ti_corrupt_harmonized</th>\n      <th>covid_deaths</th>\n      <th>covid_cases</th>\n      <th>pop_2020</th>\n      <th>death_100k</th>\n      <th>cases_100k</th>\n      <th>oecd</th>\n    </tr>\n  </thead>\n  <tbody>\n    <tr>\n      <th>33</th>\n      <td>Slovakia</td>\n      <td>Central and Eastern Europe</td>\n      <td>6.331</td>\n      <td>10.369</td>\n      <td>0.936</td>\n      <td>69.201</td>\n      <td>0.766</td>\n      <td>-0.124</td>\n      <td>0.911</td>\n      <td>0.51</td>\n      <td>2138.0</td>\n      <td>179543.0</td>\n      <td>5,456,000</td>\n      <td>39.19</td>\n      <td>3290.74</td>\n      <td>1</td>\n    </tr>\n    <tr>\n      <th>57</th>\n      <td>Portugal</td>\n      <td>Western Europe</td>\n      <td>5.929</td>\n      <td>10.421</td>\n      <td>0.879</td>\n      <td>72.600</td>\n      <td>0.892</td>\n      <td>-0.244</td>\n      <td>0.887</td>\n      <td>0.39</td>\n      <td>6906.0</td>\n      <td>413678.0</td>\n      <td>10,254,000</td>\n      <td>67.35</td>\n      <td>4034.31</td>\n      <td>1</td>\n    </tr>\n    <tr>\n      <th>52</th>\n      <td>Hungary</td>\n      <td>Central and Eastern Europe</td>\n      <td>5.992</td>\n      <td>10.358</td>\n      <td>0.943</td>\n      <td>68.000</td>\n      <td>0.755</td>\n      <td>-0.186</td>\n      <td>0.876</td>\n      <td>0.56</td>\n      <td>9537.0</td>\n      <td>322514.0</td>\n      <td>9,743,000</td>\n      <td>97.89</td>\n      <td>3310.21</td>\n      <td>1</td>\n    </tr>\n    <tr>\n      <th>17</th>\n      <td>Czech Republic</td>\n      <td>Central and Eastern Europe</td>\n      <td>6.965</td>\n      <td>10.556</td>\n      <td>0.947</td>\n      <td>70.807</td>\n      <td>0.858</td>\n      <td>-0.208</td>\n      <td>0.868</td>\n      <td>0.46</td>\n      <td>11580.0</td>\n      <td>718661.0</td>\n      <td>10,690,000</td>\n      <td>108.33</td>\n      <td>6722.74</td>\n      <td>1</td>\n    </tr>\n    <tr>\n      <th>27</th>\n      <td>Italy</td>\n      <td>Western Europe</td>\n      <td>6.483</td>\n      <td>10.623</td>\n      <td>0.880</td>\n      <td>73.800</td>\n      <td>0.693</td>\n      <td>-0.084</td>\n      <td>0.866</td>\n      <td>0.47</td>\n      <td>74159.0</td>\n      <td>2107166.0</td>\n      <td>60,177,000</td>\n      <td>123.23</td>\n      <td>3501.61</td>\n      <td>1</td>\n    </tr>\n    <tr>\n      <th>51</th>\n      <td>Colombia</td>\n      <td>Latin America and Caribbean</td>\n      <td>6.012</td>\n      <td>9.557</td>\n      <td>0.847</td>\n      <td>68.001</td>\n      <td>0.837</td>\n      <td>-0.135</td>\n      <td>0.841</td>\n      <td>0.61</td>\n      <td>43213.0</td>\n      <td>1642775.0</td>\n      <td>50,883,000</td>\n      <td>84.93</td>\n      <td>3228.53</td>\n      <td>1</td>\n    </tr>\n    <tr>\n      <th>42</th>\n      <td>Chile</td>\n      <td>Latin America and Caribbean</td>\n      <td>6.172</td>\n      <td>10.071</td>\n      <td>0.882</td>\n      <td>70.000</td>\n      <td>0.742</td>\n      <td>-0.044</td>\n      <td>0.830</td>\n      <td>0.33</td>\n      <td>16608.0</td>\n      <td>608973.0</td>\n      <td>19,116,000</td>\n      <td>86.88</td>\n      <td>3185.67</td>\n      <td>1</td>\n    </tr>\n    <tr>\n      <th>37</th>\n      <td>Lithuania</td>\n      <td>Central and Eastern Europe</td>\n      <td>6.255</td>\n      <td>10.499</td>\n      <td>0.935</td>\n      <td>67.906</td>\n      <td>0.773</td>\n      <td>-0.203</td>\n      <td>0.826</td>\n      <td>0.40</td>\n      <td>1796.0</td>\n      <td>141955.0</td>\n      <td>2,760,000</td>\n      <td>65.07</td>\n      <td>5143.30</td>\n      <td>1</td>\n    </tr>\n    <tr>\n      <th>67</th>\n      <td>Greece</td>\n      <td>Western Europe</td>\n      <td>5.723</td>\n      <td>10.279</td>\n      <td>0.823</td>\n      <td>72.600</td>\n      <td>0.582</td>\n      <td>-0.288</td>\n      <td>0.823</td>\n      <td>0.50</td>\n      <td>4838.0</td>\n      <td>138850.0</td>\n      <td>10,658,000</td>\n      <td>45.39</td>\n      <td>1302.78</td>\n      <td>1</td>\n    </tr>\n    <tr>\n      <th>28</th>\n      <td>Slovenia</td>\n      <td>Central and Eastern Europe</td>\n      <td>6.461</td>\n      <td>10.529</td>\n      <td>0.948</td>\n      <td>71.400</td>\n      <td>0.949</td>\n      <td>-0.101</td>\n      <td>0.806</td>\n      <td>0.40</td>\n      <td>2697.0</td>\n      <td>122152.0</td>\n      <td>2,088,000</td>\n      <td>129.17</td>\n      <td>5850.19</td>\n      <td>1</td>\n    </tr>\n    <tr>\n      <th>50</th>\n      <td>Latvia</td>\n      <td>Central and Eastern Europe</td>\n      <td>6.032</td>\n      <td>10.315</td>\n      <td>0.927</td>\n      <td>67.100</td>\n      <td>0.715</td>\n      <td>-0.162</td>\n      <td>0.800</td>\n      <td>0.43</td>\n      <td>635.0</td>\n      <td>40904.0</td>\n      <td>1,894,000</td>\n      <td>33.53</td>\n      <td>2159.66</td>\n      <td>1</td>\n    </tr>\n    <tr>\n      <th>35</th>\n      <td>Mexico</td>\n      <td>Latin America and Caribbean</td>\n      <td>6.317</td>\n      <td>9.859</td>\n      <td>0.831</td>\n      <td>68.597</td>\n      <td>0.862</td>\n      <td>-0.147</td>\n      <td>0.799</td>\n      <td>0.69</td>\n      <td>125807.0</td>\n      <td>1426094.0</td>\n      <td>128,933,000</td>\n      <td>97.58</td>\n      <td>1106.07</td>\n      <td>1</td>\n    </tr>\n    <tr>\n      <th>103</th>\n      <td>Turkey</td>\n      <td>Middle East and North Africa</td>\n      <td>4.948</td>\n      <td>10.240</td>\n      <td>0.822</td>\n      <td>67.199</td>\n      <td>0.576</td>\n      <td>-0.139</td>\n      <td>0.776</td>\n      <td>0.60</td>\n      <td>20881.0</td>\n      <td>2208652.0</td>\n      <td>84,339,000</td>\n      <td>24.76</td>\n      <td>2618.78</td>\n      <td>1</td>\n    </tr>\n    <tr>\n      <th>11</th>\n      <td>Israel</td>\n      <td>Middle East and North Africa</td>\n      <td>7.157</td>\n      <td>10.575</td>\n      <td>0.939</td>\n      <td>73.503</td>\n      <td>0.800</td>\n      <td>0.031</td>\n      <td>0.753</td>\n      <td>0.40</td>\n      <td>3325.0</td>\n      <td>423262.0</td>\n      <td>9,198,000</td>\n      <td>36.15</td>\n      <td>4601.67</td>\n      <td>1</td>\n    </tr>\n    <tr>\n      <th>26</th>\n      <td>Spain</td>\n      <td>Western Europe</td>\n      <td>6.491</td>\n      <td>10.571</td>\n      <td>0.932</td>\n      <td>74.700</td>\n      <td>0.761</td>\n      <td>-0.081</td>\n      <td>0.745</td>\n      <td>0.38</td>\n      <td>50837.0</td>\n      <td>1928265.0</td>\n      <td>47,133,000</td>\n      <td>107.86</td>\n      <td>4091.11</td>\n      <td>1</td>\n    </tr>\n    <tr>\n      <th>43</th>\n      <td>Poland</td>\n      <td>Central and Eastern Europe</td>\n      <td>6.166</td>\n      <td>10.382</td>\n      <td>0.898</td>\n      <td>69.702</td>\n      <td>0.841</td>\n      <td>-0.165</td>\n      <td>0.735</td>\n      <td>0.44</td>\n      <td>28554.0</td>\n      <td>1294878.0</td>\n      <td>37,914,000</td>\n      <td>75.31</td>\n      <td>3415.30</td>\n      <td>1</td>\n    </tr>\n    <tr>\n      <th>61</th>\n      <td>South Korea</td>\n      <td>East Asia</td>\n      <td>5.845</td>\n      <td>10.651</td>\n      <td>0.799</td>\n      <td>73.900</td>\n      <td>0.672</td>\n      <td>-0.083</td>\n      <td>0.727</td>\n      <td>0.39</td>\n      <td>917.0</td>\n      <td>61769.0</td>\n      <td>51,727,000</td>\n      <td>1.77</td>\n      <td>119.41</td>\n      <td>1</td>\n    </tr>\n    <tr>\n      <th>18</th>\n      <td>United States</td>\n      <td>North America and ANZ</td>\n      <td>6.951</td>\n      <td>11.023</td>\n      <td>0.920</td>\n      <td>68.200</td>\n      <td>0.837</td>\n      <td>0.098</td>\n      <td>0.698</td>\n      <td>0.33</td>\n      <td>352210.0</td>\n      <td>20100244.0</td>\n      <td>330,139,000</td>\n      <td>106.69</td>\n      <td>6088.42</td>\n      <td>1</td>\n    </tr>\n    <tr>\n      <th>3</th>\n      <td>Iceland</td>\n      <td>Western Europe</td>\n      <td>7.554</td>\n      <td>10.878</td>\n      <td>0.983</td>\n      <td>73.000</td>\n      <td>0.955</td>\n      <td>0.160</td>\n      <td>0.673</td>\n      <td>0.25</td>\n      <td>29.0</td>\n      <td>5754.0</td>\n      <td>363,000</td>\n      <td>7.99</td>\n      <td>1585.12</td>\n      <td>1</td>\n    </tr>\n    <tr>\n      <th>19</th>\n      <td>Belgium</td>\n      <td>Western Europe</td>\n      <td>6.834</td>\n      <td>10.823</td>\n      <td>0.906</td>\n      <td>72.199</td>\n      <td>0.783</td>\n      <td>-0.153</td>\n      <td>0.646</td>\n      <td>0.24</td>\n      <td>19528.0</td>\n      <td>646496.0</td>\n      <td>11,543,000</td>\n      <td>169.18</td>\n      <td>5600.76</td>\n      <td>1</td>\n    </tr>\n    <tr>\n      <th>55</th>\n      <td>Japan</td>\n      <td>East Asia</td>\n      <td>5.940</td>\n      <td>10.611</td>\n      <td>0.884</td>\n      <td>75.100</td>\n      <td>0.796</td>\n      <td>-0.258</td>\n      <td>0.638</td>\n      <td>0.26</td>\n      <td>3292.0</td>\n      <td>235811.0</td>\n      <td>125,769,000</td>\n      <td>2.62</td>\n      <td>187.50</td>\n      <td>1</td>\n    </tr>\n    <tr>\n      <th>20</th>\n      <td>France</td>\n      <td>Western Europe</td>\n      <td>6.690</td>\n      <td>10.704</td>\n      <td>0.942</td>\n      <td>74.000</td>\n      <td>0.822</td>\n      <td>-0.147</td>\n      <td>0.571</td>\n      <td>0.31</td>\n      <td>64267.0</td>\n      <td>2616902.0</td>\n      <td>67,202,000</td>\n      <td>95.63</td>\n      <td>3894.08</td>\n      <td>1</td>\n    </tr>\n    <tr>\n      <th>39</th>\n      <td>Estonia</td>\n      <td>Central and Eastern Europe</td>\n      <td>6.189</td>\n      <td>10.481</td>\n      <td>0.941</td>\n      <td>68.800</td>\n      <td>0.909</td>\n      <td>-0.106</td>\n      <td>0.527</td>\n      <td>0.25</td>\n      <td>229.0</td>\n      <td>27990.0</td>\n      <td>1,325,000</td>\n      <td>17.28</td>\n      <td>2112.45</td>\n      <td>1</td>\n    </tr>\n    <tr>\n      <th>9</th>\n      <td>Austria</td>\n      <td>Western Europe</td>\n      <td>7.268</td>\n      <td>10.906</td>\n      <td>0.934</td>\n      <td>73.300</td>\n      <td>0.908</td>\n      <td>0.042</td>\n      <td>0.481</td>\n      <td>0.24</td>\n      <td>6222.0</td>\n      <td>360815.0</td>\n      <td>8,915,000</td>\n      <td>69.79</td>\n      <td>4047.28</td>\n      <td>1</td>\n    </tr>\n    <tr>\n      <th>12</th>\n      <td>Germany</td>\n      <td>Western Europe</td>\n      <td>7.155</td>\n      <td>10.873</td>\n      <td>0.903</td>\n      <td>72.500</td>\n      <td>0.875</td>\n      <td>0.011</td>\n      <td>0.460</td>\n      <td>0.20</td>\n      <td>33791.0</td>\n      <td>1760520.0</td>\n      <td>83,152,000</td>\n      <td>40.64</td>\n      <td>2117.23</td>\n      <td>1</td>\n    </tr>\n    <tr>\n      <th>16</th>\n      <td>United Kingdom</td>\n      <td>Western Europe</td>\n      <td>7.064</td>\n      <td>10.707</td>\n      <td>0.934</td>\n      <td>72.500</td>\n      <td>0.859</td>\n      <td>0.233</td>\n      <td>0.459</td>\n      <td>0.23</td>\n      <td>73512.0</td>\n      <td>2488780.0</td>\n      <td>67,158,000</td>\n      <td>109.46</td>\n      <td>3705.86</td>\n      <td>1</td>\n    </tr>\n    <tr>\n      <th>10</th>\n      <td>Australia</td>\n      <td>North America and ANZ</td>\n      <td>7.183</td>\n      <td>10.796</td>\n      <td>0.940</td>\n      <td>73.900</td>\n      <td>0.914</td>\n      <td>0.159</td>\n      <td>0.442</td>\n      <td>0.23</td>\n      <td>909.0</td>\n      <td>28425.0</td>\n      <td>25,653,000</td>\n      <td>3.54</td>\n      <td>110.81</td>\n      <td>1</td>\n    </tr>\n    <tr>\n      <th>13</th>\n      <td>Canada</td>\n      <td>North America and ANZ</td>\n      <td>7.103</td>\n      <td>10.776</td>\n      <td>0.926</td>\n      <td>73.800</td>\n      <td>0.915</td>\n      <td>0.089</td>\n      <td>0.415</td>\n      <td>0.23</td>\n      <td>15762.0</td>\n      <td>584409.0</td>\n      <td>37,916,000</td>\n      <td>41.57</td>\n      <td>1541.33</td>\n      <td>1</td>\n    </tr>\n    <tr>\n      <th>7</th>\n      <td>Luxembourg</td>\n      <td>Western Europe</td>\n      <td>7.324</td>\n      <td>11.647</td>\n      <td>0.908</td>\n      <td>72.600</td>\n      <td>0.907</td>\n      <td>-0.034</td>\n      <td>0.386</td>\n      <td>0.20</td>\n      <td>495.0</td>\n      <td>46415.0</td>\n      <td>629,000</td>\n      <td>78.70</td>\n      <td>7379.17</td>\n      <td>1</td>\n    </tr>\n    <tr>\n      <th>14</th>\n      <td>Ireland</td>\n      <td>Western Europe</td>\n      <td>7.085</td>\n      <td>11.342</td>\n      <td>0.947</td>\n      <td>72.400</td>\n      <td>0.879</td>\n      <td>0.077</td>\n      <td>0.363</td>\n      <td>0.28</td>\n      <td>2237.0</td>\n      <td>91779.0</td>\n      <td>4,983,000</td>\n      <td>44.89</td>\n      <td>1841.84</td>\n      <td>1</td>\n    </tr>\n    <tr>\n      <th>4</th>\n      <td>Netherlands</td>\n      <td>Western Europe</td>\n      <td>7.464</td>\n      <td>10.932</td>\n      <td>0.942</td>\n      <td>72.400</td>\n      <td>0.913</td>\n      <td>0.175</td>\n      <td>0.338</td>\n      <td>0.18</td>\n      <td>11432.0</td>\n      <td>796981.0</td>\n      <td>17,380,000</td>\n      <td>65.78</td>\n      <td>4585.62</td>\n      <td>1</td>\n    </tr>\n    <tr>\n      <th>2</th>\n      <td>Switzerland</td>\n      <td>Western Europe</td>\n      <td>7.571</td>\n      <td>11.117</td>\n      <td>0.942</td>\n      <td>74.400</td>\n      <td>0.919</td>\n      <td>0.025</td>\n      <td>0.292</td>\n      <td>0.15</td>\n      <td>7645.0</td>\n      <td>452296.0</td>\n      <td>8,633,000</td>\n      <td>88.56</td>\n      <td>5239.15</td>\n      <td>1</td>\n    </tr>\n    <tr>\n      <th>5</th>\n      <td>Norway</td>\n      <td>Western Europe</td>\n      <td>7.392</td>\n      <td>11.053</td>\n      <td>0.954</td>\n      <td>73.300</td>\n      <td>0.960</td>\n      <td>0.093</td>\n      <td>0.270</td>\n      <td>0.16</td>\n      <td>436.0</td>\n      <td>49567.0</td>\n      <td>5,391,000</td>\n      <td>8.09</td>\n      <td>919.44</td>\n      <td>1</td>\n    </tr>\n    <tr>\n      <th>8</th>\n      <td>New Zealand</td>\n      <td>North America and ANZ</td>\n      <td>7.277</td>\n      <td>10.643</td>\n      <td>0.948</td>\n      <td>73.400</td>\n      <td>0.929</td>\n      <td>0.134</td>\n      <td>0.242</td>\n      <td>0.12</td>\n      <td>25.0</td>\n      <td>2162.0</td>\n      <td>5,018,000</td>\n      <td>0.50</td>\n      <td>43.08</td>\n      <td>1</td>\n    </tr>\n    <tr>\n      <th>6</th>\n      <td>Sweden</td>\n      <td>Western Europe</td>\n      <td>7.363</td>\n      <td>10.867</td>\n      <td>0.934</td>\n      <td>72.700</td>\n      <td>0.945</td>\n      <td>0.086</td>\n      <td>0.237</td>\n      <td>0.15</td>\n      <td>8727.0</td>\n      <td>437379.0</td>\n      <td>10,340,000</td>\n      <td>84.40</td>\n      <td>4229.97</td>\n      <td>1</td>\n    </tr>\n    <tr>\n      <th>0</th>\n      <td>Finland</td>\n      <td>Western Europe</td>\n      <td>7.842</td>\n      <td>10.775</td>\n      <td>0.954</td>\n      <td>72.000</td>\n      <td>0.949</td>\n      <td>-0.098</td>\n      <td>0.186</td>\n      <td>0.15</td>\n      <td>561.0</td>\n      <td>36107.0</td>\n      <td>5,529,000</td>\n      <td>10.15</td>\n      <td>653.05</td>\n      <td>1</td>\n    </tr>\n    <tr>\n      <th>1</th>\n      <td>Denmark</td>\n      <td>Western Europe</td>\n      <td>7.620</td>\n      <td>10.933</td>\n      <td>0.954</td>\n      <td>72.700</td>\n      <td>0.946</td>\n      <td>0.030</td>\n      <td>0.179</td>\n      <td>0.12</td>\n      <td>1298.0</td>\n      <td>163479.0</td>\n      <td>5,834,000</td>\n      <td>22.25</td>\n      <td>2802.18</td>\n      <td>1</td>\n    </tr>\n  </tbody>\n</table>\n</div>"
     },
     "metadata": {},
     "execution_count": 107
    }
   ],
   "source": [
    "oecd = df[df.oecd == 1]\n",
    "\n",
    "oecd.sort_values(by = 'perceptions_of_corruption', ascending = False)\n",
    "\n"
   ]
  },
  {
   "cell_type": "code",
   "execution_count": 108,
   "id": "135cfa68",
   "metadata": {},
   "outputs": [
    {
     "output_type": "execute_result",
     "data": {
      "text/plain": [
       "            country                        region  perceptions_of_corruption  \\\n",
       "33         Slovakia    Central and Eastern Europe                      0.911   \n",
       "57         Portugal                Western Europe                      0.887   \n",
       "52          Hungary    Central and Eastern Europe                      0.876   \n",
       "17   Czech Republic    Central and Eastern Europe                      0.868   \n",
       "27            Italy                Western Europe                      0.866   \n",
       "51         Colombia   Latin America and Caribbean                      0.841   \n",
       "42            Chile   Latin America and Caribbean                      0.830   \n",
       "37        Lithuania    Central and Eastern Europe                      0.826   \n",
       "67           Greece                Western Europe                      0.823   \n",
       "28         Slovenia    Central and Eastern Europe                      0.806   \n",
       "50           Latvia    Central and Eastern Europe                      0.800   \n",
       "35           Mexico   Latin America and Caribbean                      0.799   \n",
       "103          Turkey  Middle East and North Africa                      0.776   \n",
       "11           Israel  Middle East and North Africa                      0.753   \n",
       "26            Spain                Western Europe                      0.745   \n",
       "43           Poland    Central and Eastern Europe                      0.735   \n",
       "61      South Korea                     East Asia                      0.727   \n",
       "18    United States         North America and ANZ                      0.698   \n",
       "3           Iceland                Western Europe                      0.673   \n",
       "19          Belgium                Western Europe                      0.646   \n",
       "55            Japan                     East Asia                      0.638   \n",
       "20           France                Western Europe                      0.571   \n",
       "39          Estonia    Central and Eastern Europe                      0.527   \n",
       "9           Austria                Western Europe                      0.481   \n",
       "12          Germany                Western Europe                      0.460   \n",
       "16   United Kingdom                Western Europe                      0.459   \n",
       "10        Australia         North America and ANZ                      0.442   \n",
       "13           Canada         North America and ANZ                      0.415   \n",
       "7        Luxembourg                Western Europe                      0.386   \n",
       "14          Ireland                Western Europe                      0.363   \n",
       "4       Netherlands                Western Europe                      0.338   \n",
       "2       Switzerland                Western Europe                      0.292   \n",
       "5            Norway                Western Europe                      0.270   \n",
       "8       New Zealand         North America and ANZ                      0.242   \n",
       "6            Sweden                Western Europe                      0.237   \n",
       "0           Finland                Western Europe                      0.186   \n",
       "1           Denmark                Western Europe                      0.179   \n",
       "\n",
       "     ti_corrupt_harmonized  \n",
       "33                    0.51  \n",
       "57                    0.39  \n",
       "52                    0.56  \n",
       "17                    0.46  \n",
       "27                    0.47  \n",
       "51                    0.61  \n",
       "42                    0.33  \n",
       "37                    0.40  \n",
       "67                    0.50  \n",
       "28                    0.40  \n",
       "50                    0.43  \n",
       "35                    0.69  \n",
       "103                   0.60  \n",
       "11                    0.40  \n",
       "26                    0.38  \n",
       "43                    0.44  \n",
       "61                    0.39  \n",
       "18                    0.33  \n",
       "3                     0.25  \n",
       "19                    0.24  \n",
       "55                    0.26  \n",
       "20                    0.31  \n",
       "39                    0.25  \n",
       "9                     0.24  \n",
       "12                    0.20  \n",
       "16                    0.23  \n",
       "10                    0.23  \n",
       "13                    0.23  \n",
       "7                     0.20  \n",
       "14                    0.28  \n",
       "4                     0.18  \n",
       "2                     0.15  \n",
       "5                     0.16  \n",
       "8                     0.12  \n",
       "6                     0.15  \n",
       "0                     0.15  \n",
       "1                     0.12  "
      ],
      "text/html": "<div>\n<style scoped>\n    .dataframe tbody tr th:only-of-type {\n        vertical-align: middle;\n    }\n\n    .dataframe tbody tr th {\n        vertical-align: top;\n    }\n\n    .dataframe thead th {\n        text-align: right;\n    }\n</style>\n<table border=\"1\" class=\"dataframe\">\n  <thead>\n    <tr style=\"text-align: right;\">\n      <th></th>\n      <th>country</th>\n      <th>region</th>\n      <th>perceptions_of_corruption</th>\n      <th>ti_corrupt_harmonized</th>\n    </tr>\n  </thead>\n  <tbody>\n    <tr>\n      <th>33</th>\n      <td>Slovakia</td>\n      <td>Central and Eastern Europe</td>\n      <td>0.911</td>\n      <td>0.51</td>\n    </tr>\n    <tr>\n      <th>57</th>\n      <td>Portugal</td>\n      <td>Western Europe</td>\n      <td>0.887</td>\n      <td>0.39</td>\n    </tr>\n    <tr>\n      <th>52</th>\n      <td>Hungary</td>\n      <td>Central and Eastern Europe</td>\n      <td>0.876</td>\n      <td>0.56</td>\n    </tr>\n    <tr>\n      <th>17</th>\n      <td>Czech Republic</td>\n      <td>Central and Eastern Europe</td>\n      <td>0.868</td>\n      <td>0.46</td>\n    </tr>\n    <tr>\n      <th>27</th>\n      <td>Italy</td>\n      <td>Western Europe</td>\n      <td>0.866</td>\n      <td>0.47</td>\n    </tr>\n    <tr>\n      <th>51</th>\n      <td>Colombia</td>\n      <td>Latin America and Caribbean</td>\n      <td>0.841</td>\n      <td>0.61</td>\n    </tr>\n    <tr>\n      <th>42</th>\n      <td>Chile</td>\n      <td>Latin America and Caribbean</td>\n      <td>0.830</td>\n      <td>0.33</td>\n    </tr>\n    <tr>\n      <th>37</th>\n      <td>Lithuania</td>\n      <td>Central and Eastern Europe</td>\n      <td>0.826</td>\n      <td>0.40</td>\n    </tr>\n    <tr>\n      <th>67</th>\n      <td>Greece</td>\n      <td>Western Europe</td>\n      <td>0.823</td>\n      <td>0.50</td>\n    </tr>\n    <tr>\n      <th>28</th>\n      <td>Slovenia</td>\n      <td>Central and Eastern Europe</td>\n      <td>0.806</td>\n      <td>0.40</td>\n    </tr>\n    <tr>\n      <th>50</th>\n      <td>Latvia</td>\n      <td>Central and Eastern Europe</td>\n      <td>0.800</td>\n      <td>0.43</td>\n    </tr>\n    <tr>\n      <th>35</th>\n      <td>Mexico</td>\n      <td>Latin America and Caribbean</td>\n      <td>0.799</td>\n      <td>0.69</td>\n    </tr>\n    <tr>\n      <th>103</th>\n      <td>Turkey</td>\n      <td>Middle East and North Africa</td>\n      <td>0.776</td>\n      <td>0.60</td>\n    </tr>\n    <tr>\n      <th>11</th>\n      <td>Israel</td>\n      <td>Middle East and North Africa</td>\n      <td>0.753</td>\n      <td>0.40</td>\n    </tr>\n    <tr>\n      <th>26</th>\n      <td>Spain</td>\n      <td>Western Europe</td>\n      <td>0.745</td>\n      <td>0.38</td>\n    </tr>\n    <tr>\n      <th>43</th>\n      <td>Poland</td>\n      <td>Central and Eastern Europe</td>\n      <td>0.735</td>\n      <td>0.44</td>\n    </tr>\n    <tr>\n      <th>61</th>\n      <td>South Korea</td>\n      <td>East Asia</td>\n      <td>0.727</td>\n      <td>0.39</td>\n    </tr>\n    <tr>\n      <th>18</th>\n      <td>United States</td>\n      <td>North America and ANZ</td>\n      <td>0.698</td>\n      <td>0.33</td>\n    </tr>\n    <tr>\n      <th>3</th>\n      <td>Iceland</td>\n      <td>Western Europe</td>\n      <td>0.673</td>\n      <td>0.25</td>\n    </tr>\n    <tr>\n      <th>19</th>\n      <td>Belgium</td>\n      <td>Western Europe</td>\n      <td>0.646</td>\n      <td>0.24</td>\n    </tr>\n    <tr>\n      <th>55</th>\n      <td>Japan</td>\n      <td>East Asia</td>\n      <td>0.638</td>\n      <td>0.26</td>\n    </tr>\n    <tr>\n      <th>20</th>\n      <td>France</td>\n      <td>Western Europe</td>\n      <td>0.571</td>\n      <td>0.31</td>\n    </tr>\n    <tr>\n      <th>39</th>\n      <td>Estonia</td>\n      <td>Central and Eastern Europe</td>\n      <td>0.527</td>\n      <td>0.25</td>\n    </tr>\n    <tr>\n      <th>9</th>\n      <td>Austria</td>\n      <td>Western Europe</td>\n      <td>0.481</td>\n      <td>0.24</td>\n    </tr>\n    <tr>\n      <th>12</th>\n      <td>Germany</td>\n      <td>Western Europe</td>\n      <td>0.460</td>\n      <td>0.20</td>\n    </tr>\n    <tr>\n      <th>16</th>\n      <td>United Kingdom</td>\n      <td>Western Europe</td>\n      <td>0.459</td>\n      <td>0.23</td>\n    </tr>\n    <tr>\n      <th>10</th>\n      <td>Australia</td>\n      <td>North America and ANZ</td>\n      <td>0.442</td>\n      <td>0.23</td>\n    </tr>\n    <tr>\n      <th>13</th>\n      <td>Canada</td>\n      <td>North America and ANZ</td>\n      <td>0.415</td>\n      <td>0.23</td>\n    </tr>\n    <tr>\n      <th>7</th>\n      <td>Luxembourg</td>\n      <td>Western Europe</td>\n      <td>0.386</td>\n      <td>0.20</td>\n    </tr>\n    <tr>\n      <th>14</th>\n      <td>Ireland</td>\n      <td>Western Europe</td>\n      <td>0.363</td>\n      <td>0.28</td>\n    </tr>\n    <tr>\n      <th>4</th>\n      <td>Netherlands</td>\n      <td>Western Europe</td>\n      <td>0.338</td>\n      <td>0.18</td>\n    </tr>\n    <tr>\n      <th>2</th>\n      <td>Switzerland</td>\n      <td>Western Europe</td>\n      <td>0.292</td>\n      <td>0.15</td>\n    </tr>\n    <tr>\n      <th>5</th>\n      <td>Norway</td>\n      <td>Western Europe</td>\n      <td>0.270</td>\n      <td>0.16</td>\n    </tr>\n    <tr>\n      <th>8</th>\n      <td>New Zealand</td>\n      <td>North America and ANZ</td>\n      <td>0.242</td>\n      <td>0.12</td>\n    </tr>\n    <tr>\n      <th>6</th>\n      <td>Sweden</td>\n      <td>Western Europe</td>\n      <td>0.237</td>\n      <td>0.15</td>\n    </tr>\n    <tr>\n      <th>0</th>\n      <td>Finland</td>\n      <td>Western Europe</td>\n      <td>0.186</td>\n      <td>0.15</td>\n    </tr>\n    <tr>\n      <th>1</th>\n      <td>Denmark</td>\n      <td>Western Europe</td>\n      <td>0.179</td>\n      <td>0.12</td>\n    </tr>\n  </tbody>\n</table>\n</div>"
     },
     "metadata": {},
     "execution_count": 108
    }
   ],
   "source": [
    "oecd_corrupt = oecd[['country', 'region','perceptions_of_corruption', 'ti_corrupt_harmonized']]\n",
    "oecd_corrupt.sort_values(by = 'perceptions_of_corruption', ascending = False)"
   ]
  },
  {
   "cell_type": "markdown",
   "id": "0a7979eb",
   "metadata": {},
   "source": [
    "###### Among OECD countries, perceptions of corruptions are middle of the road. More residents of Southern European and Eastern European countries think their governments are corrupt."
   ]
  },
  {
   "cell_type": "code",
   "execution_count": 109,
   "id": "22ffc000",
   "metadata": {},
   "outputs": [
    {
     "output_type": "execute_result",
     "data": {
      "text/plain": [
       "Text(0.25, 0.673, 'Iceland')"
      ]
     },
     "metadata": {},
     "execution_count": 109
    },
    {
     "output_type": "display_data",
     "data": {
      "text/plain": "<Figure size 432x288 with 1 Axes>",
      "image/svg+xml": "<?xml version=\"1.0\" encoding=\"utf-8\" standalone=\"no\"?>\r\n<!DOCTYPE svg PUBLIC \"-//W3C//DTD SVG 1.1//EN\"\r\n  \"http://www.w3.org/Graphics/SVG/1.1/DTD/svg11.dtd\">\r\n<svg height=\"266.273594pt\" version=\"1.1\" viewBox=\"0 0 394.010937 266.273594\" width=\"394.010937pt\" xmlns=\"http://www.w3.org/2000/svg\" xmlns:xlink=\"http://www.w3.org/1999/xlink\">\r\n <metadata>\r\n  <rdf:RDF xmlns:cc=\"http://creativecommons.org/ns#\" xmlns:dc=\"http://purl.org/dc/elements/1.1/\" xmlns:rdf=\"http://www.w3.org/1999/02/22-rdf-syntax-ns#\">\r\n   <cc:Work>\r\n    <dc:type rdf:resource=\"http://purl.org/dc/dcmitype/StillImage\"/>\r\n    <dc:date>2021-06-25T10:19:46.405281</dc:date>\r\n    <dc:format>image/svg+xml</dc:format>\r\n    <dc:creator>\r\n     <cc:Agent>\r\n      <dc:title>Matplotlib v3.4.2, https://matplotlib.org/</dc:title>\r\n     </cc:Agent>\r\n    </dc:creator>\r\n   </cc:Work>\r\n  </rdf:RDF>\r\n </metadata>\r\n <defs>\r\n  <style type=\"text/css\">*{stroke-linecap:butt;stroke-linejoin:round;}</style>\r\n </defs>\r\n <g id=\"figure_1\">\r\n  <g id=\"patch_1\">\r\n   <path d=\"M 0 266.273594 \r\nL 394.010937 266.273594 \r\nL 394.010937 0 \r\nL 0 0 \r\nz\r\n\" style=\"fill:none;\"/>\r\n  </g>\r\n  <g id=\"axes_1\">\r\n   <g id=\"patch_2\">\r\n    <path d=\"M 44.059375 228.439219 \r\nL 378.859375 228.439219 \r\nL 378.859375 10.999219 \r\nL 44.059375 10.999219 \r\nz\r\n\" style=\"fill:#ffffff;\"/>\r\n   </g>\r\n   <g id=\"PathCollection_1\">\r\n    <defs>\r\n     <path d=\"M 0 2.236068 \r\nC 0.593012 2.236068 1.161816 2.000462 1.581139 1.581139 \r\nC 2.000462 1.161816 2.236068 0.593012 2.236068 0 \r\nC 2.236068 -0.593012 2.000462 -1.161816 1.581139 -1.581139 \r\nC 1.161816 -2.000462 0.593012 -2.236068 0 -2.236068 \r\nC -0.593012 -2.236068 -1.161816 -2.000462 -1.581139 -1.581139 \r\nC -2.000462 -1.161816 -2.236068 -0.593012 -2.236068 0 \r\nC -2.236068 0.593012 -2.000462 1.161816 -1.581139 1.581139 \r\nC -1.161816 2.000462 -0.593012 2.236068 0 2.236068 \r\nz\r\n\" id=\"m9b04f99e22\" style=\"stroke:#1f77b4;\"/>\r\n    </defs>\r\n    <g clip-path=\"url(#p85414b077f)\">\r\n     <use style=\"fill:#1f77b4;stroke:#1f77b4;\" x=\"94.279375\" xlink:href=\"#m9b04f99e22\" y=\"187.995379\"/>\r\n     <use style=\"fill:#1f77b4;stroke:#1f77b4;\" x=\"84.235375\" xlink:href=\"#m9b04f99e22\" y=\"189.517459\"/>\r\n     <use style=\"fill:#1f77b4;stroke:#1f77b4;\" x=\"94.279375\" xlink:href=\"#m9b04f99e22\" y=\"164.946739\"/>\r\n     <use style=\"fill:#1f77b4;stroke:#1f77b4;\" x=\"127.759375\" xlink:href=\"#m9b04f99e22\" y=\"82.102099\"/>\r\n     <use style=\"fill:#1f77b4;stroke:#1f77b4;\" x=\"104.323375\" xlink:href=\"#m9b04f99e22\" y=\"154.944499\"/>\r\n     <use style=\"fill:#1f77b4;stroke:#1f77b4;\" x=\"97.627375\" xlink:href=\"#m9b04f99e22\" y=\"169.730419\"/>\r\n     <use style=\"fill:#1f77b4;stroke:#1f77b4;\" x=\"94.279375\" xlink:href=\"#m9b04f99e22\" y=\"176.905939\"/>\r\n     <use style=\"fill:#1f77b4;stroke:#1f77b4;\" x=\"111.019375\" xlink:href=\"#m9b04f99e22\" y=\"144.507379\"/>\r\n     <use style=\"fill:#1f77b4;stroke:#1f77b4;\" x=\"84.235375\" xlink:href=\"#m9b04f99e22\" y=\"175.818739\"/>\r\n     <use style=\"fill:#1f77b4;stroke:#1f77b4;\" x=\"124.411375\" xlink:href=\"#m9b04f99e22\" y=\"123.850579\"/>\r\n     <use style=\"fill:#1f77b4;stroke:#1f77b4;\" x=\"121.063375\" xlink:href=\"#m9b04f99e22\" y=\"132.330739\"/>\r\n     <use style=\"fill:#1f77b4;stroke:#1f77b4;\" x=\"177.979375\" xlink:href=\"#m9b04f99e22\" y=\"64.706899\"/>\r\n     <use style=\"fill:#1f77b4;stroke:#1f77b4;\" x=\"111.019375\" xlink:href=\"#m9b04f99e22\" y=\"128.416819\"/>\r\n     <use style=\"fill:#1f77b4;stroke:#1f77b4;\" x=\"121.063375\" xlink:href=\"#m9b04f99e22\" y=\"138.201619\"/>\r\n     <use style=\"fill:#1f77b4;stroke:#1f77b4;\" x=\"137.803375\" xlink:href=\"#m9b04f99e22\" y=\"149.508499\"/>\r\n     <use style=\"fill:#1f77b4;stroke:#1f77b4;\" x=\"121.063375\" xlink:href=\"#m9b04f99e22\" y=\"128.634259\"/>\r\n     <use style=\"fill:#1f77b4;stroke:#1f77b4;\" x=\"198.067375\" xlink:href=\"#m9b04f99e22\" y=\"39.701299\"/>\r\n     <use style=\"fill:#1f77b4;stroke:#1f77b4;\" x=\"154.543375\" xlink:href=\"#m9b04f99e22\" y=\"76.666099\"/>\r\n     <use style=\"fill:#1f77b4;stroke:#1f77b4;\" x=\"124.411375\" xlink:href=\"#m9b04f99e22\" y=\"87.972979\"/>\r\n     <use style=\"fill:#1f77b4;stroke:#1f77b4;\" x=\"147.847375\" xlink:href=\"#m9b04f99e22\" y=\"104.280979\"/>\r\n     <use style=\"fill:#1f77b4;stroke:#1f77b4;\" x=\"171.283375\" xlink:href=\"#m9b04f99e22\" y=\"66.446419\"/>\r\n     <use style=\"fill:#1f77b4;stroke:#1f77b4;\" x=\"201.415375\" xlink:href=\"#m9b04f99e22\" y=\"40.136179\"/>\r\n     <use style=\"fill:#1f77b4;stroke:#1f77b4;\" x=\"177.979375\" xlink:href=\"#m9b04f99e22\" y=\"53.182579\"/>\r\n     <use style=\"fill:#1f77b4;stroke:#1f77b4;\" x=\"214.807375\" xlink:href=\"#m9b04f99e22\" y=\"30.351379\"/>\r\n     <use style=\"fill:#1f77b4;stroke:#1f77b4;\" x=\"275.071375\" xlink:href=\"#m9b04f99e22\" y=\"54.704659\"/>\r\n     <use style=\"fill:#1f77b4;stroke:#1f77b4;\" x=\"177.979375\" xlink:href=\"#m9b04f99e22\" y=\"48.833779\"/>\r\n     <use style=\"fill:#1f77b4;stroke:#1f77b4;\" x=\"127.759375\" xlink:href=\"#m9b04f99e22\" y=\"113.848339\"/>\r\n     <use style=\"fill:#1f77b4;stroke:#1f77b4;\" x=\"154.543375\" xlink:href=\"#m9b04f99e22\" y=\"47.964019\"/>\r\n     <use style=\"fill:#1f77b4;stroke:#1f77b4;\" x=\"191.371375\" xlink:href=\"#m9b04f99e22\" y=\"68.620819\"/>\r\n     <use style=\"fill:#1f77b4;stroke:#1f77b4;\" x=\"188.023375\" xlink:href=\"#m9b04f99e22\" y=\"54.487219\"/>\r\n     <use style=\"fill:#1f77b4;stroke:#1f77b4;\" x=\"248.287375\" xlink:href=\"#m9b04f99e22\" y=\"45.572179\"/>\r\n     <use style=\"fill:#1f77b4;stroke:#1f77b4;\" x=\"231.547375\" xlink:href=\"#m9b04f99e22\" y=\"37.961779\"/>\r\n     <use style=\"fill:#1f77b4;stroke:#1f77b4;\" x=\"131.107375\" xlink:href=\"#m9b04f99e22\" y=\"89.712499\"/>\r\n     <use style=\"fill:#1f77b4;stroke:#1f77b4;\" x=\"174.631375\" xlink:href=\"#m9b04f99e22\" y=\"35.569939\"/>\r\n     <use style=\"fill:#1f77b4;stroke:#1f77b4;\" x=\"174.631375\" xlink:href=\"#m9b04f99e22\" y=\"70.360339\"/>\r\n     <use style=\"fill:#1f77b4;stroke:#1f77b4;\" x=\"211.459375\" xlink:href=\"#m9b04f99e22\" y=\"49.486099\"/>\r\n     <use style=\"fill:#1f77b4;stroke:#1f77b4;\" x=\"244.939375\" xlink:href=\"#m9b04f99e22\" y=\"59.705779\"/>\r\n    </g>\r\n   </g>\r\n   <g id=\"matplotlib.axis_1\">\r\n    <g id=\"xtick_1\">\r\n     <g id=\"line2d_1\">\r\n      <defs>\r\n       <path d=\"M 0 0 \r\nL 0 3.5 \r\n\" id=\"m86f2a5c89c\" style=\"stroke:#000000;stroke-width:0.8;\"/>\r\n      </defs>\r\n      <g>\r\n       <use style=\"stroke:#000000;stroke-width:0.8;\" x=\"44.059375\" xlink:href=\"#m86f2a5c89c\" y=\"228.439219\"/>\r\n      </g>\r\n     </g>\r\n     <g id=\"text_1\">\r\n      <!-- 0.0 -->\r\n      <g transform=\"translate(36.107813 243.037656)scale(0.1 -0.1)\">\r\n       <defs>\r\n        <path d=\"M 2034 4250 \r\nQ 1547 4250 1301 3770 \r\nQ 1056 3291 1056 2328 \r\nQ 1056 1369 1301 889 \r\nQ 1547 409 2034 409 \r\nQ 2525 409 2770 889 \r\nQ 3016 1369 3016 2328 \r\nQ 3016 3291 2770 3770 \r\nQ 2525 4250 2034 4250 \r\nz\r\nM 2034 4750 \r\nQ 2819 4750 3233 4129 \r\nQ 3647 3509 3647 2328 \r\nQ 3647 1150 3233 529 \r\nQ 2819 -91 2034 -91 \r\nQ 1250 -91 836 529 \r\nQ 422 1150 422 2328 \r\nQ 422 3509 836 4129 \r\nQ 1250 4750 2034 4750 \r\nz\r\n\" id=\"DejaVuSans-30\" transform=\"scale(0.015625)\"/>\r\n        <path d=\"M 684 794 \r\nL 1344 794 \r\nL 1344 0 \r\nL 684 0 \r\nL 684 794 \r\nz\r\n\" id=\"DejaVuSans-2e\" transform=\"scale(0.015625)\"/>\r\n       </defs>\r\n       <use xlink:href=\"#DejaVuSans-30\"/>\r\n       <use x=\"63.623047\" xlink:href=\"#DejaVuSans-2e\"/>\r\n       <use x=\"95.410156\" xlink:href=\"#DejaVuSans-30\"/>\r\n      </g>\r\n     </g>\r\n    </g>\r\n    <g id=\"xtick_2\">\r\n     <g id=\"line2d_2\">\r\n      <g>\r\n       <use style=\"stroke:#000000;stroke-width:0.8;\" x=\"111.019375\" xlink:href=\"#m86f2a5c89c\" y=\"228.439219\"/>\r\n      </g>\r\n     </g>\r\n     <g id=\"text_2\">\r\n      <!-- 0.2 -->\r\n      <g transform=\"translate(103.067813 243.037656)scale(0.1 -0.1)\">\r\n       <defs>\r\n        <path d=\"M 1228 531 \r\nL 3431 531 \r\nL 3431 0 \r\nL 469 0 \r\nL 469 531 \r\nQ 828 903 1448 1529 \r\nQ 2069 2156 2228 2338 \r\nQ 2531 2678 2651 2914 \r\nQ 2772 3150 2772 3378 \r\nQ 2772 3750 2511 3984 \r\nQ 2250 4219 1831 4219 \r\nQ 1534 4219 1204 4116 \r\nQ 875 4013 500 3803 \r\nL 500 4441 \r\nQ 881 4594 1212 4672 \r\nQ 1544 4750 1819 4750 \r\nQ 2544 4750 2975 4387 \r\nQ 3406 4025 3406 3419 \r\nQ 3406 3131 3298 2873 \r\nQ 3191 2616 2906 2266 \r\nQ 2828 2175 2409 1742 \r\nQ 1991 1309 1228 531 \r\nz\r\n\" id=\"DejaVuSans-32\" transform=\"scale(0.015625)\"/>\r\n       </defs>\r\n       <use xlink:href=\"#DejaVuSans-30\"/>\r\n       <use x=\"63.623047\" xlink:href=\"#DejaVuSans-2e\"/>\r\n       <use x=\"95.410156\" xlink:href=\"#DejaVuSans-32\"/>\r\n      </g>\r\n     </g>\r\n    </g>\r\n    <g id=\"xtick_3\">\r\n     <g id=\"line2d_3\">\r\n      <g>\r\n       <use style=\"stroke:#000000;stroke-width:0.8;\" x=\"177.979375\" xlink:href=\"#m86f2a5c89c\" y=\"228.439219\"/>\r\n      </g>\r\n     </g>\r\n     <g id=\"text_3\">\r\n      <!-- 0.4 -->\r\n      <g transform=\"translate(170.027813 243.037656)scale(0.1 -0.1)\">\r\n       <defs>\r\n        <path d=\"M 2419 4116 \r\nL 825 1625 \r\nL 2419 1625 \r\nL 2419 4116 \r\nz\r\nM 2253 4666 \r\nL 3047 4666 \r\nL 3047 1625 \r\nL 3713 1625 \r\nL 3713 1100 \r\nL 3047 1100 \r\nL 3047 0 \r\nL 2419 0 \r\nL 2419 1100 \r\nL 313 1100 \r\nL 313 1709 \r\nL 2253 4666 \r\nz\r\n\" id=\"DejaVuSans-34\" transform=\"scale(0.015625)\"/>\r\n       </defs>\r\n       <use xlink:href=\"#DejaVuSans-30\"/>\r\n       <use x=\"63.623047\" xlink:href=\"#DejaVuSans-2e\"/>\r\n       <use x=\"95.410156\" xlink:href=\"#DejaVuSans-34\"/>\r\n      </g>\r\n     </g>\r\n    </g>\r\n    <g id=\"xtick_4\">\r\n     <g id=\"line2d_4\">\r\n      <g>\r\n       <use style=\"stroke:#000000;stroke-width:0.8;\" x=\"244.939375\" xlink:href=\"#m86f2a5c89c\" y=\"228.439219\"/>\r\n      </g>\r\n     </g>\r\n     <g id=\"text_4\">\r\n      <!-- 0.6 -->\r\n      <g transform=\"translate(236.987813 243.037656)scale(0.1 -0.1)\">\r\n       <defs>\r\n        <path d=\"M 2113 2584 \r\nQ 1688 2584 1439 2293 \r\nQ 1191 2003 1191 1497 \r\nQ 1191 994 1439 701 \r\nQ 1688 409 2113 409 \r\nQ 2538 409 2786 701 \r\nQ 3034 994 3034 1497 \r\nQ 3034 2003 2786 2293 \r\nQ 2538 2584 2113 2584 \r\nz\r\nM 3366 4563 \r\nL 3366 3988 \r\nQ 3128 4100 2886 4159 \r\nQ 2644 4219 2406 4219 \r\nQ 1781 4219 1451 3797 \r\nQ 1122 3375 1075 2522 \r\nQ 1259 2794 1537 2939 \r\nQ 1816 3084 2150 3084 \r\nQ 2853 3084 3261 2657 \r\nQ 3669 2231 3669 1497 \r\nQ 3669 778 3244 343 \r\nQ 2819 -91 2113 -91 \r\nQ 1303 -91 875 529 \r\nQ 447 1150 447 2328 \r\nQ 447 3434 972 4092 \r\nQ 1497 4750 2381 4750 \r\nQ 2619 4750 2861 4703 \r\nQ 3103 4656 3366 4563 \r\nz\r\n\" id=\"DejaVuSans-36\" transform=\"scale(0.015625)\"/>\r\n       </defs>\r\n       <use xlink:href=\"#DejaVuSans-30\"/>\r\n       <use x=\"63.623047\" xlink:href=\"#DejaVuSans-2e\"/>\r\n       <use x=\"95.410156\" xlink:href=\"#DejaVuSans-36\"/>\r\n      </g>\r\n     </g>\r\n    </g>\r\n    <g id=\"xtick_5\">\r\n     <g id=\"line2d_5\">\r\n      <g>\r\n       <use style=\"stroke:#000000;stroke-width:0.8;\" x=\"311.899375\" xlink:href=\"#m86f2a5c89c\" y=\"228.439219\"/>\r\n      </g>\r\n     </g>\r\n     <g id=\"text_5\">\r\n      <!-- 0.8 -->\r\n      <g transform=\"translate(303.947812 243.037656)scale(0.1 -0.1)\">\r\n       <defs>\r\n        <path d=\"M 2034 2216 \r\nQ 1584 2216 1326 1975 \r\nQ 1069 1734 1069 1313 \r\nQ 1069 891 1326 650 \r\nQ 1584 409 2034 409 \r\nQ 2484 409 2743 651 \r\nQ 3003 894 3003 1313 \r\nQ 3003 1734 2745 1975 \r\nQ 2488 2216 2034 2216 \r\nz\r\nM 1403 2484 \r\nQ 997 2584 770 2862 \r\nQ 544 3141 544 3541 \r\nQ 544 4100 942 4425 \r\nQ 1341 4750 2034 4750 \r\nQ 2731 4750 3128 4425 \r\nQ 3525 4100 3525 3541 \r\nQ 3525 3141 3298 2862 \r\nQ 3072 2584 2669 2484 \r\nQ 3125 2378 3379 2068 \r\nQ 3634 1759 3634 1313 \r\nQ 3634 634 3220 271 \r\nQ 2806 -91 2034 -91 \r\nQ 1263 -91 848 271 \r\nQ 434 634 434 1313 \r\nQ 434 1759 690 2068 \r\nQ 947 2378 1403 2484 \r\nz\r\nM 1172 3481 \r\nQ 1172 3119 1398 2916 \r\nQ 1625 2713 2034 2713 \r\nQ 2441 2713 2670 2916 \r\nQ 2900 3119 2900 3481 \r\nQ 2900 3844 2670 4047 \r\nQ 2441 4250 2034 4250 \r\nQ 1625 4250 1398 4047 \r\nQ 1172 3844 1172 3481 \r\nz\r\n\" id=\"DejaVuSans-38\" transform=\"scale(0.015625)\"/>\r\n       </defs>\r\n       <use xlink:href=\"#DejaVuSans-30\"/>\r\n       <use x=\"63.623047\" xlink:href=\"#DejaVuSans-2e\"/>\r\n       <use x=\"95.410156\" xlink:href=\"#DejaVuSans-38\"/>\r\n      </g>\r\n     </g>\r\n    </g>\r\n    <g id=\"xtick_6\">\r\n     <g id=\"line2d_6\">\r\n      <g>\r\n       <use style=\"stroke:#000000;stroke-width:0.8;\" x=\"378.859375\" xlink:href=\"#m86f2a5c89c\" y=\"228.439219\"/>\r\n      </g>\r\n     </g>\r\n     <g id=\"text_6\">\r\n      <!-- 1.0 -->\r\n      <g transform=\"translate(370.907812 243.037656)scale(0.1 -0.1)\">\r\n       <defs>\r\n        <path d=\"M 794 531 \r\nL 1825 531 \r\nL 1825 4091 \r\nL 703 3866 \r\nL 703 4441 \r\nL 1819 4666 \r\nL 2450 4666 \r\nL 2450 531 \r\nL 3481 531 \r\nL 3481 0 \r\nL 794 0 \r\nL 794 531 \r\nz\r\n\" id=\"DejaVuSans-31\" transform=\"scale(0.015625)\"/>\r\n       </defs>\r\n       <use xlink:href=\"#DejaVuSans-31\"/>\r\n       <use x=\"63.623047\" xlink:href=\"#DejaVuSans-2e\"/>\r\n       <use x=\"95.410156\" xlink:href=\"#DejaVuSans-30\"/>\r\n      </g>\r\n     </g>\r\n    </g>\r\n    <g id=\"text_7\">\r\n     <!-- ti_corrupt_harmonized -->\r\n     <g transform=\"translate(155.411719 256.715781)scale(0.1 -0.1)\">\r\n      <defs>\r\n       <path d=\"M 1172 4494 \r\nL 1172 3500 \r\nL 2356 3500 \r\nL 2356 3053 \r\nL 1172 3053 \r\nL 1172 1153 \r\nQ 1172 725 1289 603 \r\nQ 1406 481 1766 481 \r\nL 2356 481 \r\nL 2356 0 \r\nL 1766 0 \r\nQ 1100 0 847 248 \r\nQ 594 497 594 1153 \r\nL 594 3053 \r\nL 172 3053 \r\nL 172 3500 \r\nL 594 3500 \r\nL 594 4494 \r\nL 1172 4494 \r\nz\r\n\" id=\"DejaVuSans-74\" transform=\"scale(0.015625)\"/>\r\n       <path d=\"M 603 3500 \r\nL 1178 3500 \r\nL 1178 0 \r\nL 603 0 \r\nL 603 3500 \r\nz\r\nM 603 4863 \r\nL 1178 4863 \r\nL 1178 4134 \r\nL 603 4134 \r\nL 603 4863 \r\nz\r\n\" id=\"DejaVuSans-69\" transform=\"scale(0.015625)\"/>\r\n       <path d=\"M 3263 -1063 \r\nL 3263 -1509 \r\nL -63 -1509 \r\nL -63 -1063 \r\nL 3263 -1063 \r\nz\r\n\" id=\"DejaVuSans-5f\" transform=\"scale(0.015625)\"/>\r\n       <path d=\"M 3122 3366 \r\nL 3122 2828 \r\nQ 2878 2963 2633 3030 \r\nQ 2388 3097 2138 3097 \r\nQ 1578 3097 1268 2742 \r\nQ 959 2388 959 1747 \r\nQ 959 1106 1268 751 \r\nQ 1578 397 2138 397 \r\nQ 2388 397 2633 464 \r\nQ 2878 531 3122 666 \r\nL 3122 134 \r\nQ 2881 22 2623 -34 \r\nQ 2366 -91 2075 -91 \r\nQ 1284 -91 818 406 \r\nQ 353 903 353 1747 \r\nQ 353 2603 823 3093 \r\nQ 1294 3584 2113 3584 \r\nQ 2378 3584 2631 3529 \r\nQ 2884 3475 3122 3366 \r\nz\r\n\" id=\"DejaVuSans-63\" transform=\"scale(0.015625)\"/>\r\n       <path d=\"M 1959 3097 \r\nQ 1497 3097 1228 2736 \r\nQ 959 2375 959 1747 \r\nQ 959 1119 1226 758 \r\nQ 1494 397 1959 397 \r\nQ 2419 397 2687 759 \r\nQ 2956 1122 2956 1747 \r\nQ 2956 2369 2687 2733 \r\nQ 2419 3097 1959 3097 \r\nz\r\nM 1959 3584 \r\nQ 2709 3584 3137 3096 \r\nQ 3566 2609 3566 1747 \r\nQ 3566 888 3137 398 \r\nQ 2709 -91 1959 -91 \r\nQ 1206 -91 779 398 \r\nQ 353 888 353 1747 \r\nQ 353 2609 779 3096 \r\nQ 1206 3584 1959 3584 \r\nz\r\n\" id=\"DejaVuSans-6f\" transform=\"scale(0.015625)\"/>\r\n       <path d=\"M 2631 2963 \r\nQ 2534 3019 2420 3045 \r\nQ 2306 3072 2169 3072 \r\nQ 1681 3072 1420 2755 \r\nQ 1159 2438 1159 1844 \r\nL 1159 0 \r\nL 581 0 \r\nL 581 3500 \r\nL 1159 3500 \r\nL 1159 2956 \r\nQ 1341 3275 1631 3429 \r\nQ 1922 3584 2338 3584 \r\nQ 2397 3584 2469 3576 \r\nQ 2541 3569 2628 3553 \r\nL 2631 2963 \r\nz\r\n\" id=\"DejaVuSans-72\" transform=\"scale(0.015625)\"/>\r\n       <path d=\"M 544 1381 \r\nL 544 3500 \r\nL 1119 3500 \r\nL 1119 1403 \r\nQ 1119 906 1312 657 \r\nQ 1506 409 1894 409 \r\nQ 2359 409 2629 706 \r\nQ 2900 1003 2900 1516 \r\nL 2900 3500 \r\nL 3475 3500 \r\nL 3475 0 \r\nL 2900 0 \r\nL 2900 538 \r\nQ 2691 219 2414 64 \r\nQ 2138 -91 1772 -91 \r\nQ 1169 -91 856 284 \r\nQ 544 659 544 1381 \r\nz\r\nM 1991 3584 \r\nL 1991 3584 \r\nz\r\n\" id=\"DejaVuSans-75\" transform=\"scale(0.015625)\"/>\r\n       <path d=\"M 1159 525 \r\nL 1159 -1331 \r\nL 581 -1331 \r\nL 581 3500 \r\nL 1159 3500 \r\nL 1159 2969 \r\nQ 1341 3281 1617 3432 \r\nQ 1894 3584 2278 3584 \r\nQ 2916 3584 3314 3078 \r\nQ 3713 2572 3713 1747 \r\nQ 3713 922 3314 415 \r\nQ 2916 -91 2278 -91 \r\nQ 1894 -91 1617 61 \r\nQ 1341 213 1159 525 \r\nz\r\nM 3116 1747 \r\nQ 3116 2381 2855 2742 \r\nQ 2594 3103 2138 3103 \r\nQ 1681 3103 1420 2742 \r\nQ 1159 2381 1159 1747 \r\nQ 1159 1113 1420 752 \r\nQ 1681 391 2138 391 \r\nQ 2594 391 2855 752 \r\nQ 3116 1113 3116 1747 \r\nz\r\n\" id=\"DejaVuSans-70\" transform=\"scale(0.015625)\"/>\r\n       <path d=\"M 3513 2113 \r\nL 3513 0 \r\nL 2938 0 \r\nL 2938 2094 \r\nQ 2938 2591 2744 2837 \r\nQ 2550 3084 2163 3084 \r\nQ 1697 3084 1428 2787 \r\nQ 1159 2491 1159 1978 \r\nL 1159 0 \r\nL 581 0 \r\nL 581 4863 \r\nL 1159 4863 \r\nL 1159 2956 \r\nQ 1366 3272 1645 3428 \r\nQ 1925 3584 2291 3584 \r\nQ 2894 3584 3203 3211 \r\nQ 3513 2838 3513 2113 \r\nz\r\n\" id=\"DejaVuSans-68\" transform=\"scale(0.015625)\"/>\r\n       <path d=\"M 2194 1759 \r\nQ 1497 1759 1228 1600 \r\nQ 959 1441 959 1056 \r\nQ 959 750 1161 570 \r\nQ 1363 391 1709 391 \r\nQ 2188 391 2477 730 \r\nQ 2766 1069 2766 1631 \r\nL 2766 1759 \r\nL 2194 1759 \r\nz\r\nM 3341 1997 \r\nL 3341 0 \r\nL 2766 0 \r\nL 2766 531 \r\nQ 2569 213 2275 61 \r\nQ 1981 -91 1556 -91 \r\nQ 1019 -91 701 211 \r\nQ 384 513 384 1019 \r\nQ 384 1609 779 1909 \r\nQ 1175 2209 1959 2209 \r\nL 2766 2209 \r\nL 2766 2266 \r\nQ 2766 2663 2505 2880 \r\nQ 2244 3097 1772 3097 \r\nQ 1472 3097 1187 3025 \r\nQ 903 2953 641 2809 \r\nL 641 3341 \r\nQ 956 3463 1253 3523 \r\nQ 1550 3584 1831 3584 \r\nQ 2591 3584 2966 3190 \r\nQ 3341 2797 3341 1997 \r\nz\r\n\" id=\"DejaVuSans-61\" transform=\"scale(0.015625)\"/>\r\n       <path d=\"M 3328 2828 \r\nQ 3544 3216 3844 3400 \r\nQ 4144 3584 4550 3584 \r\nQ 5097 3584 5394 3201 \r\nQ 5691 2819 5691 2113 \r\nL 5691 0 \r\nL 5113 0 \r\nL 5113 2094 \r\nQ 5113 2597 4934 2840 \r\nQ 4756 3084 4391 3084 \r\nQ 3944 3084 3684 2787 \r\nQ 3425 2491 3425 1978 \r\nL 3425 0 \r\nL 2847 0 \r\nL 2847 2094 \r\nQ 2847 2600 2669 2842 \r\nQ 2491 3084 2119 3084 \r\nQ 1678 3084 1418 2786 \r\nQ 1159 2488 1159 1978 \r\nL 1159 0 \r\nL 581 0 \r\nL 581 3500 \r\nL 1159 3500 \r\nL 1159 2956 \r\nQ 1356 3278 1631 3431 \r\nQ 1906 3584 2284 3584 \r\nQ 2666 3584 2933 3390 \r\nQ 3200 3197 3328 2828 \r\nz\r\n\" id=\"DejaVuSans-6d\" transform=\"scale(0.015625)\"/>\r\n       <path d=\"M 3513 2113 \r\nL 3513 0 \r\nL 2938 0 \r\nL 2938 2094 \r\nQ 2938 2591 2744 2837 \r\nQ 2550 3084 2163 3084 \r\nQ 1697 3084 1428 2787 \r\nQ 1159 2491 1159 1978 \r\nL 1159 0 \r\nL 581 0 \r\nL 581 3500 \r\nL 1159 3500 \r\nL 1159 2956 \r\nQ 1366 3272 1645 3428 \r\nQ 1925 3584 2291 3584 \r\nQ 2894 3584 3203 3211 \r\nQ 3513 2838 3513 2113 \r\nz\r\n\" id=\"DejaVuSans-6e\" transform=\"scale(0.015625)\"/>\r\n       <path d=\"M 353 3500 \r\nL 3084 3500 \r\nL 3084 2975 \r\nL 922 459 \r\nL 3084 459 \r\nL 3084 0 \r\nL 275 0 \r\nL 275 525 \r\nL 2438 3041 \r\nL 353 3041 \r\nL 353 3500 \r\nz\r\n\" id=\"DejaVuSans-7a\" transform=\"scale(0.015625)\"/>\r\n       <path d=\"M 3597 1894 \r\nL 3597 1613 \r\nL 953 1613 \r\nQ 991 1019 1311 708 \r\nQ 1631 397 2203 397 \r\nQ 2534 397 2845 478 \r\nQ 3156 559 3463 722 \r\nL 3463 178 \r\nQ 3153 47 2828 -22 \r\nQ 2503 -91 2169 -91 \r\nQ 1331 -91 842 396 \r\nQ 353 884 353 1716 \r\nQ 353 2575 817 3079 \r\nQ 1281 3584 2069 3584 \r\nQ 2775 3584 3186 3129 \r\nQ 3597 2675 3597 1894 \r\nz\r\nM 3022 2063 \r\nQ 3016 2534 2758 2815 \r\nQ 2500 3097 2075 3097 \r\nQ 1594 3097 1305 2825 \r\nQ 1016 2553 972 2059 \r\nL 3022 2063 \r\nz\r\n\" id=\"DejaVuSans-65\" transform=\"scale(0.015625)\"/>\r\n       <path d=\"M 2906 2969 \r\nL 2906 4863 \r\nL 3481 4863 \r\nL 3481 0 \r\nL 2906 0 \r\nL 2906 525 \r\nQ 2725 213 2448 61 \r\nQ 2172 -91 1784 -91 \r\nQ 1150 -91 751 415 \r\nQ 353 922 353 1747 \r\nQ 353 2572 751 3078 \r\nQ 1150 3584 1784 3584 \r\nQ 2172 3584 2448 3432 \r\nQ 2725 3281 2906 2969 \r\nz\r\nM 947 1747 \r\nQ 947 1113 1208 752 \r\nQ 1469 391 1925 391 \r\nQ 2381 391 2643 752 \r\nQ 2906 1113 2906 1747 \r\nQ 2906 2381 2643 2742 \r\nQ 2381 3103 1925 3103 \r\nQ 1469 3103 1208 2742 \r\nQ 947 2381 947 1747 \r\nz\r\n\" id=\"DejaVuSans-64\" transform=\"scale(0.015625)\"/>\r\n      </defs>\r\n      <use xlink:href=\"#DejaVuSans-74\"/>\r\n      <use x=\"39.208984\" xlink:href=\"#DejaVuSans-69\"/>\r\n      <use x=\"66.992188\" xlink:href=\"#DejaVuSans-5f\"/>\r\n      <use x=\"116.992188\" xlink:href=\"#DejaVuSans-63\"/>\r\n      <use x=\"171.972656\" xlink:href=\"#DejaVuSans-6f\"/>\r\n      <use x=\"233.154297\" xlink:href=\"#DejaVuSans-72\"/>\r\n      <use x=\"272.517578\" xlink:href=\"#DejaVuSans-72\"/>\r\n      <use x=\"313.630859\" xlink:href=\"#DejaVuSans-75\"/>\r\n      <use x=\"377.009766\" xlink:href=\"#DejaVuSans-70\"/>\r\n      <use x=\"440.486328\" xlink:href=\"#DejaVuSans-74\"/>\r\n      <use x=\"479.695312\" xlink:href=\"#DejaVuSans-5f\"/>\r\n      <use x=\"529.695312\" xlink:href=\"#DejaVuSans-68\"/>\r\n      <use x=\"593.074219\" xlink:href=\"#DejaVuSans-61\"/>\r\n      <use x=\"654.353516\" xlink:href=\"#DejaVuSans-72\"/>\r\n      <use x=\"693.716797\" xlink:href=\"#DejaVuSans-6d\"/>\r\n      <use x=\"791.128906\" xlink:href=\"#DejaVuSans-6f\"/>\r\n      <use x=\"852.310547\" xlink:href=\"#DejaVuSans-6e\"/>\r\n      <use x=\"915.689453\" xlink:href=\"#DejaVuSans-69\"/>\r\n      <use x=\"943.472656\" xlink:href=\"#DejaVuSans-7a\"/>\r\n      <use x=\"995.962891\" xlink:href=\"#DejaVuSans-65\"/>\r\n      <use x=\"1057.486328\" xlink:href=\"#DejaVuSans-64\"/>\r\n     </g>\r\n    </g>\r\n   </g>\r\n   <g id=\"matplotlib.axis_2\">\r\n    <g id=\"ytick_1\">\r\n     <g id=\"line2d_7\">\r\n      <defs>\r\n       <path d=\"M 0 0 \r\nL -3.5 0 \r\n\" id=\"m9383373f44\" style=\"stroke:#000000;stroke-width:0.8;\"/>\r\n      </defs>\r\n      <g>\r\n       <use style=\"stroke:#000000;stroke-width:0.8;\" x=\"44.059375\" xlink:href=\"#m9383373f44\" y=\"228.439219\"/>\r\n      </g>\r\n     </g>\r\n     <g id=\"text_8\">\r\n      <!-- 0.0 -->\r\n      <g transform=\"translate(21.15625 232.238438)scale(0.1 -0.1)\">\r\n       <use xlink:href=\"#DejaVuSans-30\"/>\r\n       <use x=\"63.623047\" xlink:href=\"#DejaVuSans-2e\"/>\r\n       <use x=\"95.410156\" xlink:href=\"#DejaVuSans-30\"/>\r\n      </g>\r\n     </g>\r\n    </g>\r\n    <g id=\"ytick_2\">\r\n     <g id=\"line2d_8\">\r\n      <g>\r\n       <use style=\"stroke:#000000;stroke-width:0.8;\" x=\"44.059375\" xlink:href=\"#m9383373f44\" y=\"184.951219\"/>\r\n      </g>\r\n     </g>\r\n     <g id=\"text_9\">\r\n      <!-- 0.2 -->\r\n      <g transform=\"translate(21.15625 188.750438)scale(0.1 -0.1)\">\r\n       <use xlink:href=\"#DejaVuSans-30\"/>\r\n       <use x=\"63.623047\" xlink:href=\"#DejaVuSans-2e\"/>\r\n       <use x=\"95.410156\" xlink:href=\"#DejaVuSans-32\"/>\r\n      </g>\r\n     </g>\r\n    </g>\r\n    <g id=\"ytick_3\">\r\n     <g id=\"line2d_9\">\r\n      <g>\r\n       <use style=\"stroke:#000000;stroke-width:0.8;\" x=\"44.059375\" xlink:href=\"#m9383373f44\" y=\"141.463219\"/>\r\n      </g>\r\n     </g>\r\n     <g id=\"text_10\">\r\n      <!-- 0.4 -->\r\n      <g transform=\"translate(21.15625 145.262438)scale(0.1 -0.1)\">\r\n       <use xlink:href=\"#DejaVuSans-30\"/>\r\n       <use x=\"63.623047\" xlink:href=\"#DejaVuSans-2e\"/>\r\n       <use x=\"95.410156\" xlink:href=\"#DejaVuSans-34\"/>\r\n      </g>\r\n     </g>\r\n    </g>\r\n    <g id=\"ytick_4\">\r\n     <g id=\"line2d_10\">\r\n      <g>\r\n       <use style=\"stroke:#000000;stroke-width:0.8;\" x=\"44.059375\" xlink:href=\"#m9383373f44\" y=\"97.975219\"/>\r\n      </g>\r\n     </g>\r\n     <g id=\"text_11\">\r\n      <!-- 0.6 -->\r\n      <g transform=\"translate(21.15625 101.774438)scale(0.1 -0.1)\">\r\n       <use xlink:href=\"#DejaVuSans-30\"/>\r\n       <use x=\"63.623047\" xlink:href=\"#DejaVuSans-2e\"/>\r\n       <use x=\"95.410156\" xlink:href=\"#DejaVuSans-36\"/>\r\n      </g>\r\n     </g>\r\n    </g>\r\n    <g id=\"ytick_5\">\r\n     <g id=\"line2d_11\">\r\n      <g>\r\n       <use style=\"stroke:#000000;stroke-width:0.8;\" x=\"44.059375\" xlink:href=\"#m9383373f44\" y=\"54.487219\"/>\r\n      </g>\r\n     </g>\r\n     <g id=\"text_12\">\r\n      <!-- 0.8 -->\r\n      <g transform=\"translate(21.15625 58.286438)scale(0.1 -0.1)\">\r\n       <use xlink:href=\"#DejaVuSans-30\"/>\r\n       <use x=\"63.623047\" xlink:href=\"#DejaVuSans-2e\"/>\r\n       <use x=\"95.410156\" xlink:href=\"#DejaVuSans-38\"/>\r\n      </g>\r\n     </g>\r\n    </g>\r\n    <g id=\"ytick_6\">\r\n     <g id=\"line2d_12\">\r\n      <g>\r\n       <use style=\"stroke:#000000;stroke-width:0.8;\" x=\"44.059375\" xlink:href=\"#m9383373f44\" y=\"10.999219\"/>\r\n      </g>\r\n     </g>\r\n     <g id=\"text_13\">\r\n      <!-- 1.0 -->\r\n      <g transform=\"translate(21.15625 14.798438)scale(0.1 -0.1)\">\r\n       <use xlink:href=\"#DejaVuSans-31\"/>\r\n       <use x=\"63.623047\" xlink:href=\"#DejaVuSans-2e\"/>\r\n       <use x=\"95.410156\" xlink:href=\"#DejaVuSans-30\"/>\r\n      </g>\r\n     </g>\r\n    </g>\r\n    <g id=\"text_14\">\r\n     <!-- perceptions_of_corruption -->\r\n     <g transform=\"translate(14.798438 184.666875)rotate(-90)scale(0.1 -0.1)\">\r\n      <defs>\r\n       <path d=\"M 2834 3397 \r\nL 2834 2853 \r\nQ 2591 2978 2328 3040 \r\nQ 2066 3103 1784 3103 \r\nQ 1356 3103 1142 2972 \r\nQ 928 2841 928 2578 \r\nQ 928 2378 1081 2264 \r\nQ 1234 2150 1697 2047 \r\nL 1894 2003 \r\nQ 2506 1872 2764 1633 \r\nQ 3022 1394 3022 966 \r\nQ 3022 478 2636 193 \r\nQ 2250 -91 1575 -91 \r\nQ 1294 -91 989 -36 \r\nQ 684 19 347 128 \r\nL 347 722 \r\nQ 666 556 975 473 \r\nQ 1284 391 1588 391 \r\nQ 1994 391 2212 530 \r\nQ 2431 669 2431 922 \r\nQ 2431 1156 2273 1281 \r\nQ 2116 1406 1581 1522 \r\nL 1381 1569 \r\nQ 847 1681 609 1914 \r\nQ 372 2147 372 2553 \r\nQ 372 3047 722 3315 \r\nQ 1072 3584 1716 3584 \r\nQ 2034 3584 2315 3537 \r\nQ 2597 3491 2834 3397 \r\nz\r\n\" id=\"DejaVuSans-73\" transform=\"scale(0.015625)\"/>\r\n       <path d=\"M 2375 4863 \r\nL 2375 4384 \r\nL 1825 4384 \r\nQ 1516 4384 1395 4259 \r\nQ 1275 4134 1275 3809 \r\nL 1275 3500 \r\nL 2222 3500 \r\nL 2222 3053 \r\nL 1275 3053 \r\nL 1275 0 \r\nL 697 0 \r\nL 697 3053 \r\nL 147 3053 \r\nL 147 3500 \r\nL 697 3500 \r\nL 697 3744 \r\nQ 697 4328 969 4595 \r\nQ 1241 4863 1831 4863 \r\nL 2375 4863 \r\nz\r\n\" id=\"DejaVuSans-66\" transform=\"scale(0.015625)\"/>\r\n      </defs>\r\n      <use xlink:href=\"#DejaVuSans-70\"/>\r\n      <use x=\"63.476562\" xlink:href=\"#DejaVuSans-65\"/>\r\n      <use x=\"125\" xlink:href=\"#DejaVuSans-72\"/>\r\n      <use x=\"163.863281\" xlink:href=\"#DejaVuSans-63\"/>\r\n      <use x=\"218.84375\" xlink:href=\"#DejaVuSans-65\"/>\r\n      <use x=\"280.367188\" xlink:href=\"#DejaVuSans-70\"/>\r\n      <use x=\"343.84375\" xlink:href=\"#DejaVuSans-74\"/>\r\n      <use x=\"383.052734\" xlink:href=\"#DejaVuSans-69\"/>\r\n      <use x=\"410.835938\" xlink:href=\"#DejaVuSans-6f\"/>\r\n      <use x=\"472.017578\" xlink:href=\"#DejaVuSans-6e\"/>\r\n      <use x=\"535.396484\" xlink:href=\"#DejaVuSans-73\"/>\r\n      <use x=\"587.496094\" xlink:href=\"#DejaVuSans-5f\"/>\r\n      <use x=\"637.496094\" xlink:href=\"#DejaVuSans-6f\"/>\r\n      <use x=\"698.677734\" xlink:href=\"#DejaVuSans-66\"/>\r\n      <use x=\"733.882812\" xlink:href=\"#DejaVuSans-5f\"/>\r\n      <use x=\"783.882812\" xlink:href=\"#DejaVuSans-63\"/>\r\n      <use x=\"838.863281\" xlink:href=\"#DejaVuSans-6f\"/>\r\n      <use x=\"900.044922\" xlink:href=\"#DejaVuSans-72\"/>\r\n      <use x=\"939.408203\" xlink:href=\"#DejaVuSans-72\"/>\r\n      <use x=\"980.521484\" xlink:href=\"#DejaVuSans-75\"/>\r\n      <use x=\"1043.900391\" xlink:href=\"#DejaVuSans-70\"/>\r\n      <use x=\"1107.376953\" xlink:href=\"#DejaVuSans-74\"/>\r\n      <use x=\"1146.585938\" xlink:href=\"#DejaVuSans-69\"/>\r\n      <use x=\"1174.369141\" xlink:href=\"#DejaVuSans-6f\"/>\r\n      <use x=\"1235.550781\" xlink:href=\"#DejaVuSans-6e\"/>\r\n     </g>\r\n    </g>\r\n   </g>\r\n   <g id=\"patch_3\">\r\n    <path d=\"M 44.059375 228.439219 \r\nL 44.059375 10.999219 \r\n\" style=\"fill:none;stroke:#000000;stroke-linecap:square;stroke-linejoin:miter;stroke-width:0.8;\"/>\r\n   </g>\r\n   <g id=\"patch_4\">\r\n    <path d=\"M 378.859375 228.439219 \r\nL 378.859375 10.999219 \r\n\" style=\"fill:none;stroke:#000000;stroke-linecap:square;stroke-linejoin:miter;stroke-width:0.8;\"/>\r\n   </g>\r\n   <g id=\"patch_5\">\r\n    <path d=\"M 44.059375 228.439219 \r\nL 378.859375 228.439219 \r\n\" style=\"fill:none;stroke:#000000;stroke-linecap:square;stroke-linejoin:miter;stroke-width:0.8;\"/>\r\n   </g>\r\n   <g id=\"patch_6\">\r\n    <path d=\"M 44.059375 10.999219 \r\nL 378.859375 10.999219 \r\n\" style=\"fill:none;stroke:#000000;stroke-linecap:square;stroke-linejoin:miter;stroke-width:0.8;\"/>\r\n   </g>\r\n   <g id=\"text_15\">\r\n    <!-- Iceland -->\r\n    <g transform=\"translate(127.759375 82.102099)scale(0.1 -0.1)\">\r\n     <defs>\r\n      <path d=\"M 628 4666 \r\nL 1259 4666 \r\nL 1259 0 \r\nL 628 0 \r\nL 628 4666 \r\nz\r\n\" id=\"DejaVuSans-49\" transform=\"scale(0.015625)\"/>\r\n      <path d=\"M 603 4863 \r\nL 1178 4863 \r\nL 1178 0 \r\nL 603 0 \r\nL 603 4863 \r\nz\r\n\" id=\"DejaVuSans-6c\" transform=\"scale(0.015625)\"/>\r\n     </defs>\r\n     <use xlink:href=\"#DejaVuSans-49\"/>\r\n     <use x=\"29.492188\" xlink:href=\"#DejaVuSans-63\"/>\r\n     <use x=\"84.472656\" xlink:href=\"#DejaVuSans-65\"/>\r\n     <use x=\"145.996094\" xlink:href=\"#DejaVuSans-6c\"/>\r\n     <use x=\"173.779297\" xlink:href=\"#DejaVuSans-61\"/>\r\n     <use x=\"235.058594\" xlink:href=\"#DejaVuSans-6e\"/>\r\n     <use x=\"298.4375\" xlink:href=\"#DejaVuSans-64\"/>\r\n    </g>\r\n   </g>\r\n  </g>\r\n </g>\r\n <defs>\r\n  <clipPath id=\"p85414b077f\">\r\n   <rect height=\"217.44\" width=\"334.8\" x=\"44.059375\" y=\"10.999219\"/>\r\n  </clipPath>\r\n </defs>\r\n</svg>\r\n",
      "image/png": "[encoded data removed]"
     },
     "metadata": {
      "needs_background": "light"
     }
    }
   ],
   "source": [
    "oecd_corrupt.plot(kind = 'scatter', x = 'ti_corrupt_harmonized', y = 'perceptions_of_corruption').set(xlim =(0, 1), ylim =(0, 1))\n",
    "plt.annotate(\"Iceland\", (0.25, 0.673))"
   ]
  },
  {
   "cell_type": "code",
   "execution_count": 110,
   "id": "9bdec3df",
   "metadata": {},
   "outputs": [
    {
     "output_type": "execute_result",
     "data": {
      "text/plain": [
       "Text(10.878, 0.25, 'Iceland')"
      ]
     },
     "metadata": {},
     "execution_count": 110
    },
    {
     "output_type": "display_data",
     "data": {
      "text/plain": "<Figure size 432x288 with 1 Axes>",
      "image/svg+xml": "<?xml version=\"1.0\" encoding=\"utf-8\" standalone=\"no\"?>\r\n<!DOCTYPE svg PUBLIC \"-//W3C//DTD SVG 1.1//EN\"\r\n  \"http://www.w3.org/Graphics/SVG/1.1/DTD/svg11.dtd\">\r\n<svg height=\"266.273594pt\" version=\"1.1\" viewBox=\"0 0 386.059375 266.273594\" width=\"386.059375pt\" xmlns=\"http://www.w3.org/2000/svg\" xmlns:xlink=\"http://www.w3.org/1999/xlink\">\r\n <metadata>\r\n  <rdf:RDF xmlns:cc=\"http://creativecommons.org/ns#\" xmlns:dc=\"http://purl.org/dc/elements/1.1/\" xmlns:rdf=\"http://www.w3.org/1999/02/22-rdf-syntax-ns#\">\r\n   <cc:Work>\r\n    <dc:type rdf:resource=\"http://purl.org/dc/dcmitype/StillImage\"/>\r\n    <dc:date>2021-06-25T10:19:47.021154</dc:date>\r\n    <dc:format>image/svg+xml</dc:format>\r\n    <dc:creator>\r\n     <cc:Agent>\r\n      <dc:title>Matplotlib v3.4.2, https://matplotlib.org/</dc:title>\r\n     </cc:Agent>\r\n    </dc:creator>\r\n   </cc:Work>\r\n  </rdf:RDF>\r\n </metadata>\r\n <defs>\r\n  <style type=\"text/css\">*{stroke-linecap:butt;stroke-linejoin:round;}</style>\r\n </defs>\r\n <g id=\"figure_1\">\r\n  <g id=\"patch_1\">\r\n   <path d=\"M 0 266.273594 \r\nL 386.059375 266.273594 \r\nL 386.059375 0 \r\nL 0 0 \r\nz\r\n\" style=\"fill:none;\"/>\r\n  </g>\r\n  <g id=\"axes_1\">\r\n   <g id=\"patch_2\">\r\n    <path d=\"M 44.059375 228.439219 \r\nL 378.859375 228.439219 \r\nL 378.859375 10.999219 \r\nL 44.059375 10.999219 \r\nz\r\n\" style=\"fill:#ffffff;\"/>\r\n   </g>\r\n   <g id=\"PathCollection_1\">\r\n    <defs>\r\n     <path d=\"M 0 2.236068 \r\nC 0.593012 2.236068 1.161816 2.000462 1.581139 1.581139 \r\nC 2.000462 1.161816 2.236068 0.593012 2.236068 0 \r\nC 2.236068 -0.593012 2.000462 -1.161816 1.581139 -1.581139 \r\nC 1.161816 -2.000462 0.593012 -2.236068 0 -2.236068 \r\nC -0.593012 -2.236068 -1.161816 -2.000462 -1.581139 -1.581139 \r\nC -2.000462 -1.161816 -2.236068 -0.593012 -2.236068 0 \r\nC -2.236068 0.593012 -2.000462 1.161816 -1.581139 1.581139 \r\nC -1.161816 2.000462 -0.593012 2.236068 0 2.236068 \r\nz\r\n\" id=\"m8d989f6252\" style=\"stroke:#1f77b4;\"/>\r\n    </defs>\r\n    <g clip-path=\"url(#pe1768fb377)\">\r\n     <use style=\"fill:#1f77b4;stroke:#1f77b4;\" x=\"236.653111\" xlink:href=\"#m8d989f6252\" y=\"195.823219\"/>\r\n     <use style=\"fill:#1f77b4;stroke:#1f77b4;\" x=\"259.66242\" xlink:href=\"#m8d989f6252\" y=\"202.346419\"/>\r\n     <use style=\"fill:#1f77b4;stroke:#1f77b4;\" x=\"286.45807\" xlink:href=\"#m8d989f6252\" y=\"195.823219\"/>\r\n     <use style=\"fill:#1f77b4;stroke:#1f77b4;\" x=\"251.65285\" xlink:href=\"#m8d989f6252\" y=\"174.079219\"/>\r\n     <use style=\"fill:#1f77b4;stroke:#1f77b4;\" x=\"259.516791\" xlink:href=\"#m8d989f6252\" y=\"189.300019\"/>\r\n     <use style=\"fill:#1f77b4;stroke:#1f77b4;\" x=\"277.137844\" xlink:href=\"#m8d989f6252\" y=\"193.648819\"/>\r\n     <use style=\"fill:#1f77b4;stroke:#1f77b4;\" x=\"250.050937\" xlink:href=\"#m8d989f6252\" y=\"195.823219\"/>\r\n     <use style=\"fill:#1f77b4;stroke:#1f77b4;\" x=\"363.641193\" xlink:href=\"#m8d989f6252\" y=\"184.951219\"/>\r\n     <use style=\"fill:#1f77b4;stroke:#1f77b4;\" x=\"217.430145\" xlink:href=\"#m8d989f6252\" y=\"202.346419\"/>\r\n     <use style=\"fill:#1f77b4;stroke:#1f77b4;\" x=\"255.730449\" xlink:href=\"#m8d989f6252\" y=\"176.253619\"/>\r\n     <use style=\"fill:#1f77b4;stroke:#1f77b4;\" x=\"239.711311\" xlink:href=\"#m8d989f6252\" y=\"178.428019\"/>\r\n     <use style=\"fill:#1f77b4;stroke:#1f77b4;\" x=\"207.527405\" xlink:href=\"#m8d989f6252\" y=\"141.463219\"/>\r\n     <use style=\"fill:#1f77b4;stroke:#1f77b4;\" x=\"250.924708\" xlink:href=\"#m8d989f6252\" y=\"184.951219\"/>\r\n     <use style=\"fill:#1f77b4;stroke:#1f77b4;\" x=\"236.79874\" xlink:href=\"#m8d989f6252\" y=\"178.428019\"/>\r\n     <use style=\"fill:#1f77b4;stroke:#1f77b4;\" x=\"319.22449\" xlink:href=\"#m8d989f6252\" y=\"167.556019\"/>\r\n     <use style=\"fill:#1f77b4;stroke:#1f77b4;\" x=\"226.750371\" xlink:href=\"#m8d989f6252\" y=\"178.428019\"/>\r\n     <use style=\"fill:#1f77b4;stroke:#1f77b4;\" x=\"204.760462\" xlink:href=\"#m8d989f6252\" y=\"128.416819\"/>\r\n     <use style=\"fill:#1f77b4;stroke:#1f77b4;\" x=\"272.768988\" xlink:href=\"#m8d989f6252\" y=\"156.684019\"/>\r\n     <use style=\"fill:#1f77b4;stroke:#1f77b4;\" x=\"243.643281\" xlink:href=\"#m8d989f6252\" y=\"176.253619\"/>\r\n     <use style=\"fill:#1f77b4;stroke:#1f77b4;\" x=\"226.313485\" xlink:href=\"#m8d989f6252\" y=\"161.032819\"/>\r\n     <use style=\"fill:#1f77b4;stroke:#1f77b4;\" x=\"206.94489\" xlink:href=\"#m8d989f6252\" y=\"145.812019\"/>\r\n     <use style=\"fill:#1f77b4;stroke:#1f77b4;\" x=\"214.517574\" xlink:href=\"#m8d989f6252\" y=\"126.242419\"/>\r\n     <use style=\"fill:#1f77b4;stroke:#1f77b4;\" x=\"200.828492\" xlink:href=\"#m8d989f6252\" y=\"141.463219\"/>\r\n     <use style=\"fill:#1f77b4;stroke:#1f77b4;\" x=\"177.527927\" xlink:href=\"#m8d989f6252\" y=\"117.544819\"/>\r\n     <use style=\"fill:#1f77b4;stroke:#1f77b4;\" x=\"103.257374\" xlink:href=\"#m8d989f6252\" y=\"78.405619\"/>\r\n     <use style=\"fill:#1f77b4;stroke:#1f77b4;\" x=\"196.459636\" xlink:href=\"#m8d989f6252\" y=\"141.463219\"/>\r\n     <use style=\"fill:#1f77b4;stroke:#1f77b4;\" x=\"193.838322\" xlink:href=\"#m8d989f6252\" y=\"174.079219\"/>\r\n     <use style=\"fill:#1f77b4;stroke:#1f77b4;\" x=\"134.130623\" xlink:href=\"#m8d989f6252\" y=\"156.684019\"/>\r\n     <use style=\"fill:#1f77b4;stroke:#1f77b4;\" x=\"179.421097\" xlink:href=\"#m8d989f6252\" y=\"132.765619\"/>\r\n     <use style=\"fill:#1f77b4;stroke:#1f77b4;\" x=\"169.663986\" xlink:href=\"#m8d989f6252\" y=\"134.940019\"/>\r\n     <use style=\"fill:#1f77b4;stroke:#1f77b4;\" x=\"59.277557\" xlink:href=\"#m8d989f6252\" y=\"95.800819\"/>\r\n     <use style=\"fill:#1f77b4;stroke:#1f77b4;\" x=\"175.926013\" xlink:href=\"#m8d989f6252\" y=\"106.672819\"/>\r\n     <use style=\"fill:#1f77b4;stroke:#1f77b4;\" x=\"212.770032\" xlink:href=\"#m8d989f6252\" y=\"171.904819\"/>\r\n     <use style=\"fill:#1f77b4;stroke:#1f77b4;\" x=\"185.10061\" xlink:href=\"#m8d989f6252\" y=\"143.637619\"/>\r\n     <use style=\"fill:#1f77b4;stroke:#1f77b4;\" x=\"218.595173\" xlink:href=\"#m8d989f6252\" y=\"143.637619\"/>\r\n     <use style=\"fill:#1f77b4;stroke:#1f77b4;\" x=\"164.421358\" xlink:href=\"#m8d989f6252\" y=\"119.719219\"/>\r\n     <use style=\"fill:#1f77b4;stroke:#1f77b4;\" x=\"158.741846\" xlink:href=\"#m8d989f6252\" y=\"97.975219\"/>\r\n    </g>\r\n   </g>\r\n   <g id=\"matplotlib.axis_1\">\r\n    <g id=\"xtick_1\">\r\n     <g id=\"line2d_1\">\r\n      <defs>\r\n       <path d=\"M 0 0 \r\nL 0 3.5 \r\n\" id=\"maec1af3fc9\" style=\"stroke:#000000;stroke-width:0.8;\"/>\r\n      </defs>\r\n      <g>\r\n       <use style=\"stroke:#000000;stroke-width:0.8;\" x=\"50.97673\" xlink:href=\"#maec1af3fc9\" y=\"228.439219\"/>\r\n      </g>\r\n     </g>\r\n     <g id=\"text_1\">\r\n      <!-- 9.5 -->\r\n      <g transform=\"translate(43.025168 243.037656)scale(0.1 -0.1)\">\r\n       <defs>\r\n        <path d=\"M 703 97 \r\nL 703 672 \r\nQ 941 559 1184 500 \r\nQ 1428 441 1663 441 \r\nQ 2288 441 2617 861 \r\nQ 2947 1281 2994 2138 \r\nQ 2813 1869 2534 1725 \r\nQ 2256 1581 1919 1581 \r\nQ 1219 1581 811 2004 \r\nQ 403 2428 403 3163 \r\nQ 403 3881 828 4315 \r\nQ 1253 4750 1959 4750 \r\nQ 2769 4750 3195 4129 \r\nQ 3622 3509 3622 2328 \r\nQ 3622 1225 3098 567 \r\nQ 2575 -91 1691 -91 \r\nQ 1453 -91 1209 -44 \r\nQ 966 3 703 97 \r\nz\r\nM 1959 2075 \r\nQ 2384 2075 2632 2365 \r\nQ 2881 2656 2881 3163 \r\nQ 2881 3666 2632 3958 \r\nQ 2384 4250 1959 4250 \r\nQ 1534 4250 1286 3958 \r\nQ 1038 3666 1038 3163 \r\nQ 1038 2656 1286 2365 \r\nQ 1534 2075 1959 2075 \r\nz\r\n\" id=\"DejaVuSans-39\" transform=\"scale(0.015625)\"/>\r\n        <path d=\"M 684 794 \r\nL 1344 794 \r\nL 1344 0 \r\nL 684 0 \r\nL 684 794 \r\nz\r\n\" id=\"DejaVuSans-2e\" transform=\"scale(0.015625)\"/>\r\n        <path d=\"M 691 4666 \r\nL 3169 4666 \r\nL 3169 4134 \r\nL 1269 4134 \r\nL 1269 2991 \r\nQ 1406 3038 1543 3061 \r\nQ 1681 3084 1819 3084 \r\nQ 2600 3084 3056 2656 \r\nQ 3513 2228 3513 1497 \r\nQ 3513 744 3044 326 \r\nQ 2575 -91 1722 -91 \r\nQ 1428 -91 1123 -41 \r\nQ 819 9 494 109 \r\nL 494 744 \r\nQ 775 591 1075 516 \r\nQ 1375 441 1709 441 \r\nQ 2250 441 2565 725 \r\nQ 2881 1009 2881 1497 \r\nQ 2881 1984 2565 2268 \r\nQ 2250 2553 1709 2553 \r\nQ 1456 2553 1204 2497 \r\nQ 953 2441 691 2322 \r\nL 691 4666 \r\nz\r\n\" id=\"DejaVuSans-35\" transform=\"scale(0.015625)\"/>\r\n       </defs>\r\n       <use xlink:href=\"#DejaVuSans-39\"/>\r\n       <use x=\"63.623047\" xlink:href=\"#DejaVuSans-2e\"/>\r\n       <use x=\"95.410156\" xlink:href=\"#DejaVuSans-35\"/>\r\n      </g>\r\n     </g>\r\n    </g>\r\n    <g id=\"xtick_2\">\r\n     <g id=\"line2d_2\">\r\n      <g>\r\n       <use style=\"stroke:#000000;stroke-width:0.8;\" x=\"123.790997\" xlink:href=\"#maec1af3fc9\" y=\"228.439219\"/>\r\n      </g>\r\n     </g>\r\n     <g id=\"text_2\">\r\n      <!-- 10.0 -->\r\n      <g transform=\"translate(112.658185 243.037656)scale(0.1 -0.1)\">\r\n       <defs>\r\n        <path d=\"M 794 531 \r\nL 1825 531 \r\nL 1825 4091 \r\nL 703 3866 \r\nL 703 4441 \r\nL 1819 4666 \r\nL 2450 4666 \r\nL 2450 531 \r\nL 3481 531 \r\nL 3481 0 \r\nL 794 0 \r\nL 794 531 \r\nz\r\n\" id=\"DejaVuSans-31\" transform=\"scale(0.015625)\"/>\r\n        <path d=\"M 2034 4250 \r\nQ 1547 4250 1301 3770 \r\nQ 1056 3291 1056 2328 \r\nQ 1056 1369 1301 889 \r\nQ 1547 409 2034 409 \r\nQ 2525 409 2770 889 \r\nQ 3016 1369 3016 2328 \r\nQ 3016 3291 2770 3770 \r\nQ 2525 4250 2034 4250 \r\nz\r\nM 2034 4750 \r\nQ 2819 4750 3233 4129 \r\nQ 3647 3509 3647 2328 \r\nQ 3647 1150 3233 529 \r\nQ 2819 -91 2034 -91 \r\nQ 1250 -91 836 529 \r\nQ 422 1150 422 2328 \r\nQ 422 3509 836 4129 \r\nQ 1250 4750 2034 4750 \r\nz\r\n\" id=\"DejaVuSans-30\" transform=\"scale(0.015625)\"/>\r\n       </defs>\r\n       <use xlink:href=\"#DejaVuSans-31\"/>\r\n       <use x=\"63.623047\" xlink:href=\"#DejaVuSans-30\"/>\r\n       <use x=\"127.246094\" xlink:href=\"#DejaVuSans-2e\"/>\r\n       <use x=\"159.033203\" xlink:href=\"#DejaVuSans-30\"/>\r\n      </g>\r\n     </g>\r\n    </g>\r\n    <g id=\"xtick_3\">\r\n     <g id=\"line2d_3\">\r\n      <g>\r\n       <use style=\"stroke:#000000;stroke-width:0.8;\" x=\"196.605265\" xlink:href=\"#maec1af3fc9\" y=\"228.439219\"/>\r\n      </g>\r\n     </g>\r\n     <g id=\"text_3\">\r\n      <!-- 10.5 -->\r\n      <g transform=\"translate(185.472452 243.037656)scale(0.1 -0.1)\">\r\n       <use xlink:href=\"#DejaVuSans-31\"/>\r\n       <use x=\"63.623047\" xlink:href=\"#DejaVuSans-30\"/>\r\n       <use x=\"127.246094\" xlink:href=\"#DejaVuSans-2e\"/>\r\n       <use x=\"159.033203\" xlink:href=\"#DejaVuSans-35\"/>\r\n      </g>\r\n     </g>\r\n    </g>\r\n    <g id=\"xtick_4\">\r\n     <g id=\"line2d_4\">\r\n      <g>\r\n       <use style=\"stroke:#000000;stroke-width:0.8;\" x=\"269.419532\" xlink:href=\"#maec1af3fc9\" y=\"228.439219\"/>\r\n      </g>\r\n     </g>\r\n     <g id=\"text_4\">\r\n      <!-- 11.0 -->\r\n      <g transform=\"translate(258.286719 243.037656)scale(0.1 -0.1)\">\r\n       <use xlink:href=\"#DejaVuSans-31\"/>\r\n       <use x=\"63.623047\" xlink:href=\"#DejaVuSans-31\"/>\r\n       <use x=\"127.246094\" xlink:href=\"#DejaVuSans-2e\"/>\r\n       <use x=\"159.033203\" xlink:href=\"#DejaVuSans-30\"/>\r\n      </g>\r\n     </g>\r\n    </g>\r\n    <g id=\"xtick_5\">\r\n     <g id=\"line2d_5\">\r\n      <g>\r\n       <use style=\"stroke:#000000;stroke-width:0.8;\" x=\"342.233799\" xlink:href=\"#maec1af3fc9\" y=\"228.439219\"/>\r\n      </g>\r\n     </g>\r\n     <g id=\"text_5\">\r\n      <!-- 11.5 -->\r\n      <g transform=\"translate(331.100986 243.037656)scale(0.1 -0.1)\">\r\n       <use xlink:href=\"#DejaVuSans-31\"/>\r\n       <use x=\"63.623047\" xlink:href=\"#DejaVuSans-31\"/>\r\n       <use x=\"127.246094\" xlink:href=\"#DejaVuSans-2e\"/>\r\n       <use x=\"159.033203\" xlink:href=\"#DejaVuSans-35\"/>\r\n      </g>\r\n     </g>\r\n    </g>\r\n    <g id=\"text_6\">\r\n     <!-- log_gdp_cap -->\r\n     <g transform=\"translate(180.326563 256.715781)scale(0.1 -0.1)\">\r\n      <defs>\r\n       <path d=\"M 603 4863 \r\nL 1178 4863 \r\nL 1178 0 \r\nL 603 0 \r\nL 603 4863 \r\nz\r\n\" id=\"DejaVuSans-6c\" transform=\"scale(0.015625)\"/>\r\n       <path d=\"M 1959 3097 \r\nQ 1497 3097 1228 2736 \r\nQ 959 2375 959 1747 \r\nQ 959 1119 1226 758 \r\nQ 1494 397 1959 397 \r\nQ 2419 397 2687 759 \r\nQ 2956 1122 2956 1747 \r\nQ 2956 2369 2687 2733 \r\nQ 2419 3097 1959 3097 \r\nz\r\nM 1959 3584 \r\nQ 2709 3584 3137 3096 \r\nQ 3566 2609 3566 1747 \r\nQ 3566 888 3137 398 \r\nQ 2709 -91 1959 -91 \r\nQ 1206 -91 779 398 \r\nQ 353 888 353 1747 \r\nQ 353 2609 779 3096 \r\nQ 1206 3584 1959 3584 \r\nz\r\n\" id=\"DejaVuSans-6f\" transform=\"scale(0.015625)\"/>\r\n       <path d=\"M 2906 1791 \r\nQ 2906 2416 2648 2759 \r\nQ 2391 3103 1925 3103 \r\nQ 1463 3103 1205 2759 \r\nQ 947 2416 947 1791 \r\nQ 947 1169 1205 825 \r\nQ 1463 481 1925 481 \r\nQ 2391 481 2648 825 \r\nQ 2906 1169 2906 1791 \r\nz\r\nM 3481 434 \r\nQ 3481 -459 3084 -895 \r\nQ 2688 -1331 1869 -1331 \r\nQ 1566 -1331 1297 -1286 \r\nQ 1028 -1241 775 -1147 \r\nL 775 -588 \r\nQ 1028 -725 1275 -790 \r\nQ 1522 -856 1778 -856 \r\nQ 2344 -856 2625 -561 \r\nQ 2906 -266 2906 331 \r\nL 2906 616 \r\nQ 2728 306 2450 153 \r\nQ 2172 0 1784 0 \r\nQ 1141 0 747 490 \r\nQ 353 981 353 1791 \r\nQ 353 2603 747 3093 \r\nQ 1141 3584 1784 3584 \r\nQ 2172 3584 2450 3431 \r\nQ 2728 3278 2906 2969 \r\nL 2906 3500 \r\nL 3481 3500 \r\nL 3481 434 \r\nz\r\n\" id=\"DejaVuSans-67\" transform=\"scale(0.015625)\"/>\r\n       <path d=\"M 3263 -1063 \r\nL 3263 -1509 \r\nL -63 -1509 \r\nL -63 -1063 \r\nL 3263 -1063 \r\nz\r\n\" id=\"DejaVuSans-5f\" transform=\"scale(0.015625)\"/>\r\n       <path d=\"M 2906 2969 \r\nL 2906 4863 \r\nL 3481 4863 \r\nL 3481 0 \r\nL 2906 0 \r\nL 2906 525 \r\nQ 2725 213 2448 61 \r\nQ 2172 -91 1784 -91 \r\nQ 1150 -91 751 415 \r\nQ 353 922 353 1747 \r\nQ 353 2572 751 3078 \r\nQ 1150 3584 1784 3584 \r\nQ 2172 3584 2448 3432 \r\nQ 2725 3281 2906 2969 \r\nz\r\nM 947 1747 \r\nQ 947 1113 1208 752 \r\nQ 1469 391 1925 391 \r\nQ 2381 391 2643 752 \r\nQ 2906 1113 2906 1747 \r\nQ 2906 2381 2643 2742 \r\nQ 2381 3103 1925 3103 \r\nQ 1469 3103 1208 2742 \r\nQ 947 2381 947 1747 \r\nz\r\n\" id=\"DejaVuSans-64\" transform=\"scale(0.015625)\"/>\r\n       <path d=\"M 1159 525 \r\nL 1159 -1331 \r\nL 581 -1331 \r\nL 581 3500 \r\nL 1159 3500 \r\nL 1159 2969 \r\nQ 1341 3281 1617 3432 \r\nQ 1894 3584 2278 3584 \r\nQ 2916 3584 3314 3078 \r\nQ 3713 2572 3713 1747 \r\nQ 3713 922 3314 415 \r\nQ 2916 -91 2278 -91 \r\nQ 1894 -91 1617 61 \r\nQ 1341 213 1159 525 \r\nz\r\nM 3116 1747 \r\nQ 3116 2381 2855 2742 \r\nQ 2594 3103 2138 3103 \r\nQ 1681 3103 1420 2742 \r\nQ 1159 2381 1159 1747 \r\nQ 1159 1113 1420 752 \r\nQ 1681 391 2138 391 \r\nQ 2594 391 2855 752 \r\nQ 3116 1113 3116 1747 \r\nz\r\n\" id=\"DejaVuSans-70\" transform=\"scale(0.015625)\"/>\r\n       <path d=\"M 3122 3366 \r\nL 3122 2828 \r\nQ 2878 2963 2633 3030 \r\nQ 2388 3097 2138 3097 \r\nQ 1578 3097 1268 2742 \r\nQ 959 2388 959 1747 \r\nQ 959 1106 1268 751 \r\nQ 1578 397 2138 397 \r\nQ 2388 397 2633 464 \r\nQ 2878 531 3122 666 \r\nL 3122 134 \r\nQ 2881 22 2623 -34 \r\nQ 2366 -91 2075 -91 \r\nQ 1284 -91 818 406 \r\nQ 353 903 353 1747 \r\nQ 353 2603 823 3093 \r\nQ 1294 3584 2113 3584 \r\nQ 2378 3584 2631 3529 \r\nQ 2884 3475 3122 3366 \r\nz\r\n\" id=\"DejaVuSans-63\" transform=\"scale(0.015625)\"/>\r\n       <path d=\"M 2194 1759 \r\nQ 1497 1759 1228 1600 \r\nQ 959 1441 959 1056 \r\nQ 959 750 1161 570 \r\nQ 1363 391 1709 391 \r\nQ 2188 391 2477 730 \r\nQ 2766 1069 2766 1631 \r\nL 2766 1759 \r\nL 2194 1759 \r\nz\r\nM 3341 1997 \r\nL 3341 0 \r\nL 2766 0 \r\nL 2766 531 \r\nQ 2569 213 2275 61 \r\nQ 1981 -91 1556 -91 \r\nQ 1019 -91 701 211 \r\nQ 384 513 384 1019 \r\nQ 384 1609 779 1909 \r\nQ 1175 2209 1959 2209 \r\nL 2766 2209 \r\nL 2766 2266 \r\nQ 2766 2663 2505 2880 \r\nQ 2244 3097 1772 3097 \r\nQ 1472 3097 1187 3025 \r\nQ 903 2953 641 2809 \r\nL 641 3341 \r\nQ 956 3463 1253 3523 \r\nQ 1550 3584 1831 3584 \r\nQ 2591 3584 2966 3190 \r\nQ 3341 2797 3341 1997 \r\nz\r\n\" id=\"DejaVuSans-61\" transform=\"scale(0.015625)\"/>\r\n      </defs>\r\n      <use xlink:href=\"#DejaVuSans-6c\"/>\r\n      <use x=\"27.783203\" xlink:href=\"#DejaVuSans-6f\"/>\r\n      <use x=\"88.964844\" xlink:href=\"#DejaVuSans-67\"/>\r\n      <use x=\"152.441406\" xlink:href=\"#DejaVuSans-5f\"/>\r\n      <use x=\"202.441406\" xlink:href=\"#DejaVuSans-67\"/>\r\n      <use x=\"265.917969\" xlink:href=\"#DejaVuSans-64\"/>\r\n      <use x=\"329.394531\" xlink:href=\"#DejaVuSans-70\"/>\r\n      <use x=\"392.871094\" xlink:href=\"#DejaVuSans-5f\"/>\r\n      <use x=\"442.871094\" xlink:href=\"#DejaVuSans-63\"/>\r\n      <use x=\"497.851562\" xlink:href=\"#DejaVuSans-61\"/>\r\n      <use x=\"559.130859\" xlink:href=\"#DejaVuSans-70\"/>\r\n     </g>\r\n    </g>\r\n   </g>\r\n   <g id=\"matplotlib.axis_2\">\r\n    <g id=\"ytick_1\">\r\n     <g id=\"line2d_6\">\r\n      <defs>\r\n       <path d=\"M 0 0 \r\nL -3.5 0 \r\n\" id=\"m9e6931d5ca\" style=\"stroke:#000000;stroke-width:0.8;\"/>\r\n      </defs>\r\n      <g>\r\n       <use style=\"stroke:#000000;stroke-width:0.8;\" x=\"44.059375\" xlink:href=\"#m9e6931d5ca\" y=\"228.439219\"/>\r\n      </g>\r\n     </g>\r\n     <g id=\"text_7\">\r\n      <!-- 0.0 -->\r\n      <g transform=\"translate(21.15625 232.238438)scale(0.1 -0.1)\">\r\n       <use xlink:href=\"#DejaVuSans-30\"/>\r\n       <use x=\"63.623047\" xlink:href=\"#DejaVuSans-2e\"/>\r\n       <use x=\"95.410156\" xlink:href=\"#DejaVuSans-30\"/>\r\n      </g>\r\n     </g>\r\n    </g>\r\n    <g id=\"ytick_2\">\r\n     <g id=\"line2d_7\">\r\n      <g>\r\n       <use style=\"stroke:#000000;stroke-width:0.8;\" x=\"44.059375\" xlink:href=\"#m9e6931d5ca\" y=\"184.951219\"/>\r\n      </g>\r\n     </g>\r\n     <g id=\"text_8\">\r\n      <!-- 0.2 -->\r\n      <g transform=\"translate(21.15625 188.750438)scale(0.1 -0.1)\">\r\n       <defs>\r\n        <path d=\"M 1228 531 \r\nL 3431 531 \r\nL 3431 0 \r\nL 469 0 \r\nL 469 531 \r\nQ 828 903 1448 1529 \r\nQ 2069 2156 2228 2338 \r\nQ 2531 2678 2651 2914 \r\nQ 2772 3150 2772 3378 \r\nQ 2772 3750 2511 3984 \r\nQ 2250 4219 1831 4219 \r\nQ 1534 4219 1204 4116 \r\nQ 875 4013 500 3803 \r\nL 500 4441 \r\nQ 881 4594 1212 4672 \r\nQ 1544 4750 1819 4750 \r\nQ 2544 4750 2975 4387 \r\nQ 3406 4025 3406 3419 \r\nQ 3406 3131 3298 2873 \r\nQ 3191 2616 2906 2266 \r\nQ 2828 2175 2409 1742 \r\nQ 1991 1309 1228 531 \r\nz\r\n\" id=\"DejaVuSans-32\" transform=\"scale(0.015625)\"/>\r\n       </defs>\r\n       <use xlink:href=\"#DejaVuSans-30\"/>\r\n       <use x=\"63.623047\" xlink:href=\"#DejaVuSans-2e\"/>\r\n       <use x=\"95.410156\" xlink:href=\"#DejaVuSans-32\"/>\r\n      </g>\r\n     </g>\r\n    </g>\r\n    <g id=\"ytick_3\">\r\n     <g id=\"line2d_8\">\r\n      <g>\r\n       <use style=\"stroke:#000000;stroke-width:0.8;\" x=\"44.059375\" xlink:href=\"#m9e6931d5ca\" y=\"141.463219\"/>\r\n      </g>\r\n     </g>\r\n     <g id=\"text_9\">\r\n      <!-- 0.4 -->\r\n      <g transform=\"translate(21.15625 145.262438)scale(0.1 -0.1)\">\r\n       <defs>\r\n        <path d=\"M 2419 4116 \r\nL 825 1625 \r\nL 2419 1625 \r\nL 2419 4116 \r\nz\r\nM 2253 4666 \r\nL 3047 4666 \r\nL 3047 1625 \r\nL 3713 1625 \r\nL 3713 1100 \r\nL 3047 1100 \r\nL 3047 0 \r\nL 2419 0 \r\nL 2419 1100 \r\nL 313 1100 \r\nL 313 1709 \r\nL 2253 4666 \r\nz\r\n\" id=\"DejaVuSans-34\" transform=\"scale(0.015625)\"/>\r\n       </defs>\r\n       <use xlink:href=\"#DejaVuSans-30\"/>\r\n       <use x=\"63.623047\" xlink:href=\"#DejaVuSans-2e\"/>\r\n       <use x=\"95.410156\" xlink:href=\"#DejaVuSans-34\"/>\r\n      </g>\r\n     </g>\r\n    </g>\r\n    <g id=\"ytick_4\">\r\n     <g id=\"line2d_9\">\r\n      <g>\r\n       <use style=\"stroke:#000000;stroke-width:0.8;\" x=\"44.059375\" xlink:href=\"#m9e6931d5ca\" y=\"97.975219\"/>\r\n      </g>\r\n     </g>\r\n     <g id=\"text_10\">\r\n      <!-- 0.6 -->\r\n      <g transform=\"translate(21.15625 101.774438)scale(0.1 -0.1)\">\r\n       <defs>\r\n        <path d=\"M 2113 2584 \r\nQ 1688 2584 1439 2293 \r\nQ 1191 2003 1191 1497 \r\nQ 1191 994 1439 701 \r\nQ 1688 409 2113 409 \r\nQ 2538 409 2786 701 \r\nQ 3034 994 3034 1497 \r\nQ 3034 2003 2786 2293 \r\nQ 2538 2584 2113 2584 \r\nz\r\nM 3366 4563 \r\nL 3366 3988 \r\nQ 3128 4100 2886 4159 \r\nQ 2644 4219 2406 4219 \r\nQ 1781 4219 1451 3797 \r\nQ 1122 3375 1075 2522 \r\nQ 1259 2794 1537 2939 \r\nQ 1816 3084 2150 3084 \r\nQ 2853 3084 3261 2657 \r\nQ 3669 2231 3669 1497 \r\nQ 3669 778 3244 343 \r\nQ 2819 -91 2113 -91 \r\nQ 1303 -91 875 529 \r\nQ 447 1150 447 2328 \r\nQ 447 3434 972 4092 \r\nQ 1497 4750 2381 4750 \r\nQ 2619 4750 2861 4703 \r\nQ 3103 4656 3366 4563 \r\nz\r\n\" id=\"DejaVuSans-36\" transform=\"scale(0.015625)\"/>\r\n       </defs>\r\n       <use xlink:href=\"#DejaVuSans-30\"/>\r\n       <use x=\"63.623047\" xlink:href=\"#DejaVuSans-2e\"/>\r\n       <use x=\"95.410156\" xlink:href=\"#DejaVuSans-36\"/>\r\n      </g>\r\n     </g>\r\n    </g>\r\n    <g id=\"ytick_5\">\r\n     <g id=\"line2d_10\">\r\n      <g>\r\n       <use style=\"stroke:#000000;stroke-width:0.8;\" x=\"44.059375\" xlink:href=\"#m9e6931d5ca\" y=\"54.487219\"/>\r\n      </g>\r\n     </g>\r\n     <g id=\"text_11\">\r\n      <!-- 0.8 -->\r\n      <g transform=\"translate(21.15625 58.286438)scale(0.1 -0.1)\">\r\n       <defs>\r\n        <path d=\"M 2034 2216 \r\nQ 1584 2216 1326 1975 \r\nQ 1069 1734 1069 1313 \r\nQ 1069 891 1326 650 \r\nQ 1584 409 2034 409 \r\nQ 2484 409 2743 651 \r\nQ 3003 894 3003 1313 \r\nQ 3003 1734 2745 1975 \r\nQ 2488 2216 2034 2216 \r\nz\r\nM 1403 2484 \r\nQ 997 2584 770 2862 \r\nQ 544 3141 544 3541 \r\nQ 544 4100 942 4425 \r\nQ 1341 4750 2034 4750 \r\nQ 2731 4750 3128 4425 \r\nQ 3525 4100 3525 3541 \r\nQ 3525 3141 3298 2862 \r\nQ 3072 2584 2669 2484 \r\nQ 3125 2378 3379 2068 \r\nQ 3634 1759 3634 1313 \r\nQ 3634 634 3220 271 \r\nQ 2806 -91 2034 -91 \r\nQ 1263 -91 848 271 \r\nQ 434 634 434 1313 \r\nQ 434 1759 690 2068 \r\nQ 947 2378 1403 2484 \r\nz\r\nM 1172 3481 \r\nQ 1172 3119 1398 2916 \r\nQ 1625 2713 2034 2713 \r\nQ 2441 2713 2670 2916 \r\nQ 2900 3119 2900 3481 \r\nQ 2900 3844 2670 4047 \r\nQ 2441 4250 2034 4250 \r\nQ 1625 4250 1398 4047 \r\nQ 1172 3844 1172 3481 \r\nz\r\n\" id=\"DejaVuSans-38\" transform=\"scale(0.015625)\"/>\r\n       </defs>\r\n       <use xlink:href=\"#DejaVuSans-30\"/>\r\n       <use x=\"63.623047\" xlink:href=\"#DejaVuSans-2e\"/>\r\n       <use x=\"95.410156\" xlink:href=\"#DejaVuSans-38\"/>\r\n      </g>\r\n     </g>\r\n    </g>\r\n    <g id=\"ytick_6\">\r\n     <g id=\"line2d_11\">\r\n      <g>\r\n       <use style=\"stroke:#000000;stroke-width:0.8;\" x=\"44.059375\" xlink:href=\"#m9e6931d5ca\" y=\"10.999219\"/>\r\n      </g>\r\n     </g>\r\n     <g id=\"text_12\">\r\n      <!-- 1.0 -->\r\n      <g transform=\"translate(21.15625 14.798438)scale(0.1 -0.1)\">\r\n       <use xlink:href=\"#DejaVuSans-31\"/>\r\n       <use x=\"63.623047\" xlink:href=\"#DejaVuSans-2e\"/>\r\n       <use x=\"95.410156\" xlink:href=\"#DejaVuSans-30\"/>\r\n      </g>\r\n     </g>\r\n    </g>\r\n    <g id=\"text_13\">\r\n     <!-- ti_corrupt_harmonized -->\r\n     <g transform=\"translate(14.798438 175.766875)rotate(-90)scale(0.1 -0.1)\">\r\n      <defs>\r\n       <path d=\"M 1172 4494 \r\nL 1172 3500 \r\nL 2356 3500 \r\nL 2356 3053 \r\nL 1172 3053 \r\nL 1172 1153 \r\nQ 1172 725 1289 603 \r\nQ 1406 481 1766 481 \r\nL 2356 481 \r\nL 2356 0 \r\nL 1766 0 \r\nQ 1100 0 847 248 \r\nQ 594 497 594 1153 \r\nL 594 3053 \r\nL 172 3053 \r\nL 172 3500 \r\nL 594 3500 \r\nL 594 4494 \r\nL 1172 4494 \r\nz\r\n\" id=\"DejaVuSans-74\" transform=\"scale(0.015625)\"/>\r\n       <path d=\"M 603 3500 \r\nL 1178 3500 \r\nL 1178 0 \r\nL 603 0 \r\nL 603 3500 \r\nz\r\nM 603 4863 \r\nL 1178 4863 \r\nL 1178 4134 \r\nL 603 4134 \r\nL 603 4863 \r\nz\r\n\" id=\"DejaVuSans-69\" transform=\"scale(0.015625)\"/>\r\n       <path d=\"M 2631 2963 \r\nQ 2534 3019 2420 3045 \r\nQ 2306 3072 2169 3072 \r\nQ 1681 3072 1420 2755 \r\nQ 1159 2438 1159 1844 \r\nL 1159 0 \r\nL 581 0 \r\nL 581 3500 \r\nL 1159 3500 \r\nL 1159 2956 \r\nQ 1341 3275 1631 3429 \r\nQ 1922 3584 2338 3584 \r\nQ 2397 3584 2469 3576 \r\nQ 2541 3569 2628 3553 \r\nL 2631 2963 \r\nz\r\n\" id=\"DejaVuSans-72\" transform=\"scale(0.015625)\"/>\r\n       <path d=\"M 544 1381 \r\nL 544 3500 \r\nL 1119 3500 \r\nL 1119 1403 \r\nQ 1119 906 1312 657 \r\nQ 1506 409 1894 409 \r\nQ 2359 409 2629 706 \r\nQ 2900 1003 2900 1516 \r\nL 2900 3500 \r\nL 3475 3500 \r\nL 3475 0 \r\nL 2900 0 \r\nL 2900 538 \r\nQ 2691 219 2414 64 \r\nQ 2138 -91 1772 -91 \r\nQ 1169 -91 856 284 \r\nQ 544 659 544 1381 \r\nz\r\nM 1991 3584 \r\nL 1991 3584 \r\nz\r\n\" id=\"DejaVuSans-75\" transform=\"scale(0.015625)\"/>\r\n       <path d=\"M 3513 2113 \r\nL 3513 0 \r\nL 2938 0 \r\nL 2938 2094 \r\nQ 2938 2591 2744 2837 \r\nQ 2550 3084 2163 3084 \r\nQ 1697 3084 1428 2787 \r\nQ 1159 2491 1159 1978 \r\nL 1159 0 \r\nL 581 0 \r\nL 581 4863 \r\nL 1159 4863 \r\nL 1159 2956 \r\nQ 1366 3272 1645 3428 \r\nQ 1925 3584 2291 3584 \r\nQ 2894 3584 3203 3211 \r\nQ 3513 2838 3513 2113 \r\nz\r\n\" id=\"DejaVuSans-68\" transform=\"scale(0.015625)\"/>\r\n       <path d=\"M 3328 2828 \r\nQ 3544 3216 3844 3400 \r\nQ 4144 3584 4550 3584 \r\nQ 5097 3584 5394 3201 \r\nQ 5691 2819 5691 2113 \r\nL 5691 0 \r\nL 5113 0 \r\nL 5113 2094 \r\nQ 5113 2597 4934 2840 \r\nQ 4756 3084 4391 3084 \r\nQ 3944 3084 3684 2787 \r\nQ 3425 2491 3425 1978 \r\nL 3425 0 \r\nL 2847 0 \r\nL 2847 2094 \r\nQ 2847 2600 2669 2842 \r\nQ 2491 3084 2119 3084 \r\nQ 1678 3084 1418 2786 \r\nQ 1159 2488 1159 1978 \r\nL 1159 0 \r\nL 581 0 \r\nL 581 3500 \r\nL 1159 3500 \r\nL 1159 2956 \r\nQ 1356 3278 1631 3431 \r\nQ 1906 3584 2284 3584 \r\nQ 2666 3584 2933 3390 \r\nQ 3200 3197 3328 2828 \r\nz\r\n\" id=\"DejaVuSans-6d\" transform=\"scale(0.015625)\"/>\r\n       <path d=\"M 3513 2113 \r\nL 3513 0 \r\nL 2938 0 \r\nL 2938 2094 \r\nQ 2938 2591 2744 2837 \r\nQ 2550 3084 2163 3084 \r\nQ 1697 3084 1428 2787 \r\nQ 1159 2491 1159 1978 \r\nL 1159 0 \r\nL 581 0 \r\nL 581 3500 \r\nL 1159 3500 \r\nL 1159 2956 \r\nQ 1366 3272 1645 3428 \r\nQ 1925 3584 2291 3584 \r\nQ 2894 3584 3203 3211 \r\nQ 3513 2838 3513 2113 \r\nz\r\n\" id=\"DejaVuSans-6e\" transform=\"scale(0.015625)\"/>\r\n       <path d=\"M 353 3500 \r\nL 3084 3500 \r\nL 3084 2975 \r\nL 922 459 \r\nL 3084 459 \r\nL 3084 0 \r\nL 275 0 \r\nL 275 525 \r\nL 2438 3041 \r\nL 353 3041 \r\nL 353 3500 \r\nz\r\n\" id=\"DejaVuSans-7a\" transform=\"scale(0.015625)\"/>\r\n       <path d=\"M 3597 1894 \r\nL 3597 1613 \r\nL 953 1613 \r\nQ 991 1019 1311 708 \r\nQ 1631 397 2203 397 \r\nQ 2534 397 2845 478 \r\nQ 3156 559 3463 722 \r\nL 3463 178 \r\nQ 3153 47 2828 -22 \r\nQ 2503 -91 2169 -91 \r\nQ 1331 -91 842 396 \r\nQ 353 884 353 1716 \r\nQ 353 2575 817 3079 \r\nQ 1281 3584 2069 3584 \r\nQ 2775 3584 3186 3129 \r\nQ 3597 2675 3597 1894 \r\nz\r\nM 3022 2063 \r\nQ 3016 2534 2758 2815 \r\nQ 2500 3097 2075 3097 \r\nQ 1594 3097 1305 2825 \r\nQ 1016 2553 972 2059 \r\nL 3022 2063 \r\nz\r\n\" id=\"DejaVuSans-65\" transform=\"scale(0.015625)\"/>\r\n      </defs>\r\n      <use xlink:href=\"#DejaVuSans-74\"/>\r\n      <use x=\"39.208984\" xlink:href=\"#DejaVuSans-69\"/>\r\n      <use x=\"66.992188\" xlink:href=\"#DejaVuSans-5f\"/>\r\n      <use x=\"116.992188\" xlink:href=\"#DejaVuSans-63\"/>\r\n      <use x=\"171.972656\" xlink:href=\"#DejaVuSans-6f\"/>\r\n      <use x=\"233.154297\" xlink:href=\"#DejaVuSans-72\"/>\r\n      <use x=\"272.517578\" xlink:href=\"#DejaVuSans-72\"/>\r\n      <use x=\"313.630859\" xlink:href=\"#DejaVuSans-75\"/>\r\n      <use x=\"377.009766\" xlink:href=\"#DejaVuSans-70\"/>\r\n      <use x=\"440.486328\" xlink:href=\"#DejaVuSans-74\"/>\r\n      <use x=\"479.695312\" xlink:href=\"#DejaVuSans-5f\"/>\r\n      <use x=\"529.695312\" xlink:href=\"#DejaVuSans-68\"/>\r\n      <use x=\"593.074219\" xlink:href=\"#DejaVuSans-61\"/>\r\n      <use x=\"654.353516\" xlink:href=\"#DejaVuSans-72\"/>\r\n      <use x=\"693.716797\" xlink:href=\"#DejaVuSans-6d\"/>\r\n      <use x=\"791.128906\" xlink:href=\"#DejaVuSans-6f\"/>\r\n      <use x=\"852.310547\" xlink:href=\"#DejaVuSans-6e\"/>\r\n      <use x=\"915.689453\" xlink:href=\"#DejaVuSans-69\"/>\r\n      <use x=\"943.472656\" xlink:href=\"#DejaVuSans-7a\"/>\r\n      <use x=\"995.962891\" xlink:href=\"#DejaVuSans-65\"/>\r\n      <use x=\"1057.486328\" xlink:href=\"#DejaVuSans-64\"/>\r\n     </g>\r\n    </g>\r\n   </g>\r\n   <g id=\"patch_3\">\r\n    <path d=\"M 44.059375 228.439219 \r\nL 44.059375 10.999219 \r\n\" style=\"fill:none;stroke:#000000;stroke-linecap:square;stroke-linejoin:miter;stroke-width:0.8;\"/>\r\n   </g>\r\n   <g id=\"patch_4\">\r\n    <path d=\"M 378.859375 228.439219 \r\nL 378.859375 10.999219 \r\n\" style=\"fill:none;stroke:#000000;stroke-linecap:square;stroke-linejoin:miter;stroke-width:0.8;\"/>\r\n   </g>\r\n   <g id=\"patch_5\">\r\n    <path d=\"M 44.059375 228.439219 \r\nL 378.859375 228.439219 \r\n\" style=\"fill:none;stroke:#000000;stroke-linecap:square;stroke-linejoin:miter;stroke-width:0.8;\"/>\r\n   </g>\r\n   <g id=\"patch_6\">\r\n    <path d=\"M 44.059375 10.999219 \r\nL 378.859375 10.999219 \r\n\" style=\"fill:none;stroke:#000000;stroke-linecap:square;stroke-linejoin:miter;stroke-width:0.8;\"/>\r\n   </g>\r\n   <g id=\"text_14\">\r\n    <!-- Iceland -->\r\n    <g transform=\"translate(251.65285 174.079219)scale(0.1 -0.1)\">\r\n     <defs>\r\n      <path d=\"M 628 4666 \r\nL 1259 4666 \r\nL 1259 0 \r\nL 628 0 \r\nL 628 4666 \r\nz\r\n\" id=\"DejaVuSans-49\" transform=\"scale(0.015625)\"/>\r\n     </defs>\r\n     <use xlink:href=\"#DejaVuSans-49\"/>\r\n     <use x=\"29.492188\" xlink:href=\"#DejaVuSans-63\"/>\r\n     <use x=\"84.472656\" xlink:href=\"#DejaVuSans-65\"/>\r\n     <use x=\"145.996094\" xlink:href=\"#DejaVuSans-6c\"/>\r\n     <use x=\"173.779297\" xlink:href=\"#DejaVuSans-61\"/>\r\n     <use x=\"235.058594\" xlink:href=\"#DejaVuSans-6e\"/>\r\n     <use x=\"298.4375\" xlink:href=\"#DejaVuSans-64\"/>\r\n    </g>\r\n   </g>\r\n  </g>\r\n </g>\r\n <defs>\r\n  <clipPath id=\"pe1768fb377\">\r\n   <rect height=\"217.44\" width=\"334.8\" x=\"44.059375\" y=\"10.999219\"/>\r\n  </clipPath>\r\n </defs>\r\n</svg>\r\n",
      "image/png": "[encoded data removed]"
     },
     "metadata": {
      "needs_background": "light"
     }
    }
   ],
   "source": [
    "oecd.plot(kind = 'scatter', y = 'ti_corrupt_harmonized', x = 'log_gdp_cap').set(ylim =(0, 1))\n",
    "plt.annotate(\"Iceland\", (10.878, 0.25))"
   ]
  },
  {
   "cell_type": "markdown",
   "id": "6aee1d89",
   "metadata": {},
   "source": [
    "What about other regions? Who is the happiest? Who is perceived to be corrupt?"
   ]
  },
  {
   "cell_type": "code",
   "execution_count": 111,
   "id": "7f397c43",
   "metadata": {},
   "outputs": [
    {
     "output_type": "execute_result",
     "data": {
      "text/plain": [
       "Sub-Saharan Africa                    36\n",
       "Western Europe                        21\n",
       "Latin America and Caribbean           20\n",
       "Central and Eastern Europe            17\n",
       "Middle East and North Africa          17\n",
       "Commonwealth of Independent States    12\n",
       "Southeast Asia                         9\n",
       "South Asia                             7\n",
       "East Asia                              6\n",
       "North America and ANZ                  4\n",
       "Name: region, dtype: int64"
      ]
     },
     "metadata": {},
     "execution_count": 111
    }
   ],
   "source": [
    "df.region.value_counts()"
   ]
  },
  {
   "cell_type": "code",
   "execution_count": 112,
   "id": "e2696206",
   "metadata": {},
   "outputs": [],
   "source": [
    "# Let's create regional dataframes\n",
    "ssa = df[df.region == 'Sub-Saharan Africa']\n",
    "cee = df[df.region == 'Central and Eastern Europe']\n",
    "lac = df[df.region == 'Latin America and Caribbean']\n",
    "mena = df[df.region == 'Middle East and North Africa']\n",
    "cis = df[df.region == 'Commonwealth of Independent States']\n",
    "sea = df[df.region == 'Southeast Asia']\n",
    "sa = df[df.region == 'South Asia']\n",
    "ea = df[df.region == 'East Asia']\n",
    "naz = df[df.region == 'North America and ANZ']"
   ]
  },
  {
   "cell_type": "code",
   "execution_count": 113,
   "id": "94e4cd71",
   "metadata": {},
   "outputs": [
    {
     "output_type": "execute_result",
     "data": {
      "text/plain": [
       "                 country              region  score  log_gdp_cap  \\\n",
       "49             Mauritius  Sub-Saharan Africa  6.049       10.008   \n",
       "82   Congo (Brazzaville)  Sub-Saharan Africa  5.342        8.117   \n",
       "84           Ivory Coast  Sub-Saharan Africa  5.306        8.551   \n",
       "90              Cameroon  Sub-Saharan Africa  5.142        8.189   \n",
       "91               Senegal  Sub-Saharan Africa  5.132        8.118   \n",
       "94                 Ghana  Sub-Saharan Africa  5.088        8.580   \n",
       "95                 Niger  Sub-Saharan Africa  5.074        7.098   \n",
       "97                Gambia  Sub-Saharan Africa  5.051        7.686   \n",
       "98                 Benin  Sub-Saharan Africa  5.045        8.087   \n",
       "101               Guinea  Sub-Saharan Africa  4.984        7.838   \n",
       "102         South Africa  Sub-Saharan Africa  4.956        9.403   \n",
       "111                Gabon  Sub-Saharan Africa  4.852        9.603   \n",
       "112         Burkina Faso  Sub-Saharan Africa  4.834        7.678   \n",
       "114           Mozambique  Sub-Saharan Africa  4.794        7.158   \n",
       "115              Nigeria  Sub-Saharan Africa  4.759        8.533   \n",
       "116                 Mali  Sub-Saharan Africa  4.723        7.744   \n",
       "118               Uganda  Sub-Saharan Africa  4.636        7.677   \n",
       "119              Liberia  Sub-Saharan Africa  4.625        7.288   \n",
       "120                Kenya  Sub-Saharan Africa  4.607        8.361   \n",
       "123              Namibia  Sub-Saharan Africa  4.574        9.161   \n",
       "127                 Chad  Sub-Saharan Africa  4.355        7.364   \n",
       "129             Eswatini  Sub-Saharan Africa  4.308        9.065   \n",
       "130              Comoros  Sub-Saharan Africa  4.289        8.031   \n",
       "132             Ethiopia  Sub-Saharan Africa  4.275        7.694   \n",
       "133           Mauritania  Sub-Saharan Africa  4.227        8.542   \n",
       "134           Madagascar  Sub-Saharan Africa  4.208        7.396   \n",
       "135                 Togo  Sub-Saharan Africa  4.107        7.362   \n",
       "136               Zambia  Sub-Saharan Africa  4.073        8.145   \n",
       "137         Sierra Leone  Sub-Saharan Africa  3.849        7.434   \n",
       "139              Burundi  Sub-Saharan Africa  3.775        6.635   \n",
       "141             Tanzania  Sub-Saharan Africa  3.623        7.876   \n",
       "143               Malawi  Sub-Saharan Africa  3.600        6.958   \n",
       "144              Lesotho  Sub-Saharan Africa  3.512        7.926   \n",
       "145             Botswana  Sub-Saharan Africa  3.467        9.782   \n",
       "146               Rwanda  Sub-Saharan Africa  3.415        7.676   \n",
       "147             Zimbabwe  Sub-Saharan Africa  3.145        7.943   \n",
       "\n",
       "     social_support  life_expectancy  freedom_to_make_life_choices  \\\n",
       "49            0.905           66.701                         0.867   \n",
       "82            0.636           58.221                         0.695   \n",
       "84            0.644           50.114                         0.741   \n",
       "90            0.710           53.515                         0.731   \n",
       "91            0.710           59.802                         0.695   \n",
       "94            0.727           57.586                         0.807   \n",
       "95            0.641           53.780                         0.806   \n",
       "97            0.690           55.160                         0.697   \n",
       "98            0.489           54.713                         0.757   \n",
       "101           0.639           55.008                         0.697   \n",
       "102           0.860           56.904                         0.749   \n",
       "111           0.776           59.962                         0.731   \n",
       "112           0.672           54.151                         0.695   \n",
       "114           0.744           54.706                         0.882   \n",
       "115           0.740           50.102                         0.737   \n",
       "116           0.724           51.969                         0.697   \n",
       "118           0.781           56.101                         0.709   \n",
       "119           0.720           56.498                         0.735   \n",
       "120           0.688           60.704                         0.779   \n",
       "123           0.818           56.799                         0.719   \n",
       "127           0.619           48.478                         0.579   \n",
       "129           0.770           50.833                         0.647   \n",
       "130           0.626           57.349                         0.548   \n",
       "132           0.764           59.000                         0.752   \n",
       "133           0.795           57.161                         0.561   \n",
       "134           0.686           59.305                         0.552   \n",
       "135           0.569           54.914                         0.619   \n",
       "136           0.708           55.809                         0.782   \n",
       "137           0.630           51.651                         0.717   \n",
       "139           0.490           53.400                         0.626   \n",
       "141           0.702           57.999                         0.833   \n",
       "143           0.537           57.948                         0.780   \n",
       "144           0.787           48.700                         0.715   \n",
       "145           0.784           59.269                         0.824   \n",
       "146           0.552           61.400                         0.897   \n",
       "147           0.750           56.201                         0.677   \n",
       "\n",
       "     generosity  perceptions_of_corruption  ti_corrupt_harmonized  \\\n",
       "49       -0.054                      0.789                   0.47   \n",
       "82       -0.068                      0.745                   0.81   \n",
       "84       -0.016                      0.794                   0.64   \n",
       "90        0.026                      0.848                   0.75   \n",
       "91       -0.046                      0.801                   0.55   \n",
       "94        0.123                      0.848                   0.57   \n",
       "95        0.018                      0.693                   0.68   \n",
       "97        0.424                      0.746                   0.63   \n",
       "98       -0.034                      0.661                   0.59   \n",
       "101       0.095                      0.766                   0.72   \n",
       "102      -0.067                      0.860                   0.56   \n",
       "111      -0.200                      0.840                   0.70   \n",
       "112      -0.009                      0.748                   0.60   \n",
       "114       0.061                      0.684                   0.75   \n",
       "115       0.037                      0.878                   0.75   \n",
       "116      -0.036                      0.827                   0.70   \n",
       "118       0.122                      0.855                   0.73   \n",
       "119       0.050                      0.850                   0.72   \n",
       "120       0.287                      0.825                   0.69   \n",
       "123      -0.149                      0.847                   0.49   \n",
       "127       0.041                      0.807                   0.79   \n",
       "129      -0.185                      0.708                   0.67   \n",
       "130       0.082                      0.781                   0.79   \n",
       "132       0.082                      0.761                   0.62   \n",
       "133      -0.106                      0.731                   0.71   \n",
       "134      -0.005                      0.803                   0.75   \n",
       "135       0.032                      0.772                   0.71   \n",
       "136       0.061                      0.823                   0.67   \n",
       "137       0.084                      0.866                   0.67   \n",
       "139      -0.024                      0.607                   0.81   \n",
       "141       0.183                      0.577                   0.62   \n",
       "143       0.038                      0.729                   0.70   \n",
       "144      -0.131                      0.915                   0.59   \n",
       "145      -0.246                      0.801                   0.40   \n",
       "146       0.061                      0.167                   0.46   \n",
       "147      -0.047                      0.821                   0.76   \n",
       "\n",
       "     covid_deaths  covid_cases      pop_2020   death_100k  cases_100k  oecd  \n",
       "49           10.0        527.0     1,268,000         0.79       41.56     0  \n",
       "82          108.0       7107.0     5,518,000         1.96      128.80     0  \n",
       "84          137.0      22490.0    26,378,000         0.52       85.26     0  \n",
       "90          448.0      26277.0    26,546,000         1.69       98.99     0  \n",
       "91          410.0      19140.0    16,744,000         2.45      114.31     0  \n",
       "94          335.0      54771.0    31,073,000         1.08      176.27     0  \n",
       "95          104.0       3323.0    24,207,000         0.43       13.73     0  \n",
       "97          124.0       3797.0     2,417,000         5.13      157.10     0  \n",
       "98           44.0       3251.0    12,123,000         0.36       26.82     0  \n",
       "101          81.0      13722.0    13,133,000         0.62      104.48     0  \n",
       "102       28469.0    1057161.0    59,309,000        48.00     1782.46     0  \n",
       "111          64.0       9571.0     2,226,000         2.88      429.96     0  \n",
       "112          85.0       6707.0    20,903,000         0.41       32.09     0  \n",
       "114         166.0      18642.0    31,255,000         0.53       59.64     0  \n",
       "115        1289.0      87607.0   206,140,000         0.63       42.50     0  \n",
       "116         269.0       7090.0    20,251,000         1.33       35.01     0  \n",
       "118         251.0      35216.0    45,741,000         0.55       76.99     0  \n",
       "119          83.0       1779.0     5,058,000         1.64       35.17     0  \n",
       "120        1670.0      96458.0    53,771,000         3.11      179.39     0  \n",
       "123         205.0      23941.0     2,541,000         8.07      942.19     0  \n",
       "127         104.0       2113.0    16,426,000         0.63       12.86     0  \n",
       "129         205.0       9358.0     1,160,000        17.67      806.72     0  \n",
       "130          10.0        823.0       870,000         1.15       94.60     0  \n",
       "132        1923.0     124264.0   114,964,000         1.67      108.09     0  \n",
       "133         347.0      14364.0     4,650,000         7.46      308.90     0  \n",
       "134         261.0      17714.0    27,691,000         0.94       63.97     0  \n",
       "135          68.0       3633.0     8,279,000         0.82       43.88     0  \n",
       "136         388.0      20725.0    18,384,000         2.11      112.73     0  \n",
       "137          76.0       2611.0     7,977,000         0.95       32.73     0  \n",
       "139           2.0        818.0    11,891,000         0.02        6.88     0  \n",
       "141          21.0        509.0    59,734,000         0.04        0.85     0  \n",
       "143         189.0       6583.0    19,130,000         0.99       34.41     0  \n",
       "144          51.0       3094.0     2,142,000         2.38      144.44     0  \n",
       "145          42.0      14805.0     2,352,000         1.79      629.46     0  \n",
       "146          92.0       8383.0    12,952,000         0.71       64.72     0  \n",
       "147         363.0      13867.0    14,863,000         2.44       93.30     0  "
      ],
      "text/html": "<div>\n<style scoped>\n    .dataframe tbody tr th:only-of-type {\n        vertical-align: middle;\n    }\n\n    .dataframe tbody tr th {\n        vertical-align: top;\n    }\n\n    .dataframe thead th {\n        text-align: right;\n    }\n</style>\n<table border=\"1\" class=\"dataframe\">\n  <thead>\n    <tr style=\"text-align: right;\">\n      <th></th>\n      <th>country</th>\n      <th>region</th>\n      <th>score</th>\n      <th>log_gdp_cap</th>\n      <th>social_support</th>\n      <th>life_expectancy</th>\n      <th>freedom_to_make_life_choices</th>\n      <th>generosity</th>\n      <th>perceptions_of_corruption</th>\n      <th>ti_corrupt_harmonized</th>\n      <th>covid_deaths</th>\n      <th>covid_cases</th>\n      <th>pop_2020</th>\n      <th>death_100k</th>\n      <th>cases_100k</th>\n      <th>oecd</th>\n    </tr>\n  </thead>\n  <tbody>\n    <tr>\n      <th>49</th>\n      <td>Mauritius</td>\n      <td>Sub-Saharan Africa</td>\n      <td>6.049</td>\n      <td>10.008</td>\n      <td>0.905</td>\n      <td>66.701</td>\n      <td>0.867</td>\n      <td>-0.054</td>\n      <td>0.789</td>\n      <td>0.47</td>\n      <td>10.0</td>\n      <td>527.0</td>\n      <td>1,268,000</td>\n      <td>0.79</td>\n      <td>41.56</td>\n      <td>0</td>\n    </tr>\n    <tr>\n      <th>82</th>\n      <td>Congo (Brazzaville)</td>\n      <td>Sub-Saharan Africa</td>\n      <td>5.342</td>\n      <td>8.117</td>\n      <td>0.636</td>\n      <td>58.221</td>\n      <td>0.695</td>\n      <td>-0.068</td>\n      <td>0.745</td>\n      <td>0.81</td>\n      <td>108.0</td>\n      <td>7107.0</td>\n      <td>5,518,000</td>\n      <td>1.96</td>\n      <td>128.80</td>\n      <td>0</td>\n    </tr>\n    <tr>\n      <th>84</th>\n      <td>Ivory Coast</td>\n      <td>Sub-Saharan Africa</td>\n      <td>5.306</td>\n      <td>8.551</td>\n      <td>0.644</td>\n      <td>50.114</td>\n      <td>0.741</td>\n      <td>-0.016</td>\n      <td>0.794</td>\n      <td>0.64</td>\n      <td>137.0</td>\n      <td>22490.0</td>\n      <td>26,378,000</td>\n      <td>0.52</td>\n      <td>85.26</td>\n      <td>0</td>\n    </tr>\n    <tr>\n      <th>90</th>\n      <td>Cameroon</td>\n      <td>Sub-Saharan Africa</td>\n      <td>5.142</td>\n      <td>8.189</td>\n      <td>0.710</td>\n      <td>53.515</td>\n      <td>0.731</td>\n      <td>0.026</td>\n      <td>0.848</td>\n      <td>0.75</td>\n      <td>448.0</td>\n      <td>26277.0</td>\n      <td>26,546,000</td>\n      <td>1.69</td>\n      <td>98.99</td>\n      <td>0</td>\n    </tr>\n    <tr>\n      <th>91</th>\n      <td>Senegal</td>\n      <td>Sub-Saharan Africa</td>\n      <td>5.132</td>\n      <td>8.118</td>\n      <td>0.710</td>\n      <td>59.802</td>\n      <td>0.695</td>\n      <td>-0.046</td>\n      <td>0.801</td>\n      <td>0.55</td>\n      <td>410.0</td>\n      <td>19140.0</td>\n      <td>16,744,000</td>\n      <td>2.45</td>\n      <td>114.31</td>\n      <td>0</td>\n    </tr>\n    <tr>\n      <th>94</th>\n      <td>Ghana</td>\n      <td>Sub-Saharan Africa</td>\n      <td>5.088</td>\n      <td>8.580</td>\n      <td>0.727</td>\n      <td>57.586</td>\n      <td>0.807</td>\n      <td>0.123</td>\n      <td>0.848</td>\n      <td>0.57</td>\n      <td>335.0</td>\n      <td>54771.0</td>\n      <td>31,073,000</td>\n      <td>1.08</td>\n      <td>176.27</td>\n      <td>0</td>\n    </tr>\n    <tr>\n      <th>95</th>\n      <td>Niger</td>\n      <td>Sub-Saharan Africa</td>\n      <td>5.074</td>\n      <td>7.098</td>\n      <td>0.641</td>\n      <td>53.780</td>\n      <td>0.806</td>\n      <td>0.018</td>\n      <td>0.693</td>\n      <td>0.68</td>\n      <td>104.0</td>\n      <td>3323.0</td>\n      <td>24,207,000</td>\n      <td>0.43</td>\n      <td>13.73</td>\n      <td>0</td>\n    </tr>\n    <tr>\n      <th>97</th>\n      <td>Gambia</td>\n      <td>Sub-Saharan Africa</td>\n      <td>5.051</td>\n      <td>7.686</td>\n      <td>0.690</td>\n      <td>55.160</td>\n      <td>0.697</td>\n      <td>0.424</td>\n      <td>0.746</td>\n      <td>0.63</td>\n      <td>124.0</td>\n      <td>3797.0</td>\n      <td>2,417,000</td>\n      <td>5.13</td>\n      <td>157.10</td>\n      <td>0</td>\n    </tr>\n    <tr>\n      <th>98</th>\n      <td>Benin</td>\n      <td>Sub-Saharan Africa</td>\n      <td>5.045</td>\n      <td>8.087</td>\n      <td>0.489</td>\n      <td>54.713</td>\n      <td>0.757</td>\n      <td>-0.034</td>\n      <td>0.661</td>\n      <td>0.59</td>\n      <td>44.0</td>\n      <td>3251.0</td>\n      <td>12,123,000</td>\n      <td>0.36</td>\n      <td>26.82</td>\n      <td>0</td>\n    </tr>\n    <tr>\n      <th>101</th>\n      <td>Guinea</td>\n      <td>Sub-Saharan Africa</td>\n      <td>4.984</td>\n      <td>7.838</td>\n      <td>0.639</td>\n      <td>55.008</td>\n      <td>0.697</td>\n      <td>0.095</td>\n      <td>0.766</td>\n      <td>0.72</td>\n      <td>81.0</td>\n      <td>13722.0</td>\n      <td>13,133,000</td>\n      <td>0.62</td>\n      <td>104.48</td>\n      <td>0</td>\n    </tr>\n    <tr>\n      <th>102</th>\n      <td>South Africa</td>\n      <td>Sub-Saharan Africa</td>\n      <td>4.956</td>\n      <td>9.403</td>\n      <td>0.860</td>\n      <td>56.904</td>\n      <td>0.749</td>\n      <td>-0.067</td>\n      <td>0.860</td>\n      <td>0.56</td>\n      <td>28469.0</td>\n      <td>1057161.0</td>\n      <td>59,309,000</td>\n      <td>48.00</td>\n      <td>1782.46</td>\n      <td>0</td>\n    </tr>\n    <tr>\n      <th>111</th>\n      <td>Gabon</td>\n      <td>Sub-Saharan Africa</td>\n      <td>4.852</td>\n      <td>9.603</td>\n      <td>0.776</td>\n      <td>59.962</td>\n      <td>0.731</td>\n      <td>-0.200</td>\n      <td>0.840</td>\n      <td>0.70</td>\n      <td>64.0</td>\n      <td>9571.0</td>\n      <td>2,226,000</td>\n      <td>2.88</td>\n      <td>429.96</td>\n      <td>0</td>\n    </tr>\n    <tr>\n      <th>112</th>\n      <td>Burkina Faso</td>\n      <td>Sub-Saharan Africa</td>\n      <td>4.834</td>\n      <td>7.678</td>\n      <td>0.672</td>\n      <td>54.151</td>\n      <td>0.695</td>\n      <td>-0.009</td>\n      <td>0.748</td>\n      <td>0.60</td>\n      <td>85.0</td>\n      <td>6707.0</td>\n      <td>20,903,000</td>\n      <td>0.41</td>\n      <td>32.09</td>\n      <td>0</td>\n    </tr>\n    <tr>\n      <th>114</th>\n      <td>Mozambique</td>\n      <td>Sub-Saharan Africa</td>\n      <td>4.794</td>\n      <td>7.158</td>\n      <td>0.744</td>\n      <td>54.706</td>\n      <td>0.882</td>\n      <td>0.061</td>\n      <td>0.684</td>\n      <td>0.75</td>\n      <td>166.0</td>\n      <td>18642.0</td>\n      <td>31,255,000</td>\n      <td>0.53</td>\n      <td>59.64</td>\n      <td>0</td>\n    </tr>\n    <tr>\n      <th>115</th>\n      <td>Nigeria</td>\n      <td>Sub-Saharan Africa</td>\n      <td>4.759</td>\n      <td>8.533</td>\n      <td>0.740</td>\n      <td>50.102</td>\n      <td>0.737</td>\n      <td>0.037</td>\n      <td>0.878</td>\n      <td>0.75</td>\n      <td>1289.0</td>\n      <td>87607.0</td>\n      <td>206,140,000</td>\n      <td>0.63</td>\n      <td>42.50</td>\n      <td>0</td>\n    </tr>\n    <tr>\n      <th>116</th>\n      <td>Mali</td>\n      <td>Sub-Saharan Africa</td>\n      <td>4.723</td>\n      <td>7.744</td>\n      <td>0.724</td>\n      <td>51.969</td>\n      <td>0.697</td>\n      <td>-0.036</td>\n      <td>0.827</td>\n      <td>0.70</td>\n      <td>269.0</td>\n      <td>7090.0</td>\n      <td>20,251,000</td>\n      <td>1.33</td>\n      <td>35.01</td>\n      <td>0</td>\n    </tr>\n    <tr>\n      <th>118</th>\n      <td>Uganda</td>\n      <td>Sub-Saharan Africa</td>\n      <td>4.636</td>\n      <td>7.677</td>\n      <td>0.781</td>\n      <td>56.101</td>\n      <td>0.709</td>\n      <td>0.122</td>\n      <td>0.855</td>\n      <td>0.73</td>\n      <td>251.0</td>\n      <td>35216.0</td>\n      <td>45,741,000</td>\n      <td>0.55</td>\n      <td>76.99</td>\n      <td>0</td>\n    </tr>\n    <tr>\n      <th>119</th>\n      <td>Liberia</td>\n      <td>Sub-Saharan Africa</td>\n      <td>4.625</td>\n      <td>7.288</td>\n      <td>0.720</td>\n      <td>56.498</td>\n      <td>0.735</td>\n      <td>0.050</td>\n      <td>0.850</td>\n      <td>0.72</td>\n      <td>83.0</td>\n      <td>1779.0</td>\n      <td>5,058,000</td>\n      <td>1.64</td>\n      <td>35.17</td>\n      <td>0</td>\n    </tr>\n    <tr>\n      <th>120</th>\n      <td>Kenya</td>\n      <td>Sub-Saharan Africa</td>\n      <td>4.607</td>\n      <td>8.361</td>\n      <td>0.688</td>\n      <td>60.704</td>\n      <td>0.779</td>\n      <td>0.287</td>\n      <td>0.825</td>\n      <td>0.69</td>\n      <td>1670.0</td>\n      <td>96458.0</td>\n      <td>53,771,000</td>\n      <td>3.11</td>\n      <td>179.39</td>\n      <td>0</td>\n    </tr>\n    <tr>\n      <th>123</th>\n      <td>Namibia</td>\n      <td>Sub-Saharan Africa</td>\n      <td>4.574</td>\n      <td>9.161</td>\n      <td>0.818</td>\n      <td>56.799</td>\n      <td>0.719</td>\n      <td>-0.149</td>\n      <td>0.847</td>\n      <td>0.49</td>\n      <td>205.0</td>\n      <td>23941.0</td>\n      <td>2,541,000</td>\n      <td>8.07</td>\n      <td>942.19</td>\n      <td>0</td>\n    </tr>\n    <tr>\n      <th>127</th>\n      <td>Chad</td>\n      <td>Sub-Saharan Africa</td>\n      <td>4.355</td>\n      <td>7.364</td>\n      <td>0.619</td>\n      <td>48.478</td>\n      <td>0.579</td>\n      <td>0.041</td>\n      <td>0.807</td>\n      <td>0.79</td>\n      <td>104.0</td>\n      <td>2113.0</td>\n      <td>16,426,000</td>\n      <td>0.63</td>\n      <td>12.86</td>\n      <td>0</td>\n    </tr>\n    <tr>\n      <th>129</th>\n      <td>Eswatini</td>\n      <td>Sub-Saharan Africa</td>\n      <td>4.308</td>\n      <td>9.065</td>\n      <td>0.770</td>\n      <td>50.833</td>\n      <td>0.647</td>\n      <td>-0.185</td>\n      <td>0.708</td>\n      <td>0.67</td>\n      <td>205.0</td>\n      <td>9358.0</td>\n      <td>1,160,000</td>\n      <td>17.67</td>\n      <td>806.72</td>\n      <td>0</td>\n    </tr>\n    <tr>\n      <th>130</th>\n      <td>Comoros</td>\n      <td>Sub-Saharan Africa</td>\n      <td>4.289</td>\n      <td>8.031</td>\n      <td>0.626</td>\n      <td>57.349</td>\n      <td>0.548</td>\n      <td>0.082</td>\n      <td>0.781</td>\n      <td>0.79</td>\n      <td>10.0</td>\n      <td>823.0</td>\n      <td>870,000</td>\n      <td>1.15</td>\n      <td>94.60</td>\n      <td>0</td>\n    </tr>\n    <tr>\n      <th>132</th>\n      <td>Ethiopia</td>\n      <td>Sub-Saharan Africa</td>\n      <td>4.275</td>\n      <td>7.694</td>\n      <td>0.764</td>\n      <td>59.000</td>\n      <td>0.752</td>\n      <td>0.082</td>\n      <td>0.761</td>\n      <td>0.62</td>\n      <td>1923.0</td>\n      <td>124264.0</td>\n      <td>114,964,000</td>\n      <td>1.67</td>\n      <td>108.09</td>\n      <td>0</td>\n    </tr>\n    <tr>\n      <th>133</th>\n      <td>Mauritania</td>\n      <td>Sub-Saharan Africa</td>\n      <td>4.227</td>\n      <td>8.542</td>\n      <td>0.795</td>\n      <td>57.161</td>\n      <td>0.561</td>\n      <td>-0.106</td>\n      <td>0.731</td>\n      <td>0.71</td>\n      <td>347.0</td>\n      <td>14364.0</td>\n      <td>4,650,000</td>\n      <td>7.46</td>\n      <td>308.90</td>\n      <td>0</td>\n    </tr>\n    <tr>\n      <th>134</th>\n      <td>Madagascar</td>\n      <td>Sub-Saharan Africa</td>\n      <td>4.208</td>\n      <td>7.396</td>\n      <td>0.686</td>\n      <td>59.305</td>\n      <td>0.552</td>\n      <td>-0.005</td>\n      <td>0.803</td>\n      <td>0.75</td>\n      <td>261.0</td>\n      <td>17714.0</td>\n      <td>27,691,000</td>\n      <td>0.94</td>\n      <td>63.97</td>\n      <td>0</td>\n    </tr>\n    <tr>\n      <th>135</th>\n      <td>Togo</td>\n      <td>Sub-Saharan Africa</td>\n      <td>4.107</td>\n      <td>7.362</td>\n      <td>0.569</td>\n      <td>54.914</td>\n      <td>0.619</td>\n      <td>0.032</td>\n      <td>0.772</td>\n      <td>0.71</td>\n      <td>68.0</td>\n      <td>3633.0</td>\n      <td>8,279,000</td>\n      <td>0.82</td>\n      <td>43.88</td>\n      <td>0</td>\n    </tr>\n    <tr>\n      <th>136</th>\n      <td>Zambia</td>\n      <td>Sub-Saharan Africa</td>\n      <td>4.073</td>\n      <td>8.145</td>\n      <td>0.708</td>\n      <td>55.809</td>\n      <td>0.782</td>\n      <td>0.061</td>\n      <td>0.823</td>\n      <td>0.67</td>\n      <td>388.0</td>\n      <td>20725.0</td>\n      <td>18,384,000</td>\n      <td>2.11</td>\n      <td>112.73</td>\n      <td>0</td>\n    </tr>\n    <tr>\n      <th>137</th>\n      <td>Sierra Leone</td>\n      <td>Sub-Saharan Africa</td>\n      <td>3.849</td>\n      <td>7.434</td>\n      <td>0.630</td>\n      <td>51.651</td>\n      <td>0.717</td>\n      <td>0.084</td>\n      <td>0.866</td>\n      <td>0.67</td>\n      <td>76.0</td>\n      <td>2611.0</td>\n      <td>7,977,000</td>\n      <td>0.95</td>\n      <td>32.73</td>\n      <td>0</td>\n    </tr>\n    <tr>\n      <th>139</th>\n      <td>Burundi</td>\n      <td>Sub-Saharan Africa</td>\n      <td>3.775</td>\n      <td>6.635</td>\n      <td>0.490</td>\n      <td>53.400</td>\n      <td>0.626</td>\n      <td>-0.024</td>\n      <td>0.607</td>\n      <td>0.81</td>\n      <td>2.0</td>\n      <td>818.0</td>\n      <td>11,891,000</td>\n      <td>0.02</td>\n      <td>6.88</td>\n      <td>0</td>\n    </tr>\n    <tr>\n      <th>141</th>\n      <td>Tanzania</td>\n      <td>Sub-Saharan Africa</td>\n      <td>3.623</td>\n      <td>7.876</td>\n      <td>0.702</td>\n      <td>57.999</td>\n      <td>0.833</td>\n      <td>0.183</td>\n      <td>0.577</td>\n      <td>0.62</td>\n      <td>21.0</td>\n      <td>509.0</td>\n      <td>59,734,000</td>\n      <td>0.04</td>\n      <td>0.85</td>\n      <td>0</td>\n    </tr>\n    <tr>\n      <th>143</th>\n      <td>Malawi</td>\n      <td>Sub-Saharan Africa</td>\n      <td>3.600</td>\n      <td>6.958</td>\n      <td>0.537</td>\n      <td>57.948</td>\n      <td>0.780</td>\n      <td>0.038</td>\n      <td>0.729</td>\n      <td>0.70</td>\n      <td>189.0</td>\n      <td>6583.0</td>\n      <td>19,130,000</td>\n      <td>0.99</td>\n      <td>34.41</td>\n      <td>0</td>\n    </tr>\n    <tr>\n      <th>144</th>\n      <td>Lesotho</td>\n      <td>Sub-Saharan Africa</td>\n      <td>3.512</td>\n      <td>7.926</td>\n      <td>0.787</td>\n      <td>48.700</td>\n      <td>0.715</td>\n      <td>-0.131</td>\n      <td>0.915</td>\n      <td>0.59</td>\n      <td>51.0</td>\n      <td>3094.0</td>\n      <td>2,142,000</td>\n      <td>2.38</td>\n      <td>144.44</td>\n      <td>0</td>\n    </tr>\n    <tr>\n      <th>145</th>\n      <td>Botswana</td>\n      <td>Sub-Saharan Africa</td>\n      <td>3.467</td>\n      <td>9.782</td>\n      <td>0.784</td>\n      <td>59.269</td>\n      <td>0.824</td>\n      <td>-0.246</td>\n      <td>0.801</td>\n      <td>0.40</td>\n      <td>42.0</td>\n      <td>14805.0</td>\n      <td>2,352,000</td>\n      <td>1.79</td>\n      <td>629.46</td>\n      <td>0</td>\n    </tr>\n    <tr>\n      <th>146</th>\n      <td>Rwanda</td>\n      <td>Sub-Saharan Africa</td>\n      <td>3.415</td>\n      <td>7.676</td>\n      <td>0.552</td>\n      <td>61.400</td>\n      <td>0.897</td>\n      <td>0.061</td>\n      <td>0.167</td>\n      <td>0.46</td>\n      <td>92.0</td>\n      <td>8383.0</td>\n      <td>12,952,000</td>\n      <td>0.71</td>\n      <td>64.72</td>\n      <td>0</td>\n    </tr>\n    <tr>\n      <th>147</th>\n      <td>Zimbabwe</td>\n      <td>Sub-Saharan Africa</td>\n      <td>3.145</td>\n      <td>7.943</td>\n      <td>0.750</td>\n      <td>56.201</td>\n      <td>0.677</td>\n      <td>-0.047</td>\n      <td>0.821</td>\n      <td>0.76</td>\n      <td>363.0</td>\n      <td>13867.0</td>\n      <td>14,863,000</td>\n      <td>2.44</td>\n      <td>93.30</td>\n      <td>0</td>\n    </tr>\n  </tbody>\n</table>\n</div>"
     },
     "metadata": {},
     "execution_count": 113
    }
   ],
   "source": [
    "ssa.sort_values(by = 'score', ascending = False)\n"
   ]
  },
  {
   "cell_type": "code",
   "execution_count": 114,
   "id": "c05a310b",
   "metadata": {},
   "outputs": [
    {
     "output_type": "execute_result",
     "data": {
      "text/plain": [
       "                 country              region  score  log_gdp_cap  \\\n",
       "144              Lesotho  Sub-Saharan Africa  3.512        7.926   \n",
       "115              Nigeria  Sub-Saharan Africa  4.759        8.533   \n",
       "137         Sierra Leone  Sub-Saharan Africa  3.849        7.434   \n",
       "102         South Africa  Sub-Saharan Africa  4.956        9.403   \n",
       "118               Uganda  Sub-Saharan Africa  4.636        7.677   \n",
       "119              Liberia  Sub-Saharan Africa  4.625        7.288   \n",
       "90              Cameroon  Sub-Saharan Africa  5.142        8.189   \n",
       "94                 Ghana  Sub-Saharan Africa  5.088        8.580   \n",
       "123              Namibia  Sub-Saharan Africa  4.574        9.161   \n",
       "111                Gabon  Sub-Saharan Africa  4.852        9.603   \n",
       "116                 Mali  Sub-Saharan Africa  4.723        7.744   \n",
       "120                Kenya  Sub-Saharan Africa  4.607        8.361   \n",
       "136               Zambia  Sub-Saharan Africa  4.073        8.145   \n",
       "147             Zimbabwe  Sub-Saharan Africa  3.145        7.943   \n",
       "127                 Chad  Sub-Saharan Africa  4.355        7.364   \n",
       "134           Madagascar  Sub-Saharan Africa  4.208        7.396   \n",
       "145             Botswana  Sub-Saharan Africa  3.467        9.782   \n",
       "91               Senegal  Sub-Saharan Africa  5.132        8.118   \n",
       "84           Ivory Coast  Sub-Saharan Africa  5.306        8.551   \n",
       "49             Mauritius  Sub-Saharan Africa  6.049       10.008   \n",
       "130              Comoros  Sub-Saharan Africa  4.289        8.031   \n",
       "135                 Togo  Sub-Saharan Africa  4.107        7.362   \n",
       "101               Guinea  Sub-Saharan Africa  4.984        7.838   \n",
       "132             Ethiopia  Sub-Saharan Africa  4.275        7.694   \n",
       "112         Burkina Faso  Sub-Saharan Africa  4.834        7.678   \n",
       "97                Gambia  Sub-Saharan Africa  5.051        7.686   \n",
       "82   Congo (Brazzaville)  Sub-Saharan Africa  5.342        8.117   \n",
       "133           Mauritania  Sub-Saharan Africa  4.227        8.542   \n",
       "143               Malawi  Sub-Saharan Africa  3.600        6.958   \n",
       "129             Eswatini  Sub-Saharan Africa  4.308        9.065   \n",
       "95                 Niger  Sub-Saharan Africa  5.074        7.098   \n",
       "114           Mozambique  Sub-Saharan Africa  4.794        7.158   \n",
       "98                 Benin  Sub-Saharan Africa  5.045        8.087   \n",
       "139              Burundi  Sub-Saharan Africa  3.775        6.635   \n",
       "141             Tanzania  Sub-Saharan Africa  3.623        7.876   \n",
       "146               Rwanda  Sub-Saharan Africa  3.415        7.676   \n",
       "\n",
       "     social_support  life_expectancy  freedom_to_make_life_choices  \\\n",
       "144           0.787           48.700                         0.715   \n",
       "115           0.740           50.102                         0.737   \n",
       "137           0.630           51.651                         0.717   \n",
       "102           0.860           56.904                         0.749   \n",
       "118           0.781           56.101                         0.709   \n",
       "119           0.720           56.498                         0.735   \n",
       "90            0.710           53.515                         0.731   \n",
       "94            0.727           57.586                         0.807   \n",
       "123           0.818           56.799                         0.719   \n",
       "111           0.776           59.962                         0.731   \n",
       "116           0.724           51.969                         0.697   \n",
       "120           0.688           60.704                         0.779   \n",
       "136           0.708           55.809                         0.782   \n",
       "147           0.750           56.201                         0.677   \n",
       "127           0.619           48.478                         0.579   \n",
       "134           0.686           59.305                         0.552   \n",
       "145           0.784           59.269                         0.824   \n",
       "91            0.710           59.802                         0.695   \n",
       "84            0.644           50.114                         0.741   \n",
       "49            0.905           66.701                         0.867   \n",
       "130           0.626           57.349                         0.548   \n",
       "135           0.569           54.914                         0.619   \n",
       "101           0.639           55.008                         0.697   \n",
       "132           0.764           59.000                         0.752   \n",
       "112           0.672           54.151                         0.695   \n",
       "97            0.690           55.160                         0.697   \n",
       "82            0.636           58.221                         0.695   \n",
       "133           0.795           57.161                         0.561   \n",
       "143           0.537           57.948                         0.780   \n",
       "129           0.770           50.833                         0.647   \n",
       "95            0.641           53.780                         0.806   \n",
       "114           0.744           54.706                         0.882   \n",
       "98            0.489           54.713                         0.757   \n",
       "139           0.490           53.400                         0.626   \n",
       "141           0.702           57.999                         0.833   \n",
       "146           0.552           61.400                         0.897   \n",
       "\n",
       "     generosity  perceptions_of_corruption  ti_corrupt_harmonized  \\\n",
       "144      -0.131                      0.915                   0.59   \n",
       "115       0.037                      0.878                   0.75   \n",
       "137       0.084                      0.866                   0.67   \n",
       "102      -0.067                      0.860                   0.56   \n",
       "118       0.122                      0.855                   0.73   \n",
       "119       0.050                      0.850                   0.72   \n",
       "90        0.026                      0.848                   0.75   \n",
       "94        0.123                      0.848                   0.57   \n",
       "123      -0.149                      0.847                   0.49   \n",
       "111      -0.200                      0.840                   0.70   \n",
       "116      -0.036                      0.827                   0.70   \n",
       "120       0.287                      0.825                   0.69   \n",
       "136       0.061                      0.823                   0.67   \n",
       "147      -0.047                      0.821                   0.76   \n",
       "127       0.041                      0.807                   0.79   \n",
       "134      -0.005                      0.803                   0.75   \n",
       "145      -0.246                      0.801                   0.40   \n",
       "91       -0.046                      0.801                   0.55   \n",
       "84       -0.016                      0.794                   0.64   \n",
       "49       -0.054                      0.789                   0.47   \n",
       "130       0.082                      0.781                   0.79   \n",
       "135       0.032                      0.772                   0.71   \n",
       "101       0.095                      0.766                   0.72   \n",
       "132       0.082                      0.761                   0.62   \n",
       "112      -0.009                      0.748                   0.60   \n",
       "97        0.424                      0.746                   0.63   \n",
       "82       -0.068                      0.745                   0.81   \n",
       "133      -0.106                      0.731                   0.71   \n",
       "143       0.038                      0.729                   0.70   \n",
       "129      -0.185                      0.708                   0.67   \n",
       "95        0.018                      0.693                   0.68   \n",
       "114       0.061                      0.684                   0.75   \n",
       "98       -0.034                      0.661                   0.59   \n",
       "139      -0.024                      0.607                   0.81   \n",
       "141       0.183                      0.577                   0.62   \n",
       "146       0.061                      0.167                   0.46   \n",
       "\n",
       "     covid_deaths  covid_cases      pop_2020   death_100k  cases_100k  oecd  \n",
       "144          51.0       3094.0     2,142,000         2.38      144.44     0  \n",
       "115        1289.0      87607.0   206,140,000         0.63       42.50     0  \n",
       "137          76.0       2611.0     7,977,000         0.95       32.73     0  \n",
       "102       28469.0    1057161.0    59,309,000        48.00     1782.46     0  \n",
       "118         251.0      35216.0    45,741,000         0.55       76.99     0  \n",
       "119          83.0       1779.0     5,058,000         1.64       35.17     0  \n",
       "90          448.0      26277.0    26,546,000         1.69       98.99     0  \n",
       "94          335.0      54771.0    31,073,000         1.08      176.27     0  \n",
       "123         205.0      23941.0     2,541,000         8.07      942.19     0  \n",
       "111          64.0       9571.0     2,226,000         2.88      429.96     0  \n",
       "116         269.0       7090.0    20,251,000         1.33       35.01     0  \n",
       "120        1670.0      96458.0    53,771,000         3.11      179.39     0  \n",
       "136         388.0      20725.0    18,384,000         2.11      112.73     0  \n",
       "147         363.0      13867.0    14,863,000         2.44       93.30     0  \n",
       "127         104.0       2113.0    16,426,000         0.63       12.86     0  \n",
       "134         261.0      17714.0    27,691,000         0.94       63.97     0  \n",
       "145          42.0      14805.0     2,352,000         1.79      629.46     0  \n",
       "91          410.0      19140.0    16,744,000         2.45      114.31     0  \n",
       "84          137.0      22490.0    26,378,000         0.52       85.26     0  \n",
       "49           10.0        527.0     1,268,000         0.79       41.56     0  \n",
       "130          10.0        823.0       870,000         1.15       94.60     0  \n",
       "135          68.0       3633.0     8,279,000         0.82       43.88     0  \n",
       "101          81.0      13722.0    13,133,000         0.62      104.48     0  \n",
       "132        1923.0     124264.0   114,964,000         1.67      108.09     0  \n",
       "112          85.0       6707.0    20,903,000         0.41       32.09     0  \n",
       "97          124.0       3797.0     2,417,000         5.13      157.10     0  \n",
       "82          108.0       7107.0     5,518,000         1.96      128.80     0  \n",
       "133         347.0      14364.0     4,650,000         7.46      308.90     0  \n",
       "143         189.0       6583.0    19,130,000         0.99       34.41     0  \n",
       "129         205.0       9358.0     1,160,000        17.67      806.72     0  \n",
       "95          104.0       3323.0    24,207,000         0.43       13.73     0  \n",
       "114         166.0      18642.0    31,255,000         0.53       59.64     0  \n",
       "98           44.0       3251.0    12,123,000         0.36       26.82     0  \n",
       "139           2.0        818.0    11,891,000         0.02        6.88     0  \n",
       "141          21.0        509.0    59,734,000         0.04        0.85     0  \n",
       "146          92.0       8383.0    12,952,000         0.71       64.72     0  "
      ],
      "text/html": "<div>\n<style scoped>\n    .dataframe tbody tr th:only-of-type {\n        vertical-align: middle;\n    }\n\n    .dataframe tbody tr th {\n        vertical-align: top;\n    }\n\n    .dataframe thead th {\n        text-align: right;\n    }\n</style>\n<table border=\"1\" class=\"dataframe\">\n  <thead>\n    <tr style=\"text-align: right;\">\n      <th></th>\n      <th>country</th>\n      <th>region</th>\n      <th>score</th>\n      <th>log_gdp_cap</th>\n      <th>social_support</th>\n      <th>life_expectancy</th>\n      <th>freedom_to_make_life_choices</th>\n      <th>generosity</th>\n      <th>perceptions_of_corruption</th>\n      <th>ti_corrupt_harmonized</th>\n      <th>covid_deaths</th>\n      <th>covid_cases</th>\n      <th>pop_2020</th>\n      <th>death_100k</th>\n      <th>cases_100k</th>\n      <th>oecd</th>\n    </tr>\n  </thead>\n  <tbody>\n    <tr>\n      <th>144</th>\n      <td>Lesotho</td>\n      <td>Sub-Saharan Africa</td>\n      <td>3.512</td>\n      <td>7.926</td>\n      <td>0.787</td>\n      <td>48.700</td>\n      <td>0.715</td>\n      <td>-0.131</td>\n      <td>0.915</td>\n      <td>0.59</td>\n      <td>51.0</td>\n      <td>3094.0</td>\n      <td>2,142,000</td>\n      <td>2.38</td>\n      <td>144.44</td>\n      <td>0</td>\n    </tr>\n    <tr>\n      <th>115</th>\n      <td>Nigeria</td>\n      <td>Sub-Saharan Africa</td>\n      <td>4.759</td>\n      <td>8.533</td>\n      <td>0.740</td>\n      <td>50.102</td>\n      <td>0.737</td>\n      <td>0.037</td>\n      <td>0.878</td>\n      <td>0.75</td>\n      <td>1289.0</td>\n      <td>87607.0</td>\n      <td>206,140,000</td>\n      <td>0.63</td>\n      <td>42.50</td>\n      <td>0</td>\n    </tr>\n    <tr>\n      <th>137</th>\n      <td>Sierra Leone</td>\n      <td>Sub-Saharan Africa</td>\n      <td>3.849</td>\n      <td>7.434</td>\n      <td>0.630</td>\n      <td>51.651</td>\n      <td>0.717</td>\n      <td>0.084</td>\n      <td>0.866</td>\n      <td>0.67</td>\n      <td>76.0</td>\n      <td>2611.0</td>\n      <td>7,977,000</td>\n      <td>0.95</td>\n      <td>32.73</td>\n      <td>0</td>\n    </tr>\n    <tr>\n      <th>102</th>\n      <td>South Africa</td>\n      <td>Sub-Saharan Africa</td>\n      <td>4.956</td>\n      <td>9.403</td>\n      <td>0.860</td>\n      <td>56.904</td>\n      <td>0.749</td>\n      <td>-0.067</td>\n      <td>0.860</td>\n      <td>0.56</td>\n      <td>28469.0</td>\n      <td>1057161.0</td>\n      <td>59,309,000</td>\n      <td>48.00</td>\n      <td>1782.46</td>\n      <td>0</td>\n    </tr>\n    <tr>\n      <th>118</th>\n      <td>Uganda</td>\n      <td>Sub-Saharan Africa</td>\n      <td>4.636</td>\n      <td>7.677</td>\n      <td>0.781</td>\n      <td>56.101</td>\n      <td>0.709</td>\n      <td>0.122</td>\n      <td>0.855</td>\n      <td>0.73</td>\n      <td>251.0</td>\n      <td>35216.0</td>\n      <td>45,741,000</td>\n      <td>0.55</td>\n      <td>76.99</td>\n      <td>0</td>\n    </tr>\n    <tr>\n      <th>119</th>\n      <td>Liberia</td>\n      <td>Sub-Saharan Africa</td>\n      <td>4.625</td>\n      <td>7.288</td>\n      <td>0.720</td>\n      <td>56.498</td>\n      <td>0.735</td>\n      <td>0.050</td>\n      <td>0.850</td>\n      <td>0.72</td>\n      <td>83.0</td>\n      <td>1779.0</td>\n      <td>5,058,000</td>\n      <td>1.64</td>\n      <td>35.17</td>\n      <td>0</td>\n    </tr>\n    <tr>\n      <th>90</th>\n      <td>Cameroon</td>\n      <td>Sub-Saharan Africa</td>\n      <td>5.142</td>\n      <td>8.189</td>\n      <td>0.710</td>\n      <td>53.515</td>\n      <td>0.731</td>\n      <td>0.026</td>\n      <td>0.848</td>\n      <td>0.75</td>\n      <td>448.0</td>\n      <td>26277.0</td>\n      <td>26,546,000</td>\n      <td>1.69</td>\n      <td>98.99</td>\n      <td>0</td>\n    </tr>\n    <tr>\n      <th>94</th>\n      <td>Ghana</td>\n      <td>Sub-Saharan Africa</td>\n      <td>5.088</td>\n      <td>8.580</td>\n      <td>0.727</td>\n      <td>57.586</td>\n      <td>0.807</td>\n      <td>0.123</td>\n      <td>0.848</td>\n      <td>0.57</td>\n      <td>335.0</td>\n      <td>54771.0</td>\n      <td>31,073,000</td>\n      <td>1.08</td>\n      <td>176.27</td>\n      <td>0</td>\n    </tr>\n    <tr>\n      <th>123</th>\n      <td>Namibia</td>\n      <td>Sub-Saharan Africa</td>\n      <td>4.574</td>\n      <td>9.161</td>\n      <td>0.818</td>\n      <td>56.799</td>\n      <td>0.719</td>\n      <td>-0.149</td>\n      <td>0.847</td>\n      <td>0.49</td>\n      <td>205.0</td>\n      <td>23941.0</td>\n      <td>2,541,000</td>\n      <td>8.07</td>\n      <td>942.19</td>\n      <td>0</td>\n    </tr>\n    <tr>\n      <th>111</th>\n      <td>Gabon</td>\n      <td>Sub-Saharan Africa</td>\n      <td>4.852</td>\n      <td>9.603</td>\n      <td>0.776</td>\n      <td>59.962</td>\n      <td>0.731</td>\n      <td>-0.200</td>\n      <td>0.840</td>\n      <td>0.70</td>\n      <td>64.0</td>\n      <td>9571.0</td>\n      <td>2,226,000</td>\n      <td>2.88</td>\n      <td>429.96</td>\n      <td>0</td>\n    </tr>\n    <tr>\n      <th>116</th>\n      <td>Mali</td>\n      <td>Sub-Saharan Africa</td>\n      <td>4.723</td>\n      <td>7.744</td>\n      <td>0.724</td>\n      <td>51.969</td>\n      <td>0.697</td>\n      <td>-0.036</td>\n      <td>0.827</td>\n      <td>0.70</td>\n      <td>269.0</td>\n      <td>7090.0</td>\n      <td>20,251,000</td>\n      <td>1.33</td>\n      <td>35.01</td>\n      <td>0</td>\n    </tr>\n    <tr>\n      <th>120</th>\n      <td>Kenya</td>\n      <td>Sub-Saharan Africa</td>\n      <td>4.607</td>\n      <td>8.361</td>\n      <td>0.688</td>\n      <td>60.704</td>\n      <td>0.779</td>\n      <td>0.287</td>\n      <td>0.825</td>\n      <td>0.69</td>\n      <td>1670.0</td>\n      <td>96458.0</td>\n      <td>53,771,000</td>\n      <td>3.11</td>\n      <td>179.39</td>\n      <td>0</td>\n    </tr>\n    <tr>\n      <th>136</th>\n      <td>Zambia</td>\n      <td>Sub-Saharan Africa</td>\n      <td>4.073</td>\n      <td>8.145</td>\n      <td>0.708</td>\n      <td>55.809</td>\n      <td>0.782</td>\n      <td>0.061</td>\n      <td>0.823</td>\n      <td>0.67</td>\n      <td>388.0</td>\n      <td>20725.0</td>\n      <td>18,384,000</td>\n      <td>2.11</td>\n      <td>112.73</td>\n      <td>0</td>\n    </tr>\n    <tr>\n      <th>147</th>\n      <td>Zimbabwe</td>\n      <td>Sub-Saharan Africa</td>\n      <td>3.145</td>\n      <td>7.943</td>\n      <td>0.750</td>\n      <td>56.201</td>\n      <td>0.677</td>\n      <td>-0.047</td>\n      <td>0.821</td>\n      <td>0.76</td>\n      <td>363.0</td>\n      <td>13867.0</td>\n      <td>14,863,000</td>\n      <td>2.44</td>\n      <td>93.30</td>\n      <td>0</td>\n    </tr>\n    <tr>\n      <th>127</th>\n      <td>Chad</td>\n      <td>Sub-Saharan Africa</td>\n      <td>4.355</td>\n      <td>7.364</td>\n      <td>0.619</td>\n      <td>48.478</td>\n      <td>0.579</td>\n      <td>0.041</td>\n      <td>0.807</td>\n      <td>0.79</td>\n      <td>104.0</td>\n      <td>2113.0</td>\n      <td>16,426,000</td>\n      <td>0.63</td>\n      <td>12.86</td>\n      <td>0</td>\n    </tr>\n    <tr>\n      <th>134</th>\n      <td>Madagascar</td>\n      <td>Sub-Saharan Africa</td>\n      <td>4.208</td>\n      <td>7.396</td>\n      <td>0.686</td>\n      <td>59.305</td>\n      <td>0.552</td>\n      <td>-0.005</td>\n      <td>0.803</td>\n      <td>0.75</td>\n      <td>261.0</td>\n      <td>17714.0</td>\n      <td>27,691,000</td>\n      <td>0.94</td>\n      <td>63.97</td>\n      <td>0</td>\n    </tr>\n    <tr>\n      <th>145</th>\n      <td>Botswana</td>\n      <td>Sub-Saharan Africa</td>\n      <td>3.467</td>\n      <td>9.782</td>\n      <td>0.784</td>\n      <td>59.269</td>\n      <td>0.824</td>\n      <td>-0.246</td>\n      <td>0.801</td>\n      <td>0.40</td>\n      <td>42.0</td>\n      <td>14805.0</td>\n      <td>2,352,000</td>\n      <td>1.79</td>\n      <td>629.46</td>\n      <td>0</td>\n    </tr>\n    <tr>\n      <th>91</th>\n      <td>Senegal</td>\n      <td>Sub-Saharan Africa</td>\n      <td>5.132</td>\n      <td>8.118</td>\n      <td>0.710</td>\n      <td>59.802</td>\n      <td>0.695</td>\n      <td>-0.046</td>\n      <td>0.801</td>\n      <td>0.55</td>\n      <td>410.0</td>\n      <td>19140.0</td>\n      <td>16,744,000</td>\n      <td>2.45</td>\n      <td>114.31</td>\n      <td>0</td>\n    </tr>\n    <tr>\n      <th>84</th>\n      <td>Ivory Coast</td>\n      <td>Sub-Saharan Africa</td>\n      <td>5.306</td>\n      <td>8.551</td>\n      <td>0.644</td>\n      <td>50.114</td>\n      <td>0.741</td>\n      <td>-0.016</td>\n      <td>0.794</td>\n      <td>0.64</td>\n      <td>137.0</td>\n      <td>22490.0</td>\n      <td>26,378,000</td>\n      <td>0.52</td>\n      <td>85.26</td>\n      <td>0</td>\n    </tr>\n    <tr>\n      <th>49</th>\n      <td>Mauritius</td>\n      <td>Sub-Saharan Africa</td>\n      <td>6.049</td>\n      <td>10.008</td>\n      <td>0.905</td>\n      <td>66.701</td>\n      <td>0.867</td>\n      <td>-0.054</td>\n      <td>0.789</td>\n      <td>0.47</td>\n      <td>10.0</td>\n      <td>527.0</td>\n      <td>1,268,000</td>\n      <td>0.79</td>\n      <td>41.56</td>\n      <td>0</td>\n    </tr>\n    <tr>\n      <th>130</th>\n      <td>Comoros</td>\n      <td>Sub-Saharan Africa</td>\n      <td>4.289</td>\n      <td>8.031</td>\n      <td>0.626</td>\n      <td>57.349</td>\n      <td>0.548</td>\n      <td>0.082</td>\n      <td>0.781</td>\n      <td>0.79</td>\n      <td>10.0</td>\n      <td>823.0</td>\n      <td>870,000</td>\n      <td>1.15</td>\n      <td>94.60</td>\n      <td>0</td>\n    </tr>\n    <tr>\n      <th>135</th>\n      <td>Togo</td>\n      <td>Sub-Saharan Africa</td>\n      <td>4.107</td>\n      <td>7.362</td>\n      <td>0.569</td>\n      <td>54.914</td>\n      <td>0.619</td>\n      <td>0.032</td>\n      <td>0.772</td>\n      <td>0.71</td>\n      <td>68.0</td>\n      <td>3633.0</td>\n      <td>8,279,000</td>\n      <td>0.82</td>\n      <td>43.88</td>\n      <td>0</td>\n    </tr>\n    <tr>\n      <th>101</th>\n      <td>Guinea</td>\n      <td>Sub-Saharan Africa</td>\n      <td>4.984</td>\n      <td>7.838</td>\n      <td>0.639</td>\n      <td>55.008</td>\n      <td>0.697</td>\n      <td>0.095</td>\n      <td>0.766</td>\n      <td>0.72</td>\n      <td>81.0</td>\n      <td>13722.0</td>\n      <td>13,133,000</td>\n      <td>0.62</td>\n      <td>104.48</td>\n      <td>0</td>\n    </tr>\n    <tr>\n      <th>132</th>\n      <td>Ethiopia</td>\n      <td>Sub-Saharan Africa</td>\n      <td>4.275</td>\n      <td>7.694</td>\n      <td>0.764</td>\n      <td>59.000</td>\n      <td>0.752</td>\n      <td>0.082</td>\n      <td>0.761</td>\n      <td>0.62</td>\n      <td>1923.0</td>\n      <td>124264.0</td>\n      <td>114,964,000</td>\n      <td>1.67</td>\n      <td>108.09</td>\n      <td>0</td>\n    </tr>\n    <tr>\n      <th>112</th>\n      <td>Burkina Faso</td>\n      <td>Sub-Saharan Africa</td>\n      <td>4.834</td>\n      <td>7.678</td>\n      <td>0.672</td>\n      <td>54.151</td>\n      <td>0.695</td>\n      <td>-0.009</td>\n      <td>0.748</td>\n      <td>0.60</td>\n      <td>85.0</td>\n      <td>6707.0</td>\n      <td>20,903,000</td>\n      <td>0.41</td>\n      <td>32.09</td>\n      <td>0</td>\n    </tr>\n    <tr>\n      <th>97</th>\n      <td>Gambia</td>\n      <td>Sub-Saharan Africa</td>\n      <td>5.051</td>\n      <td>7.686</td>\n      <td>0.690</td>\n      <td>55.160</td>\n      <td>0.697</td>\n      <td>0.424</td>\n      <td>0.746</td>\n      <td>0.63</td>\n      <td>124.0</td>\n      <td>3797.0</td>\n      <td>2,417,000</td>\n      <td>5.13</td>\n      <td>157.10</td>\n      <td>0</td>\n    </tr>\n    <tr>\n      <th>82</th>\n      <td>Congo (Brazzaville)</td>\n      <td>Sub-Saharan Africa</td>\n      <td>5.342</td>\n      <td>8.117</td>\n      <td>0.636</td>\n      <td>58.221</td>\n      <td>0.695</td>\n      <td>-0.068</td>\n      <td>0.745</td>\n      <td>0.81</td>\n      <td>108.0</td>\n      <td>7107.0</td>\n      <td>5,518,000</td>\n      <td>1.96</td>\n      <td>128.80</td>\n      <td>0</td>\n    </tr>\n    <tr>\n      <th>133</th>\n      <td>Mauritania</td>\n      <td>Sub-Saharan Africa</td>\n      <td>4.227</td>\n      <td>8.542</td>\n      <td>0.795</td>\n      <td>57.161</td>\n      <td>0.561</td>\n      <td>-0.106</td>\n      <td>0.731</td>\n      <td>0.71</td>\n      <td>347.0</td>\n      <td>14364.0</td>\n      <td>4,650,000</td>\n      <td>7.46</td>\n      <td>308.90</td>\n      <td>0</td>\n    </tr>\n    <tr>\n      <th>143</th>\n      <td>Malawi</td>\n      <td>Sub-Saharan Africa</td>\n      <td>3.600</td>\n      <td>6.958</td>\n      <td>0.537</td>\n      <td>57.948</td>\n      <td>0.780</td>\n      <td>0.038</td>\n      <td>0.729</td>\n      <td>0.70</td>\n      <td>189.0</td>\n      <td>6583.0</td>\n      <td>19,130,000</td>\n      <td>0.99</td>\n      <td>34.41</td>\n      <td>0</td>\n    </tr>\n    <tr>\n      <th>129</th>\n      <td>Eswatini</td>\n      <td>Sub-Saharan Africa</td>\n      <td>4.308</td>\n      <td>9.065</td>\n      <td>0.770</td>\n      <td>50.833</td>\n      <td>0.647</td>\n      <td>-0.185</td>\n      <td>0.708</td>\n      <td>0.67</td>\n      <td>205.0</td>\n      <td>9358.0</td>\n      <td>1,160,000</td>\n      <td>17.67</td>\n      <td>806.72</td>\n      <td>0</td>\n    </tr>\n    <tr>\n      <th>95</th>\n      <td>Niger</td>\n      <td>Sub-Saharan Africa</td>\n      <td>5.074</td>\n      <td>7.098</td>\n      <td>0.641</td>\n      <td>53.780</td>\n      <td>0.806</td>\n      <td>0.018</td>\n      <td>0.693</td>\n      <td>0.68</td>\n      <td>104.0</td>\n      <td>3323.0</td>\n      <td>24,207,000</td>\n      <td>0.43</td>\n      <td>13.73</td>\n      <td>0</td>\n    </tr>\n    <tr>\n      <th>114</th>\n      <td>Mozambique</td>\n      <td>Sub-Saharan Africa</td>\n      <td>4.794</td>\n      <td>7.158</td>\n      <td>0.744</td>\n      <td>54.706</td>\n      <td>0.882</td>\n      <td>0.061</td>\n      <td>0.684</td>\n      <td>0.75</td>\n      <td>166.0</td>\n      <td>18642.0</td>\n      <td>31,255,000</td>\n      <td>0.53</td>\n      <td>59.64</td>\n      <td>0</td>\n    </tr>\n    <tr>\n      <th>98</th>\n      <td>Benin</td>\n      <td>Sub-Saharan Africa</td>\n      <td>5.045</td>\n      <td>8.087</td>\n      <td>0.489</td>\n      <td>54.713</td>\n      <td>0.757</td>\n      <td>-0.034</td>\n      <td>0.661</td>\n      <td>0.59</td>\n      <td>44.0</td>\n      <td>3251.0</td>\n      <td>12,123,000</td>\n      <td>0.36</td>\n      <td>26.82</td>\n      <td>0</td>\n    </tr>\n    <tr>\n      <th>139</th>\n      <td>Burundi</td>\n      <td>Sub-Saharan Africa</td>\n      <td>3.775</td>\n      <td>6.635</td>\n      <td>0.490</td>\n      <td>53.400</td>\n      <td>0.626</td>\n      <td>-0.024</td>\n      <td>0.607</td>\n      <td>0.81</td>\n      <td>2.0</td>\n      <td>818.0</td>\n      <td>11,891,000</td>\n      <td>0.02</td>\n      <td>6.88</td>\n      <td>0</td>\n    </tr>\n    <tr>\n      <th>141</th>\n      <td>Tanzania</td>\n      <td>Sub-Saharan Africa</td>\n      <td>3.623</td>\n      <td>7.876</td>\n      <td>0.702</td>\n      <td>57.999</td>\n      <td>0.833</td>\n      <td>0.183</td>\n      <td>0.577</td>\n      <td>0.62</td>\n      <td>21.0</td>\n      <td>509.0</td>\n      <td>59,734,000</td>\n      <td>0.04</td>\n      <td>0.85</td>\n      <td>0</td>\n    </tr>\n    <tr>\n      <th>146</th>\n      <td>Rwanda</td>\n      <td>Sub-Saharan Africa</td>\n      <td>3.415</td>\n      <td>7.676</td>\n      <td>0.552</td>\n      <td>61.400</td>\n      <td>0.897</td>\n      <td>0.061</td>\n      <td>0.167</td>\n      <td>0.46</td>\n      <td>92.0</td>\n      <td>8383.0</td>\n      <td>12,952,000</td>\n      <td>0.71</td>\n      <td>64.72</td>\n      <td>0</td>\n    </tr>\n  </tbody>\n</table>\n</div>"
     },
     "metadata": {},
     "execution_count": 114
    }
   ],
   "source": [
    "ssa.sort_values(by = 'perceptions_of_corruption', ascending = False)"
   ]
  },
  {
   "cell_type": "code",
   "execution_count": 115,
   "id": "d618e7db",
   "metadata": {},
   "outputs": [
    {
     "output_type": "execute_result",
     "data": {
      "text/plain": [
       "                   country                      region  score  log_gdp_cap  \\\n",
       "17          Czech Republic  Central and Eastern Europe  6.965       10.556   \n",
       "28                Slovenia  Central and Eastern Europe  6.461       10.529   \n",
       "32                  Kosovo  Central and Eastern Europe  6.372        9.318   \n",
       "33                Slovakia  Central and Eastern Europe  6.331       10.369   \n",
       "37               Lithuania  Central and Eastern Europe  6.255       10.499   \n",
       "39                 Estonia  Central and Eastern Europe  6.189       10.481   \n",
       "43                  Poland  Central and Eastern Europe  6.166       10.382   \n",
       "45                 Romania  Central and Eastern Europe  6.140       10.284   \n",
       "47                  Serbia  Central and Eastern Europe  6.078        9.787   \n",
       "50                  Latvia  Central and Eastern Europe  6.032       10.315   \n",
       "52                 Hungary  Central and Eastern Europe  5.992       10.358   \n",
       "59                 Croatia  Central and Eastern Europe  5.882       10.217   \n",
       "63  Bosnia and Herzegovina  Central and Eastern Europe  5.813        9.590   \n",
       "71              Montenegro  Central and Eastern Europe  5.581        9.940   \n",
       "87                Bulgaria  Central and Eastern Europe  5.266       10.016   \n",
       "92                 Albania  Central and Eastern Europe  5.117        9.520   \n",
       "93         North Macedonia  Central and Eastern Europe  5.101        9.693   \n",
       "\n",
       "    social_support  life_expectancy  freedom_to_make_life_choices  generosity  \\\n",
       "17           0.947           70.807                         0.858      -0.208   \n",
       "28           0.948           71.400                         0.949      -0.101   \n",
       "32           0.821           63.813                         0.869       0.257   \n",
       "33           0.936           69.201                         0.766      -0.124   \n",
       "37           0.935           67.906                         0.773      -0.203   \n",
       "39           0.941           68.800                         0.909      -0.106   \n",
       "43           0.898           69.702                         0.841      -0.165   \n",
       "45           0.832           67.355                         0.845      -0.219   \n",
       "47           0.873           68.600                         0.778       0.002   \n",
       "50           0.927           67.100                         0.715      -0.162   \n",
       "52           0.943           68.000                         0.755      -0.186   \n",
       "59           0.924           70.799                         0.754      -0.118   \n",
       "63           0.870           68.098                         0.706       0.113   \n",
       "71           0.858           68.699                         0.708      -0.034   \n",
       "87           0.931           67.000                         0.788      -0.096   \n",
       "92           0.697           68.999                         0.785      -0.030   \n",
       "93           0.805           65.474                         0.751       0.038   \n",
       "\n",
       "    perceptions_of_corruption  ti_corrupt_harmonized  covid_deaths  \\\n",
       "17                      0.868                   0.46       11580.0   \n",
       "28                      0.806                   0.40        2697.0   \n",
       "32                      0.917                   0.64        1332.0   \n",
       "33                      0.911                   0.51        2138.0   \n",
       "37                      0.826                   0.40        1796.0   \n",
       "39                      0.527                   0.25         229.0   \n",
       "43                      0.735                   0.44       28554.0   \n",
       "45                      0.938                   0.56       15767.0   \n",
       "47                      0.835                   0.62        3211.0   \n",
       "50                      0.800                   0.43         635.0   \n",
       "52                      0.876                   0.56        9537.0   \n",
       "59                      0.939                   0.53        3920.0   \n",
       "63                      0.931                   0.65        4050.0   \n",
       "71                      0.812                   0.55         682.0   \n",
       "87                      0.932                   0.56        7576.0   \n",
       "92                      0.901                   0.64        1181.0   \n",
       "93                      0.905                   0.65        2503.0   \n",
       "\n",
       "    covid_cases     pop_2020   death_100k  cases_100k  oecd  \n",
       "17     718661.0   10,690,000       108.33     6722.74     1  \n",
       "28     122152.0    2,088,000       129.17     5850.19     1  \n",
       "32      51144.0    1,795,000        74.21     2849.25     0  \n",
       "33     179543.0    5,456,000        39.19     3290.74     1  \n",
       "37     141955.0    2,760,000        65.07     5143.30     1  \n",
       "39      27990.0    1,325,000        17.28     2112.45     1  \n",
       "43    1294878.0   37,914,000        75.31     3415.30     1  \n",
       "45     632263.0   19,248,000        81.92     3284.82     0  \n",
       "47     337923.0    6,912,000        46.46     4888.93     0  \n",
       "50      40904.0    1,894,000        33.53     2159.66     1  \n",
       "52     322514.0    9,743,000        97.89     3310.21     1  \n",
       "59     210837.0    4,041,000        97.01     5217.45     0  \n",
       "63     110985.0    3,281,000       123.44     3382.66     0  \n",
       "71      48247.0      622,000       109.65     7756.75     0  \n",
       "87     202266.0    6,923,000       109.43     2921.65     0  \n",
       "92      58316.0    2,850,000        41.44     2046.18     0  \n",
       "93      83329.0    2,083,000       120.16     4000.43     0  "
      ],
      "text/html": "<div>\n<style scoped>\n    .dataframe tbody tr th:only-of-type {\n        vertical-align: middle;\n    }\n\n    .dataframe tbody tr th {\n        vertical-align: top;\n    }\n\n    .dataframe thead th {\n        text-align: right;\n    }\n</style>\n<table border=\"1\" class=\"dataframe\">\n  <thead>\n    <tr style=\"text-align: right;\">\n      <th></th>\n      <th>country</th>\n      <th>region</th>\n      <th>score</th>\n      <th>log_gdp_cap</th>\n      <th>social_support</th>\n      <th>life_expectancy</th>\n      <th>freedom_to_make_life_choices</th>\n      <th>generosity</th>\n      <th>perceptions_of_corruption</th>\n      <th>ti_corrupt_harmonized</th>\n      <th>covid_deaths</th>\n      <th>covid_cases</th>\n      <th>pop_2020</th>\n      <th>death_100k</th>\n      <th>cases_100k</th>\n      <th>oecd</th>\n    </tr>\n  </thead>\n  <tbody>\n    <tr>\n      <th>17</th>\n      <td>Czech Republic</td>\n      <td>Central and Eastern Europe</td>\n      <td>6.965</td>\n      <td>10.556</td>\n      <td>0.947</td>\n      <td>70.807</td>\n      <td>0.858</td>\n      <td>-0.208</td>\n      <td>0.868</td>\n      <td>0.46</td>\n      <td>11580.0</td>\n      <td>718661.0</td>\n      <td>10,690,000</td>\n      <td>108.33</td>\n      <td>6722.74</td>\n      <td>1</td>\n    </tr>\n    <tr>\n      <th>28</th>\n      <td>Slovenia</td>\n      <td>Central and Eastern Europe</td>\n      <td>6.461</td>\n      <td>10.529</td>\n      <td>0.948</td>\n      <td>71.400</td>\n      <td>0.949</td>\n      <td>-0.101</td>\n      <td>0.806</td>\n      <td>0.40</td>\n      <td>2697.0</td>\n      <td>122152.0</td>\n      <td>2,088,000</td>\n      <td>129.17</td>\n      <td>5850.19</td>\n      <td>1</td>\n    </tr>\n    <tr>\n      <th>32</th>\n      <td>Kosovo</td>\n      <td>Central and Eastern Europe</td>\n      <td>6.372</td>\n      <td>9.318</td>\n      <td>0.821</td>\n      <td>63.813</td>\n      <td>0.869</td>\n      <td>0.257</td>\n      <td>0.917</td>\n      <td>0.64</td>\n      <td>1332.0</td>\n      <td>51144.0</td>\n      <td>1,795,000</td>\n      <td>74.21</td>\n      <td>2849.25</td>\n      <td>0</td>\n    </tr>\n    <tr>\n      <th>33</th>\n      <td>Slovakia</td>\n      <td>Central and Eastern Europe</td>\n      <td>6.331</td>\n      <td>10.369</td>\n      <td>0.936</td>\n      <td>69.201</td>\n      <td>0.766</td>\n      <td>-0.124</td>\n      <td>0.911</td>\n      <td>0.51</td>\n      <td>2138.0</td>\n      <td>179543.0</td>\n      <td>5,456,000</td>\n      <td>39.19</td>\n      <td>3290.74</td>\n      <td>1</td>\n    </tr>\n    <tr>\n      <th>37</th>\n      <td>Lithuania</td>\n      <td>Central and Eastern Europe</td>\n      <td>6.255</td>\n      <td>10.499</td>\n      <td>0.935</td>\n      <td>67.906</td>\n      <td>0.773</td>\n      <td>-0.203</td>\n      <td>0.826</td>\n      <td>0.40</td>\n      <td>1796.0</td>\n      <td>141955.0</td>\n      <td>2,760,000</td>\n      <td>65.07</td>\n      <td>5143.30</td>\n      <td>1</td>\n    </tr>\n    <tr>\n      <th>39</th>\n      <td>Estonia</td>\n      <td>Central and Eastern Europe</td>\n      <td>6.189</td>\n      <td>10.481</td>\n      <td>0.941</td>\n      <td>68.800</td>\n      <td>0.909</td>\n      <td>-0.106</td>\n      <td>0.527</td>\n      <td>0.25</td>\n      <td>229.0</td>\n      <td>27990.0</td>\n      <td>1,325,000</td>\n      <td>17.28</td>\n      <td>2112.45</td>\n      <td>1</td>\n    </tr>\n    <tr>\n      <th>43</th>\n      <td>Poland</td>\n      <td>Central and Eastern Europe</td>\n      <td>6.166</td>\n      <td>10.382</td>\n      <td>0.898</td>\n      <td>69.702</td>\n      <td>0.841</td>\n      <td>-0.165</td>\n      <td>0.735</td>\n      <td>0.44</td>\n      <td>28554.0</td>\n      <td>1294878.0</td>\n      <td>37,914,000</td>\n      <td>75.31</td>\n      <td>3415.30</td>\n      <td>1</td>\n    </tr>\n    <tr>\n      <th>45</th>\n      <td>Romania</td>\n      <td>Central and Eastern Europe</td>\n      <td>6.140</td>\n      <td>10.284</td>\n      <td>0.832</td>\n      <td>67.355</td>\n      <td>0.845</td>\n      <td>-0.219</td>\n      <td>0.938</td>\n      <td>0.56</td>\n      <td>15767.0</td>\n      <td>632263.0</td>\n      <td>19,248,000</td>\n      <td>81.92</td>\n      <td>3284.82</td>\n      <td>0</td>\n    </tr>\n    <tr>\n      <th>47</th>\n      <td>Serbia</td>\n      <td>Central and Eastern Europe</td>\n      <td>6.078</td>\n      <td>9.787</td>\n      <td>0.873</td>\n      <td>68.600</td>\n      <td>0.778</td>\n      <td>0.002</td>\n      <td>0.835</td>\n      <td>0.62</td>\n      <td>3211.0</td>\n      <td>337923.0</td>\n      <td>6,912,000</td>\n      <td>46.46</td>\n      <td>4888.93</td>\n      <td>0</td>\n    </tr>\n    <tr>\n      <th>50</th>\n      <td>Latvia</td>\n      <td>Central and Eastern Europe</td>\n      <td>6.032</td>\n      <td>10.315</td>\n      <td>0.927</td>\n      <td>67.100</td>\n      <td>0.715</td>\n      <td>-0.162</td>\n      <td>0.800</td>\n      <td>0.43</td>\n      <td>635.0</td>\n      <td>40904.0</td>\n      <td>1,894,000</td>\n      <td>33.53</td>\n      <td>2159.66</td>\n      <td>1</td>\n    </tr>\n    <tr>\n      <th>52</th>\n      <td>Hungary</td>\n      <td>Central and Eastern Europe</td>\n      <td>5.992</td>\n      <td>10.358</td>\n      <td>0.943</td>\n      <td>68.000</td>\n      <td>0.755</td>\n      <td>-0.186</td>\n      <td>0.876</td>\n      <td>0.56</td>\n      <td>9537.0</td>\n      <td>322514.0</td>\n      <td>9,743,000</td>\n      <td>97.89</td>\n      <td>3310.21</td>\n      <td>1</td>\n    </tr>\n    <tr>\n      <th>59</th>\n      <td>Croatia</td>\n      <td>Central and Eastern Europe</td>\n      <td>5.882</td>\n      <td>10.217</td>\n      <td>0.924</td>\n      <td>70.799</td>\n      <td>0.754</td>\n      <td>-0.118</td>\n      <td>0.939</td>\n      <td>0.53</td>\n      <td>3920.0</td>\n      <td>210837.0</td>\n      <td>4,041,000</td>\n      <td>97.01</td>\n      <td>5217.45</td>\n      <td>0</td>\n    </tr>\n    <tr>\n      <th>63</th>\n      <td>Bosnia and Herzegovina</td>\n      <td>Central and Eastern Europe</td>\n      <td>5.813</td>\n      <td>9.590</td>\n      <td>0.870</td>\n      <td>68.098</td>\n      <td>0.706</td>\n      <td>0.113</td>\n      <td>0.931</td>\n      <td>0.65</td>\n      <td>4050.0</td>\n      <td>110985.0</td>\n      <td>3,281,000</td>\n      <td>123.44</td>\n      <td>3382.66</td>\n      <td>0</td>\n    </tr>\n    <tr>\n      <th>71</th>\n      <td>Montenegro</td>\n      <td>Central and Eastern Europe</td>\n      <td>5.581</td>\n      <td>9.940</td>\n      <td>0.858</td>\n      <td>68.699</td>\n      <td>0.708</td>\n      <td>-0.034</td>\n      <td>0.812</td>\n      <td>0.55</td>\n      <td>682.0</td>\n      <td>48247.0</td>\n      <td>622,000</td>\n      <td>109.65</td>\n      <td>7756.75</td>\n      <td>0</td>\n    </tr>\n    <tr>\n      <th>87</th>\n      <td>Bulgaria</td>\n      <td>Central and Eastern Europe</td>\n      <td>5.266</td>\n      <td>10.016</td>\n      <td>0.931</td>\n      <td>67.000</td>\n      <td>0.788</td>\n      <td>-0.096</td>\n      <td>0.932</td>\n      <td>0.56</td>\n      <td>7576.0</td>\n      <td>202266.0</td>\n      <td>6,923,000</td>\n      <td>109.43</td>\n      <td>2921.65</td>\n      <td>0</td>\n    </tr>\n    <tr>\n      <th>92</th>\n      <td>Albania</td>\n      <td>Central and Eastern Europe</td>\n      <td>5.117</td>\n      <td>9.520</td>\n      <td>0.697</td>\n      <td>68.999</td>\n      <td>0.785</td>\n      <td>-0.030</td>\n      <td>0.901</td>\n      <td>0.64</td>\n      <td>1181.0</td>\n      <td>58316.0</td>\n      <td>2,850,000</td>\n      <td>41.44</td>\n      <td>2046.18</td>\n      <td>0</td>\n    </tr>\n    <tr>\n      <th>93</th>\n      <td>North Macedonia</td>\n      <td>Central and Eastern Europe</td>\n      <td>5.101</td>\n      <td>9.693</td>\n      <td>0.805</td>\n      <td>65.474</td>\n      <td>0.751</td>\n      <td>0.038</td>\n      <td>0.905</td>\n      <td>0.65</td>\n      <td>2503.0</td>\n      <td>83329.0</td>\n      <td>2,083,000</td>\n      <td>120.16</td>\n      <td>4000.43</td>\n      <td>0</td>\n    </tr>\n  </tbody>\n</table>\n</div>"
     },
     "metadata": {},
     "execution_count": 115
    }
   ],
   "source": [
    "cee.sort_values(by = 'score', ascending = False)"
   ]
  },
  {
   "cell_type": "code",
   "execution_count": 116,
   "id": "230bf38f",
   "metadata": {},
   "outputs": [
    {
     "output_type": "execute_result",
     "data": {
      "text/plain": [
       "                   country                      region  score  log_gdp_cap  \\\n",
       "59                 Croatia  Central and Eastern Europe  5.882       10.217   \n",
       "45                 Romania  Central and Eastern Europe  6.140       10.284   \n",
       "87                Bulgaria  Central and Eastern Europe  5.266       10.016   \n",
       "63  Bosnia and Herzegovina  Central and Eastern Europe  5.813        9.590   \n",
       "32                  Kosovo  Central and Eastern Europe  6.372        9.318   \n",
       "33                Slovakia  Central and Eastern Europe  6.331       10.369   \n",
       "93         North Macedonia  Central and Eastern Europe  5.101        9.693   \n",
       "92                 Albania  Central and Eastern Europe  5.117        9.520   \n",
       "52                 Hungary  Central and Eastern Europe  5.992       10.358   \n",
       "17          Czech Republic  Central and Eastern Europe  6.965       10.556   \n",
       "47                  Serbia  Central and Eastern Europe  6.078        9.787   \n",
       "37               Lithuania  Central and Eastern Europe  6.255       10.499   \n",
       "71              Montenegro  Central and Eastern Europe  5.581        9.940   \n",
       "28                Slovenia  Central and Eastern Europe  6.461       10.529   \n",
       "50                  Latvia  Central and Eastern Europe  6.032       10.315   \n",
       "43                  Poland  Central and Eastern Europe  6.166       10.382   \n",
       "39                 Estonia  Central and Eastern Europe  6.189       10.481   \n",
       "\n",
       "    social_support  life_expectancy  freedom_to_make_life_choices  generosity  \\\n",
       "59           0.924           70.799                         0.754      -0.118   \n",
       "45           0.832           67.355                         0.845      -0.219   \n",
       "87           0.931           67.000                         0.788      -0.096   \n",
       "63           0.870           68.098                         0.706       0.113   \n",
       "32           0.821           63.813                         0.869       0.257   \n",
       "33           0.936           69.201                         0.766      -0.124   \n",
       "93           0.805           65.474                         0.751       0.038   \n",
       "92           0.697           68.999                         0.785      -0.030   \n",
       "52           0.943           68.000                         0.755      -0.186   \n",
       "17           0.947           70.807                         0.858      -0.208   \n",
       "47           0.873           68.600                         0.778       0.002   \n",
       "37           0.935           67.906                         0.773      -0.203   \n",
       "71           0.858           68.699                         0.708      -0.034   \n",
       "28           0.948           71.400                         0.949      -0.101   \n",
       "50           0.927           67.100                         0.715      -0.162   \n",
       "43           0.898           69.702                         0.841      -0.165   \n",
       "39           0.941           68.800                         0.909      -0.106   \n",
       "\n",
       "    perceptions_of_corruption  ti_corrupt_harmonized  covid_deaths  \\\n",
       "59                      0.939                   0.53        3920.0   \n",
       "45                      0.938                   0.56       15767.0   \n",
       "87                      0.932                   0.56        7576.0   \n",
       "63                      0.931                   0.65        4050.0   \n",
       "32                      0.917                   0.64        1332.0   \n",
       "33                      0.911                   0.51        2138.0   \n",
       "93                      0.905                   0.65        2503.0   \n",
       "92                      0.901                   0.64        1181.0   \n",
       "52                      0.876                   0.56        9537.0   \n",
       "17                      0.868                   0.46       11580.0   \n",
       "47                      0.835                   0.62        3211.0   \n",
       "37                      0.826                   0.40        1796.0   \n",
       "71                      0.812                   0.55         682.0   \n",
       "28                      0.806                   0.40        2697.0   \n",
       "50                      0.800                   0.43         635.0   \n",
       "43                      0.735                   0.44       28554.0   \n",
       "39                      0.527                   0.25         229.0   \n",
       "\n",
       "    covid_cases     pop_2020   death_100k  cases_100k  oecd  \n",
       "59     210837.0    4,041,000        97.01     5217.45     0  \n",
       "45     632263.0   19,248,000        81.92     3284.82     0  \n",
       "87     202266.0    6,923,000       109.43     2921.65     0  \n",
       "63     110985.0    3,281,000       123.44     3382.66     0  \n",
       "32      51144.0    1,795,000        74.21     2849.25     0  \n",
       "33     179543.0    5,456,000        39.19     3290.74     1  \n",
       "93      83329.0    2,083,000       120.16     4000.43     0  \n",
       "92      58316.0    2,850,000        41.44     2046.18     0  \n",
       "52     322514.0    9,743,000        97.89     3310.21     1  \n",
       "17     718661.0   10,690,000       108.33     6722.74     1  \n",
       "47     337923.0    6,912,000        46.46     4888.93     0  \n",
       "37     141955.0    2,760,000        65.07     5143.30     1  \n",
       "71      48247.0      622,000       109.65     7756.75     0  \n",
       "28     122152.0    2,088,000       129.17     5850.19     1  \n",
       "50      40904.0    1,894,000        33.53     2159.66     1  \n",
       "43    1294878.0   37,914,000        75.31     3415.30     1  \n",
       "39      27990.0    1,325,000        17.28     2112.45     1  "
      ],
      "text/html": "<div>\n<style scoped>\n    .dataframe tbody tr th:only-of-type {\n        vertical-align: middle;\n    }\n\n    .dataframe tbody tr th {\n        vertical-align: top;\n    }\n\n    .dataframe thead th {\n        text-align: right;\n    }\n</style>\n<table border=\"1\" class=\"dataframe\">\n  <thead>\n    <tr style=\"text-align: right;\">\n      <th></th>\n      <th>country</th>\n      <th>region</th>\n      <th>score</th>\n      <th>log_gdp_cap</th>\n      <th>social_support</th>\n      <th>life_expectancy</th>\n      <th>freedom_to_make_life_choices</th>\n      <th>generosity</th>\n      <th>perceptions_of_corruption</th>\n      <th>ti_corrupt_harmonized</th>\n      <th>covid_deaths</th>\n      <th>covid_cases</th>\n      <th>pop_2020</th>\n      <th>death_100k</th>\n      <th>cases_100k</th>\n      <th>oecd</th>\n    </tr>\n  </thead>\n  <tbody>\n    <tr>\n      <th>59</th>\n      <td>Croatia</td>\n      <td>Central and Eastern Europe</td>\n      <td>5.882</td>\n      <td>10.217</td>\n      <td>0.924</td>\n      <td>70.799</td>\n      <td>0.754</td>\n      <td>-0.118</td>\n      <td>0.939</td>\n      <td>0.53</td>\n      <td>3920.0</td>\n      <td>210837.0</td>\n      <td>4,041,000</td>\n      <td>97.01</td>\n      <td>5217.45</td>\n      <td>0</td>\n    </tr>\n    <tr>\n      <th>45</th>\n      <td>Romania</td>\n      <td>Central and Eastern Europe</td>\n      <td>6.140</td>\n      <td>10.284</td>\n      <td>0.832</td>\n      <td>67.355</td>\n      <td>0.845</td>\n      <td>-0.219</td>\n      <td>0.938</td>\n      <td>0.56</td>\n      <td>15767.0</td>\n      <td>632263.0</td>\n      <td>19,248,000</td>\n      <td>81.92</td>\n      <td>3284.82</td>\n      <td>0</td>\n    </tr>\n    <tr>\n      <th>87</th>\n      <td>Bulgaria</td>\n      <td>Central and Eastern Europe</td>\n      <td>5.266</td>\n      <td>10.016</td>\n      <td>0.931</td>\n      <td>67.000</td>\n      <td>0.788</td>\n      <td>-0.096</td>\n      <td>0.932</td>\n      <td>0.56</td>\n      <td>7576.0</td>\n      <td>202266.0</td>\n      <td>6,923,000</td>\n      <td>109.43</td>\n      <td>2921.65</td>\n      <td>0</td>\n    </tr>\n    <tr>\n      <th>63</th>\n      <td>Bosnia and Herzegovina</td>\n      <td>Central and Eastern Europe</td>\n      <td>5.813</td>\n      <td>9.590</td>\n      <td>0.870</td>\n      <td>68.098</td>\n      <td>0.706</td>\n      <td>0.113</td>\n      <td>0.931</td>\n      <td>0.65</td>\n      <td>4050.0</td>\n      <td>110985.0</td>\n      <td>3,281,000</td>\n      <td>123.44</td>\n      <td>3382.66</td>\n      <td>0</td>\n    </tr>\n    <tr>\n      <th>32</th>\n      <td>Kosovo</td>\n      <td>Central and Eastern Europe</td>\n      <td>6.372</td>\n      <td>9.318</td>\n      <td>0.821</td>\n      <td>63.813</td>\n      <td>0.869</td>\n      <td>0.257</td>\n      <td>0.917</td>\n      <td>0.64</td>\n      <td>1332.0</td>\n      <td>51144.0</td>\n      <td>1,795,000</td>\n      <td>74.21</td>\n      <td>2849.25</td>\n      <td>0</td>\n    </tr>\n    <tr>\n      <th>33</th>\n      <td>Slovakia</td>\n      <td>Central and Eastern Europe</td>\n      <td>6.331</td>\n      <td>10.369</td>\n      <td>0.936</td>\n      <td>69.201</td>\n      <td>0.766</td>\n      <td>-0.124</td>\n      <td>0.911</td>\n      <td>0.51</td>\n      <td>2138.0</td>\n      <td>179543.0</td>\n      <td>5,456,000</td>\n      <td>39.19</td>\n      <td>3290.74</td>\n      <td>1</td>\n    </tr>\n    <tr>\n      <th>93</th>\n      <td>North Macedonia</td>\n      <td>Central and Eastern Europe</td>\n      <td>5.101</td>\n      <td>9.693</td>\n      <td>0.805</td>\n      <td>65.474</td>\n      <td>0.751</td>\n      <td>0.038</td>\n      <td>0.905</td>\n      <td>0.65</td>\n      <td>2503.0</td>\n      <td>83329.0</td>\n      <td>2,083,000</td>\n      <td>120.16</td>\n      <td>4000.43</td>\n      <td>0</td>\n    </tr>\n    <tr>\n      <th>92</th>\n      <td>Albania</td>\n      <td>Central and Eastern Europe</td>\n      <td>5.117</td>\n      <td>9.520</td>\n      <td>0.697</td>\n      <td>68.999</td>\n      <td>0.785</td>\n      <td>-0.030</td>\n      <td>0.901</td>\n      <td>0.64</td>\n      <td>1181.0</td>\n      <td>58316.0</td>\n      <td>2,850,000</td>\n      <td>41.44</td>\n      <td>2046.18</td>\n      <td>0</td>\n    </tr>\n    <tr>\n      <th>52</th>\n      <td>Hungary</td>\n      <td>Central and Eastern Europe</td>\n      <td>5.992</td>\n      <td>10.358</td>\n      <td>0.943</td>\n      <td>68.000</td>\n      <td>0.755</td>\n      <td>-0.186</td>\n      <td>0.876</td>\n      <td>0.56</td>\n      <td>9537.0</td>\n      <td>322514.0</td>\n      <td>9,743,000</td>\n      <td>97.89</td>\n      <td>3310.21</td>\n      <td>1</td>\n    </tr>\n    <tr>\n      <th>17</th>\n      <td>Czech Republic</td>\n      <td>Central and Eastern Europe</td>\n      <td>6.965</td>\n      <td>10.556</td>\n      <td>0.947</td>\n      <td>70.807</td>\n      <td>0.858</td>\n      <td>-0.208</td>\n      <td>0.868</td>\n      <td>0.46</td>\n      <td>11580.0</td>\n      <td>718661.0</td>\n      <td>10,690,000</td>\n      <td>108.33</td>\n      <td>6722.74</td>\n      <td>1</td>\n    </tr>\n    <tr>\n      <th>47</th>\n      <td>Serbia</td>\n      <td>Central and Eastern Europe</td>\n      <td>6.078</td>\n      <td>9.787</td>\n      <td>0.873</td>\n      <td>68.600</td>\n      <td>0.778</td>\n      <td>0.002</td>\n      <td>0.835</td>\n      <td>0.62</td>\n      <td>3211.0</td>\n      <td>337923.0</td>\n      <td>6,912,000</td>\n      <td>46.46</td>\n      <td>4888.93</td>\n      <td>0</td>\n    </tr>\n    <tr>\n      <th>37</th>\n      <td>Lithuania</td>\n      <td>Central and Eastern Europe</td>\n      <td>6.255</td>\n      <td>10.499</td>\n      <td>0.935</td>\n      <td>67.906</td>\n      <td>0.773</td>\n      <td>-0.203</td>\n      <td>0.826</td>\n      <td>0.40</td>\n      <td>1796.0</td>\n      <td>141955.0</td>\n      <td>2,760,000</td>\n      <td>65.07</td>\n      <td>5143.30</td>\n      <td>1</td>\n    </tr>\n    <tr>\n      <th>71</th>\n      <td>Montenegro</td>\n      <td>Central and Eastern Europe</td>\n      <td>5.581</td>\n      <td>9.940</td>\n      <td>0.858</td>\n      <td>68.699</td>\n      <td>0.708</td>\n      <td>-0.034</td>\n      <td>0.812</td>\n      <td>0.55</td>\n      <td>682.0</td>\n      <td>48247.0</td>\n      <td>622,000</td>\n      <td>109.65</td>\n      <td>7756.75</td>\n      <td>0</td>\n    </tr>\n    <tr>\n      <th>28</th>\n      <td>Slovenia</td>\n      <td>Central and Eastern Europe</td>\n      <td>6.461</td>\n      <td>10.529</td>\n      <td>0.948</td>\n      <td>71.400</td>\n      <td>0.949</td>\n      <td>-0.101</td>\n      <td>0.806</td>\n      <td>0.40</td>\n      <td>2697.0</td>\n      <td>122152.0</td>\n      <td>2,088,000</td>\n      <td>129.17</td>\n      <td>5850.19</td>\n      <td>1</td>\n    </tr>\n    <tr>\n      <th>50</th>\n      <td>Latvia</td>\n      <td>Central and Eastern Europe</td>\n      <td>6.032</td>\n      <td>10.315</td>\n      <td>0.927</td>\n      <td>67.100</td>\n      <td>0.715</td>\n      <td>-0.162</td>\n      <td>0.800</td>\n      <td>0.43</td>\n      <td>635.0</td>\n      <td>40904.0</td>\n      <td>1,894,000</td>\n      <td>33.53</td>\n      <td>2159.66</td>\n      <td>1</td>\n    </tr>\n    <tr>\n      <th>43</th>\n      <td>Poland</td>\n      <td>Central and Eastern Europe</td>\n      <td>6.166</td>\n      <td>10.382</td>\n      <td>0.898</td>\n      <td>69.702</td>\n      <td>0.841</td>\n      <td>-0.165</td>\n      <td>0.735</td>\n      <td>0.44</td>\n      <td>28554.0</td>\n      <td>1294878.0</td>\n      <td>37,914,000</td>\n      <td>75.31</td>\n      <td>3415.30</td>\n      <td>1</td>\n    </tr>\n    <tr>\n      <th>39</th>\n      <td>Estonia</td>\n      <td>Central and Eastern Europe</td>\n      <td>6.189</td>\n      <td>10.481</td>\n      <td>0.941</td>\n      <td>68.800</td>\n      <td>0.909</td>\n      <td>-0.106</td>\n      <td>0.527</td>\n      <td>0.25</td>\n      <td>229.0</td>\n      <td>27990.0</td>\n      <td>1,325,000</td>\n      <td>17.28</td>\n      <td>2112.45</td>\n      <td>1</td>\n    </tr>\n  </tbody>\n</table>\n</div>"
     },
     "metadata": {},
     "execution_count": 116
    }
   ],
   "source": [
    "cee.sort_values(by = 'perceptions_of_corruption', ascending = False)"
   ]
  },
  {
   "cell_type": "code",
   "execution_count": 117,
   "id": "86226cc2",
   "metadata": {},
   "outputs": [
    {
     "output_type": "execute_result",
     "data": {
      "text/plain": [
       "                 country              region  score  log_gdp_cap  \\\n",
       "144              Lesotho  Sub-Saharan Africa  3.512        7.926   \n",
       "115              Nigeria  Sub-Saharan Africa  4.759        8.533   \n",
       "137         Sierra Leone  Sub-Saharan Africa  3.849        7.434   \n",
       "102         South Africa  Sub-Saharan Africa  4.956        9.403   \n",
       "118               Uganda  Sub-Saharan Africa  4.636        7.677   \n",
       "119              Liberia  Sub-Saharan Africa  4.625        7.288   \n",
       "90              Cameroon  Sub-Saharan Africa  5.142        8.189   \n",
       "94                 Ghana  Sub-Saharan Africa  5.088        8.580   \n",
       "123              Namibia  Sub-Saharan Africa  4.574        9.161   \n",
       "111                Gabon  Sub-Saharan Africa  4.852        9.603   \n",
       "116                 Mali  Sub-Saharan Africa  4.723        7.744   \n",
       "120                Kenya  Sub-Saharan Africa  4.607        8.361   \n",
       "136               Zambia  Sub-Saharan Africa  4.073        8.145   \n",
       "147             Zimbabwe  Sub-Saharan Africa  3.145        7.943   \n",
       "127                 Chad  Sub-Saharan Africa  4.355        7.364   \n",
       "134           Madagascar  Sub-Saharan Africa  4.208        7.396   \n",
       "145             Botswana  Sub-Saharan Africa  3.467        9.782   \n",
       "91               Senegal  Sub-Saharan Africa  5.132        8.118   \n",
       "84           Ivory Coast  Sub-Saharan Africa  5.306        8.551   \n",
       "49             Mauritius  Sub-Saharan Africa  6.049       10.008   \n",
       "130              Comoros  Sub-Saharan Africa  4.289        8.031   \n",
       "135                 Togo  Sub-Saharan Africa  4.107        7.362   \n",
       "101               Guinea  Sub-Saharan Africa  4.984        7.838   \n",
       "132             Ethiopia  Sub-Saharan Africa  4.275        7.694   \n",
       "112         Burkina Faso  Sub-Saharan Africa  4.834        7.678   \n",
       "97                Gambia  Sub-Saharan Africa  5.051        7.686   \n",
       "82   Congo (Brazzaville)  Sub-Saharan Africa  5.342        8.117   \n",
       "133           Mauritania  Sub-Saharan Africa  4.227        8.542   \n",
       "143               Malawi  Sub-Saharan Africa  3.600        6.958   \n",
       "129             Eswatini  Sub-Saharan Africa  4.308        9.065   \n",
       "95                 Niger  Sub-Saharan Africa  5.074        7.098   \n",
       "114           Mozambique  Sub-Saharan Africa  4.794        7.158   \n",
       "98                 Benin  Sub-Saharan Africa  5.045        8.087   \n",
       "139              Burundi  Sub-Saharan Africa  3.775        6.635   \n",
       "141             Tanzania  Sub-Saharan Africa  3.623        7.876   \n",
       "146               Rwanda  Sub-Saharan Africa  3.415        7.676   \n",
       "\n",
       "     social_support  life_expectancy  freedom_to_make_life_choices  \\\n",
       "144           0.787           48.700                         0.715   \n",
       "115           0.740           50.102                         0.737   \n",
       "137           0.630           51.651                         0.717   \n",
       "102           0.860           56.904                         0.749   \n",
       "118           0.781           56.101                         0.709   \n",
       "119           0.720           56.498                         0.735   \n",
       "90            0.710           53.515                         0.731   \n",
       "94            0.727           57.586                         0.807   \n",
       "123           0.818           56.799                         0.719   \n",
       "111           0.776           59.962                         0.731   \n",
       "116           0.724           51.969                         0.697   \n",
       "120           0.688           60.704                         0.779   \n",
       "136           0.708           55.809                         0.782   \n",
       "147           0.750           56.201                         0.677   \n",
       "127           0.619           48.478                         0.579   \n",
       "134           0.686           59.305                         0.552   \n",
       "145           0.784           59.269                         0.824   \n",
       "91            0.710           59.802                         0.695   \n",
       "84            0.644           50.114                         0.741   \n",
       "49            0.905           66.701                         0.867   \n",
       "130           0.626           57.349                         0.548   \n",
       "135           0.569           54.914                         0.619   \n",
       "101           0.639           55.008                         0.697   \n",
       "132           0.764           59.000                         0.752   \n",
       "112           0.672           54.151                         0.695   \n",
       "97            0.690           55.160                         0.697   \n",
       "82            0.636           58.221                         0.695   \n",
       "133           0.795           57.161                         0.561   \n",
       "143           0.537           57.948                         0.780   \n",
       "129           0.770           50.833                         0.647   \n",
       "95            0.641           53.780                         0.806   \n",
       "114           0.744           54.706                         0.882   \n",
       "98            0.489           54.713                         0.757   \n",
       "139           0.490           53.400                         0.626   \n",
       "141           0.702           57.999                         0.833   \n",
       "146           0.552           61.400                         0.897   \n",
       "\n",
       "     generosity  perceptions_of_corruption  ti_corrupt_harmonized  \\\n",
       "144      -0.131                      0.915                   0.59   \n",
       "115       0.037                      0.878                   0.75   \n",
       "137       0.084                      0.866                   0.67   \n",
       "102      -0.067                      0.860                   0.56   \n",
       "118       0.122                      0.855                   0.73   \n",
       "119       0.050                      0.850                   0.72   \n",
       "90        0.026                      0.848                   0.75   \n",
       "94        0.123                      0.848                   0.57   \n",
       "123      -0.149                      0.847                   0.49   \n",
       "111      -0.200                      0.840                   0.70   \n",
       "116      -0.036                      0.827                   0.70   \n",
       "120       0.287                      0.825                   0.69   \n",
       "136       0.061                      0.823                   0.67   \n",
       "147      -0.047                      0.821                   0.76   \n",
       "127       0.041                      0.807                   0.79   \n",
       "134      -0.005                      0.803                   0.75   \n",
       "145      -0.246                      0.801                   0.40   \n",
       "91       -0.046                      0.801                   0.55   \n",
       "84       -0.016                      0.794                   0.64   \n",
       "49       -0.054                      0.789                   0.47   \n",
       "130       0.082                      0.781                   0.79   \n",
       "135       0.032                      0.772                   0.71   \n",
       "101       0.095                      0.766                   0.72   \n",
       "132       0.082                      0.761                   0.62   \n",
       "112      -0.009                      0.748                   0.60   \n",
       "97        0.424                      0.746                   0.63   \n",
       "82       -0.068                      0.745                   0.81   \n",
       "133      -0.106                      0.731                   0.71   \n",
       "143       0.038                      0.729                   0.70   \n",
       "129      -0.185                      0.708                   0.67   \n",
       "95        0.018                      0.693                   0.68   \n",
       "114       0.061                      0.684                   0.75   \n",
       "98       -0.034                      0.661                   0.59   \n",
       "139      -0.024                      0.607                   0.81   \n",
       "141       0.183                      0.577                   0.62   \n",
       "146       0.061                      0.167                   0.46   \n",
       "\n",
       "     covid_deaths  covid_cases      pop_2020   death_100k  cases_100k  oecd  \n",
       "144          51.0       3094.0     2,142,000         2.38      144.44     0  \n",
       "115        1289.0      87607.0   206,140,000         0.63       42.50     0  \n",
       "137          76.0       2611.0     7,977,000         0.95       32.73     0  \n",
       "102       28469.0    1057161.0    59,309,000        48.00     1782.46     0  \n",
       "118         251.0      35216.0    45,741,000         0.55       76.99     0  \n",
       "119          83.0       1779.0     5,058,000         1.64       35.17     0  \n",
       "90          448.0      26277.0    26,546,000         1.69       98.99     0  \n",
       "94          335.0      54771.0    31,073,000         1.08      176.27     0  \n",
       "123         205.0      23941.0     2,541,000         8.07      942.19     0  \n",
       "111          64.0       9571.0     2,226,000         2.88      429.96     0  \n",
       "116         269.0       7090.0    20,251,000         1.33       35.01     0  \n",
       "120        1670.0      96458.0    53,771,000         3.11      179.39     0  \n",
       "136         388.0      20725.0    18,384,000         2.11      112.73     0  \n",
       "147         363.0      13867.0    14,863,000         2.44       93.30     0  \n",
       "127         104.0       2113.0    16,426,000         0.63       12.86     0  \n",
       "134         261.0      17714.0    27,691,000         0.94       63.97     0  \n",
       "145          42.0      14805.0     2,352,000         1.79      629.46     0  \n",
       "91          410.0      19140.0    16,744,000         2.45      114.31     0  \n",
       "84          137.0      22490.0    26,378,000         0.52       85.26     0  \n",
       "49           10.0        527.0     1,268,000         0.79       41.56     0  \n",
       "130          10.0        823.0       870,000         1.15       94.60     0  \n",
       "135          68.0       3633.0     8,279,000         0.82       43.88     0  \n",
       "101          81.0      13722.0    13,133,000         0.62      104.48     0  \n",
       "132        1923.0     124264.0   114,964,000         1.67      108.09     0  \n",
       "112          85.0       6707.0    20,903,000         0.41       32.09     0  \n",
       "97          124.0       3797.0     2,417,000         5.13      157.10     0  \n",
       "82          108.0       7107.0     5,518,000         1.96      128.80     0  \n",
       "133         347.0      14364.0     4,650,000         7.46      308.90     0  \n",
       "143         189.0       6583.0    19,130,000         0.99       34.41     0  \n",
       "129         205.0       9358.0     1,160,000        17.67      806.72     0  \n",
       "95          104.0       3323.0    24,207,000         0.43       13.73     0  \n",
       "114         166.0      18642.0    31,255,000         0.53       59.64     0  \n",
       "98           44.0       3251.0    12,123,000         0.36       26.82     0  \n",
       "139           2.0        818.0    11,891,000         0.02        6.88     0  \n",
       "141          21.0        509.0    59,734,000         0.04        0.85     0  \n",
       "146          92.0       8383.0    12,952,000         0.71       64.72     0  "
      ],
      "text/html": "<div>\n<style scoped>\n    .dataframe tbody tr th:only-of-type {\n        vertical-align: middle;\n    }\n\n    .dataframe tbody tr th {\n        vertical-align: top;\n    }\n\n    .dataframe thead th {\n        text-align: right;\n    }\n</style>\n<table border=\"1\" class=\"dataframe\">\n  <thead>\n    <tr style=\"text-align: right;\">\n      <th></th>\n      <th>country</th>\n      <th>region</th>\n      <th>score</th>\n      <th>log_gdp_cap</th>\n      <th>social_support</th>\n      <th>life_expectancy</th>\n      <th>freedom_to_make_life_choices</th>\n      <th>generosity</th>\n      <th>perceptions_of_corruption</th>\n      <th>ti_corrupt_harmonized</th>\n      <th>covid_deaths</th>\n      <th>covid_cases</th>\n      <th>pop_2020</th>\n      <th>death_100k</th>\n      <th>cases_100k</th>\n      <th>oecd</th>\n    </tr>\n  </thead>\n  <tbody>\n    <tr>\n      <th>144</th>\n      <td>Lesotho</td>\n      <td>Sub-Saharan Africa</td>\n      <td>3.512</td>\n      <td>7.926</td>\n      <td>0.787</td>\n      <td>48.700</td>\n      <td>0.715</td>\n      <td>-0.131</td>\n      <td>0.915</td>\n      <td>0.59</td>\n      <td>51.0</td>\n      <td>3094.0</td>\n      <td>2,142,000</td>\n      <td>2.38</td>\n      <td>144.44</td>\n      <td>0</td>\n    </tr>\n    <tr>\n      <th>115</th>\n      <td>Nigeria</td>\n      <td>Sub-Saharan Africa</td>\n      <td>4.759</td>\n      <td>8.533</td>\n      <td>0.740</td>\n      <td>50.102</td>\n      <td>0.737</td>\n      <td>0.037</td>\n      <td>0.878</td>\n      <td>0.75</td>\n      <td>1289.0</td>\n      <td>87607.0</td>\n      <td>206,140,000</td>\n      <td>0.63</td>\n      <td>42.50</td>\n      <td>0</td>\n    </tr>\n    <tr>\n      <th>137</th>\n      <td>Sierra Leone</td>\n      <td>Sub-Saharan Africa</td>\n      <td>3.849</td>\n      <td>7.434</td>\n      <td>0.630</td>\n      <td>51.651</td>\n      <td>0.717</td>\n      <td>0.084</td>\n      <td>0.866</td>\n      <td>0.67</td>\n      <td>76.0</td>\n      <td>2611.0</td>\n      <td>7,977,000</td>\n      <td>0.95</td>\n      <td>32.73</td>\n      <td>0</td>\n    </tr>\n    <tr>\n      <th>102</th>\n      <td>South Africa</td>\n      <td>Sub-Saharan Africa</td>\n      <td>4.956</td>\n      <td>9.403</td>\n      <td>0.860</td>\n      <td>56.904</td>\n      <td>0.749</td>\n      <td>-0.067</td>\n      <td>0.860</td>\n      <td>0.56</td>\n      <td>28469.0</td>\n      <td>1057161.0</td>\n      <td>59,309,000</td>\n      <td>48.00</td>\n      <td>1782.46</td>\n      <td>0</td>\n    </tr>\n    <tr>\n      <th>118</th>\n      <td>Uganda</td>\n      <td>Sub-Saharan Africa</td>\n      <td>4.636</td>\n      <td>7.677</td>\n      <td>0.781</td>\n      <td>56.101</td>\n      <td>0.709</td>\n      <td>0.122</td>\n      <td>0.855</td>\n      <td>0.73</td>\n      <td>251.0</td>\n      <td>35216.0</td>\n      <td>45,741,000</td>\n      <td>0.55</td>\n      <td>76.99</td>\n      <td>0</td>\n    </tr>\n    <tr>\n      <th>119</th>\n      <td>Liberia</td>\n      <td>Sub-Saharan Africa</td>\n      <td>4.625</td>\n      <td>7.288</td>\n      <td>0.720</td>\n      <td>56.498</td>\n      <td>0.735</td>\n      <td>0.050</td>\n      <td>0.850</td>\n      <td>0.72</td>\n      <td>83.0</td>\n      <td>1779.0</td>\n      <td>5,058,000</td>\n      <td>1.64</td>\n      <td>35.17</td>\n      <td>0</td>\n    </tr>\n    <tr>\n      <th>90</th>\n      <td>Cameroon</td>\n      <td>Sub-Saharan Africa</td>\n      <td>5.142</td>\n      <td>8.189</td>\n      <td>0.710</td>\n      <td>53.515</td>\n      <td>0.731</td>\n      <td>0.026</td>\n      <td>0.848</td>\n      <td>0.75</td>\n      <td>448.0</td>\n      <td>26277.0</td>\n      <td>26,546,000</td>\n      <td>1.69</td>\n      <td>98.99</td>\n      <td>0</td>\n    </tr>\n    <tr>\n      <th>94</th>\n      <td>Ghana</td>\n      <td>Sub-Saharan Africa</td>\n      <td>5.088</td>\n      <td>8.580</td>\n      <td>0.727</td>\n      <td>57.586</td>\n      <td>0.807</td>\n      <td>0.123</td>\n      <td>0.848</td>\n      <td>0.57</td>\n      <td>335.0</td>\n      <td>54771.0</td>\n      <td>31,073,000</td>\n      <td>1.08</td>\n      <td>176.27</td>\n      <td>0</td>\n    </tr>\n    <tr>\n      <th>123</th>\n      <td>Namibia</td>\n      <td>Sub-Saharan Africa</td>\n      <td>4.574</td>\n      <td>9.161</td>\n      <td>0.818</td>\n      <td>56.799</td>\n      <td>0.719</td>\n      <td>-0.149</td>\n      <td>0.847</td>\n      <td>0.49</td>\n      <td>205.0</td>\n      <td>23941.0</td>\n      <td>2,541,000</td>\n      <td>8.07</td>\n      <td>942.19</td>\n      <td>0</td>\n    </tr>\n    <tr>\n      <th>111</th>\n      <td>Gabon</td>\n      <td>Sub-Saharan Africa</td>\n      <td>4.852</td>\n      <td>9.603</td>\n      <td>0.776</td>\n      <td>59.962</td>\n      <td>0.731</td>\n      <td>-0.200</td>\n      <td>0.840</td>\n      <td>0.70</td>\n      <td>64.0</td>\n      <td>9571.0</td>\n      <td>2,226,000</td>\n      <td>2.88</td>\n      <td>429.96</td>\n      <td>0</td>\n    </tr>\n    <tr>\n      <th>116</th>\n      <td>Mali</td>\n      <td>Sub-Saharan Africa</td>\n      <td>4.723</td>\n      <td>7.744</td>\n      <td>0.724</td>\n      <td>51.969</td>\n      <td>0.697</td>\n      <td>-0.036</td>\n      <td>0.827</td>\n      <td>0.70</td>\n      <td>269.0</td>\n      <td>7090.0</td>\n      <td>20,251,000</td>\n      <td>1.33</td>\n      <td>35.01</td>\n      <td>0</td>\n    </tr>\n    <tr>\n      <th>120</th>\n      <td>Kenya</td>\n      <td>Sub-Saharan Africa</td>\n      <td>4.607</td>\n      <td>8.361</td>\n      <td>0.688</td>\n      <td>60.704</td>\n      <td>0.779</td>\n      <td>0.287</td>\n      <td>0.825</td>\n      <td>0.69</td>\n      <td>1670.0</td>\n      <td>96458.0</td>\n      <td>53,771,000</td>\n      <td>3.11</td>\n      <td>179.39</td>\n      <td>0</td>\n    </tr>\n    <tr>\n      <th>136</th>\n      <td>Zambia</td>\n      <td>Sub-Saharan Africa</td>\n      <td>4.073</td>\n      <td>8.145</td>\n      <td>0.708</td>\n      <td>55.809</td>\n      <td>0.782</td>\n      <td>0.061</td>\n      <td>0.823</td>\n      <td>0.67</td>\n      <td>388.0</td>\n      <td>20725.0</td>\n      <td>18,384,000</td>\n      <td>2.11</td>\n      <td>112.73</td>\n      <td>0</td>\n    </tr>\n    <tr>\n      <th>147</th>\n      <td>Zimbabwe</td>\n      <td>Sub-Saharan Africa</td>\n      <td>3.145</td>\n      <td>7.943</td>\n      <td>0.750</td>\n      <td>56.201</td>\n      <td>0.677</td>\n      <td>-0.047</td>\n      <td>0.821</td>\n      <td>0.76</td>\n      <td>363.0</td>\n      <td>13867.0</td>\n      <td>14,863,000</td>\n      <td>2.44</td>\n      <td>93.30</td>\n      <td>0</td>\n    </tr>\n    <tr>\n      <th>127</th>\n      <td>Chad</td>\n      <td>Sub-Saharan Africa</td>\n      <td>4.355</td>\n      <td>7.364</td>\n      <td>0.619</td>\n      <td>48.478</td>\n      <td>0.579</td>\n      <td>0.041</td>\n      <td>0.807</td>\n      <td>0.79</td>\n      <td>104.0</td>\n      <td>2113.0</td>\n      <td>16,426,000</td>\n      <td>0.63</td>\n      <td>12.86</td>\n      <td>0</td>\n    </tr>\n    <tr>\n      <th>134</th>\n      <td>Madagascar</td>\n      <td>Sub-Saharan Africa</td>\n      <td>4.208</td>\n      <td>7.396</td>\n      <td>0.686</td>\n      <td>59.305</td>\n      <td>0.552</td>\n      <td>-0.005</td>\n      <td>0.803</td>\n      <td>0.75</td>\n      <td>261.0</td>\n      <td>17714.0</td>\n      <td>27,691,000</td>\n      <td>0.94</td>\n      <td>63.97</td>\n      <td>0</td>\n    </tr>\n    <tr>\n      <th>145</th>\n      <td>Botswana</td>\n      <td>Sub-Saharan Africa</td>\n      <td>3.467</td>\n      <td>9.782</td>\n      <td>0.784</td>\n      <td>59.269</td>\n      <td>0.824</td>\n      <td>-0.246</td>\n      <td>0.801</td>\n      <td>0.40</td>\n      <td>42.0</td>\n      <td>14805.0</td>\n      <td>2,352,000</td>\n      <td>1.79</td>\n      <td>629.46</td>\n      <td>0</td>\n    </tr>\n    <tr>\n      <th>91</th>\n      <td>Senegal</td>\n      <td>Sub-Saharan Africa</td>\n      <td>5.132</td>\n      <td>8.118</td>\n      <td>0.710</td>\n      <td>59.802</td>\n      <td>0.695</td>\n      <td>-0.046</td>\n      <td>0.801</td>\n      <td>0.55</td>\n      <td>410.0</td>\n      <td>19140.0</td>\n      <td>16,744,000</td>\n      <td>2.45</td>\n      <td>114.31</td>\n      <td>0</td>\n    </tr>\n    <tr>\n      <th>84</th>\n      <td>Ivory Coast</td>\n      <td>Sub-Saharan Africa</td>\n      <td>5.306</td>\n      <td>8.551</td>\n      <td>0.644</td>\n      <td>50.114</td>\n      <td>0.741</td>\n      <td>-0.016</td>\n      <td>0.794</td>\n      <td>0.64</td>\n      <td>137.0</td>\n      <td>22490.0</td>\n      <td>26,378,000</td>\n      <td>0.52</td>\n      <td>85.26</td>\n      <td>0</td>\n    </tr>\n    <tr>\n      <th>49</th>\n      <td>Mauritius</td>\n      <td>Sub-Saharan Africa</td>\n      <td>6.049</td>\n      <td>10.008</td>\n      <td>0.905</td>\n      <td>66.701</td>\n      <td>0.867</td>\n      <td>-0.054</td>\n      <td>0.789</td>\n      <td>0.47</td>\n      <td>10.0</td>\n      <td>527.0</td>\n      <td>1,268,000</td>\n      <td>0.79</td>\n      <td>41.56</td>\n      <td>0</td>\n    </tr>\n    <tr>\n      <th>130</th>\n      <td>Comoros</td>\n      <td>Sub-Saharan Africa</td>\n      <td>4.289</td>\n      <td>8.031</td>\n      <td>0.626</td>\n      <td>57.349</td>\n      <td>0.548</td>\n      <td>0.082</td>\n      <td>0.781</td>\n      <td>0.79</td>\n      <td>10.0</td>\n      <td>823.0</td>\n      <td>870,000</td>\n      <td>1.15</td>\n      <td>94.60</td>\n      <td>0</td>\n    </tr>\n    <tr>\n      <th>135</th>\n      <td>Togo</td>\n      <td>Sub-Saharan Africa</td>\n      <td>4.107</td>\n      <td>7.362</td>\n      <td>0.569</td>\n      <td>54.914</td>\n      <td>0.619</td>\n      <td>0.032</td>\n      <td>0.772</td>\n      <td>0.71</td>\n      <td>68.0</td>\n      <td>3633.0</td>\n      <td>8,279,000</td>\n      <td>0.82</td>\n      <td>43.88</td>\n      <td>0</td>\n    </tr>\n    <tr>\n      <th>101</th>\n      <td>Guinea</td>\n      <td>Sub-Saharan Africa</td>\n      <td>4.984</td>\n      <td>7.838</td>\n      <td>0.639</td>\n      <td>55.008</td>\n      <td>0.697</td>\n      <td>0.095</td>\n      <td>0.766</td>\n      <td>0.72</td>\n      <td>81.0</td>\n      <td>13722.0</td>\n      <td>13,133,000</td>\n      <td>0.62</td>\n      <td>104.48</td>\n      <td>0</td>\n    </tr>\n    <tr>\n      <th>132</th>\n      <td>Ethiopia</td>\n      <td>Sub-Saharan Africa</td>\n      <td>4.275</td>\n      <td>7.694</td>\n      <td>0.764</td>\n      <td>59.000</td>\n      <td>0.752</td>\n      <td>0.082</td>\n      <td>0.761</td>\n      <td>0.62</td>\n      <td>1923.0</td>\n      <td>124264.0</td>\n      <td>114,964,000</td>\n      <td>1.67</td>\n      <td>108.09</td>\n      <td>0</td>\n    </tr>\n    <tr>\n      <th>112</th>\n      <td>Burkina Faso</td>\n      <td>Sub-Saharan Africa</td>\n      <td>4.834</td>\n      <td>7.678</td>\n      <td>0.672</td>\n      <td>54.151</td>\n      <td>0.695</td>\n      <td>-0.009</td>\n      <td>0.748</td>\n      <td>0.60</td>\n      <td>85.0</td>\n      <td>6707.0</td>\n      <td>20,903,000</td>\n      <td>0.41</td>\n      <td>32.09</td>\n      <td>0</td>\n    </tr>\n    <tr>\n      <th>97</th>\n      <td>Gambia</td>\n      <td>Sub-Saharan Africa</td>\n      <td>5.051</td>\n      <td>7.686</td>\n      <td>0.690</td>\n      <td>55.160</td>\n      <td>0.697</td>\n      <td>0.424</td>\n      <td>0.746</td>\n      <td>0.63</td>\n      <td>124.0</td>\n      <td>3797.0</td>\n      <td>2,417,000</td>\n      <td>5.13</td>\n      <td>157.10</td>\n      <td>0</td>\n    </tr>\n    <tr>\n      <th>82</th>\n      <td>Congo (Brazzaville)</td>\n      <td>Sub-Saharan Africa</td>\n      <td>5.342</td>\n      <td>8.117</td>\n      <td>0.636</td>\n      <td>58.221</td>\n      <td>0.695</td>\n      <td>-0.068</td>\n      <td>0.745</td>\n      <td>0.81</td>\n      <td>108.0</td>\n      <td>7107.0</td>\n      <td>5,518,000</td>\n      <td>1.96</td>\n      <td>128.80</td>\n      <td>0</td>\n    </tr>\n    <tr>\n      <th>133</th>\n      <td>Mauritania</td>\n      <td>Sub-Saharan Africa</td>\n      <td>4.227</td>\n      <td>8.542</td>\n      <td>0.795</td>\n      <td>57.161</td>\n      <td>0.561</td>\n      <td>-0.106</td>\n      <td>0.731</td>\n      <td>0.71</td>\n      <td>347.0</td>\n      <td>14364.0</td>\n      <td>4,650,000</td>\n      <td>7.46</td>\n      <td>308.90</td>\n      <td>0</td>\n    </tr>\n    <tr>\n      <th>143</th>\n      <td>Malawi</td>\n      <td>Sub-Saharan Africa</td>\n      <td>3.600</td>\n      <td>6.958</td>\n      <td>0.537</td>\n      <td>57.948</td>\n      <td>0.780</td>\n      <td>0.038</td>\n      <td>0.729</td>\n      <td>0.70</td>\n      <td>189.0</td>\n      <td>6583.0</td>\n      <td>19,130,000</td>\n      <td>0.99</td>\n      <td>34.41</td>\n      <td>0</td>\n    </tr>\n    <tr>\n      <th>129</th>\n      <td>Eswatini</td>\n      <td>Sub-Saharan Africa</td>\n      <td>4.308</td>\n      <td>9.065</td>\n      <td>0.770</td>\n      <td>50.833</td>\n      <td>0.647</td>\n      <td>-0.185</td>\n      <td>0.708</td>\n      <td>0.67</td>\n      <td>205.0</td>\n      <td>9358.0</td>\n      <td>1,160,000</td>\n      <td>17.67</td>\n      <td>806.72</td>\n      <td>0</td>\n    </tr>\n    <tr>\n      <th>95</th>\n      <td>Niger</td>\n      <td>Sub-Saharan Africa</td>\n      <td>5.074</td>\n      <td>7.098</td>\n      <td>0.641</td>\n      <td>53.780</td>\n      <td>0.806</td>\n      <td>0.018</td>\n      <td>0.693</td>\n      <td>0.68</td>\n      <td>104.0</td>\n      <td>3323.0</td>\n      <td>24,207,000</td>\n      <td>0.43</td>\n      <td>13.73</td>\n      <td>0</td>\n    </tr>\n    <tr>\n      <th>114</th>\n      <td>Mozambique</td>\n      <td>Sub-Saharan Africa</td>\n      <td>4.794</td>\n      <td>7.158</td>\n      <td>0.744</td>\n      <td>54.706</td>\n      <td>0.882</td>\n      <td>0.061</td>\n      <td>0.684</td>\n      <td>0.75</td>\n      <td>166.0</td>\n      <td>18642.0</td>\n      <td>31,255,000</td>\n      <td>0.53</td>\n      <td>59.64</td>\n      <td>0</td>\n    </tr>\n    <tr>\n      <th>98</th>\n      <td>Benin</td>\n      <td>Sub-Saharan Africa</td>\n      <td>5.045</td>\n      <td>8.087</td>\n      <td>0.489</td>\n      <td>54.713</td>\n      <td>0.757</td>\n      <td>-0.034</td>\n      <td>0.661</td>\n      <td>0.59</td>\n      <td>44.0</td>\n      <td>3251.0</td>\n      <td>12,123,000</td>\n      <td>0.36</td>\n      <td>26.82</td>\n      <td>0</td>\n    </tr>\n    <tr>\n      <th>139</th>\n      <td>Burundi</td>\n      <td>Sub-Saharan Africa</td>\n      <td>3.775</td>\n      <td>6.635</td>\n      <td>0.490</td>\n      <td>53.400</td>\n      <td>0.626</td>\n      <td>-0.024</td>\n      <td>0.607</td>\n      <td>0.81</td>\n      <td>2.0</td>\n      <td>818.0</td>\n      <td>11,891,000</td>\n      <td>0.02</td>\n      <td>6.88</td>\n      <td>0</td>\n    </tr>\n    <tr>\n      <th>141</th>\n      <td>Tanzania</td>\n      <td>Sub-Saharan Africa</td>\n      <td>3.623</td>\n      <td>7.876</td>\n      <td>0.702</td>\n      <td>57.999</td>\n      <td>0.833</td>\n      <td>0.183</td>\n      <td>0.577</td>\n      <td>0.62</td>\n      <td>21.0</td>\n      <td>509.0</td>\n      <td>59,734,000</td>\n      <td>0.04</td>\n      <td>0.85</td>\n      <td>0</td>\n    </tr>\n    <tr>\n      <th>146</th>\n      <td>Rwanda</td>\n      <td>Sub-Saharan Africa</td>\n      <td>3.415</td>\n      <td>7.676</td>\n      <td>0.552</td>\n      <td>61.400</td>\n      <td>0.897</td>\n      <td>0.061</td>\n      <td>0.167</td>\n      <td>0.46</td>\n      <td>92.0</td>\n      <td>8383.0</td>\n      <td>12,952,000</td>\n      <td>0.71</td>\n      <td>64.72</td>\n      <td>0</td>\n    </tr>\n  </tbody>\n</table>\n</div>"
     },
     "metadata": {},
     "execution_count": 117
    }
   ],
   "source": [
    "#lower corruption perception values = less (perceived) corruption\n",
    "ssa.sort_values(by = 'perceptions_of_corruption', ascending = False)"
   ]
  },
  {
   "cell_type": "code",
   "execution_count": 118,
   "id": "894215dc",
   "metadata": {},
   "outputs": [
    {
     "output_type": "execute_result",
     "data": {
      "text/plain": [
       "                country                       region  score  log_gdp_cap  \\\n",
       "15           Costa Rica  Latin America and Caribbean  7.069        9.880   \n",
       "29            Guatemala  Latin America and Caribbean  6.435        9.053   \n",
       "30              Uruguay  Latin America and Caribbean  6.431        9.966   \n",
       "34               Brazil  Latin America and Caribbean  6.330        9.577   \n",
       "35               Mexico  Latin America and Caribbean  6.317        9.859   \n",
       "36              Jamaica  Latin America and Caribbean  6.309        9.186   \n",
       "40               Panama  Latin America and Caribbean  6.180       10.350   \n",
       "42                Chile  Latin America and Caribbean  6.172       10.071   \n",
       "48          El Salvador  Latin America and Caribbean  6.061        9.054   \n",
       "51             Colombia  Latin America and Caribbean  6.012        9.557   \n",
       "54            Nicaragua  Latin America and Caribbean  5.972        8.620   \n",
       "56            Argentina  Latin America and Caribbean  5.929        9.962   \n",
       "58             Honduras  Latin America and Caribbean  5.919        8.648   \n",
       "62                 Peru  Latin America and Caribbean  5.840        9.458   \n",
       "65              Ecuador  Latin America and Caribbean  5.764        9.313   \n",
       "68              Bolivia  Latin America and Caribbean  5.716        9.046   \n",
       "70             Paraguay  Latin America and Caribbean  5.653        9.448   \n",
       "72   Dominican Republic  Latin America and Caribbean  5.545        9.802   \n",
       "106           Venezuela  Latin America and Caribbean  4.892        9.073   \n",
       "142               Haiti  Latin America and Caribbean  3.615        7.477   \n",
       "\n",
       "     social_support  life_expectancy  freedom_to_make_life_choices  \\\n",
       "15            0.891           71.400                         0.934   \n",
       "29            0.813           64.958                         0.906   \n",
       "30            0.925           69.100                         0.896   \n",
       "34            0.882           66.601                         0.804   \n",
       "35            0.831           68.597                         0.862   \n",
       "36            0.877           67.500                         0.890   \n",
       "40            0.896           69.652                         0.872   \n",
       "42            0.882           70.000                         0.742   \n",
       "48            0.762           66.402                         0.888   \n",
       "51            0.847           68.001                         0.837   \n",
       "54            0.864           67.657                         0.836   \n",
       "56            0.898           69.000                         0.828   \n",
       "58            0.812           67.300                         0.857   \n",
       "62            0.832           68.250                         0.822   \n",
       "65            0.821           68.800                         0.842   \n",
       "68            0.810           63.901                         0.875   \n",
       "70            0.893           65.900                         0.876   \n",
       "72            0.853           66.102                         0.860   \n",
       "106           0.861           66.700                         0.615   \n",
       "142           0.540           55.700                         0.593   \n",
       "\n",
       "     generosity  perceptions_of_corruption  ti_corrupt_harmonized  \\\n",
       "15       -0.126                      0.809                   0.43   \n",
       "29       -0.038                      0.775                   0.75   \n",
       "30       -0.092                      0.590                   0.29   \n",
       "34       -0.071                      0.756                   0.62   \n",
       "35       -0.147                      0.799                   0.69   \n",
       "36       -0.137                      0.884                   0.56   \n",
       "40       -0.166                      0.856                   0.65   \n",
       "42       -0.044                      0.830                   0.33   \n",
       "48       -0.110                      0.688                   0.64   \n",
       "51       -0.135                      0.841                   0.61   \n",
       "54        0.020                      0.664                   0.78   \n",
       "56       -0.182                      0.834                   0.58   \n",
       "58        0.081                      0.809                   0.76   \n",
       "62       -0.154                      0.891                   0.62   \n",
       "65       -0.124                      0.843                   0.61   \n",
       "68       -0.077                      0.839                   0.69   \n",
       "70        0.028                      0.882                   0.72   \n",
       "72       -0.133                      0.714                   0.72   \n",
       "106      -0.169                      0.827                   0.85   \n",
       "142       0.422                      0.721                   0.82   \n",
       "\n",
       "     covid_deaths  covid_cases      pop_2020   death_100k  cases_100k  oecd  \n",
       "15         2185.0     169321.0     5,094,000        42.89     3323.93     0  \n",
       "29         4813.0     138012.0    16,918,000        28.45      815.77     0  \n",
       "30          181.0      19119.0     3,474,000         5.21      550.35     0  \n",
       "34       194949.0    7675973.0   212,559,000        91.72     3611.22     0  \n",
       "35       125807.0    1426094.0   128,933,000        97.58     1106.07     1  \n",
       "36          302.0      12827.0     2,961,000        10.20      433.20     0  \n",
       "40         4022.0     246790.0     4,315,000        93.21     5719.35     0  \n",
       "42        16608.0     608973.0    19,116,000        86.88     3185.67     1  \n",
       "48         1327.0      46242.0     6,486,000        20.46      712.95     0  \n",
       "51        43213.0    1642775.0    50,883,000        84.93     3228.53     1  \n",
       "54          165.0       6046.0     6,625,000         2.49       91.26     0  \n",
       "56        43245.0    1625514.0    45,350,000        95.36     3584.37     0  \n",
       "58         3130.0     121827.0     9,905,000        31.60     1229.95     0  \n",
       "62        93070.0    1015137.0    32,972,000       282.27     3078.79     0  \n",
       "65        14034.0     212512.0    17,643,000        79.54     1204.51     0  \n",
       "68         9165.0     160124.0    11,673,000        78.51     1371.75     0  \n",
       "70         2262.0     107932.0     7,133,000        31.71     1513.14     0  \n",
       "72         2414.0     170785.0    10,848,000        22.25     1574.35     0  \n",
       "106        1028.0     113558.0    28,436,000         3.62      399.35     0  \n",
       "142         236.0       9999.0    11,403,000         2.07       87.69     0  "
      ],
      "text/html": "<div>\n<style scoped>\n    .dataframe tbody tr th:only-of-type {\n        vertical-align: middle;\n    }\n\n    .dataframe tbody tr th {\n        vertical-align: top;\n    }\n\n    .dataframe thead th {\n        text-align: right;\n    }\n</style>\n<table border=\"1\" class=\"dataframe\">\n  <thead>\n    <tr style=\"text-align: right;\">\n      <th></th>\n      <th>country</th>\n      <th>region</th>\n      <th>score</th>\n      <th>log_gdp_cap</th>\n      <th>social_support</th>\n      <th>life_expectancy</th>\n      <th>freedom_to_make_life_choices</th>\n      <th>generosity</th>\n      <th>perceptions_of_corruption</th>\n      <th>ti_corrupt_harmonized</th>\n      <th>covid_deaths</th>\n      <th>covid_cases</th>\n      <th>pop_2020</th>\n      <th>death_100k</th>\n      <th>cases_100k</th>\n      <th>oecd</th>\n    </tr>\n  </thead>\n  <tbody>\n    <tr>\n      <th>15</th>\n      <td>Costa Rica</td>\n      <td>Latin America and Caribbean</td>\n      <td>7.069</td>\n      <td>9.880</td>\n      <td>0.891</td>\n      <td>71.400</td>\n      <td>0.934</td>\n      <td>-0.126</td>\n      <td>0.809</td>\n      <td>0.43</td>\n      <td>2185.0</td>\n      <td>169321.0</td>\n      <td>5,094,000</td>\n      <td>42.89</td>\n      <td>3323.93</td>\n      <td>0</td>\n    </tr>\n    <tr>\n      <th>29</th>\n      <td>Guatemala</td>\n      <td>Latin America and Caribbean</td>\n      <td>6.435</td>\n      <td>9.053</td>\n      <td>0.813</td>\n      <td>64.958</td>\n      <td>0.906</td>\n      <td>-0.038</td>\n      <td>0.775</td>\n      <td>0.75</td>\n      <td>4813.0</td>\n      <td>138012.0</td>\n      <td>16,918,000</td>\n      <td>28.45</td>\n      <td>815.77</td>\n      <td>0</td>\n    </tr>\n    <tr>\n      <th>30</th>\n      <td>Uruguay</td>\n      <td>Latin America and Caribbean</td>\n      <td>6.431</td>\n      <td>9.966</td>\n      <td>0.925</td>\n      <td>69.100</td>\n      <td>0.896</td>\n      <td>-0.092</td>\n      <td>0.590</td>\n      <td>0.29</td>\n      <td>181.0</td>\n      <td>19119.0</td>\n      <td>3,474,000</td>\n      <td>5.21</td>\n      <td>550.35</td>\n      <td>0</td>\n    </tr>\n    <tr>\n      <th>34</th>\n      <td>Brazil</td>\n      <td>Latin America and Caribbean</td>\n      <td>6.330</td>\n      <td>9.577</td>\n      <td>0.882</td>\n      <td>66.601</td>\n      <td>0.804</td>\n      <td>-0.071</td>\n      <td>0.756</td>\n      <td>0.62</td>\n      <td>194949.0</td>\n      <td>7675973.0</td>\n      <td>212,559,000</td>\n      <td>91.72</td>\n      <td>3611.22</td>\n      <td>0</td>\n    </tr>\n    <tr>\n      <th>35</th>\n      <td>Mexico</td>\n      <td>Latin America and Caribbean</td>\n      <td>6.317</td>\n      <td>9.859</td>\n      <td>0.831</td>\n      <td>68.597</td>\n      <td>0.862</td>\n      <td>-0.147</td>\n      <td>0.799</td>\n      <td>0.69</td>\n      <td>125807.0</td>\n      <td>1426094.0</td>\n      <td>128,933,000</td>\n      <td>97.58</td>\n      <td>1106.07</td>\n      <td>1</td>\n    </tr>\n    <tr>\n      <th>36</th>\n      <td>Jamaica</td>\n      <td>Latin America and Caribbean</td>\n      <td>6.309</td>\n      <td>9.186</td>\n      <td>0.877</td>\n      <td>67.500</td>\n      <td>0.890</td>\n      <td>-0.137</td>\n      <td>0.884</td>\n      <td>0.56</td>\n      <td>302.0</td>\n      <td>12827.0</td>\n      <td>2,961,000</td>\n      <td>10.20</td>\n      <td>433.20</td>\n      <td>0</td>\n    </tr>\n    <tr>\n      <th>40</th>\n      <td>Panama</td>\n      <td>Latin America and Caribbean</td>\n      <td>6.180</td>\n      <td>10.350</td>\n      <td>0.896</td>\n      <td>69.652</td>\n      <td>0.872</td>\n      <td>-0.166</td>\n      <td>0.856</td>\n      <td>0.65</td>\n      <td>4022.0</td>\n      <td>246790.0</td>\n      <td>4,315,000</td>\n      <td>93.21</td>\n      <td>5719.35</td>\n      <td>0</td>\n    </tr>\n    <tr>\n      <th>42</th>\n      <td>Chile</td>\n      <td>Latin America and Caribbean</td>\n      <td>6.172</td>\n      <td>10.071</td>\n      <td>0.882</td>\n      <td>70.000</td>\n      <td>0.742</td>\n      <td>-0.044</td>\n      <td>0.830</td>\n      <td>0.33</td>\n      <td>16608.0</td>\n      <td>608973.0</td>\n      <td>19,116,000</td>\n      <td>86.88</td>\n      <td>3185.67</td>\n      <td>1</td>\n    </tr>\n    <tr>\n      <th>48</th>\n      <td>El Salvador</td>\n      <td>Latin America and Caribbean</td>\n      <td>6.061</td>\n      <td>9.054</td>\n      <td>0.762</td>\n      <td>66.402</td>\n      <td>0.888</td>\n      <td>-0.110</td>\n      <td>0.688</td>\n      <td>0.64</td>\n      <td>1327.0</td>\n      <td>46242.0</td>\n      <td>6,486,000</td>\n      <td>20.46</td>\n      <td>712.95</td>\n      <td>0</td>\n    </tr>\n    <tr>\n      <th>51</th>\n      <td>Colombia</td>\n      <td>Latin America and Caribbean</td>\n      <td>6.012</td>\n      <td>9.557</td>\n      <td>0.847</td>\n      <td>68.001</td>\n      <td>0.837</td>\n      <td>-0.135</td>\n      <td>0.841</td>\n      <td>0.61</td>\n      <td>43213.0</td>\n      <td>1642775.0</td>\n      <td>50,883,000</td>\n      <td>84.93</td>\n      <td>3228.53</td>\n      <td>1</td>\n    </tr>\n    <tr>\n      <th>54</th>\n      <td>Nicaragua</td>\n      <td>Latin America and Caribbean</td>\n      <td>5.972</td>\n      <td>8.620</td>\n      <td>0.864</td>\n      <td>67.657</td>\n      <td>0.836</td>\n      <td>0.020</td>\n      <td>0.664</td>\n      <td>0.78</td>\n      <td>165.0</td>\n      <td>6046.0</td>\n      <td>6,625,000</td>\n      <td>2.49</td>\n      <td>91.26</td>\n      <td>0</td>\n    </tr>\n    <tr>\n      <th>56</th>\n      <td>Argentina</td>\n      <td>Latin America and Caribbean</td>\n      <td>5.929</td>\n      <td>9.962</td>\n      <td>0.898</td>\n      <td>69.000</td>\n      <td>0.828</td>\n      <td>-0.182</td>\n      <td>0.834</td>\n      <td>0.58</td>\n      <td>43245.0</td>\n      <td>1625514.0</td>\n      <td>45,350,000</td>\n      <td>95.36</td>\n      <td>3584.37</td>\n      <td>0</td>\n    </tr>\n    <tr>\n      <th>58</th>\n      <td>Honduras</td>\n      <td>Latin America and Caribbean</td>\n      <td>5.919</td>\n      <td>8.648</td>\n      <td>0.812</td>\n      <td>67.300</td>\n      <td>0.857</td>\n      <td>0.081</td>\n      <td>0.809</td>\n      <td>0.76</td>\n      <td>3130.0</td>\n      <td>121827.0</td>\n      <td>9,905,000</td>\n      <td>31.60</td>\n      <td>1229.95</td>\n      <td>0</td>\n    </tr>\n    <tr>\n      <th>62</th>\n      <td>Peru</td>\n      <td>Latin America and Caribbean</td>\n      <td>5.840</td>\n      <td>9.458</td>\n      <td>0.832</td>\n      <td>68.250</td>\n      <td>0.822</td>\n      <td>-0.154</td>\n      <td>0.891</td>\n      <td>0.62</td>\n      <td>93070.0</td>\n      <td>1015137.0</td>\n      <td>32,972,000</td>\n      <td>282.27</td>\n      <td>3078.79</td>\n      <td>0</td>\n    </tr>\n    <tr>\n      <th>65</th>\n      <td>Ecuador</td>\n      <td>Latin America and Caribbean</td>\n      <td>5.764</td>\n      <td>9.313</td>\n      <td>0.821</td>\n      <td>68.800</td>\n      <td>0.842</td>\n      <td>-0.124</td>\n      <td>0.843</td>\n      <td>0.61</td>\n      <td>14034.0</td>\n      <td>212512.0</td>\n      <td>17,643,000</td>\n      <td>79.54</td>\n      <td>1204.51</td>\n      <td>0</td>\n    </tr>\n    <tr>\n      <th>68</th>\n      <td>Bolivia</td>\n      <td>Latin America and Caribbean</td>\n      <td>5.716</td>\n      <td>9.046</td>\n      <td>0.810</td>\n      <td>63.901</td>\n      <td>0.875</td>\n      <td>-0.077</td>\n      <td>0.839</td>\n      <td>0.69</td>\n      <td>9165.0</td>\n      <td>160124.0</td>\n      <td>11,673,000</td>\n      <td>78.51</td>\n      <td>1371.75</td>\n      <td>0</td>\n    </tr>\n    <tr>\n      <th>70</th>\n      <td>Paraguay</td>\n      <td>Latin America and Caribbean</td>\n      <td>5.653</td>\n      <td>9.448</td>\n      <td>0.893</td>\n      <td>65.900</td>\n      <td>0.876</td>\n      <td>0.028</td>\n      <td>0.882</td>\n      <td>0.72</td>\n      <td>2262.0</td>\n      <td>107932.0</td>\n      <td>7,133,000</td>\n      <td>31.71</td>\n      <td>1513.14</td>\n      <td>0</td>\n    </tr>\n    <tr>\n      <th>72</th>\n      <td>Dominican Republic</td>\n      <td>Latin America and Caribbean</td>\n      <td>5.545</td>\n      <td>9.802</td>\n      <td>0.853</td>\n      <td>66.102</td>\n      <td>0.860</td>\n      <td>-0.133</td>\n      <td>0.714</td>\n      <td>0.72</td>\n      <td>2414.0</td>\n      <td>170785.0</td>\n      <td>10,848,000</td>\n      <td>22.25</td>\n      <td>1574.35</td>\n      <td>0</td>\n    </tr>\n    <tr>\n      <th>106</th>\n      <td>Venezuela</td>\n      <td>Latin America and Caribbean</td>\n      <td>4.892</td>\n      <td>9.073</td>\n      <td>0.861</td>\n      <td>66.700</td>\n      <td>0.615</td>\n      <td>-0.169</td>\n      <td>0.827</td>\n      <td>0.85</td>\n      <td>1028.0</td>\n      <td>113558.0</td>\n      <td>28,436,000</td>\n      <td>3.62</td>\n      <td>399.35</td>\n      <td>0</td>\n    </tr>\n    <tr>\n      <th>142</th>\n      <td>Haiti</td>\n      <td>Latin America and Caribbean</td>\n      <td>3.615</td>\n      <td>7.477</td>\n      <td>0.540</td>\n      <td>55.700</td>\n      <td>0.593</td>\n      <td>0.422</td>\n      <td>0.721</td>\n      <td>0.82</td>\n      <td>236.0</td>\n      <td>9999.0</td>\n      <td>11,403,000</td>\n      <td>2.07</td>\n      <td>87.69</td>\n      <td>0</td>\n    </tr>\n  </tbody>\n</table>\n</div>"
     },
     "metadata": {},
     "execution_count": 118
    }
   ],
   "source": [
    "lac.sort_values(by = 'score', ascending = False)"
   ]
  },
  {
   "cell_type": "code",
   "execution_count": 119,
   "id": "6b8104c3",
   "metadata": {},
   "outputs": [
    {
     "output_type": "execute_result",
     "data": {
      "text/plain": [
       "                country                       region  score  log_gdp_cap  \\\n",
       "62                 Peru  Latin America and Caribbean  5.840        9.458   \n",
       "36              Jamaica  Latin America and Caribbean  6.309        9.186   \n",
       "70             Paraguay  Latin America and Caribbean  5.653        9.448   \n",
       "40               Panama  Latin America and Caribbean  6.180       10.350   \n",
       "65              Ecuador  Latin America and Caribbean  5.764        9.313   \n",
       "51             Colombia  Latin America and Caribbean  6.012        9.557   \n",
       "68              Bolivia  Latin America and Caribbean  5.716        9.046   \n",
       "56            Argentina  Latin America and Caribbean  5.929        9.962   \n",
       "42                Chile  Latin America and Caribbean  6.172       10.071   \n",
       "106           Venezuela  Latin America and Caribbean  4.892        9.073   \n",
       "15           Costa Rica  Latin America and Caribbean  7.069        9.880   \n",
       "58             Honduras  Latin America and Caribbean  5.919        8.648   \n",
       "35               Mexico  Latin America and Caribbean  6.317        9.859   \n",
       "29            Guatemala  Latin America and Caribbean  6.435        9.053   \n",
       "34               Brazil  Latin America and Caribbean  6.330        9.577   \n",
       "142               Haiti  Latin America and Caribbean  3.615        7.477   \n",
       "72   Dominican Republic  Latin America and Caribbean  5.545        9.802   \n",
       "48          El Salvador  Latin America and Caribbean  6.061        9.054   \n",
       "54            Nicaragua  Latin America and Caribbean  5.972        8.620   \n",
       "30              Uruguay  Latin America and Caribbean  6.431        9.966   \n",
       "\n",
       "     social_support  life_expectancy  freedom_to_make_life_choices  \\\n",
       "62            0.832           68.250                         0.822   \n",
       "36            0.877           67.500                         0.890   \n",
       "70            0.893           65.900                         0.876   \n",
       "40            0.896           69.652                         0.872   \n",
       "65            0.821           68.800                         0.842   \n",
       "51            0.847           68.001                         0.837   \n",
       "68            0.810           63.901                         0.875   \n",
       "56            0.898           69.000                         0.828   \n",
       "42            0.882           70.000                         0.742   \n",
       "106           0.861           66.700                         0.615   \n",
       "15            0.891           71.400                         0.934   \n",
       "58            0.812           67.300                         0.857   \n",
       "35            0.831           68.597                         0.862   \n",
       "29            0.813           64.958                         0.906   \n",
       "34            0.882           66.601                         0.804   \n",
       "142           0.540           55.700                         0.593   \n",
       "72            0.853           66.102                         0.860   \n",
       "48            0.762           66.402                         0.888   \n",
       "54            0.864           67.657                         0.836   \n",
       "30            0.925           69.100                         0.896   \n",
       "\n",
       "     generosity  perceptions_of_corruption  ti_corrupt_harmonized  \\\n",
       "62       -0.154                      0.891                   0.62   \n",
       "36       -0.137                      0.884                   0.56   \n",
       "70        0.028                      0.882                   0.72   \n",
       "40       -0.166                      0.856                   0.65   \n",
       "65       -0.124                      0.843                   0.61   \n",
       "51       -0.135                      0.841                   0.61   \n",
       "68       -0.077                      0.839                   0.69   \n",
       "56       -0.182                      0.834                   0.58   \n",
       "42       -0.044                      0.830                   0.33   \n",
       "106      -0.169                      0.827                   0.85   \n",
       "15       -0.126                      0.809                   0.43   \n",
       "58        0.081                      0.809                   0.76   \n",
       "35       -0.147                      0.799                   0.69   \n",
       "29       -0.038                      0.775                   0.75   \n",
       "34       -0.071                      0.756                   0.62   \n",
       "142       0.422                      0.721                   0.82   \n",
       "72       -0.133                      0.714                   0.72   \n",
       "48       -0.110                      0.688                   0.64   \n",
       "54        0.020                      0.664                   0.78   \n",
       "30       -0.092                      0.590                   0.29   \n",
       "\n",
       "     covid_deaths  covid_cases      pop_2020   death_100k  cases_100k  oecd  \n",
       "62        93070.0    1015137.0    32,972,000       282.27     3078.79     0  \n",
       "36          302.0      12827.0     2,961,000        10.20      433.20     0  \n",
       "70         2262.0     107932.0     7,133,000        31.71     1513.14     0  \n",
       "40         4022.0     246790.0     4,315,000        93.21     5719.35     0  \n",
       "65        14034.0     212512.0    17,643,000        79.54     1204.51     0  \n",
       "51        43213.0    1642775.0    50,883,000        84.93     3228.53     1  \n",
       "68         9165.0     160124.0    11,673,000        78.51     1371.75     0  \n",
       "56        43245.0    1625514.0    45,350,000        95.36     3584.37     0  \n",
       "42        16608.0     608973.0    19,116,000        86.88     3185.67     1  \n",
       "106        1028.0     113558.0    28,436,000         3.62      399.35     0  \n",
       "15         2185.0     169321.0     5,094,000        42.89     3323.93     0  \n",
       "58         3130.0     121827.0     9,905,000        31.60     1229.95     0  \n",
       "35       125807.0    1426094.0   128,933,000        97.58     1106.07     1  \n",
       "29         4813.0     138012.0    16,918,000        28.45      815.77     0  \n",
       "34       194949.0    7675973.0   212,559,000        91.72     3611.22     0  \n",
       "142         236.0       9999.0    11,403,000         2.07       87.69     0  \n",
       "72         2414.0     170785.0    10,848,000        22.25     1574.35     0  \n",
       "48         1327.0      46242.0     6,486,000        20.46      712.95     0  \n",
       "54          165.0       6046.0     6,625,000         2.49       91.26     0  \n",
       "30          181.0      19119.0     3,474,000         5.21      550.35     0  "
      ],
      "text/html": "<div>\n<style scoped>\n    .dataframe tbody tr th:only-of-type {\n        vertical-align: middle;\n    }\n\n    .dataframe tbody tr th {\n        vertical-align: top;\n    }\n\n    .dataframe thead th {\n        text-align: right;\n    }\n</style>\n<table border=\"1\" class=\"dataframe\">\n  <thead>\n    <tr style=\"text-align: right;\">\n      <th></th>\n      <th>country</th>\n      <th>region</th>\n      <th>score</th>\n      <th>log_gdp_cap</th>\n      <th>social_support</th>\n      <th>life_expectancy</th>\n      <th>freedom_to_make_life_choices</th>\n      <th>generosity</th>\n      <th>perceptions_of_corruption</th>\n      <th>ti_corrupt_harmonized</th>\n      <th>covid_deaths</th>\n      <th>covid_cases</th>\n      <th>pop_2020</th>\n      <th>death_100k</th>\n      <th>cases_100k</th>\n      <th>oecd</th>\n    </tr>\n  </thead>\n  <tbody>\n    <tr>\n      <th>62</th>\n      <td>Peru</td>\n      <td>Latin America and Caribbean</td>\n      <td>5.840</td>\n      <td>9.458</td>\n      <td>0.832</td>\n      <td>68.250</td>\n      <td>0.822</td>\n      <td>-0.154</td>\n      <td>0.891</td>\n      <td>0.62</td>\n      <td>93070.0</td>\n      <td>1015137.0</td>\n      <td>32,972,000</td>\n      <td>282.27</td>\n      <td>3078.79</td>\n      <td>0</td>\n    </tr>\n    <tr>\n      <th>36</th>\n      <td>Jamaica</td>\n      <td>Latin America and Caribbean</td>\n      <td>6.309</td>\n      <td>9.186</td>\n      <td>0.877</td>\n      <td>67.500</td>\n      <td>0.890</td>\n      <td>-0.137</td>\n      <td>0.884</td>\n      <td>0.56</td>\n      <td>302.0</td>\n      <td>12827.0</td>\n      <td>2,961,000</td>\n      <td>10.20</td>\n      <td>433.20</td>\n      <td>0</td>\n    </tr>\n    <tr>\n      <th>70</th>\n      <td>Paraguay</td>\n      <td>Latin America and Caribbean</td>\n      <td>5.653</td>\n      <td>9.448</td>\n      <td>0.893</td>\n      <td>65.900</td>\n      <td>0.876</td>\n      <td>0.028</td>\n      <td>0.882</td>\n      <td>0.72</td>\n      <td>2262.0</td>\n      <td>107932.0</td>\n      <td>7,133,000</td>\n      <td>31.71</td>\n      <td>1513.14</td>\n      <td>0</td>\n    </tr>\n    <tr>\n      <th>40</th>\n      <td>Panama</td>\n      <td>Latin America and Caribbean</td>\n      <td>6.180</td>\n      <td>10.350</td>\n      <td>0.896</td>\n      <td>69.652</td>\n      <td>0.872</td>\n      <td>-0.166</td>\n      <td>0.856</td>\n      <td>0.65</td>\n      <td>4022.0</td>\n      <td>246790.0</td>\n      <td>4,315,000</td>\n      <td>93.21</td>\n      <td>5719.35</td>\n      <td>0</td>\n    </tr>\n    <tr>\n      <th>65</th>\n      <td>Ecuador</td>\n      <td>Latin America and Caribbean</td>\n      <td>5.764</td>\n      <td>9.313</td>\n      <td>0.821</td>\n      <td>68.800</td>\n      <td>0.842</td>\n      <td>-0.124</td>\n      <td>0.843</td>\n      <td>0.61</td>\n      <td>14034.0</td>\n      <td>212512.0</td>\n      <td>17,643,000</td>\n      <td>79.54</td>\n      <td>1204.51</td>\n      <td>0</td>\n    </tr>\n    <tr>\n      <th>51</th>\n      <td>Colombia</td>\n      <td>Latin America and Caribbean</td>\n      <td>6.012</td>\n      <td>9.557</td>\n      <td>0.847</td>\n      <td>68.001</td>\n      <td>0.837</td>\n      <td>-0.135</td>\n      <td>0.841</td>\n      <td>0.61</td>\n      <td>43213.0</td>\n      <td>1642775.0</td>\n      <td>50,883,000</td>\n      <td>84.93</td>\n      <td>3228.53</td>\n      <td>1</td>\n    </tr>\n    <tr>\n      <th>68</th>\n      <td>Bolivia</td>\n      <td>Latin America and Caribbean</td>\n      <td>5.716</td>\n      <td>9.046</td>\n      <td>0.810</td>\n      <td>63.901</td>\n      <td>0.875</td>\n      <td>-0.077</td>\n      <td>0.839</td>\n      <td>0.69</td>\n      <td>9165.0</td>\n      <td>160124.0</td>\n      <td>11,673,000</td>\n      <td>78.51</td>\n      <td>1371.75</td>\n      <td>0</td>\n    </tr>\n    <tr>\n      <th>56</th>\n      <td>Argentina</td>\n      <td>Latin America and Caribbean</td>\n      <td>5.929</td>\n      <td>9.962</td>\n      <td>0.898</td>\n      <td>69.000</td>\n      <td>0.828</td>\n      <td>-0.182</td>\n      <td>0.834</td>\n      <td>0.58</td>\n      <td>43245.0</td>\n      <td>1625514.0</td>\n      <td>45,350,000</td>\n      <td>95.36</td>\n      <td>3584.37</td>\n      <td>0</td>\n    </tr>\n    <tr>\n      <th>42</th>\n      <td>Chile</td>\n      <td>Latin America and Caribbean</td>\n      <td>6.172</td>\n      <td>10.071</td>\n      <td>0.882</td>\n      <td>70.000</td>\n      <td>0.742</td>\n      <td>-0.044</td>\n      <td>0.830</td>\n      <td>0.33</td>\n      <td>16608.0</td>\n      <td>608973.0</td>\n      <td>19,116,000</td>\n      <td>86.88</td>\n      <td>3185.67</td>\n      <td>1</td>\n    </tr>\n    <tr>\n      <th>106</th>\n      <td>Venezuela</td>\n      <td>Latin America and Caribbean</td>\n      <td>4.892</td>\n      <td>9.073</td>\n      <td>0.861</td>\n      <td>66.700</td>\n      <td>0.615</td>\n      <td>-0.169</td>\n      <td>0.827</td>\n      <td>0.85</td>\n      <td>1028.0</td>\n      <td>113558.0</td>\n      <td>28,436,000</td>\n      <td>3.62</td>\n      <td>399.35</td>\n      <td>0</td>\n    </tr>\n    <tr>\n      <th>15</th>\n      <td>Costa Rica</td>\n      <td>Latin America and Caribbean</td>\n      <td>7.069</td>\n      <td>9.880</td>\n      <td>0.891</td>\n      <td>71.400</td>\n      <td>0.934</td>\n      <td>-0.126</td>\n      <td>0.809</td>\n      <td>0.43</td>\n      <td>2185.0</td>\n      <td>169321.0</td>\n      <td>5,094,000</td>\n      <td>42.89</td>\n      <td>3323.93</td>\n      <td>0</td>\n    </tr>\n    <tr>\n      <th>58</th>\n      <td>Honduras</td>\n      <td>Latin America and Caribbean</td>\n      <td>5.919</td>\n      <td>8.648</td>\n      <td>0.812</td>\n      <td>67.300</td>\n      <td>0.857</td>\n      <td>0.081</td>\n      <td>0.809</td>\n      <td>0.76</td>\n      <td>3130.0</td>\n      <td>121827.0</td>\n      <td>9,905,000</td>\n      <td>31.60</td>\n      <td>1229.95</td>\n      <td>0</td>\n    </tr>\n    <tr>\n      <th>35</th>\n      <td>Mexico</td>\n      <td>Latin America and Caribbean</td>\n      <td>6.317</td>\n      <td>9.859</td>\n      <td>0.831</td>\n      <td>68.597</td>\n      <td>0.862</td>\n      <td>-0.147</td>\n      <td>0.799</td>\n      <td>0.69</td>\n      <td>125807.0</td>\n      <td>1426094.0</td>\n      <td>128,933,000</td>\n      <td>97.58</td>\n      <td>1106.07</td>\n      <td>1</td>\n    </tr>\n    <tr>\n      <th>29</th>\n      <td>Guatemala</td>\n      <td>Latin America and Caribbean</td>\n      <td>6.435</td>\n      <td>9.053</td>\n      <td>0.813</td>\n      <td>64.958</td>\n      <td>0.906</td>\n      <td>-0.038</td>\n      <td>0.775</td>\n      <td>0.75</td>\n      <td>4813.0</td>\n      <td>138012.0</td>\n      <td>16,918,000</td>\n      <td>28.45</td>\n      <td>815.77</td>\n      <td>0</td>\n    </tr>\n    <tr>\n      <th>34</th>\n      <td>Brazil</td>\n      <td>Latin America and Caribbean</td>\n      <td>6.330</td>\n      <td>9.577</td>\n      <td>0.882</td>\n      <td>66.601</td>\n      <td>0.804</td>\n      <td>-0.071</td>\n      <td>0.756</td>\n      <td>0.62</td>\n      <td>194949.0</td>\n      <td>7675973.0</td>\n      <td>212,559,000</td>\n      <td>91.72</td>\n      <td>3611.22</td>\n      <td>0</td>\n    </tr>\n    <tr>\n      <th>142</th>\n      <td>Haiti</td>\n      <td>Latin America and Caribbean</td>\n      <td>3.615</td>\n      <td>7.477</td>\n      <td>0.540</td>\n      <td>55.700</td>\n      <td>0.593</td>\n      <td>0.422</td>\n      <td>0.721</td>\n      <td>0.82</td>\n      <td>236.0</td>\n      <td>9999.0</td>\n      <td>11,403,000</td>\n      <td>2.07</td>\n      <td>87.69</td>\n      <td>0</td>\n    </tr>\n    <tr>\n      <th>72</th>\n      <td>Dominican Republic</td>\n      <td>Latin America and Caribbean</td>\n      <td>5.545</td>\n      <td>9.802</td>\n      <td>0.853</td>\n      <td>66.102</td>\n      <td>0.860</td>\n      <td>-0.133</td>\n      <td>0.714</td>\n      <td>0.72</td>\n      <td>2414.0</td>\n      <td>170785.0</td>\n      <td>10,848,000</td>\n      <td>22.25</td>\n      <td>1574.35</td>\n      <td>0</td>\n    </tr>\n    <tr>\n      <th>48</th>\n      <td>El Salvador</td>\n      <td>Latin America and Caribbean</td>\n      <td>6.061</td>\n      <td>9.054</td>\n      <td>0.762</td>\n      <td>66.402</td>\n      <td>0.888</td>\n      <td>-0.110</td>\n      <td>0.688</td>\n      <td>0.64</td>\n      <td>1327.0</td>\n      <td>46242.0</td>\n      <td>6,486,000</td>\n      <td>20.46</td>\n      <td>712.95</td>\n      <td>0</td>\n    </tr>\n    <tr>\n      <th>54</th>\n      <td>Nicaragua</td>\n      <td>Latin America and Caribbean</td>\n      <td>5.972</td>\n      <td>8.620</td>\n      <td>0.864</td>\n      <td>67.657</td>\n      <td>0.836</td>\n      <td>0.020</td>\n      <td>0.664</td>\n      <td>0.78</td>\n      <td>165.0</td>\n      <td>6046.0</td>\n      <td>6,625,000</td>\n      <td>2.49</td>\n      <td>91.26</td>\n      <td>0</td>\n    </tr>\n    <tr>\n      <th>30</th>\n      <td>Uruguay</td>\n      <td>Latin America and Caribbean</td>\n      <td>6.431</td>\n      <td>9.966</td>\n      <td>0.925</td>\n      <td>69.100</td>\n      <td>0.896</td>\n      <td>-0.092</td>\n      <td>0.590</td>\n      <td>0.29</td>\n      <td>181.0</td>\n      <td>19119.0</td>\n      <td>3,474,000</td>\n      <td>5.21</td>\n      <td>550.35</td>\n      <td>0</td>\n    </tr>\n  </tbody>\n</table>\n</div>"
     },
     "metadata": {},
     "execution_count": 119
    }
   ],
   "source": [
    "lac.sort_values(by = 'perceptions_of_corruption', ascending = False)"
   ]
  },
  {
   "cell_type": "code",
   "execution_count": 120,
   "id": "d4fe0d92",
   "metadata": {},
   "outputs": [
    {
     "output_type": "execute_result",
     "data": {
      "text/plain": [
       "                     country                        region  score  \\\n",
       "11                    Israel  Middle East and North Africa  7.157   \n",
       "21                   Bahrain  Middle East and North Africa  6.647   \n",
       "24      United Arab Emirates  Middle East and North Africa  6.561   \n",
       "25              Saudi Arabia  Middle East and North Africa  6.494   \n",
       "46                    Kuwait  Middle East and North Africa  6.106   \n",
       "79                     Libya  Middle East and North Africa  5.410   \n",
       "103                   Turkey  Middle East and North Africa  4.948   \n",
       "105                  Morocco  Middle East and North Africa  4.918   \n",
       "108                  Algeria  Middle East and North Africa  4.887   \n",
       "110                     Iraq  Middle East and North Africa  4.854   \n",
       "117                     Iran  Middle East and North Africa  4.721   \n",
       "121                  Tunisia  Middle East and North Africa  4.596   \n",
       "122                  Lebanon  Middle East and North Africa  4.584   \n",
       "124  Palestinian Territories  Middle East and North Africa  4.517   \n",
       "126                   Jordan  Middle East and North Africa  4.395   \n",
       "131                    Egypt  Middle East and North Africa  4.283   \n",
       "140                    Yemen  Middle East and North Africa  3.658   \n",
       "\n",
       "     log_gdp_cap  social_support  life_expectancy  \\\n",
       "11        10.575           0.939           73.503   \n",
       "21        10.669           0.862           69.495   \n",
       "24        11.085           0.844           67.333   \n",
       "25        10.743           0.891           66.603   \n",
       "46        10.817           0.843           66.900   \n",
       "79         9.622           0.827           62.300   \n",
       "103       10.240           0.822           67.199   \n",
       "105        8.903           0.560           66.208   \n",
       "108        9.342           0.802           66.005   \n",
       "110        9.240           0.746           60.583   \n",
       "117        9.584           0.710           66.300   \n",
       "121        9.266           0.691           67.201   \n",
       "122        9.626           0.848           67.355   \n",
       "124        8.485           0.826           62.250   \n",
       "126        9.182           0.767           67.000   \n",
       "131        9.367           0.750           61.998   \n",
       "140        7.578           0.832           57.122   \n",
       "\n",
       "     freedom_to_make_life_choices  generosity  perceptions_of_corruption  \\\n",
       "11                          0.800       0.031                      0.753   \n",
       "21                          0.925       0.089                      0.722   \n",
       "24                          0.932       0.074                      0.589   \n",
       "25                          0.877      -0.149                      0.684   \n",
       "46                          0.867      -0.104                      0.736   \n",
       "79                          0.771      -0.087                      0.667   \n",
       "103                         0.576      -0.139                      0.776   \n",
       "105                         0.774      -0.236                      0.801   \n",
       "108                         0.480      -0.067                      0.752   \n",
       "110                         0.630      -0.053                      0.875   \n",
       "117                         0.608       0.218                      0.714   \n",
       "121                         0.656      -0.201                      0.870   \n",
       "122                         0.525      -0.073                      0.898   \n",
       "124                         0.653      -0.163                      0.821   \n",
       "126                         0.755      -0.167                      0.705   \n",
       "131                         0.749      -0.182                      0.795   \n",
       "140                         0.602      -0.147                      0.800   \n",
       "\n",
       "     ti_corrupt_harmonized  covid_deaths  covid_cases      pop_2020   \\\n",
       "11                    0.40        3325.0     423262.0     9,198,000    \n",
       "21                    0.58         352.0      92675.0     1,702,000    \n",
       "24                    0.29         669.0     207822.0     9,890,000    \n",
       "25                    0.47        6223.0     362741.0    34,814,000    \n",
       "46                    0.58         934.0     150584.0     4,271,000    \n",
       "79                    0.83        1478.0     100277.0     6,871,000    \n",
       "103                   0.60       20881.0    2208652.0    84,339,000    \n",
       "105                   0.60        7388.0     439193.0    36,911,000    \n",
       "108                   0.64        2756.0      99610.0    43,851,000    \n",
       "110                   0.79       12813.0     595291.0    40,222,000    \n",
       "117                   0.75       55223.0    1225142.0    83,993,000    \n",
       "121                   0.56        4676.0     139140.0    11,819,000    \n",
       "122                   0.75        1468.0     181503.0     6,825,000    \n",
       "124                    NaN        1400.0     138004.0     4,800,000    \n",
       "126                   0.51        3834.0     294494.0    10,203,000    \n",
       "131                   0.67        7631.0     138062.0   102,334,000    \n",
       "140                   0.85         610.0       2099.0    29,826,000    \n",
       "\n",
       "     death_100k  cases_100k  oecd  \n",
       "11        36.15     4601.67     1  \n",
       "21        20.68     5445.06     0  \n",
       "24         6.76     2101.33     0  \n",
       "25        17.87     1041.94     0  \n",
       "46        21.87     3525.73     0  \n",
       "79        21.51     1459.42     0  \n",
       "103       24.76     2618.78     1  \n",
       "105       20.02     1189.87     0  \n",
       "108        6.28      227.16     0  \n",
       "110       31.86     1480.01     0  \n",
       "117       65.75     1458.62     0  \n",
       "121       39.56     1177.26     0  \n",
       "122       21.51     2659.38     0  \n",
       "124       29.17     2875.08     0  \n",
       "126       37.58     2886.35     0  \n",
       "131        7.46      134.91     0  \n",
       "140        2.05        7.04     0  "
      ],
      "text/html": "<div>\n<style scoped>\n    .dataframe tbody tr th:only-of-type {\n        vertical-align: middle;\n    }\n\n    .dataframe tbody tr th {\n        vertical-align: top;\n    }\n\n    .dataframe thead th {\n        text-align: right;\n    }\n</style>\n<table border=\"1\" class=\"dataframe\">\n  <thead>\n    <tr style=\"text-align: right;\">\n      <th></th>\n      <th>country</th>\n      <th>region</th>\n      <th>score</th>\n      <th>log_gdp_cap</th>\n      <th>social_support</th>\n      <th>life_expectancy</th>\n      <th>freedom_to_make_life_choices</th>\n      <th>generosity</th>\n      <th>perceptions_of_corruption</th>\n      <th>ti_corrupt_harmonized</th>\n      <th>covid_deaths</th>\n      <th>covid_cases</th>\n      <th>pop_2020</th>\n      <th>death_100k</th>\n      <th>cases_100k</th>\n      <th>oecd</th>\n    </tr>\n  </thead>\n  <tbody>\n    <tr>\n      <th>11</th>\n      <td>Israel</td>\n      <td>Middle East and North Africa</td>\n      <td>7.157</td>\n      <td>10.575</td>\n      <td>0.939</td>\n      <td>73.503</td>\n      <td>0.800</td>\n      <td>0.031</td>\n      <td>0.753</td>\n      <td>0.40</td>\n      <td>3325.0</td>\n      <td>423262.0</td>\n      <td>9,198,000</td>\n      <td>36.15</td>\n      <td>4601.67</td>\n      <td>1</td>\n    </tr>\n    <tr>\n      <th>21</th>\n      <td>Bahrain</td>\n      <td>Middle East and North Africa</td>\n      <td>6.647</td>\n      <td>10.669</td>\n      <td>0.862</td>\n      <td>69.495</td>\n      <td>0.925</td>\n      <td>0.089</td>\n      <td>0.722</td>\n      <td>0.58</td>\n      <td>352.0</td>\n      <td>92675.0</td>\n      <td>1,702,000</td>\n      <td>20.68</td>\n      <td>5445.06</td>\n      <td>0</td>\n    </tr>\n    <tr>\n      <th>24</th>\n      <td>United Arab Emirates</td>\n      <td>Middle East and North Africa</td>\n      <td>6.561</td>\n      <td>11.085</td>\n      <td>0.844</td>\n      <td>67.333</td>\n      <td>0.932</td>\n      <td>0.074</td>\n      <td>0.589</td>\n      <td>0.29</td>\n      <td>669.0</td>\n      <td>207822.0</td>\n      <td>9,890,000</td>\n      <td>6.76</td>\n      <td>2101.33</td>\n      <td>0</td>\n    </tr>\n    <tr>\n      <th>25</th>\n      <td>Saudi Arabia</td>\n      <td>Middle East and North Africa</td>\n      <td>6.494</td>\n      <td>10.743</td>\n      <td>0.891</td>\n      <td>66.603</td>\n      <td>0.877</td>\n      <td>-0.149</td>\n      <td>0.684</td>\n      <td>0.47</td>\n      <td>6223.0</td>\n      <td>362741.0</td>\n      <td>34,814,000</td>\n      <td>17.87</td>\n      <td>1041.94</td>\n      <td>0</td>\n    </tr>\n    <tr>\n      <th>46</th>\n      <td>Kuwait</td>\n      <td>Middle East and North Africa</td>\n      <td>6.106</td>\n      <td>10.817</td>\n      <td>0.843</td>\n      <td>66.900</td>\n      <td>0.867</td>\n      <td>-0.104</td>\n      <td>0.736</td>\n      <td>0.58</td>\n      <td>934.0</td>\n      <td>150584.0</td>\n      <td>4,271,000</td>\n      <td>21.87</td>\n      <td>3525.73</td>\n      <td>0</td>\n    </tr>\n    <tr>\n      <th>79</th>\n      <td>Libya</td>\n      <td>Middle East and North Africa</td>\n      <td>5.410</td>\n      <td>9.622</td>\n      <td>0.827</td>\n      <td>62.300</td>\n      <td>0.771</td>\n      <td>-0.087</td>\n      <td>0.667</td>\n      <td>0.83</td>\n      <td>1478.0</td>\n      <td>100277.0</td>\n      <td>6,871,000</td>\n      <td>21.51</td>\n      <td>1459.42</td>\n      <td>0</td>\n    </tr>\n    <tr>\n      <th>103</th>\n      <td>Turkey</td>\n      <td>Middle East and North Africa</td>\n      <td>4.948</td>\n      <td>10.240</td>\n      <td>0.822</td>\n      <td>67.199</td>\n      <td>0.576</td>\n      <td>-0.139</td>\n      <td>0.776</td>\n      <td>0.60</td>\n      <td>20881.0</td>\n      <td>2208652.0</td>\n      <td>84,339,000</td>\n      <td>24.76</td>\n      <td>2618.78</td>\n      <td>1</td>\n    </tr>\n    <tr>\n      <th>105</th>\n      <td>Morocco</td>\n      <td>Middle East and North Africa</td>\n      <td>4.918</td>\n      <td>8.903</td>\n      <td>0.560</td>\n      <td>66.208</td>\n      <td>0.774</td>\n      <td>-0.236</td>\n      <td>0.801</td>\n      <td>0.60</td>\n      <td>7388.0</td>\n      <td>439193.0</td>\n      <td>36,911,000</td>\n      <td>20.02</td>\n      <td>1189.87</td>\n      <td>0</td>\n    </tr>\n    <tr>\n      <th>108</th>\n      <td>Algeria</td>\n      <td>Middle East and North Africa</td>\n      <td>4.887</td>\n      <td>9.342</td>\n      <td>0.802</td>\n      <td>66.005</td>\n      <td>0.480</td>\n      <td>-0.067</td>\n      <td>0.752</td>\n      <td>0.64</td>\n      <td>2756.0</td>\n      <td>99610.0</td>\n      <td>43,851,000</td>\n      <td>6.28</td>\n      <td>227.16</td>\n      <td>0</td>\n    </tr>\n    <tr>\n      <th>110</th>\n      <td>Iraq</td>\n      <td>Middle East and North Africa</td>\n      <td>4.854</td>\n      <td>9.240</td>\n      <td>0.746</td>\n      <td>60.583</td>\n      <td>0.630</td>\n      <td>-0.053</td>\n      <td>0.875</td>\n      <td>0.79</td>\n      <td>12813.0</td>\n      <td>595291.0</td>\n      <td>40,222,000</td>\n      <td>31.86</td>\n      <td>1480.01</td>\n      <td>0</td>\n    </tr>\n    <tr>\n      <th>117</th>\n      <td>Iran</td>\n      <td>Middle East and North Africa</td>\n      <td>4.721</td>\n      <td>9.584</td>\n      <td>0.710</td>\n      <td>66.300</td>\n      <td>0.608</td>\n      <td>0.218</td>\n      <td>0.714</td>\n      <td>0.75</td>\n      <td>55223.0</td>\n      <td>1225142.0</td>\n      <td>83,993,000</td>\n      <td>65.75</td>\n      <td>1458.62</td>\n      <td>0</td>\n    </tr>\n    <tr>\n      <th>121</th>\n      <td>Tunisia</td>\n      <td>Middle East and North Africa</td>\n      <td>4.596</td>\n      <td>9.266</td>\n      <td>0.691</td>\n      <td>67.201</td>\n      <td>0.656</td>\n      <td>-0.201</td>\n      <td>0.870</td>\n      <td>0.56</td>\n      <td>4676.0</td>\n      <td>139140.0</td>\n      <td>11,819,000</td>\n      <td>39.56</td>\n      <td>1177.26</td>\n      <td>0</td>\n    </tr>\n    <tr>\n      <th>122</th>\n      <td>Lebanon</td>\n      <td>Middle East and North Africa</td>\n      <td>4.584</td>\n      <td>9.626</td>\n      <td>0.848</td>\n      <td>67.355</td>\n      <td>0.525</td>\n      <td>-0.073</td>\n      <td>0.898</td>\n      <td>0.75</td>\n      <td>1468.0</td>\n      <td>181503.0</td>\n      <td>6,825,000</td>\n      <td>21.51</td>\n      <td>2659.38</td>\n      <td>0</td>\n    </tr>\n    <tr>\n      <th>124</th>\n      <td>Palestinian Territories</td>\n      <td>Middle East and North Africa</td>\n      <td>4.517</td>\n      <td>8.485</td>\n      <td>0.826</td>\n      <td>62.250</td>\n      <td>0.653</td>\n      <td>-0.163</td>\n      <td>0.821</td>\n      <td>NaN</td>\n      <td>1400.0</td>\n      <td>138004.0</td>\n      <td>4,800,000</td>\n      <td>29.17</td>\n      <td>2875.08</td>\n      <td>0</td>\n    </tr>\n    <tr>\n      <th>126</th>\n      <td>Jordan</td>\n      <td>Middle East and North Africa</td>\n      <td>4.395</td>\n      <td>9.182</td>\n      <td>0.767</td>\n      <td>67.000</td>\n      <td>0.755</td>\n      <td>-0.167</td>\n      <td>0.705</td>\n      <td>0.51</td>\n      <td>3834.0</td>\n      <td>294494.0</td>\n      <td>10,203,000</td>\n      <td>37.58</td>\n      <td>2886.35</td>\n      <td>0</td>\n    </tr>\n    <tr>\n      <th>131</th>\n      <td>Egypt</td>\n      <td>Middle East and North Africa</td>\n      <td>4.283</td>\n      <td>9.367</td>\n      <td>0.750</td>\n      <td>61.998</td>\n      <td>0.749</td>\n      <td>-0.182</td>\n      <td>0.795</td>\n      <td>0.67</td>\n      <td>7631.0</td>\n      <td>138062.0</td>\n      <td>102,334,000</td>\n      <td>7.46</td>\n      <td>134.91</td>\n      <td>0</td>\n    </tr>\n    <tr>\n      <th>140</th>\n      <td>Yemen</td>\n      <td>Middle East and North Africa</td>\n      <td>3.658</td>\n      <td>7.578</td>\n      <td>0.832</td>\n      <td>57.122</td>\n      <td>0.602</td>\n      <td>-0.147</td>\n      <td>0.800</td>\n      <td>0.85</td>\n      <td>610.0</td>\n      <td>2099.0</td>\n      <td>29,826,000</td>\n      <td>2.05</td>\n      <td>7.04</td>\n      <td>0</td>\n    </tr>\n  </tbody>\n</table>\n</div>"
     },
     "metadata": {},
     "execution_count": 120
    }
   ],
   "source": [
    "mena.sort_values(by = 'score', ascending = False)"
   ]
  },
  {
   "cell_type": "code",
   "execution_count": 121,
   "id": "0c83a252",
   "metadata": {},
   "outputs": [
    {
     "output_type": "execute_result",
     "data": {
      "text/plain": [
       "                     country                        region  score  \\\n",
       "122                  Lebanon  Middle East and North Africa  4.584   \n",
       "110                     Iraq  Middle East and North Africa  4.854   \n",
       "121                  Tunisia  Middle East and North Africa  4.596   \n",
       "124  Palestinian Territories  Middle East and North Africa  4.517   \n",
       "105                  Morocco  Middle East and North Africa  4.918   \n",
       "140                    Yemen  Middle East and North Africa  3.658   \n",
       "131                    Egypt  Middle East and North Africa  4.283   \n",
       "103                   Turkey  Middle East and North Africa  4.948   \n",
       "11                    Israel  Middle East and North Africa  7.157   \n",
       "108                  Algeria  Middle East and North Africa  4.887   \n",
       "46                    Kuwait  Middle East and North Africa  6.106   \n",
       "21                   Bahrain  Middle East and North Africa  6.647   \n",
       "117                     Iran  Middle East and North Africa  4.721   \n",
       "126                   Jordan  Middle East and North Africa  4.395   \n",
       "25              Saudi Arabia  Middle East and North Africa  6.494   \n",
       "79                     Libya  Middle East and North Africa  5.410   \n",
       "24      United Arab Emirates  Middle East and North Africa  6.561   \n",
       "\n",
       "     log_gdp_cap  social_support  life_expectancy  \\\n",
       "122        9.626           0.848           67.355   \n",
       "110        9.240           0.746           60.583   \n",
       "121        9.266           0.691           67.201   \n",
       "124        8.485           0.826           62.250   \n",
       "105        8.903           0.560           66.208   \n",
       "140        7.578           0.832           57.122   \n",
       "131        9.367           0.750           61.998   \n",
       "103       10.240           0.822           67.199   \n",
       "11        10.575           0.939           73.503   \n",
       "108        9.342           0.802           66.005   \n",
       "46        10.817           0.843           66.900   \n",
       "21        10.669           0.862           69.495   \n",
       "117        9.584           0.710           66.300   \n",
       "126        9.182           0.767           67.000   \n",
       "25        10.743           0.891           66.603   \n",
       "79         9.622           0.827           62.300   \n",
       "24        11.085           0.844           67.333   \n",
       "\n",
       "     freedom_to_make_life_choices  generosity  perceptions_of_corruption  \\\n",
       "122                         0.525      -0.073                      0.898   \n",
       "110                         0.630      -0.053                      0.875   \n",
       "121                         0.656      -0.201                      0.870   \n",
       "124                         0.653      -0.163                      0.821   \n",
       "105                         0.774      -0.236                      0.801   \n",
       "140                         0.602      -0.147                      0.800   \n",
       "131                         0.749      -0.182                      0.795   \n",
       "103                         0.576      -0.139                      0.776   \n",
       "11                          0.800       0.031                      0.753   \n",
       "108                         0.480      -0.067                      0.752   \n",
       "46                          0.867      -0.104                      0.736   \n",
       "21                          0.925       0.089                      0.722   \n",
       "117                         0.608       0.218                      0.714   \n",
       "126                         0.755      -0.167                      0.705   \n",
       "25                          0.877      -0.149                      0.684   \n",
       "79                          0.771      -0.087                      0.667   \n",
       "24                          0.932       0.074                      0.589   \n",
       "\n",
       "     ti_corrupt_harmonized  covid_deaths  covid_cases      pop_2020   \\\n",
       "122                   0.75        1468.0     181503.0     6,825,000    \n",
       "110                   0.79       12813.0     595291.0    40,222,000    \n",
       "121                   0.56        4676.0     139140.0    11,819,000    \n",
       "124                    NaN        1400.0     138004.0     4,800,000    \n",
       "105                   0.60        7388.0     439193.0    36,911,000    \n",
       "140                   0.85         610.0       2099.0    29,826,000    \n",
       "131                   0.67        7631.0     138062.0   102,334,000    \n",
       "103                   0.60       20881.0    2208652.0    84,339,000    \n",
       "11                    0.40        3325.0     423262.0     9,198,000    \n",
       "108                   0.64        2756.0      99610.0    43,851,000    \n",
       "46                    0.58         934.0     150584.0     4,271,000    \n",
       "21                    0.58         352.0      92675.0     1,702,000    \n",
       "117                   0.75       55223.0    1225142.0    83,993,000    \n",
       "126                   0.51        3834.0     294494.0    10,203,000    \n",
       "25                    0.47        6223.0     362741.0    34,814,000    \n",
       "79                    0.83        1478.0     100277.0     6,871,000    \n",
       "24                    0.29         669.0     207822.0     9,890,000    \n",
       "\n",
       "     death_100k  cases_100k  oecd  \n",
       "122       21.51     2659.38     0  \n",
       "110       31.86     1480.01     0  \n",
       "121       39.56     1177.26     0  \n",
       "124       29.17     2875.08     0  \n",
       "105       20.02     1189.87     0  \n",
       "140        2.05        7.04     0  \n",
       "131        7.46      134.91     0  \n",
       "103       24.76     2618.78     1  \n",
       "11        36.15     4601.67     1  \n",
       "108        6.28      227.16     0  \n",
       "46        21.87     3525.73     0  \n",
       "21        20.68     5445.06     0  \n",
       "117       65.75     1458.62     0  \n",
       "126       37.58     2886.35     0  \n",
       "25        17.87     1041.94     0  \n",
       "79        21.51     1459.42     0  \n",
       "24         6.76     2101.33     0  "
      ],
      "text/html": "<div>\n<style scoped>\n    .dataframe tbody tr th:only-of-type {\n        vertical-align: middle;\n    }\n\n    .dataframe tbody tr th {\n        vertical-align: top;\n    }\n\n    .dataframe thead th {\n        text-align: right;\n    }\n</style>\n<table border=\"1\" class=\"dataframe\">\n  <thead>\n    <tr style=\"text-align: right;\">\n      <th></th>\n      <th>country</th>\n      <th>region</th>\n      <th>score</th>\n      <th>log_gdp_cap</th>\n      <th>social_support</th>\n      <th>life_expectancy</th>\n      <th>freedom_to_make_life_choices</th>\n      <th>generosity</th>\n      <th>perceptions_of_corruption</th>\n      <th>ti_corrupt_harmonized</th>\n      <th>covid_deaths</th>\n      <th>covid_cases</th>\n      <th>pop_2020</th>\n      <th>death_100k</th>\n      <th>cases_100k</th>\n      <th>oecd</th>\n    </tr>\n  </thead>\n  <tbody>\n    <tr>\n      <th>122</th>\n      <td>Lebanon</td>\n      <td>Middle East and North Africa</td>\n      <td>4.584</td>\n      <td>9.626</td>\n      <td>0.848</td>\n      <td>67.355</td>\n      <td>0.525</td>\n      <td>-0.073</td>\n      <td>0.898</td>\n      <td>0.75</td>\n      <td>1468.0</td>\n      <td>181503.0</td>\n      <td>6,825,000</td>\n      <td>21.51</td>\n      <td>2659.38</td>\n      <td>0</td>\n    </tr>\n    <tr>\n      <th>110</th>\n      <td>Iraq</td>\n      <td>Middle East and North Africa</td>\n      <td>4.854</td>\n      <td>9.240</td>\n      <td>0.746</td>\n      <td>60.583</td>\n      <td>0.630</td>\n      <td>-0.053</td>\n      <td>0.875</td>\n      <td>0.79</td>\n      <td>12813.0</td>\n      <td>595291.0</td>\n      <td>40,222,000</td>\n      <td>31.86</td>\n      <td>1480.01</td>\n      <td>0</td>\n    </tr>\n    <tr>\n      <th>121</th>\n      <td>Tunisia</td>\n      <td>Middle East and North Africa</td>\n      <td>4.596</td>\n      <td>9.266</td>\n      <td>0.691</td>\n      <td>67.201</td>\n      <td>0.656</td>\n      <td>-0.201</td>\n      <td>0.870</td>\n      <td>0.56</td>\n      <td>4676.0</td>\n      <td>139140.0</td>\n      <td>11,819,000</td>\n      <td>39.56</td>\n      <td>1177.26</td>\n      <td>0</td>\n    </tr>\n    <tr>\n      <th>124</th>\n      <td>Palestinian Territories</td>\n      <td>Middle East and North Africa</td>\n      <td>4.517</td>\n      <td>8.485</td>\n      <td>0.826</td>\n      <td>62.250</td>\n      <td>0.653</td>\n      <td>-0.163</td>\n      <td>0.821</td>\n      <td>NaN</td>\n      <td>1400.0</td>\n      <td>138004.0</td>\n      <td>4,800,000</td>\n      <td>29.17</td>\n      <td>2875.08</td>\n      <td>0</td>\n    </tr>\n    <tr>\n      <th>105</th>\n      <td>Morocco</td>\n      <td>Middle East and North Africa</td>\n      <td>4.918</td>\n      <td>8.903</td>\n      <td>0.560</td>\n      <td>66.208</td>\n      <td>0.774</td>\n      <td>-0.236</td>\n      <td>0.801</td>\n      <td>0.60</td>\n      <td>7388.0</td>\n      <td>439193.0</td>\n      <td>36,911,000</td>\n      <td>20.02</td>\n      <td>1189.87</td>\n      <td>0</td>\n    </tr>\n    <tr>\n      <th>140</th>\n      <td>Yemen</td>\n      <td>Middle East and North Africa</td>\n      <td>3.658</td>\n      <td>7.578</td>\n      <td>0.832</td>\n      <td>57.122</td>\n      <td>0.602</td>\n      <td>-0.147</td>\n      <td>0.800</td>\n      <td>0.85</td>\n      <td>610.0</td>\n      <td>2099.0</td>\n      <td>29,826,000</td>\n      <td>2.05</td>\n      <td>7.04</td>\n      <td>0</td>\n    </tr>\n    <tr>\n      <th>131</th>\n      <td>Egypt</td>\n      <td>Middle East and North Africa</td>\n      <td>4.283</td>\n      <td>9.367</td>\n      <td>0.750</td>\n      <td>61.998</td>\n      <td>0.749</td>\n      <td>-0.182</td>\n      <td>0.795</td>\n      <td>0.67</td>\n      <td>7631.0</td>\n      <td>138062.0</td>\n      <td>102,334,000</td>\n      <td>7.46</td>\n      <td>134.91</td>\n      <td>0</td>\n    </tr>\n    <tr>\n      <th>103</th>\n      <td>Turkey</td>\n      <td>Middle East and North Africa</td>\n      <td>4.948</td>\n      <td>10.240</td>\n      <td>0.822</td>\n      <td>67.199</td>\n      <td>0.576</td>\n      <td>-0.139</td>\n      <td>0.776</td>\n      <td>0.60</td>\n      <td>20881.0</td>\n      <td>2208652.0</td>\n      <td>84,339,000</td>\n      <td>24.76</td>\n      <td>2618.78</td>\n      <td>1</td>\n    </tr>\n    <tr>\n      <th>11</th>\n      <td>Israel</td>\n      <td>Middle East and North Africa</td>\n      <td>7.157</td>\n      <td>10.575</td>\n      <td>0.939</td>\n      <td>73.503</td>\n      <td>0.800</td>\n      <td>0.031</td>\n      <td>0.753</td>\n      <td>0.40</td>\n      <td>3325.0</td>\n      <td>423262.0</td>\n      <td>9,198,000</td>\n      <td>36.15</td>\n      <td>4601.67</td>\n      <td>1</td>\n    </tr>\n    <tr>\n      <th>108</th>\n      <td>Algeria</td>\n      <td>Middle East and North Africa</td>\n      <td>4.887</td>\n      <td>9.342</td>\n      <td>0.802</td>\n      <td>66.005</td>\n      <td>0.480</td>\n      <td>-0.067</td>\n      <td>0.752</td>\n      <td>0.64</td>\n      <td>2756.0</td>\n      <td>99610.0</td>\n      <td>43,851,000</td>\n      <td>6.28</td>\n      <td>227.16</td>\n      <td>0</td>\n    </tr>\n    <tr>\n      <th>46</th>\n      <td>Kuwait</td>\n      <td>Middle East and North Africa</td>\n      <td>6.106</td>\n      <td>10.817</td>\n      <td>0.843</td>\n      <td>66.900</td>\n      <td>0.867</td>\n      <td>-0.104</td>\n      <td>0.736</td>\n      <td>0.58</td>\n      <td>934.0</td>\n      <td>150584.0</td>\n      <td>4,271,000</td>\n      <td>21.87</td>\n      <td>3525.73</td>\n      <td>0</td>\n    </tr>\n    <tr>\n      <th>21</th>\n      <td>Bahrain</td>\n      <td>Middle East and North Africa</td>\n      <td>6.647</td>\n      <td>10.669</td>\n      <td>0.862</td>\n      <td>69.495</td>\n      <td>0.925</td>\n      <td>0.089</td>\n      <td>0.722</td>\n      <td>0.58</td>\n      <td>352.0</td>\n      <td>92675.0</td>\n      <td>1,702,000</td>\n      <td>20.68</td>\n      <td>5445.06</td>\n      <td>0</td>\n    </tr>\n    <tr>\n      <th>117</th>\n      <td>Iran</td>\n      <td>Middle East and North Africa</td>\n      <td>4.721</td>\n      <td>9.584</td>\n      <td>0.710</td>\n      <td>66.300</td>\n      <td>0.608</td>\n      <td>0.218</td>\n      <td>0.714</td>\n      <td>0.75</td>\n      <td>55223.0</td>\n      <td>1225142.0</td>\n      <td>83,993,000</td>\n      <td>65.75</td>\n      <td>1458.62</td>\n      <td>0</td>\n    </tr>\n    <tr>\n      <th>126</th>\n      <td>Jordan</td>\n      <td>Middle East and North Africa</td>\n      <td>4.395</td>\n      <td>9.182</td>\n      <td>0.767</td>\n      <td>67.000</td>\n      <td>0.755</td>\n      <td>-0.167</td>\n      <td>0.705</td>\n      <td>0.51</td>\n      <td>3834.0</td>\n      <td>294494.0</td>\n      <td>10,203,000</td>\n      <td>37.58</td>\n      <td>2886.35</td>\n      <td>0</td>\n    </tr>\n    <tr>\n      <th>25</th>\n      <td>Saudi Arabia</td>\n      <td>Middle East and North Africa</td>\n      <td>6.494</td>\n      <td>10.743</td>\n      <td>0.891</td>\n      <td>66.603</td>\n      <td>0.877</td>\n      <td>-0.149</td>\n      <td>0.684</td>\n      <td>0.47</td>\n      <td>6223.0</td>\n      <td>362741.0</td>\n      <td>34,814,000</td>\n      <td>17.87</td>\n      <td>1041.94</td>\n      <td>0</td>\n    </tr>\n    <tr>\n      <th>79</th>\n      <td>Libya</td>\n      <td>Middle East and North Africa</td>\n      <td>5.410</td>\n      <td>9.622</td>\n      <td>0.827</td>\n      <td>62.300</td>\n      <td>0.771</td>\n      <td>-0.087</td>\n      <td>0.667</td>\n      <td>0.83</td>\n      <td>1478.0</td>\n      <td>100277.0</td>\n      <td>6,871,000</td>\n      <td>21.51</td>\n      <td>1459.42</td>\n      <td>0</td>\n    </tr>\n    <tr>\n      <th>24</th>\n      <td>United Arab Emirates</td>\n      <td>Middle East and North Africa</td>\n      <td>6.561</td>\n      <td>11.085</td>\n      <td>0.844</td>\n      <td>67.333</td>\n      <td>0.932</td>\n      <td>0.074</td>\n      <td>0.589</td>\n      <td>0.29</td>\n      <td>669.0</td>\n      <td>207822.0</td>\n      <td>9,890,000</td>\n      <td>6.76</td>\n      <td>2101.33</td>\n      <td>0</td>\n    </tr>\n  </tbody>\n</table>\n</div>"
     },
     "metadata": {},
     "execution_count": 121
    }
   ],
   "source": [
    "mena.sort_values(by = 'perceptions_of_corruption', ascending = False)"
   ]
  },
  {
   "cell_type": "code",
   "execution_count": 122,
   "id": "5b413efb",
   "metadata": {},
   "outputs": [
    {
     "output_type": "execute_result",
     "data": {
      "text/plain": [
       "          country                              region  score  log_gdp_cap  \\\n",
       "41     Uzbekistan  Commonwealth of Independent States  6.179        8.836   \n",
       "44     Kazakhstan  Commonwealth of Independent States  6.152       10.155   \n",
       "64        Moldova  Commonwealth of Independent States  5.766        9.454   \n",
       "66     Kyrgyzstan  Commonwealth of Independent States  5.744        8.538   \n",
       "74        Belarus  Commonwealth of Independent States  5.534        9.853   \n",
       "75         Russia  Commonwealth of Independent States  5.477       10.189   \n",
       "77     Tajikistan  Commonwealth of Independent States  5.466        8.091   \n",
       "85        Armenia  Commonwealth of Independent States  5.283        9.487   \n",
       "89     Azerbaijan  Commonwealth of Independent States  5.171        9.569   \n",
       "96   Turkmenistan  Commonwealth of Independent States  5.066        9.629   \n",
       "107       Georgia  Commonwealth of Independent States  4.891        9.585   \n",
       "109       Ukraine  Commonwealth of Independent States  4.875        9.436   \n",
       "\n",
       "     social_support  life_expectancy  freedom_to_make_life_choices  \\\n",
       "41            0.918           65.255                         0.970   \n",
       "44            0.952           65.200                         0.853   \n",
       "64            0.857           65.699                         0.822   \n",
       "66            0.893           64.401                         0.935   \n",
       "74            0.910           66.253                         0.650   \n",
       "75            0.903           64.703                         0.718   \n",
       "77            0.860           64.281                         0.832   \n",
       "85            0.799           67.055                         0.825   \n",
       "89            0.836           65.656                         0.814   \n",
       "96            0.983           62.409                         0.877   \n",
       "107           0.671           64.300                         0.783   \n",
       "109           0.888           64.902                         0.724   \n",
       "\n",
       "     generosity  perceptions_of_corruption  ti_corrupt_harmonized  \\\n",
       "41        0.311                      0.515                   0.74   \n",
       "44       -0.069                      0.733                   0.62   \n",
       "64       -0.079                      0.918                   0.66   \n",
       "66        0.119                      0.908                   0.69   \n",
       "74       -0.180                      0.627                   0.53   \n",
       "75       -0.111                      0.845                   0.70   \n",
       "77       -0.056                      0.553                   0.75   \n",
       "85       -0.168                      0.629                   0.51   \n",
       "89       -0.223                      0.506                   0.70   \n",
       "96        0.273                      0.888                   0.81   \n",
       "107      -0.238                      0.655                   0.44   \n",
       "109      -0.011                      0.924                   0.67   \n",
       "\n",
       "     covid_deaths  covid_cases      pop_2020   death_100k  cases_100k  oecd  \n",
       "41          614.0      77060.0    34,074,000         1.80      226.15     0  \n",
       "44         2761.0     201196.0    18,733,000        14.74     1074.02     0  \n",
       "64         2985.0     144818.0     2,656,000       112.39     5452.48     0  \n",
       "66         1355.0      81034.0     6,564,000        20.64     1234.52     0  \n",
       "74         1424.0     194284.0     9,410,000        15.13     2064.65     0  \n",
       "75        56271.0    3127347.0   144,379,000        38.97     2166.07     0  \n",
       "77           90.0      13296.0     9,538,000         0.94      139.40     0  \n",
       "85         2823.0     159409.0     2,963,000        95.28     5379.99     0  \n",
       "89         2641.0     218700.0    10,113,000        26.11     2162.56     0  \n",
       "96            0.0          0.0     6,031,000         0.00        0.00     0  \n",
       "107        2505.0     227420.0     3,710,000        67.52     6129.92     0  \n",
       "109       19281.0    1086997.0    44,119,000        43.70     2463.78     0  "
      ],
      "text/html": "<div>\n<style scoped>\n    .dataframe tbody tr th:only-of-type {\n        vertical-align: middle;\n    }\n\n    .dataframe tbody tr th {\n        vertical-align: top;\n    }\n\n    .dataframe thead th {\n        text-align: right;\n    }\n</style>\n<table border=\"1\" class=\"dataframe\">\n  <thead>\n    <tr style=\"text-align: right;\">\n      <th></th>\n      <th>country</th>\n      <th>region</th>\n      <th>score</th>\n      <th>log_gdp_cap</th>\n      <th>social_support</th>\n      <th>life_expectancy</th>\n      <th>freedom_to_make_life_choices</th>\n      <th>generosity</th>\n      <th>perceptions_of_corruption</th>\n      <th>ti_corrupt_harmonized</th>\n      <th>covid_deaths</th>\n      <th>covid_cases</th>\n      <th>pop_2020</th>\n      <th>death_100k</th>\n      <th>cases_100k</th>\n      <th>oecd</th>\n    </tr>\n  </thead>\n  <tbody>\n    <tr>\n      <th>41</th>\n      <td>Uzbekistan</td>\n      <td>Commonwealth of Independent States</td>\n      <td>6.179</td>\n      <td>8.836</td>\n      <td>0.918</td>\n      <td>65.255</td>\n      <td>0.970</td>\n      <td>0.311</td>\n      <td>0.515</td>\n      <td>0.74</td>\n      <td>614.0</td>\n      <td>77060.0</td>\n      <td>34,074,000</td>\n      <td>1.80</td>\n      <td>226.15</td>\n      <td>0</td>\n    </tr>\n    <tr>\n      <th>44</th>\n      <td>Kazakhstan</td>\n      <td>Commonwealth of Independent States</td>\n      <td>6.152</td>\n      <td>10.155</td>\n      <td>0.952</td>\n      <td>65.200</td>\n      <td>0.853</td>\n      <td>-0.069</td>\n      <td>0.733</td>\n      <td>0.62</td>\n      <td>2761.0</td>\n      <td>201196.0</td>\n      <td>18,733,000</td>\n      <td>14.74</td>\n      <td>1074.02</td>\n      <td>0</td>\n    </tr>\n    <tr>\n      <th>64</th>\n      <td>Moldova</td>\n      <td>Commonwealth of Independent States</td>\n      <td>5.766</td>\n      <td>9.454</td>\n      <td>0.857</td>\n      <td>65.699</td>\n      <td>0.822</td>\n      <td>-0.079</td>\n      <td>0.918</td>\n      <td>0.66</td>\n      <td>2985.0</td>\n      <td>144818.0</td>\n      <td>2,656,000</td>\n      <td>112.39</td>\n      <td>5452.48</td>\n      <td>0</td>\n    </tr>\n    <tr>\n      <th>66</th>\n      <td>Kyrgyzstan</td>\n      <td>Commonwealth of Independent States</td>\n      <td>5.744</td>\n      <td>8.538</td>\n      <td>0.893</td>\n      <td>64.401</td>\n      <td>0.935</td>\n      <td>0.119</td>\n      <td>0.908</td>\n      <td>0.69</td>\n      <td>1355.0</td>\n      <td>81034.0</td>\n      <td>6,564,000</td>\n      <td>20.64</td>\n      <td>1234.52</td>\n      <td>0</td>\n    </tr>\n    <tr>\n      <th>74</th>\n      <td>Belarus</td>\n      <td>Commonwealth of Independent States</td>\n      <td>5.534</td>\n      <td>9.853</td>\n      <td>0.910</td>\n      <td>66.253</td>\n      <td>0.650</td>\n      <td>-0.180</td>\n      <td>0.627</td>\n      <td>0.53</td>\n      <td>1424.0</td>\n      <td>194284.0</td>\n      <td>9,410,000</td>\n      <td>15.13</td>\n      <td>2064.65</td>\n      <td>0</td>\n    </tr>\n    <tr>\n      <th>75</th>\n      <td>Russia</td>\n      <td>Commonwealth of Independent States</td>\n      <td>5.477</td>\n      <td>10.189</td>\n      <td>0.903</td>\n      <td>64.703</td>\n      <td>0.718</td>\n      <td>-0.111</td>\n      <td>0.845</td>\n      <td>0.70</td>\n      <td>56271.0</td>\n      <td>3127347.0</td>\n      <td>144,379,000</td>\n      <td>38.97</td>\n      <td>2166.07</td>\n      <td>0</td>\n    </tr>\n    <tr>\n      <th>77</th>\n      <td>Tajikistan</td>\n      <td>Commonwealth of Independent States</td>\n      <td>5.466</td>\n      <td>8.091</td>\n      <td>0.860</td>\n      <td>64.281</td>\n      <td>0.832</td>\n      <td>-0.056</td>\n      <td>0.553</td>\n      <td>0.75</td>\n      <td>90.0</td>\n      <td>13296.0</td>\n      <td>9,538,000</td>\n      <td>0.94</td>\n      <td>139.40</td>\n      <td>0</td>\n    </tr>\n    <tr>\n      <th>85</th>\n      <td>Armenia</td>\n      <td>Commonwealth of Independent States</td>\n      <td>5.283</td>\n      <td>9.487</td>\n      <td>0.799</td>\n      <td>67.055</td>\n      <td>0.825</td>\n      <td>-0.168</td>\n      <td>0.629</td>\n      <td>0.51</td>\n      <td>2823.0</td>\n      <td>159409.0</td>\n      <td>2,963,000</td>\n      <td>95.28</td>\n      <td>5379.99</td>\n      <td>0</td>\n    </tr>\n    <tr>\n      <th>89</th>\n      <td>Azerbaijan</td>\n      <td>Commonwealth of Independent States</td>\n      <td>5.171</td>\n      <td>9.569</td>\n      <td>0.836</td>\n      <td>65.656</td>\n      <td>0.814</td>\n      <td>-0.223</td>\n      <td>0.506</td>\n      <td>0.70</td>\n      <td>2641.0</td>\n      <td>218700.0</td>\n      <td>10,113,000</td>\n      <td>26.11</td>\n      <td>2162.56</td>\n      <td>0</td>\n    </tr>\n    <tr>\n      <th>96</th>\n      <td>Turkmenistan</td>\n      <td>Commonwealth of Independent States</td>\n      <td>5.066</td>\n      <td>9.629</td>\n      <td>0.983</td>\n      <td>62.409</td>\n      <td>0.877</td>\n      <td>0.273</td>\n      <td>0.888</td>\n      <td>0.81</td>\n      <td>0.0</td>\n      <td>0.0</td>\n      <td>6,031,000</td>\n      <td>0.00</td>\n      <td>0.00</td>\n      <td>0</td>\n    </tr>\n    <tr>\n      <th>107</th>\n      <td>Georgia</td>\n      <td>Commonwealth of Independent States</td>\n      <td>4.891</td>\n      <td>9.585</td>\n      <td>0.671</td>\n      <td>64.300</td>\n      <td>0.783</td>\n      <td>-0.238</td>\n      <td>0.655</td>\n      <td>0.44</td>\n      <td>2505.0</td>\n      <td>227420.0</td>\n      <td>3,710,000</td>\n      <td>67.52</td>\n      <td>6129.92</td>\n      <td>0</td>\n    </tr>\n    <tr>\n      <th>109</th>\n      <td>Ukraine</td>\n      <td>Commonwealth of Independent States</td>\n      <td>4.875</td>\n      <td>9.436</td>\n      <td>0.888</td>\n      <td>64.902</td>\n      <td>0.724</td>\n      <td>-0.011</td>\n      <td>0.924</td>\n      <td>0.67</td>\n      <td>19281.0</td>\n      <td>1086997.0</td>\n      <td>44,119,000</td>\n      <td>43.70</td>\n      <td>2463.78</td>\n      <td>0</td>\n    </tr>\n  </tbody>\n</table>\n</div>"
     },
     "metadata": {},
     "execution_count": 122
    }
   ],
   "source": [
    "cis.sort_values(by = 'score', ascending = False)\n"
   ]
  },
  {
   "cell_type": "code",
   "execution_count": 123,
   "id": "3bfdacaf",
   "metadata": {},
   "outputs": [
    {
     "output_type": "execute_result",
     "data": {
      "text/plain": [
       "          country                              region  score  log_gdp_cap  \\\n",
       "109       Ukraine  Commonwealth of Independent States  4.875        9.436   \n",
       "64        Moldova  Commonwealth of Independent States  5.766        9.454   \n",
       "66     Kyrgyzstan  Commonwealth of Independent States  5.744        8.538   \n",
       "96   Turkmenistan  Commonwealth of Independent States  5.066        9.629   \n",
       "75         Russia  Commonwealth of Independent States  5.477       10.189   \n",
       "44     Kazakhstan  Commonwealth of Independent States  6.152       10.155   \n",
       "107       Georgia  Commonwealth of Independent States  4.891        9.585   \n",
       "85        Armenia  Commonwealth of Independent States  5.283        9.487   \n",
       "74        Belarus  Commonwealth of Independent States  5.534        9.853   \n",
       "77     Tajikistan  Commonwealth of Independent States  5.466        8.091   \n",
       "41     Uzbekistan  Commonwealth of Independent States  6.179        8.836   \n",
       "89     Azerbaijan  Commonwealth of Independent States  5.171        9.569   \n",
       "\n",
       "     social_support  life_expectancy  freedom_to_make_life_choices  \\\n",
       "109           0.888           64.902                         0.724   \n",
       "64            0.857           65.699                         0.822   \n",
       "66            0.893           64.401                         0.935   \n",
       "96            0.983           62.409                         0.877   \n",
       "75            0.903           64.703                         0.718   \n",
       "44            0.952           65.200                         0.853   \n",
       "107           0.671           64.300                         0.783   \n",
       "85            0.799           67.055                         0.825   \n",
       "74            0.910           66.253                         0.650   \n",
       "77            0.860           64.281                         0.832   \n",
       "41            0.918           65.255                         0.970   \n",
       "89            0.836           65.656                         0.814   \n",
       "\n",
       "     generosity  perceptions_of_corruption  ti_corrupt_harmonized  \\\n",
       "109      -0.011                      0.924                   0.67   \n",
       "64       -0.079                      0.918                   0.66   \n",
       "66        0.119                      0.908                   0.69   \n",
       "96        0.273                      0.888                   0.81   \n",
       "75       -0.111                      0.845                   0.70   \n",
       "44       -0.069                      0.733                   0.62   \n",
       "107      -0.238                      0.655                   0.44   \n",
       "85       -0.168                      0.629                   0.51   \n",
       "74       -0.180                      0.627                   0.53   \n",
       "77       -0.056                      0.553                   0.75   \n",
       "41        0.311                      0.515                   0.74   \n",
       "89       -0.223                      0.506                   0.70   \n",
       "\n",
       "     covid_deaths  covid_cases      pop_2020   death_100k  cases_100k  oecd  \n",
       "109       19281.0    1086997.0    44,119,000        43.70     2463.78     0  \n",
       "64         2985.0     144818.0     2,656,000       112.39     5452.48     0  \n",
       "66         1355.0      81034.0     6,564,000        20.64     1234.52     0  \n",
       "96            0.0          0.0     6,031,000         0.00        0.00     0  \n",
       "75        56271.0    3127347.0   144,379,000        38.97     2166.07     0  \n",
       "44         2761.0     201196.0    18,733,000        14.74     1074.02     0  \n",
       "107        2505.0     227420.0     3,710,000        67.52     6129.92     0  \n",
       "85         2823.0     159409.0     2,963,000        95.28     5379.99     0  \n",
       "74         1424.0     194284.0     9,410,000        15.13     2064.65     0  \n",
       "77           90.0      13296.0     9,538,000         0.94      139.40     0  \n",
       "41          614.0      77060.0    34,074,000         1.80      226.15     0  \n",
       "89         2641.0     218700.0    10,113,000        26.11     2162.56     0  "
      ],
      "text/html": "<div>\n<style scoped>\n    .dataframe tbody tr th:only-of-type {\n        vertical-align: middle;\n    }\n\n    .dataframe tbody tr th {\n        vertical-align: top;\n    }\n\n    .dataframe thead th {\n        text-align: right;\n    }\n</style>\n<table border=\"1\" class=\"dataframe\">\n  <thead>\n    <tr style=\"text-align: right;\">\n      <th></th>\n      <th>country</th>\n      <th>region</th>\n      <th>score</th>\n      <th>log_gdp_cap</th>\n      <th>social_support</th>\n      <th>life_expectancy</th>\n      <th>freedom_to_make_life_choices</th>\n      <th>generosity</th>\n      <th>perceptions_of_corruption</th>\n      <th>ti_corrupt_harmonized</th>\n      <th>covid_deaths</th>\n      <th>covid_cases</th>\n      <th>pop_2020</th>\n      <th>death_100k</th>\n      <th>cases_100k</th>\n      <th>oecd</th>\n    </tr>\n  </thead>\n  <tbody>\n    <tr>\n      <th>109</th>\n      <td>Ukraine</td>\n      <td>Commonwealth of Independent States</td>\n      <td>4.875</td>\n      <td>9.436</td>\n      <td>0.888</td>\n      <td>64.902</td>\n      <td>0.724</td>\n      <td>-0.011</td>\n      <td>0.924</td>\n      <td>0.67</td>\n      <td>19281.0</td>\n      <td>1086997.0</td>\n      <td>44,119,000</td>\n      <td>43.70</td>\n      <td>2463.78</td>\n      <td>0</td>\n    </tr>\n    <tr>\n      <th>64</th>\n      <td>Moldova</td>\n      <td>Commonwealth of Independent States</td>\n      <td>5.766</td>\n      <td>9.454</td>\n      <td>0.857</td>\n      <td>65.699</td>\n      <td>0.822</td>\n      <td>-0.079</td>\n      <td>0.918</td>\n      <td>0.66</td>\n      <td>2985.0</td>\n      <td>144818.0</td>\n      <td>2,656,000</td>\n      <td>112.39</td>\n      <td>5452.48</td>\n      <td>0</td>\n    </tr>\n    <tr>\n      <th>66</th>\n      <td>Kyrgyzstan</td>\n      <td>Commonwealth of Independent States</td>\n      <td>5.744</td>\n      <td>8.538</td>\n      <td>0.893</td>\n      <td>64.401</td>\n      <td>0.935</td>\n      <td>0.119</td>\n      <td>0.908</td>\n      <td>0.69</td>\n      <td>1355.0</td>\n      <td>81034.0</td>\n      <td>6,564,000</td>\n      <td>20.64</td>\n      <td>1234.52</td>\n      <td>0</td>\n    </tr>\n    <tr>\n      <th>96</th>\n      <td>Turkmenistan</td>\n      <td>Commonwealth of Independent States</td>\n      <td>5.066</td>\n      <td>9.629</td>\n      <td>0.983</td>\n      <td>62.409</td>\n      <td>0.877</td>\n      <td>0.273</td>\n      <td>0.888</td>\n      <td>0.81</td>\n      <td>0.0</td>\n      <td>0.0</td>\n      <td>6,031,000</td>\n      <td>0.00</td>\n      <td>0.00</td>\n      <td>0</td>\n    </tr>\n    <tr>\n      <th>75</th>\n      <td>Russia</td>\n      <td>Commonwealth of Independent States</td>\n      <td>5.477</td>\n      <td>10.189</td>\n      <td>0.903</td>\n      <td>64.703</td>\n      <td>0.718</td>\n      <td>-0.111</td>\n      <td>0.845</td>\n      <td>0.70</td>\n      <td>56271.0</td>\n      <td>3127347.0</td>\n      <td>144,379,000</td>\n      <td>38.97</td>\n      <td>2166.07</td>\n      <td>0</td>\n    </tr>\n    <tr>\n      <th>44</th>\n      <td>Kazakhstan</td>\n      <td>Commonwealth of Independent States</td>\n      <td>6.152</td>\n      <td>10.155</td>\n      <td>0.952</td>\n      <td>65.200</td>\n      <td>0.853</td>\n      <td>-0.069</td>\n      <td>0.733</td>\n      <td>0.62</td>\n      <td>2761.0</td>\n      <td>201196.0</td>\n      <td>18,733,000</td>\n      <td>14.74</td>\n      <td>1074.02</td>\n      <td>0</td>\n    </tr>\n    <tr>\n      <th>107</th>\n      <td>Georgia</td>\n      <td>Commonwealth of Independent States</td>\n      <td>4.891</td>\n      <td>9.585</td>\n      <td>0.671</td>\n      <td>64.300</td>\n      <td>0.783</td>\n      <td>-0.238</td>\n      <td>0.655</td>\n      <td>0.44</td>\n      <td>2505.0</td>\n      <td>227420.0</td>\n      <td>3,710,000</td>\n      <td>67.52</td>\n      <td>6129.92</td>\n      <td>0</td>\n    </tr>\n    <tr>\n      <th>85</th>\n      <td>Armenia</td>\n      <td>Commonwealth of Independent States</td>\n      <td>5.283</td>\n      <td>9.487</td>\n      <td>0.799</td>\n      <td>67.055</td>\n      <td>0.825</td>\n      <td>-0.168</td>\n      <td>0.629</td>\n      <td>0.51</td>\n      <td>2823.0</td>\n      <td>159409.0</td>\n      <td>2,963,000</td>\n      <td>95.28</td>\n      <td>5379.99</td>\n      <td>0</td>\n    </tr>\n    <tr>\n      <th>74</th>\n      <td>Belarus</td>\n      <td>Commonwealth of Independent States</td>\n      <td>5.534</td>\n      <td>9.853</td>\n      <td>0.910</td>\n      <td>66.253</td>\n      <td>0.650</td>\n      <td>-0.180</td>\n      <td>0.627</td>\n      <td>0.53</td>\n      <td>1424.0</td>\n      <td>194284.0</td>\n      <td>9,410,000</td>\n      <td>15.13</td>\n      <td>2064.65</td>\n      <td>0</td>\n    </tr>\n    <tr>\n      <th>77</th>\n      <td>Tajikistan</td>\n      <td>Commonwealth of Independent States</td>\n      <td>5.466</td>\n      <td>8.091</td>\n      <td>0.860</td>\n      <td>64.281</td>\n      <td>0.832</td>\n      <td>-0.056</td>\n      <td>0.553</td>\n      <td>0.75</td>\n      <td>90.0</td>\n      <td>13296.0</td>\n      <td>9,538,000</td>\n      <td>0.94</td>\n      <td>139.40</td>\n      <td>0</td>\n    </tr>\n    <tr>\n      <th>41</th>\n      <td>Uzbekistan</td>\n      <td>Commonwealth of Independent States</td>\n      <td>6.179</td>\n      <td>8.836</td>\n      <td>0.918</td>\n      <td>65.255</td>\n      <td>0.970</td>\n      <td>0.311</td>\n      <td>0.515</td>\n      <td>0.74</td>\n      <td>614.0</td>\n      <td>77060.0</td>\n      <td>34,074,000</td>\n      <td>1.80</td>\n      <td>226.15</td>\n      <td>0</td>\n    </tr>\n    <tr>\n      <th>89</th>\n      <td>Azerbaijan</td>\n      <td>Commonwealth of Independent States</td>\n      <td>5.171</td>\n      <td>9.569</td>\n      <td>0.836</td>\n      <td>65.656</td>\n      <td>0.814</td>\n      <td>-0.223</td>\n      <td>0.506</td>\n      <td>0.70</td>\n      <td>2641.0</td>\n      <td>218700.0</td>\n      <td>10,113,000</td>\n      <td>26.11</td>\n      <td>2162.56</td>\n      <td>0</td>\n    </tr>\n  </tbody>\n</table>\n</div>"
     },
     "metadata": {},
     "execution_count": 123
    }
   ],
   "source": [
    "cis.sort_values(by = 'perceptions_of_corruption', ascending = False)"
   ]
  },
  {
   "cell_type": "code",
   "execution_count": 124,
   "id": "940b4bc3",
   "metadata": {},
   "outputs": [
    {
     "output_type": "execute_result",
     "data": {
      "text/plain": [
       "         country          region  score  log_gdp_cap  social_support  \\\n",
       "31     Singapore  Southeast Asia  6.377       11.488           0.915   \n",
       "53      Thailand  Southeast Asia  5.985        9.805           0.888   \n",
       "60   Philippines  Southeast Asia  5.880        9.076           0.830   \n",
       "78       Vietnam  Southeast Asia  5.411        8.973           0.850   \n",
       "80      Malaysia  Southeast Asia  5.384       10.238           0.817   \n",
       "81     Indonesia  Southeast Asia  5.345        9.365           0.811   \n",
       "99          Laos  Southeast Asia  5.030        8.947           0.728   \n",
       "113     Cambodia  Southeast Asia  4.830        8.360           0.765   \n",
       "125      Myanmar  Southeast Asia  4.426        8.541           0.779   \n",
       "\n",
       "     life_expectancy  freedom_to_make_life_choices  generosity  \\\n",
       "31            76.953                         0.927      -0.018   \n",
       "53            67.401                         0.884       0.287   \n",
       "60            62.000                         0.917      -0.097   \n",
       "78            68.034                         0.940      -0.098   \n",
       "80            67.102                         0.895       0.125   \n",
       "81            62.236                         0.873       0.542   \n",
       "99            58.968                         0.910       0.123   \n",
       "113           62.000                         0.959       0.034   \n",
       "125           59.302                         0.876       0.509   \n",
       "\n",
       "     perceptions_of_corruption  ti_corrupt_harmonized  covid_deaths  \\\n",
       "31                       0.082                   0.15          29.0   \n",
       "53                       0.895                   0.64          63.0   \n",
       "60                       0.742                   0.66        9244.0   \n",
       "78                       0.796                   0.64          35.0   \n",
       "80                       0.839                   0.49         471.0   \n",
       "81                       0.867                   0.63       22138.0   \n",
       "99                       0.658                   0.71           0.0   \n",
       "113                      0.843                   0.79           0.0   \n",
       "125                      0.660                   0.72        2682.0   \n",
       "\n",
       "     covid_cases      pop_2020   death_100k  cases_100k  oecd  \n",
       "31       58599.0     5,751,000         0.50     1018.94     0  \n",
       "53        7163.0    69,800,000         0.09       10.26     0  \n",
       "60      474064.0   109,581,000         8.44      432.62     0  \n",
       "78        1465.0    97,339,000         0.04        1.51     0  \n",
       "80      113010.0    32,366,000         1.46      349.16     0  \n",
       "81      743198.0   273,524,000         8.09      271.71     0  \n",
       "99          41.0     7,276,000         0.00        0.56     0  \n",
       "113        378.0    16,719,000         0.00        2.26     0  \n",
       "125     124630.0    54,410,000         4.93      229.06     0  "
      ],
      "text/html": "<div>\n<style scoped>\n    .dataframe tbody tr th:only-of-type {\n        vertical-align: middle;\n    }\n\n    .dataframe tbody tr th {\n        vertical-align: top;\n    }\n\n    .dataframe thead th {\n        text-align: right;\n    }\n</style>\n<table border=\"1\" class=\"dataframe\">\n  <thead>\n    <tr style=\"text-align: right;\">\n      <th></th>\n      <th>country</th>\n      <th>region</th>\n      <th>score</th>\n      <th>log_gdp_cap</th>\n      <th>social_support</th>\n      <th>life_expectancy</th>\n      <th>freedom_to_make_life_choices</th>\n      <th>generosity</th>\n      <th>perceptions_of_corruption</th>\n      <th>ti_corrupt_harmonized</th>\n      <th>covid_deaths</th>\n      <th>covid_cases</th>\n      <th>pop_2020</th>\n      <th>death_100k</th>\n      <th>cases_100k</th>\n      <th>oecd</th>\n    </tr>\n  </thead>\n  <tbody>\n    <tr>\n      <th>31</th>\n      <td>Singapore</td>\n      <td>Southeast Asia</td>\n      <td>6.377</td>\n      <td>11.488</td>\n      <td>0.915</td>\n      <td>76.953</td>\n      <td>0.927</td>\n      <td>-0.018</td>\n      <td>0.082</td>\n      <td>0.15</td>\n      <td>29.0</td>\n      <td>58599.0</td>\n      <td>5,751,000</td>\n      <td>0.50</td>\n      <td>1018.94</td>\n      <td>0</td>\n    </tr>\n    <tr>\n      <th>53</th>\n      <td>Thailand</td>\n      <td>Southeast Asia</td>\n      <td>5.985</td>\n      <td>9.805</td>\n      <td>0.888</td>\n      <td>67.401</td>\n      <td>0.884</td>\n      <td>0.287</td>\n      <td>0.895</td>\n      <td>0.64</td>\n      <td>63.0</td>\n      <td>7163.0</td>\n      <td>69,800,000</td>\n      <td>0.09</td>\n      <td>10.26</td>\n      <td>0</td>\n    </tr>\n    <tr>\n      <th>60</th>\n      <td>Philippines</td>\n      <td>Southeast Asia</td>\n      <td>5.880</td>\n      <td>9.076</td>\n      <td>0.830</td>\n      <td>62.000</td>\n      <td>0.917</td>\n      <td>-0.097</td>\n      <td>0.742</td>\n      <td>0.66</td>\n      <td>9244.0</td>\n      <td>474064.0</td>\n      <td>109,581,000</td>\n      <td>8.44</td>\n      <td>432.62</td>\n      <td>0</td>\n    </tr>\n    <tr>\n      <th>78</th>\n      <td>Vietnam</td>\n      <td>Southeast Asia</td>\n      <td>5.411</td>\n      <td>8.973</td>\n      <td>0.850</td>\n      <td>68.034</td>\n      <td>0.940</td>\n      <td>-0.098</td>\n      <td>0.796</td>\n      <td>0.64</td>\n      <td>35.0</td>\n      <td>1465.0</td>\n      <td>97,339,000</td>\n      <td>0.04</td>\n      <td>1.51</td>\n      <td>0</td>\n    </tr>\n    <tr>\n      <th>80</th>\n      <td>Malaysia</td>\n      <td>Southeast Asia</td>\n      <td>5.384</td>\n      <td>10.238</td>\n      <td>0.817</td>\n      <td>67.102</td>\n      <td>0.895</td>\n      <td>0.125</td>\n      <td>0.839</td>\n      <td>0.49</td>\n      <td>471.0</td>\n      <td>113010.0</td>\n      <td>32,366,000</td>\n      <td>1.46</td>\n      <td>349.16</td>\n      <td>0</td>\n    </tr>\n    <tr>\n      <th>81</th>\n      <td>Indonesia</td>\n      <td>Southeast Asia</td>\n      <td>5.345</td>\n      <td>9.365</td>\n      <td>0.811</td>\n      <td>62.236</td>\n      <td>0.873</td>\n      <td>0.542</td>\n      <td>0.867</td>\n      <td>0.63</td>\n      <td>22138.0</td>\n      <td>743198.0</td>\n      <td>273,524,000</td>\n      <td>8.09</td>\n      <td>271.71</td>\n      <td>0</td>\n    </tr>\n    <tr>\n      <th>99</th>\n      <td>Laos</td>\n      <td>Southeast Asia</td>\n      <td>5.030</td>\n      <td>8.947</td>\n      <td>0.728</td>\n      <td>58.968</td>\n      <td>0.910</td>\n      <td>0.123</td>\n      <td>0.658</td>\n      <td>0.71</td>\n      <td>0.0</td>\n      <td>41.0</td>\n      <td>7,276,000</td>\n      <td>0.00</td>\n      <td>0.56</td>\n      <td>0</td>\n    </tr>\n    <tr>\n      <th>113</th>\n      <td>Cambodia</td>\n      <td>Southeast Asia</td>\n      <td>4.830</td>\n      <td>8.360</td>\n      <td>0.765</td>\n      <td>62.000</td>\n      <td>0.959</td>\n      <td>0.034</td>\n      <td>0.843</td>\n      <td>0.79</td>\n      <td>0.0</td>\n      <td>378.0</td>\n      <td>16,719,000</td>\n      <td>0.00</td>\n      <td>2.26</td>\n      <td>0</td>\n    </tr>\n    <tr>\n      <th>125</th>\n      <td>Myanmar</td>\n      <td>Southeast Asia</td>\n      <td>4.426</td>\n      <td>8.541</td>\n      <td>0.779</td>\n      <td>59.302</td>\n      <td>0.876</td>\n      <td>0.509</td>\n      <td>0.660</td>\n      <td>0.72</td>\n      <td>2682.0</td>\n      <td>124630.0</td>\n      <td>54,410,000</td>\n      <td>4.93</td>\n      <td>229.06</td>\n      <td>0</td>\n    </tr>\n  </tbody>\n</table>\n</div>"
     },
     "metadata": {},
     "execution_count": 124
    }
   ],
   "source": [
    "sea.sort_values(by = 'score', ascending = False)\n"
   ]
  },
  {
   "cell_type": "code",
   "execution_count": 125,
   "id": "4c867a69",
   "metadata": {},
   "outputs": [
    {
     "output_type": "execute_result",
     "data": {
      "text/plain": [
       "         country          region  score  log_gdp_cap  social_support  \\\n",
       "53      Thailand  Southeast Asia  5.985        9.805           0.888   \n",
       "81     Indonesia  Southeast Asia  5.345        9.365           0.811   \n",
       "113     Cambodia  Southeast Asia  4.830        8.360           0.765   \n",
       "80      Malaysia  Southeast Asia  5.384       10.238           0.817   \n",
       "78       Vietnam  Southeast Asia  5.411        8.973           0.850   \n",
       "60   Philippines  Southeast Asia  5.880        9.076           0.830   \n",
       "125      Myanmar  Southeast Asia  4.426        8.541           0.779   \n",
       "99          Laos  Southeast Asia  5.030        8.947           0.728   \n",
       "31     Singapore  Southeast Asia  6.377       11.488           0.915   \n",
       "\n",
       "     life_expectancy  freedom_to_make_life_choices  generosity  \\\n",
       "53            67.401                         0.884       0.287   \n",
       "81            62.236                         0.873       0.542   \n",
       "113           62.000                         0.959       0.034   \n",
       "80            67.102                         0.895       0.125   \n",
       "78            68.034                         0.940      -0.098   \n",
       "60            62.000                         0.917      -0.097   \n",
       "125           59.302                         0.876       0.509   \n",
       "99            58.968                         0.910       0.123   \n",
       "31            76.953                         0.927      -0.018   \n",
       "\n",
       "     perceptions_of_corruption  ti_corrupt_harmonized  covid_deaths  \\\n",
       "53                       0.895                   0.64          63.0   \n",
       "81                       0.867                   0.63       22138.0   \n",
       "113                      0.843                   0.79           0.0   \n",
       "80                       0.839                   0.49         471.0   \n",
       "78                       0.796                   0.64          35.0   \n",
       "60                       0.742                   0.66        9244.0   \n",
       "125                      0.660                   0.72        2682.0   \n",
       "99                       0.658                   0.71           0.0   \n",
       "31                       0.082                   0.15          29.0   \n",
       "\n",
       "     covid_cases      pop_2020   death_100k  cases_100k  oecd  \n",
       "53        7163.0    69,800,000         0.09       10.26     0  \n",
       "81      743198.0   273,524,000         8.09      271.71     0  \n",
       "113        378.0    16,719,000         0.00        2.26     0  \n",
       "80      113010.0    32,366,000         1.46      349.16     0  \n",
       "78        1465.0    97,339,000         0.04        1.51     0  \n",
       "60      474064.0   109,581,000         8.44      432.62     0  \n",
       "125     124630.0    54,410,000         4.93      229.06     0  \n",
       "99          41.0     7,276,000         0.00        0.56     0  \n",
       "31       58599.0     5,751,000         0.50     1018.94     0  "
      ],
      "text/html": "<div>\n<style scoped>\n    .dataframe tbody tr th:only-of-type {\n        vertical-align: middle;\n    }\n\n    .dataframe tbody tr th {\n        vertical-align: top;\n    }\n\n    .dataframe thead th {\n        text-align: right;\n    }\n</style>\n<table border=\"1\" class=\"dataframe\">\n  <thead>\n    <tr style=\"text-align: right;\">\n      <th></th>\n      <th>country</th>\n      <th>region</th>\n      <th>score</th>\n      <th>log_gdp_cap</th>\n      <th>social_support</th>\n      <th>life_expectancy</th>\n      <th>freedom_to_make_life_choices</th>\n      <th>generosity</th>\n      <th>perceptions_of_corruption</th>\n      <th>ti_corrupt_harmonized</th>\n      <th>covid_deaths</th>\n      <th>covid_cases</th>\n      <th>pop_2020</th>\n      <th>death_100k</th>\n      <th>cases_100k</th>\n      <th>oecd</th>\n    </tr>\n  </thead>\n  <tbody>\n    <tr>\n      <th>53</th>\n      <td>Thailand</td>\n      <td>Southeast Asia</td>\n      <td>5.985</td>\n      <td>9.805</td>\n      <td>0.888</td>\n      <td>67.401</td>\n      <td>0.884</td>\n      <td>0.287</td>\n      <td>0.895</td>\n      <td>0.64</td>\n      <td>63.0</td>\n      <td>7163.0</td>\n      <td>69,800,000</td>\n      <td>0.09</td>\n      <td>10.26</td>\n      <td>0</td>\n    </tr>\n    <tr>\n      <th>81</th>\n      <td>Indonesia</td>\n      <td>Southeast Asia</td>\n      <td>5.345</td>\n      <td>9.365</td>\n      <td>0.811</td>\n      <td>62.236</td>\n      <td>0.873</td>\n      <td>0.542</td>\n      <td>0.867</td>\n      <td>0.63</td>\n      <td>22138.0</td>\n      <td>743198.0</td>\n      <td>273,524,000</td>\n      <td>8.09</td>\n      <td>271.71</td>\n      <td>0</td>\n    </tr>\n    <tr>\n      <th>113</th>\n      <td>Cambodia</td>\n      <td>Southeast Asia</td>\n      <td>4.830</td>\n      <td>8.360</td>\n      <td>0.765</td>\n      <td>62.000</td>\n      <td>0.959</td>\n      <td>0.034</td>\n      <td>0.843</td>\n      <td>0.79</td>\n      <td>0.0</td>\n      <td>378.0</td>\n      <td>16,719,000</td>\n      <td>0.00</td>\n      <td>2.26</td>\n      <td>0</td>\n    </tr>\n    <tr>\n      <th>80</th>\n      <td>Malaysia</td>\n      <td>Southeast Asia</td>\n      <td>5.384</td>\n      <td>10.238</td>\n      <td>0.817</td>\n      <td>67.102</td>\n      <td>0.895</td>\n      <td>0.125</td>\n      <td>0.839</td>\n      <td>0.49</td>\n      <td>471.0</td>\n      <td>113010.0</td>\n      <td>32,366,000</td>\n      <td>1.46</td>\n      <td>349.16</td>\n      <td>0</td>\n    </tr>\n    <tr>\n      <th>78</th>\n      <td>Vietnam</td>\n      <td>Southeast Asia</td>\n      <td>5.411</td>\n      <td>8.973</td>\n      <td>0.850</td>\n      <td>68.034</td>\n      <td>0.940</td>\n      <td>-0.098</td>\n      <td>0.796</td>\n      <td>0.64</td>\n      <td>35.0</td>\n      <td>1465.0</td>\n      <td>97,339,000</td>\n      <td>0.04</td>\n      <td>1.51</td>\n      <td>0</td>\n    </tr>\n    <tr>\n      <th>60</th>\n      <td>Philippines</td>\n      <td>Southeast Asia</td>\n      <td>5.880</td>\n      <td>9.076</td>\n      <td>0.830</td>\n      <td>62.000</td>\n      <td>0.917</td>\n      <td>-0.097</td>\n      <td>0.742</td>\n      <td>0.66</td>\n      <td>9244.0</td>\n      <td>474064.0</td>\n      <td>109,581,000</td>\n      <td>8.44</td>\n      <td>432.62</td>\n      <td>0</td>\n    </tr>\n    <tr>\n      <th>125</th>\n      <td>Myanmar</td>\n      <td>Southeast Asia</td>\n      <td>4.426</td>\n      <td>8.541</td>\n      <td>0.779</td>\n      <td>59.302</td>\n      <td>0.876</td>\n      <td>0.509</td>\n      <td>0.660</td>\n      <td>0.72</td>\n      <td>2682.0</td>\n      <td>124630.0</td>\n      <td>54,410,000</td>\n      <td>4.93</td>\n      <td>229.06</td>\n      <td>0</td>\n    </tr>\n    <tr>\n      <th>99</th>\n      <td>Laos</td>\n      <td>Southeast Asia</td>\n      <td>5.030</td>\n      <td>8.947</td>\n      <td>0.728</td>\n      <td>58.968</td>\n      <td>0.910</td>\n      <td>0.123</td>\n      <td>0.658</td>\n      <td>0.71</td>\n      <td>0.0</td>\n      <td>41.0</td>\n      <td>7,276,000</td>\n      <td>0.00</td>\n      <td>0.56</td>\n      <td>0</td>\n    </tr>\n    <tr>\n      <th>31</th>\n      <td>Singapore</td>\n      <td>Southeast Asia</td>\n      <td>6.377</td>\n      <td>11.488</td>\n      <td>0.915</td>\n      <td>76.953</td>\n      <td>0.927</td>\n      <td>-0.018</td>\n      <td>0.082</td>\n      <td>0.15</td>\n      <td>29.0</td>\n      <td>58599.0</td>\n      <td>5,751,000</td>\n      <td>0.50</td>\n      <td>1018.94</td>\n      <td>0</td>\n    </tr>\n  </tbody>\n</table>\n</div>"
     },
     "metadata": {},
     "execution_count": 125
    }
   ],
   "source": [
    "sea.sort_values(by = 'perceptions_of_corruption', ascending = False)"
   ]
  },
  {
   "cell_type": "code",
   "execution_count": 126,
   "id": "2774ed6b",
   "metadata": {},
   "outputs": [
    {
     "output_type": "execute_result",
     "data": {
      "text/plain": [
       "        country     region  score  log_gdp_cap  social_support  \\\n",
       "23       Taiwan  East Asia  6.584       10.871           0.898   \n",
       "55        Japan  East Asia  5.940       10.611           0.884   \n",
       "61  South Korea  East Asia  5.845       10.651           0.799   \n",
       "69     Mongolia  East Asia  5.677        9.400           0.935   \n",
       "76    Hong Kong  East Asia  5.477       11.000           0.836   \n",
       "83        China  East Asia  5.339        9.673           0.811   \n",
       "\n",
       "    life_expectancy  freedom_to_make_life_choices  generosity  \\\n",
       "23           69.600                         0.784      -0.070   \n",
       "55           75.100                         0.796      -0.258   \n",
       "61           73.900                         0.672      -0.083   \n",
       "69           62.500                         0.708       0.116   \n",
       "76           76.820                         0.717       0.067   \n",
       "83           69.593                         0.904      -0.146   \n",
       "\n",
       "    perceptions_of_corruption  ti_corrupt_harmonized  covid_deaths  \\\n",
       "23                      0.721                   0.35           7.0   \n",
       "55                      0.638                   0.26        3292.0   \n",
       "61                      0.727                   0.39         917.0   \n",
       "69                      0.856                   0.65           1.0   \n",
       "76                      0.403                   0.23         148.0   \n",
       "83                      0.755                   0.58        4634.0   \n",
       "\n",
       "    covid_cases        pop_2020   death_100k  cases_100k  oecd  \n",
       "23        799.0      23,854,162         0.03        3.35     0  \n",
       "55     235811.0     125,769,000         2.62      187.50     1  \n",
       "61      61769.0      51,727,000         1.77      119.41     1  \n",
       "69       1220.0       3,278,000         0.03       37.22     0  \n",
       "76       8846.0       7,560,000         1.96      117.01     0  \n",
       "83      87117.0   1,402,667,000         0.33        6.21     0  "
      ],
      "text/html": "<div>\n<style scoped>\n    .dataframe tbody tr th:only-of-type {\n        vertical-align: middle;\n    }\n\n    .dataframe tbody tr th {\n        vertical-align: top;\n    }\n\n    .dataframe thead th {\n        text-align: right;\n    }\n</style>\n<table border=\"1\" class=\"dataframe\">\n  <thead>\n    <tr style=\"text-align: right;\">\n      <th></th>\n      <th>country</th>\n      <th>region</th>\n      <th>score</th>\n      <th>log_gdp_cap</th>\n      <th>social_support</th>\n      <th>life_expectancy</th>\n      <th>freedom_to_make_life_choices</th>\n      <th>generosity</th>\n      <th>perceptions_of_corruption</th>\n      <th>ti_corrupt_harmonized</th>\n      <th>covid_deaths</th>\n      <th>covid_cases</th>\n      <th>pop_2020</th>\n      <th>death_100k</th>\n      <th>cases_100k</th>\n      <th>oecd</th>\n    </tr>\n  </thead>\n  <tbody>\n    <tr>\n      <th>23</th>\n      <td>Taiwan</td>\n      <td>East Asia</td>\n      <td>6.584</td>\n      <td>10.871</td>\n      <td>0.898</td>\n      <td>69.600</td>\n      <td>0.784</td>\n      <td>-0.070</td>\n      <td>0.721</td>\n      <td>0.35</td>\n      <td>7.0</td>\n      <td>799.0</td>\n      <td>23,854,162</td>\n      <td>0.03</td>\n      <td>3.35</td>\n      <td>0</td>\n    </tr>\n    <tr>\n      <th>55</th>\n      <td>Japan</td>\n      <td>East Asia</td>\n      <td>5.940</td>\n      <td>10.611</td>\n      <td>0.884</td>\n      <td>75.100</td>\n      <td>0.796</td>\n      <td>-0.258</td>\n      <td>0.638</td>\n      <td>0.26</td>\n      <td>3292.0</td>\n      <td>235811.0</td>\n      <td>125,769,000</td>\n      <td>2.62</td>\n      <td>187.50</td>\n      <td>1</td>\n    </tr>\n    <tr>\n      <th>61</th>\n      <td>South Korea</td>\n      <td>East Asia</td>\n      <td>5.845</td>\n      <td>10.651</td>\n      <td>0.799</td>\n      <td>73.900</td>\n      <td>0.672</td>\n      <td>-0.083</td>\n      <td>0.727</td>\n      <td>0.39</td>\n      <td>917.0</td>\n      <td>61769.0</td>\n      <td>51,727,000</td>\n      <td>1.77</td>\n      <td>119.41</td>\n      <td>1</td>\n    </tr>\n    <tr>\n      <th>69</th>\n      <td>Mongolia</td>\n      <td>East Asia</td>\n      <td>5.677</td>\n      <td>9.400</td>\n      <td>0.935</td>\n      <td>62.500</td>\n      <td>0.708</td>\n      <td>0.116</td>\n      <td>0.856</td>\n      <td>0.65</td>\n      <td>1.0</td>\n      <td>1220.0</td>\n      <td>3,278,000</td>\n      <td>0.03</td>\n      <td>37.22</td>\n      <td>0</td>\n    </tr>\n    <tr>\n      <th>76</th>\n      <td>Hong Kong</td>\n      <td>East Asia</td>\n      <td>5.477</td>\n      <td>11.000</td>\n      <td>0.836</td>\n      <td>76.820</td>\n      <td>0.717</td>\n      <td>0.067</td>\n      <td>0.403</td>\n      <td>0.23</td>\n      <td>148.0</td>\n      <td>8846.0</td>\n      <td>7,560,000</td>\n      <td>1.96</td>\n      <td>117.01</td>\n      <td>0</td>\n    </tr>\n    <tr>\n      <th>83</th>\n      <td>China</td>\n      <td>East Asia</td>\n      <td>5.339</td>\n      <td>9.673</td>\n      <td>0.811</td>\n      <td>69.593</td>\n      <td>0.904</td>\n      <td>-0.146</td>\n      <td>0.755</td>\n      <td>0.58</td>\n      <td>4634.0</td>\n      <td>87117.0</td>\n      <td>1,402,667,000</td>\n      <td>0.33</td>\n      <td>6.21</td>\n      <td>0</td>\n    </tr>\n  </tbody>\n</table>\n</div>"
     },
     "metadata": {},
     "execution_count": 126
    }
   ],
   "source": [
    "ea.sort_values(by = 'score', ascending = False)\n"
   ]
  },
  {
   "cell_type": "code",
   "execution_count": 127,
   "id": "34a3d2c3",
   "metadata": {},
   "outputs": [
    {
     "output_type": "execute_result",
     "data": {
      "text/plain": [
       "        country     region  score  log_gdp_cap  social_support  \\\n",
       "69     Mongolia  East Asia  5.677        9.400           0.935   \n",
       "83        China  East Asia  5.339        9.673           0.811   \n",
       "61  South Korea  East Asia  5.845       10.651           0.799   \n",
       "23       Taiwan  East Asia  6.584       10.871           0.898   \n",
       "55        Japan  East Asia  5.940       10.611           0.884   \n",
       "76    Hong Kong  East Asia  5.477       11.000           0.836   \n",
       "\n",
       "    life_expectancy  freedom_to_make_life_choices  generosity  \\\n",
       "69           62.500                         0.708       0.116   \n",
       "83           69.593                         0.904      -0.146   \n",
       "61           73.900                         0.672      -0.083   \n",
       "23           69.600                         0.784      -0.070   \n",
       "55           75.100                         0.796      -0.258   \n",
       "76           76.820                         0.717       0.067   \n",
       "\n",
       "    perceptions_of_corruption  ti_corrupt_harmonized  covid_deaths  \\\n",
       "69                      0.856                   0.65           1.0   \n",
       "83                      0.755                   0.58        4634.0   \n",
       "61                      0.727                   0.39         917.0   \n",
       "23                      0.721                   0.35           7.0   \n",
       "55                      0.638                   0.26        3292.0   \n",
       "76                      0.403                   0.23         148.0   \n",
       "\n",
       "    covid_cases        pop_2020   death_100k  cases_100k  oecd  \n",
       "69       1220.0       3,278,000         0.03       37.22     0  \n",
       "83      87117.0   1,402,667,000         0.33        6.21     0  \n",
       "61      61769.0      51,727,000         1.77      119.41     1  \n",
       "23        799.0      23,854,162         0.03        3.35     0  \n",
       "55     235811.0     125,769,000         2.62      187.50     1  \n",
       "76       8846.0       7,560,000         1.96      117.01     0  "
      ],
      "text/html": "<div>\n<style scoped>\n    .dataframe tbody tr th:only-of-type {\n        vertical-align: middle;\n    }\n\n    .dataframe tbody tr th {\n        vertical-align: top;\n    }\n\n    .dataframe thead th {\n        text-align: right;\n    }\n</style>\n<table border=\"1\" class=\"dataframe\">\n  <thead>\n    <tr style=\"text-align: right;\">\n      <th></th>\n      <th>country</th>\n      <th>region</th>\n      <th>score</th>\n      <th>log_gdp_cap</th>\n      <th>social_support</th>\n      <th>life_expectancy</th>\n      <th>freedom_to_make_life_choices</th>\n      <th>generosity</th>\n      <th>perceptions_of_corruption</th>\n      <th>ti_corrupt_harmonized</th>\n      <th>covid_deaths</th>\n      <th>covid_cases</th>\n      <th>pop_2020</th>\n      <th>death_100k</th>\n      <th>cases_100k</th>\n      <th>oecd</th>\n    </tr>\n  </thead>\n  <tbody>\n    <tr>\n      <th>69</th>\n      <td>Mongolia</td>\n      <td>East Asia</td>\n      <td>5.677</td>\n      <td>9.400</td>\n      <td>0.935</td>\n      <td>62.500</td>\n      <td>0.708</td>\n      <td>0.116</td>\n      <td>0.856</td>\n      <td>0.65</td>\n      <td>1.0</td>\n      <td>1220.0</td>\n      <td>3,278,000</td>\n      <td>0.03</td>\n      <td>37.22</td>\n      <td>0</td>\n    </tr>\n    <tr>\n      <th>83</th>\n      <td>China</td>\n      <td>East Asia</td>\n      <td>5.339</td>\n      <td>9.673</td>\n      <td>0.811</td>\n      <td>69.593</td>\n      <td>0.904</td>\n      <td>-0.146</td>\n      <td>0.755</td>\n      <td>0.58</td>\n      <td>4634.0</td>\n      <td>87117.0</td>\n      <td>1,402,667,000</td>\n      <td>0.33</td>\n      <td>6.21</td>\n      <td>0</td>\n    </tr>\n    <tr>\n      <th>61</th>\n      <td>South Korea</td>\n      <td>East Asia</td>\n      <td>5.845</td>\n      <td>10.651</td>\n      <td>0.799</td>\n      <td>73.900</td>\n      <td>0.672</td>\n      <td>-0.083</td>\n      <td>0.727</td>\n      <td>0.39</td>\n      <td>917.0</td>\n      <td>61769.0</td>\n      <td>51,727,000</td>\n      <td>1.77</td>\n      <td>119.41</td>\n      <td>1</td>\n    </tr>\n    <tr>\n      <th>23</th>\n      <td>Taiwan</td>\n      <td>East Asia</td>\n      <td>6.584</td>\n      <td>10.871</td>\n      <td>0.898</td>\n      <td>69.600</td>\n      <td>0.784</td>\n      <td>-0.070</td>\n      <td>0.721</td>\n      <td>0.35</td>\n      <td>7.0</td>\n      <td>799.0</td>\n      <td>23,854,162</td>\n      <td>0.03</td>\n      <td>3.35</td>\n      <td>0</td>\n    </tr>\n    <tr>\n      <th>55</th>\n      <td>Japan</td>\n      <td>East Asia</td>\n      <td>5.940</td>\n      <td>10.611</td>\n      <td>0.884</td>\n      <td>75.100</td>\n      <td>0.796</td>\n      <td>-0.258</td>\n      <td>0.638</td>\n      <td>0.26</td>\n      <td>3292.0</td>\n      <td>235811.0</td>\n      <td>125,769,000</td>\n      <td>2.62</td>\n      <td>187.50</td>\n      <td>1</td>\n    </tr>\n    <tr>\n      <th>76</th>\n      <td>Hong Kong</td>\n      <td>East Asia</td>\n      <td>5.477</td>\n      <td>11.000</td>\n      <td>0.836</td>\n      <td>76.820</td>\n      <td>0.717</td>\n      <td>0.067</td>\n      <td>0.403</td>\n      <td>0.23</td>\n      <td>148.0</td>\n      <td>8846.0</td>\n      <td>7,560,000</td>\n      <td>1.96</td>\n      <td>117.01</td>\n      <td>0</td>\n    </tr>\n  </tbody>\n</table>\n</div>"
     },
     "metadata": {},
     "execution_count": 127
    }
   ],
   "source": [
    "ea.sort_values(by = 'perceptions_of_corruption', ascending = False)"
   ]
  },
  {
   "cell_type": "code",
   "execution_count": 128,
   "id": "014c0b74",
   "metadata": {},
   "outputs": [
    {
     "output_type": "execute_result",
     "data": {
      "text/plain": [
       "         country      region  score  log_gdp_cap  social_support  \\\n",
       "86         Nepal  South Asia  5.269        8.120           0.774   \n",
       "88      Maldives  South Asia  5.198        9.826           0.913   \n",
       "100   Bangladesh  South Asia  5.025        8.454           0.693   \n",
       "104     Pakistan  South Asia  4.934        8.458           0.651   \n",
       "128    Sri Lanka  South Asia  4.325        9.470           0.827   \n",
       "138        India  South Asia  3.819        8.755           0.603   \n",
       "148  Afghanistan  South Asia  2.523        7.695           0.463   \n",
       "\n",
       "     life_expectancy  freedom_to_make_life_choices  generosity  \\\n",
       "86            64.233                         0.782       0.152   \n",
       "88            70.600                         0.854       0.024   \n",
       "100           64.800                         0.877      -0.041   \n",
       "104           58.709                         0.726       0.098   \n",
       "128           67.299                         0.841       0.079   \n",
       "138           60.633                         0.893       0.089   \n",
       "148           52.493                         0.382      -0.102   \n",
       "\n",
       "     perceptions_of_corruption  ti_corrupt_harmonized  covid_deaths  \\\n",
       "86                       0.727                   0.67        1856.0   \n",
       "88                       0.825                   0.57          48.0   \n",
       "100                      0.682                   0.74        7559.0   \n",
       "104                      0.787                   0.69       10176.0   \n",
       "128                      0.863                   0.62         204.0   \n",
       "138                      0.774                   0.60      148738.0   \n",
       "148                      0.924                   0.81        2191.0   \n",
       "\n",
       "     covid_cases        pop_2020   death_100k  cases_100k  oecd  \n",
       "86      260593.0      29,137,000         6.37      894.37     0  \n",
       "88       13757.0         541,000         8.87     2542.88     0  \n",
       "100     513510.0     164,689,000         4.59      311.81     0  \n",
       "104     482178.0     220,892,000         4.61      218.29     0  \n",
       "128      43299.0      21,898,000         0.93      197.73     0  \n",
       "138   10266674.0   1,380,004,000        10.78      743.96     0  \n",
       "148      51526.0      38,928,000         5.63      132.36     0  "
      ],
      "text/html": "<div>\n<style scoped>\n    .dataframe tbody tr th:only-of-type {\n        vertical-align: middle;\n    }\n\n    .dataframe tbody tr th {\n        vertical-align: top;\n    }\n\n    .dataframe thead th {\n        text-align: right;\n    }\n</style>\n<table border=\"1\" class=\"dataframe\">\n  <thead>\n    <tr style=\"text-align: right;\">\n      <th></th>\n      <th>country</th>\n      <th>region</th>\n      <th>score</th>\n      <th>log_gdp_cap</th>\n      <th>social_support</th>\n      <th>life_expectancy</th>\n      <th>freedom_to_make_life_choices</th>\n      <th>generosity</th>\n      <th>perceptions_of_corruption</th>\n      <th>ti_corrupt_harmonized</th>\n      <th>covid_deaths</th>\n      <th>covid_cases</th>\n      <th>pop_2020</th>\n      <th>death_100k</th>\n      <th>cases_100k</th>\n      <th>oecd</th>\n    </tr>\n  </thead>\n  <tbody>\n    <tr>\n      <th>86</th>\n      <td>Nepal</td>\n      <td>South Asia</td>\n      <td>5.269</td>\n      <td>8.120</td>\n      <td>0.774</td>\n      <td>64.233</td>\n      <td>0.782</td>\n      <td>0.152</td>\n      <td>0.727</td>\n      <td>0.67</td>\n      <td>1856.0</td>\n      <td>260593.0</td>\n      <td>29,137,000</td>\n      <td>6.37</td>\n      <td>894.37</td>\n      <td>0</td>\n    </tr>\n    <tr>\n      <th>88</th>\n      <td>Maldives</td>\n      <td>South Asia</td>\n      <td>5.198</td>\n      <td>9.826</td>\n      <td>0.913</td>\n      <td>70.600</td>\n      <td>0.854</td>\n      <td>0.024</td>\n      <td>0.825</td>\n      <td>0.57</td>\n      <td>48.0</td>\n      <td>13757.0</td>\n      <td>541,000</td>\n      <td>8.87</td>\n      <td>2542.88</td>\n      <td>0</td>\n    </tr>\n    <tr>\n      <th>100</th>\n      <td>Bangladesh</td>\n      <td>South Asia</td>\n      <td>5.025</td>\n      <td>8.454</td>\n      <td>0.693</td>\n      <td>64.800</td>\n      <td>0.877</td>\n      <td>-0.041</td>\n      <td>0.682</td>\n      <td>0.74</td>\n      <td>7559.0</td>\n      <td>513510.0</td>\n      <td>164,689,000</td>\n      <td>4.59</td>\n      <td>311.81</td>\n      <td>0</td>\n    </tr>\n    <tr>\n      <th>104</th>\n      <td>Pakistan</td>\n      <td>South Asia</td>\n      <td>4.934</td>\n      <td>8.458</td>\n      <td>0.651</td>\n      <td>58.709</td>\n      <td>0.726</td>\n      <td>0.098</td>\n      <td>0.787</td>\n      <td>0.69</td>\n      <td>10176.0</td>\n      <td>482178.0</td>\n      <td>220,892,000</td>\n      <td>4.61</td>\n      <td>218.29</td>\n      <td>0</td>\n    </tr>\n    <tr>\n      <th>128</th>\n      <td>Sri Lanka</td>\n      <td>South Asia</td>\n      <td>4.325</td>\n      <td>9.470</td>\n      <td>0.827</td>\n      <td>67.299</td>\n      <td>0.841</td>\n      <td>0.079</td>\n      <td>0.863</td>\n      <td>0.62</td>\n      <td>204.0</td>\n      <td>43299.0</td>\n      <td>21,898,000</td>\n      <td>0.93</td>\n      <td>197.73</td>\n      <td>0</td>\n    </tr>\n    <tr>\n      <th>138</th>\n      <td>India</td>\n      <td>South Asia</td>\n      <td>3.819</td>\n      <td>8.755</td>\n      <td>0.603</td>\n      <td>60.633</td>\n      <td>0.893</td>\n      <td>0.089</td>\n      <td>0.774</td>\n      <td>0.60</td>\n      <td>148738.0</td>\n      <td>10266674.0</td>\n      <td>1,380,004,000</td>\n      <td>10.78</td>\n      <td>743.96</td>\n      <td>0</td>\n    </tr>\n    <tr>\n      <th>148</th>\n      <td>Afghanistan</td>\n      <td>South Asia</td>\n      <td>2.523</td>\n      <td>7.695</td>\n      <td>0.463</td>\n      <td>52.493</td>\n      <td>0.382</td>\n      <td>-0.102</td>\n      <td>0.924</td>\n      <td>0.81</td>\n      <td>2191.0</td>\n      <td>51526.0</td>\n      <td>38,928,000</td>\n      <td>5.63</td>\n      <td>132.36</td>\n      <td>0</td>\n    </tr>\n  </tbody>\n</table>\n</div>"
     },
     "metadata": {},
     "execution_count": 128
    }
   ],
   "source": [
    "sa.sort_values(by = 'score', ascending = False)\n"
   ]
  },
  {
   "cell_type": "code",
   "execution_count": 129,
   "id": "01664943",
   "metadata": {},
   "outputs": [
    {
     "output_type": "execute_result",
     "data": {
      "text/plain": [
       "         country      region  score  log_gdp_cap  social_support  \\\n",
       "148  Afghanistan  South Asia  2.523        7.695           0.463   \n",
       "128    Sri Lanka  South Asia  4.325        9.470           0.827   \n",
       "88      Maldives  South Asia  5.198        9.826           0.913   \n",
       "104     Pakistan  South Asia  4.934        8.458           0.651   \n",
       "138        India  South Asia  3.819        8.755           0.603   \n",
       "86         Nepal  South Asia  5.269        8.120           0.774   \n",
       "100   Bangladesh  South Asia  5.025        8.454           0.693   \n",
       "\n",
       "     life_expectancy  freedom_to_make_life_choices  generosity  \\\n",
       "148           52.493                         0.382      -0.102   \n",
       "128           67.299                         0.841       0.079   \n",
       "88            70.600                         0.854       0.024   \n",
       "104           58.709                         0.726       0.098   \n",
       "138           60.633                         0.893       0.089   \n",
       "86            64.233                         0.782       0.152   \n",
       "100           64.800                         0.877      -0.041   \n",
       "\n",
       "     perceptions_of_corruption  ti_corrupt_harmonized  covid_deaths  \\\n",
       "148                      0.924                   0.81        2191.0   \n",
       "128                      0.863                   0.62         204.0   \n",
       "88                       0.825                   0.57          48.0   \n",
       "104                      0.787                   0.69       10176.0   \n",
       "138                      0.774                   0.60      148738.0   \n",
       "86                       0.727                   0.67        1856.0   \n",
       "100                      0.682                   0.74        7559.0   \n",
       "\n",
       "     covid_cases        pop_2020   death_100k  cases_100k  oecd  \n",
       "148      51526.0      38,928,000         5.63      132.36     0  \n",
       "128      43299.0      21,898,000         0.93      197.73     0  \n",
       "88       13757.0         541,000         8.87     2542.88     0  \n",
       "104     482178.0     220,892,000         4.61      218.29     0  \n",
       "138   10266674.0   1,380,004,000        10.78      743.96     0  \n",
       "86      260593.0      29,137,000         6.37      894.37     0  \n",
       "100     513510.0     164,689,000         4.59      311.81     0  "
      ],
      "text/html": "<div>\n<style scoped>\n    .dataframe tbody tr th:only-of-type {\n        vertical-align: middle;\n    }\n\n    .dataframe tbody tr th {\n        vertical-align: top;\n    }\n\n    .dataframe thead th {\n        text-align: right;\n    }\n</style>\n<table border=\"1\" class=\"dataframe\">\n  <thead>\n    <tr style=\"text-align: right;\">\n      <th></th>\n      <th>country</th>\n      <th>region</th>\n      <th>score</th>\n      <th>log_gdp_cap</th>\n      <th>social_support</th>\n      <th>life_expectancy</th>\n      <th>freedom_to_make_life_choices</th>\n      <th>generosity</th>\n      <th>perceptions_of_corruption</th>\n      <th>ti_corrupt_harmonized</th>\n      <th>covid_deaths</th>\n      <th>covid_cases</th>\n      <th>pop_2020</th>\n      <th>death_100k</th>\n      <th>cases_100k</th>\n      <th>oecd</th>\n    </tr>\n  </thead>\n  <tbody>\n    <tr>\n      <th>148</th>\n      <td>Afghanistan</td>\n      <td>South Asia</td>\n      <td>2.523</td>\n      <td>7.695</td>\n      <td>0.463</td>\n      <td>52.493</td>\n      <td>0.382</td>\n      <td>-0.102</td>\n      <td>0.924</td>\n      <td>0.81</td>\n      <td>2191.0</td>\n      <td>51526.0</td>\n      <td>38,928,000</td>\n      <td>5.63</td>\n      <td>132.36</td>\n      <td>0</td>\n    </tr>\n    <tr>\n      <th>128</th>\n      <td>Sri Lanka</td>\n      <td>South Asia</td>\n      <td>4.325</td>\n      <td>9.470</td>\n      <td>0.827</td>\n      <td>67.299</td>\n      <td>0.841</td>\n      <td>0.079</td>\n      <td>0.863</td>\n      <td>0.62</td>\n      <td>204.0</td>\n      <td>43299.0</td>\n      <td>21,898,000</td>\n      <td>0.93</td>\n      <td>197.73</td>\n      <td>0</td>\n    </tr>\n    <tr>\n      <th>88</th>\n      <td>Maldives</td>\n      <td>South Asia</td>\n      <td>5.198</td>\n      <td>9.826</td>\n      <td>0.913</td>\n      <td>70.600</td>\n      <td>0.854</td>\n      <td>0.024</td>\n      <td>0.825</td>\n      <td>0.57</td>\n      <td>48.0</td>\n      <td>13757.0</td>\n      <td>541,000</td>\n      <td>8.87</td>\n      <td>2542.88</td>\n      <td>0</td>\n    </tr>\n    <tr>\n      <th>104</th>\n      <td>Pakistan</td>\n      <td>South Asia</td>\n      <td>4.934</td>\n      <td>8.458</td>\n      <td>0.651</td>\n      <td>58.709</td>\n      <td>0.726</td>\n      <td>0.098</td>\n      <td>0.787</td>\n      <td>0.69</td>\n      <td>10176.0</td>\n      <td>482178.0</td>\n      <td>220,892,000</td>\n      <td>4.61</td>\n      <td>218.29</td>\n      <td>0</td>\n    </tr>\n    <tr>\n      <th>138</th>\n      <td>India</td>\n      <td>South Asia</td>\n      <td>3.819</td>\n      <td>8.755</td>\n      <td>0.603</td>\n      <td>60.633</td>\n      <td>0.893</td>\n      <td>0.089</td>\n      <td>0.774</td>\n      <td>0.60</td>\n      <td>148738.0</td>\n      <td>10266674.0</td>\n      <td>1,380,004,000</td>\n      <td>10.78</td>\n      <td>743.96</td>\n      <td>0</td>\n    </tr>\n    <tr>\n      <th>86</th>\n      <td>Nepal</td>\n      <td>South Asia</td>\n      <td>5.269</td>\n      <td>8.120</td>\n      <td>0.774</td>\n      <td>64.233</td>\n      <td>0.782</td>\n      <td>0.152</td>\n      <td>0.727</td>\n      <td>0.67</td>\n      <td>1856.0</td>\n      <td>260593.0</td>\n      <td>29,137,000</td>\n      <td>6.37</td>\n      <td>894.37</td>\n      <td>0</td>\n    </tr>\n    <tr>\n      <th>100</th>\n      <td>Bangladesh</td>\n      <td>South Asia</td>\n      <td>5.025</td>\n      <td>8.454</td>\n      <td>0.693</td>\n      <td>64.800</td>\n      <td>0.877</td>\n      <td>-0.041</td>\n      <td>0.682</td>\n      <td>0.74</td>\n      <td>7559.0</td>\n      <td>513510.0</td>\n      <td>164,689,000</td>\n      <td>4.59</td>\n      <td>311.81</td>\n      <td>0</td>\n    </tr>\n  </tbody>\n</table>\n</div>"
     },
     "metadata": {},
     "execution_count": 129
    }
   ],
   "source": [
    "sa.sort_values(by = 'perceptions_of_corruption', ascending = False)"
   ]
  },
  {
   "cell_type": "code",
   "execution_count": 130,
   "id": "1cf6cb08",
   "metadata": {},
   "outputs": [
    {
     "output_type": "execute_result",
     "data": {
      "text/plain": [
       "          country                 region  score  log_gdp_cap  social_support  \\\n",
       "8     New Zealand  North America and ANZ  7.277       10.643           0.948   \n",
       "10      Australia  North America and ANZ  7.183       10.796           0.940   \n",
       "13         Canada  North America and ANZ  7.103       10.776           0.926   \n",
       "18  United States  North America and ANZ  6.951       11.023           0.920   \n",
       "\n",
       "    life_expectancy  freedom_to_make_life_choices  generosity  \\\n",
       "8              73.4                         0.929       0.134   \n",
       "10             73.9                         0.914       0.159   \n",
       "13             73.8                         0.915       0.089   \n",
       "18             68.2                         0.837       0.098   \n",
       "\n",
       "    perceptions_of_corruption  ti_corrupt_harmonized  covid_deaths  \\\n",
       "8                       0.242                   0.12          25.0   \n",
       "10                      0.442                   0.23         909.0   \n",
       "13                      0.415                   0.23       15762.0   \n",
       "18                      0.698                   0.33      352210.0   \n",
       "\n",
       "    covid_cases      pop_2020   death_100k  cases_100k  oecd  \n",
       "8        2162.0     5,018,000         0.50       43.08     1  \n",
       "10      28425.0    25,653,000         3.54      110.81     1  \n",
       "13     584409.0    37,916,000        41.57     1541.33     1  \n",
       "18   20100244.0   330,139,000       106.69     6088.42     1  "
      ],
      "text/html": "<div>\n<style scoped>\n    .dataframe tbody tr th:only-of-type {\n        vertical-align: middle;\n    }\n\n    .dataframe tbody tr th {\n        vertical-align: top;\n    }\n\n    .dataframe thead th {\n        text-align: right;\n    }\n</style>\n<table border=\"1\" class=\"dataframe\">\n  <thead>\n    <tr style=\"text-align: right;\">\n      <th></th>\n      <th>country</th>\n      <th>region</th>\n      <th>score</th>\n      <th>log_gdp_cap</th>\n      <th>social_support</th>\n      <th>life_expectancy</th>\n      <th>freedom_to_make_life_choices</th>\n      <th>generosity</th>\n      <th>perceptions_of_corruption</th>\n      <th>ti_corrupt_harmonized</th>\n      <th>covid_deaths</th>\n      <th>covid_cases</th>\n      <th>pop_2020</th>\n      <th>death_100k</th>\n      <th>cases_100k</th>\n      <th>oecd</th>\n    </tr>\n  </thead>\n  <tbody>\n    <tr>\n      <th>8</th>\n      <td>New Zealand</td>\n      <td>North America and ANZ</td>\n      <td>7.277</td>\n      <td>10.643</td>\n      <td>0.948</td>\n      <td>73.4</td>\n      <td>0.929</td>\n      <td>0.134</td>\n      <td>0.242</td>\n      <td>0.12</td>\n      <td>25.0</td>\n      <td>2162.0</td>\n      <td>5,018,000</td>\n      <td>0.50</td>\n      <td>43.08</td>\n      <td>1</td>\n    </tr>\n    <tr>\n      <th>10</th>\n      <td>Australia</td>\n      <td>North America and ANZ</td>\n      <td>7.183</td>\n      <td>10.796</td>\n      <td>0.940</td>\n      <td>73.9</td>\n      <td>0.914</td>\n      <td>0.159</td>\n      <td>0.442</td>\n      <td>0.23</td>\n      <td>909.0</td>\n      <td>28425.0</td>\n      <td>25,653,000</td>\n      <td>3.54</td>\n      <td>110.81</td>\n      <td>1</td>\n    </tr>\n    <tr>\n      <th>13</th>\n      <td>Canada</td>\n      <td>North America and ANZ</td>\n      <td>7.103</td>\n      <td>10.776</td>\n      <td>0.926</td>\n      <td>73.8</td>\n      <td>0.915</td>\n      <td>0.089</td>\n      <td>0.415</td>\n      <td>0.23</td>\n      <td>15762.0</td>\n      <td>584409.0</td>\n      <td>37,916,000</td>\n      <td>41.57</td>\n      <td>1541.33</td>\n      <td>1</td>\n    </tr>\n    <tr>\n      <th>18</th>\n      <td>United States</td>\n      <td>North America and ANZ</td>\n      <td>6.951</td>\n      <td>11.023</td>\n      <td>0.920</td>\n      <td>68.2</td>\n      <td>0.837</td>\n      <td>0.098</td>\n      <td>0.698</td>\n      <td>0.33</td>\n      <td>352210.0</td>\n      <td>20100244.0</td>\n      <td>330,139,000</td>\n      <td>106.69</td>\n      <td>6088.42</td>\n      <td>1</td>\n    </tr>\n  </tbody>\n</table>\n</div>"
     },
     "metadata": {},
     "execution_count": 130
    }
   ],
   "source": [
    "naz.sort_values(by = 'score', ascending = False)\n"
   ]
  },
  {
   "cell_type": "code",
   "execution_count": 131,
   "id": "08883bdf",
   "metadata": {},
   "outputs": [
    {
     "output_type": "execute_result",
     "data": {
      "text/plain": [
       "          country                 region  score  log_gdp_cap  social_support  \\\n",
       "18  United States  North America and ANZ  6.951       11.023           0.920   \n",
       "10      Australia  North America and ANZ  7.183       10.796           0.940   \n",
       "13         Canada  North America and ANZ  7.103       10.776           0.926   \n",
       "8     New Zealand  North America and ANZ  7.277       10.643           0.948   \n",
       "\n",
       "    life_expectancy  freedom_to_make_life_choices  generosity  \\\n",
       "18             68.2                         0.837       0.098   \n",
       "10             73.9                         0.914       0.159   \n",
       "13             73.8                         0.915       0.089   \n",
       "8              73.4                         0.929       0.134   \n",
       "\n",
       "    perceptions_of_corruption  ti_corrupt_harmonized  covid_deaths  \\\n",
       "18                      0.698                   0.33      352210.0   \n",
       "10                      0.442                   0.23         909.0   \n",
       "13                      0.415                   0.23       15762.0   \n",
       "8                       0.242                   0.12          25.0   \n",
       "\n",
       "    covid_cases      pop_2020   death_100k  cases_100k  oecd  \n",
       "18   20100244.0   330,139,000       106.69     6088.42     1  \n",
       "10      28425.0    25,653,000         3.54      110.81     1  \n",
       "13     584409.0    37,916,000        41.57     1541.33     1  \n",
       "8        2162.0     5,018,000         0.50       43.08     1  "
      ],
      "text/html": "<div>\n<style scoped>\n    .dataframe tbody tr th:only-of-type {\n        vertical-align: middle;\n    }\n\n    .dataframe tbody tr th {\n        vertical-align: top;\n    }\n\n    .dataframe thead th {\n        text-align: right;\n    }\n</style>\n<table border=\"1\" class=\"dataframe\">\n  <thead>\n    <tr style=\"text-align: right;\">\n      <th></th>\n      <th>country</th>\n      <th>region</th>\n      <th>score</th>\n      <th>log_gdp_cap</th>\n      <th>social_support</th>\n      <th>life_expectancy</th>\n      <th>freedom_to_make_life_choices</th>\n      <th>generosity</th>\n      <th>perceptions_of_corruption</th>\n      <th>ti_corrupt_harmonized</th>\n      <th>covid_deaths</th>\n      <th>covid_cases</th>\n      <th>pop_2020</th>\n      <th>death_100k</th>\n      <th>cases_100k</th>\n      <th>oecd</th>\n    </tr>\n  </thead>\n  <tbody>\n    <tr>\n      <th>18</th>\n      <td>United States</td>\n      <td>North America and ANZ</td>\n      <td>6.951</td>\n      <td>11.023</td>\n      <td>0.920</td>\n      <td>68.2</td>\n      <td>0.837</td>\n      <td>0.098</td>\n      <td>0.698</td>\n      <td>0.33</td>\n      <td>352210.0</td>\n      <td>20100244.0</td>\n      <td>330,139,000</td>\n      <td>106.69</td>\n      <td>6088.42</td>\n      <td>1</td>\n    </tr>\n    <tr>\n      <th>10</th>\n      <td>Australia</td>\n      <td>North America and ANZ</td>\n      <td>7.183</td>\n      <td>10.796</td>\n      <td>0.940</td>\n      <td>73.9</td>\n      <td>0.914</td>\n      <td>0.159</td>\n      <td>0.442</td>\n      <td>0.23</td>\n      <td>909.0</td>\n      <td>28425.0</td>\n      <td>25,653,000</td>\n      <td>3.54</td>\n      <td>110.81</td>\n      <td>1</td>\n    </tr>\n    <tr>\n      <th>13</th>\n      <td>Canada</td>\n      <td>North America and ANZ</td>\n      <td>7.103</td>\n      <td>10.776</td>\n      <td>0.926</td>\n      <td>73.8</td>\n      <td>0.915</td>\n      <td>0.089</td>\n      <td>0.415</td>\n      <td>0.23</td>\n      <td>15762.0</td>\n      <td>584409.0</td>\n      <td>37,916,000</td>\n      <td>41.57</td>\n      <td>1541.33</td>\n      <td>1</td>\n    </tr>\n    <tr>\n      <th>8</th>\n      <td>New Zealand</td>\n      <td>North America and ANZ</td>\n      <td>7.277</td>\n      <td>10.643</td>\n      <td>0.948</td>\n      <td>73.4</td>\n      <td>0.929</td>\n      <td>0.134</td>\n      <td>0.242</td>\n      <td>0.12</td>\n      <td>25.0</td>\n      <td>2162.0</td>\n      <td>5,018,000</td>\n      <td>0.50</td>\n      <td>43.08</td>\n      <td>1</td>\n    </tr>\n  </tbody>\n</table>\n</div>"
     },
     "metadata": {},
     "execution_count": 131
    }
   ],
   "source": [
    "naz.sort_values(by = 'perceptions_of_corruption', ascending = False)"
   ]
  },
  {
   "cell_type": "markdown",
   "id": "65251ad1",
   "metadata": {},
   "source": [
    "##### Is there any correlation between happiness in 2020 and covid cases or deaths?"
   ]
  },
  {
   "cell_type": "code",
   "execution_count": 132,
   "id": "1156f765",
   "metadata": {},
   "outputs": [],
   "source": [
    "correlation_cases = df[['country', 'region', 'score', 'cases_100k', 'perceptions_of_corruption', 'ti_corrupt_harmonized']]\n",
    "correlation_death = df[['country', 'region', 'score', 'death_100k', 'perceptions_of_corruption', 'ti_corrupt_harmonized']]"
   ]
  },
  {
   "cell_type": "code",
   "execution_count": 133,
   "id": "0785fd3d",
   "metadata": {},
   "outputs": [
    {
     "output_type": "execute_result",
     "data": {
      "text/plain": [
       "            score   cases_100k  perceptions_of_corruption  \\\n",
       "count  149.000000   149.000000                 149.000000   \n",
       "mean     5.532839  1726.009933                   0.727450   \n",
       "std      1.073924  1915.327262                   0.179226   \n",
       "min      2.523000     0.000000                   0.082000   \n",
       "25%      4.852000   112.730000                   0.667000   \n",
       "50%      5.534000  1041.940000                   0.781000   \n",
       "75%      6.255000  2921.650000                   0.845000   \n",
       "max      7.842000  7756.750000                   0.939000   \n",
       "\n",
       "       ti_corrupt_harmonized  \n",
       "count             147.000000  \n",
       "mean                0.558367  \n",
       "std                 0.189137  \n",
       "min                 0.120000  \n",
       "25%                 0.440000  \n",
       "50%                 0.610000  \n",
       "75%                 0.700000  \n",
       "max                 0.850000  "
      ],
      "text/html": "<div>\n<style scoped>\n    .dataframe tbody tr th:only-of-type {\n        vertical-align: middle;\n    }\n\n    .dataframe tbody tr th {\n        vertical-align: top;\n    }\n\n    .dataframe thead th {\n        text-align: right;\n    }\n</style>\n<table border=\"1\" class=\"dataframe\">\n  <thead>\n    <tr style=\"text-align: right;\">\n      <th></th>\n      <th>score</th>\n      <th>cases_100k</th>\n      <th>perceptions_of_corruption</th>\n      <th>ti_corrupt_harmonized</th>\n    </tr>\n  </thead>\n  <tbody>\n    <tr>\n      <th>count</th>\n      <td>149.000000</td>\n      <td>149.000000</td>\n      <td>149.000000</td>\n      <td>147.000000</td>\n    </tr>\n    <tr>\n      <th>mean</th>\n      <td>5.532839</td>\n      <td>1726.009933</td>\n      <td>0.727450</td>\n      <td>0.558367</td>\n    </tr>\n    <tr>\n      <th>std</th>\n      <td>1.073924</td>\n      <td>1915.327262</td>\n      <td>0.179226</td>\n      <td>0.189137</td>\n    </tr>\n    <tr>\n      <th>min</th>\n      <td>2.523000</td>\n      <td>0.000000</td>\n      <td>0.082000</td>\n      <td>0.120000</td>\n    </tr>\n    <tr>\n      <th>25%</th>\n      <td>4.852000</td>\n      <td>112.730000</td>\n      <td>0.667000</td>\n      <td>0.440000</td>\n    </tr>\n    <tr>\n      <th>50%</th>\n      <td>5.534000</td>\n      <td>1041.940000</td>\n      <td>0.781000</td>\n      <td>0.610000</td>\n    </tr>\n    <tr>\n      <th>75%</th>\n      <td>6.255000</td>\n      <td>2921.650000</td>\n      <td>0.845000</td>\n      <td>0.700000</td>\n    </tr>\n    <tr>\n      <th>max</th>\n      <td>7.842000</td>\n      <td>7756.750000</td>\n      <td>0.939000</td>\n      <td>0.850000</td>\n    </tr>\n  </tbody>\n</table>\n</div>"
     },
     "metadata": {},
     "execution_count": 133
    }
   ],
   "source": [
    "correlation_cases.describe()"
   ]
  },
  {
   "cell_type": "code",
   "execution_count": 134,
   "id": "bdd8be71",
   "metadata": {},
   "outputs": [
    {
     "output_type": "execute_result",
     "data": {
      "text/plain": [
       "         country                 region  score  cases_100k  \\\n",
       "31     Singapore         Southeast Asia  6.377     1018.94   \n",
       "146       Rwanda     Sub-Saharan Africa  3.415       64.72   \n",
       "1        Denmark         Western Europe  7.620     2802.18   \n",
       "0        Finland         Western Europe  7.842      653.05   \n",
       "6         Sweden         Western Europe  7.363     4229.97   \n",
       "8    New Zealand  North America and ANZ  7.277       43.08   \n",
       "5         Norway         Western Europe  7.392      919.44   \n",
       "2    Switzerland         Western Europe  7.571     5239.15   \n",
       "4    Netherlands         Western Europe  7.464     4585.62   \n",
       "14       Ireland         Western Europe  7.085     1841.84   \n",
       "\n",
       "     perceptions_of_corruption  ti_corrupt_harmonized  \n",
       "31                       0.082                   0.15  \n",
       "146                      0.167                   0.46  \n",
       "1                        0.179                   0.12  \n",
       "0                        0.186                   0.15  \n",
       "6                        0.237                   0.15  \n",
       "8                        0.242                   0.12  \n",
       "5                        0.270                   0.16  \n",
       "2                        0.292                   0.15  \n",
       "4                        0.338                   0.18  \n",
       "14                       0.363                   0.28  "
      ],
      "text/html": "<div>\n<style scoped>\n    .dataframe tbody tr th:only-of-type {\n        vertical-align: middle;\n    }\n\n    .dataframe tbody tr th {\n        vertical-align: top;\n    }\n\n    .dataframe thead th {\n        text-align: right;\n    }\n</style>\n<table border=\"1\" class=\"dataframe\">\n  <thead>\n    <tr style=\"text-align: right;\">\n      <th></th>\n      <th>country</th>\n      <th>region</th>\n      <th>score</th>\n      <th>cases_100k</th>\n      <th>perceptions_of_corruption</th>\n      <th>ti_corrupt_harmonized</th>\n    </tr>\n  </thead>\n  <tbody>\n    <tr>\n      <th>31</th>\n      <td>Singapore</td>\n      <td>Southeast Asia</td>\n      <td>6.377</td>\n      <td>1018.94</td>\n      <td>0.082</td>\n      <td>0.15</td>\n    </tr>\n    <tr>\n      <th>146</th>\n      <td>Rwanda</td>\n      <td>Sub-Saharan Africa</td>\n      <td>3.415</td>\n      <td>64.72</td>\n      <td>0.167</td>\n      <td>0.46</td>\n    </tr>\n    <tr>\n      <th>1</th>\n      <td>Denmark</td>\n      <td>Western Europe</td>\n      <td>7.620</td>\n      <td>2802.18</td>\n      <td>0.179</td>\n      <td>0.12</td>\n    </tr>\n    <tr>\n      <th>0</th>\n      <td>Finland</td>\n      <td>Western Europe</td>\n      <td>7.842</td>\n      <td>653.05</td>\n      <td>0.186</td>\n      <td>0.15</td>\n    </tr>\n    <tr>\n      <th>6</th>\n      <td>Sweden</td>\n      <td>Western Europe</td>\n      <td>7.363</td>\n      <td>4229.97</td>\n      <td>0.237</td>\n      <td>0.15</td>\n    </tr>\n    <tr>\n      <th>8</th>\n      <td>New Zealand</td>\n      <td>North America and ANZ</td>\n      <td>7.277</td>\n      <td>43.08</td>\n      <td>0.242</td>\n      <td>0.12</td>\n    </tr>\n    <tr>\n      <th>5</th>\n      <td>Norway</td>\n      <td>Western Europe</td>\n      <td>7.392</td>\n      <td>919.44</td>\n      <td>0.270</td>\n      <td>0.16</td>\n    </tr>\n    <tr>\n      <th>2</th>\n      <td>Switzerland</td>\n      <td>Western Europe</td>\n      <td>7.571</td>\n      <td>5239.15</td>\n      <td>0.292</td>\n      <td>0.15</td>\n    </tr>\n    <tr>\n      <th>4</th>\n      <td>Netherlands</td>\n      <td>Western Europe</td>\n      <td>7.464</td>\n      <td>4585.62</td>\n      <td>0.338</td>\n      <td>0.18</td>\n    </tr>\n    <tr>\n      <th>14</th>\n      <td>Ireland</td>\n      <td>Western Europe</td>\n      <td>7.085</td>\n      <td>1841.84</td>\n      <td>0.363</td>\n      <td>0.28</td>\n    </tr>\n  </tbody>\n</table>\n</div>"
     },
     "metadata": {},
     "execution_count": 134
    }
   ],
   "source": [
    "correlation_cases.sort_values(by = 'perceptions_of_corruption').head(10)"
   ]
  },
  {
   "cell_type": "code",
   "execution_count": 135,
   "id": "ab458d97",
   "metadata": {},
   "outputs": [
    {
     "output_type": "execute_result",
     "data": {
      "text/plain": [
       "                    country                              region  score  \\\n",
       "33                 Slovakia          Central and Eastern Europe  6.331   \n",
       "144                 Lesotho                  Sub-Saharan Africa  3.512   \n",
       "32                   Kosovo          Central and Eastern Europe  6.372   \n",
       "64                  Moldova  Commonwealth of Independent States  5.766   \n",
       "109                 Ukraine  Commonwealth of Independent States  4.875   \n",
       "148             Afghanistan                          South Asia  2.523   \n",
       "63   Bosnia and Herzegovina          Central and Eastern Europe  5.813   \n",
       "87                 Bulgaria          Central and Eastern Europe  5.266   \n",
       "45                  Romania          Central and Eastern Europe  6.140   \n",
       "59                  Croatia          Central and Eastern Europe  5.882   \n",
       "\n",
       "     cases_100k  perceptions_of_corruption  ti_corrupt_harmonized  \n",
       "33      3290.74                      0.911                   0.51  \n",
       "144      144.44                      0.915                   0.59  \n",
       "32      2849.25                      0.917                   0.64  \n",
       "64      5452.48                      0.918                   0.66  \n",
       "109     2463.78                      0.924                   0.67  \n",
       "148      132.36                      0.924                   0.81  \n",
       "63      3382.66                      0.931                   0.65  \n",
       "87      2921.65                      0.932                   0.56  \n",
       "45      3284.82                      0.938                   0.56  \n",
       "59      5217.45                      0.939                   0.53  "
      ],
      "text/html": "<div>\n<style scoped>\n    .dataframe tbody tr th:only-of-type {\n        vertical-align: middle;\n    }\n\n    .dataframe tbody tr th {\n        vertical-align: top;\n    }\n\n    .dataframe thead th {\n        text-align: right;\n    }\n</style>\n<table border=\"1\" class=\"dataframe\">\n  <thead>\n    <tr style=\"text-align: right;\">\n      <th></th>\n      <th>country</th>\n      <th>region</th>\n      <th>score</th>\n      <th>cases_100k</th>\n      <th>perceptions_of_corruption</th>\n      <th>ti_corrupt_harmonized</th>\n    </tr>\n  </thead>\n  <tbody>\n    <tr>\n      <th>33</th>\n      <td>Slovakia</td>\n      <td>Central and Eastern Europe</td>\n      <td>6.331</td>\n      <td>3290.74</td>\n      <td>0.911</td>\n      <td>0.51</td>\n    </tr>\n    <tr>\n      <th>144</th>\n      <td>Lesotho</td>\n      <td>Sub-Saharan Africa</td>\n      <td>3.512</td>\n      <td>144.44</td>\n      <td>0.915</td>\n      <td>0.59</td>\n    </tr>\n    <tr>\n      <th>32</th>\n      <td>Kosovo</td>\n      <td>Central and Eastern Europe</td>\n      <td>6.372</td>\n      <td>2849.25</td>\n      <td>0.917</td>\n      <td>0.64</td>\n    </tr>\n    <tr>\n      <th>64</th>\n      <td>Moldova</td>\n      <td>Commonwealth of Independent States</td>\n      <td>5.766</td>\n      <td>5452.48</td>\n      <td>0.918</td>\n      <td>0.66</td>\n    </tr>\n    <tr>\n      <th>109</th>\n      <td>Ukraine</td>\n      <td>Commonwealth of Independent States</td>\n      <td>4.875</td>\n      <td>2463.78</td>\n      <td>0.924</td>\n      <td>0.67</td>\n    </tr>\n    <tr>\n      <th>148</th>\n      <td>Afghanistan</td>\n      <td>South Asia</td>\n      <td>2.523</td>\n      <td>132.36</td>\n      <td>0.924</td>\n      <td>0.81</td>\n    </tr>\n    <tr>\n      <th>63</th>\n      <td>Bosnia and Herzegovina</td>\n      <td>Central and Eastern Europe</td>\n      <td>5.813</td>\n      <td>3382.66</td>\n      <td>0.931</td>\n      <td>0.65</td>\n    </tr>\n    <tr>\n      <th>87</th>\n      <td>Bulgaria</td>\n      <td>Central and Eastern Europe</td>\n      <td>5.266</td>\n      <td>2921.65</td>\n      <td>0.932</td>\n      <td>0.56</td>\n    </tr>\n    <tr>\n      <th>45</th>\n      <td>Romania</td>\n      <td>Central and Eastern Europe</td>\n      <td>6.140</td>\n      <td>3284.82</td>\n      <td>0.938</td>\n      <td>0.56</td>\n    </tr>\n    <tr>\n      <th>59</th>\n      <td>Croatia</td>\n      <td>Central and Eastern Europe</td>\n      <td>5.882</td>\n      <td>5217.45</td>\n      <td>0.939</td>\n      <td>0.53</td>\n    </tr>\n  </tbody>\n</table>\n</div>"
     },
     "metadata": {},
     "execution_count": 135
    }
   ],
   "source": [
    "correlation_cases.sort_values(by = 'perceptions_of_corruption').tail(10)\n"
   ]
  },
  {
   "cell_type": "code",
   "execution_count": 136,
   "id": "90e3e5f1",
   "metadata": {},
   "outputs": [
    {
     "output_type": "execute_result",
     "data": {
      "text/plain": [
       "         country                 region  score  death_100k  \\\n",
       "31     Singapore         Southeast Asia  6.377        0.50   \n",
       "146       Rwanda     Sub-Saharan Africa  3.415        0.71   \n",
       "1        Denmark         Western Europe  7.620       22.25   \n",
       "0        Finland         Western Europe  7.842       10.15   \n",
       "6         Sweden         Western Europe  7.363       84.40   \n",
       "8    New Zealand  North America and ANZ  7.277        0.50   \n",
       "5         Norway         Western Europe  7.392        8.09   \n",
       "2    Switzerland         Western Europe  7.571       88.56   \n",
       "4    Netherlands         Western Europe  7.464       65.78   \n",
       "14       Ireland         Western Europe  7.085       44.89   \n",
       "\n",
       "     perceptions_of_corruption  ti_corrupt_harmonized  \n",
       "31                       0.082                   0.15  \n",
       "146                      0.167                   0.46  \n",
       "1                        0.179                   0.12  \n",
       "0                        0.186                   0.15  \n",
       "6                        0.237                   0.15  \n",
       "8                        0.242                   0.12  \n",
       "5                        0.270                   0.16  \n",
       "2                        0.292                   0.15  \n",
       "4                        0.338                   0.18  \n",
       "14                       0.363                   0.28  "
      ],
      "text/html": "<div>\n<style scoped>\n    .dataframe tbody tr th:only-of-type {\n        vertical-align: middle;\n    }\n\n    .dataframe tbody tr th {\n        vertical-align: top;\n    }\n\n    .dataframe thead th {\n        text-align: right;\n    }\n</style>\n<table border=\"1\" class=\"dataframe\">\n  <thead>\n    <tr style=\"text-align: right;\">\n      <th></th>\n      <th>country</th>\n      <th>region</th>\n      <th>score</th>\n      <th>death_100k</th>\n      <th>perceptions_of_corruption</th>\n      <th>ti_corrupt_harmonized</th>\n    </tr>\n  </thead>\n  <tbody>\n    <tr>\n      <th>31</th>\n      <td>Singapore</td>\n      <td>Southeast Asia</td>\n      <td>6.377</td>\n      <td>0.50</td>\n      <td>0.082</td>\n      <td>0.15</td>\n    </tr>\n    <tr>\n      <th>146</th>\n      <td>Rwanda</td>\n      <td>Sub-Saharan Africa</td>\n      <td>3.415</td>\n      <td>0.71</td>\n      <td>0.167</td>\n      <td>0.46</td>\n    </tr>\n    <tr>\n      <th>1</th>\n      <td>Denmark</td>\n      <td>Western Europe</td>\n      <td>7.620</td>\n      <td>22.25</td>\n      <td>0.179</td>\n      <td>0.12</td>\n    </tr>\n    <tr>\n      <th>0</th>\n      <td>Finland</td>\n      <td>Western Europe</td>\n      <td>7.842</td>\n      <td>10.15</td>\n      <td>0.186</td>\n      <td>0.15</td>\n    </tr>\n    <tr>\n      <th>6</th>\n      <td>Sweden</td>\n      <td>Western Europe</td>\n      <td>7.363</td>\n      <td>84.40</td>\n      <td>0.237</td>\n      <td>0.15</td>\n    </tr>\n    <tr>\n      <th>8</th>\n      <td>New Zealand</td>\n      <td>North America and ANZ</td>\n      <td>7.277</td>\n      <td>0.50</td>\n      <td>0.242</td>\n      <td>0.12</td>\n    </tr>\n    <tr>\n      <th>5</th>\n      <td>Norway</td>\n      <td>Western Europe</td>\n      <td>7.392</td>\n      <td>8.09</td>\n      <td>0.270</td>\n      <td>0.16</td>\n    </tr>\n    <tr>\n      <th>2</th>\n      <td>Switzerland</td>\n      <td>Western Europe</td>\n      <td>7.571</td>\n      <td>88.56</td>\n      <td>0.292</td>\n      <td>0.15</td>\n    </tr>\n    <tr>\n      <th>4</th>\n      <td>Netherlands</td>\n      <td>Western Europe</td>\n      <td>7.464</td>\n      <td>65.78</td>\n      <td>0.338</td>\n      <td>0.18</td>\n    </tr>\n    <tr>\n      <th>14</th>\n      <td>Ireland</td>\n      <td>Western Europe</td>\n      <td>7.085</td>\n      <td>44.89</td>\n      <td>0.363</td>\n      <td>0.28</td>\n    </tr>\n  </tbody>\n</table>\n</div>"
     },
     "metadata": {},
     "execution_count": 136
    }
   ],
   "source": [
    "correlation_death.sort_values(by = 'perceptions_of_corruption').head(10)"
   ]
  },
  {
   "cell_type": "code",
   "execution_count": 137,
   "id": "a9765cf6",
   "metadata": {},
   "outputs": [
    {
     "output_type": "execute_result",
     "data": {
      "text/plain": [
       "                    country                              region  score  \\\n",
       "33                 Slovakia          Central and Eastern Europe  6.331   \n",
       "144                 Lesotho                  Sub-Saharan Africa  3.512   \n",
       "32                   Kosovo          Central and Eastern Europe  6.372   \n",
       "64                  Moldova  Commonwealth of Independent States  5.766   \n",
       "109                 Ukraine  Commonwealth of Independent States  4.875   \n",
       "148             Afghanistan                          South Asia  2.523   \n",
       "63   Bosnia and Herzegovina          Central and Eastern Europe  5.813   \n",
       "87                 Bulgaria          Central and Eastern Europe  5.266   \n",
       "45                  Romania          Central and Eastern Europe  6.140   \n",
       "59                  Croatia          Central and Eastern Europe  5.882   \n",
       "\n",
       "     death_100k  perceptions_of_corruption  ti_corrupt_harmonized  \n",
       "33        39.19                      0.911                   0.51  \n",
       "144        2.38                      0.915                   0.59  \n",
       "32        74.21                      0.917                   0.64  \n",
       "64       112.39                      0.918                   0.66  \n",
       "109       43.70                      0.924                   0.67  \n",
       "148        5.63                      0.924                   0.81  \n",
       "63       123.44                      0.931                   0.65  \n",
       "87       109.43                      0.932                   0.56  \n",
       "45        81.92                      0.938                   0.56  \n",
       "59        97.01                      0.939                   0.53  "
      ],
      "text/html": "<div>\n<style scoped>\n    .dataframe tbody tr th:only-of-type {\n        vertical-align: middle;\n    }\n\n    .dataframe tbody tr th {\n        vertical-align: top;\n    }\n\n    .dataframe thead th {\n        text-align: right;\n    }\n</style>\n<table border=\"1\" class=\"dataframe\">\n  <thead>\n    <tr style=\"text-align: right;\">\n      <th></th>\n      <th>country</th>\n      <th>region</th>\n      <th>score</th>\n      <th>death_100k</th>\n      <th>perceptions_of_corruption</th>\n      <th>ti_corrupt_harmonized</th>\n    </tr>\n  </thead>\n  <tbody>\n    <tr>\n      <th>33</th>\n      <td>Slovakia</td>\n      <td>Central and Eastern Europe</td>\n      <td>6.331</td>\n      <td>39.19</td>\n      <td>0.911</td>\n      <td>0.51</td>\n    </tr>\n    <tr>\n      <th>144</th>\n      <td>Lesotho</td>\n      <td>Sub-Saharan Africa</td>\n      <td>3.512</td>\n      <td>2.38</td>\n      <td>0.915</td>\n      <td>0.59</td>\n    </tr>\n    <tr>\n      <th>32</th>\n      <td>Kosovo</td>\n      <td>Central and Eastern Europe</td>\n      <td>6.372</td>\n      <td>74.21</td>\n      <td>0.917</td>\n      <td>0.64</td>\n    </tr>\n    <tr>\n      <th>64</th>\n      <td>Moldova</td>\n      <td>Commonwealth of Independent States</td>\n      <td>5.766</td>\n      <td>112.39</td>\n      <td>0.918</td>\n      <td>0.66</td>\n    </tr>\n    <tr>\n      <th>109</th>\n      <td>Ukraine</td>\n      <td>Commonwealth of Independent States</td>\n      <td>4.875</td>\n      <td>43.70</td>\n      <td>0.924</td>\n      <td>0.67</td>\n    </tr>\n    <tr>\n      <th>148</th>\n      <td>Afghanistan</td>\n      <td>South Asia</td>\n      <td>2.523</td>\n      <td>5.63</td>\n      <td>0.924</td>\n      <td>0.81</td>\n    </tr>\n    <tr>\n      <th>63</th>\n      <td>Bosnia and Herzegovina</td>\n      <td>Central and Eastern Europe</td>\n      <td>5.813</td>\n      <td>123.44</td>\n      <td>0.931</td>\n      <td>0.65</td>\n    </tr>\n    <tr>\n      <th>87</th>\n      <td>Bulgaria</td>\n      <td>Central and Eastern Europe</td>\n      <td>5.266</td>\n      <td>109.43</td>\n      <td>0.932</td>\n      <td>0.56</td>\n    </tr>\n    <tr>\n      <th>45</th>\n      <td>Romania</td>\n      <td>Central and Eastern Europe</td>\n      <td>6.140</td>\n      <td>81.92</td>\n      <td>0.938</td>\n      <td>0.56</td>\n    </tr>\n    <tr>\n      <th>59</th>\n      <td>Croatia</td>\n      <td>Central and Eastern Europe</td>\n      <td>5.882</td>\n      <td>97.01</td>\n      <td>0.939</td>\n      <td>0.53</td>\n    </tr>\n  </tbody>\n</table>\n</div>"
     },
     "metadata": {},
     "execution_count": 137
    }
   ],
   "source": [
    "correlation_death.sort_values(by = 'perceptions_of_corruption').tail(10)"
   ]
  },
  {
   "cell_type": "code",
   "execution_count": 138,
   "id": "406b682f",
   "metadata": {},
   "outputs": [
    {
     "output_type": "execute_result",
     "data": {
      "text/plain": [
       "33.888523489932886"
      ]
     },
     "metadata": {},
     "execution_count": 138
    }
   ],
   "source": [
    "mean_death = df.death_100k.mean()\n",
    "mean_death"
   ]
  },
  {
   "cell_type": "code",
   "execution_count": 139,
   "id": "3e70724c",
   "metadata": {},
   "outputs": [
    {
     "output_type": "execute_result",
     "data": {
      "text/plain": [
       "1726.0099328859062"
      ]
     },
     "metadata": {},
     "execution_count": 139
    }
   ],
   "source": [
    "mean_cases = df.cases_100k.mean()\n",
    "mean_cases"
   ]
  },
  {
   "cell_type": "code",
   "execution_count": 140,
   "id": "af2d64e0",
   "metadata": {},
   "outputs": [
    {
     "output_type": "execute_result",
     "data": {
      "text/plain": [
       "         country                 region  score  death_100k  \\\n",
       "0        Finland         Western Europe  7.842       10.15   \n",
       "1        Denmark         Western Europe  7.620       22.25   \n",
       "3        Iceland         Western Europe  7.554        7.99   \n",
       "5         Norway         Western Europe  7.392        8.09   \n",
       "8    New Zealand  North America and ANZ  7.277        0.50   \n",
       "..           ...                    ...    ...         ...   \n",
       "144      Lesotho     Sub-Saharan Africa  3.512        2.38   \n",
       "145     Botswana     Sub-Saharan Africa  3.467        1.79   \n",
       "146       Rwanda     Sub-Saharan Africa  3.415        0.71   \n",
       "147     Zimbabwe     Sub-Saharan Africa  3.145        2.44   \n",
       "148  Afghanistan             South Asia  2.523        5.63   \n",
       "\n",
       "     perceptions_of_corruption  ti_corrupt_harmonized  \n",
       "0                        0.186                   0.15  \n",
       "1                        0.179                   0.12  \n",
       "3                        0.673                   0.25  \n",
       "5                        0.270                   0.16  \n",
       "8                        0.242                   0.12  \n",
       "..                         ...                    ...  \n",
       "144                      0.915                   0.59  \n",
       "145                      0.801                   0.40  \n",
       "146                      0.167                   0.46  \n",
       "147                      0.821                   0.76  \n",
       "148                      0.924                   0.81  \n",
       "\n",
       "[97 rows x 6 columns]"
      ],
      "text/html": "<div>\n<style scoped>\n    .dataframe tbody tr th:only-of-type {\n        vertical-align: middle;\n    }\n\n    .dataframe tbody tr th {\n        vertical-align: top;\n    }\n\n    .dataframe thead th {\n        text-align: right;\n    }\n</style>\n<table border=\"1\" class=\"dataframe\">\n  <thead>\n    <tr style=\"text-align: right;\">\n      <th></th>\n      <th>country</th>\n      <th>region</th>\n      <th>score</th>\n      <th>death_100k</th>\n      <th>perceptions_of_corruption</th>\n      <th>ti_corrupt_harmonized</th>\n    </tr>\n  </thead>\n  <tbody>\n    <tr>\n      <th>0</th>\n      <td>Finland</td>\n      <td>Western Europe</td>\n      <td>7.842</td>\n      <td>10.15</td>\n      <td>0.186</td>\n      <td>0.15</td>\n    </tr>\n    <tr>\n      <th>1</th>\n      <td>Denmark</td>\n      <td>Western Europe</td>\n      <td>7.620</td>\n      <td>22.25</td>\n      <td>0.179</td>\n      <td>0.12</td>\n    </tr>\n    <tr>\n      <th>3</th>\n      <td>Iceland</td>\n      <td>Western Europe</td>\n      <td>7.554</td>\n      <td>7.99</td>\n      <td>0.673</td>\n      <td>0.25</td>\n    </tr>\n    <tr>\n      <th>5</th>\n      <td>Norway</td>\n      <td>Western Europe</td>\n      <td>7.392</td>\n      <td>8.09</td>\n      <td>0.270</td>\n      <td>0.16</td>\n    </tr>\n    <tr>\n      <th>8</th>\n      <td>New Zealand</td>\n      <td>North America and ANZ</td>\n      <td>7.277</td>\n      <td>0.50</td>\n      <td>0.242</td>\n      <td>0.12</td>\n    </tr>\n    <tr>\n      <th>...</th>\n      <td>...</td>\n      <td>...</td>\n      <td>...</td>\n      <td>...</td>\n      <td>...</td>\n      <td>...</td>\n    </tr>\n    <tr>\n      <th>144</th>\n      <td>Lesotho</td>\n      <td>Sub-Saharan Africa</td>\n      <td>3.512</td>\n      <td>2.38</td>\n      <td>0.915</td>\n      <td>0.59</td>\n    </tr>\n    <tr>\n      <th>145</th>\n      <td>Botswana</td>\n      <td>Sub-Saharan Africa</td>\n      <td>3.467</td>\n      <td>1.79</td>\n      <td>0.801</td>\n      <td>0.40</td>\n    </tr>\n    <tr>\n      <th>146</th>\n      <td>Rwanda</td>\n      <td>Sub-Saharan Africa</td>\n      <td>3.415</td>\n      <td>0.71</td>\n      <td>0.167</td>\n      <td>0.46</td>\n    </tr>\n    <tr>\n      <th>147</th>\n      <td>Zimbabwe</td>\n      <td>Sub-Saharan Africa</td>\n      <td>3.145</td>\n      <td>2.44</td>\n      <td>0.821</td>\n      <td>0.76</td>\n    </tr>\n    <tr>\n      <th>148</th>\n      <td>Afghanistan</td>\n      <td>South Asia</td>\n      <td>2.523</td>\n      <td>5.63</td>\n      <td>0.924</td>\n      <td>0.81</td>\n    </tr>\n  </tbody>\n</table>\n<p>97 rows × 6 columns</p>\n</div>"
     },
     "metadata": {},
     "execution_count": 140
    }
   ],
   "source": [
    "correlation_death[correlation_death['death_100k'] < mean_death]"
   ]
  },
  {
   "cell_type": "code",
   "execution_count": 141,
   "id": "d33b3806",
   "metadata": {},
   "outputs": [],
   "source": [
    "deathrate_lmean = correlation_death[correlation_death['death_100k'] < mean_death]"
   ]
  },
  {
   "cell_type": "code",
   "execution_count": 142,
   "id": "75ebc02c",
   "metadata": {},
   "outputs": [
    {
     "output_type": "execute_result",
     "data": {
      "text/plain": [
       "                 country                              region  score  \\\n",
       "73          North Cyprus                      Western Europe  5.536   \n",
       "113             Cambodia                      Southeast Asia  4.830   \n",
       "99                  Laos                      Southeast Asia  5.030   \n",
       "96          Turkmenistan  Commonwealth of Independent States  5.066   \n",
       "139              Burundi                  Sub-Saharan Africa  3.775   \n",
       "23                Taiwan                           East Asia  6.584   \n",
       "69              Mongolia                           East Asia  5.677   \n",
       "141             Tanzania                  Sub-Saharan Africa  3.623   \n",
       "78               Vietnam                      Southeast Asia  5.411   \n",
       "53              Thailand                      Southeast Asia  5.985   \n",
       "83                 China                           East Asia  5.339   \n",
       "98                 Benin                  Sub-Saharan Africa  5.045   \n",
       "112         Burkina Faso                  Sub-Saharan Africa  4.834   \n",
       "95                 Niger                  Sub-Saharan Africa  5.074   \n",
       "8            New Zealand               North America and ANZ  7.277   \n",
       "31             Singapore                      Southeast Asia  6.377   \n",
       "84           Ivory Coast                  Sub-Saharan Africa  5.306   \n",
       "114           Mozambique                  Sub-Saharan Africa  4.794   \n",
       "118               Uganda                  Sub-Saharan Africa  4.636   \n",
       "101               Guinea                  Sub-Saharan Africa  4.984   \n",
       "115              Nigeria                  Sub-Saharan Africa  4.759   \n",
       "127                 Chad                  Sub-Saharan Africa  4.355   \n",
       "146               Rwanda                  Sub-Saharan Africa  3.415   \n",
       "49             Mauritius                  Sub-Saharan Africa  6.049   \n",
       "135                 Togo                  Sub-Saharan Africa  4.107   \n",
       "128            Sri Lanka                          South Asia  4.325   \n",
       "77            Tajikistan  Commonwealth of Independent States  5.466   \n",
       "134           Madagascar                  Sub-Saharan Africa  4.208   \n",
       "137         Sierra Leone                  Sub-Saharan Africa  3.849   \n",
       "143               Malawi                  Sub-Saharan Africa  3.600   \n",
       "94                 Ghana                  Sub-Saharan Africa  5.088   \n",
       "130              Comoros                  Sub-Saharan Africa  4.289   \n",
       "116                 Mali                  Sub-Saharan Africa  4.723   \n",
       "80              Malaysia                      Southeast Asia  5.384   \n",
       "119              Liberia                  Sub-Saharan Africa  4.625   \n",
       "132             Ethiopia                  Sub-Saharan Africa  4.275   \n",
       "90              Cameroon                  Sub-Saharan Africa  5.142   \n",
       "61           South Korea                           East Asia  5.845   \n",
       "145             Botswana                  Sub-Saharan Africa  3.467   \n",
       "41            Uzbekistan  Commonwealth of Independent States  6.179   \n",
       "76             Hong Kong                           East Asia  5.477   \n",
       "82   Congo (Brazzaville)                  Sub-Saharan Africa  5.342   \n",
       "140                Yemen        Middle East and North Africa  3.658   \n",
       "142                Haiti         Latin America and Caribbean  3.615   \n",
       "136               Zambia                  Sub-Saharan Africa  4.073   \n",
       "144              Lesotho                  Sub-Saharan Africa  3.512   \n",
       "147             Zimbabwe                  Sub-Saharan Africa  3.145   \n",
       "91               Senegal                  Sub-Saharan Africa  5.132   \n",
       "54             Nicaragua         Latin America and Caribbean  5.972   \n",
       "55                 Japan                           East Asia  5.940   \n",
       "\n",
       "     death_100k  perceptions_of_corruption  ti_corrupt_harmonized  \n",
       "73         0.00                      0.626                    NaN  \n",
       "113        0.00                      0.843                   0.79  \n",
       "99         0.00                      0.658                   0.71  \n",
       "96         0.00                      0.888                   0.81  \n",
       "139        0.02                      0.607                   0.81  \n",
       "23         0.03                      0.721                   0.35  \n",
       "69         0.03                      0.856                   0.65  \n",
       "141        0.04                      0.577                   0.62  \n",
       "78         0.04                      0.796                   0.64  \n",
       "53         0.09                      0.895                   0.64  \n",
       "83         0.33                      0.755                   0.58  \n",
       "98         0.36                      0.661                   0.59  \n",
       "112        0.41                      0.748                   0.60  \n",
       "95         0.43                      0.693                   0.68  \n",
       "8          0.50                      0.242                   0.12  \n",
       "31         0.50                      0.082                   0.15  \n",
       "84         0.52                      0.794                   0.64  \n",
       "114        0.53                      0.684                   0.75  \n",
       "118        0.55                      0.855                   0.73  \n",
       "101        0.62                      0.766                   0.72  \n",
       "115        0.63                      0.878                   0.75  \n",
       "127        0.63                      0.807                   0.79  \n",
       "146        0.71                      0.167                   0.46  \n",
       "49         0.79                      0.789                   0.47  \n",
       "135        0.82                      0.772                   0.71  \n",
       "128        0.93                      0.863                   0.62  \n",
       "77         0.94                      0.553                   0.75  \n",
       "134        0.94                      0.803                   0.75  \n",
       "137        0.95                      0.866                   0.67  \n",
       "143        0.99                      0.729                   0.70  \n",
       "94         1.08                      0.848                   0.57  \n",
       "130        1.15                      0.781                   0.79  \n",
       "116        1.33                      0.827                   0.70  \n",
       "80         1.46                      0.839                   0.49  \n",
       "119        1.64                      0.850                   0.72  \n",
       "132        1.67                      0.761                   0.62  \n",
       "90         1.69                      0.848                   0.75  \n",
       "61         1.77                      0.727                   0.39  \n",
       "145        1.79                      0.801                   0.40  \n",
       "41         1.80                      0.515                   0.74  \n",
       "76         1.96                      0.403                   0.23  \n",
       "82         1.96                      0.745                   0.81  \n",
       "140        2.05                      0.800                   0.85  \n",
       "142        2.07                      0.721                   0.82  \n",
       "136        2.11                      0.823                   0.67  \n",
       "144        2.38                      0.915                   0.59  \n",
       "147        2.44                      0.821                   0.76  \n",
       "91         2.45                      0.801                   0.55  \n",
       "54         2.49                      0.664                   0.78  \n",
       "55         2.62                      0.638                   0.26  "
      ],
      "text/html": "<div>\n<style scoped>\n    .dataframe tbody tr th:only-of-type {\n        vertical-align: middle;\n    }\n\n    .dataframe tbody tr th {\n        vertical-align: top;\n    }\n\n    .dataframe thead th {\n        text-align: right;\n    }\n</style>\n<table border=\"1\" class=\"dataframe\">\n  <thead>\n    <tr style=\"text-align: right;\">\n      <th></th>\n      <th>country</th>\n      <th>region</th>\n      <th>score</th>\n      <th>death_100k</th>\n      <th>perceptions_of_corruption</th>\n      <th>ti_corrupt_harmonized</th>\n    </tr>\n  </thead>\n  <tbody>\n    <tr>\n      <th>73</th>\n      <td>North Cyprus</td>\n      <td>Western Europe</td>\n      <td>5.536</td>\n      <td>0.00</td>\n      <td>0.626</td>\n      <td>NaN</td>\n    </tr>\n    <tr>\n      <th>113</th>\n      <td>Cambodia</td>\n      <td>Southeast Asia</td>\n      <td>4.830</td>\n      <td>0.00</td>\n      <td>0.843</td>\n      <td>0.79</td>\n    </tr>\n    <tr>\n      <th>99</th>\n      <td>Laos</td>\n      <td>Southeast Asia</td>\n      <td>5.030</td>\n      <td>0.00</td>\n      <td>0.658</td>\n      <td>0.71</td>\n    </tr>\n    <tr>\n      <th>96</th>\n      <td>Turkmenistan</td>\n      <td>Commonwealth of Independent States</td>\n      <td>5.066</td>\n      <td>0.00</td>\n      <td>0.888</td>\n      <td>0.81</td>\n    </tr>\n    <tr>\n      <th>139</th>\n      <td>Burundi</td>\n      <td>Sub-Saharan Africa</td>\n      <td>3.775</td>\n      <td>0.02</td>\n      <td>0.607</td>\n      <td>0.81</td>\n    </tr>\n    <tr>\n      <th>23</th>\n      <td>Taiwan</td>\n      <td>East Asia</td>\n      <td>6.584</td>\n      <td>0.03</td>\n      <td>0.721</td>\n      <td>0.35</td>\n    </tr>\n    <tr>\n      <th>69</th>\n      <td>Mongolia</td>\n      <td>East Asia</td>\n      <td>5.677</td>\n      <td>0.03</td>\n      <td>0.856</td>\n      <td>0.65</td>\n    </tr>\n    <tr>\n      <th>141</th>\n      <td>Tanzania</td>\n      <td>Sub-Saharan Africa</td>\n      <td>3.623</td>\n      <td>0.04</td>\n      <td>0.577</td>\n      <td>0.62</td>\n    </tr>\n    <tr>\n      <th>78</th>\n      <td>Vietnam</td>\n      <td>Southeast Asia</td>\n      <td>5.411</td>\n      <td>0.04</td>\n      <td>0.796</td>\n      <td>0.64</td>\n    </tr>\n    <tr>\n      <th>53</th>\n      <td>Thailand</td>\n      <td>Southeast Asia</td>\n      <td>5.985</td>\n      <td>0.09</td>\n      <td>0.895</td>\n      <td>0.64</td>\n    </tr>\n    <tr>\n      <th>83</th>\n      <td>China</td>\n      <td>East Asia</td>\n      <td>5.339</td>\n      <td>0.33</td>\n      <td>0.755</td>\n      <td>0.58</td>\n    </tr>\n    <tr>\n      <th>98</th>\n      <td>Benin</td>\n      <td>Sub-Saharan Africa</td>\n      <td>5.045</td>\n      <td>0.36</td>\n      <td>0.661</td>\n      <td>0.59</td>\n    </tr>\n    <tr>\n      <th>112</th>\n      <td>Burkina Faso</td>\n      <td>Sub-Saharan Africa</td>\n      <td>4.834</td>\n      <td>0.41</td>\n      <td>0.748</td>\n      <td>0.60</td>\n    </tr>\n    <tr>\n      <th>95</th>\n      <td>Niger</td>\n      <td>Sub-Saharan Africa</td>\n      <td>5.074</td>\n      <td>0.43</td>\n      <td>0.693</td>\n      <td>0.68</td>\n    </tr>\n    <tr>\n      <th>8</th>\n      <td>New Zealand</td>\n      <td>North America and ANZ</td>\n      <td>7.277</td>\n      <td>0.50</td>\n      <td>0.242</td>\n      <td>0.12</td>\n    </tr>\n    <tr>\n      <th>31</th>\n      <td>Singapore</td>\n      <td>Southeast Asia</td>\n      <td>6.377</td>\n      <td>0.50</td>\n      <td>0.082</td>\n      <td>0.15</td>\n    </tr>\n    <tr>\n      <th>84</th>\n      <td>Ivory Coast</td>\n      <td>Sub-Saharan Africa</td>\n      <td>5.306</td>\n      <td>0.52</td>\n      <td>0.794</td>\n      <td>0.64</td>\n    </tr>\n    <tr>\n      <th>114</th>\n      <td>Mozambique</td>\n      <td>Sub-Saharan Africa</td>\n      <td>4.794</td>\n      <td>0.53</td>\n      <td>0.684</td>\n      <td>0.75</td>\n    </tr>\n    <tr>\n      <th>118</th>\n      <td>Uganda</td>\n      <td>Sub-Saharan Africa</td>\n      <td>4.636</td>\n      <td>0.55</td>\n      <td>0.855</td>\n      <td>0.73</td>\n    </tr>\n    <tr>\n      <th>101</th>\n      <td>Guinea</td>\n      <td>Sub-Saharan Africa</td>\n      <td>4.984</td>\n      <td>0.62</td>\n      <td>0.766</td>\n      <td>0.72</td>\n    </tr>\n    <tr>\n      <th>115</th>\n      <td>Nigeria</td>\n      <td>Sub-Saharan Africa</td>\n      <td>4.759</td>\n      <td>0.63</td>\n      <td>0.878</td>\n      <td>0.75</td>\n    </tr>\n    <tr>\n      <th>127</th>\n      <td>Chad</td>\n      <td>Sub-Saharan Africa</td>\n      <td>4.355</td>\n      <td>0.63</td>\n      <td>0.807</td>\n      <td>0.79</td>\n    </tr>\n    <tr>\n      <th>146</th>\n      <td>Rwanda</td>\n      <td>Sub-Saharan Africa</td>\n      <td>3.415</td>\n      <td>0.71</td>\n      <td>0.167</td>\n      <td>0.46</td>\n    </tr>\n    <tr>\n      <th>49</th>\n      <td>Mauritius</td>\n      <td>Sub-Saharan Africa</td>\n      <td>6.049</td>\n      <td>0.79</td>\n      <td>0.789</td>\n      <td>0.47</td>\n    </tr>\n    <tr>\n      <th>135</th>\n      <td>Togo</td>\n      <td>Sub-Saharan Africa</td>\n      <td>4.107</td>\n      <td>0.82</td>\n      <td>0.772</td>\n      <td>0.71</td>\n    </tr>\n    <tr>\n      <th>128</th>\n      <td>Sri Lanka</td>\n      <td>South Asia</td>\n      <td>4.325</td>\n      <td>0.93</td>\n      <td>0.863</td>\n      <td>0.62</td>\n    </tr>\n    <tr>\n      <th>77</th>\n      <td>Tajikistan</td>\n      <td>Commonwealth of Independent States</td>\n      <td>5.466</td>\n      <td>0.94</td>\n      <td>0.553</td>\n      <td>0.75</td>\n    </tr>\n    <tr>\n      <th>134</th>\n      <td>Madagascar</td>\n      <td>Sub-Saharan Africa</td>\n      <td>4.208</td>\n      <td>0.94</td>\n      <td>0.803</td>\n      <td>0.75</td>\n    </tr>\n    <tr>\n      <th>137</th>\n      <td>Sierra Leone</td>\n      <td>Sub-Saharan Africa</td>\n      <td>3.849</td>\n      <td>0.95</td>\n      <td>0.866</td>\n      <td>0.67</td>\n    </tr>\n    <tr>\n      <th>143</th>\n      <td>Malawi</td>\n      <td>Sub-Saharan Africa</td>\n      <td>3.600</td>\n      <td>0.99</td>\n      <td>0.729</td>\n      <td>0.70</td>\n    </tr>\n    <tr>\n      <th>94</th>\n      <td>Ghana</td>\n      <td>Sub-Saharan Africa</td>\n      <td>5.088</td>\n      <td>1.08</td>\n      <td>0.848</td>\n      <td>0.57</td>\n    </tr>\n    <tr>\n      <th>130</th>\n      <td>Comoros</td>\n      <td>Sub-Saharan Africa</td>\n      <td>4.289</td>\n      <td>1.15</td>\n      <td>0.781</td>\n      <td>0.79</td>\n    </tr>\n    <tr>\n      <th>116</th>\n      <td>Mali</td>\n      <td>Sub-Saharan Africa</td>\n      <td>4.723</td>\n      <td>1.33</td>\n      <td>0.827</td>\n      <td>0.70</td>\n    </tr>\n    <tr>\n      <th>80</th>\n      <td>Malaysia</td>\n      <td>Southeast Asia</td>\n      <td>5.384</td>\n      <td>1.46</td>\n      <td>0.839</td>\n      <td>0.49</td>\n    </tr>\n    <tr>\n      <th>119</th>\n      <td>Liberia</td>\n      <td>Sub-Saharan Africa</td>\n      <td>4.625</td>\n      <td>1.64</td>\n      <td>0.850</td>\n      <td>0.72</td>\n    </tr>\n    <tr>\n      <th>132</th>\n      <td>Ethiopia</td>\n      <td>Sub-Saharan Africa</td>\n      <td>4.275</td>\n      <td>1.67</td>\n      <td>0.761</td>\n      <td>0.62</td>\n    </tr>\n    <tr>\n      <th>90</th>\n      <td>Cameroon</td>\n      <td>Sub-Saharan Africa</td>\n      <td>5.142</td>\n      <td>1.69</td>\n      <td>0.848</td>\n      <td>0.75</td>\n    </tr>\n    <tr>\n      <th>61</th>\n      <td>South Korea</td>\n      <td>East Asia</td>\n      <td>5.845</td>\n      <td>1.77</td>\n      <td>0.727</td>\n      <td>0.39</td>\n    </tr>\n    <tr>\n      <th>145</th>\n      <td>Botswana</td>\n      <td>Sub-Saharan Africa</td>\n      <td>3.467</td>\n      <td>1.79</td>\n      <td>0.801</td>\n      <td>0.40</td>\n    </tr>\n    <tr>\n      <th>41</th>\n      <td>Uzbekistan</td>\n      <td>Commonwealth of Independent States</td>\n      <td>6.179</td>\n      <td>1.80</td>\n      <td>0.515</td>\n      <td>0.74</td>\n    </tr>\n    <tr>\n      <th>76</th>\n      <td>Hong Kong</td>\n      <td>East Asia</td>\n      <td>5.477</td>\n      <td>1.96</td>\n      <td>0.403</td>\n      <td>0.23</td>\n    </tr>\n    <tr>\n      <th>82</th>\n      <td>Congo (Brazzaville)</td>\n      <td>Sub-Saharan Africa</td>\n      <td>5.342</td>\n      <td>1.96</td>\n      <td>0.745</td>\n      <td>0.81</td>\n    </tr>\n    <tr>\n      <th>140</th>\n      <td>Yemen</td>\n      <td>Middle East and North Africa</td>\n      <td>3.658</td>\n      <td>2.05</td>\n      <td>0.800</td>\n      <td>0.85</td>\n    </tr>\n    <tr>\n      <th>142</th>\n      <td>Haiti</td>\n      <td>Latin America and Caribbean</td>\n      <td>3.615</td>\n      <td>2.07</td>\n      <td>0.721</td>\n      <td>0.82</td>\n    </tr>\n    <tr>\n      <th>136</th>\n      <td>Zambia</td>\n      <td>Sub-Saharan Africa</td>\n      <td>4.073</td>\n      <td>2.11</td>\n      <td>0.823</td>\n      <td>0.67</td>\n    </tr>\n    <tr>\n      <th>144</th>\n      <td>Lesotho</td>\n      <td>Sub-Saharan Africa</td>\n      <td>3.512</td>\n      <td>2.38</td>\n      <td>0.915</td>\n      <td>0.59</td>\n    </tr>\n    <tr>\n      <th>147</th>\n      <td>Zimbabwe</td>\n      <td>Sub-Saharan Africa</td>\n      <td>3.145</td>\n      <td>2.44</td>\n      <td>0.821</td>\n      <td>0.76</td>\n    </tr>\n    <tr>\n      <th>91</th>\n      <td>Senegal</td>\n      <td>Sub-Saharan Africa</td>\n      <td>5.132</td>\n      <td>2.45</td>\n      <td>0.801</td>\n      <td>0.55</td>\n    </tr>\n    <tr>\n      <th>54</th>\n      <td>Nicaragua</td>\n      <td>Latin America and Caribbean</td>\n      <td>5.972</td>\n      <td>2.49</td>\n      <td>0.664</td>\n      <td>0.78</td>\n    </tr>\n    <tr>\n      <th>55</th>\n      <td>Japan</td>\n      <td>East Asia</td>\n      <td>5.940</td>\n      <td>2.62</td>\n      <td>0.638</td>\n      <td>0.26</td>\n    </tr>\n  </tbody>\n</table>\n</div>"
     },
     "metadata": {},
     "execution_count": 142
    }
   ],
   "source": [
    "deathrate_lmean.sort_values(by = 'death_100k').head(50)\n"
   ]
  },
  {
   "cell_type": "code",
   "execution_count": 143,
   "metadata": {},
   "outputs": [
    {
     "output_type": "execute_result",
     "data": {
      "text/plain": [
       "score                        4.883980\n",
       "death_100k                   1.024800\n",
       "perceptions_of_corruption    0.722040\n",
       "ti_corrupt_harmonized        0.627347\n",
       "dtype: float64"
      ]
     },
     "metadata": {},
     "execution_count": 143
    }
   ],
   "source": [
    "deathrate_lmean.sort_values(by = 'death_100k').head(50).mean()"
   ]
  },
  {
   "cell_type": "code",
   "execution_count": 144,
   "id": "854869b2",
   "metadata": {},
   "outputs": [],
   "source": [
    "# New Zealand and Singapore have the lowest corruption ratings in this list...let's use New Zealand as a comparator for the analysis"
   ]
  },
  {
   "cell_type": "markdown",
   "id": "6342df54",
   "metadata": {},
   "source": [
    "How many countries are reporting less than 7 deaths per 100k with public perception corruption scores higher than average? Who are they?"
   ]
  },
  {
   "cell_type": "code",
   "execution_count": 145,
   "id": "144a5e51",
   "metadata": {},
   "outputs": [
    {
     "output_type": "execute_result",
     "data": {
      "text/plain": [
       "39"
      ]
     },
     "metadata": {},
     "execution_count": 145
    }
   ],
   "source": [
    "deathrate_7 = correlation_death[(correlation_death['death_100k'] < 7) & (correlation_death.perceptions_of_corruption > correlation_death.perceptions_of_corruption.mean())]\n",
    "deathrate_7.country.count()"
   ]
  },
  {
   "cell_type": "code",
   "execution_count": 146,
   "id": "cd8cf2f1",
   "metadata": {},
   "outputs": [
    {
     "output_type": "execute_result",
     "data": {
      "text/plain": [
       "                 country                              region  score  \\\n",
       "49             Mauritius                  Sub-Saharan Africa  6.049   \n",
       "53              Thailand                      Southeast Asia  5.985   \n",
       "69              Mongolia                           East Asia  5.677   \n",
       "78               Vietnam                      Southeast Asia  5.411   \n",
       "80              Malaysia                      Southeast Asia  5.384   \n",
       "82   Congo (Brazzaville)                  Sub-Saharan Africa  5.342   \n",
       "83                 China                           East Asia  5.339   \n",
       "84           Ivory Coast                  Sub-Saharan Africa  5.306   \n",
       "90              Cameroon                  Sub-Saharan Africa  5.142   \n",
       "91               Senegal                  Sub-Saharan Africa  5.132   \n",
       "94                 Ghana                  Sub-Saharan Africa  5.088   \n",
       "96          Turkmenistan  Commonwealth of Independent States  5.066   \n",
       "97                Gambia                  Sub-Saharan Africa  5.051   \n",
       "101               Guinea                  Sub-Saharan Africa  4.984   \n",
       "104             Pakistan                          South Asia  4.934   \n",
       "106            Venezuela         Latin America and Caribbean  4.892   \n",
       "108              Algeria        Middle East and North Africa  4.887   \n",
       "111                Gabon                  Sub-Saharan Africa  4.852   \n",
       "112         Burkina Faso                  Sub-Saharan Africa  4.834   \n",
       "113             Cambodia                      Southeast Asia  4.830   \n",
       "115              Nigeria                  Sub-Saharan Africa  4.759   \n",
       "116                 Mali                  Sub-Saharan Africa  4.723   \n",
       "118               Uganda                  Sub-Saharan Africa  4.636   \n",
       "119              Liberia                  Sub-Saharan Africa  4.625   \n",
       "120                Kenya                  Sub-Saharan Africa  4.607   \n",
       "127                 Chad                  Sub-Saharan Africa  4.355   \n",
       "128            Sri Lanka                          South Asia  4.325   \n",
       "130              Comoros                  Sub-Saharan Africa  4.289   \n",
       "132             Ethiopia                  Sub-Saharan Africa  4.275   \n",
       "134           Madagascar                  Sub-Saharan Africa  4.208   \n",
       "135                 Togo                  Sub-Saharan Africa  4.107   \n",
       "136               Zambia                  Sub-Saharan Africa  4.073   \n",
       "137         Sierra Leone                  Sub-Saharan Africa  3.849   \n",
       "140                Yemen        Middle East and North Africa  3.658   \n",
       "143               Malawi                  Sub-Saharan Africa  3.600   \n",
       "144              Lesotho                  Sub-Saharan Africa  3.512   \n",
       "145             Botswana                  Sub-Saharan Africa  3.467   \n",
       "147             Zimbabwe                  Sub-Saharan Africa  3.145   \n",
       "148          Afghanistan                          South Asia  2.523   \n",
       "\n",
       "     death_100k  perceptions_of_corruption  ti_corrupt_harmonized  \n",
       "49         0.79                      0.789                   0.47  \n",
       "53         0.09                      0.895                   0.64  \n",
       "69         0.03                      0.856                   0.65  \n",
       "78         0.04                      0.796                   0.64  \n",
       "80         1.46                      0.839                   0.49  \n",
       "82         1.96                      0.745                   0.81  \n",
       "83         0.33                      0.755                   0.58  \n",
       "84         0.52                      0.794                   0.64  \n",
       "90         1.69                      0.848                   0.75  \n",
       "91         2.45                      0.801                   0.55  \n",
       "94         1.08                      0.848                   0.57  \n",
       "96         0.00                      0.888                   0.81  \n",
       "97         5.13                      0.746                   0.63  \n",
       "101        0.62                      0.766                   0.72  \n",
       "104        4.61                      0.787                   0.69  \n",
       "106        3.62                      0.827                   0.85  \n",
       "108        6.28                      0.752                   0.64  \n",
       "111        2.88                      0.840                   0.70  \n",
       "112        0.41                      0.748                   0.60  \n",
       "113        0.00                      0.843                   0.79  \n",
       "115        0.63                      0.878                   0.75  \n",
       "116        1.33                      0.827                   0.70  \n",
       "118        0.55                      0.855                   0.73  \n",
       "119        1.64                      0.850                   0.72  \n",
       "120        3.11                      0.825                   0.69  \n",
       "127        0.63                      0.807                   0.79  \n",
       "128        0.93                      0.863                   0.62  \n",
       "130        1.15                      0.781                   0.79  \n",
       "132        1.67                      0.761                   0.62  \n",
       "134        0.94                      0.803                   0.75  \n",
       "135        0.82                      0.772                   0.71  \n",
       "136        2.11                      0.823                   0.67  \n",
       "137        0.95                      0.866                   0.67  \n",
       "140        2.05                      0.800                   0.85  \n",
       "143        0.99                      0.729                   0.70  \n",
       "144        2.38                      0.915                   0.59  \n",
       "145        1.79                      0.801                   0.40  \n",
       "147        2.44                      0.821                   0.76  \n",
       "148        5.63                      0.924                   0.81  "
      ],
      "text/html": "<div>\n<style scoped>\n    .dataframe tbody tr th:only-of-type {\n        vertical-align: middle;\n    }\n\n    .dataframe tbody tr th {\n        vertical-align: top;\n    }\n\n    .dataframe thead th {\n        text-align: right;\n    }\n</style>\n<table border=\"1\" class=\"dataframe\">\n  <thead>\n    <tr style=\"text-align: right;\">\n      <th></th>\n      <th>country</th>\n      <th>region</th>\n      <th>score</th>\n      <th>death_100k</th>\n      <th>perceptions_of_corruption</th>\n      <th>ti_corrupt_harmonized</th>\n    </tr>\n  </thead>\n  <tbody>\n    <tr>\n      <th>49</th>\n      <td>Mauritius</td>\n      <td>Sub-Saharan Africa</td>\n      <td>6.049</td>\n      <td>0.79</td>\n      <td>0.789</td>\n      <td>0.47</td>\n    </tr>\n    <tr>\n      <th>53</th>\n      <td>Thailand</td>\n      <td>Southeast Asia</td>\n      <td>5.985</td>\n      <td>0.09</td>\n      <td>0.895</td>\n      <td>0.64</td>\n    </tr>\n    <tr>\n      <th>69</th>\n      <td>Mongolia</td>\n      <td>East Asia</td>\n      <td>5.677</td>\n      <td>0.03</td>\n      <td>0.856</td>\n      <td>0.65</td>\n    </tr>\n    <tr>\n      <th>78</th>\n      <td>Vietnam</td>\n      <td>Southeast Asia</td>\n      <td>5.411</td>\n      <td>0.04</td>\n      <td>0.796</td>\n      <td>0.64</td>\n    </tr>\n    <tr>\n      <th>80</th>\n      <td>Malaysia</td>\n      <td>Southeast Asia</td>\n      <td>5.384</td>\n      <td>1.46</td>\n      <td>0.839</td>\n      <td>0.49</td>\n    </tr>\n    <tr>\n      <th>82</th>\n      <td>Congo (Brazzaville)</td>\n      <td>Sub-Saharan Africa</td>\n      <td>5.342</td>\n      <td>1.96</td>\n      <td>0.745</td>\n      <td>0.81</td>\n    </tr>\n    <tr>\n      <th>83</th>\n      <td>China</td>\n      <td>East Asia</td>\n      <td>5.339</td>\n      <td>0.33</td>\n      <td>0.755</td>\n      <td>0.58</td>\n    </tr>\n    <tr>\n      <th>84</th>\n      <td>Ivory Coast</td>\n      <td>Sub-Saharan Africa</td>\n      <td>5.306</td>\n      <td>0.52</td>\n      <td>0.794</td>\n      <td>0.64</td>\n    </tr>\n    <tr>\n      <th>90</th>\n      <td>Cameroon</td>\n      <td>Sub-Saharan Africa</td>\n      <td>5.142</td>\n      <td>1.69</td>\n      <td>0.848</td>\n      <td>0.75</td>\n    </tr>\n    <tr>\n      <th>91</th>\n      <td>Senegal</td>\n      <td>Sub-Saharan Africa</td>\n      <td>5.132</td>\n      <td>2.45</td>\n      <td>0.801</td>\n      <td>0.55</td>\n    </tr>\n    <tr>\n      <th>94</th>\n      <td>Ghana</td>\n      <td>Sub-Saharan Africa</td>\n      <td>5.088</td>\n      <td>1.08</td>\n      <td>0.848</td>\n      <td>0.57</td>\n    </tr>\n    <tr>\n      <th>96</th>\n      <td>Turkmenistan</td>\n      <td>Commonwealth of Independent States</td>\n      <td>5.066</td>\n      <td>0.00</td>\n      <td>0.888</td>\n      <td>0.81</td>\n    </tr>\n    <tr>\n      <th>97</th>\n      <td>Gambia</td>\n      <td>Sub-Saharan Africa</td>\n      <td>5.051</td>\n      <td>5.13</td>\n      <td>0.746</td>\n      <td>0.63</td>\n    </tr>\n    <tr>\n      <th>101</th>\n      <td>Guinea</td>\n      <td>Sub-Saharan Africa</td>\n      <td>4.984</td>\n      <td>0.62</td>\n      <td>0.766</td>\n      <td>0.72</td>\n    </tr>\n    <tr>\n      <th>104</th>\n      <td>Pakistan</td>\n      <td>South Asia</td>\n      <td>4.934</td>\n      <td>4.61</td>\n      <td>0.787</td>\n      <td>0.69</td>\n    </tr>\n    <tr>\n      <th>106</th>\n      <td>Venezuela</td>\n      <td>Latin America and Caribbean</td>\n      <td>4.892</td>\n      <td>3.62</td>\n      <td>0.827</td>\n      <td>0.85</td>\n    </tr>\n    <tr>\n      <th>108</th>\n      <td>Algeria</td>\n      <td>Middle East and North Africa</td>\n      <td>4.887</td>\n      <td>6.28</td>\n      <td>0.752</td>\n      <td>0.64</td>\n    </tr>\n    <tr>\n      <th>111</th>\n      <td>Gabon</td>\n      <td>Sub-Saharan Africa</td>\n      <td>4.852</td>\n      <td>2.88</td>\n      <td>0.840</td>\n      <td>0.70</td>\n    </tr>\n    <tr>\n      <th>112</th>\n      <td>Burkina Faso</td>\n      <td>Sub-Saharan Africa</td>\n      <td>4.834</td>\n      <td>0.41</td>\n      <td>0.748</td>\n      <td>0.60</td>\n    </tr>\n    <tr>\n      <th>113</th>\n      <td>Cambodia</td>\n      <td>Southeast Asia</td>\n      <td>4.830</td>\n      <td>0.00</td>\n      <td>0.843</td>\n      <td>0.79</td>\n    </tr>\n    <tr>\n      <th>115</th>\n      <td>Nigeria</td>\n      <td>Sub-Saharan Africa</td>\n      <td>4.759</td>\n      <td>0.63</td>\n      <td>0.878</td>\n      <td>0.75</td>\n    </tr>\n    <tr>\n      <th>116</th>\n      <td>Mali</td>\n      <td>Sub-Saharan Africa</td>\n      <td>4.723</td>\n      <td>1.33</td>\n      <td>0.827</td>\n      <td>0.70</td>\n    </tr>\n    <tr>\n      <th>118</th>\n      <td>Uganda</td>\n      <td>Sub-Saharan Africa</td>\n      <td>4.636</td>\n      <td>0.55</td>\n      <td>0.855</td>\n      <td>0.73</td>\n    </tr>\n    <tr>\n      <th>119</th>\n      <td>Liberia</td>\n      <td>Sub-Saharan Africa</td>\n      <td>4.625</td>\n      <td>1.64</td>\n      <td>0.850</td>\n      <td>0.72</td>\n    </tr>\n    <tr>\n      <th>120</th>\n      <td>Kenya</td>\n      <td>Sub-Saharan Africa</td>\n      <td>4.607</td>\n      <td>3.11</td>\n      <td>0.825</td>\n      <td>0.69</td>\n    </tr>\n    <tr>\n      <th>127</th>\n      <td>Chad</td>\n      <td>Sub-Saharan Africa</td>\n      <td>4.355</td>\n      <td>0.63</td>\n      <td>0.807</td>\n      <td>0.79</td>\n    </tr>\n    <tr>\n      <th>128</th>\n      <td>Sri Lanka</td>\n      <td>South Asia</td>\n      <td>4.325</td>\n      <td>0.93</td>\n      <td>0.863</td>\n      <td>0.62</td>\n    </tr>\n    <tr>\n      <th>130</th>\n      <td>Comoros</td>\n      <td>Sub-Saharan Africa</td>\n      <td>4.289</td>\n      <td>1.15</td>\n      <td>0.781</td>\n      <td>0.79</td>\n    </tr>\n    <tr>\n      <th>132</th>\n      <td>Ethiopia</td>\n      <td>Sub-Saharan Africa</td>\n      <td>4.275</td>\n      <td>1.67</td>\n      <td>0.761</td>\n      <td>0.62</td>\n    </tr>\n    <tr>\n      <th>134</th>\n      <td>Madagascar</td>\n      <td>Sub-Saharan Africa</td>\n      <td>4.208</td>\n      <td>0.94</td>\n      <td>0.803</td>\n      <td>0.75</td>\n    </tr>\n    <tr>\n      <th>135</th>\n      <td>Togo</td>\n      <td>Sub-Saharan Africa</td>\n      <td>4.107</td>\n      <td>0.82</td>\n      <td>0.772</td>\n      <td>0.71</td>\n    </tr>\n    <tr>\n      <th>136</th>\n      <td>Zambia</td>\n      <td>Sub-Saharan Africa</td>\n      <td>4.073</td>\n      <td>2.11</td>\n      <td>0.823</td>\n      <td>0.67</td>\n    </tr>\n    <tr>\n      <th>137</th>\n      <td>Sierra Leone</td>\n      <td>Sub-Saharan Africa</td>\n      <td>3.849</td>\n      <td>0.95</td>\n      <td>0.866</td>\n      <td>0.67</td>\n    </tr>\n    <tr>\n      <th>140</th>\n      <td>Yemen</td>\n      <td>Middle East and North Africa</td>\n      <td>3.658</td>\n      <td>2.05</td>\n      <td>0.800</td>\n      <td>0.85</td>\n    </tr>\n    <tr>\n      <th>143</th>\n      <td>Malawi</td>\n      <td>Sub-Saharan Africa</td>\n      <td>3.600</td>\n      <td>0.99</td>\n      <td>0.729</td>\n      <td>0.70</td>\n    </tr>\n    <tr>\n      <th>144</th>\n      <td>Lesotho</td>\n      <td>Sub-Saharan Africa</td>\n      <td>3.512</td>\n      <td>2.38</td>\n      <td>0.915</td>\n      <td>0.59</td>\n    </tr>\n    <tr>\n      <th>145</th>\n      <td>Botswana</td>\n      <td>Sub-Saharan Africa</td>\n      <td>3.467</td>\n      <td>1.79</td>\n      <td>0.801</td>\n      <td>0.40</td>\n    </tr>\n    <tr>\n      <th>147</th>\n      <td>Zimbabwe</td>\n      <td>Sub-Saharan Africa</td>\n      <td>3.145</td>\n      <td>2.44</td>\n      <td>0.821</td>\n      <td>0.76</td>\n    </tr>\n    <tr>\n      <th>148</th>\n      <td>Afghanistan</td>\n      <td>South Asia</td>\n      <td>2.523</td>\n      <td>5.63</td>\n      <td>0.924</td>\n      <td>0.81</td>\n    </tr>\n  </tbody>\n</table>\n</div>"
     },
     "metadata": {},
     "execution_count": 146
    }
   ],
   "source": [
    "deathrate_7"
   ]
  },
  {
   "cell_type": "markdown",
   "id": "8850a240",
   "metadata": {},
   "source": [
    "How does this compare with expert opinion on corruption?"
   ]
  },
  {
   "cell_type": "code",
   "execution_count": 147,
   "id": "6b5af7a2",
   "metadata": {},
   "outputs": [
    {
     "output_type": "execute_result",
     "data": {
      "text/plain": [
       "39"
      ]
     },
     "metadata": {},
     "execution_count": 147
    }
   ],
   "source": [
    "deathrate_7e = correlation_death[(correlation_death['death_100k'] < 7) & (correlation_death.ti_corrupt_harmonized > correlation_death.ti_corrupt_harmonized.mean())]\n",
    "deathrate_7.country.count()"
   ]
  },
  {
   "cell_type": "code",
   "execution_count": 148,
   "id": "34feb70c",
   "metadata": {},
   "outputs": [
    {
     "output_type": "execute_result",
     "data": {
      "text/plain": [
       "                 country                              region  score  \\\n",
       "41            Uzbekistan  Commonwealth of Independent States  6.179   \n",
       "53              Thailand                      Southeast Asia  5.985   \n",
       "54             Nicaragua         Latin America and Caribbean  5.972   \n",
       "69              Mongolia                           East Asia  5.677   \n",
       "77            Tajikistan  Commonwealth of Independent States  5.466   \n",
       "78               Vietnam                      Southeast Asia  5.411   \n",
       "82   Congo (Brazzaville)                  Sub-Saharan Africa  5.342   \n",
       "83                 China                           East Asia  5.339   \n",
       "84           Ivory Coast                  Sub-Saharan Africa  5.306   \n",
       "86                 Nepal                          South Asia  5.269   \n",
       "90              Cameroon                  Sub-Saharan Africa  5.142   \n",
       "94                 Ghana                  Sub-Saharan Africa  5.088   \n",
       "95                 Niger                  Sub-Saharan Africa  5.074   \n",
       "96          Turkmenistan  Commonwealth of Independent States  5.066   \n",
       "97                Gambia                  Sub-Saharan Africa  5.051   \n",
       "98                 Benin                  Sub-Saharan Africa  5.045   \n",
       "99                  Laos                      Southeast Asia  5.030   \n",
       "100           Bangladesh                          South Asia  5.025   \n",
       "101               Guinea                  Sub-Saharan Africa  4.984   \n",
       "104             Pakistan                          South Asia  4.934   \n",
       "106            Venezuela         Latin America and Caribbean  4.892   \n",
       "108              Algeria        Middle East and North Africa  4.887   \n",
       "111                Gabon                  Sub-Saharan Africa  4.852   \n",
       "112         Burkina Faso                  Sub-Saharan Africa  4.834   \n",
       "113             Cambodia                      Southeast Asia  4.830   \n",
       "114           Mozambique                  Sub-Saharan Africa  4.794   \n",
       "115              Nigeria                  Sub-Saharan Africa  4.759   \n",
       "116                 Mali                  Sub-Saharan Africa  4.723   \n",
       "118               Uganda                  Sub-Saharan Africa  4.636   \n",
       "119              Liberia                  Sub-Saharan Africa  4.625   \n",
       "120                Kenya                  Sub-Saharan Africa  4.607   \n",
       "125              Myanmar                      Southeast Asia  4.426   \n",
       "127                 Chad                  Sub-Saharan Africa  4.355   \n",
       "128            Sri Lanka                          South Asia  4.325   \n",
       "130              Comoros                  Sub-Saharan Africa  4.289   \n",
       "132             Ethiopia                  Sub-Saharan Africa  4.275   \n",
       "134           Madagascar                  Sub-Saharan Africa  4.208   \n",
       "135                 Togo                  Sub-Saharan Africa  4.107   \n",
       "136               Zambia                  Sub-Saharan Africa  4.073   \n",
       "137         Sierra Leone                  Sub-Saharan Africa  3.849   \n",
       "139              Burundi                  Sub-Saharan Africa  3.775   \n",
       "140                Yemen        Middle East and North Africa  3.658   \n",
       "141             Tanzania                  Sub-Saharan Africa  3.623   \n",
       "142                Haiti         Latin America and Caribbean  3.615   \n",
       "143               Malawi                  Sub-Saharan Africa  3.600   \n",
       "144              Lesotho                  Sub-Saharan Africa  3.512   \n",
       "147             Zimbabwe                  Sub-Saharan Africa  3.145   \n",
       "148          Afghanistan                          South Asia  2.523   \n",
       "\n",
       "     death_100k  perceptions_of_corruption  ti_corrupt_harmonized  \n",
       "41         1.80                      0.515                   0.74  \n",
       "53         0.09                      0.895                   0.64  \n",
       "54         2.49                      0.664                   0.78  \n",
       "69         0.03                      0.856                   0.65  \n",
       "77         0.94                      0.553                   0.75  \n",
       "78         0.04                      0.796                   0.64  \n",
       "82         1.96                      0.745                   0.81  \n",
       "83         0.33                      0.755                   0.58  \n",
       "84         0.52                      0.794                   0.64  \n",
       "86         6.37                      0.727                   0.67  \n",
       "90         1.69                      0.848                   0.75  \n",
       "94         1.08                      0.848                   0.57  \n",
       "95         0.43                      0.693                   0.68  \n",
       "96         0.00                      0.888                   0.81  \n",
       "97         5.13                      0.746                   0.63  \n",
       "98         0.36                      0.661                   0.59  \n",
       "99         0.00                      0.658                   0.71  \n",
       "100        4.59                      0.682                   0.74  \n",
       "101        0.62                      0.766                   0.72  \n",
       "104        4.61                      0.787                   0.69  \n",
       "106        3.62                      0.827                   0.85  \n",
       "108        6.28                      0.752                   0.64  \n",
       "111        2.88                      0.840                   0.70  \n",
       "112        0.41                      0.748                   0.60  \n",
       "113        0.00                      0.843                   0.79  \n",
       "114        0.53                      0.684                   0.75  \n",
       "115        0.63                      0.878                   0.75  \n",
       "116        1.33                      0.827                   0.70  \n",
       "118        0.55                      0.855                   0.73  \n",
       "119        1.64                      0.850                   0.72  \n",
       "120        3.11                      0.825                   0.69  \n",
       "125        4.93                      0.660                   0.72  \n",
       "127        0.63                      0.807                   0.79  \n",
       "128        0.93                      0.863                   0.62  \n",
       "130        1.15                      0.781                   0.79  \n",
       "132        1.67                      0.761                   0.62  \n",
       "134        0.94                      0.803                   0.75  \n",
       "135        0.82                      0.772                   0.71  \n",
       "136        2.11                      0.823                   0.67  \n",
       "137        0.95                      0.866                   0.67  \n",
       "139        0.02                      0.607                   0.81  \n",
       "140        2.05                      0.800                   0.85  \n",
       "141        0.04                      0.577                   0.62  \n",
       "142        2.07                      0.721                   0.82  \n",
       "143        0.99                      0.729                   0.70  \n",
       "144        2.38                      0.915                   0.59  \n",
       "147        2.44                      0.821                   0.76  \n",
       "148        5.63                      0.924                   0.81  "
      ],
      "text/html": "<div>\n<style scoped>\n    .dataframe tbody tr th:only-of-type {\n        vertical-align: middle;\n    }\n\n    .dataframe tbody tr th {\n        vertical-align: top;\n    }\n\n    .dataframe thead th {\n        text-align: right;\n    }\n</style>\n<table border=\"1\" class=\"dataframe\">\n  <thead>\n    <tr style=\"text-align: right;\">\n      <th></th>\n      <th>country</th>\n      <th>region</th>\n      <th>score</th>\n      <th>death_100k</th>\n      <th>perceptions_of_corruption</th>\n      <th>ti_corrupt_harmonized</th>\n    </tr>\n  </thead>\n  <tbody>\n    <tr>\n      <th>41</th>\n      <td>Uzbekistan</td>\n      <td>Commonwealth of Independent States</td>\n      <td>6.179</td>\n      <td>1.80</td>\n      <td>0.515</td>\n      <td>0.74</td>\n    </tr>\n    <tr>\n      <th>53</th>\n      <td>Thailand</td>\n      <td>Southeast Asia</td>\n      <td>5.985</td>\n      <td>0.09</td>\n      <td>0.895</td>\n      <td>0.64</td>\n    </tr>\n    <tr>\n      <th>54</th>\n      <td>Nicaragua</td>\n      <td>Latin America and Caribbean</td>\n      <td>5.972</td>\n      <td>2.49</td>\n      <td>0.664</td>\n      <td>0.78</td>\n    </tr>\n    <tr>\n      <th>69</th>\n      <td>Mongolia</td>\n      <td>East Asia</td>\n      <td>5.677</td>\n      <td>0.03</td>\n      <td>0.856</td>\n      <td>0.65</td>\n    </tr>\n    <tr>\n      <th>77</th>\n      <td>Tajikistan</td>\n      <td>Commonwealth of Independent States</td>\n      <td>5.466</td>\n      <td>0.94</td>\n      <td>0.553</td>\n      <td>0.75</td>\n    </tr>\n    <tr>\n      <th>78</th>\n      <td>Vietnam</td>\n      <td>Southeast Asia</td>\n      <td>5.411</td>\n      <td>0.04</td>\n      <td>0.796</td>\n      <td>0.64</td>\n    </tr>\n    <tr>\n      <th>82</th>\n      <td>Congo (Brazzaville)</td>\n      <td>Sub-Saharan Africa</td>\n      <td>5.342</td>\n      <td>1.96</td>\n      <td>0.745</td>\n      <td>0.81</td>\n    </tr>\n    <tr>\n      <th>83</th>\n      <td>China</td>\n      <td>East Asia</td>\n      <td>5.339</td>\n      <td>0.33</td>\n      <td>0.755</td>\n      <td>0.58</td>\n    </tr>\n    <tr>\n      <th>84</th>\n      <td>Ivory Coast</td>\n      <td>Sub-Saharan Africa</td>\n      <td>5.306</td>\n      <td>0.52</td>\n      <td>0.794</td>\n      <td>0.64</td>\n    </tr>\n    <tr>\n      <th>86</th>\n      <td>Nepal</td>\n      <td>South Asia</td>\n      <td>5.269</td>\n      <td>6.37</td>\n      <td>0.727</td>\n      <td>0.67</td>\n    </tr>\n    <tr>\n      <th>90</th>\n      <td>Cameroon</td>\n      <td>Sub-Saharan Africa</td>\n      <td>5.142</td>\n      <td>1.69</td>\n      <td>0.848</td>\n      <td>0.75</td>\n    </tr>\n    <tr>\n      <th>94</th>\n      <td>Ghana</td>\n      <td>Sub-Saharan Africa</td>\n      <td>5.088</td>\n      <td>1.08</td>\n      <td>0.848</td>\n      <td>0.57</td>\n    </tr>\n    <tr>\n      <th>95</th>\n      <td>Niger</td>\n      <td>Sub-Saharan Africa</td>\n      <td>5.074</td>\n      <td>0.43</td>\n      <td>0.693</td>\n      <td>0.68</td>\n    </tr>\n    <tr>\n      <th>96</th>\n      <td>Turkmenistan</td>\n      <td>Commonwealth of Independent States</td>\n      <td>5.066</td>\n      <td>0.00</td>\n      <td>0.888</td>\n      <td>0.81</td>\n    </tr>\n    <tr>\n      <th>97</th>\n      <td>Gambia</td>\n      <td>Sub-Saharan Africa</td>\n      <td>5.051</td>\n      <td>5.13</td>\n      <td>0.746</td>\n      <td>0.63</td>\n    </tr>\n    <tr>\n      <th>98</th>\n      <td>Benin</td>\n      <td>Sub-Saharan Africa</td>\n      <td>5.045</td>\n      <td>0.36</td>\n      <td>0.661</td>\n      <td>0.59</td>\n    </tr>\n    <tr>\n      <th>99</th>\n      <td>Laos</td>\n      <td>Southeast Asia</td>\n      <td>5.030</td>\n      <td>0.00</td>\n      <td>0.658</td>\n      <td>0.71</td>\n    </tr>\n    <tr>\n      <th>100</th>\n      <td>Bangladesh</td>\n      <td>South Asia</td>\n      <td>5.025</td>\n      <td>4.59</td>\n      <td>0.682</td>\n      <td>0.74</td>\n    </tr>\n    <tr>\n      <th>101</th>\n      <td>Guinea</td>\n      <td>Sub-Saharan Africa</td>\n      <td>4.984</td>\n      <td>0.62</td>\n      <td>0.766</td>\n      <td>0.72</td>\n    </tr>\n    <tr>\n      <th>104</th>\n      <td>Pakistan</td>\n      <td>South Asia</td>\n      <td>4.934</td>\n      <td>4.61</td>\n      <td>0.787</td>\n      <td>0.69</td>\n    </tr>\n    <tr>\n      <th>106</th>\n      <td>Venezuela</td>\n      <td>Latin America and Caribbean</td>\n      <td>4.892</td>\n      <td>3.62</td>\n      <td>0.827</td>\n      <td>0.85</td>\n    </tr>\n    <tr>\n      <th>108</th>\n      <td>Algeria</td>\n      <td>Middle East and North Africa</td>\n      <td>4.887</td>\n      <td>6.28</td>\n      <td>0.752</td>\n      <td>0.64</td>\n    </tr>\n    <tr>\n      <th>111</th>\n      <td>Gabon</td>\n      <td>Sub-Saharan Africa</td>\n      <td>4.852</td>\n      <td>2.88</td>\n      <td>0.840</td>\n      <td>0.70</td>\n    </tr>\n    <tr>\n      <th>112</th>\n      <td>Burkina Faso</td>\n      <td>Sub-Saharan Africa</td>\n      <td>4.834</td>\n      <td>0.41</td>\n      <td>0.748</td>\n      <td>0.60</td>\n    </tr>\n    <tr>\n      <th>113</th>\n      <td>Cambodia</td>\n      <td>Southeast Asia</td>\n      <td>4.830</td>\n      <td>0.00</td>\n      <td>0.843</td>\n      <td>0.79</td>\n    </tr>\n    <tr>\n      <th>114</th>\n      <td>Mozambique</td>\n      <td>Sub-Saharan Africa</td>\n      <td>4.794</td>\n      <td>0.53</td>\n      <td>0.684</td>\n      <td>0.75</td>\n    </tr>\n    <tr>\n      <th>115</th>\n      <td>Nigeria</td>\n      <td>Sub-Saharan Africa</td>\n      <td>4.759</td>\n      <td>0.63</td>\n      <td>0.878</td>\n      <td>0.75</td>\n    </tr>\n    <tr>\n      <th>116</th>\n      <td>Mali</td>\n      <td>Sub-Saharan Africa</td>\n      <td>4.723</td>\n      <td>1.33</td>\n      <td>0.827</td>\n      <td>0.70</td>\n    </tr>\n    <tr>\n      <th>118</th>\n      <td>Uganda</td>\n      <td>Sub-Saharan Africa</td>\n      <td>4.636</td>\n      <td>0.55</td>\n      <td>0.855</td>\n      <td>0.73</td>\n    </tr>\n    <tr>\n      <th>119</th>\n      <td>Liberia</td>\n      <td>Sub-Saharan Africa</td>\n      <td>4.625</td>\n      <td>1.64</td>\n      <td>0.850</td>\n      <td>0.72</td>\n    </tr>\n    <tr>\n      <th>120</th>\n      <td>Kenya</td>\n      <td>Sub-Saharan Africa</td>\n      <td>4.607</td>\n      <td>3.11</td>\n      <td>0.825</td>\n      <td>0.69</td>\n    </tr>\n    <tr>\n      <th>125</th>\n      <td>Myanmar</td>\n      <td>Southeast Asia</td>\n      <td>4.426</td>\n      <td>4.93</td>\n      <td>0.660</td>\n      <td>0.72</td>\n    </tr>\n    <tr>\n      <th>127</th>\n      <td>Chad</td>\n      <td>Sub-Saharan Africa</td>\n      <td>4.355</td>\n      <td>0.63</td>\n      <td>0.807</td>\n      <td>0.79</td>\n    </tr>\n    <tr>\n      <th>128</th>\n      <td>Sri Lanka</td>\n      <td>South Asia</td>\n      <td>4.325</td>\n      <td>0.93</td>\n      <td>0.863</td>\n      <td>0.62</td>\n    </tr>\n    <tr>\n      <th>130</th>\n      <td>Comoros</td>\n      <td>Sub-Saharan Africa</td>\n      <td>4.289</td>\n      <td>1.15</td>\n      <td>0.781</td>\n      <td>0.79</td>\n    </tr>\n    <tr>\n      <th>132</th>\n      <td>Ethiopia</td>\n      <td>Sub-Saharan Africa</td>\n      <td>4.275</td>\n      <td>1.67</td>\n      <td>0.761</td>\n      <td>0.62</td>\n    </tr>\n    <tr>\n      <th>134</th>\n      <td>Madagascar</td>\n      <td>Sub-Saharan Africa</td>\n      <td>4.208</td>\n      <td>0.94</td>\n      <td>0.803</td>\n      <td>0.75</td>\n    </tr>\n    <tr>\n      <th>135</th>\n      <td>Togo</td>\n      <td>Sub-Saharan Africa</td>\n      <td>4.107</td>\n      <td>0.82</td>\n      <td>0.772</td>\n      <td>0.71</td>\n    </tr>\n    <tr>\n      <th>136</th>\n      <td>Zambia</td>\n      <td>Sub-Saharan Africa</td>\n      <td>4.073</td>\n      <td>2.11</td>\n      <td>0.823</td>\n      <td>0.67</td>\n    </tr>\n    <tr>\n      <th>137</th>\n      <td>Sierra Leone</td>\n      <td>Sub-Saharan Africa</td>\n      <td>3.849</td>\n      <td>0.95</td>\n      <td>0.866</td>\n      <td>0.67</td>\n    </tr>\n    <tr>\n      <th>139</th>\n      <td>Burundi</td>\n      <td>Sub-Saharan Africa</td>\n      <td>3.775</td>\n      <td>0.02</td>\n      <td>0.607</td>\n      <td>0.81</td>\n    </tr>\n    <tr>\n      <th>140</th>\n      <td>Yemen</td>\n      <td>Middle East and North Africa</td>\n      <td>3.658</td>\n      <td>2.05</td>\n      <td>0.800</td>\n      <td>0.85</td>\n    </tr>\n    <tr>\n      <th>141</th>\n      <td>Tanzania</td>\n      <td>Sub-Saharan Africa</td>\n      <td>3.623</td>\n      <td>0.04</td>\n      <td>0.577</td>\n      <td>0.62</td>\n    </tr>\n    <tr>\n      <th>142</th>\n      <td>Haiti</td>\n      <td>Latin America and Caribbean</td>\n      <td>3.615</td>\n      <td>2.07</td>\n      <td>0.721</td>\n      <td>0.82</td>\n    </tr>\n    <tr>\n      <th>143</th>\n      <td>Malawi</td>\n      <td>Sub-Saharan Africa</td>\n      <td>3.600</td>\n      <td>0.99</td>\n      <td>0.729</td>\n      <td>0.70</td>\n    </tr>\n    <tr>\n      <th>144</th>\n      <td>Lesotho</td>\n      <td>Sub-Saharan Africa</td>\n      <td>3.512</td>\n      <td>2.38</td>\n      <td>0.915</td>\n      <td>0.59</td>\n    </tr>\n    <tr>\n      <th>147</th>\n      <td>Zimbabwe</td>\n      <td>Sub-Saharan Africa</td>\n      <td>3.145</td>\n      <td>2.44</td>\n      <td>0.821</td>\n      <td>0.76</td>\n    </tr>\n    <tr>\n      <th>148</th>\n      <td>Afghanistan</td>\n      <td>South Asia</td>\n      <td>2.523</td>\n      <td>5.63</td>\n      <td>0.924</td>\n      <td>0.81</td>\n    </tr>\n  </tbody>\n</table>\n</div>"
     },
     "metadata": {},
     "execution_count": 148
    }
   ],
   "source": [
    "deathrate_7e"
   ]
  },
  {
   "cell_type": "code",
   "execution_count": 149,
   "id": "0adf5946",
   "metadata": {},
   "outputs": [],
   "source": [
    "# merge"
   ]
  },
  {
   "cell_type": "code",
   "execution_count": 150,
   "id": "609345ac",
   "metadata": {},
   "outputs": [],
   "source": [
    "deathrate_7c = deathrate_7.merge(deathrate_7e, on = 'country', suffixes = ('whr_', 'ti_')).sort_values(by = 'perceptions_of_corruptionwhr_', ascending = False)"
   ]
  },
  {
   "cell_type": "code",
   "execution_count": 151,
   "id": "433316a1",
   "metadata": {},
   "outputs": [
    {
     "output_type": "stream",
     "name": "stdout",
     "text": [
      "<class 'pandas.core.frame.DataFrame'>\nInt64Index: 35 entries, 34 to 31\nData columns (total 11 columns):\n #   Column                         Non-Null Count  Dtype  \n---  ------                         --------------  -----  \n 0   country                        35 non-null     object \n 1   regionwhr_                     35 non-null     object \n 2   scorewhr_                      35 non-null     float64\n 3   death_100kwhr_                 35 non-null     float64\n 4   perceptions_of_corruptionwhr_  35 non-null     float64\n 5   ti_corrupt_harmonizedwhr_      35 non-null     float64\n 6   regionti_                      35 non-null     object \n 7   scoreti_                       35 non-null     float64\n 8   death_100kti_                  35 non-null     float64\n 9   perceptions_of_corruptionti_   35 non-null     float64\n 10  ti_corrupt_harmonizedti_       35 non-null     float64\ndtypes: float64(8), object(3)\nmemory usage: 3.3+ KB\n"
     ]
    },
    {
     "output_type": "execute_result",
     "data": {
      "text/plain": [
       "Sub-Saharan Africa                    0.657143\n",
       "South Asia                            0.085714\n",
       "Southeast Asia                        0.085714\n",
       "East Asia                             0.057143\n",
       "Middle East and North Africa          0.057143\n",
       "Commonwealth of Independent States    0.028571\n",
       "Latin America and Caribbean           0.028571\n",
       "Name: regionwhr_, dtype: float64"
      ]
     },
     "metadata": {},
     "execution_count": 151
    }
   ],
   "source": [
    "deathrate_7c.info()\n",
    "deathrate_7c['regionwhr_'].value_counts(normalize = True)"
   ]
  },
  {
   "cell_type": "markdown",
   "id": "fc636846",
   "metadata": {},
   "source": [
    "65% (n=23) of countries reporting less than 7 deaths/100k population and have higher than average corruption score across both public and expert opinions are in Sub-Saharan Africa."
   ]
  },
  {
   "cell_type": "code",
   "execution_count": 152,
   "id": "65336bb5",
   "metadata": {},
   "outputs": [
    {
     "output_type": "execute_result",
     "data": {
      "text/plain": [
       "                country                          regionwhr_  scorewhr_  \\\n",
       "34          Afghanistan                          South Asia      2.523   \n",
       "32              Lesotho                  Sub-Saharan Africa      3.512   \n",
       "0              Thailand                      Southeast Asia      5.985   \n",
       "8          Turkmenistan  Commonwealth of Independent States      5.066   \n",
       "17              Nigeria                  Sub-Saharan Africa      4.759   \n",
       "29         Sierra Leone                  Sub-Saharan Africa      3.849   \n",
       "23            Sri Lanka                          South Asia      4.325   \n",
       "1              Mongolia                           East Asia      5.677   \n",
       "19               Uganda                  Sub-Saharan Africa      4.636   \n",
       "20              Liberia                  Sub-Saharan Africa      4.625   \n",
       "6              Cameroon                  Sub-Saharan Africa      5.142   \n",
       "7                 Ghana                  Sub-Saharan Africa      5.088   \n",
       "16             Cambodia                      Southeast Asia      4.830   \n",
       "14                Gabon                  Sub-Saharan Africa      4.852   \n",
       "18                 Mali                  Sub-Saharan Africa      4.723   \n",
       "12            Venezuela         Latin America and Caribbean      4.892   \n",
       "21                Kenya                  Sub-Saharan Africa      4.607   \n",
       "28               Zambia                  Sub-Saharan Africa      4.073   \n",
       "33             Zimbabwe                  Sub-Saharan Africa      3.145   \n",
       "22                 Chad                  Sub-Saharan Africa      4.355   \n",
       "26           Madagascar                  Sub-Saharan Africa      4.208   \n",
       "30                Yemen        Middle East and North Africa      3.658   \n",
       "2               Vietnam                      Southeast Asia      5.411   \n",
       "5           Ivory Coast                  Sub-Saharan Africa      5.306   \n",
       "11             Pakistan                          South Asia      4.934   \n",
       "24              Comoros                  Sub-Saharan Africa      4.289   \n",
       "27                 Togo                  Sub-Saharan Africa      4.107   \n",
       "10               Guinea                  Sub-Saharan Africa      4.984   \n",
       "25             Ethiopia                  Sub-Saharan Africa      4.275   \n",
       "4                 China                           East Asia      5.339   \n",
       "13              Algeria        Middle East and North Africa      4.887   \n",
       "15         Burkina Faso                  Sub-Saharan Africa      4.834   \n",
       "9                Gambia                  Sub-Saharan Africa      5.051   \n",
       "3   Congo (Brazzaville)                  Sub-Saharan Africa      5.342   \n",
       "31               Malawi                  Sub-Saharan Africa      3.600   \n",
       "\n",
       "    death_100kwhr_  perceptions_of_corruptionwhr_  ti_corrupt_harmonizedwhr_  \\\n",
       "34            5.63                          0.924                       0.81   \n",
       "32            2.38                          0.915                       0.59   \n",
       "0             0.09                          0.895                       0.64   \n",
       "8             0.00                          0.888                       0.81   \n",
       "17            0.63                          0.878                       0.75   \n",
       "29            0.95                          0.866                       0.67   \n",
       "23            0.93                          0.863                       0.62   \n",
       "1             0.03                          0.856                       0.65   \n",
       "19            0.55                          0.855                       0.73   \n",
       "20            1.64                          0.850                       0.72   \n",
       "6             1.69                          0.848                       0.75   \n",
       "7             1.08                          0.848                       0.57   \n",
       "16            0.00                          0.843                       0.79   \n",
       "14            2.88                          0.840                       0.70   \n",
       "18            1.33                          0.827                       0.70   \n",
       "12            3.62                          0.827                       0.85   \n",
       "21            3.11                          0.825                       0.69   \n",
       "28            2.11                          0.823                       0.67   \n",
       "33            2.44                          0.821                       0.76   \n",
       "22            0.63                          0.807                       0.79   \n",
       "26            0.94                          0.803                       0.75   \n",
       "30            2.05                          0.800                       0.85   \n",
       "2             0.04                          0.796                       0.64   \n",
       "5             0.52                          0.794                       0.64   \n",
       "11            4.61                          0.787                       0.69   \n",
       "24            1.15                          0.781                       0.79   \n",
       "27            0.82                          0.772                       0.71   \n",
       "10            0.62                          0.766                       0.72   \n",
       "25            1.67                          0.761                       0.62   \n",
       "4             0.33                          0.755                       0.58   \n",
       "13            6.28                          0.752                       0.64   \n",
       "15            0.41                          0.748                       0.60   \n",
       "9             5.13                          0.746                       0.63   \n",
       "3             1.96                          0.745                       0.81   \n",
       "31            0.99                          0.729                       0.70   \n",
       "\n",
       "                             regionti_  scoreti_  death_100kti_  \\\n",
       "34                          South Asia     2.523           5.63   \n",
       "32                  Sub-Saharan Africa     3.512           2.38   \n",
       "0                       Southeast Asia     5.985           0.09   \n",
       "8   Commonwealth of Independent States     5.066           0.00   \n",
       "17                  Sub-Saharan Africa     4.759           0.63   \n",
       "29                  Sub-Saharan Africa     3.849           0.95   \n",
       "23                          South Asia     4.325           0.93   \n",
       "1                            East Asia     5.677           0.03   \n",
       "19                  Sub-Saharan Africa     4.636           0.55   \n",
       "20                  Sub-Saharan Africa     4.625           1.64   \n",
       "6                   Sub-Saharan Africa     5.142           1.69   \n",
       "7                   Sub-Saharan Africa     5.088           1.08   \n",
       "16                      Southeast Asia     4.830           0.00   \n",
       "14                  Sub-Saharan Africa     4.852           2.88   \n",
       "18                  Sub-Saharan Africa     4.723           1.33   \n",
       "12         Latin America and Caribbean     4.892           3.62   \n",
       "21                  Sub-Saharan Africa     4.607           3.11   \n",
       "28                  Sub-Saharan Africa     4.073           2.11   \n",
       "33                  Sub-Saharan Africa     3.145           2.44   \n",
       "22                  Sub-Saharan Africa     4.355           0.63   \n",
       "26                  Sub-Saharan Africa     4.208           0.94   \n",
       "30        Middle East and North Africa     3.658           2.05   \n",
       "2                       Southeast Asia     5.411           0.04   \n",
       "5                   Sub-Saharan Africa     5.306           0.52   \n",
       "11                          South Asia     4.934           4.61   \n",
       "24                  Sub-Saharan Africa     4.289           1.15   \n",
       "27                  Sub-Saharan Africa     4.107           0.82   \n",
       "10                  Sub-Saharan Africa     4.984           0.62   \n",
       "25                  Sub-Saharan Africa     4.275           1.67   \n",
       "4                            East Asia     5.339           0.33   \n",
       "13        Middle East and North Africa     4.887           6.28   \n",
       "15                  Sub-Saharan Africa     4.834           0.41   \n",
       "9                   Sub-Saharan Africa     5.051           5.13   \n",
       "3                   Sub-Saharan Africa     5.342           1.96   \n",
       "31                  Sub-Saharan Africa     3.600           0.99   \n",
       "\n",
       "    perceptions_of_corruptionti_  ti_corrupt_harmonizedti_  \n",
       "34                         0.924                      0.81  \n",
       "32                         0.915                      0.59  \n",
       "0                          0.895                      0.64  \n",
       "8                          0.888                      0.81  \n",
       "17                         0.878                      0.75  \n",
       "29                         0.866                      0.67  \n",
       "23                         0.863                      0.62  \n",
       "1                          0.856                      0.65  \n",
       "19                         0.855                      0.73  \n",
       "20                         0.850                      0.72  \n",
       "6                          0.848                      0.75  \n",
       "7                          0.848                      0.57  \n",
       "16                         0.843                      0.79  \n",
       "14                         0.840                      0.70  \n",
       "18                         0.827                      0.70  \n",
       "12                         0.827                      0.85  \n",
       "21                         0.825                      0.69  \n",
       "28                         0.823                      0.67  \n",
       "33                         0.821                      0.76  \n",
       "22                         0.807                      0.79  \n",
       "26                         0.803                      0.75  \n",
       "30                         0.800                      0.85  \n",
       "2                          0.796                      0.64  \n",
       "5                          0.794                      0.64  \n",
       "11                         0.787                      0.69  \n",
       "24                         0.781                      0.79  \n",
       "27                         0.772                      0.71  \n",
       "10                         0.766                      0.72  \n",
       "25                         0.761                      0.62  \n",
       "4                          0.755                      0.58  \n",
       "13                         0.752                      0.64  \n",
       "15                         0.748                      0.60  \n",
       "9                          0.746                      0.63  \n",
       "3                          0.745                      0.81  \n",
       "31                         0.729                      0.70  "
      ],
      "text/html": "<div>\n<style scoped>\n    .dataframe tbody tr th:only-of-type {\n        vertical-align: middle;\n    }\n\n    .dataframe tbody tr th {\n        vertical-align: top;\n    }\n\n    .dataframe thead th {\n        text-align: right;\n    }\n</style>\n<table border=\"1\" class=\"dataframe\">\n  <thead>\n    <tr style=\"text-align: right;\">\n      <th></th>\n      <th>country</th>\n      <th>regionwhr_</th>\n      <th>scorewhr_</th>\n      <th>death_100kwhr_</th>\n      <th>perceptions_of_corruptionwhr_</th>\n      <th>ti_corrupt_harmonizedwhr_</th>\n      <th>regionti_</th>\n      <th>scoreti_</th>\n      <th>death_100kti_</th>\n      <th>perceptions_of_corruptionti_</th>\n      <th>ti_corrupt_harmonizedti_</th>\n    </tr>\n  </thead>\n  <tbody>\n    <tr>\n      <th>34</th>\n      <td>Afghanistan</td>\n      <td>South Asia</td>\n      <td>2.523</td>\n      <td>5.63</td>\n      <td>0.924</td>\n      <td>0.81</td>\n      <td>South Asia</td>\n      <td>2.523</td>\n      <td>5.63</td>\n      <td>0.924</td>\n      <td>0.81</td>\n    </tr>\n    <tr>\n      <th>32</th>\n      <td>Lesotho</td>\n      <td>Sub-Saharan Africa</td>\n      <td>3.512</td>\n      <td>2.38</td>\n      <td>0.915</td>\n      <td>0.59</td>\n      <td>Sub-Saharan Africa</td>\n      <td>3.512</td>\n      <td>2.38</td>\n      <td>0.915</td>\n      <td>0.59</td>\n    </tr>\n    <tr>\n      <th>0</th>\n      <td>Thailand</td>\n      <td>Southeast Asia</td>\n      <td>5.985</td>\n      <td>0.09</td>\n      <td>0.895</td>\n      <td>0.64</td>\n      <td>Southeast Asia</td>\n      <td>5.985</td>\n      <td>0.09</td>\n      <td>0.895</td>\n      <td>0.64</td>\n    </tr>\n    <tr>\n      <th>8</th>\n      <td>Turkmenistan</td>\n      <td>Commonwealth of Independent States</td>\n      <td>5.066</td>\n      <td>0.00</td>\n      <td>0.888</td>\n      <td>0.81</td>\n      <td>Commonwealth of Independent States</td>\n      <td>5.066</td>\n      <td>0.00</td>\n      <td>0.888</td>\n      <td>0.81</td>\n    </tr>\n    <tr>\n      <th>17</th>\n      <td>Nigeria</td>\n      <td>Sub-Saharan Africa</td>\n      <td>4.759</td>\n      <td>0.63</td>\n      <td>0.878</td>\n      <td>0.75</td>\n      <td>Sub-Saharan Africa</td>\n      <td>4.759</td>\n      <td>0.63</td>\n      <td>0.878</td>\n      <td>0.75</td>\n    </tr>\n    <tr>\n      <th>29</th>\n      <td>Sierra Leone</td>\n      <td>Sub-Saharan Africa</td>\n      <td>3.849</td>\n      <td>0.95</td>\n      <td>0.866</td>\n      <td>0.67</td>\n      <td>Sub-Saharan Africa</td>\n      <td>3.849</td>\n      <td>0.95</td>\n      <td>0.866</td>\n      <td>0.67</td>\n    </tr>\n    <tr>\n      <th>23</th>\n      <td>Sri Lanka</td>\n      <td>South Asia</td>\n      <td>4.325</td>\n      <td>0.93</td>\n      <td>0.863</td>\n      <td>0.62</td>\n      <td>South Asia</td>\n      <td>4.325</td>\n      <td>0.93</td>\n      <td>0.863</td>\n      <td>0.62</td>\n    </tr>\n    <tr>\n      <th>1</th>\n      <td>Mongolia</td>\n      <td>East Asia</td>\n      <td>5.677</td>\n      <td>0.03</td>\n      <td>0.856</td>\n      <td>0.65</td>\n      <td>East Asia</td>\n      <td>5.677</td>\n      <td>0.03</td>\n      <td>0.856</td>\n      <td>0.65</td>\n    </tr>\n    <tr>\n      <th>19</th>\n      <td>Uganda</td>\n      <td>Sub-Saharan Africa</td>\n      <td>4.636</td>\n      <td>0.55</td>\n      <td>0.855</td>\n      <td>0.73</td>\n      <td>Sub-Saharan Africa</td>\n      <td>4.636</td>\n      <td>0.55</td>\n      <td>0.855</td>\n      <td>0.73</td>\n    </tr>\n    <tr>\n      <th>20</th>\n      <td>Liberia</td>\n      <td>Sub-Saharan Africa</td>\n      <td>4.625</td>\n      <td>1.64</td>\n      <td>0.850</td>\n      <td>0.72</td>\n      <td>Sub-Saharan Africa</td>\n      <td>4.625</td>\n      <td>1.64</td>\n      <td>0.850</td>\n      <td>0.72</td>\n    </tr>\n    <tr>\n      <th>6</th>\n      <td>Cameroon</td>\n      <td>Sub-Saharan Africa</td>\n      <td>5.142</td>\n      <td>1.69</td>\n      <td>0.848</td>\n      <td>0.75</td>\n      <td>Sub-Saharan Africa</td>\n      <td>5.142</td>\n      <td>1.69</td>\n      <td>0.848</td>\n      <td>0.75</td>\n    </tr>\n    <tr>\n      <th>7</th>\n      <td>Ghana</td>\n      <td>Sub-Saharan Africa</td>\n      <td>5.088</td>\n      <td>1.08</td>\n      <td>0.848</td>\n      <td>0.57</td>\n      <td>Sub-Saharan Africa</td>\n      <td>5.088</td>\n      <td>1.08</td>\n      <td>0.848</td>\n      <td>0.57</td>\n    </tr>\n    <tr>\n      <th>16</th>\n      <td>Cambodia</td>\n      <td>Southeast Asia</td>\n      <td>4.830</td>\n      <td>0.00</td>\n      <td>0.843</td>\n      <td>0.79</td>\n      <td>Southeast Asia</td>\n      <td>4.830</td>\n      <td>0.00</td>\n      <td>0.843</td>\n      <td>0.79</td>\n    </tr>\n    <tr>\n      <th>14</th>\n      <td>Gabon</td>\n      <td>Sub-Saharan Africa</td>\n      <td>4.852</td>\n      <td>2.88</td>\n      <td>0.840</td>\n      <td>0.70</td>\n      <td>Sub-Saharan Africa</td>\n      <td>4.852</td>\n      <td>2.88</td>\n      <td>0.840</td>\n      <td>0.70</td>\n    </tr>\n    <tr>\n      <th>18</th>\n      <td>Mali</td>\n      <td>Sub-Saharan Africa</td>\n      <td>4.723</td>\n      <td>1.33</td>\n      <td>0.827</td>\n      <td>0.70</td>\n      <td>Sub-Saharan Africa</td>\n      <td>4.723</td>\n      <td>1.33</td>\n      <td>0.827</td>\n      <td>0.70</td>\n    </tr>\n    <tr>\n      <th>12</th>\n      <td>Venezuela</td>\n      <td>Latin America and Caribbean</td>\n      <td>4.892</td>\n      <td>3.62</td>\n      <td>0.827</td>\n      <td>0.85</td>\n      <td>Latin America and Caribbean</td>\n      <td>4.892</td>\n      <td>3.62</td>\n      <td>0.827</td>\n      <td>0.85</td>\n    </tr>\n    <tr>\n      <th>21</th>\n      <td>Kenya</td>\n      <td>Sub-Saharan Africa</td>\n      <td>4.607</td>\n      <td>3.11</td>\n      <td>0.825</td>\n      <td>0.69</td>\n      <td>Sub-Saharan Africa</td>\n      <td>4.607</td>\n      <td>3.11</td>\n      <td>0.825</td>\n      <td>0.69</td>\n    </tr>\n    <tr>\n      <th>28</th>\n      <td>Zambia</td>\n      <td>Sub-Saharan Africa</td>\n      <td>4.073</td>\n      <td>2.11</td>\n      <td>0.823</td>\n      <td>0.67</td>\n      <td>Sub-Saharan Africa</td>\n      <td>4.073</td>\n      <td>2.11</td>\n      <td>0.823</td>\n      <td>0.67</td>\n    </tr>\n    <tr>\n      <th>33</th>\n      <td>Zimbabwe</td>\n      <td>Sub-Saharan Africa</td>\n      <td>3.145</td>\n      <td>2.44</td>\n      <td>0.821</td>\n      <td>0.76</td>\n      <td>Sub-Saharan Africa</td>\n      <td>3.145</td>\n      <td>2.44</td>\n      <td>0.821</td>\n      <td>0.76</td>\n    </tr>\n    <tr>\n      <th>22</th>\n      <td>Chad</td>\n      <td>Sub-Saharan Africa</td>\n      <td>4.355</td>\n      <td>0.63</td>\n      <td>0.807</td>\n      <td>0.79</td>\n      <td>Sub-Saharan Africa</td>\n      <td>4.355</td>\n      <td>0.63</td>\n      <td>0.807</td>\n      <td>0.79</td>\n    </tr>\n    <tr>\n      <th>26</th>\n      <td>Madagascar</td>\n      <td>Sub-Saharan Africa</td>\n      <td>4.208</td>\n      <td>0.94</td>\n      <td>0.803</td>\n      <td>0.75</td>\n      <td>Sub-Saharan Africa</td>\n      <td>4.208</td>\n      <td>0.94</td>\n      <td>0.803</td>\n      <td>0.75</td>\n    </tr>\n    <tr>\n      <th>30</th>\n      <td>Yemen</td>\n      <td>Middle East and North Africa</td>\n      <td>3.658</td>\n      <td>2.05</td>\n      <td>0.800</td>\n      <td>0.85</td>\n      <td>Middle East and North Africa</td>\n      <td>3.658</td>\n      <td>2.05</td>\n      <td>0.800</td>\n      <td>0.85</td>\n    </tr>\n    <tr>\n      <th>2</th>\n      <td>Vietnam</td>\n      <td>Southeast Asia</td>\n      <td>5.411</td>\n      <td>0.04</td>\n      <td>0.796</td>\n      <td>0.64</td>\n      <td>Southeast Asia</td>\n      <td>5.411</td>\n      <td>0.04</td>\n      <td>0.796</td>\n      <td>0.64</td>\n    </tr>\n    <tr>\n      <th>5</th>\n      <td>Ivory Coast</td>\n      <td>Sub-Saharan Africa</td>\n      <td>5.306</td>\n      <td>0.52</td>\n      <td>0.794</td>\n      <td>0.64</td>\n      <td>Sub-Saharan Africa</td>\n      <td>5.306</td>\n      <td>0.52</td>\n      <td>0.794</td>\n      <td>0.64</td>\n    </tr>\n    <tr>\n      <th>11</th>\n      <td>Pakistan</td>\n      <td>South Asia</td>\n      <td>4.934</td>\n      <td>4.61</td>\n      <td>0.787</td>\n      <td>0.69</td>\n      <td>South Asia</td>\n      <td>4.934</td>\n      <td>4.61</td>\n      <td>0.787</td>\n      <td>0.69</td>\n    </tr>\n    <tr>\n      <th>24</th>\n      <td>Comoros</td>\n      <td>Sub-Saharan Africa</td>\n      <td>4.289</td>\n      <td>1.15</td>\n      <td>0.781</td>\n      <td>0.79</td>\n      <td>Sub-Saharan Africa</td>\n      <td>4.289</td>\n      <td>1.15</td>\n      <td>0.781</td>\n      <td>0.79</td>\n    </tr>\n    <tr>\n      <th>27</th>\n      <td>Togo</td>\n      <td>Sub-Saharan Africa</td>\n      <td>4.107</td>\n      <td>0.82</td>\n      <td>0.772</td>\n      <td>0.71</td>\n      <td>Sub-Saharan Africa</td>\n      <td>4.107</td>\n      <td>0.82</td>\n      <td>0.772</td>\n      <td>0.71</td>\n    </tr>\n    <tr>\n      <th>10</th>\n      <td>Guinea</td>\n      <td>Sub-Saharan Africa</td>\n      <td>4.984</td>\n      <td>0.62</td>\n      <td>0.766</td>\n      <td>0.72</td>\n      <td>Sub-Saharan Africa</td>\n      <td>4.984</td>\n      <td>0.62</td>\n      <td>0.766</td>\n      <td>0.72</td>\n    </tr>\n    <tr>\n      <th>25</th>\n      <td>Ethiopia</td>\n      <td>Sub-Saharan Africa</td>\n      <td>4.275</td>\n      <td>1.67</td>\n      <td>0.761</td>\n      <td>0.62</td>\n      <td>Sub-Saharan Africa</td>\n      <td>4.275</td>\n      <td>1.67</td>\n      <td>0.761</td>\n      <td>0.62</td>\n    </tr>\n    <tr>\n      <th>4</th>\n      <td>China</td>\n      <td>East Asia</td>\n      <td>5.339</td>\n      <td>0.33</td>\n      <td>0.755</td>\n      <td>0.58</td>\n      <td>East Asia</td>\n      <td>5.339</td>\n      <td>0.33</td>\n      <td>0.755</td>\n      <td>0.58</td>\n    </tr>\n    <tr>\n      <th>13</th>\n      <td>Algeria</td>\n      <td>Middle East and North Africa</td>\n      <td>4.887</td>\n      <td>6.28</td>\n      <td>0.752</td>\n      <td>0.64</td>\n      <td>Middle East and North Africa</td>\n      <td>4.887</td>\n      <td>6.28</td>\n      <td>0.752</td>\n      <td>0.64</td>\n    </tr>\n    <tr>\n      <th>15</th>\n      <td>Burkina Faso</td>\n      <td>Sub-Saharan Africa</td>\n      <td>4.834</td>\n      <td>0.41</td>\n      <td>0.748</td>\n      <td>0.60</td>\n      <td>Sub-Saharan Africa</td>\n      <td>4.834</td>\n      <td>0.41</td>\n      <td>0.748</td>\n      <td>0.60</td>\n    </tr>\n    <tr>\n      <th>9</th>\n      <td>Gambia</td>\n      <td>Sub-Saharan Africa</td>\n      <td>5.051</td>\n      <td>5.13</td>\n      <td>0.746</td>\n      <td>0.63</td>\n      <td>Sub-Saharan Africa</td>\n      <td>5.051</td>\n      <td>5.13</td>\n      <td>0.746</td>\n      <td>0.63</td>\n    </tr>\n    <tr>\n      <th>3</th>\n      <td>Congo (Brazzaville)</td>\n      <td>Sub-Saharan Africa</td>\n      <td>5.342</td>\n      <td>1.96</td>\n      <td>0.745</td>\n      <td>0.81</td>\n      <td>Sub-Saharan Africa</td>\n      <td>5.342</td>\n      <td>1.96</td>\n      <td>0.745</td>\n      <td>0.81</td>\n    </tr>\n    <tr>\n      <th>31</th>\n      <td>Malawi</td>\n      <td>Sub-Saharan Africa</td>\n      <td>3.600</td>\n      <td>0.99</td>\n      <td>0.729</td>\n      <td>0.70</td>\n      <td>Sub-Saharan Africa</td>\n      <td>3.600</td>\n      <td>0.99</td>\n      <td>0.729</td>\n      <td>0.70</td>\n    </tr>\n  </tbody>\n</table>\n</div>"
     },
     "metadata": {},
     "execution_count": 152
    }
   ],
   "source": [
    "deathrate_7c.sort_values(by = 'perceptions_of_corruptionwhr_', ascending = False)"
   ]
  },
  {
   "cell_type": "code",
   "execution_count": 153,
   "id": "e85df78b",
   "metadata": {},
   "outputs": [
    {
     "output_type": "execute_result",
     "data": {
      "text/plain": [
       "                 country                              region  score  \\\n",
       "96          Turkmenistan  Commonwealth of Independent States  5.066   \n",
       "73          North Cyprus                      Western Europe  5.536   \n",
       "99                  Laos                      Southeast Asia  5.030   \n",
       "141             Tanzania                  Sub-Saharan Africa  3.623   \n",
       "78               Vietnam                      Southeast Asia  5.411   \n",
       "113             Cambodia                      Southeast Asia  4.830   \n",
       "23                Taiwan                           East Asia  6.584   \n",
       "83                 China                           East Asia  5.339   \n",
       "139              Burundi                  Sub-Saharan Africa  3.775   \n",
       "140                Yemen        Middle East and North Africa  3.658   \n",
       "53              Thailand                      Southeast Asia  5.985   \n",
       "127                 Chad                  Sub-Saharan Africa  4.355   \n",
       "95                 Niger                  Sub-Saharan Africa  5.074   \n",
       "98                 Benin                  Sub-Saharan Africa  5.045   \n",
       "112         Burkina Faso                  Sub-Saharan Africa  4.834   \n",
       "137         Sierra Leone                  Sub-Saharan Africa  3.849   \n",
       "143               Malawi                  Sub-Saharan Africa  3.600   \n",
       "116                 Mali                  Sub-Saharan Africa  4.723   \n",
       "119              Liberia                  Sub-Saharan Africa  4.625   \n",
       "69              Mongolia                           East Asia  5.677   \n",
       "49             Mauritius                  Sub-Saharan Africa  6.049   \n",
       "115              Nigeria                  Sub-Saharan Africa  4.759   \n",
       "8            New Zealand               North America and ANZ  7.277   \n",
       "135                 Togo                  Sub-Saharan Africa  4.107   \n",
       "114           Mozambique                  Sub-Saharan Africa  4.794   \n",
       "134           Madagascar                  Sub-Saharan Africa  4.208   \n",
       "146               Rwanda                  Sub-Saharan Africa  3.415   \n",
       "118               Uganda                  Sub-Saharan Africa  4.636   \n",
       "84           Ivory Coast                  Sub-Saharan Africa  5.306   \n",
       "142                Haiti         Latin America and Caribbean  3.615   \n",
       "54             Nicaragua         Latin America and Caribbean  5.972   \n",
       "147             Zimbabwe                  Sub-Saharan Africa  3.145   \n",
       "130              Comoros                  Sub-Saharan Africa  4.289   \n",
       "90              Cameroon                  Sub-Saharan Africa  5.142   \n",
       "101               Guinea                  Sub-Saharan Africa  4.984   \n",
       "132             Ethiopia                  Sub-Saharan Africa  4.275   \n",
       "10             Australia               North America and ANZ  7.183   \n",
       "136               Zambia                  Sub-Saharan Africa  4.073   \n",
       "91               Senegal                  Sub-Saharan Africa  5.132   \n",
       "76             Hong Kong                           East Asia  5.477   \n",
       "61           South Korea                           East Asia  5.845   \n",
       "82   Congo (Brazzaville)                  Sub-Saharan Africa  5.342   \n",
       "148          Afghanistan                          South Asia  2.523   \n",
       "131                Egypt        Middle East and North Africa  4.283   \n",
       "77            Tajikistan  Commonwealth of Independent States  5.466   \n",
       "144              Lesotho                  Sub-Saharan Africa  3.512   \n",
       "97                Gambia                  Sub-Saharan Africa  5.051   \n",
       "94                 Ghana                  Sub-Saharan Africa  5.088   \n",
       "120                Kenya                  Sub-Saharan Africa  4.607   \n",
       "55                 Japan                           East Asia  5.940   \n",
       "\n",
       "     cases_100k  perceptions_of_corruption  ti_corrupt_harmonized  \n",
       "96         0.00                      0.888                   0.81  \n",
       "73         0.00                      0.626                    NaN  \n",
       "99         0.56                      0.658                   0.71  \n",
       "141        0.85                      0.577                   0.62  \n",
       "78         1.51                      0.796                   0.64  \n",
       "113        2.26                      0.843                   0.79  \n",
       "23         3.35                      0.721                   0.35  \n",
       "83         6.21                      0.755                   0.58  \n",
       "139        6.88                      0.607                   0.81  \n",
       "140        7.04                      0.800                   0.85  \n",
       "53        10.26                      0.895                   0.64  \n",
       "127       12.86                      0.807                   0.79  \n",
       "95        13.73                      0.693                   0.68  \n",
       "98        26.82                      0.661                   0.59  \n",
       "112       32.09                      0.748                   0.60  \n",
       "137       32.73                      0.866                   0.67  \n",
       "143       34.41                      0.729                   0.70  \n",
       "116       35.01                      0.827                   0.70  \n",
       "119       35.17                      0.850                   0.72  \n",
       "69        37.22                      0.856                   0.65  \n",
       "49        41.56                      0.789                   0.47  \n",
       "115       42.50                      0.878                   0.75  \n",
       "8         43.08                      0.242                   0.12  \n",
       "135       43.88                      0.772                   0.71  \n",
       "114       59.64                      0.684                   0.75  \n",
       "134       63.97                      0.803                   0.75  \n",
       "146       64.72                      0.167                   0.46  \n",
       "118       76.99                      0.855                   0.73  \n",
       "84        85.26                      0.794                   0.64  \n",
       "142       87.69                      0.721                   0.82  \n",
       "54        91.26                      0.664                   0.78  \n",
       "147       93.30                      0.821                   0.76  \n",
       "130       94.60                      0.781                   0.79  \n",
       "90        98.99                      0.848                   0.75  \n",
       "101      104.48                      0.766                   0.72  \n",
       "132      108.09                      0.761                   0.62  \n",
       "10       110.81                      0.442                   0.23  \n",
       "136      112.73                      0.823                   0.67  \n",
       "91       114.31                      0.801                   0.55  \n",
       "76       117.01                      0.403                   0.23  \n",
       "61       119.41                      0.727                   0.39  \n",
       "82       128.80                      0.745                   0.81  \n",
       "148      132.36                      0.924                   0.81  \n",
       "131      134.91                      0.795                   0.67  \n",
       "77       139.40                      0.553                   0.75  \n",
       "144      144.44                      0.915                   0.59  \n",
       "97       157.10                      0.746                   0.63  \n",
       "94       176.27                      0.848                   0.57  \n",
       "120      179.39                      0.825                   0.69  \n",
       "55       187.50                      0.638                   0.26  "
      ],
      "text/html": "<div>\n<style scoped>\n    .dataframe tbody tr th:only-of-type {\n        vertical-align: middle;\n    }\n\n    .dataframe tbody tr th {\n        vertical-align: top;\n    }\n\n    .dataframe thead th {\n        text-align: right;\n    }\n</style>\n<table border=\"1\" class=\"dataframe\">\n  <thead>\n    <tr style=\"text-align: right;\">\n      <th></th>\n      <th>country</th>\n      <th>region</th>\n      <th>score</th>\n      <th>cases_100k</th>\n      <th>perceptions_of_corruption</th>\n      <th>ti_corrupt_harmonized</th>\n    </tr>\n  </thead>\n  <tbody>\n    <tr>\n      <th>96</th>\n      <td>Turkmenistan</td>\n      <td>Commonwealth of Independent States</td>\n      <td>5.066</td>\n      <td>0.00</td>\n      <td>0.888</td>\n      <td>0.81</td>\n    </tr>\n    <tr>\n      <th>73</th>\n      <td>North Cyprus</td>\n      <td>Western Europe</td>\n      <td>5.536</td>\n      <td>0.00</td>\n      <td>0.626</td>\n      <td>NaN</td>\n    </tr>\n    <tr>\n      <th>99</th>\n      <td>Laos</td>\n      <td>Southeast Asia</td>\n      <td>5.030</td>\n      <td>0.56</td>\n      <td>0.658</td>\n      <td>0.71</td>\n    </tr>\n    <tr>\n      <th>141</th>\n      <td>Tanzania</td>\n      <td>Sub-Saharan Africa</td>\n      <td>3.623</td>\n      <td>0.85</td>\n      <td>0.577</td>\n      <td>0.62</td>\n    </tr>\n    <tr>\n      <th>78</th>\n      <td>Vietnam</td>\n      <td>Southeast Asia</td>\n      <td>5.411</td>\n      <td>1.51</td>\n      <td>0.796</td>\n      <td>0.64</td>\n    </tr>\n    <tr>\n      <th>113</th>\n      <td>Cambodia</td>\n      <td>Southeast Asia</td>\n      <td>4.830</td>\n      <td>2.26</td>\n      <td>0.843</td>\n      <td>0.79</td>\n    </tr>\n    <tr>\n      <th>23</th>\n      <td>Taiwan</td>\n      <td>East Asia</td>\n      <td>6.584</td>\n      <td>3.35</td>\n      <td>0.721</td>\n      <td>0.35</td>\n    </tr>\n    <tr>\n      <th>83</th>\n      <td>China</td>\n      <td>East Asia</td>\n      <td>5.339</td>\n      <td>6.21</td>\n      <td>0.755</td>\n      <td>0.58</td>\n    </tr>\n    <tr>\n      <th>139</th>\n      <td>Burundi</td>\n      <td>Sub-Saharan Africa</td>\n      <td>3.775</td>\n      <td>6.88</td>\n      <td>0.607</td>\n      <td>0.81</td>\n    </tr>\n    <tr>\n      <th>140</th>\n      <td>Yemen</td>\n      <td>Middle East and North Africa</td>\n      <td>3.658</td>\n      <td>7.04</td>\n      <td>0.800</td>\n      <td>0.85</td>\n    </tr>\n    <tr>\n      <th>53</th>\n      <td>Thailand</td>\n      <td>Southeast Asia</td>\n      <td>5.985</td>\n      <td>10.26</td>\n      <td>0.895</td>\n      <td>0.64</td>\n    </tr>\n    <tr>\n      <th>127</th>\n      <td>Chad</td>\n      <td>Sub-Saharan Africa</td>\n      <td>4.355</td>\n      <td>12.86</td>\n      <td>0.807</td>\n      <td>0.79</td>\n    </tr>\n    <tr>\n      <th>95</th>\n      <td>Niger</td>\n      <td>Sub-Saharan Africa</td>\n      <td>5.074</td>\n      <td>13.73</td>\n      <td>0.693</td>\n      <td>0.68</td>\n    </tr>\n    <tr>\n      <th>98</th>\n      <td>Benin</td>\n      <td>Sub-Saharan Africa</td>\n      <td>5.045</td>\n      <td>26.82</td>\n      <td>0.661</td>\n      <td>0.59</td>\n    </tr>\n    <tr>\n      <th>112</th>\n      <td>Burkina Faso</td>\n      <td>Sub-Saharan Africa</td>\n      <td>4.834</td>\n      <td>32.09</td>\n      <td>0.748</td>\n      <td>0.60</td>\n    </tr>\n    <tr>\n      <th>137</th>\n      <td>Sierra Leone</td>\n      <td>Sub-Saharan Africa</td>\n      <td>3.849</td>\n      <td>32.73</td>\n      <td>0.866</td>\n      <td>0.67</td>\n    </tr>\n    <tr>\n      <th>143</th>\n      <td>Malawi</td>\n      <td>Sub-Saharan Africa</td>\n      <td>3.600</td>\n      <td>34.41</td>\n      <td>0.729</td>\n      <td>0.70</td>\n    </tr>\n    <tr>\n      <th>116</th>\n      <td>Mali</td>\n      <td>Sub-Saharan Africa</td>\n      <td>4.723</td>\n      <td>35.01</td>\n      <td>0.827</td>\n      <td>0.70</td>\n    </tr>\n    <tr>\n      <th>119</th>\n      <td>Liberia</td>\n      <td>Sub-Saharan Africa</td>\n      <td>4.625</td>\n      <td>35.17</td>\n      <td>0.850</td>\n      <td>0.72</td>\n    </tr>\n    <tr>\n      <th>69</th>\n      <td>Mongolia</td>\n      <td>East Asia</td>\n      <td>5.677</td>\n      <td>37.22</td>\n      <td>0.856</td>\n      <td>0.65</td>\n    </tr>\n    <tr>\n      <th>49</th>\n      <td>Mauritius</td>\n      <td>Sub-Saharan Africa</td>\n      <td>6.049</td>\n      <td>41.56</td>\n      <td>0.789</td>\n      <td>0.47</td>\n    </tr>\n    <tr>\n      <th>115</th>\n      <td>Nigeria</td>\n      <td>Sub-Saharan Africa</td>\n      <td>4.759</td>\n      <td>42.50</td>\n      <td>0.878</td>\n      <td>0.75</td>\n    </tr>\n    <tr>\n      <th>8</th>\n      <td>New Zealand</td>\n      <td>North America and ANZ</td>\n      <td>7.277</td>\n      <td>43.08</td>\n      <td>0.242</td>\n      <td>0.12</td>\n    </tr>\n    <tr>\n      <th>135</th>\n      <td>Togo</td>\n      <td>Sub-Saharan Africa</td>\n      <td>4.107</td>\n      <td>43.88</td>\n      <td>0.772</td>\n      <td>0.71</td>\n    </tr>\n    <tr>\n      <th>114</th>\n      <td>Mozambique</td>\n      <td>Sub-Saharan Africa</td>\n      <td>4.794</td>\n      <td>59.64</td>\n      <td>0.684</td>\n      <td>0.75</td>\n    </tr>\n    <tr>\n      <th>134</th>\n      <td>Madagascar</td>\n      <td>Sub-Saharan Africa</td>\n      <td>4.208</td>\n      <td>63.97</td>\n      <td>0.803</td>\n      <td>0.75</td>\n    </tr>\n    <tr>\n      <th>146</th>\n      <td>Rwanda</td>\n      <td>Sub-Saharan Africa</td>\n      <td>3.415</td>\n      <td>64.72</td>\n      <td>0.167</td>\n      <td>0.46</td>\n    </tr>\n    <tr>\n      <th>118</th>\n      <td>Uganda</td>\n      <td>Sub-Saharan Africa</td>\n      <td>4.636</td>\n      <td>76.99</td>\n      <td>0.855</td>\n      <td>0.73</td>\n    </tr>\n    <tr>\n      <th>84</th>\n      <td>Ivory Coast</td>\n      <td>Sub-Saharan Africa</td>\n      <td>5.306</td>\n      <td>85.26</td>\n      <td>0.794</td>\n      <td>0.64</td>\n    </tr>\n    <tr>\n      <th>142</th>\n      <td>Haiti</td>\n      <td>Latin America and Caribbean</td>\n      <td>3.615</td>\n      <td>87.69</td>\n      <td>0.721</td>\n      <td>0.82</td>\n    </tr>\n    <tr>\n      <th>54</th>\n      <td>Nicaragua</td>\n      <td>Latin America and Caribbean</td>\n      <td>5.972</td>\n      <td>91.26</td>\n      <td>0.664</td>\n      <td>0.78</td>\n    </tr>\n    <tr>\n      <th>147</th>\n      <td>Zimbabwe</td>\n      <td>Sub-Saharan Africa</td>\n      <td>3.145</td>\n      <td>93.30</td>\n      <td>0.821</td>\n      <td>0.76</td>\n    </tr>\n    <tr>\n      <th>130</th>\n      <td>Comoros</td>\n      <td>Sub-Saharan Africa</td>\n      <td>4.289</td>\n      <td>94.60</td>\n      <td>0.781</td>\n      <td>0.79</td>\n    </tr>\n    <tr>\n      <th>90</th>\n      <td>Cameroon</td>\n      <td>Sub-Saharan Africa</td>\n      <td>5.142</td>\n      <td>98.99</td>\n      <td>0.848</td>\n      <td>0.75</td>\n    </tr>\n    <tr>\n      <th>101</th>\n      <td>Guinea</td>\n      <td>Sub-Saharan Africa</td>\n      <td>4.984</td>\n      <td>104.48</td>\n      <td>0.766</td>\n      <td>0.72</td>\n    </tr>\n    <tr>\n      <th>132</th>\n      <td>Ethiopia</td>\n      <td>Sub-Saharan Africa</td>\n      <td>4.275</td>\n      <td>108.09</td>\n      <td>0.761</td>\n      <td>0.62</td>\n    </tr>\n    <tr>\n      <th>10</th>\n      <td>Australia</td>\n      <td>North America and ANZ</td>\n      <td>7.183</td>\n      <td>110.81</td>\n      <td>0.442</td>\n      <td>0.23</td>\n    </tr>\n    <tr>\n      <th>136</th>\n      <td>Zambia</td>\n      <td>Sub-Saharan Africa</td>\n      <td>4.073</td>\n      <td>112.73</td>\n      <td>0.823</td>\n      <td>0.67</td>\n    </tr>\n    <tr>\n      <th>91</th>\n      <td>Senegal</td>\n      <td>Sub-Saharan Africa</td>\n      <td>5.132</td>\n      <td>114.31</td>\n      <td>0.801</td>\n      <td>0.55</td>\n    </tr>\n    <tr>\n      <th>76</th>\n      <td>Hong Kong</td>\n      <td>East Asia</td>\n      <td>5.477</td>\n      <td>117.01</td>\n      <td>0.403</td>\n      <td>0.23</td>\n    </tr>\n    <tr>\n      <th>61</th>\n      <td>South Korea</td>\n      <td>East Asia</td>\n      <td>5.845</td>\n      <td>119.41</td>\n      <td>0.727</td>\n      <td>0.39</td>\n    </tr>\n    <tr>\n      <th>82</th>\n      <td>Congo (Brazzaville)</td>\n      <td>Sub-Saharan Africa</td>\n      <td>5.342</td>\n      <td>128.80</td>\n      <td>0.745</td>\n      <td>0.81</td>\n    </tr>\n    <tr>\n      <th>148</th>\n      <td>Afghanistan</td>\n      <td>South Asia</td>\n      <td>2.523</td>\n      <td>132.36</td>\n      <td>0.924</td>\n      <td>0.81</td>\n    </tr>\n    <tr>\n      <th>131</th>\n      <td>Egypt</td>\n      <td>Middle East and North Africa</td>\n      <td>4.283</td>\n      <td>134.91</td>\n      <td>0.795</td>\n      <td>0.67</td>\n    </tr>\n    <tr>\n      <th>77</th>\n      <td>Tajikistan</td>\n      <td>Commonwealth of Independent States</td>\n      <td>5.466</td>\n      <td>139.40</td>\n      <td>0.553</td>\n      <td>0.75</td>\n    </tr>\n    <tr>\n      <th>144</th>\n      <td>Lesotho</td>\n      <td>Sub-Saharan Africa</td>\n      <td>3.512</td>\n      <td>144.44</td>\n      <td>0.915</td>\n      <td>0.59</td>\n    </tr>\n    <tr>\n      <th>97</th>\n      <td>Gambia</td>\n      <td>Sub-Saharan Africa</td>\n      <td>5.051</td>\n      <td>157.10</td>\n      <td>0.746</td>\n      <td>0.63</td>\n    </tr>\n    <tr>\n      <th>94</th>\n      <td>Ghana</td>\n      <td>Sub-Saharan Africa</td>\n      <td>5.088</td>\n      <td>176.27</td>\n      <td>0.848</td>\n      <td>0.57</td>\n    </tr>\n    <tr>\n      <th>120</th>\n      <td>Kenya</td>\n      <td>Sub-Saharan Africa</td>\n      <td>4.607</td>\n      <td>179.39</td>\n      <td>0.825</td>\n      <td>0.69</td>\n    </tr>\n    <tr>\n      <th>55</th>\n      <td>Japan</td>\n      <td>East Asia</td>\n      <td>5.940</td>\n      <td>187.50</td>\n      <td>0.638</td>\n      <td>0.26</td>\n    </tr>\n  </tbody>\n</table>\n</div>"
     },
     "metadata": {},
     "execution_count": 153
    }
   ],
   "source": [
    "caserate_lmean = correlation_cases[correlation_cases['cases_100k'] < mean_cases]\n",
    "caserate_lmean.sort_values(by = 'cases_100k').head(50)"
   ]
  },
  {
   "cell_type": "markdown",
   "id": "22b03205",
   "metadata": {},
   "source": [
    "Again...let's use New Zealand as a comparator"
   ]
  },
  {
   "cell_type": "markdown",
   "id": "8dc9b0b1",
   "metadata": {},
   "source": [
    "How many countries are reporting less than x number of cases per 100k with public perception corruption scores higher than average? Who are they?"
   ]
  },
  {
   "cell_type": "code",
   "execution_count": 154,
   "id": "12e7e2f3",
   "metadata": {},
   "outputs": [
    {
     "output_type": "execute_result",
     "data": {
      "text/plain": [
       "5"
      ]
     },
     "metadata": {},
     "execution_count": 154
    }
   ],
   "source": [
    "caserate_10 = correlation_cases[(correlation_cases['cases_100k'] < 10) & (correlation_cases.perceptions_of_corruption > correlation_cases.perceptions_of_corruption.mean())]\n",
    "caserate_10.country.count()"
   ]
  },
  {
   "cell_type": "code",
   "execution_count": 155,
   "id": "7800ad5c",
   "metadata": {},
   "outputs": [
    {
     "output_type": "execute_result",
     "data": {
      "text/plain": [
       "          country                              region  score  cases_100k  \\\n",
       "78        Vietnam                      Southeast Asia  5.411        1.51   \n",
       "83          China                           East Asia  5.339        6.21   \n",
       "96   Turkmenistan  Commonwealth of Independent States  5.066        0.00   \n",
       "113      Cambodia                      Southeast Asia  4.830        2.26   \n",
       "140         Yemen        Middle East and North Africa  3.658        7.04   \n",
       "\n",
       "     perceptions_of_corruption  ti_corrupt_harmonized  \n",
       "78                       0.796                   0.64  \n",
       "83                       0.755                   0.58  \n",
       "96                       0.888                   0.81  \n",
       "113                      0.843                   0.79  \n",
       "140                      0.800                   0.85  "
      ],
      "text/html": "<div>\n<style scoped>\n    .dataframe tbody tr th:only-of-type {\n        vertical-align: middle;\n    }\n\n    .dataframe tbody tr th {\n        vertical-align: top;\n    }\n\n    .dataframe thead th {\n        text-align: right;\n    }\n</style>\n<table border=\"1\" class=\"dataframe\">\n  <thead>\n    <tr style=\"text-align: right;\">\n      <th></th>\n      <th>country</th>\n      <th>region</th>\n      <th>score</th>\n      <th>cases_100k</th>\n      <th>perceptions_of_corruption</th>\n      <th>ti_corrupt_harmonized</th>\n    </tr>\n  </thead>\n  <tbody>\n    <tr>\n      <th>78</th>\n      <td>Vietnam</td>\n      <td>Southeast Asia</td>\n      <td>5.411</td>\n      <td>1.51</td>\n      <td>0.796</td>\n      <td>0.64</td>\n    </tr>\n    <tr>\n      <th>83</th>\n      <td>China</td>\n      <td>East Asia</td>\n      <td>5.339</td>\n      <td>6.21</td>\n      <td>0.755</td>\n      <td>0.58</td>\n    </tr>\n    <tr>\n      <th>96</th>\n      <td>Turkmenistan</td>\n      <td>Commonwealth of Independent States</td>\n      <td>5.066</td>\n      <td>0.00</td>\n      <td>0.888</td>\n      <td>0.81</td>\n    </tr>\n    <tr>\n      <th>113</th>\n      <td>Cambodia</td>\n      <td>Southeast Asia</td>\n      <td>4.830</td>\n      <td>2.26</td>\n      <td>0.843</td>\n      <td>0.79</td>\n    </tr>\n    <tr>\n      <th>140</th>\n      <td>Yemen</td>\n      <td>Middle East and North Africa</td>\n      <td>3.658</td>\n      <td>7.04</td>\n      <td>0.800</td>\n      <td>0.85</td>\n    </tr>\n  </tbody>\n</table>\n</div>"
     },
     "metadata": {},
     "execution_count": 155
    }
   ],
   "source": [
    "caserate_10"
   ]
  },
  {
   "cell_type": "code",
   "execution_count": 156,
   "id": "066bf7fe",
   "metadata": {},
   "outputs": [
    {
     "output_type": "execute_result",
     "data": {
      "text/plain": [
       "15"
      ]
     },
     "metadata": {},
     "execution_count": 156
    }
   ],
   "source": [
    "caserate_43 = correlation_cases[(correlation_cases['cases_100k'] < 43) & (correlation_cases.perceptions_of_corruption > correlation_cases.perceptions_of_corruption.mean())]\n",
    "caserate_43.country.count()\n"
   ]
  },
  {
   "cell_type": "code",
   "execution_count": 157,
   "id": "9d7db047",
   "metadata": {},
   "outputs": [
    {
     "output_type": "execute_result",
     "data": {
      "text/plain": [
       "          country                              region  score  cases_100k  \\\n",
       "49      Mauritius                  Sub-Saharan Africa  6.049       41.56   \n",
       "53       Thailand                      Southeast Asia  5.985       10.26   \n",
       "69       Mongolia                           East Asia  5.677       37.22   \n",
       "78        Vietnam                      Southeast Asia  5.411        1.51   \n",
       "83          China                           East Asia  5.339        6.21   \n",
       "96   Turkmenistan  Commonwealth of Independent States  5.066        0.00   \n",
       "112  Burkina Faso                  Sub-Saharan Africa  4.834       32.09   \n",
       "113      Cambodia                      Southeast Asia  4.830        2.26   \n",
       "115       Nigeria                  Sub-Saharan Africa  4.759       42.50   \n",
       "116          Mali                  Sub-Saharan Africa  4.723       35.01   \n",
       "119       Liberia                  Sub-Saharan Africa  4.625       35.17   \n",
       "127          Chad                  Sub-Saharan Africa  4.355       12.86   \n",
       "137  Sierra Leone                  Sub-Saharan Africa  3.849       32.73   \n",
       "140         Yemen        Middle East and North Africa  3.658        7.04   \n",
       "143        Malawi                  Sub-Saharan Africa  3.600       34.41   \n",
       "\n",
       "     perceptions_of_corruption  ti_corrupt_harmonized  \n",
       "49                       0.789                   0.47  \n",
       "53                       0.895                   0.64  \n",
       "69                       0.856                   0.65  \n",
       "78                       0.796                   0.64  \n",
       "83                       0.755                   0.58  \n",
       "96                       0.888                   0.81  \n",
       "112                      0.748                   0.60  \n",
       "113                      0.843                   0.79  \n",
       "115                      0.878                   0.75  \n",
       "116                      0.827                   0.70  \n",
       "119                      0.850                   0.72  \n",
       "127                      0.807                   0.79  \n",
       "137                      0.866                   0.67  \n",
       "140                      0.800                   0.85  \n",
       "143                      0.729                   0.70  "
      ],
      "text/html": "<div>\n<style scoped>\n    .dataframe tbody tr th:only-of-type {\n        vertical-align: middle;\n    }\n\n    .dataframe tbody tr th {\n        vertical-align: top;\n    }\n\n    .dataframe thead th {\n        text-align: right;\n    }\n</style>\n<table border=\"1\" class=\"dataframe\">\n  <thead>\n    <tr style=\"text-align: right;\">\n      <th></th>\n      <th>country</th>\n      <th>region</th>\n      <th>score</th>\n      <th>cases_100k</th>\n      <th>perceptions_of_corruption</th>\n      <th>ti_corrupt_harmonized</th>\n    </tr>\n  </thead>\n  <tbody>\n    <tr>\n      <th>49</th>\n      <td>Mauritius</td>\n      <td>Sub-Saharan Africa</td>\n      <td>6.049</td>\n      <td>41.56</td>\n      <td>0.789</td>\n      <td>0.47</td>\n    </tr>\n    <tr>\n      <th>53</th>\n      <td>Thailand</td>\n      <td>Southeast Asia</td>\n      <td>5.985</td>\n      <td>10.26</td>\n      <td>0.895</td>\n      <td>0.64</td>\n    </tr>\n    <tr>\n      <th>69</th>\n      <td>Mongolia</td>\n      <td>East Asia</td>\n      <td>5.677</td>\n      <td>37.22</td>\n      <td>0.856</td>\n      <td>0.65</td>\n    </tr>\n    <tr>\n      <th>78</th>\n      <td>Vietnam</td>\n      <td>Southeast Asia</td>\n      <td>5.411</td>\n      <td>1.51</td>\n      <td>0.796</td>\n      <td>0.64</td>\n    </tr>\n    <tr>\n      <th>83</th>\n      <td>China</td>\n      <td>East Asia</td>\n      <td>5.339</td>\n      <td>6.21</td>\n      <td>0.755</td>\n      <td>0.58</td>\n    </tr>\n    <tr>\n      <th>96</th>\n      <td>Turkmenistan</td>\n      <td>Commonwealth of Independent States</td>\n      <td>5.066</td>\n      <td>0.00</td>\n      <td>0.888</td>\n      <td>0.81</td>\n    </tr>\n    <tr>\n      <th>112</th>\n      <td>Burkina Faso</td>\n      <td>Sub-Saharan Africa</td>\n      <td>4.834</td>\n      <td>32.09</td>\n      <td>0.748</td>\n      <td>0.60</td>\n    </tr>\n    <tr>\n      <th>113</th>\n      <td>Cambodia</td>\n      <td>Southeast Asia</td>\n      <td>4.830</td>\n      <td>2.26</td>\n      <td>0.843</td>\n      <td>0.79</td>\n    </tr>\n    <tr>\n      <th>115</th>\n      <td>Nigeria</td>\n      <td>Sub-Saharan Africa</td>\n      <td>4.759</td>\n      <td>42.50</td>\n      <td>0.878</td>\n      <td>0.75</td>\n    </tr>\n    <tr>\n      <th>116</th>\n      <td>Mali</td>\n      <td>Sub-Saharan Africa</td>\n      <td>4.723</td>\n      <td>35.01</td>\n      <td>0.827</td>\n      <td>0.70</td>\n    </tr>\n    <tr>\n      <th>119</th>\n      <td>Liberia</td>\n      <td>Sub-Saharan Africa</td>\n      <td>4.625</td>\n      <td>35.17</td>\n      <td>0.850</td>\n      <td>0.72</td>\n    </tr>\n    <tr>\n      <th>127</th>\n      <td>Chad</td>\n      <td>Sub-Saharan Africa</td>\n      <td>4.355</td>\n      <td>12.86</td>\n      <td>0.807</td>\n      <td>0.79</td>\n    </tr>\n    <tr>\n      <th>137</th>\n      <td>Sierra Leone</td>\n      <td>Sub-Saharan Africa</td>\n      <td>3.849</td>\n      <td>32.73</td>\n      <td>0.866</td>\n      <td>0.67</td>\n    </tr>\n    <tr>\n      <th>140</th>\n      <td>Yemen</td>\n      <td>Middle East and North Africa</td>\n      <td>3.658</td>\n      <td>7.04</td>\n      <td>0.800</td>\n      <td>0.85</td>\n    </tr>\n    <tr>\n      <th>143</th>\n      <td>Malawi</td>\n      <td>Sub-Saharan Africa</td>\n      <td>3.600</td>\n      <td>34.41</td>\n      <td>0.729</td>\n      <td>0.70</td>\n    </tr>\n  </tbody>\n</table>\n</div>"
     },
     "metadata": {},
     "execution_count": 157
    }
   ],
   "source": [
    "caserate_43"
   ]
  },
  {
   "cell_type": "markdown",
   "id": "7e0fb28a",
   "metadata": {},
   "source": [
    "How does this compare with expert opinions on corruption"
   ]
  },
  {
   "cell_type": "code",
   "execution_count": 158,
   "id": "d4338ee6",
   "metadata": {},
   "outputs": [
    {
     "output_type": "execute_result",
     "data": {
      "text/plain": [
       "19"
      ]
     },
     "metadata": {},
     "execution_count": 158
    }
   ],
   "source": [
    "caserate_43e = correlation_cases[(correlation_cases['cases_100k'] < 43) & (correlation_cases.ti_corrupt_harmonized > correlation_cases.ti_corrupt_harmonized.mean())]\n",
    "caserate_43e.country.count()"
   ]
  },
  {
   "cell_type": "code",
   "execution_count": 159,
   "id": "0ae338d1",
   "metadata": {},
   "outputs": [],
   "source": [
    "caserate_43c = caserate_43.merge(caserate_43e, on = 'country', suffixes = ('whr_', 'ti_')).sort_values(by = 'perceptions_of_corruptionwhr_', ascending = False)"
   ]
  },
  {
   "cell_type": "code",
   "execution_count": 160,
   "id": "cda208a3",
   "metadata": {},
   "outputs": [
    {
     "output_type": "stream",
     "name": "stdout",
     "text": [
      "<class 'pandas.core.frame.DataFrame'>\nInt64Index: 14 entries, 0 to 13\nData columns (total 11 columns):\n #   Column                         Non-Null Count  Dtype  \n---  ------                         --------------  -----  \n 0   country                        14 non-null     object \n 1   regionwhr_                     14 non-null     object \n 2   scorewhr_                      14 non-null     float64\n 3   cases_100kwhr_                 14 non-null     float64\n 4   perceptions_of_corruptionwhr_  14 non-null     float64\n 5   ti_corrupt_harmonizedwhr_      14 non-null     float64\n 6   regionti_                      14 non-null     object \n 7   scoreti_                       14 non-null     float64\n 8   cases_100kti_                  14 non-null     float64\n 9   perceptions_of_corruptionti_   14 non-null     float64\n 10  ti_corrupt_harmonizedti_       14 non-null     float64\ndtypes: float64(8), object(3)\nmemory usage: 1.3+ KB\n"
     ]
    },
    {
     "output_type": "execute_result",
     "data": {
      "text/plain": [
       "Sub-Saharan Africa                    0.500000\n",
       "Southeast Asia                        0.214286\n",
       "East Asia                             0.142857\n",
       "Middle East and North Africa          0.071429\n",
       "Commonwealth of Independent States    0.071429\n",
       "Name: regionwhr_, dtype: float64"
      ]
     },
     "metadata": {},
     "execution_count": 160
    }
   ],
   "source": [
    "caserate_43c.info()\n",
    "caserate_43c['regionwhr_'].value_counts(normalize = True)"
   ]
  },
  {
   "cell_type": "code",
   "execution_count": 161,
   "id": "d21e20be",
   "metadata": {},
   "outputs": [
    {
     "output_type": "stream",
     "name": "stdout",
     "text": [
      "<class 'pandas.core.frame.DataFrame'>\nInt64Index: 14 entries, 0 to 13\nData columns (total 11 columns):\n #   Column                         Non-Null Count  Dtype  \n---  ------                         --------------  -----  \n 0   country                        14 non-null     object \n 1   regionwhr_                     14 non-null     object \n 2   scorewhr_                      14 non-null     float64\n 3   cases_100kwhr_                 14 non-null     float64\n 4   perceptions_of_corruptionwhr_  14 non-null     float64\n 5   ti_corrupt_harmonizedwhr_      14 non-null     float64\n 6   regionti_                      14 non-null     object \n 7   scoreti_                       14 non-null     float64\n 8   cases_100kti_                  14 non-null     float64\n 9   perceptions_of_corruptionti_   14 non-null     float64\n 10  ti_corrupt_harmonizedti_       14 non-null     float64\ndtypes: float64(8), object(3)\nmemory usage: 1.3+ KB\n"
     ]
    },
    {
     "output_type": "execute_result",
     "data": {
      "text/plain": [
       "Sub-Saharan Africa                    0.500000\n",
       "Southeast Asia                        0.214286\n",
       "East Asia                             0.142857\n",
       "Middle East and North Africa          0.071429\n",
       "Commonwealth of Independent States    0.071429\n",
       "Name: regionwhr_, dtype: float64"
      ]
     },
     "metadata": {},
     "execution_count": 161
    }
   ],
   "source": [
    "caserate_43c.info()\n",
    "caserate_43c['regionwhr_'].value_counts(normalize = True)"
   ]
  },
  {
   "cell_type": "markdown",
   "id": "b38c49d8",
   "metadata": {},
   "source": [
    "50% (n=7) of countries reporting less than 44 cases/100k population and have higher than average corruption score across both public and expert opinions are in Sub-Saharan Africa."
   ]
  },
  {
   "cell_type": "code",
   "execution_count": 162,
   "id": "c0613d88",
   "metadata": {},
   "outputs": [
    {
     "output_type": "execute_result",
     "data": {
      "text/plain": [
       "         country                          regionwhr_  scorewhr_  \\\n",
       "0       Thailand                      Southeast Asia      5.985   \n",
       "4   Turkmenistan  Commonwealth of Independent States      5.066   \n",
       "7        Nigeria                  Sub-Saharan Africa      4.759   \n",
       "11  Sierra Leone                  Sub-Saharan Africa      3.849   \n",
       "1       Mongolia                           East Asia      5.677   \n",
       "9        Liberia                  Sub-Saharan Africa      4.625   \n",
       "6       Cambodia                      Southeast Asia      4.830   \n",
       "8           Mali                  Sub-Saharan Africa      4.723   \n",
       "10          Chad                  Sub-Saharan Africa      4.355   \n",
       "12         Yemen        Middle East and North Africa      3.658   \n",
       "2        Vietnam                      Southeast Asia      5.411   \n",
       "3          China                           East Asia      5.339   \n",
       "5   Burkina Faso                  Sub-Saharan Africa      4.834   \n",
       "13        Malawi                  Sub-Saharan Africa      3.600   \n",
       "\n",
       "    cases_100kwhr_  perceptions_of_corruptionwhr_  ti_corrupt_harmonizedwhr_  \\\n",
       "0            10.26                          0.895                       0.64   \n",
       "4             0.00                          0.888                       0.81   \n",
       "7            42.50                          0.878                       0.75   \n",
       "11           32.73                          0.866                       0.67   \n",
       "1            37.22                          0.856                       0.65   \n",
       "9            35.17                          0.850                       0.72   \n",
       "6             2.26                          0.843                       0.79   \n",
       "8            35.01                          0.827                       0.70   \n",
       "10           12.86                          0.807                       0.79   \n",
       "12            7.04                          0.800                       0.85   \n",
       "2             1.51                          0.796                       0.64   \n",
       "3             6.21                          0.755                       0.58   \n",
       "5            32.09                          0.748                       0.60   \n",
       "13           34.41                          0.729                       0.70   \n",
       "\n",
       "                             regionti_  scoreti_  cases_100kti_  \\\n",
       "0                       Southeast Asia     5.985          10.26   \n",
       "4   Commonwealth of Independent States     5.066           0.00   \n",
       "7                   Sub-Saharan Africa     4.759          42.50   \n",
       "11                  Sub-Saharan Africa     3.849          32.73   \n",
       "1                            East Asia     5.677          37.22   \n",
       "9                   Sub-Saharan Africa     4.625          35.17   \n",
       "6                       Southeast Asia     4.830           2.26   \n",
       "8                   Sub-Saharan Africa     4.723          35.01   \n",
       "10                  Sub-Saharan Africa     4.355          12.86   \n",
       "12        Middle East and North Africa     3.658           7.04   \n",
       "2                       Southeast Asia     5.411           1.51   \n",
       "3                            East Asia     5.339           6.21   \n",
       "5                   Sub-Saharan Africa     4.834          32.09   \n",
       "13                  Sub-Saharan Africa     3.600          34.41   \n",
       "\n",
       "    perceptions_of_corruptionti_  ti_corrupt_harmonizedti_  \n",
       "0                          0.895                      0.64  \n",
       "4                          0.888                      0.81  \n",
       "7                          0.878                      0.75  \n",
       "11                         0.866                      0.67  \n",
       "1                          0.856                      0.65  \n",
       "9                          0.850                      0.72  \n",
       "6                          0.843                      0.79  \n",
       "8                          0.827                      0.70  \n",
       "10                         0.807                      0.79  \n",
       "12                         0.800                      0.85  \n",
       "2                          0.796                      0.64  \n",
       "3                          0.755                      0.58  \n",
       "5                          0.748                      0.60  \n",
       "13                         0.729                      0.70  "
      ],
      "text/html": "<div>\n<style scoped>\n    .dataframe tbody tr th:only-of-type {\n        vertical-align: middle;\n    }\n\n    .dataframe tbody tr th {\n        vertical-align: top;\n    }\n\n    .dataframe thead th {\n        text-align: right;\n    }\n</style>\n<table border=\"1\" class=\"dataframe\">\n  <thead>\n    <tr style=\"text-align: right;\">\n      <th></th>\n      <th>country</th>\n      <th>regionwhr_</th>\n      <th>scorewhr_</th>\n      <th>cases_100kwhr_</th>\n      <th>perceptions_of_corruptionwhr_</th>\n      <th>ti_corrupt_harmonizedwhr_</th>\n      <th>regionti_</th>\n      <th>scoreti_</th>\n      <th>cases_100kti_</th>\n      <th>perceptions_of_corruptionti_</th>\n      <th>ti_corrupt_harmonizedti_</th>\n    </tr>\n  </thead>\n  <tbody>\n    <tr>\n      <th>0</th>\n      <td>Thailand</td>\n      <td>Southeast Asia</td>\n      <td>5.985</td>\n      <td>10.26</td>\n      <td>0.895</td>\n      <td>0.64</td>\n      <td>Southeast Asia</td>\n      <td>5.985</td>\n      <td>10.26</td>\n      <td>0.895</td>\n      <td>0.64</td>\n    </tr>\n    <tr>\n      <th>4</th>\n      <td>Turkmenistan</td>\n      <td>Commonwealth of Independent States</td>\n      <td>5.066</td>\n      <td>0.00</td>\n      <td>0.888</td>\n      <td>0.81</td>\n      <td>Commonwealth of Independent States</td>\n      <td>5.066</td>\n      <td>0.00</td>\n      <td>0.888</td>\n      <td>0.81</td>\n    </tr>\n    <tr>\n      <th>7</th>\n      <td>Nigeria</td>\n      <td>Sub-Saharan Africa</td>\n      <td>4.759</td>\n      <td>42.50</td>\n      <td>0.878</td>\n      <td>0.75</td>\n      <td>Sub-Saharan Africa</td>\n      <td>4.759</td>\n      <td>42.50</td>\n      <td>0.878</td>\n      <td>0.75</td>\n    </tr>\n    <tr>\n      <th>11</th>\n      <td>Sierra Leone</td>\n      <td>Sub-Saharan Africa</td>\n      <td>3.849</td>\n      <td>32.73</td>\n      <td>0.866</td>\n      <td>0.67</td>\n      <td>Sub-Saharan Africa</td>\n      <td>3.849</td>\n      <td>32.73</td>\n      <td>0.866</td>\n      <td>0.67</td>\n    </tr>\n    <tr>\n      <th>1</th>\n      <td>Mongolia</td>\n      <td>East Asia</td>\n      <td>5.677</td>\n      <td>37.22</td>\n      <td>0.856</td>\n      <td>0.65</td>\n      <td>East Asia</td>\n      <td>5.677</td>\n      <td>37.22</td>\n      <td>0.856</td>\n      <td>0.65</td>\n    </tr>\n    <tr>\n      <th>9</th>\n      <td>Liberia</td>\n      <td>Sub-Saharan Africa</td>\n      <td>4.625</td>\n      <td>35.17</td>\n      <td>0.850</td>\n      <td>0.72</td>\n      <td>Sub-Saharan Africa</td>\n      <td>4.625</td>\n      <td>35.17</td>\n      <td>0.850</td>\n      <td>0.72</td>\n    </tr>\n    <tr>\n      <th>6</th>\n      <td>Cambodia</td>\n      <td>Southeast Asia</td>\n      <td>4.830</td>\n      <td>2.26</td>\n      <td>0.843</td>\n      <td>0.79</td>\n      <td>Southeast Asia</td>\n      <td>4.830</td>\n      <td>2.26</td>\n      <td>0.843</td>\n      <td>0.79</td>\n    </tr>\n    <tr>\n      <th>8</th>\n      <td>Mali</td>\n      <td>Sub-Saharan Africa</td>\n      <td>4.723</td>\n      <td>35.01</td>\n      <td>0.827</td>\n      <td>0.70</td>\n      <td>Sub-Saharan Africa</td>\n      <td>4.723</td>\n      <td>35.01</td>\n      <td>0.827</td>\n      <td>0.70</td>\n    </tr>\n    <tr>\n      <th>10</th>\n      <td>Chad</td>\n      <td>Sub-Saharan Africa</td>\n      <td>4.355</td>\n      <td>12.86</td>\n      <td>0.807</td>\n      <td>0.79</td>\n      <td>Sub-Saharan Africa</td>\n      <td>4.355</td>\n      <td>12.86</td>\n      <td>0.807</td>\n      <td>0.79</td>\n    </tr>\n    <tr>\n      <th>12</th>\n      <td>Yemen</td>\n      <td>Middle East and North Africa</td>\n      <td>3.658</td>\n      <td>7.04</td>\n      <td>0.800</td>\n      <td>0.85</td>\n      <td>Middle East and North Africa</td>\n      <td>3.658</td>\n      <td>7.04</td>\n      <td>0.800</td>\n      <td>0.85</td>\n    </tr>\n    <tr>\n      <th>2</th>\n      <td>Vietnam</td>\n      <td>Southeast Asia</td>\n      <td>5.411</td>\n      <td>1.51</td>\n      <td>0.796</td>\n      <td>0.64</td>\n      <td>Southeast Asia</td>\n      <td>5.411</td>\n      <td>1.51</td>\n      <td>0.796</td>\n      <td>0.64</td>\n    </tr>\n    <tr>\n      <th>3</th>\n      <td>China</td>\n      <td>East Asia</td>\n      <td>5.339</td>\n      <td>6.21</td>\n      <td>0.755</td>\n      <td>0.58</td>\n      <td>East Asia</td>\n      <td>5.339</td>\n      <td>6.21</td>\n      <td>0.755</td>\n      <td>0.58</td>\n    </tr>\n    <tr>\n      <th>5</th>\n      <td>Burkina Faso</td>\n      <td>Sub-Saharan Africa</td>\n      <td>4.834</td>\n      <td>32.09</td>\n      <td>0.748</td>\n      <td>0.60</td>\n      <td>Sub-Saharan Africa</td>\n      <td>4.834</td>\n      <td>32.09</td>\n      <td>0.748</td>\n      <td>0.60</td>\n    </tr>\n    <tr>\n      <th>13</th>\n      <td>Malawi</td>\n      <td>Sub-Saharan Africa</td>\n      <td>3.600</td>\n      <td>34.41</td>\n      <td>0.729</td>\n      <td>0.70</td>\n      <td>Sub-Saharan Africa</td>\n      <td>3.600</td>\n      <td>34.41</td>\n      <td>0.729</td>\n      <td>0.70</td>\n    </tr>\n  </tbody>\n</table>\n</div>"
     },
     "metadata": {},
     "execution_count": 162
    }
   ],
   "source": [
    "caserate_43c.sort_values(by = 'perceptions_of_corruptionwhr_', ascending = False)"
   ]
  },
  {
   "cell_type": "code",
   "execution_count": 163,
   "metadata": {},
   "outputs": [
    {
     "output_type": "execute_result",
     "data": {
      "text/plain": [
       "                    country                              region  score  \\\n",
       "59                  Croatia          Central and Eastern Europe  5.882   \n",
       "45                  Romania          Central and Eastern Europe  6.140   \n",
       "87                 Bulgaria          Central and Eastern Europe  5.266   \n",
       "63   Bosnia and Herzegovina          Central and Eastern Europe  5.813   \n",
       "148             Afghanistan                          South Asia  2.523   \n",
       "109                 Ukraine  Commonwealth of Independent States  4.875   \n",
       "64                  Moldova  Commonwealth of Independent States  5.766   \n",
       "32                   Kosovo          Central and Eastern Europe  6.372   \n",
       "144                 Lesotho                  Sub-Saharan Africa  3.512   \n",
       "33                 Slovakia          Central and Eastern Europe  6.331   \n",
       "66               Kyrgyzstan  Commonwealth of Independent States  5.744   \n",
       "93          North Macedonia          Central and Eastern Europe  5.101   \n",
       "92                  Albania          Central and Eastern Europe  5.117   \n",
       "122                 Lebanon        Middle East and North Africa  4.584   \n",
       "53                 Thailand                      Southeast Asia  5.985   \n",
       "62                     Peru         Latin America and Caribbean  5.840   \n",
       "96             Turkmenistan  Commonwealth of Independent States  5.066   \n",
       "57                 Portugal                      Western Europe  5.929   \n",
       "36                  Jamaica         Latin America and Caribbean  6.309   \n",
       "70                 Paraguay         Latin America and Caribbean  5.653   \n",
       "\n",
       "     log_gdp_cap  social_support  life_expectancy  \\\n",
       "59        10.217           0.924           70.799   \n",
       "45        10.284           0.832           67.355   \n",
       "87        10.016           0.931           67.000   \n",
       "63         9.590           0.870           68.098   \n",
       "148        7.695           0.463           52.493   \n",
       "109        9.436           0.888           64.902   \n",
       "64         9.454           0.857           65.699   \n",
       "32         9.318           0.821           63.813   \n",
       "144        7.926           0.787           48.700   \n",
       "33        10.369           0.936           69.201   \n",
       "66         8.538           0.893           64.401   \n",
       "93         9.693           0.805           65.474   \n",
       "92         9.520           0.697           68.999   \n",
       "122        9.626           0.848           67.355   \n",
       "53         9.805           0.888           67.401   \n",
       "62         9.458           0.832           68.250   \n",
       "96         9.629           0.983           62.409   \n",
       "57        10.421           0.879           72.600   \n",
       "36         9.186           0.877           67.500   \n",
       "70         9.448           0.893           65.900   \n",
       "\n",
       "     freedom_to_make_life_choices  generosity  perceptions_of_corruption  \\\n",
       "59                          0.754      -0.118                      0.939   \n",
       "45                          0.845      -0.219                      0.938   \n",
       "87                          0.788      -0.096                      0.932   \n",
       "63                          0.706       0.113                      0.931   \n",
       "148                         0.382      -0.102                      0.924   \n",
       "109                         0.724      -0.011                      0.924   \n",
       "64                          0.822      -0.079                      0.918   \n",
       "32                          0.869       0.257                      0.917   \n",
       "144                         0.715      -0.131                      0.915   \n",
       "33                          0.766      -0.124                      0.911   \n",
       "66                          0.935       0.119                      0.908   \n",
       "93                          0.751       0.038                      0.905   \n",
       "92                          0.785      -0.030                      0.901   \n",
       "122                         0.525      -0.073                      0.898   \n",
       "53                          0.884       0.287                      0.895   \n",
       "62                          0.822      -0.154                      0.891   \n",
       "96                          0.877       0.273                      0.888   \n",
       "57                          0.892      -0.244                      0.887   \n",
       "36                          0.890      -0.137                      0.884   \n",
       "70                          0.876       0.028                      0.882   \n",
       "\n",
       "     ti_corrupt_harmonized  covid_deaths  covid_cases     pop_2020   \\\n",
       "59                    0.53        3920.0     210837.0    4,041,000    \n",
       "45                    0.56       15767.0     632263.0   19,248,000    \n",
       "87                    0.56        7576.0     202266.0    6,923,000    \n",
       "63                    0.65        4050.0     110985.0    3,281,000    \n",
       "148                   0.81        2191.0      51526.0   38,928,000    \n",
       "109                   0.67       19281.0    1086997.0   44,119,000    \n",
       "64                    0.66        2985.0     144818.0    2,656,000    \n",
       "32                    0.64        1332.0      51144.0    1,795,000    \n",
       "144                   0.59          51.0       3094.0    2,142,000    \n",
       "33                    0.51        2138.0     179543.0    5,456,000    \n",
       "66                    0.69        1355.0      81034.0    6,564,000    \n",
       "93                    0.65        2503.0      83329.0    2,083,000    \n",
       "92                    0.64        1181.0      58316.0    2,850,000    \n",
       "122                   0.75        1468.0     181503.0    6,825,000    \n",
       "53                    0.64          63.0       7163.0   69,800,000    \n",
       "62                    0.62       93070.0    1015137.0   32,972,000    \n",
       "96                    0.81           0.0          0.0    6,031,000    \n",
       "57                    0.39        6906.0     413678.0   10,254,000    \n",
       "36                    0.56         302.0      12827.0    2,961,000    \n",
       "70                    0.72        2262.0     107932.0    7,133,000    \n",
       "\n",
       "     death_100k  cases_100k  oecd  \n",
       "59        97.01     5217.45     0  \n",
       "45        81.92     3284.82     0  \n",
       "87       109.43     2921.65     0  \n",
       "63       123.44     3382.66     0  \n",
       "148        5.63      132.36     0  \n",
       "109       43.70     2463.78     0  \n",
       "64       112.39     5452.48     0  \n",
       "32        74.21     2849.25     0  \n",
       "144        2.38      144.44     0  \n",
       "33        39.19     3290.74     1  \n",
       "66        20.64     1234.52     0  \n",
       "93       120.16     4000.43     0  \n",
       "92        41.44     2046.18     0  \n",
       "122       21.51     2659.38     0  \n",
       "53         0.09       10.26     0  \n",
       "62       282.27     3078.79     0  \n",
       "96         0.00        0.00     0  \n",
       "57        67.35     4034.31     1  \n",
       "36        10.20      433.20     0  \n",
       "70        31.71     1513.14     0  "
      ],
      "text/html": "<div>\n<style scoped>\n    .dataframe tbody tr th:only-of-type {\n        vertical-align: middle;\n    }\n\n    .dataframe tbody tr th {\n        vertical-align: top;\n    }\n\n    .dataframe thead th {\n        text-align: right;\n    }\n</style>\n<table border=\"1\" class=\"dataframe\">\n  <thead>\n    <tr style=\"text-align: right;\">\n      <th></th>\n      <th>country</th>\n      <th>region</th>\n      <th>score</th>\n      <th>log_gdp_cap</th>\n      <th>social_support</th>\n      <th>life_expectancy</th>\n      <th>freedom_to_make_life_choices</th>\n      <th>generosity</th>\n      <th>perceptions_of_corruption</th>\n      <th>ti_corrupt_harmonized</th>\n      <th>covid_deaths</th>\n      <th>covid_cases</th>\n      <th>pop_2020</th>\n      <th>death_100k</th>\n      <th>cases_100k</th>\n      <th>oecd</th>\n    </tr>\n  </thead>\n  <tbody>\n    <tr>\n      <th>59</th>\n      <td>Croatia</td>\n      <td>Central and Eastern Europe</td>\n      <td>5.882</td>\n      <td>10.217</td>\n      <td>0.924</td>\n      <td>70.799</td>\n      <td>0.754</td>\n      <td>-0.118</td>\n      <td>0.939</td>\n      <td>0.53</td>\n      <td>3920.0</td>\n      <td>210837.0</td>\n      <td>4,041,000</td>\n      <td>97.01</td>\n      <td>5217.45</td>\n      <td>0</td>\n    </tr>\n    <tr>\n      <th>45</th>\n      <td>Romania</td>\n      <td>Central and Eastern Europe</td>\n      <td>6.140</td>\n      <td>10.284</td>\n      <td>0.832</td>\n      <td>67.355</td>\n      <td>0.845</td>\n      <td>-0.219</td>\n      <td>0.938</td>\n      <td>0.56</td>\n      <td>15767.0</td>\n      <td>632263.0</td>\n      <td>19,248,000</td>\n      <td>81.92</td>\n      <td>3284.82</td>\n      <td>0</td>\n    </tr>\n    <tr>\n      <th>87</th>\n      <td>Bulgaria</td>\n      <td>Central and Eastern Europe</td>\n      <td>5.266</td>\n      <td>10.016</td>\n      <td>0.931</td>\n      <td>67.000</td>\n      <td>0.788</td>\n      <td>-0.096</td>\n      <td>0.932</td>\n      <td>0.56</td>\n      <td>7576.0</td>\n      <td>202266.0</td>\n      <td>6,923,000</td>\n      <td>109.43</td>\n      <td>2921.65</td>\n      <td>0</td>\n    </tr>\n    <tr>\n      <th>63</th>\n      <td>Bosnia and Herzegovina</td>\n      <td>Central and Eastern Europe</td>\n      <td>5.813</td>\n      <td>9.590</td>\n      <td>0.870</td>\n      <td>68.098</td>\n      <td>0.706</td>\n      <td>0.113</td>\n      <td>0.931</td>\n      <td>0.65</td>\n      <td>4050.0</td>\n      <td>110985.0</td>\n      <td>3,281,000</td>\n      <td>123.44</td>\n      <td>3382.66</td>\n      <td>0</td>\n    </tr>\n    <tr>\n      <th>148</th>\n      <td>Afghanistan</td>\n      <td>South Asia</td>\n      <td>2.523</td>\n      <td>7.695</td>\n      <td>0.463</td>\n      <td>52.493</td>\n      <td>0.382</td>\n      <td>-0.102</td>\n      <td>0.924</td>\n      <td>0.81</td>\n      <td>2191.0</td>\n      <td>51526.0</td>\n      <td>38,928,000</td>\n      <td>5.63</td>\n      <td>132.36</td>\n      <td>0</td>\n    </tr>\n    <tr>\n      <th>109</th>\n      <td>Ukraine</td>\n      <td>Commonwealth of Independent States</td>\n      <td>4.875</td>\n      <td>9.436</td>\n      <td>0.888</td>\n      <td>64.902</td>\n      <td>0.724</td>\n      <td>-0.011</td>\n      <td>0.924</td>\n      <td>0.67</td>\n      <td>19281.0</td>\n      <td>1086997.0</td>\n      <td>44,119,000</td>\n      <td>43.70</td>\n      <td>2463.78</td>\n      <td>0</td>\n    </tr>\n    <tr>\n      <th>64</th>\n      <td>Moldova</td>\n      <td>Commonwealth of Independent States</td>\n      <td>5.766</td>\n      <td>9.454</td>\n      <td>0.857</td>\n      <td>65.699</td>\n      <td>0.822</td>\n      <td>-0.079</td>\n      <td>0.918</td>\n      <td>0.66</td>\n      <td>2985.0</td>\n      <td>144818.0</td>\n      <td>2,656,000</td>\n      <td>112.39</td>\n      <td>5452.48</td>\n      <td>0</td>\n    </tr>\n    <tr>\n      <th>32</th>\n      <td>Kosovo</td>\n      <td>Central and Eastern Europe</td>\n      <td>6.372</td>\n      <td>9.318</td>\n      <td>0.821</td>\n      <td>63.813</td>\n      <td>0.869</td>\n      <td>0.257</td>\n      <td>0.917</td>\n      <td>0.64</td>\n      <td>1332.0</td>\n      <td>51144.0</td>\n      <td>1,795,000</td>\n      <td>74.21</td>\n      <td>2849.25</td>\n      <td>0</td>\n    </tr>\n    <tr>\n      <th>144</th>\n      <td>Lesotho</td>\n      <td>Sub-Saharan Africa</td>\n      <td>3.512</td>\n      <td>7.926</td>\n      <td>0.787</td>\n      <td>48.700</td>\n      <td>0.715</td>\n      <td>-0.131</td>\n      <td>0.915</td>\n      <td>0.59</td>\n      <td>51.0</td>\n      <td>3094.0</td>\n      <td>2,142,000</td>\n      <td>2.38</td>\n      <td>144.44</td>\n      <td>0</td>\n    </tr>\n    <tr>\n      <th>33</th>\n      <td>Slovakia</td>\n      <td>Central and Eastern Europe</td>\n      <td>6.331</td>\n      <td>10.369</td>\n      <td>0.936</td>\n      <td>69.201</td>\n      <td>0.766</td>\n      <td>-0.124</td>\n      <td>0.911</td>\n      <td>0.51</td>\n      <td>2138.0</td>\n      <td>179543.0</td>\n      <td>5,456,000</td>\n      <td>39.19</td>\n      <td>3290.74</td>\n      <td>1</td>\n    </tr>\n    <tr>\n      <th>66</th>\n      <td>Kyrgyzstan</td>\n      <td>Commonwealth of Independent States</td>\n      <td>5.744</td>\n      <td>8.538</td>\n      <td>0.893</td>\n      <td>64.401</td>\n      <td>0.935</td>\n      <td>0.119</td>\n      <td>0.908</td>\n      <td>0.69</td>\n      <td>1355.0</td>\n      <td>81034.0</td>\n      <td>6,564,000</td>\n      <td>20.64</td>\n      <td>1234.52</td>\n      <td>0</td>\n    </tr>\n    <tr>\n      <th>93</th>\n      <td>North Macedonia</td>\n      <td>Central and Eastern Europe</td>\n      <td>5.101</td>\n      <td>9.693</td>\n      <td>0.805</td>\n      <td>65.474</td>\n      <td>0.751</td>\n      <td>0.038</td>\n      <td>0.905</td>\n      <td>0.65</td>\n      <td>2503.0</td>\n      <td>83329.0</td>\n      <td>2,083,000</td>\n      <td>120.16</td>\n      <td>4000.43</td>\n      <td>0</td>\n    </tr>\n    <tr>\n      <th>92</th>\n      <td>Albania</td>\n      <td>Central and Eastern Europe</td>\n      <td>5.117</td>\n      <td>9.520</td>\n      <td>0.697</td>\n      <td>68.999</td>\n      <td>0.785</td>\n      <td>-0.030</td>\n      <td>0.901</td>\n      <td>0.64</td>\n      <td>1181.0</td>\n      <td>58316.0</td>\n      <td>2,850,000</td>\n      <td>41.44</td>\n      <td>2046.18</td>\n      <td>0</td>\n    </tr>\n    <tr>\n      <th>122</th>\n      <td>Lebanon</td>\n      <td>Middle East and North Africa</td>\n      <td>4.584</td>\n      <td>9.626</td>\n      <td>0.848</td>\n      <td>67.355</td>\n      <td>0.525</td>\n      <td>-0.073</td>\n      <td>0.898</td>\n      <td>0.75</td>\n      <td>1468.0</td>\n      <td>181503.0</td>\n      <td>6,825,000</td>\n      <td>21.51</td>\n      <td>2659.38</td>\n      <td>0</td>\n    </tr>\n    <tr>\n      <th>53</th>\n      <td>Thailand</td>\n      <td>Southeast Asia</td>\n      <td>5.985</td>\n      <td>9.805</td>\n      <td>0.888</td>\n      <td>67.401</td>\n      <td>0.884</td>\n      <td>0.287</td>\n      <td>0.895</td>\n      <td>0.64</td>\n      <td>63.0</td>\n      <td>7163.0</td>\n      <td>69,800,000</td>\n      <td>0.09</td>\n      <td>10.26</td>\n      <td>0</td>\n    </tr>\n    <tr>\n      <th>62</th>\n      <td>Peru</td>\n      <td>Latin America and Caribbean</td>\n      <td>5.840</td>\n      <td>9.458</td>\n      <td>0.832</td>\n      <td>68.250</td>\n      <td>0.822</td>\n      <td>-0.154</td>\n      <td>0.891</td>\n      <td>0.62</td>\n      <td>93070.0</td>\n      <td>1015137.0</td>\n      <td>32,972,000</td>\n      <td>282.27</td>\n      <td>3078.79</td>\n      <td>0</td>\n    </tr>\n    <tr>\n      <th>96</th>\n      <td>Turkmenistan</td>\n      <td>Commonwealth of Independent States</td>\n      <td>5.066</td>\n      <td>9.629</td>\n      <td>0.983</td>\n      <td>62.409</td>\n      <td>0.877</td>\n      <td>0.273</td>\n      <td>0.888</td>\n      <td>0.81</td>\n      <td>0.0</td>\n      <td>0.0</td>\n      <td>6,031,000</td>\n      <td>0.00</td>\n      <td>0.00</td>\n      <td>0</td>\n    </tr>\n    <tr>\n      <th>57</th>\n      <td>Portugal</td>\n      <td>Western Europe</td>\n      <td>5.929</td>\n      <td>10.421</td>\n      <td>0.879</td>\n      <td>72.600</td>\n      <td>0.892</td>\n      <td>-0.244</td>\n      <td>0.887</td>\n      <td>0.39</td>\n      <td>6906.0</td>\n      <td>413678.0</td>\n      <td>10,254,000</td>\n      <td>67.35</td>\n      <td>4034.31</td>\n      <td>1</td>\n    </tr>\n    <tr>\n      <th>36</th>\n      <td>Jamaica</td>\n      <td>Latin America and Caribbean</td>\n      <td>6.309</td>\n      <td>9.186</td>\n      <td>0.877</td>\n      <td>67.500</td>\n      <td>0.890</td>\n      <td>-0.137</td>\n      <td>0.884</td>\n      <td>0.56</td>\n      <td>302.0</td>\n      <td>12827.0</td>\n      <td>2,961,000</td>\n      <td>10.20</td>\n      <td>433.20</td>\n      <td>0</td>\n    </tr>\n    <tr>\n      <th>70</th>\n      <td>Paraguay</td>\n      <td>Latin America and Caribbean</td>\n      <td>5.653</td>\n      <td>9.448</td>\n      <td>0.893</td>\n      <td>65.900</td>\n      <td>0.876</td>\n      <td>0.028</td>\n      <td>0.882</td>\n      <td>0.72</td>\n      <td>2262.0</td>\n      <td>107932.0</td>\n      <td>7,133,000</td>\n      <td>31.71</td>\n      <td>1513.14</td>\n      <td>0</td>\n    </tr>\n  </tbody>\n</table>\n</div>"
     },
     "metadata": {},
     "execution_count": 163
    }
   ],
   "source": [
    "corruption = df.sort_values(by = 'perceptions_of_corruption', ascending = False).head(20)\n",
    "corruption"
   ]
  },
  {
   "cell_type": "code",
   "execution_count": 164,
   "metadata": {},
   "outputs": [
    {
     "output_type": "execute_result",
     "data": {
      "text/plain": [
       "Central and Eastern Europe            0.40\n",
       "Commonwealth of Independent States    0.20\n",
       "Latin America and Caribbean           0.15\n",
       "South Asia                            0.05\n",
       "Sub-Saharan Africa                    0.05\n",
       "Western Europe                        0.05\n",
       "Middle East and North Africa          0.05\n",
       "Southeast Asia                        0.05\n",
       "Name: region, dtype: float64"
      ]
     },
     "metadata": {},
     "execution_count": 164
    }
   ],
   "source": [
    "corruption.region.value_counts(normalize=True)"
   ]
  },
  {
   "cell_type": "code",
   "execution_count": 165,
   "metadata": {},
   "outputs": [
    {
     "output_type": "execute_result",
     "data": {
      "text/plain": [
       "[(0.0, 10.0), (0.0, 1.0)]"
      ]
     },
     "metadata": {},
     "execution_count": 165
    },
    {
     "output_type": "display_data",
     "data": {
      "text/plain": "<Figure size 432x288 with 1 Axes>",
      "image/svg+xml": "<?xml version=\"1.0\" encoding=\"utf-8\" standalone=\"no\"?>\r\n<!DOCTYPE svg PUBLIC \"-//W3C//DTD SVG 1.1//EN\"\r\n  \"http://www.w3.org/Graphics/SVG/1.1/DTD/svg11.dtd\">\r\n<svg height=\"265.995469pt\" version=\"1.1\" viewBox=\"0 0 392.421875 265.995469\" width=\"392.421875pt\" xmlns=\"http://www.w3.org/2000/svg\" xmlns:xlink=\"http://www.w3.org/1999/xlink\">\r\n <metadata>\r\n  <rdf:RDF xmlns:cc=\"http://creativecommons.org/ns#\" xmlns:dc=\"http://purl.org/dc/elements/1.1/\" xmlns:rdf=\"http://www.w3.org/1999/02/22-rdf-syntax-ns#\">\r\n   <cc:Work>\r\n    <dc:type rdf:resource=\"http://purl.org/dc/dcmitype/StillImage\"/>\r\n    <dc:date>2021-06-25T10:19:50.932291</dc:date>\r\n    <dc:format>image/svg+xml</dc:format>\r\n    <dc:creator>\r\n     <cc:Agent>\r\n      <dc:title>Matplotlib v3.4.2, https://matplotlib.org/</dc:title>\r\n     </cc:Agent>\r\n    </dc:creator>\r\n   </cc:Work>\r\n  </rdf:RDF>\r\n </metadata>\r\n <defs>\r\n  <style type=\"text/css\">*{stroke-linecap:butt;stroke-linejoin:round;}</style>\r\n </defs>\r\n <g id=\"figure_1\">\r\n  <g id=\"patch_1\">\r\n   <path d=\"M 0 265.995469 \r\nL 392.421875 265.995469 \r\nL 392.421875 0 \r\nL 0 0 \r\nz\r\n\" style=\"fill:none;\"/>\r\n  </g>\r\n  <g id=\"axes_1\">\r\n   <g id=\"patch_2\">\r\n    <path d=\"M 44.059375 228.439219 \r\nL 378.859375 228.439219 \r\nL 378.859375 10.999219 \r\nL 44.059375 10.999219 \r\nz\r\n\" style=\"fill:#ffffff;\"/>\r\n   </g>\r\n   <g id=\"PathCollection_1\">\r\n    <defs>\r\n     <path d=\"M 0 2.236068 \r\nC 0.593012 2.236068 1.161816 2.000462 1.581139 1.581139 \r\nC 2.000462 1.161816 2.236068 0.593012 2.236068 0 \r\nC 2.236068 -0.593012 2.000462 -1.161816 1.581139 -1.581139 \r\nC 1.161816 -2.000462 0.593012 -2.236068 0 -2.236068 \r\nC -0.593012 -2.236068 -1.161816 -2.000462 -1.581139 -1.581139 \r\nC -2.000462 -1.161816 -2.236068 -0.593012 -2.236068 0 \r\nC -2.236068 0.593012 -2.000462 1.161816 -1.581139 1.581139 \r\nC -1.161816 2.000462 -0.593012 2.236068 0 2.236068 \r\nz\r\n\" id=\"md8bcdc3229\" style=\"stroke:#1f77b4;\"/>\r\n    </defs>\r\n    <g clip-path=\"url(#p867d303e16)\">\r\n     <use style=\"fill:#1f77b4;stroke:#1f77b4;\" x=\"240.988735\" xlink:href=\"#md8bcdc3229\" y=\"24.263059\"/>\r\n     <use style=\"fill:#1f77b4;stroke:#1f77b4;\" x=\"249.626575\" xlink:href=\"#md8bcdc3229\" y=\"24.480499\"/>\r\n     <use style=\"fill:#1f77b4;stroke:#1f77b4;\" x=\"220.365055\" xlink:href=\"#md8bcdc3229\" y=\"25.785139\"/>\r\n     <use style=\"fill:#1f77b4;stroke:#1f77b4;\" x=\"238.678615\" xlink:href=\"#md8bcdc3229\" y=\"26.002579\"/>\r\n     <use style=\"fill:#1f77b4;stroke:#1f77b4;\" x=\"128.529415\" xlink:href=\"#md8bcdc3229\" y=\"27.524659\"/>\r\n     <use style=\"fill:#1f77b4;stroke:#1f77b4;\" x=\"207.274375\" xlink:href=\"#md8bcdc3229\" y=\"27.524659\"/>\r\n     <use style=\"fill:#1f77b4;stroke:#1f77b4;\" x=\"237.105055\" xlink:href=\"#md8bcdc3229\" y=\"28.829299\"/>\r\n     <use style=\"fill:#1f77b4;stroke:#1f77b4;\" x=\"257.393935\" xlink:href=\"#md8bcdc3229\" y=\"29.046739\"/>\r\n     <use style=\"fill:#1f77b4;stroke:#1f77b4;\" x=\"161.641135\" xlink:href=\"#md8bcdc3229\" y=\"29.481619\"/>\r\n     <use style=\"fill:#1f77b4;stroke:#1f77b4;\" x=\"256.021255\" xlink:href=\"#md8bcdc3229\" y=\"30.351379\"/>\r\n     <use style=\"fill:#1f77b4;stroke:#1f77b4;\" x=\"236.368495\" xlink:href=\"#md8bcdc3229\" y=\"31.003699\"/>\r\n     <use style=\"fill:#1f77b4;stroke:#1f77b4;\" x=\"214.840855\" xlink:href=\"#md8bcdc3229\" y=\"31.656019\"/>\r\n     <use style=\"fill:#1f77b4;stroke:#1f77b4;\" x=\"215.376535\" xlink:href=\"#md8bcdc3229\" y=\"32.525779\"/>\r\n     <use style=\"fill:#1f77b4;stroke:#1f77b4;\" x=\"197.531695\" xlink:href=\"#md8bcdc3229\" y=\"33.178099\"/>\r\n     <use style=\"fill:#1f77b4;stroke:#1f77b4;\" x=\"244.437175\" xlink:href=\"#md8bcdc3229\" y=\"33.830419\"/>\r\n     <use style=\"fill:#1f77b4;stroke:#1f77b4;\" x=\"239.582575\" xlink:href=\"#md8bcdc3229\" y=\"34.700179\"/>\r\n     <use style=\"fill:#1f77b4;stroke:#1f77b4;\" x=\"213.669055\" xlink:href=\"#md8bcdc3229\" y=\"35.352499\"/>\r\n     <use style=\"fill:#1f77b4;stroke:#1f77b4;\" x=\"242.562295\" xlink:href=\"#md8bcdc3229\" y=\"35.569939\"/>\r\n     <use style=\"fill:#1f77b4;stroke:#1f77b4;\" x=\"255.284695\" xlink:href=\"#md8bcdc3229\" y=\"36.222259\"/>\r\n     <use style=\"fill:#1f77b4;stroke:#1f77b4;\" x=\"233.321815\" xlink:href=\"#md8bcdc3229\" y=\"36.657139\"/>\r\n    </g>\r\n   </g>\r\n   <g id=\"matplotlib.axis_1\">\r\n    <g id=\"xtick_1\">\r\n     <g id=\"line2d_1\">\r\n      <defs>\r\n       <path d=\"M 0 0 \r\nL 0 3.5 \r\n\" id=\"mdb75c7355d\" style=\"stroke:#000000;stroke-width:0.8;\"/>\r\n      </defs>\r\n      <g>\r\n       <use style=\"stroke:#000000;stroke-width:0.8;\" x=\"44.059375\" xlink:href=\"#mdb75c7355d\" y=\"228.439219\"/>\r\n      </g>\r\n     </g>\r\n     <g id=\"text_1\">\r\n      <!-- 0 -->\r\n      <g transform=\"translate(40.878125 243.037656)scale(0.1 -0.1)\">\r\n       <defs>\r\n        <path d=\"M 2034 4250 \r\nQ 1547 4250 1301 3770 \r\nQ 1056 3291 1056 2328 \r\nQ 1056 1369 1301 889 \r\nQ 1547 409 2034 409 \r\nQ 2525 409 2770 889 \r\nQ 3016 1369 3016 2328 \r\nQ 3016 3291 2770 3770 \r\nQ 2525 4250 2034 4250 \r\nz\r\nM 2034 4750 \r\nQ 2819 4750 3233 4129 \r\nQ 3647 3509 3647 2328 \r\nQ 3647 1150 3233 529 \r\nQ 2819 -91 2034 -91 \r\nQ 1250 -91 836 529 \r\nQ 422 1150 422 2328 \r\nQ 422 3509 836 4129 \r\nQ 1250 4750 2034 4750 \r\nz\r\n\" id=\"DejaVuSans-30\" transform=\"scale(0.015625)\"/>\r\n       </defs>\r\n       <use xlink:href=\"#DejaVuSans-30\"/>\r\n      </g>\r\n     </g>\r\n    </g>\r\n    <g id=\"xtick_2\">\r\n     <g id=\"line2d_2\">\r\n      <g>\r\n       <use style=\"stroke:#000000;stroke-width:0.8;\" x=\"111.019375\" xlink:href=\"#mdb75c7355d\" y=\"228.439219\"/>\r\n      </g>\r\n     </g>\r\n     <g id=\"text_2\">\r\n      <!-- 2 -->\r\n      <g transform=\"translate(107.838125 243.037656)scale(0.1 -0.1)\">\r\n       <defs>\r\n        <path d=\"M 1228 531 \r\nL 3431 531 \r\nL 3431 0 \r\nL 469 0 \r\nL 469 531 \r\nQ 828 903 1448 1529 \r\nQ 2069 2156 2228 2338 \r\nQ 2531 2678 2651 2914 \r\nQ 2772 3150 2772 3378 \r\nQ 2772 3750 2511 3984 \r\nQ 2250 4219 1831 4219 \r\nQ 1534 4219 1204 4116 \r\nQ 875 4013 500 3803 \r\nL 500 4441 \r\nQ 881 4594 1212 4672 \r\nQ 1544 4750 1819 4750 \r\nQ 2544 4750 2975 4387 \r\nQ 3406 4025 3406 3419 \r\nQ 3406 3131 3298 2873 \r\nQ 3191 2616 2906 2266 \r\nQ 2828 2175 2409 1742 \r\nQ 1991 1309 1228 531 \r\nz\r\n\" id=\"DejaVuSans-32\" transform=\"scale(0.015625)\"/>\r\n       </defs>\r\n       <use xlink:href=\"#DejaVuSans-32\"/>\r\n      </g>\r\n     </g>\r\n    </g>\r\n    <g id=\"xtick_3\">\r\n     <g id=\"line2d_3\">\r\n      <g>\r\n       <use style=\"stroke:#000000;stroke-width:0.8;\" x=\"177.979375\" xlink:href=\"#mdb75c7355d\" y=\"228.439219\"/>\r\n      </g>\r\n     </g>\r\n     <g id=\"text_3\">\r\n      <!-- 4 -->\r\n      <g transform=\"translate(174.798125 243.037656)scale(0.1 -0.1)\">\r\n       <defs>\r\n        <path d=\"M 2419 4116 \r\nL 825 1625 \r\nL 2419 1625 \r\nL 2419 4116 \r\nz\r\nM 2253 4666 \r\nL 3047 4666 \r\nL 3047 1625 \r\nL 3713 1625 \r\nL 3713 1100 \r\nL 3047 1100 \r\nL 3047 0 \r\nL 2419 0 \r\nL 2419 1100 \r\nL 313 1100 \r\nL 313 1709 \r\nL 2253 4666 \r\nz\r\n\" id=\"DejaVuSans-34\" transform=\"scale(0.015625)\"/>\r\n       </defs>\r\n       <use xlink:href=\"#DejaVuSans-34\"/>\r\n      </g>\r\n     </g>\r\n    </g>\r\n    <g id=\"xtick_4\">\r\n     <g id=\"line2d_4\">\r\n      <g>\r\n       <use style=\"stroke:#000000;stroke-width:0.8;\" x=\"244.939375\" xlink:href=\"#mdb75c7355d\" y=\"228.439219\"/>\r\n      </g>\r\n     </g>\r\n     <g id=\"text_4\">\r\n      <!-- 6 -->\r\n      <g transform=\"translate(241.758125 243.037656)scale(0.1 -0.1)\">\r\n       <defs>\r\n        <path d=\"M 2113 2584 \r\nQ 1688 2584 1439 2293 \r\nQ 1191 2003 1191 1497 \r\nQ 1191 994 1439 701 \r\nQ 1688 409 2113 409 \r\nQ 2538 409 2786 701 \r\nQ 3034 994 3034 1497 \r\nQ 3034 2003 2786 2293 \r\nQ 2538 2584 2113 2584 \r\nz\r\nM 3366 4563 \r\nL 3366 3988 \r\nQ 3128 4100 2886 4159 \r\nQ 2644 4219 2406 4219 \r\nQ 1781 4219 1451 3797 \r\nQ 1122 3375 1075 2522 \r\nQ 1259 2794 1537 2939 \r\nQ 1816 3084 2150 3084 \r\nQ 2853 3084 3261 2657 \r\nQ 3669 2231 3669 1497 \r\nQ 3669 778 3244 343 \r\nQ 2819 -91 2113 -91 \r\nQ 1303 -91 875 529 \r\nQ 447 1150 447 2328 \r\nQ 447 3434 972 4092 \r\nQ 1497 4750 2381 4750 \r\nQ 2619 4750 2861 4703 \r\nQ 3103 4656 3366 4563 \r\nz\r\n\" id=\"DejaVuSans-36\" transform=\"scale(0.015625)\"/>\r\n       </defs>\r\n       <use xlink:href=\"#DejaVuSans-36\"/>\r\n      </g>\r\n     </g>\r\n    </g>\r\n    <g id=\"xtick_5\">\r\n     <g id=\"line2d_5\">\r\n      <g>\r\n       <use style=\"stroke:#000000;stroke-width:0.8;\" x=\"311.899375\" xlink:href=\"#mdb75c7355d\" y=\"228.439219\"/>\r\n      </g>\r\n     </g>\r\n     <g id=\"text_5\">\r\n      <!-- 8 -->\r\n      <g transform=\"translate(308.718125 243.037656)scale(0.1 -0.1)\">\r\n       <defs>\r\n        <path d=\"M 2034 2216 \r\nQ 1584 2216 1326 1975 \r\nQ 1069 1734 1069 1313 \r\nQ 1069 891 1326 650 \r\nQ 1584 409 2034 409 \r\nQ 2484 409 2743 651 \r\nQ 3003 894 3003 1313 \r\nQ 3003 1734 2745 1975 \r\nQ 2488 2216 2034 2216 \r\nz\r\nM 1403 2484 \r\nQ 997 2584 770 2862 \r\nQ 544 3141 544 3541 \r\nQ 544 4100 942 4425 \r\nQ 1341 4750 2034 4750 \r\nQ 2731 4750 3128 4425 \r\nQ 3525 4100 3525 3541 \r\nQ 3525 3141 3298 2862 \r\nQ 3072 2584 2669 2484 \r\nQ 3125 2378 3379 2068 \r\nQ 3634 1759 3634 1313 \r\nQ 3634 634 3220 271 \r\nQ 2806 -91 2034 -91 \r\nQ 1263 -91 848 271 \r\nQ 434 634 434 1313 \r\nQ 434 1759 690 2068 \r\nQ 947 2378 1403 2484 \r\nz\r\nM 1172 3481 \r\nQ 1172 3119 1398 2916 \r\nQ 1625 2713 2034 2713 \r\nQ 2441 2713 2670 2916 \r\nQ 2900 3119 2900 3481 \r\nQ 2900 3844 2670 4047 \r\nQ 2441 4250 2034 4250 \r\nQ 1625 4250 1398 4047 \r\nQ 1172 3844 1172 3481 \r\nz\r\n\" id=\"DejaVuSans-38\" transform=\"scale(0.015625)\"/>\r\n       </defs>\r\n       <use xlink:href=\"#DejaVuSans-38\"/>\r\n      </g>\r\n     </g>\r\n    </g>\r\n    <g id=\"xtick_6\">\r\n     <g id=\"line2d_6\">\r\n      <g>\r\n       <use style=\"stroke:#000000;stroke-width:0.8;\" x=\"378.859375\" xlink:href=\"#mdb75c7355d\" y=\"228.439219\"/>\r\n      </g>\r\n     </g>\r\n     <g id=\"text_6\">\r\n      <!-- 10 -->\r\n      <g transform=\"translate(372.496875 243.037656)scale(0.1 -0.1)\">\r\n       <defs>\r\n        <path d=\"M 794 531 \r\nL 1825 531 \r\nL 1825 4091 \r\nL 703 3866 \r\nL 703 4441 \r\nL 1819 4666 \r\nL 2450 4666 \r\nL 2450 531 \r\nL 3481 531 \r\nL 3481 0 \r\nL 794 0 \r\nL 794 531 \r\nz\r\n\" id=\"DejaVuSans-31\" transform=\"scale(0.015625)\"/>\r\n       </defs>\r\n       <use xlink:href=\"#DejaVuSans-31\"/>\r\n       <use x=\"63.623047\" xlink:href=\"#DejaVuSans-30\"/>\r\n      </g>\r\n     </g>\r\n    </g>\r\n    <g id=\"text_7\">\r\n     <!-- score -->\r\n     <g transform=\"translate(198.026563 256.715781)scale(0.1 -0.1)\">\r\n      <defs>\r\n       <path d=\"M 2834 3397 \r\nL 2834 2853 \r\nQ 2591 2978 2328 3040 \r\nQ 2066 3103 1784 3103 \r\nQ 1356 3103 1142 2972 \r\nQ 928 2841 928 2578 \r\nQ 928 2378 1081 2264 \r\nQ 1234 2150 1697 2047 \r\nL 1894 2003 \r\nQ 2506 1872 2764 1633 \r\nQ 3022 1394 3022 966 \r\nQ 3022 478 2636 193 \r\nQ 2250 -91 1575 -91 \r\nQ 1294 -91 989 -36 \r\nQ 684 19 347 128 \r\nL 347 722 \r\nQ 666 556 975 473 \r\nQ 1284 391 1588 391 \r\nQ 1994 391 2212 530 \r\nQ 2431 669 2431 922 \r\nQ 2431 1156 2273 1281 \r\nQ 2116 1406 1581 1522 \r\nL 1381 1569 \r\nQ 847 1681 609 1914 \r\nQ 372 2147 372 2553 \r\nQ 372 3047 722 3315 \r\nQ 1072 3584 1716 3584 \r\nQ 2034 3584 2315 3537 \r\nQ 2597 3491 2834 3397 \r\nz\r\n\" id=\"DejaVuSans-73\" transform=\"scale(0.015625)\"/>\r\n       <path d=\"M 3122 3366 \r\nL 3122 2828 \r\nQ 2878 2963 2633 3030 \r\nQ 2388 3097 2138 3097 \r\nQ 1578 3097 1268 2742 \r\nQ 959 2388 959 1747 \r\nQ 959 1106 1268 751 \r\nQ 1578 397 2138 397 \r\nQ 2388 397 2633 464 \r\nQ 2878 531 3122 666 \r\nL 3122 134 \r\nQ 2881 22 2623 -34 \r\nQ 2366 -91 2075 -91 \r\nQ 1284 -91 818 406 \r\nQ 353 903 353 1747 \r\nQ 353 2603 823 3093 \r\nQ 1294 3584 2113 3584 \r\nQ 2378 3584 2631 3529 \r\nQ 2884 3475 3122 3366 \r\nz\r\n\" id=\"DejaVuSans-63\" transform=\"scale(0.015625)\"/>\r\n       <path d=\"M 1959 3097 \r\nQ 1497 3097 1228 2736 \r\nQ 959 2375 959 1747 \r\nQ 959 1119 1226 758 \r\nQ 1494 397 1959 397 \r\nQ 2419 397 2687 759 \r\nQ 2956 1122 2956 1747 \r\nQ 2956 2369 2687 2733 \r\nQ 2419 3097 1959 3097 \r\nz\r\nM 1959 3584 \r\nQ 2709 3584 3137 3096 \r\nQ 3566 2609 3566 1747 \r\nQ 3566 888 3137 398 \r\nQ 2709 -91 1959 -91 \r\nQ 1206 -91 779 398 \r\nQ 353 888 353 1747 \r\nQ 353 2609 779 3096 \r\nQ 1206 3584 1959 3584 \r\nz\r\n\" id=\"DejaVuSans-6f\" transform=\"scale(0.015625)\"/>\r\n       <path d=\"M 2631 2963 \r\nQ 2534 3019 2420 3045 \r\nQ 2306 3072 2169 3072 \r\nQ 1681 3072 1420 2755 \r\nQ 1159 2438 1159 1844 \r\nL 1159 0 \r\nL 581 0 \r\nL 581 3500 \r\nL 1159 3500 \r\nL 1159 2956 \r\nQ 1341 3275 1631 3429 \r\nQ 1922 3584 2338 3584 \r\nQ 2397 3584 2469 3576 \r\nQ 2541 3569 2628 3553 \r\nL 2631 2963 \r\nz\r\n\" id=\"DejaVuSans-72\" transform=\"scale(0.015625)\"/>\r\n       <path d=\"M 3597 1894 \r\nL 3597 1613 \r\nL 953 1613 \r\nQ 991 1019 1311 708 \r\nQ 1631 397 2203 397 \r\nQ 2534 397 2845 478 \r\nQ 3156 559 3463 722 \r\nL 3463 178 \r\nQ 3153 47 2828 -22 \r\nQ 2503 -91 2169 -91 \r\nQ 1331 -91 842 396 \r\nQ 353 884 353 1716 \r\nQ 353 2575 817 3079 \r\nQ 1281 3584 2069 3584 \r\nQ 2775 3584 3186 3129 \r\nQ 3597 2675 3597 1894 \r\nz\r\nM 3022 2063 \r\nQ 3016 2534 2758 2815 \r\nQ 2500 3097 2075 3097 \r\nQ 1594 3097 1305 2825 \r\nQ 1016 2553 972 2059 \r\nL 3022 2063 \r\nz\r\n\" id=\"DejaVuSans-65\" transform=\"scale(0.015625)\"/>\r\n      </defs>\r\n      <use xlink:href=\"#DejaVuSans-73\"/>\r\n      <use x=\"52.099609\" xlink:href=\"#DejaVuSans-63\"/>\r\n      <use x=\"107.080078\" xlink:href=\"#DejaVuSans-6f\"/>\r\n      <use x=\"168.261719\" xlink:href=\"#DejaVuSans-72\"/>\r\n      <use x=\"207.125\" xlink:href=\"#DejaVuSans-65\"/>\r\n     </g>\r\n    </g>\r\n   </g>\r\n   <g id=\"matplotlib.axis_2\">\r\n    <g id=\"ytick_1\">\r\n     <g id=\"line2d_7\">\r\n      <defs>\r\n       <path d=\"M 0 0 \r\nL -3.5 0 \r\n\" id=\"m896dbedcb3\" style=\"stroke:#000000;stroke-width:0.8;\"/>\r\n      </defs>\r\n      <g>\r\n       <use style=\"stroke:#000000;stroke-width:0.8;\" x=\"44.059375\" xlink:href=\"#m896dbedcb3\" y=\"228.439219\"/>\r\n      </g>\r\n     </g>\r\n     <g id=\"text_8\">\r\n      <!-- 0.0 -->\r\n      <g transform=\"translate(21.15625 232.238437)scale(0.1 -0.1)\">\r\n       <defs>\r\n        <path d=\"M 684 794 \r\nL 1344 794 \r\nL 1344 0 \r\nL 684 0 \r\nL 684 794 \r\nz\r\n\" id=\"DejaVuSans-2e\" transform=\"scale(0.015625)\"/>\r\n       </defs>\r\n       <use xlink:href=\"#DejaVuSans-30\"/>\r\n       <use x=\"63.623047\" xlink:href=\"#DejaVuSans-2e\"/>\r\n       <use x=\"95.410156\" xlink:href=\"#DejaVuSans-30\"/>\r\n      </g>\r\n     </g>\r\n    </g>\r\n    <g id=\"ytick_2\">\r\n     <g id=\"line2d_8\">\r\n      <g>\r\n       <use style=\"stroke:#000000;stroke-width:0.8;\" x=\"44.059375\" xlink:href=\"#m896dbedcb3\" y=\"184.951219\"/>\r\n      </g>\r\n     </g>\r\n     <g id=\"text_9\">\r\n      <!-- 0.2 -->\r\n      <g transform=\"translate(21.15625 188.750437)scale(0.1 -0.1)\">\r\n       <use xlink:href=\"#DejaVuSans-30\"/>\r\n       <use x=\"63.623047\" xlink:href=\"#DejaVuSans-2e\"/>\r\n       <use x=\"95.410156\" xlink:href=\"#DejaVuSans-32\"/>\r\n      </g>\r\n     </g>\r\n    </g>\r\n    <g id=\"ytick_3\">\r\n     <g id=\"line2d_9\">\r\n      <g>\r\n       <use style=\"stroke:#000000;stroke-width:0.8;\" x=\"44.059375\" xlink:href=\"#m896dbedcb3\" y=\"141.463219\"/>\r\n      </g>\r\n     </g>\r\n     <g id=\"text_10\">\r\n      <!-- 0.4 -->\r\n      <g transform=\"translate(21.15625 145.262437)scale(0.1 -0.1)\">\r\n       <use xlink:href=\"#DejaVuSans-30\"/>\r\n       <use x=\"63.623047\" xlink:href=\"#DejaVuSans-2e\"/>\r\n       <use x=\"95.410156\" xlink:href=\"#DejaVuSans-34\"/>\r\n      </g>\r\n     </g>\r\n    </g>\r\n    <g id=\"ytick_4\">\r\n     <g id=\"line2d_10\">\r\n      <g>\r\n       <use style=\"stroke:#000000;stroke-width:0.8;\" x=\"44.059375\" xlink:href=\"#m896dbedcb3\" y=\"97.975219\"/>\r\n      </g>\r\n     </g>\r\n     <g id=\"text_11\">\r\n      <!-- 0.6 -->\r\n      <g transform=\"translate(21.15625 101.774437)scale(0.1 -0.1)\">\r\n       <use xlink:href=\"#DejaVuSans-30\"/>\r\n       <use x=\"63.623047\" xlink:href=\"#DejaVuSans-2e\"/>\r\n       <use x=\"95.410156\" xlink:href=\"#DejaVuSans-36\"/>\r\n      </g>\r\n     </g>\r\n    </g>\r\n    <g id=\"ytick_5\">\r\n     <g id=\"line2d_11\">\r\n      <g>\r\n       <use style=\"stroke:#000000;stroke-width:0.8;\" x=\"44.059375\" xlink:href=\"#m896dbedcb3\" y=\"54.487219\"/>\r\n      </g>\r\n     </g>\r\n     <g id=\"text_12\">\r\n      <!-- 0.8 -->\r\n      <g transform=\"translate(21.15625 58.286437)scale(0.1 -0.1)\">\r\n       <use xlink:href=\"#DejaVuSans-30\"/>\r\n       <use x=\"63.623047\" xlink:href=\"#DejaVuSans-2e\"/>\r\n       <use x=\"95.410156\" xlink:href=\"#DejaVuSans-38\"/>\r\n      </g>\r\n     </g>\r\n    </g>\r\n    <g id=\"ytick_6\">\r\n     <g id=\"line2d_12\">\r\n      <g>\r\n       <use style=\"stroke:#000000;stroke-width:0.8;\" x=\"44.059375\" xlink:href=\"#m896dbedcb3\" y=\"10.999219\"/>\r\n      </g>\r\n     </g>\r\n     <g id=\"text_13\">\r\n      <!-- 1.0 -->\r\n      <g transform=\"translate(21.15625 14.798437)scale(0.1 -0.1)\">\r\n       <use xlink:href=\"#DejaVuSans-31\"/>\r\n       <use x=\"63.623047\" xlink:href=\"#DejaVuSans-2e\"/>\r\n       <use x=\"95.410156\" xlink:href=\"#DejaVuSans-30\"/>\r\n      </g>\r\n     </g>\r\n    </g>\r\n    <g id=\"text_14\">\r\n     <!-- perceptions_of_corruption -->\r\n     <g transform=\"translate(14.798438 184.666875)rotate(-90)scale(0.1 -0.1)\">\r\n      <defs>\r\n       <path d=\"M 1159 525 \r\nL 1159 -1331 \r\nL 581 -1331 \r\nL 581 3500 \r\nL 1159 3500 \r\nL 1159 2969 \r\nQ 1341 3281 1617 3432 \r\nQ 1894 3584 2278 3584 \r\nQ 2916 3584 3314 3078 \r\nQ 3713 2572 3713 1747 \r\nQ 3713 922 3314 415 \r\nQ 2916 -91 2278 -91 \r\nQ 1894 -91 1617 61 \r\nQ 1341 213 1159 525 \r\nz\r\nM 3116 1747 \r\nQ 3116 2381 2855 2742 \r\nQ 2594 3103 2138 3103 \r\nQ 1681 3103 1420 2742 \r\nQ 1159 2381 1159 1747 \r\nQ 1159 1113 1420 752 \r\nQ 1681 391 2138 391 \r\nQ 2594 391 2855 752 \r\nQ 3116 1113 3116 1747 \r\nz\r\n\" id=\"DejaVuSans-70\" transform=\"scale(0.015625)\"/>\r\n       <path d=\"M 1172 4494 \r\nL 1172 3500 \r\nL 2356 3500 \r\nL 2356 3053 \r\nL 1172 3053 \r\nL 1172 1153 \r\nQ 1172 725 1289 603 \r\nQ 1406 481 1766 481 \r\nL 2356 481 \r\nL 2356 0 \r\nL 1766 0 \r\nQ 1100 0 847 248 \r\nQ 594 497 594 1153 \r\nL 594 3053 \r\nL 172 3053 \r\nL 172 3500 \r\nL 594 3500 \r\nL 594 4494 \r\nL 1172 4494 \r\nz\r\n\" id=\"DejaVuSans-74\" transform=\"scale(0.015625)\"/>\r\n       <path d=\"M 603 3500 \r\nL 1178 3500 \r\nL 1178 0 \r\nL 603 0 \r\nL 603 3500 \r\nz\r\nM 603 4863 \r\nL 1178 4863 \r\nL 1178 4134 \r\nL 603 4134 \r\nL 603 4863 \r\nz\r\n\" id=\"DejaVuSans-69\" transform=\"scale(0.015625)\"/>\r\n       <path d=\"M 3513 2113 \r\nL 3513 0 \r\nL 2938 0 \r\nL 2938 2094 \r\nQ 2938 2591 2744 2837 \r\nQ 2550 3084 2163 3084 \r\nQ 1697 3084 1428 2787 \r\nQ 1159 2491 1159 1978 \r\nL 1159 0 \r\nL 581 0 \r\nL 581 3500 \r\nL 1159 3500 \r\nL 1159 2956 \r\nQ 1366 3272 1645 3428 \r\nQ 1925 3584 2291 3584 \r\nQ 2894 3584 3203 3211 \r\nQ 3513 2838 3513 2113 \r\nz\r\n\" id=\"DejaVuSans-6e\" transform=\"scale(0.015625)\"/>\r\n       <path d=\"M 3263 -1063 \r\nL 3263 -1509 \r\nL -63 -1509 \r\nL -63 -1063 \r\nL 3263 -1063 \r\nz\r\n\" id=\"DejaVuSans-5f\" transform=\"scale(0.015625)\"/>\r\n       <path d=\"M 2375 4863 \r\nL 2375 4384 \r\nL 1825 4384 \r\nQ 1516 4384 1395 4259 \r\nQ 1275 4134 1275 3809 \r\nL 1275 3500 \r\nL 2222 3500 \r\nL 2222 3053 \r\nL 1275 3053 \r\nL 1275 0 \r\nL 697 0 \r\nL 697 3053 \r\nL 147 3053 \r\nL 147 3500 \r\nL 697 3500 \r\nL 697 3744 \r\nQ 697 4328 969 4595 \r\nQ 1241 4863 1831 4863 \r\nL 2375 4863 \r\nz\r\n\" id=\"DejaVuSans-66\" transform=\"scale(0.015625)\"/>\r\n       <path d=\"M 544 1381 \r\nL 544 3500 \r\nL 1119 3500 \r\nL 1119 1403 \r\nQ 1119 906 1312 657 \r\nQ 1506 409 1894 409 \r\nQ 2359 409 2629 706 \r\nQ 2900 1003 2900 1516 \r\nL 2900 3500 \r\nL 3475 3500 \r\nL 3475 0 \r\nL 2900 0 \r\nL 2900 538 \r\nQ 2691 219 2414 64 \r\nQ 2138 -91 1772 -91 \r\nQ 1169 -91 856 284 \r\nQ 544 659 544 1381 \r\nz\r\nM 1991 3584 \r\nL 1991 3584 \r\nz\r\n\" id=\"DejaVuSans-75\" transform=\"scale(0.015625)\"/>\r\n      </defs>\r\n      <use xlink:href=\"#DejaVuSans-70\"/>\r\n      <use x=\"63.476562\" xlink:href=\"#DejaVuSans-65\"/>\r\n      <use x=\"125\" xlink:href=\"#DejaVuSans-72\"/>\r\n      <use x=\"163.863281\" xlink:href=\"#DejaVuSans-63\"/>\r\n      <use x=\"218.84375\" xlink:href=\"#DejaVuSans-65\"/>\r\n      <use x=\"280.367188\" xlink:href=\"#DejaVuSans-70\"/>\r\n      <use x=\"343.84375\" xlink:href=\"#DejaVuSans-74\"/>\r\n      <use x=\"383.052734\" xlink:href=\"#DejaVuSans-69\"/>\r\n      <use x=\"410.835938\" xlink:href=\"#DejaVuSans-6f\"/>\r\n      <use x=\"472.017578\" xlink:href=\"#DejaVuSans-6e\"/>\r\n      <use x=\"535.396484\" xlink:href=\"#DejaVuSans-73\"/>\r\n      <use x=\"587.496094\" xlink:href=\"#DejaVuSans-5f\"/>\r\n      <use x=\"637.496094\" xlink:href=\"#DejaVuSans-6f\"/>\r\n      <use x=\"698.677734\" xlink:href=\"#DejaVuSans-66\"/>\r\n      <use x=\"733.882812\" xlink:href=\"#DejaVuSans-5f\"/>\r\n      <use x=\"783.882812\" xlink:href=\"#DejaVuSans-63\"/>\r\n      <use x=\"838.863281\" xlink:href=\"#DejaVuSans-6f\"/>\r\n      <use x=\"900.044922\" xlink:href=\"#DejaVuSans-72\"/>\r\n      <use x=\"939.408203\" xlink:href=\"#DejaVuSans-72\"/>\r\n      <use x=\"980.521484\" xlink:href=\"#DejaVuSans-75\"/>\r\n      <use x=\"1043.900391\" xlink:href=\"#DejaVuSans-70\"/>\r\n      <use x=\"1107.376953\" xlink:href=\"#DejaVuSans-74\"/>\r\n      <use x=\"1146.585938\" xlink:href=\"#DejaVuSans-69\"/>\r\n      <use x=\"1174.369141\" xlink:href=\"#DejaVuSans-6f\"/>\r\n      <use x=\"1235.550781\" xlink:href=\"#DejaVuSans-6e\"/>\r\n     </g>\r\n    </g>\r\n   </g>\r\n   <g id=\"patch_3\">\r\n    <path d=\"M 44.059375 228.439219 \r\nL 44.059375 10.999219 \r\n\" style=\"fill:none;stroke:#000000;stroke-linecap:square;stroke-linejoin:miter;stroke-width:0.8;\"/>\r\n   </g>\r\n   <g id=\"patch_4\">\r\n    <path d=\"M 378.859375 228.439219 \r\nL 378.859375 10.999219 \r\n\" style=\"fill:none;stroke:#000000;stroke-linecap:square;stroke-linejoin:miter;stroke-width:0.8;\"/>\r\n   </g>\r\n   <g id=\"patch_5\">\r\n    <path d=\"M 44.059375 228.439219 \r\nL 378.859375 228.439219 \r\n\" style=\"fill:none;stroke:#000000;stroke-linecap:square;stroke-linejoin:miter;stroke-width:0.8;\"/>\r\n   </g>\r\n   <g id=\"patch_6\">\r\n    <path d=\"M 44.059375 10.999219 \r\nL 378.859375 10.999219 \r\n\" style=\"fill:none;stroke:#000000;stroke-linecap:square;stroke-linejoin:miter;stroke-width:0.8;\"/>\r\n   </g>\r\n  </g>\r\n </g>\r\n <defs>\r\n  <clipPath id=\"p867d303e16\">\r\n   <rect height=\"217.44\" width=\"334.8\" x=\"44.059375\" y=\"10.999219\"/>\r\n  </clipPath>\r\n </defs>\r\n</svg>\r\n",
      "image/png": "[encoded data removed]"
     },
     "metadata": {
      "needs_background": "light"
     }
    }
   ],
   "source": [
    "corruption.plot(x = 'score', y = 'perceptions_of_corruption', kind = 'scatter').set(xlim =(0, 10), ylim =(0, 1))"
   ]
  },
  {
   "cell_type": "markdown",
   "id": "ea6b6560",
   "metadata": {},
   "source": [
    "##### What about happiness and life expectancy?"
   ]
  },
  {
   "cell_type": "code",
   "execution_count": 166,
   "id": "8a8953ca",
   "metadata": {},
   "outputs": [
    {
     "output_type": "execute_result",
     "data": {
      "text/plain": [
       "         country              region  score  life_expectancy\n",
       "0        Finland      Western Europe  7.842           72.000\n",
       "1        Denmark      Western Europe  7.620           72.700\n",
       "2    Switzerland      Western Europe  7.571           74.400\n",
       "3        Iceland      Western Europe  7.554           73.000\n",
       "4    Netherlands      Western Europe  7.464           72.400\n",
       "..           ...                 ...    ...              ...\n",
       "144      Lesotho  Sub-Saharan Africa  3.512           48.700\n",
       "145     Botswana  Sub-Saharan Africa  3.467           59.269\n",
       "146       Rwanda  Sub-Saharan Africa  3.415           61.400\n",
       "147     Zimbabwe  Sub-Saharan Africa  3.145           56.201\n",
       "148  Afghanistan          South Asia  2.523           52.493\n",
       "\n",
       "[149 rows x 4 columns]"
      ],
      "text/html": "<div>\n<style scoped>\n    .dataframe tbody tr th:only-of-type {\n        vertical-align: middle;\n    }\n\n    .dataframe tbody tr th {\n        vertical-align: top;\n    }\n\n    .dataframe thead th {\n        text-align: right;\n    }\n</style>\n<table border=\"1\" class=\"dataframe\">\n  <thead>\n    <tr style=\"text-align: right;\">\n      <th></th>\n      <th>country</th>\n      <th>region</th>\n      <th>score</th>\n      <th>life_expectancy</th>\n    </tr>\n  </thead>\n  <tbody>\n    <tr>\n      <th>0</th>\n      <td>Finland</td>\n      <td>Western Europe</td>\n      <td>7.842</td>\n      <td>72.000</td>\n    </tr>\n    <tr>\n      <th>1</th>\n      <td>Denmark</td>\n      <td>Western Europe</td>\n      <td>7.620</td>\n      <td>72.700</td>\n    </tr>\n    <tr>\n      <th>2</th>\n      <td>Switzerland</td>\n      <td>Western Europe</td>\n      <td>7.571</td>\n      <td>74.400</td>\n    </tr>\n    <tr>\n      <th>3</th>\n      <td>Iceland</td>\n      <td>Western Europe</td>\n      <td>7.554</td>\n      <td>73.000</td>\n    </tr>\n    <tr>\n      <th>4</th>\n      <td>Netherlands</td>\n      <td>Western Europe</td>\n      <td>7.464</td>\n      <td>72.400</td>\n    </tr>\n    <tr>\n      <th>...</th>\n      <td>...</td>\n      <td>...</td>\n      <td>...</td>\n      <td>...</td>\n    </tr>\n    <tr>\n      <th>144</th>\n      <td>Lesotho</td>\n      <td>Sub-Saharan Africa</td>\n      <td>3.512</td>\n      <td>48.700</td>\n    </tr>\n    <tr>\n      <th>145</th>\n      <td>Botswana</td>\n      <td>Sub-Saharan Africa</td>\n      <td>3.467</td>\n      <td>59.269</td>\n    </tr>\n    <tr>\n      <th>146</th>\n      <td>Rwanda</td>\n      <td>Sub-Saharan Africa</td>\n      <td>3.415</td>\n      <td>61.400</td>\n    </tr>\n    <tr>\n      <th>147</th>\n      <td>Zimbabwe</td>\n      <td>Sub-Saharan Africa</td>\n      <td>3.145</td>\n      <td>56.201</td>\n    </tr>\n    <tr>\n      <th>148</th>\n      <td>Afghanistan</td>\n      <td>South Asia</td>\n      <td>2.523</td>\n      <td>52.493</td>\n    </tr>\n  </tbody>\n</table>\n<p>149 rows × 4 columns</p>\n</div>"
     },
     "metadata": {},
     "execution_count": 166
    }
   ],
   "source": [
    "happy_life = df[['country', 'region', 'score', 'life_expectancy']]\n",
    "happy_life"
   ]
  },
  {
   "cell_type": "code",
   "execution_count": 167,
   "id": "bf7db0e1",
   "metadata": {},
   "outputs": [
    {
     "output_type": "execute_result",
     "data": {
      "text/plain": [
       "            score  life_expectancy\n",
       "count  149.000000       149.000000\n",
       "mean     5.532839        64.992799\n",
       "std      1.073924         6.762043\n",
       "min      2.523000        48.478000\n",
       "25%      4.852000        59.802000\n",
       "50%      5.534000        66.603000\n",
       "75%      6.255000        69.600000\n",
       "max      7.842000        76.953000"
      ],
      "text/html": "<div>\n<style scoped>\n    .dataframe tbody tr th:only-of-type {\n        vertical-align: middle;\n    }\n\n    .dataframe tbody tr th {\n        vertical-align: top;\n    }\n\n    .dataframe thead th {\n        text-align: right;\n    }\n</style>\n<table border=\"1\" class=\"dataframe\">\n  <thead>\n    <tr style=\"text-align: right;\">\n      <th></th>\n      <th>score</th>\n      <th>life_expectancy</th>\n    </tr>\n  </thead>\n  <tbody>\n    <tr>\n      <th>count</th>\n      <td>149.000000</td>\n      <td>149.000000</td>\n    </tr>\n    <tr>\n      <th>mean</th>\n      <td>5.532839</td>\n      <td>64.992799</td>\n    </tr>\n    <tr>\n      <th>std</th>\n      <td>1.073924</td>\n      <td>6.762043</td>\n    </tr>\n    <tr>\n      <th>min</th>\n      <td>2.523000</td>\n      <td>48.478000</td>\n    </tr>\n    <tr>\n      <th>25%</th>\n      <td>4.852000</td>\n      <td>59.802000</td>\n    </tr>\n    <tr>\n      <th>50%</th>\n      <td>5.534000</td>\n      <td>66.603000</td>\n    </tr>\n    <tr>\n      <th>75%</th>\n      <td>6.255000</td>\n      <td>69.600000</td>\n    </tr>\n    <tr>\n      <th>max</th>\n      <td>7.842000</td>\n      <td>76.953000</td>\n    </tr>\n  </tbody>\n</table>\n</div>"
     },
     "metadata": {},
     "execution_count": 167
    }
   ],
   "source": [
    "happy_life.describe()"
   ]
  },
  {
   "cell_type": "code",
   "execution_count": 168,
   "id": "0931dbe0",
   "metadata": {},
   "outputs": [
    {
     "output_type": "execute_result",
     "data": {
      "text/plain": [
       "[(0.0, 10.0), (0.0, 100.0)]"
      ]
     },
     "metadata": {},
     "execution_count": 168
    },
    {
     "output_type": "display_data",
     "data": {
      "text/plain": "<Figure size 432x288 with 1 Axes>",
      "image/svg+xml": "<?xml version=\"1.0\" encoding=\"utf-8\" standalone=\"no\"?>\r\n<!DOCTYPE svg PUBLIC \"-//W3C//DTD SVG 1.1//EN\"\r\n  \"http://www.w3.org/Graphics/SVG/1.1/DTD/svg11.dtd\">\r\n<svg height=\"265.995469pt\" version=\"1.1\" viewBox=\"0 0 395.60625 265.995469\" width=\"395.60625pt\" xmlns=\"http://www.w3.org/2000/svg\" xmlns:xlink=\"http://www.w3.org/1999/xlink\">\r\n <metadata>\r\n  <rdf:RDF xmlns:cc=\"http://creativecommons.org/ns#\" xmlns:dc=\"http://purl.org/dc/elements/1.1/\" xmlns:rdf=\"http://www.w3.org/1999/02/22-rdf-syntax-ns#\">\r\n   <cc:Work>\r\n    <dc:type rdf:resource=\"http://purl.org/dc/dcmitype/StillImage\"/>\r\n    <dc:date>2021-06-25T10:19:51.550542</dc:date>\r\n    <dc:format>image/svg+xml</dc:format>\r\n    <dc:creator>\r\n     <cc:Agent>\r\n      <dc:title>Matplotlib v3.4.2, https://matplotlib.org/</dc:title>\r\n     </cc:Agent>\r\n    </dc:creator>\r\n   </cc:Work>\r\n  </rdf:RDF>\r\n </metadata>\r\n <defs>\r\n  <style type=\"text/css\">*{stroke-linecap:butt;stroke-linejoin:round;}</style>\r\n </defs>\r\n <g id=\"figure_1\">\r\n  <g id=\"patch_1\">\r\n   <path d=\"M -0 265.995469 \r\nL 395.60625 265.995469 \r\nL 395.60625 0 \r\nL -0 0 \r\nz\r\n\" style=\"fill:none;\"/>\r\n  </g>\r\n  <g id=\"axes_1\">\r\n   <g id=\"patch_2\">\r\n    <path d=\"M 47.24375 228.439219 \r\nL 382.04375 228.439219 \r\nL 382.04375 10.999219 \r\nL 47.24375 10.999219 \r\nz\r\n\" style=\"fill:#ffffff;\"/>\r\n   </g>\r\n   <g id=\"PathCollection_1\">\r\n    <defs>\r\n     <path d=\"M 0 2.236068 \r\nC 0.593012 2.236068 1.161816 2.000462 1.581139 1.581139 \r\nC 2.000462 1.161816 2.236068 0.593012 2.236068 0 \r\nC 2.236068 -0.593012 2.000462 -1.161816 1.581139 -1.581139 \r\nC 1.161816 -2.000462 0.593012 -2.236068 0 -2.236068 \r\nC -0.593012 -2.236068 -1.161816 -2.000462 -1.581139 -1.581139 \r\nC -2.000462 -1.161816 -2.236068 -0.593012 -2.236068 0 \r\nC -2.236068 0.593012 -2.000462 1.161816 -1.581139 1.581139 \r\nC -1.161816 2.000462 -0.593012 2.236068 0 2.236068 \r\nz\r\n\" id=\"mbb6f196278\" style=\"stroke:#1f77b4;\"/>\r\n    </defs>\r\n    <g clip-path=\"url(#p9f715b692f)\">\r\n     <use style=\"fill:#1f77b4;stroke:#1f77b4;\" x=\"309.79391\" xlink:href=\"#mbb6f196278\" y=\"71.882419\"/>\r\n     <use style=\"fill:#1f77b4;stroke:#1f77b4;\" x=\"302.36135\" xlink:href=\"#mbb6f196278\" y=\"70.360339\"/>\r\n     <use style=\"fill:#1f77b4;stroke:#1f77b4;\" x=\"300.72083\" xlink:href=\"#mbb6f196278\" y=\"66.663859\"/>\r\n     <use style=\"fill:#1f77b4;stroke:#1f77b4;\" x=\"300.15167\" xlink:href=\"#mbb6f196278\" y=\"69.708019\"/>\r\n     <use style=\"fill:#1f77b4;stroke:#1f77b4;\" x=\"297.13847\" xlink:href=\"#mbb6f196278\" y=\"71.012659\"/>\r\n     <use style=\"fill:#1f77b4;stroke:#1f77b4;\" x=\"294.72791\" xlink:href=\"#mbb6f196278\" y=\"69.055699\"/>\r\n     <use style=\"fill:#1f77b4;stroke:#1f77b4;\" x=\"293.75699\" xlink:href=\"#mbb6f196278\" y=\"70.360339\"/>\r\n     <use style=\"fill:#1f77b4;stroke:#1f77b4;\" x=\"292.45127\" xlink:href=\"#mbb6f196278\" y=\"70.577779\"/>\r\n     <use style=\"fill:#1f77b4;stroke:#1f77b4;\" x=\"290.87771\" xlink:href=\"#mbb6f196278\" y=\"68.838259\"/>\r\n     <use style=\"fill:#1f77b4;stroke:#1f77b4;\" x=\"290.57639\" xlink:href=\"#mbb6f196278\" y=\"69.055699\"/>\r\n     <use style=\"fill:#1f77b4;stroke:#1f77b4;\" x=\"287.73059\" xlink:href=\"#mbb6f196278\" y=\"67.751059\"/>\r\n     <use style=\"fill:#1f77b4;stroke:#1f77b4;\" x=\"286.86011\" xlink:href=\"#mbb6f196278\" y=\"68.614296\"/>\r\n     <use style=\"fill:#1f77b4;stroke:#1f77b4;\" x=\"286.79315\" xlink:href=\"#mbb6f196278\" y=\"70.795219\"/>\r\n     <use style=\"fill:#1f77b4;stroke:#1f77b4;\" x=\"285.05219\" xlink:href=\"#mbb6f196278\" y=\"67.968499\"/>\r\n     <use style=\"fill:#1f77b4;stroke:#1f77b4;\" x=\"284.44955\" xlink:href=\"#mbb6f196278\" y=\"71.012659\"/>\r\n     <use style=\"fill:#1f77b4;stroke:#1f77b4;\" x=\"283.91387\" xlink:href=\"#mbb6f196278\" y=\"73.187059\"/>\r\n     <use style=\"fill:#1f77b4;stroke:#1f77b4;\" x=\"283.74647\" xlink:href=\"#mbb6f196278\" y=\"70.795219\"/>\r\n     <use style=\"fill:#1f77b4;stroke:#1f77b4;\" x=\"280.43195\" xlink:href=\"#mbb6f196278\" y=\"74.476478\"/>\r\n     <use style=\"fill:#1f77b4;stroke:#1f77b4;\" x=\"279.96323\" xlink:href=\"#mbb6f196278\" y=\"80.145139\"/>\r\n     <use style=\"fill:#1f77b4;stroke:#1f77b4;\" x=\"276.04607\" xlink:href=\"#mbb6f196278\" y=\"71.449713\"/>\r\n     <use style=\"fill:#1f77b4;stroke:#1f77b4;\" x=\"271.22495\" xlink:href=\"#mbb6f196278\" y=\"67.533619\"/>\r\n     <use style=\"fill:#1f77b4;stroke:#1f77b4;\" x=\"269.78531\" xlink:href=\"#mbb6f196278\" y=\"77.329291\"/>\r\n     <use style=\"fill:#1f77b4;stroke:#1f77b4;\" x=\"268.27871\" xlink:href=\"#mbb6f196278\" y=\"71.447539\"/>\r\n     <use style=\"fill:#1f77b4;stroke:#1f77b4;\" x=\"267.67607\" xlink:href=\"#mbb6f196278\" y=\"77.100979\"/>\r\n     <use style=\"fill:#1f77b4;stroke:#1f77b4;\" x=\"266.90603\" xlink:href=\"#mbb6f196278\" y=\"82.030344\"/>\r\n     <use style=\"fill:#1f77b4;stroke:#1f77b4;\" x=\"264.66287\" xlink:href=\"#mbb6f196278\" y=\"83.617656\"/>\r\n     <use style=\"fill:#1f77b4;stroke:#1f77b4;\" x=\"264.56243\" xlink:href=\"#mbb6f196278\" y=\"66.011539\"/>\r\n     <use style=\"fill:#1f77b4;stroke:#1f77b4;\" x=\"264.29459\" xlink:href=\"#mbb6f196278\" y=\"67.968499\"/>\r\n     <use style=\"fill:#1f77b4;stroke:#1f77b4;\" x=\"263.55803\" xlink:href=\"#mbb6f196278\" y=\"73.187059\"/>\r\n     <use style=\"fill:#1f77b4;stroke:#1f77b4;\" x=\"262.68755\" xlink:href=\"#mbb6f196278\" y=\"87.194544\"/>\r\n     <use style=\"fill:#1f77b4;stroke:#1f77b4;\" x=\"262.55363\" xlink:href=\"#mbb6f196278\" y=\"78.188179\"/>\r\n     <use style=\"fill:#1f77b4;stroke:#1f77b4;\" x=\"260.74571\" xlink:href=\"#mbb6f196278\" y=\"61.112616\"/>\r\n     <use style=\"fill:#1f77b4;stroke:#1f77b4;\" x=\"260.57831\" xlink:href=\"#mbb6f196278\" y=\"89.684232\"/>\r\n     <use style=\"fill:#1f77b4;stroke:#1f77b4;\" x=\"259.20563\" xlink:href=\"#mbb6f196278\" y=\"77.968564\"/>\r\n     <use style=\"fill:#1f77b4;stroke:#1f77b4;\" x=\"259.17215\" xlink:href=\"#mbb6f196278\" y=\"83.622004\"/>\r\n     <use style=\"fill:#1f77b4;stroke:#1f77b4;\" x=\"258.73691\" xlink:href=\"#mbb6f196278\" y=\"79.281902\"/>\r\n     <use style=\"fill:#1f77b4;stroke:#1f77b4;\" x=\"258.46907\" xlink:href=\"#mbb6f196278\" y=\"81.667219\"/>\r\n     <use style=\"fill:#1f77b4;stroke:#1f77b4;\" x=\"256.66115\" xlink:href=\"#mbb6f196278\" y=\"80.784412\"/>\r\n     <use style=\"fill:#1f77b4;stroke:#1f77b4;\" x=\"255.58979\" xlink:href=\"#mbb6f196278\" y=\"67.755408\"/>\r\n     <use style=\"fill:#1f77b4;stroke:#1f77b4;\" x=\"254.45147\" xlink:href=\"#mbb6f196278\" y=\"78.840499\"/>\r\n     <use style=\"fill:#1f77b4;stroke:#1f77b4;\" x=\"254.15015\" xlink:href=\"#mbb6f196278\" y=\"76.98791\"/>\r\n     <use style=\"fill:#1f77b4;stroke:#1f77b4;\" x=\"254.11667\" xlink:href=\"#mbb6f196278\" y=\"86.548747\"/>\r\n     <use style=\"fill:#1f77b4;stroke:#1f77b4;\" x=\"253.88231\" xlink:href=\"#mbb6f196278\" y=\"76.231219\"/>\r\n     <use style=\"fill:#1f77b4;stroke:#1f77b4;\" x=\"253.68143\" xlink:href=\"#mbb6f196278\" y=\"76.87919\"/>\r\n     <use style=\"fill:#1f77b4;stroke:#1f77b4;\" x=\"253.21271\" xlink:href=\"#mbb6f196278\" y=\"86.668339\"/>\r\n     <use style=\"fill:#1f77b4;stroke:#1f77b4;\" x=\"252.81095\" xlink:href=\"#mbb6f196278\" y=\"81.982507\"/>\r\n     <use style=\"fill:#1f77b4;stroke:#1f77b4;\" x=\"251.67263\" xlink:href=\"#mbb6f196278\" y=\"82.971859\"/>\r\n     <use style=\"fill:#1f77b4;stroke:#1f77b4;\" x=\"250.73519\" xlink:href=\"#mbb6f196278\" y=\"79.275379\"/>\r\n     <use style=\"fill:#1f77b4;stroke:#1f77b4;\" x=\"250.16603\" xlink:href=\"#mbb6f196278\" y=\"84.05471\"/>\r\n     <use style=\"fill:#1f77b4;stroke:#1f77b4;\" x=\"249.76427\" xlink:href=\"#mbb6f196278\" y=\"83.404564\"/>\r\n     <use style=\"fill:#1f77b4;stroke:#1f77b4;\" x=\"249.19511\" xlink:href=\"#mbb6f196278\" y=\"82.536979\"/>\r\n     <use style=\"fill:#1f77b4;stroke:#1f77b4;\" x=\"248.52551\" xlink:href=\"#mbb6f196278\" y=\"80.577844\"/>\r\n     <use style=\"fill:#1f77b4;stroke:#1f77b4;\" x=\"247.85591\" xlink:href=\"#mbb6f196278\" y=\"80.580019\"/>\r\n     <use style=\"fill:#1f77b4;stroke:#1f77b4;\" x=\"247.62155\" xlink:href=\"#mbb6f196278\" y=\"81.882484\"/>\r\n     <use style=\"fill:#1f77b4;stroke:#1f77b4;\" x=\"247.18631\" xlink:href=\"#mbb6f196278\" y=\"81.325838\"/>\r\n     <use style=\"fill:#1f77b4;stroke:#1f77b4;\" x=\"246.11495\" xlink:href=\"#mbb6f196278\" y=\"65.141779\"/>\r\n     <use style=\"fill:#1f77b4;stroke:#1f77b4;\" x=\"245.74667\" xlink:href=\"#mbb6f196278\" y=\"78.405619\"/>\r\n     <use style=\"fill:#1f77b4;stroke:#1f77b4;\" x=\"245.74667\" xlink:href=\"#mbb6f196278\" y=\"70.577779\"/>\r\n     <use style=\"fill:#1f77b4;stroke:#1f77b4;\" x=\"245.41187\" xlink:href=\"#mbb6f196278\" y=\"82.102099\"/>\r\n     <use style=\"fill:#1f77b4;stroke:#1f77b4;\" x=\"244.17311\" xlink:href=\"#mbb6f196278\" y=\"74.493873\"/>\r\n     <use style=\"fill:#1f77b4;stroke:#1f77b4;\" x=\"244.10615\" xlink:href=\"#mbb6f196278\" y=\"93.626419\"/>\r\n     <use style=\"fill:#1f77b4;stroke:#1f77b4;\" x=\"242.93435\" xlink:href=\"#mbb6f196278\" y=\"67.751059\"/>\r\n     <use style=\"fill:#1f77b4;stroke:#1f77b4;\" x=\"242.76695\" xlink:href=\"#mbb6f196278\" y=\"80.036419\"/>\r\n     <use style=\"fill:#1f77b4;stroke:#1f77b4;\" x=\"241.86299\" xlink:href=\"#mbb6f196278\" y=\"80.366928\"/>\r\n     <use style=\"fill:#1f77b4;stroke:#1f77b4;\" x=\"240.28943\" xlink:href=\"#mbb6f196278\" y=\"85.583313\"/>\r\n     <use style=\"fill:#1f77b4;stroke:#1f77b4;\" x=\"240.22247\" xlink:href=\"#mbb6f196278\" y=\"78.840499\"/>\r\n     <use style=\"fill:#1f77b4;stroke:#1f77b4;\" x=\"239.55287\" xlink:href=\"#mbb6f196278\" y=\"88.405684\"/>\r\n     <use style=\"fill:#1f77b4;stroke:#1f77b4;\" x=\"238.84979\" xlink:href=\"#mbb6f196278\" y=\"70.577779\"/>\r\n     <use style=\"fill:#1f77b4;stroke:#1f77b4;\" x=\"238.61543\" xlink:href=\"#mbb6f196278\" y=\"89.492884\"/>\r\n     <use style=\"fill:#1f77b4;stroke:#1f77b4;\" x=\"237.30971\" xlink:href=\"#mbb6f196278\" y=\"92.539219\"/>\r\n     <use style=\"fill:#1f77b4;stroke:#1f77b4;\" x=\"236.50619\" xlink:href=\"#mbb6f196278\" y=\"85.146259\"/>\r\n     <use style=\"fill:#1f77b4;stroke:#1f77b4;\" x=\"234.09563\" xlink:href=\"#mbb6f196278\" y=\"79.060113\"/>\r\n     <use style=\"fill:#1f77b4;stroke:#1f77b4;\" x=\"232.89035\" xlink:href=\"#mbb6f196278\" y=\"84.70703\"/>\r\n     <use style=\"fill:#1f77b4;stroke:#1f77b4;\" x=\"232.58903\" xlink:href=\"#mbb6f196278\" y=\"67.755408\"/>\r\n     <use style=\"fill:#1f77b4;stroke:#1f77b4;\" x=\"232.52207\" xlink:href=\"#mbb6f196278\" y=\"84.378696\"/>\r\n     <use style=\"fill:#1f77b4;stroke:#1f77b4;\" x=\"230.61371\" xlink:href=\"#mbb6f196278\" y=\"87.749016\"/>\r\n     <use style=\"fill:#1f77b4;stroke:#1f77b4;\" x=\"230.61371\" xlink:href=\"#mbb6f196278\" y=\"61.401811\"/>\r\n     <use style=\"fill:#1f77b4;stroke:#1f77b4;\" x=\"230.24543\" xlink:href=\"#mbb6f196278\" y=\"88.666612\"/>\r\n     <use style=\"fill:#1f77b4;stroke:#1f77b4;\" x=\"228.40403\" xlink:href=\"#mbb6f196278\" y=\"80.506089\"/>\r\n     <use style=\"fill:#1f77b4;stroke:#1f77b4;\" x=\"228.37055\" xlink:href=\"#mbb6f196278\" y=\"92.974099\"/>\r\n     <use style=\"fill:#1f77b4;stroke:#1f77b4;\" x=\"227.50007\" xlink:href=\"#mbb6f196278\" y=\"82.53263\"/>\r\n     <use style=\"fill:#1f77b4;stroke:#1f77b4;\" x=\"226.19435\" xlink:href=\"#mbb6f196278\" y=\"93.11326\"/>\r\n     <use style=\"fill:#1f77b4;stroke:#1f77b4;\" x=\"226.09391\" xlink:href=\"#mbb6f196278\" y=\"101.843476\"/>\r\n     <use style=\"fill:#1f77b4;stroke:#1f77b4;\" x=\"225.99347\" xlink:href=\"#mbb6f196278\" y=\"77.1162\"/>\r\n     <use style=\"fill:#1f77b4;stroke:#1f77b4;\" x=\"224.88863\" xlink:href=\"#mbb6f196278\" y=\"119.471337\"/>\r\n     <use style=\"fill:#1f77b4;stroke:#1f77b4;\" x=\"224.11859\" xlink:href=\"#mbb6f196278\" y=\"82.634827\"/>\r\n     <use style=\"fill:#1f77b4;stroke:#1f77b4;\" x=\"223.64987\" xlink:href=\"#mbb6f196278\" y=\"88.770984\"/>\r\n     <use style=\"fill:#1f77b4;stroke:#1f77b4;\" x=\"223.54943\" xlink:href=\"#mbb6f196278\" y=\"82.754419\"/>\r\n     <use style=\"fill:#1f77b4;stroke:#1f77b4;\" x=\"221.27279\" xlink:href=\"#mbb6f196278\" y=\"74.926579\"/>\r\n     <use style=\"fill:#1f77b4;stroke:#1f77b4;\" x=\"220.36883\" xlink:href=\"#mbb6f196278\" y=\"85.676812\"/>\r\n     <use style=\"fill:#1f77b4;stroke:#1f77b4;\" x=\"219.39791\" xlink:href=\"#mbb6f196278\" y=\"112.076203\"/>\r\n     <use style=\"fill:#1f77b4;stroke:#1f77b4;\" x=\"219.06311\" xlink:href=\"#mbb6f196278\" y=\"98.40575\"/>\r\n     <use style=\"fill:#1f77b4;stroke:#1f77b4;\" x=\"218.56091\" xlink:href=\"#mbb6f196278\" y=\"78.407793\"/>\r\n     <use style=\"fill:#1f77b4;stroke:#1f77b4;\" x=\"218.02523\" xlink:href=\"#mbb6f196278\" y=\"86.072553\"/>\r\n     <use style=\"fill:#1f77b4;stroke:#1f77b4;\" x=\"217.58999\" xlink:href=\"#mbb6f196278\" y=\"103.22422\"/>\r\n     <use style=\"fill:#1f77b4;stroke:#1f77b4;\" x=\"217.12127\" xlink:href=\"#mbb6f196278\" y=\"111.499987\"/>\r\n     <use style=\"fill:#1f77b4;stroke:#1f77b4;\" x=\"216.85343\" xlink:href=\"#mbb6f196278\" y=\"92.737089\"/>\r\n     <use style=\"fill:#1f77b4;stroke:#1f77b4;\" x=\"216.35123\" xlink:href=\"#mbb6f196278\" y=\"108.499315\"/>\r\n     <use style=\"fill:#1f77b4;stroke:#1f77b4;\" x=\"216.15035\" xlink:href=\"#mbb6f196278\" y=\"109.471272\"/>\r\n     <use style=\"fill:#1f77b4;stroke:#1f77b4;\" x=\"215.64815\" xlink:href=\"#mbb6f196278\" y=\"100.2192\"/>\r\n     <use style=\"fill:#1f77b4;stroke:#1f77b4;\" x=\"215.48075\" xlink:href=\"#mbb6f196278\" y=\"87.538099\"/>\r\n     <use style=\"fill:#1f77b4;stroke:#1f77b4;\" x=\"214.10807\" xlink:href=\"#mbb6f196278\" y=\"108.829824\"/>\r\n     <use style=\"fill:#1f77b4;stroke:#1f77b4;\" x=\"213.17063\" xlink:href=\"#mbb6f196278\" y=\"104.707161\"/>\r\n     <use style=\"fill:#1f77b4;stroke:#1f77b4;\" x=\"212.90279\" xlink:href=\"#mbb6f196278\" y=\"82.321713\"/>\r\n     <use style=\"fill:#1f77b4;stroke:#1f77b4;\" x=\"212.43407\" xlink:href=\"#mbb6f196278\" y=\"100.782369\"/>\r\n     <use style=\"fill:#1f77b4;stroke:#1f77b4;\" x=\"211.89839\" xlink:href=\"#mbb6f196278\" y=\"84.476544\"/>\r\n     <use style=\"fill:#1f77b4;stroke:#1f77b4;\" x=\"211.02791\" xlink:href=\"#mbb6f196278\" y=\"83.406739\"/>\r\n     <use style=\"fill:#1f77b4;stroke:#1f77b4;\" x=\"210.99443\" xlink:href=\"#mbb6f196278\" y=\"88.625299\"/>\r\n     <use style=\"fill:#1f77b4;stroke:#1f77b4;\" x=\"210.86051\" xlink:href=\"#mbb6f196278\" y=\"84.917947\"/>\r\n     <use style=\"fill:#1f77b4;stroke:#1f77b4;\" x=\"210.45875\" xlink:href=\"#mbb6f196278\" y=\"87.31631\"/>\r\n     <use style=\"fill:#1f77b4;stroke:#1f77b4;\" x=\"209.75567\" xlink:href=\"#mbb6f196278\" y=\"96.707544\"/>\r\n     <use style=\"fill:#1f77b4;stroke:#1f77b4;\" x=\"209.68871\" xlink:href=\"#mbb6f196278\" y=\"98.057846\"/>\r\n     <use style=\"fill:#1f77b4;stroke:#1f77b4;\" x=\"209.08607\" xlink:href=\"#mbb6f196278\" y=\"110.693284\"/>\r\n     <use style=\"fill:#1f77b4;stroke:#1f77b4;\" x=\"208.95215\" xlink:href=\"#mbb6f196278\" y=\"93.626419\"/>\r\n     <use style=\"fill:#1f77b4;stroke:#1f77b4;\" x=\"207.74687\" xlink:href=\"#mbb6f196278\" y=\"109.486492\"/>\r\n     <use style=\"fill:#1f77b4;stroke:#1f77b4;\" x=\"206.57507\" xlink:href=\"#mbb6f196278\" y=\"119.49743\"/>\r\n     <use style=\"fill:#1f77b4;stroke:#1f77b4;\" x=\"205.36979\" xlink:href=\"#mbb6f196278\" y=\"115.437825\"/>\r\n     <use style=\"fill:#1f77b4;stroke:#1f77b4;\" x=\"205.30283\" xlink:href=\"#mbb6f196278\" y=\"84.276499\"/>\r\n     <use style=\"fill:#1f77b4;stroke:#1f77b4;\" x=\"202.45703\" xlink:href=\"#mbb6f196278\" y=\"106.453204\"/>\r\n     <use style=\"fill:#1f77b4;stroke:#1f77b4;\" x=\"202.08875\" xlink:href=\"#mbb6f196278\" y=\"105.589968\"/>\r\n     <use style=\"fill:#1f77b4;stroke:#1f77b4;\" x=\"201.48611\" xlink:href=\"#mbb6f196278\" y=\"96.444441\"/>\r\n     <use style=\"fill:#1f77b4;stroke:#1f77b4;\" x=\"201.11783\" xlink:href=\"#mbb6f196278\" y=\"82.317364\"/>\r\n     <use style=\"fill:#1f77b4;stroke:#1f77b4;\" x=\"200.71607\" xlink:href=\"#mbb6f196278\" y=\"81.982507\"/>\r\n     <use style=\"fill:#1f77b4;stroke:#1f77b4;\" x=\"200.38127\" xlink:href=\"#mbb6f196278\" y=\"104.935473\"/>\r\n     <use style=\"fill:#1f77b4;stroke:#1f77b4;\" x=\"198.47291\" xlink:href=\"#mbb6f196278\" y=\"93.082819\"/>\r\n     <use style=\"fill:#1f77b4;stroke:#1f77b4;\" x=\"195.42623\" xlink:href=\"#mbb6f196278\" y=\"99.49295\"/>\r\n     <use style=\"fill:#1f77b4;stroke:#1f77b4;\" x=\"194.38835\" xlink:href=\"#mbb6f196278\" y=\"82.754419\"/>\r\n     <use style=\"fill:#1f77b4;stroke:#1f77b4;\" x=\"193.04915\" xlink:href=\"#mbb6f196278\" y=\"123.028656\"/>\r\n     <use style=\"fill:#1f77b4;stroke:#1f77b4;\" x=\"192.04475\" xlink:href=\"#mbb6f196278\" y=\"82.104273\"/>\r\n     <use style=\"fill:#1f77b4;stroke:#1f77b4;\" x=\"191.47559\" xlink:href=\"#mbb6f196278\" y=\"117.907944\"/>\r\n     <use style=\"fill:#1f77b4;stroke:#1f77b4;\" x=\"190.83947\" xlink:href=\"#mbb6f196278\" y=\"103.739553\"/>\r\n     <use style=\"fill:#1f77b4;stroke:#1f77b4;\" x=\"190.63859\" xlink:href=\"#mbb6f196278\" y=\"93.630768\"/>\r\n     <use style=\"fill:#1f77b4;stroke:#1f77b4;\" x=\"190.37075\" xlink:href=\"#mbb6f196278\" y=\"100.149619\"/>\r\n     <use style=\"fill:#1f77b4;stroke:#1f77b4;\" x=\"188.76371\" xlink:href=\"#mbb6f196278\" y=\"104.14834\"/>\r\n     <use style=\"fill:#1f77b4;stroke:#1f77b4;\" x=\"188.12759\" xlink:href=\"#mbb6f196278\" y=\"99.486427\"/>\r\n     <use style=\"fill:#1f77b4;stroke:#1f77b4;\" x=\"184.74611\" xlink:href=\"#mbb6f196278\" y=\"109.034217\"/>\r\n     <use style=\"fill:#1f77b4;stroke:#1f77b4;\" x=\"183.60779\" xlink:href=\"#mbb6f196278\" y=\"107.088129\"/>\r\n     <use style=\"fill:#1f77b4;stroke:#1f77b4;\" x=\"176.10827\" xlink:href=\"#mbb6f196278\" y=\"116.129284\"/>\r\n     <use style=\"fill:#1f77b4;stroke:#1f77b4;\" x=\"175.10387\" xlink:href=\"#mbb6f196278\" y=\"96.598824\"/>\r\n     <use style=\"fill:#1f77b4;stroke:#1f77b4;\" x=\"173.63075\" xlink:href=\"#mbb6f196278\" y=\"112.326259\"/>\r\n     <use style=\"fill:#1f77b4;stroke:#1f77b4;\" x=\"169.71359\" xlink:href=\"#mbb6f196278\" y=\"104.233142\"/>\r\n     <use style=\"fill:#1f77b4;stroke:#1f77b4;\" x=\"168.54179\" xlink:href=\"#mbb6f196278\" y=\"102.326193\"/>\r\n     <use style=\"fill:#1f77b4;stroke:#1f77b4;\" x=\"168.27395\" xlink:href=\"#mbb6f196278\" y=\"107.325139\"/>\r\n     <use style=\"fill:#1f77b4;stroke:#1f77b4;\" x=\"167.77175\" xlink:href=\"#mbb6f196278\" y=\"102.437088\"/>\r\n     <use style=\"fill:#1f77b4;stroke:#1f77b4;\" x=\"164.82551\" xlink:href=\"#mbb6f196278\" y=\"122.545939\"/>\r\n     <use style=\"fill:#1f77b4;stroke:#1f77b4;\" x=\"163.31891\" xlink:href=\"#mbb6f196278\" y=\"99.564705\"/>\r\n     <use style=\"fill:#1f77b4;stroke:#1f77b4;\" x=\"161.57795\" xlink:href=\"#mbb6f196278\" y=\"94.931059\"/>\r\n     <use style=\"fill:#1f77b4;stroke:#1f77b4;\" x=\"152.53835\" xlink:href=\"#mbb6f196278\" y=\"106.235764\"/>\r\n     <use style=\"fill:#1f77b4;stroke:#1f77b4;\" x=\"131.71379\" xlink:href=\"#mbb6f196278\" y=\"114.29844\"/>\r\n    </g>\r\n   </g>\r\n   <g id=\"matplotlib.axis_1\">\r\n    <g id=\"xtick_1\">\r\n     <g id=\"line2d_1\">\r\n      <defs>\r\n       <path d=\"M 0 0 \r\nL 0 3.5 \r\n\" id=\"m2a0369ebdd\" style=\"stroke:#000000;stroke-width:0.8;\"/>\r\n      </defs>\r\n      <g>\r\n       <use style=\"stroke:#000000;stroke-width:0.8;\" x=\"47.24375\" xlink:href=\"#m2a0369ebdd\" y=\"228.439219\"/>\r\n      </g>\r\n     </g>\r\n     <g id=\"text_1\">\r\n      <!-- 0 -->\r\n      <g transform=\"translate(44.0625 243.037656)scale(0.1 -0.1)\">\r\n       <defs>\r\n        <path d=\"M 2034 4250 \r\nQ 1547 4250 1301 3770 \r\nQ 1056 3291 1056 2328 \r\nQ 1056 1369 1301 889 \r\nQ 1547 409 2034 409 \r\nQ 2525 409 2770 889 \r\nQ 3016 1369 3016 2328 \r\nQ 3016 3291 2770 3770 \r\nQ 2525 4250 2034 4250 \r\nz\r\nM 2034 4750 \r\nQ 2819 4750 3233 4129 \r\nQ 3647 3509 3647 2328 \r\nQ 3647 1150 3233 529 \r\nQ 2819 -91 2034 -91 \r\nQ 1250 -91 836 529 \r\nQ 422 1150 422 2328 \r\nQ 422 3509 836 4129 \r\nQ 1250 4750 2034 4750 \r\nz\r\n\" id=\"DejaVuSans-30\" transform=\"scale(0.015625)\"/>\r\n       </defs>\r\n       <use xlink:href=\"#DejaVuSans-30\"/>\r\n      </g>\r\n     </g>\r\n    </g>\r\n    <g id=\"xtick_2\">\r\n     <g id=\"line2d_2\">\r\n      <g>\r\n       <use style=\"stroke:#000000;stroke-width:0.8;\" x=\"114.20375\" xlink:href=\"#m2a0369ebdd\" y=\"228.439219\"/>\r\n      </g>\r\n     </g>\r\n     <g id=\"text_2\">\r\n      <!-- 2 -->\r\n      <g transform=\"translate(111.0225 243.037656)scale(0.1 -0.1)\">\r\n       <defs>\r\n        <path d=\"M 1228 531 \r\nL 3431 531 \r\nL 3431 0 \r\nL 469 0 \r\nL 469 531 \r\nQ 828 903 1448 1529 \r\nQ 2069 2156 2228 2338 \r\nQ 2531 2678 2651 2914 \r\nQ 2772 3150 2772 3378 \r\nQ 2772 3750 2511 3984 \r\nQ 2250 4219 1831 4219 \r\nQ 1534 4219 1204 4116 \r\nQ 875 4013 500 3803 \r\nL 500 4441 \r\nQ 881 4594 1212 4672 \r\nQ 1544 4750 1819 4750 \r\nQ 2544 4750 2975 4387 \r\nQ 3406 4025 3406 3419 \r\nQ 3406 3131 3298 2873 \r\nQ 3191 2616 2906 2266 \r\nQ 2828 2175 2409 1742 \r\nQ 1991 1309 1228 531 \r\nz\r\n\" id=\"DejaVuSans-32\" transform=\"scale(0.015625)\"/>\r\n       </defs>\r\n       <use xlink:href=\"#DejaVuSans-32\"/>\r\n      </g>\r\n     </g>\r\n    </g>\r\n    <g id=\"xtick_3\">\r\n     <g id=\"line2d_3\">\r\n      <g>\r\n       <use style=\"stroke:#000000;stroke-width:0.8;\" x=\"181.16375\" xlink:href=\"#m2a0369ebdd\" y=\"228.439219\"/>\r\n      </g>\r\n     </g>\r\n     <g id=\"text_3\">\r\n      <!-- 4 -->\r\n      <g transform=\"translate(177.9825 243.037656)scale(0.1 -0.1)\">\r\n       <defs>\r\n        <path d=\"M 2419 4116 \r\nL 825 1625 \r\nL 2419 1625 \r\nL 2419 4116 \r\nz\r\nM 2253 4666 \r\nL 3047 4666 \r\nL 3047 1625 \r\nL 3713 1625 \r\nL 3713 1100 \r\nL 3047 1100 \r\nL 3047 0 \r\nL 2419 0 \r\nL 2419 1100 \r\nL 313 1100 \r\nL 313 1709 \r\nL 2253 4666 \r\nz\r\n\" id=\"DejaVuSans-34\" transform=\"scale(0.015625)\"/>\r\n       </defs>\r\n       <use xlink:href=\"#DejaVuSans-34\"/>\r\n      </g>\r\n     </g>\r\n    </g>\r\n    <g id=\"xtick_4\">\r\n     <g id=\"line2d_4\">\r\n      <g>\r\n       <use style=\"stroke:#000000;stroke-width:0.8;\" x=\"248.12375\" xlink:href=\"#m2a0369ebdd\" y=\"228.439219\"/>\r\n      </g>\r\n     </g>\r\n     <g id=\"text_4\">\r\n      <!-- 6 -->\r\n      <g transform=\"translate(244.9425 243.037656)scale(0.1 -0.1)\">\r\n       <defs>\r\n        <path d=\"M 2113 2584 \r\nQ 1688 2584 1439 2293 \r\nQ 1191 2003 1191 1497 \r\nQ 1191 994 1439 701 \r\nQ 1688 409 2113 409 \r\nQ 2538 409 2786 701 \r\nQ 3034 994 3034 1497 \r\nQ 3034 2003 2786 2293 \r\nQ 2538 2584 2113 2584 \r\nz\r\nM 3366 4563 \r\nL 3366 3988 \r\nQ 3128 4100 2886 4159 \r\nQ 2644 4219 2406 4219 \r\nQ 1781 4219 1451 3797 \r\nQ 1122 3375 1075 2522 \r\nQ 1259 2794 1537 2939 \r\nQ 1816 3084 2150 3084 \r\nQ 2853 3084 3261 2657 \r\nQ 3669 2231 3669 1497 \r\nQ 3669 778 3244 343 \r\nQ 2819 -91 2113 -91 \r\nQ 1303 -91 875 529 \r\nQ 447 1150 447 2328 \r\nQ 447 3434 972 4092 \r\nQ 1497 4750 2381 4750 \r\nQ 2619 4750 2861 4703 \r\nQ 3103 4656 3366 4563 \r\nz\r\n\" id=\"DejaVuSans-36\" transform=\"scale(0.015625)\"/>\r\n       </defs>\r\n       <use xlink:href=\"#DejaVuSans-36\"/>\r\n      </g>\r\n     </g>\r\n    </g>\r\n    <g id=\"xtick_5\">\r\n     <g id=\"line2d_5\">\r\n      <g>\r\n       <use style=\"stroke:#000000;stroke-width:0.8;\" x=\"315.08375\" xlink:href=\"#m2a0369ebdd\" y=\"228.439219\"/>\r\n      </g>\r\n     </g>\r\n     <g id=\"text_5\">\r\n      <!-- 8 -->\r\n      <g transform=\"translate(311.9025 243.037656)scale(0.1 -0.1)\">\r\n       <defs>\r\n        <path d=\"M 2034 2216 \r\nQ 1584 2216 1326 1975 \r\nQ 1069 1734 1069 1313 \r\nQ 1069 891 1326 650 \r\nQ 1584 409 2034 409 \r\nQ 2484 409 2743 651 \r\nQ 3003 894 3003 1313 \r\nQ 3003 1734 2745 1975 \r\nQ 2488 2216 2034 2216 \r\nz\r\nM 1403 2484 \r\nQ 997 2584 770 2862 \r\nQ 544 3141 544 3541 \r\nQ 544 4100 942 4425 \r\nQ 1341 4750 2034 4750 \r\nQ 2731 4750 3128 4425 \r\nQ 3525 4100 3525 3541 \r\nQ 3525 3141 3298 2862 \r\nQ 3072 2584 2669 2484 \r\nQ 3125 2378 3379 2068 \r\nQ 3634 1759 3634 1313 \r\nQ 3634 634 3220 271 \r\nQ 2806 -91 2034 -91 \r\nQ 1263 -91 848 271 \r\nQ 434 634 434 1313 \r\nQ 434 1759 690 2068 \r\nQ 947 2378 1403 2484 \r\nz\r\nM 1172 3481 \r\nQ 1172 3119 1398 2916 \r\nQ 1625 2713 2034 2713 \r\nQ 2441 2713 2670 2916 \r\nQ 2900 3119 2900 3481 \r\nQ 2900 3844 2670 4047 \r\nQ 2441 4250 2034 4250 \r\nQ 1625 4250 1398 4047 \r\nQ 1172 3844 1172 3481 \r\nz\r\n\" id=\"DejaVuSans-38\" transform=\"scale(0.015625)\"/>\r\n       </defs>\r\n       <use xlink:href=\"#DejaVuSans-38\"/>\r\n      </g>\r\n     </g>\r\n    </g>\r\n    <g id=\"xtick_6\">\r\n     <g id=\"line2d_6\">\r\n      <g>\r\n       <use style=\"stroke:#000000;stroke-width:0.8;\" x=\"382.04375\" xlink:href=\"#m2a0369ebdd\" y=\"228.439219\"/>\r\n      </g>\r\n     </g>\r\n     <g id=\"text_6\">\r\n      <!-- 10 -->\r\n      <g transform=\"translate(375.68125 243.037656)scale(0.1 -0.1)\">\r\n       <defs>\r\n        <path d=\"M 794 531 \r\nL 1825 531 \r\nL 1825 4091 \r\nL 703 3866 \r\nL 703 4441 \r\nL 1819 4666 \r\nL 2450 4666 \r\nL 2450 531 \r\nL 3481 531 \r\nL 3481 0 \r\nL 794 0 \r\nL 794 531 \r\nz\r\n\" id=\"DejaVuSans-31\" transform=\"scale(0.015625)\"/>\r\n       </defs>\r\n       <use xlink:href=\"#DejaVuSans-31\"/>\r\n       <use x=\"63.623047\" xlink:href=\"#DejaVuSans-30\"/>\r\n      </g>\r\n     </g>\r\n    </g>\r\n    <g id=\"text_7\">\r\n     <!-- score -->\r\n     <g transform=\"translate(201.210937 256.715781)scale(0.1 -0.1)\">\r\n      <defs>\r\n       <path d=\"M 2834 3397 \r\nL 2834 2853 \r\nQ 2591 2978 2328 3040 \r\nQ 2066 3103 1784 3103 \r\nQ 1356 3103 1142 2972 \r\nQ 928 2841 928 2578 \r\nQ 928 2378 1081 2264 \r\nQ 1234 2150 1697 2047 \r\nL 1894 2003 \r\nQ 2506 1872 2764 1633 \r\nQ 3022 1394 3022 966 \r\nQ 3022 478 2636 193 \r\nQ 2250 -91 1575 -91 \r\nQ 1294 -91 989 -36 \r\nQ 684 19 347 128 \r\nL 347 722 \r\nQ 666 556 975 473 \r\nQ 1284 391 1588 391 \r\nQ 1994 391 2212 530 \r\nQ 2431 669 2431 922 \r\nQ 2431 1156 2273 1281 \r\nQ 2116 1406 1581 1522 \r\nL 1381 1569 \r\nQ 847 1681 609 1914 \r\nQ 372 2147 372 2553 \r\nQ 372 3047 722 3315 \r\nQ 1072 3584 1716 3584 \r\nQ 2034 3584 2315 3537 \r\nQ 2597 3491 2834 3397 \r\nz\r\n\" id=\"DejaVuSans-73\" transform=\"scale(0.015625)\"/>\r\n       <path d=\"M 3122 3366 \r\nL 3122 2828 \r\nQ 2878 2963 2633 3030 \r\nQ 2388 3097 2138 3097 \r\nQ 1578 3097 1268 2742 \r\nQ 959 2388 959 1747 \r\nQ 959 1106 1268 751 \r\nQ 1578 397 2138 397 \r\nQ 2388 397 2633 464 \r\nQ 2878 531 3122 666 \r\nL 3122 134 \r\nQ 2881 22 2623 -34 \r\nQ 2366 -91 2075 -91 \r\nQ 1284 -91 818 406 \r\nQ 353 903 353 1747 \r\nQ 353 2603 823 3093 \r\nQ 1294 3584 2113 3584 \r\nQ 2378 3584 2631 3529 \r\nQ 2884 3475 3122 3366 \r\nz\r\n\" id=\"DejaVuSans-63\" transform=\"scale(0.015625)\"/>\r\n       <path d=\"M 1959 3097 \r\nQ 1497 3097 1228 2736 \r\nQ 959 2375 959 1747 \r\nQ 959 1119 1226 758 \r\nQ 1494 397 1959 397 \r\nQ 2419 397 2687 759 \r\nQ 2956 1122 2956 1747 \r\nQ 2956 2369 2687 2733 \r\nQ 2419 3097 1959 3097 \r\nz\r\nM 1959 3584 \r\nQ 2709 3584 3137 3096 \r\nQ 3566 2609 3566 1747 \r\nQ 3566 888 3137 398 \r\nQ 2709 -91 1959 -91 \r\nQ 1206 -91 779 398 \r\nQ 353 888 353 1747 \r\nQ 353 2609 779 3096 \r\nQ 1206 3584 1959 3584 \r\nz\r\n\" id=\"DejaVuSans-6f\" transform=\"scale(0.015625)\"/>\r\n       <path d=\"M 2631 2963 \r\nQ 2534 3019 2420 3045 \r\nQ 2306 3072 2169 3072 \r\nQ 1681 3072 1420 2755 \r\nQ 1159 2438 1159 1844 \r\nL 1159 0 \r\nL 581 0 \r\nL 581 3500 \r\nL 1159 3500 \r\nL 1159 2956 \r\nQ 1341 3275 1631 3429 \r\nQ 1922 3584 2338 3584 \r\nQ 2397 3584 2469 3576 \r\nQ 2541 3569 2628 3553 \r\nL 2631 2963 \r\nz\r\n\" id=\"DejaVuSans-72\" transform=\"scale(0.015625)\"/>\r\n       <path d=\"M 3597 1894 \r\nL 3597 1613 \r\nL 953 1613 \r\nQ 991 1019 1311 708 \r\nQ 1631 397 2203 397 \r\nQ 2534 397 2845 478 \r\nQ 3156 559 3463 722 \r\nL 3463 178 \r\nQ 3153 47 2828 -22 \r\nQ 2503 -91 2169 -91 \r\nQ 1331 -91 842 396 \r\nQ 353 884 353 1716 \r\nQ 353 2575 817 3079 \r\nQ 1281 3584 2069 3584 \r\nQ 2775 3584 3186 3129 \r\nQ 3597 2675 3597 1894 \r\nz\r\nM 3022 2063 \r\nQ 3016 2534 2758 2815 \r\nQ 2500 3097 2075 3097 \r\nQ 1594 3097 1305 2825 \r\nQ 1016 2553 972 2059 \r\nL 3022 2063 \r\nz\r\n\" id=\"DejaVuSans-65\" transform=\"scale(0.015625)\"/>\r\n      </defs>\r\n      <use xlink:href=\"#DejaVuSans-73\"/>\r\n      <use x=\"52.099609\" xlink:href=\"#DejaVuSans-63\"/>\r\n      <use x=\"107.080078\" xlink:href=\"#DejaVuSans-6f\"/>\r\n      <use x=\"168.261719\" xlink:href=\"#DejaVuSans-72\"/>\r\n      <use x=\"207.125\" xlink:href=\"#DejaVuSans-65\"/>\r\n     </g>\r\n    </g>\r\n   </g>\r\n   <g id=\"matplotlib.axis_2\">\r\n    <g id=\"ytick_1\">\r\n     <g id=\"line2d_7\">\r\n      <defs>\r\n       <path d=\"M 0 0 \r\nL -3.5 0 \r\n\" id=\"m89662f7616\" style=\"stroke:#000000;stroke-width:0.8;\"/>\r\n      </defs>\r\n      <g>\r\n       <use style=\"stroke:#000000;stroke-width:0.8;\" x=\"47.24375\" xlink:href=\"#m89662f7616\" y=\"228.439219\"/>\r\n      </g>\r\n     </g>\r\n     <g id=\"text_8\">\r\n      <!-- 0 -->\r\n      <g transform=\"translate(33.88125 232.238437)scale(0.1 -0.1)\">\r\n       <use xlink:href=\"#DejaVuSans-30\"/>\r\n      </g>\r\n     </g>\r\n    </g>\r\n    <g id=\"ytick_2\">\r\n     <g id=\"line2d_8\">\r\n      <g>\r\n       <use style=\"stroke:#000000;stroke-width:0.8;\" x=\"47.24375\" xlink:href=\"#m89662f7616\" y=\"184.951219\"/>\r\n      </g>\r\n     </g>\r\n     <g id=\"text_9\">\r\n      <!-- 20 -->\r\n      <g transform=\"translate(27.51875 188.750437)scale(0.1 -0.1)\">\r\n       <use xlink:href=\"#DejaVuSans-32\"/>\r\n       <use x=\"63.623047\" xlink:href=\"#DejaVuSans-30\"/>\r\n      </g>\r\n     </g>\r\n    </g>\r\n    <g id=\"ytick_3\">\r\n     <g id=\"line2d_9\">\r\n      <g>\r\n       <use style=\"stroke:#000000;stroke-width:0.8;\" x=\"47.24375\" xlink:href=\"#m89662f7616\" y=\"141.463219\"/>\r\n      </g>\r\n     </g>\r\n     <g id=\"text_10\">\r\n      <!-- 40 -->\r\n      <g transform=\"translate(27.51875 145.262437)scale(0.1 -0.1)\">\r\n       <use xlink:href=\"#DejaVuSans-34\"/>\r\n       <use x=\"63.623047\" xlink:href=\"#DejaVuSans-30\"/>\r\n      </g>\r\n     </g>\r\n    </g>\r\n    <g id=\"ytick_4\">\r\n     <g id=\"line2d_10\">\r\n      <g>\r\n       <use style=\"stroke:#000000;stroke-width:0.8;\" x=\"47.24375\" xlink:href=\"#m89662f7616\" y=\"97.975219\"/>\r\n      </g>\r\n     </g>\r\n     <g id=\"text_11\">\r\n      <!-- 60 -->\r\n      <g transform=\"translate(27.51875 101.774437)scale(0.1 -0.1)\">\r\n       <use xlink:href=\"#DejaVuSans-36\"/>\r\n       <use x=\"63.623047\" xlink:href=\"#DejaVuSans-30\"/>\r\n      </g>\r\n     </g>\r\n    </g>\r\n    <g id=\"ytick_5\">\r\n     <g id=\"line2d_11\">\r\n      <g>\r\n       <use style=\"stroke:#000000;stroke-width:0.8;\" x=\"47.24375\" xlink:href=\"#m89662f7616\" y=\"54.487219\"/>\r\n      </g>\r\n     </g>\r\n     <g id=\"text_12\">\r\n      <!-- 80 -->\r\n      <g transform=\"translate(27.51875 58.286437)scale(0.1 -0.1)\">\r\n       <use xlink:href=\"#DejaVuSans-38\"/>\r\n       <use x=\"63.623047\" xlink:href=\"#DejaVuSans-30\"/>\r\n      </g>\r\n     </g>\r\n    </g>\r\n    <g id=\"ytick_6\">\r\n     <g id=\"line2d_12\">\r\n      <g>\r\n       <use style=\"stroke:#000000;stroke-width:0.8;\" x=\"47.24375\" xlink:href=\"#m89662f7616\" y=\"10.999219\"/>\r\n      </g>\r\n     </g>\r\n     <g id=\"text_13\">\r\n      <!-- 100 -->\r\n      <g transform=\"translate(21.15625 14.798437)scale(0.1 -0.1)\">\r\n       <use xlink:href=\"#DejaVuSans-31\"/>\r\n       <use x=\"63.623047\" xlink:href=\"#DejaVuSans-30\"/>\r\n       <use x=\"127.246094\" xlink:href=\"#DejaVuSans-30\"/>\r\n      </g>\r\n     </g>\r\n    </g>\r\n    <g id=\"text_14\">\r\n     <!-- life_expectancy -->\r\n     <g transform=\"translate(14.798438 158.684062)rotate(-90)scale(0.1 -0.1)\">\r\n      <defs>\r\n       <path d=\"M 603 4863 \r\nL 1178 4863 \r\nL 1178 0 \r\nL 603 0 \r\nL 603 4863 \r\nz\r\n\" id=\"DejaVuSans-6c\" transform=\"scale(0.015625)\"/>\r\n       <path d=\"M 603 3500 \r\nL 1178 3500 \r\nL 1178 0 \r\nL 603 0 \r\nL 603 3500 \r\nz\r\nM 603 4863 \r\nL 1178 4863 \r\nL 1178 4134 \r\nL 603 4134 \r\nL 603 4863 \r\nz\r\n\" id=\"DejaVuSans-69\" transform=\"scale(0.015625)\"/>\r\n       <path d=\"M 2375 4863 \r\nL 2375 4384 \r\nL 1825 4384 \r\nQ 1516 4384 1395 4259 \r\nQ 1275 4134 1275 3809 \r\nL 1275 3500 \r\nL 2222 3500 \r\nL 2222 3053 \r\nL 1275 3053 \r\nL 1275 0 \r\nL 697 0 \r\nL 697 3053 \r\nL 147 3053 \r\nL 147 3500 \r\nL 697 3500 \r\nL 697 3744 \r\nQ 697 4328 969 4595 \r\nQ 1241 4863 1831 4863 \r\nL 2375 4863 \r\nz\r\n\" id=\"DejaVuSans-66\" transform=\"scale(0.015625)\"/>\r\n       <path d=\"M 3263 -1063 \r\nL 3263 -1509 \r\nL -63 -1509 \r\nL -63 -1063 \r\nL 3263 -1063 \r\nz\r\n\" id=\"DejaVuSans-5f\" transform=\"scale(0.015625)\"/>\r\n       <path d=\"M 3513 3500 \r\nL 2247 1797 \r\nL 3578 0 \r\nL 2900 0 \r\nL 1881 1375 \r\nL 863 0 \r\nL 184 0 \r\nL 1544 1831 \r\nL 300 3500 \r\nL 978 3500 \r\nL 1906 2253 \r\nL 2834 3500 \r\nL 3513 3500 \r\nz\r\n\" id=\"DejaVuSans-78\" transform=\"scale(0.015625)\"/>\r\n       <path d=\"M 1159 525 \r\nL 1159 -1331 \r\nL 581 -1331 \r\nL 581 3500 \r\nL 1159 3500 \r\nL 1159 2969 \r\nQ 1341 3281 1617 3432 \r\nQ 1894 3584 2278 3584 \r\nQ 2916 3584 3314 3078 \r\nQ 3713 2572 3713 1747 \r\nQ 3713 922 3314 415 \r\nQ 2916 -91 2278 -91 \r\nQ 1894 -91 1617 61 \r\nQ 1341 213 1159 525 \r\nz\r\nM 3116 1747 \r\nQ 3116 2381 2855 2742 \r\nQ 2594 3103 2138 3103 \r\nQ 1681 3103 1420 2742 \r\nQ 1159 2381 1159 1747 \r\nQ 1159 1113 1420 752 \r\nQ 1681 391 2138 391 \r\nQ 2594 391 2855 752 \r\nQ 3116 1113 3116 1747 \r\nz\r\n\" id=\"DejaVuSans-70\" transform=\"scale(0.015625)\"/>\r\n       <path d=\"M 1172 4494 \r\nL 1172 3500 \r\nL 2356 3500 \r\nL 2356 3053 \r\nL 1172 3053 \r\nL 1172 1153 \r\nQ 1172 725 1289 603 \r\nQ 1406 481 1766 481 \r\nL 2356 481 \r\nL 2356 0 \r\nL 1766 0 \r\nQ 1100 0 847 248 \r\nQ 594 497 594 1153 \r\nL 594 3053 \r\nL 172 3053 \r\nL 172 3500 \r\nL 594 3500 \r\nL 594 4494 \r\nL 1172 4494 \r\nz\r\n\" id=\"DejaVuSans-74\" transform=\"scale(0.015625)\"/>\r\n       <path d=\"M 2194 1759 \r\nQ 1497 1759 1228 1600 \r\nQ 959 1441 959 1056 \r\nQ 959 750 1161 570 \r\nQ 1363 391 1709 391 \r\nQ 2188 391 2477 730 \r\nQ 2766 1069 2766 1631 \r\nL 2766 1759 \r\nL 2194 1759 \r\nz\r\nM 3341 1997 \r\nL 3341 0 \r\nL 2766 0 \r\nL 2766 531 \r\nQ 2569 213 2275 61 \r\nQ 1981 -91 1556 -91 \r\nQ 1019 -91 701 211 \r\nQ 384 513 384 1019 \r\nQ 384 1609 779 1909 \r\nQ 1175 2209 1959 2209 \r\nL 2766 2209 \r\nL 2766 2266 \r\nQ 2766 2663 2505 2880 \r\nQ 2244 3097 1772 3097 \r\nQ 1472 3097 1187 3025 \r\nQ 903 2953 641 2809 \r\nL 641 3341 \r\nQ 956 3463 1253 3523 \r\nQ 1550 3584 1831 3584 \r\nQ 2591 3584 2966 3190 \r\nQ 3341 2797 3341 1997 \r\nz\r\n\" id=\"DejaVuSans-61\" transform=\"scale(0.015625)\"/>\r\n       <path d=\"M 3513 2113 \r\nL 3513 0 \r\nL 2938 0 \r\nL 2938 2094 \r\nQ 2938 2591 2744 2837 \r\nQ 2550 3084 2163 3084 \r\nQ 1697 3084 1428 2787 \r\nQ 1159 2491 1159 1978 \r\nL 1159 0 \r\nL 581 0 \r\nL 581 3500 \r\nL 1159 3500 \r\nL 1159 2956 \r\nQ 1366 3272 1645 3428 \r\nQ 1925 3584 2291 3584 \r\nQ 2894 3584 3203 3211 \r\nQ 3513 2838 3513 2113 \r\nz\r\n\" id=\"DejaVuSans-6e\" transform=\"scale(0.015625)\"/>\r\n       <path d=\"M 2059 -325 \r\nQ 1816 -950 1584 -1140 \r\nQ 1353 -1331 966 -1331 \r\nL 506 -1331 \r\nL 506 -850 \r\nL 844 -850 \r\nQ 1081 -850 1212 -737 \r\nQ 1344 -625 1503 -206 \r\nL 1606 56 \r\nL 191 3500 \r\nL 800 3500 \r\nL 1894 763 \r\nL 2988 3500 \r\nL 3597 3500 \r\nL 2059 -325 \r\nz\r\n\" id=\"DejaVuSans-79\" transform=\"scale(0.015625)\"/>\r\n      </defs>\r\n      <use xlink:href=\"#DejaVuSans-6c\"/>\r\n      <use x=\"27.783203\" xlink:href=\"#DejaVuSans-69\"/>\r\n      <use x=\"55.566406\" xlink:href=\"#DejaVuSans-66\"/>\r\n      <use x=\"90.771484\" xlink:href=\"#DejaVuSans-65\"/>\r\n      <use x=\"152.294922\" xlink:href=\"#DejaVuSans-5f\"/>\r\n      <use x=\"202.294922\" xlink:href=\"#DejaVuSans-65\"/>\r\n      <use x=\"262.068359\" xlink:href=\"#DejaVuSans-78\"/>\r\n      <use x=\"321.248047\" xlink:href=\"#DejaVuSans-70\"/>\r\n      <use x=\"384.724609\" xlink:href=\"#DejaVuSans-65\"/>\r\n      <use x=\"446.248047\" xlink:href=\"#DejaVuSans-63\"/>\r\n      <use x=\"501.228516\" xlink:href=\"#DejaVuSans-74\"/>\r\n      <use x=\"540.4375\" xlink:href=\"#DejaVuSans-61\"/>\r\n      <use x=\"601.716797\" xlink:href=\"#DejaVuSans-6e\"/>\r\n      <use x=\"665.095703\" xlink:href=\"#DejaVuSans-63\"/>\r\n      <use x=\"720.076172\" xlink:href=\"#DejaVuSans-79\"/>\r\n     </g>\r\n    </g>\r\n   </g>\r\n   <g id=\"patch_3\">\r\n    <path d=\"M 47.24375 228.439219 \r\nL 47.24375 10.999219 \r\n\" style=\"fill:none;stroke:#000000;stroke-linecap:square;stroke-linejoin:miter;stroke-width:0.8;\"/>\r\n   </g>\r\n   <g id=\"patch_4\">\r\n    <path d=\"M 382.04375 228.439219 \r\nL 382.04375 10.999219 \r\n\" style=\"fill:none;stroke:#000000;stroke-linecap:square;stroke-linejoin:miter;stroke-width:0.8;\"/>\r\n   </g>\r\n   <g id=\"patch_5\">\r\n    <path d=\"M 47.24375 228.439219 \r\nL 382.04375 228.439219 \r\n\" style=\"fill:none;stroke:#000000;stroke-linecap:square;stroke-linejoin:miter;stroke-width:0.8;\"/>\r\n   </g>\r\n   <g id=\"patch_6\">\r\n    <path d=\"M 47.24375 10.999219 \r\nL 382.04375 10.999219 \r\n\" style=\"fill:none;stroke:#000000;stroke-linecap:square;stroke-linejoin:miter;stroke-width:0.8;\"/>\r\n   </g>\r\n  </g>\r\n </g>\r\n <defs>\r\n  <clipPath id=\"p9f715b692f\">\r\n   <rect height=\"217.44\" width=\"334.8\" x=\"47.24375\" y=\"10.999219\"/>\r\n  </clipPath>\r\n </defs>\r\n</svg>\r\n",
      "image/png": "[encoded data removed]"
     },
     "metadata": {
      "needs_background": "light"
     }
    }
   ],
   "source": [
    "happy_life.plot(kind = 'scatter', x = 'score', y = 'life_expectancy').set(xlim =(0, 10), ylim =(0, 100))"
   ]
  },
  {
   "cell_type": "code",
   "execution_count": 169,
   "id": "c1691afc",
   "metadata": {},
   "outputs": [
    {
     "output_type": "execute_result",
     "data": {
      "text/plain": [
       "[(2.0, 8.0), (30.0, 80.0)]"
      ]
     },
     "metadata": {},
     "execution_count": 169
    },
    {
     "output_type": "display_data",
     "data": {
      "text/plain": "<Figure size 432x288 with 1 Axes>",
      "image/svg+xml": "<?xml version=\"1.0\" encoding=\"utf-8\" standalone=\"no\"?>\r\n<!DOCTYPE svg PUBLIC \"-//W3C//DTD SVG 1.1//EN\"\r\n  \"http://www.w3.org/Graphics/SVG/1.1/DTD/svg11.dtd\">\r\n<svg height=\"265.995469pt\" version=\"1.1\" viewBox=\"0 0 386.0625 265.995469\" width=\"386.0625pt\" xmlns=\"http://www.w3.org/2000/svg\" xmlns:xlink=\"http://www.w3.org/1999/xlink\">\r\n <metadata>\r\n  <rdf:RDF xmlns:cc=\"http://creativecommons.org/ns#\" xmlns:dc=\"http://purl.org/dc/elements/1.1/\" xmlns:rdf=\"http://www.w3.org/1999/02/22-rdf-syntax-ns#\">\r\n   <cc:Work>\r\n    <dc:type rdf:resource=\"http://purl.org/dc/dcmitype/StillImage\"/>\r\n    <dc:date>2021-06-25T10:19:52.221917</dc:date>\r\n    <dc:format>image/svg+xml</dc:format>\r\n    <dc:creator>\r\n     <cc:Agent>\r\n      <dc:title>Matplotlib v3.4.2, https://matplotlib.org/</dc:title>\r\n     </cc:Agent>\r\n    </dc:creator>\r\n   </cc:Work>\r\n  </rdf:RDF>\r\n </metadata>\r\n <defs>\r\n  <style type=\"text/css\">*{stroke-linecap:butt;stroke-linejoin:round;}</style>\r\n </defs>\r\n <g id=\"figure_1\">\r\n  <g id=\"patch_1\">\r\n   <path d=\"M 0 265.995469 \r\nL 386.0625 265.995469 \r\nL 386.0625 0 \r\nL 0 0 \r\nz\r\n\" style=\"fill:none;\"/>\r\n  </g>\r\n  <g id=\"axes_1\">\r\n   <g id=\"patch_2\">\r\n    <path d=\"M 40.88125 228.439219 \r\nL 375.68125 228.439219 \r\nL 375.68125 10.999219 \r\nL 40.88125 10.999219 \r\nz\r\n\" style=\"fill:#ffffff;\"/>\r\n   </g>\r\n   <g id=\"PathCollection_1\">\r\n    <defs>\r\n     <path d=\"M 0 2.236068 \r\nC 0.593012 2.236068 1.161816 2.000462 1.581139 1.581139 \r\nC 2.000462 1.161816 2.236068 0.593012 2.236068 0 \r\nC 2.236068 -0.593012 2.000462 -1.161816 1.581139 -1.581139 \r\nC 1.161816 -2.000462 0.593012 -2.236068 0 -2.236068 \r\nC -0.593012 -2.236068 -1.161816 -2.000462 -1.581139 -1.581139 \r\nC -2.000462 -1.161816 -2.236068 -0.593012 -2.236068 0 \r\nC -2.236068 0.593012 -2.000462 1.161816 -1.581139 1.581139 \r\nC -1.161816 2.000462 -0.593012 2.236068 0 2.236068 \r\nz\r\n\" id=\"m31d5c3b682\" style=\"stroke:#1f77b4;\"/>\r\n    </defs>\r\n    <g clip-path=\"url(#p8d804cc6f9)\">\r\n     <use style=\"fill:#1f77b4;stroke:#1f77b4;\" x=\"366.86485\" xlink:href=\"#m31d5c3b682\" y=\"45.789619\"/>\r\n     <use style=\"fill:#1f77b4;stroke:#1f77b4;\" x=\"354.47725\" xlink:href=\"#m31d5c3b682\" y=\"42.745459\"/>\r\n     <use style=\"fill:#1f77b4;stroke:#1f77b4;\" x=\"351.74305\" xlink:href=\"#m31d5c3b682\" y=\"35.352499\"/>\r\n     <use style=\"fill:#1f77b4;stroke:#1f77b4;\" x=\"350.79445\" xlink:href=\"#m31d5c3b682\" y=\"41.440819\"/>\r\n     <use style=\"fill:#1f77b4;stroke:#1f77b4;\" x=\"345.77245\" xlink:href=\"#m31d5c3b682\" y=\"44.050099\"/>\r\n     <use style=\"fill:#1f77b4;stroke:#1f77b4;\" x=\"341.75485\" xlink:href=\"#m31d5c3b682\" y=\"40.136179\"/>\r\n     <use style=\"fill:#1f77b4;stroke:#1f77b4;\" x=\"340.13665\" xlink:href=\"#m31d5c3b682\" y=\"42.745459\"/>\r\n     <use style=\"fill:#1f77b4;stroke:#1f77b4;\" x=\"337.96045\" xlink:href=\"#m31d5c3b682\" y=\"43.180339\"/>\r\n     <use style=\"fill:#1f77b4;stroke:#1f77b4;\" x=\"335.33785\" xlink:href=\"#m31d5c3b682\" y=\"39.701299\"/>\r\n     <use style=\"fill:#1f77b4;stroke:#1f77b4;\" x=\"334.83565\" xlink:href=\"#m31d5c3b682\" y=\"40.136179\"/>\r\n     <use style=\"fill:#1f77b4;stroke:#1f77b4;\" x=\"330.09265\" xlink:href=\"#m31d5c3b682\" y=\"37.526899\"/>\r\n     <use style=\"fill:#1f77b4;stroke:#1f77b4;\" x=\"328.64185\" xlink:href=\"#m31d5c3b682\" y=\"39.253372\"/>\r\n     <use style=\"fill:#1f77b4;stroke:#1f77b4;\" x=\"328.53025\" xlink:href=\"#m31d5c3b682\" y=\"43.615219\"/>\r\n     <use style=\"fill:#1f77b4;stroke:#1f77b4;\" x=\"325.62865\" xlink:href=\"#m31d5c3b682\" y=\"37.961779\"/>\r\n     <use style=\"fill:#1f77b4;stroke:#1f77b4;\" x=\"324.62425\" xlink:href=\"#m31d5c3b682\" y=\"44.050099\"/>\r\n     <use style=\"fill:#1f77b4;stroke:#1f77b4;\" x=\"323.73145\" xlink:href=\"#m31d5c3b682\" y=\"48.398899\"/>\r\n     <use style=\"fill:#1f77b4;stroke:#1f77b4;\" x=\"323.45245\" xlink:href=\"#m31d5c3b682\" y=\"43.615219\"/>\r\n     <use style=\"fill:#1f77b4;stroke:#1f77b4;\" x=\"317.92825\" xlink:href=\"#m31d5c3b682\" y=\"50.977737\"/>\r\n     <use style=\"fill:#1f77b4;stroke:#1f77b4;\" x=\"317.14705\" xlink:href=\"#m31d5c3b682\" y=\"62.315059\"/>\r\n     <use style=\"fill:#1f77b4;stroke:#1f77b4;\" x=\"310.61845\" xlink:href=\"#m31d5c3b682\" y=\"44.924208\"/>\r\n     <use style=\"fill:#1f77b4;stroke:#1f77b4;\" x=\"302.58325\" xlink:href=\"#m31d5c3b682\" y=\"37.092019\"/>\r\n     <use style=\"fill:#1f77b4;stroke:#1f77b4;\" x=\"300.18385\" xlink:href=\"#m31d5c3b682\" y=\"56.683363\"/>\r\n     <use style=\"fill:#1f77b4;stroke:#1f77b4;\" x=\"297.67285\" xlink:href=\"#m31d5c3b682\" y=\"44.919859\"/>\r\n     <use style=\"fill:#1f77b4;stroke:#1f77b4;\" x=\"296.66845\" xlink:href=\"#m31d5c3b682\" y=\"56.226739\"/>\r\n     <use style=\"fill:#1f77b4;stroke:#1f77b4;\" x=\"295.38505\" xlink:href=\"#m31d5c3b682\" y=\"66.085468\"/>\r\n     <use style=\"fill:#1f77b4;stroke:#1f77b4;\" x=\"291.64645\" xlink:href=\"#m31d5c3b682\" y=\"69.260092\"/>\r\n     <use style=\"fill:#1f77b4;stroke:#1f77b4;\" x=\"291.47905\" xlink:href=\"#m31d5c3b682\" y=\"34.047859\"/>\r\n     <use style=\"fill:#1f77b4;stroke:#1f77b4;\" x=\"291.03265\" xlink:href=\"#m31d5c3b682\" y=\"37.961779\"/>\r\n     <use style=\"fill:#1f77b4;stroke:#1f77b4;\" x=\"289.80505\" xlink:href=\"#m31d5c3b682\" y=\"48.398899\"/>\r\n     <use style=\"fill:#1f77b4;stroke:#1f77b4;\" x=\"288.35425\" xlink:href=\"#m31d5c3b682\" y=\"76.413868\"/>\r\n     <use style=\"fill:#1f77b4;stroke:#1f77b4;\" x=\"288.13105\" xlink:href=\"#m31d5c3b682\" y=\"58.401139\"/>\r\n     <use style=\"fill:#1f77b4;stroke:#1f77b4;\" x=\"285.11785\" xlink:href=\"#m31d5c3b682\" y=\"24.250012\"/>\r\n     <use style=\"fill:#1f77b4;stroke:#1f77b4;\" x=\"284.83885\" xlink:href=\"#m31d5c3b682\" y=\"81.393244\"/>\r\n     <use style=\"fill:#1f77b4;stroke:#1f77b4;\" x=\"282.55105\" xlink:href=\"#m31d5c3b682\" y=\"57.96191\"/>\r\n     <use style=\"fill:#1f77b4;stroke:#1f77b4;\" x=\"282.49525\" xlink:href=\"#m31d5c3b682\" y=\"69.26879\"/>\r\n     <use style=\"fill:#1f77b4;stroke:#1f77b4;\" x=\"281.76985\" xlink:href=\"#m31d5c3b682\" y=\"60.588585\"/>\r\n     <use style=\"fill:#1f77b4;stroke:#1f77b4;\" x=\"281.32345\" xlink:href=\"#m31d5c3b682\" y=\"65.359219\"/>\r\n     <use style=\"fill:#1f77b4;stroke:#1f77b4;\" x=\"278.31025\" xlink:href=\"#m31d5c3b682\" y=\"63.593606\"/>\r\n     <use style=\"fill:#1f77b4;stroke:#1f77b4;\" x=\"276.52465\" xlink:href=\"#m31d5c3b682\" y=\"37.535596\"/>\r\n     <use style=\"fill:#1f77b4;stroke:#1f77b4;\" x=\"274.62745\" xlink:href=\"#m31d5c3b682\" y=\"59.705779\"/>\r\n     <use style=\"fill:#1f77b4;stroke:#1f77b4;\" x=\"274.12525\" xlink:href=\"#m31d5c3b682\" y=\"56.000601\"/>\r\n     <use style=\"fill:#1f77b4;stroke:#1f77b4;\" x=\"274.06945\" xlink:href=\"#m31d5c3b682\" y=\"75.122275\"/>\r\n     <use style=\"fill:#1f77b4;stroke:#1f77b4;\" x=\"273.67885\" xlink:href=\"#m31d5c3b682\" y=\"54.487219\"/>\r\n     <use style=\"fill:#1f77b4;stroke:#1f77b4;\" x=\"273.34405\" xlink:href=\"#m31d5c3b682\" y=\"55.783161\"/>\r\n     <use style=\"fill:#1f77b4;stroke:#1f77b4;\" x=\"272.56285\" xlink:href=\"#m31d5c3b682\" y=\"75.361459\"/>\r\n     <use style=\"fill:#1f77b4;stroke:#1f77b4;\" x=\"271.89325\" xlink:href=\"#m31d5c3b682\" y=\"65.989795\"/>\r\n     <use style=\"fill:#1f77b4;stroke:#1f77b4;\" x=\"269.99605\" xlink:href=\"#m31d5c3b682\" y=\"67.968499\"/>\r\n     <use style=\"fill:#1f77b4;stroke:#1f77b4;\" x=\"268.43365\" xlink:href=\"#m31d5c3b682\" y=\"60.575539\"/>\r\n     <use style=\"fill:#1f77b4;stroke:#1f77b4;\" x=\"267.48505\" xlink:href=\"#m31d5c3b682\" y=\"70.134201\"/>\r\n     <use style=\"fill:#1f77b4;stroke:#1f77b4;\" x=\"266.81545\" xlink:href=\"#m31d5c3b682\" y=\"68.83391\"/>\r\n     <use style=\"fill:#1f77b4;stroke:#1f77b4;\" x=\"265.86685\" xlink:href=\"#m31d5c3b682\" y=\"67.098739\"/>\r\n     <use style=\"fill:#1f77b4;stroke:#1f77b4;\" x=\"264.75085\" xlink:href=\"#m31d5c3b682\" y=\"63.18047\"/>\r\n     <use style=\"fill:#1f77b4;stroke:#1f77b4;\" x=\"263.63485\" xlink:href=\"#m31d5c3b682\" y=\"63.184819\"/>\r\n     <use style=\"fill:#1f77b4;stroke:#1f77b4;\" x=\"263.24425\" xlink:href=\"#m31d5c3b682\" y=\"65.78975\"/>\r\n     <use style=\"fill:#1f77b4;stroke:#1f77b4;\" x=\"262.51885\" xlink:href=\"#m31d5c3b682\" y=\"64.676457\"/>\r\n     <use style=\"fill:#1f77b4;stroke:#1f77b4;\" x=\"260.73325\" xlink:href=\"#m31d5c3b682\" y=\"32.308339\"/>\r\n     <use style=\"fill:#1f77b4;stroke:#1f77b4;\" x=\"260.11945\" xlink:href=\"#m31d5c3b682\" y=\"58.836019\"/>\r\n     <use style=\"fill:#1f77b4;stroke:#1f77b4;\" x=\"260.11945\" xlink:href=\"#m31d5c3b682\" y=\"43.180339\"/>\r\n     <use style=\"fill:#1f77b4;stroke:#1f77b4;\" x=\"259.56145\" xlink:href=\"#m31d5c3b682\" y=\"66.228979\"/>\r\n     <use style=\"fill:#1f77b4;stroke:#1f77b4;\" x=\"257.49685\" xlink:href=\"#m31d5c3b682\" y=\"51.012528\"/>\r\n     <use style=\"fill:#1f77b4;stroke:#1f77b4;\" x=\"257.38525\" xlink:href=\"#m31d5c3b682\" y=\"89.277619\"/>\r\n     <use style=\"fill:#1f77b4;stroke:#1f77b4;\" x=\"255.43225\" xlink:href=\"#m31d5c3b682\" y=\"37.526899\"/>\r\n     <use style=\"fill:#1f77b4;stroke:#1f77b4;\" x=\"255.15325\" xlink:href=\"#m31d5c3b682\" y=\"62.097619\"/>\r\n     <use style=\"fill:#1f77b4;stroke:#1f77b4;\" x=\"253.64665\" xlink:href=\"#m31d5c3b682\" y=\"62.758636\"/>\r\n     <use style=\"fill:#1f77b4;stroke:#1f77b4;\" x=\"251.02405\" xlink:href=\"#m31d5c3b682\" y=\"73.191408\"/>\r\n     <use style=\"fill:#1f77b4;stroke:#1f77b4;\" x=\"250.91245\" xlink:href=\"#m31d5c3b682\" y=\"59.705779\"/>\r\n     <use style=\"fill:#1f77b4;stroke:#1f77b4;\" x=\"249.79645\" xlink:href=\"#m31d5c3b682\" y=\"78.83615\"/>\r\n     <use style=\"fill:#1f77b4;stroke:#1f77b4;\" x=\"248.62465\" xlink:href=\"#m31d5c3b682\" y=\"43.180339\"/>\r\n     <use style=\"fill:#1f77b4;stroke:#1f77b4;\" x=\"248.23405\" xlink:href=\"#m31d5c3b682\" y=\"81.01055\"/>\r\n     <use style=\"fill:#1f77b4;stroke:#1f77b4;\" x=\"246.05785\" xlink:href=\"#m31d5c3b682\" y=\"87.103219\"/>\r\n     <use style=\"fill:#1f77b4;stroke:#1f77b4;\" x=\"244.71865\" xlink:href=\"#m31d5c3b682\" y=\"72.317299\"/>\r\n     <use style=\"fill:#1f77b4;stroke:#1f77b4;\" x=\"240.70105\" xlink:href=\"#m31d5c3b682\" y=\"60.145008\"/>\r\n     <use style=\"fill:#1f77b4;stroke:#1f77b4;\" x=\"238.69225\" xlink:href=\"#m31d5c3b682\" y=\"71.438841\"/>\r\n     <use style=\"fill:#1f77b4;stroke:#1f77b4;\" x=\"238.19005\" xlink:href=\"#m31d5c3b682\" y=\"37.535596\"/>\r\n     <use style=\"fill:#1f77b4;stroke:#1f77b4;\" x=\"238.07845\" xlink:href=\"#m31d5c3b682\" y=\"70.782172\"/>\r\n     <use style=\"fill:#1f77b4;stroke:#1f77b4;\" x=\"234.89785\" xlink:href=\"#m31d5c3b682\" y=\"77.522812\"/>\r\n     <use style=\"fill:#1f77b4;stroke:#1f77b4;\" x=\"234.89785\" xlink:href=\"#m31d5c3b682\" y=\"24.828403\"/>\r\n     <use style=\"fill:#1f77b4;stroke:#1f77b4;\" x=\"234.28405\" xlink:href=\"#m31d5c3b682\" y=\"79.358006\"/>\r\n     <use style=\"fill:#1f77b4;stroke:#1f77b4;\" x=\"231.21505\" xlink:href=\"#m31d5c3b682\" y=\"63.03696\"/>\r\n     <use style=\"fill:#1f77b4;stroke:#1f77b4;\" x=\"231.15925\" xlink:href=\"#m31d5c3b682\" y=\"87.972979\"/>\r\n     <use style=\"fill:#1f77b4;stroke:#1f77b4;\" x=\"229.70845\" xlink:href=\"#m31d5c3b682\" y=\"67.090041\"/>\r\n     <use style=\"fill:#1f77b4;stroke:#1f77b4;\" x=\"227.53225\" xlink:href=\"#m31d5c3b682\" y=\"88.251302\"/>\r\n     <use style=\"fill:#1f77b4;stroke:#1f77b4;\" x=\"227.36485\" xlink:href=\"#m31d5c3b682\" y=\"105.711734\"/>\r\n     <use style=\"fill:#1f77b4;stroke:#1f77b4;\" x=\"227.19745\" xlink:href=\"#m31d5c3b682\" y=\"56.25718\"/>\r\n     <use style=\"fill:#1f77b4;stroke:#1f77b4;\" x=\"225.35605\" xlink:href=\"#m31d5c3b682\" y=\"140.967456\"/>\r\n     <use style=\"fill:#1f77b4;stroke:#1f77b4;\" x=\"224.07265\" xlink:href=\"#m31d5c3b682\" y=\"67.294435\"/>\r\n     <use style=\"fill:#1f77b4;stroke:#1f77b4;\" x=\"223.29145\" xlink:href=\"#m31d5c3b682\" y=\"79.566748\"/>\r\n     <use style=\"fill:#1f77b4;stroke:#1f77b4;\" x=\"223.12405\" xlink:href=\"#m31d5c3b682\" y=\"67.533619\"/>\r\n     <use style=\"fill:#1f77b4;stroke:#1f77b4;\" x=\"219.32965\" xlink:href=\"#m31d5c3b682\" y=\"51.877939\"/>\r\n     <use style=\"fill:#1f77b4;stroke:#1f77b4;\" x=\"217.82305\" xlink:href=\"#m31d5c3b682\" y=\"73.378406\"/>\r\n     <use style=\"fill:#1f77b4;stroke:#1f77b4;\" x=\"216.20485\" xlink:href=\"#m31d5c3b682\" y=\"126.177187\"/>\r\n     <use style=\"fill:#1f77b4;stroke:#1f77b4;\" x=\"215.64685\" xlink:href=\"#m31d5c3b682\" y=\"98.836281\"/>\r\n     <use style=\"fill:#1f77b4;stroke:#1f77b4;\" x=\"214.80985\" xlink:href=\"#m31d5c3b682\" y=\"58.840368\"/>\r\n     <use style=\"fill:#1f77b4;stroke:#1f77b4;\" x=\"213.91705\" xlink:href=\"#m31d5c3b682\" y=\"74.169888\"/>\r\n     <use style=\"fill:#1f77b4;stroke:#1f77b4;\" x=\"213.19165\" xlink:href=\"#m31d5c3b682\" y=\"108.473222\"/>\r\n     <use style=\"fill:#1f77b4;stroke:#1f77b4;\" x=\"212.41045\" xlink:href=\"#m31d5c3b682\" y=\"125.024755\"/>\r\n     <use style=\"fill:#1f77b4;stroke:#1f77b4;\" x=\"211.96405\" xlink:href=\"#m31d5c3b682\" y=\"87.49896\"/>\r\n     <use style=\"fill:#1f77b4;stroke:#1f77b4;\" x=\"211.12705\" xlink:href=\"#m31d5c3b682\" y=\"119.023411\"/>\r\n     <use style=\"fill:#1f77b4;stroke:#1f77b4;\" x=\"210.79225\" xlink:href=\"#m31d5c3b682\" y=\"120.967324\"/>\r\n     <use style=\"fill:#1f77b4;stroke:#1f77b4;\" x=\"209.95525\" xlink:href=\"#m31d5c3b682\" y=\"102.46318\"/>\r\n     <use style=\"fill:#1f77b4;stroke:#1f77b4;\" x=\"209.67625\" xlink:href=\"#m31d5c3b682\" y=\"77.100979\"/>\r\n     <use style=\"fill:#1f77b4;stroke:#1f77b4;\" x=\"207.38845\" xlink:href=\"#m31d5c3b682\" y=\"119.684428\"/>\r\n     <use style=\"fill:#1f77b4;stroke:#1f77b4;\" x=\"205.82605\" xlink:href=\"#m31d5c3b682\" y=\"111.439104\"/>\r\n     <use style=\"fill:#1f77b4;stroke:#1f77b4;\" x=\"205.37965\" xlink:href=\"#m31d5c3b682\" y=\"66.668208\"/>\r\n     <use style=\"fill:#1f77b4;stroke:#1f77b4;\" x=\"204.59845\" xlink:href=\"#m31d5c3b682\" y=\"103.58952\"/>\r\n     <use style=\"fill:#1f77b4;stroke:#1f77b4;\" x=\"203.70565\" xlink:href=\"#m31d5c3b682\" y=\"70.977868\"/>\r\n     <use style=\"fill:#1f77b4;stroke:#1f77b4;\" x=\"202.25485\" xlink:href=\"#m31d5c3b682\" y=\"68.838259\"/>\r\n     <use style=\"fill:#1f77b4;stroke:#1f77b4;\" x=\"202.19905\" xlink:href=\"#m31d5c3b682\" y=\"79.275379\"/>\r\n     <use style=\"fill:#1f77b4;stroke:#1f77b4;\" x=\"201.97585\" xlink:href=\"#m31d5c3b682\" y=\"71.860675\"/>\r\n     <use style=\"fill:#1f77b4;stroke:#1f77b4;\" x=\"201.30625\" xlink:href=\"#m31d5c3b682\" y=\"76.657401\"/>\r\n     <use style=\"fill:#1f77b4;stroke:#1f77b4;\" x=\"200.13445\" xlink:href=\"#m31d5c3b682\" y=\"95.439868\"/>\r\n     <use style=\"fill:#1f77b4;stroke:#1f77b4;\" x=\"200.02285\" xlink:href=\"#m31d5c3b682\" y=\"98.140473\"/>\r\n     <use style=\"fill:#1f77b4;stroke:#1f77b4;\" x=\"199.01845\" xlink:href=\"#m31d5c3b682\" y=\"123.41135\"/>\r\n     <use style=\"fill:#1f77b4;stroke:#1f77b4;\" x=\"198.79525\" xlink:href=\"#m31d5c3b682\" y=\"89.277619\"/>\r\n     <use style=\"fill:#1f77b4;stroke:#1f77b4;\" x=\"196.78645\" xlink:href=\"#m31d5c3b682\" y=\"120.997766\"/>\r\n     <use style=\"fill:#1f77b4;stroke:#1f77b4;\" x=\"194.83345\" xlink:href=\"#m31d5c3b682\" y=\"141.019641\"/>\r\n     <use style=\"fill:#1f77b4;stroke:#1f77b4;\" x=\"192.82465\" xlink:href=\"#m31d5c3b682\" y=\"132.900432\"/>\r\n     <use style=\"fill:#1f77b4;stroke:#1f77b4;\" x=\"192.71305\" xlink:href=\"#m31d5c3b682\" y=\"70.577779\"/>\r\n     <use style=\"fill:#1f77b4;stroke:#1f77b4;\" x=\"187.97005\" xlink:href=\"#m31d5c3b682\" y=\"114.93119\"/>\r\n     <use style=\"fill:#1f77b4;stroke:#1f77b4;\" x=\"187.35625\" xlink:href=\"#m31d5c3b682\" y=\"113.204716\"/>\r\n     <use style=\"fill:#1f77b4;stroke:#1f77b4;\" x=\"186.35185\" xlink:href=\"#m31d5c3b682\" y=\"94.913664\"/>\r\n     <use style=\"fill:#1f77b4;stroke:#1f77b4;\" x=\"185.73805\" xlink:href=\"#m31d5c3b682\" y=\"66.65951\"/>\r\n     <use style=\"fill:#1f77b4;stroke:#1f77b4;\" x=\"185.06845\" xlink:href=\"#m31d5c3b682\" y=\"65.989795\"/>\r\n     <use style=\"fill:#1f77b4;stroke:#1f77b4;\" x=\"184.51045\" xlink:href=\"#m31d5c3b682\" y=\"111.895728\"/>\r\n     <use style=\"fill:#1f77b4;stroke:#1f77b4;\" x=\"181.32985\" xlink:href=\"#m31d5c3b682\" y=\"88.190419\"/>\r\n     <use style=\"fill:#1f77b4;stroke:#1f77b4;\" x=\"176.25205\" xlink:href=\"#m31d5c3b682\" y=\"101.010681\"/>\r\n     <use style=\"fill:#1f77b4;stroke:#1f77b4;\" x=\"174.52225\" xlink:href=\"#m31d5c3b682\" y=\"67.533619\"/>\r\n     <use style=\"fill:#1f77b4;stroke:#1f77b4;\" x=\"172.29025\" xlink:href=\"#m31d5c3b682\" y=\"148.082092\"/>\r\n     <use style=\"fill:#1f77b4;stroke:#1f77b4;\" x=\"170.61625\" xlink:href=\"#m31d5c3b682\" y=\"66.233328\"/>\r\n     <use style=\"fill:#1f77b4;stroke:#1f77b4;\" x=\"169.66765\" xlink:href=\"#m31d5c3b682\" y=\"137.840668\"/>\r\n     <use style=\"fill:#1f77b4;stroke:#1f77b4;\" x=\"168.60745\" xlink:href=\"#m31d5c3b682\" y=\"109.503888\"/>\r\n     <use style=\"fill:#1f77b4;stroke:#1f77b4;\" x=\"168.27265\" xlink:href=\"#m31d5c3b682\" y=\"89.286316\"/>\r\n     <use style=\"fill:#1f77b4;stroke:#1f77b4;\" x=\"167.82625\" xlink:href=\"#m31d5c3b682\" y=\"102.324019\"/>\r\n     <use style=\"fill:#1f77b4;stroke:#1f77b4;\" x=\"165.14785\" xlink:href=\"#m31d5c3b682\" y=\"110.321462\"/>\r\n     <use style=\"fill:#1f77b4;stroke:#1f77b4;\" x=\"164.08765\" xlink:href=\"#m31d5c3b682\" y=\"100.997635\"/>\r\n     <use style=\"fill:#1f77b4;stroke:#1f77b4;\" x=\"158.45185\" xlink:href=\"#m31d5c3b682\" y=\"120.093216\"/>\r\n     <use style=\"fill:#1f77b4;stroke:#1f77b4;\" x=\"156.55465\" xlink:href=\"#m31d5c3b682\" y=\"116.20104\"/>\r\n     <use style=\"fill:#1f77b4;stroke:#1f77b4;\" x=\"144.05545\" xlink:href=\"#m31d5c3b682\" y=\"134.28335\"/>\r\n     <use style=\"fill:#1f77b4;stroke:#1f77b4;\" x=\"142.38145\" xlink:href=\"#m31d5c3b682\" y=\"95.222428\"/>\r\n     <use style=\"fill:#1f77b4;stroke:#1f77b4;\" x=\"139.92625\" xlink:href=\"#m31d5c3b682\" y=\"126.677299\"/>\r\n     <use style=\"fill:#1f77b4;stroke:#1f77b4;\" x=\"133.39765\" xlink:href=\"#m31d5c3b682\" y=\"110.491065\"/>\r\n     <use style=\"fill:#1f77b4;stroke:#1f77b4;\" x=\"131.44465\" xlink:href=\"#m31d5c3b682\" y=\"106.677168\"/>\r\n     <use style=\"fill:#1f77b4;stroke:#1f77b4;\" x=\"130.99825\" xlink:href=\"#m31d5c3b682\" y=\"116.675059\"/>\r\n     <use style=\"fill:#1f77b4;stroke:#1f77b4;\" x=\"130.16125\" xlink:href=\"#m31d5c3b682\" y=\"106.898956\"/>\r\n     <use style=\"fill:#1f77b4;stroke:#1f77b4;\" x=\"125.25085\" xlink:href=\"#m31d5c3b682\" y=\"147.116659\"/>\r\n     <use style=\"fill:#1f77b4;stroke:#1f77b4;\" x=\"122.73985\" xlink:href=\"#m31d5c3b682\" y=\"101.154192\"/>\r\n     <use style=\"fill:#1f77b4;stroke:#1f77b4;\" x=\"119.83825\" xlink:href=\"#m31d5c3b682\" y=\"91.886899\"/>\r\n     <use style=\"fill:#1f77b4;stroke:#1f77b4;\" x=\"104.77225\" xlink:href=\"#m31d5c3b682\" y=\"114.49631\"/>\r\n     <use style=\"fill:#1f77b4;stroke:#1f77b4;\" x=\"70.06465\" xlink:href=\"#m31d5c3b682\" y=\"130.62166\"/>\r\n    </g>\r\n   </g>\r\n   <g id=\"matplotlib.axis_1\">\r\n    <g id=\"xtick_1\">\r\n     <g id=\"line2d_1\">\r\n      <defs>\r\n       <path d=\"M 0 0 \r\nL 0 3.5 \r\n\" id=\"m7163824d9e\" style=\"stroke:#000000;stroke-width:0.8;\"/>\r\n      </defs>\r\n      <g>\r\n       <use style=\"stroke:#000000;stroke-width:0.8;\" x=\"40.88125\" xlink:href=\"#m7163824d9e\" y=\"228.439219\"/>\r\n      </g>\r\n     </g>\r\n     <g id=\"text_1\">\r\n      <!-- 2 -->\r\n      <g transform=\"translate(37.7 243.037656)scale(0.1 -0.1)\">\r\n       <defs>\r\n        <path d=\"M 1228 531 \r\nL 3431 531 \r\nL 3431 0 \r\nL 469 0 \r\nL 469 531 \r\nQ 828 903 1448 1529 \r\nQ 2069 2156 2228 2338 \r\nQ 2531 2678 2651 2914 \r\nQ 2772 3150 2772 3378 \r\nQ 2772 3750 2511 3984 \r\nQ 2250 4219 1831 4219 \r\nQ 1534 4219 1204 4116 \r\nQ 875 4013 500 3803 \r\nL 500 4441 \r\nQ 881 4594 1212 4672 \r\nQ 1544 4750 1819 4750 \r\nQ 2544 4750 2975 4387 \r\nQ 3406 4025 3406 3419 \r\nQ 3406 3131 3298 2873 \r\nQ 3191 2616 2906 2266 \r\nQ 2828 2175 2409 1742 \r\nQ 1991 1309 1228 531 \r\nz\r\n\" id=\"DejaVuSans-32\" transform=\"scale(0.015625)\"/>\r\n       </defs>\r\n       <use xlink:href=\"#DejaVuSans-32\"/>\r\n      </g>\r\n     </g>\r\n    </g>\r\n    <g id=\"xtick_2\">\r\n     <g id=\"line2d_2\">\r\n      <g>\r\n       <use style=\"stroke:#000000;stroke-width:0.8;\" x=\"96.68125\" xlink:href=\"#m7163824d9e\" y=\"228.439219\"/>\r\n      </g>\r\n     </g>\r\n     <g id=\"text_2\">\r\n      <!-- 3 -->\r\n      <g transform=\"translate(93.5 243.037656)scale(0.1 -0.1)\">\r\n       <defs>\r\n        <path d=\"M 2597 2516 \r\nQ 3050 2419 3304 2112 \r\nQ 3559 1806 3559 1356 \r\nQ 3559 666 3084 287 \r\nQ 2609 -91 1734 -91 \r\nQ 1441 -91 1130 -33 \r\nQ 819 25 488 141 \r\nL 488 750 \r\nQ 750 597 1062 519 \r\nQ 1375 441 1716 441 \r\nQ 2309 441 2620 675 \r\nQ 2931 909 2931 1356 \r\nQ 2931 1769 2642 2001 \r\nQ 2353 2234 1838 2234 \r\nL 1294 2234 \r\nL 1294 2753 \r\nL 1863 2753 \r\nQ 2328 2753 2575 2939 \r\nQ 2822 3125 2822 3475 \r\nQ 2822 3834 2567 4026 \r\nQ 2313 4219 1838 4219 \r\nQ 1578 4219 1281 4162 \r\nQ 984 4106 628 3988 \r\nL 628 4550 \r\nQ 988 4650 1302 4700 \r\nQ 1616 4750 1894 4750 \r\nQ 2613 4750 3031 4423 \r\nQ 3450 4097 3450 3541 \r\nQ 3450 3153 3228 2886 \r\nQ 3006 2619 2597 2516 \r\nz\r\n\" id=\"DejaVuSans-33\" transform=\"scale(0.015625)\"/>\r\n       </defs>\r\n       <use xlink:href=\"#DejaVuSans-33\"/>\r\n      </g>\r\n     </g>\r\n    </g>\r\n    <g id=\"xtick_3\">\r\n     <g id=\"line2d_3\">\r\n      <g>\r\n       <use style=\"stroke:#000000;stroke-width:0.8;\" x=\"152.48125\" xlink:href=\"#m7163824d9e\" y=\"228.439219\"/>\r\n      </g>\r\n     </g>\r\n     <g id=\"text_3\">\r\n      <!-- 4 -->\r\n      <g transform=\"translate(149.3 243.037656)scale(0.1 -0.1)\">\r\n       <defs>\r\n        <path d=\"M 2419 4116 \r\nL 825 1625 \r\nL 2419 1625 \r\nL 2419 4116 \r\nz\r\nM 2253 4666 \r\nL 3047 4666 \r\nL 3047 1625 \r\nL 3713 1625 \r\nL 3713 1100 \r\nL 3047 1100 \r\nL 3047 0 \r\nL 2419 0 \r\nL 2419 1100 \r\nL 313 1100 \r\nL 313 1709 \r\nL 2253 4666 \r\nz\r\n\" id=\"DejaVuSans-34\" transform=\"scale(0.015625)\"/>\r\n       </defs>\r\n       <use xlink:href=\"#DejaVuSans-34\"/>\r\n      </g>\r\n     </g>\r\n    </g>\r\n    <g id=\"xtick_4\">\r\n     <g id=\"line2d_4\">\r\n      <g>\r\n       <use style=\"stroke:#000000;stroke-width:0.8;\" x=\"208.28125\" xlink:href=\"#m7163824d9e\" y=\"228.439219\"/>\r\n      </g>\r\n     </g>\r\n     <g id=\"text_4\">\r\n      <!-- 5 -->\r\n      <g transform=\"translate(205.1 243.037656)scale(0.1 -0.1)\">\r\n       <defs>\r\n        <path d=\"M 691 4666 \r\nL 3169 4666 \r\nL 3169 4134 \r\nL 1269 4134 \r\nL 1269 2991 \r\nQ 1406 3038 1543 3061 \r\nQ 1681 3084 1819 3084 \r\nQ 2600 3084 3056 2656 \r\nQ 3513 2228 3513 1497 \r\nQ 3513 744 3044 326 \r\nQ 2575 -91 1722 -91 \r\nQ 1428 -91 1123 -41 \r\nQ 819 9 494 109 \r\nL 494 744 \r\nQ 775 591 1075 516 \r\nQ 1375 441 1709 441 \r\nQ 2250 441 2565 725 \r\nQ 2881 1009 2881 1497 \r\nQ 2881 1984 2565 2268 \r\nQ 2250 2553 1709 2553 \r\nQ 1456 2553 1204 2497 \r\nQ 953 2441 691 2322 \r\nL 691 4666 \r\nz\r\n\" id=\"DejaVuSans-35\" transform=\"scale(0.015625)\"/>\r\n       </defs>\r\n       <use xlink:href=\"#DejaVuSans-35\"/>\r\n      </g>\r\n     </g>\r\n    </g>\r\n    <g id=\"xtick_5\">\r\n     <g id=\"line2d_5\">\r\n      <g>\r\n       <use style=\"stroke:#000000;stroke-width:0.8;\" x=\"264.08125\" xlink:href=\"#m7163824d9e\" y=\"228.439219\"/>\r\n      </g>\r\n     </g>\r\n     <g id=\"text_5\">\r\n      <!-- 6 -->\r\n      <g transform=\"translate(260.9 243.037656)scale(0.1 -0.1)\">\r\n       <defs>\r\n        <path d=\"M 2113 2584 \r\nQ 1688 2584 1439 2293 \r\nQ 1191 2003 1191 1497 \r\nQ 1191 994 1439 701 \r\nQ 1688 409 2113 409 \r\nQ 2538 409 2786 701 \r\nQ 3034 994 3034 1497 \r\nQ 3034 2003 2786 2293 \r\nQ 2538 2584 2113 2584 \r\nz\r\nM 3366 4563 \r\nL 3366 3988 \r\nQ 3128 4100 2886 4159 \r\nQ 2644 4219 2406 4219 \r\nQ 1781 4219 1451 3797 \r\nQ 1122 3375 1075 2522 \r\nQ 1259 2794 1537 2939 \r\nQ 1816 3084 2150 3084 \r\nQ 2853 3084 3261 2657 \r\nQ 3669 2231 3669 1497 \r\nQ 3669 778 3244 343 \r\nQ 2819 -91 2113 -91 \r\nQ 1303 -91 875 529 \r\nQ 447 1150 447 2328 \r\nQ 447 3434 972 4092 \r\nQ 1497 4750 2381 4750 \r\nQ 2619 4750 2861 4703 \r\nQ 3103 4656 3366 4563 \r\nz\r\n\" id=\"DejaVuSans-36\" transform=\"scale(0.015625)\"/>\r\n       </defs>\r\n       <use xlink:href=\"#DejaVuSans-36\"/>\r\n      </g>\r\n     </g>\r\n    </g>\r\n    <g id=\"xtick_6\">\r\n     <g id=\"line2d_6\">\r\n      <g>\r\n       <use style=\"stroke:#000000;stroke-width:0.8;\" x=\"319.88125\" xlink:href=\"#m7163824d9e\" y=\"228.439219\"/>\r\n      </g>\r\n     </g>\r\n     <g id=\"text_6\">\r\n      <!-- 7 -->\r\n      <g transform=\"translate(316.7 243.037656)scale(0.1 -0.1)\">\r\n       <defs>\r\n        <path d=\"M 525 4666 \r\nL 3525 4666 \r\nL 3525 4397 \r\nL 1831 0 \r\nL 1172 0 \r\nL 2766 4134 \r\nL 525 4134 \r\nL 525 4666 \r\nz\r\n\" id=\"DejaVuSans-37\" transform=\"scale(0.015625)\"/>\r\n       </defs>\r\n       <use xlink:href=\"#DejaVuSans-37\"/>\r\n      </g>\r\n     </g>\r\n    </g>\r\n    <g id=\"xtick_7\">\r\n     <g id=\"line2d_7\">\r\n      <g>\r\n       <use style=\"stroke:#000000;stroke-width:0.8;\" x=\"375.68125\" xlink:href=\"#m7163824d9e\" y=\"228.439219\"/>\r\n      </g>\r\n     </g>\r\n     <g id=\"text_7\">\r\n      <!-- 8 -->\r\n      <g transform=\"translate(372.5 243.037656)scale(0.1 -0.1)\">\r\n       <defs>\r\n        <path d=\"M 2034 2216 \r\nQ 1584 2216 1326 1975 \r\nQ 1069 1734 1069 1313 \r\nQ 1069 891 1326 650 \r\nQ 1584 409 2034 409 \r\nQ 2484 409 2743 651 \r\nQ 3003 894 3003 1313 \r\nQ 3003 1734 2745 1975 \r\nQ 2488 2216 2034 2216 \r\nz\r\nM 1403 2484 \r\nQ 997 2584 770 2862 \r\nQ 544 3141 544 3541 \r\nQ 544 4100 942 4425 \r\nQ 1341 4750 2034 4750 \r\nQ 2731 4750 3128 4425 \r\nQ 3525 4100 3525 3541 \r\nQ 3525 3141 3298 2862 \r\nQ 3072 2584 2669 2484 \r\nQ 3125 2378 3379 2068 \r\nQ 3634 1759 3634 1313 \r\nQ 3634 634 3220 271 \r\nQ 2806 -91 2034 -91 \r\nQ 1263 -91 848 271 \r\nQ 434 634 434 1313 \r\nQ 434 1759 690 2068 \r\nQ 947 2378 1403 2484 \r\nz\r\nM 1172 3481 \r\nQ 1172 3119 1398 2916 \r\nQ 1625 2713 2034 2713 \r\nQ 2441 2713 2670 2916 \r\nQ 2900 3119 2900 3481 \r\nQ 2900 3844 2670 4047 \r\nQ 2441 4250 2034 4250 \r\nQ 1625 4250 1398 4047 \r\nQ 1172 3844 1172 3481 \r\nz\r\n\" id=\"DejaVuSans-38\" transform=\"scale(0.015625)\"/>\r\n       </defs>\r\n       <use xlink:href=\"#DejaVuSans-38\"/>\r\n      </g>\r\n     </g>\r\n    </g>\r\n    <g id=\"text_8\">\r\n     <!-- score -->\r\n     <g transform=\"translate(194.848437 256.715781)scale(0.1 -0.1)\">\r\n      <defs>\r\n       <path d=\"M 2834 3397 \r\nL 2834 2853 \r\nQ 2591 2978 2328 3040 \r\nQ 2066 3103 1784 3103 \r\nQ 1356 3103 1142 2972 \r\nQ 928 2841 928 2578 \r\nQ 928 2378 1081 2264 \r\nQ 1234 2150 1697 2047 \r\nL 1894 2003 \r\nQ 2506 1872 2764 1633 \r\nQ 3022 1394 3022 966 \r\nQ 3022 478 2636 193 \r\nQ 2250 -91 1575 -91 \r\nQ 1294 -91 989 -36 \r\nQ 684 19 347 128 \r\nL 347 722 \r\nQ 666 556 975 473 \r\nQ 1284 391 1588 391 \r\nQ 1994 391 2212 530 \r\nQ 2431 669 2431 922 \r\nQ 2431 1156 2273 1281 \r\nQ 2116 1406 1581 1522 \r\nL 1381 1569 \r\nQ 847 1681 609 1914 \r\nQ 372 2147 372 2553 \r\nQ 372 3047 722 3315 \r\nQ 1072 3584 1716 3584 \r\nQ 2034 3584 2315 3537 \r\nQ 2597 3491 2834 3397 \r\nz\r\n\" id=\"DejaVuSans-73\" transform=\"scale(0.015625)\"/>\r\n       <path d=\"M 3122 3366 \r\nL 3122 2828 \r\nQ 2878 2963 2633 3030 \r\nQ 2388 3097 2138 3097 \r\nQ 1578 3097 1268 2742 \r\nQ 959 2388 959 1747 \r\nQ 959 1106 1268 751 \r\nQ 1578 397 2138 397 \r\nQ 2388 397 2633 464 \r\nQ 2878 531 3122 666 \r\nL 3122 134 \r\nQ 2881 22 2623 -34 \r\nQ 2366 -91 2075 -91 \r\nQ 1284 -91 818 406 \r\nQ 353 903 353 1747 \r\nQ 353 2603 823 3093 \r\nQ 1294 3584 2113 3584 \r\nQ 2378 3584 2631 3529 \r\nQ 2884 3475 3122 3366 \r\nz\r\n\" id=\"DejaVuSans-63\" transform=\"scale(0.015625)\"/>\r\n       <path d=\"M 1959 3097 \r\nQ 1497 3097 1228 2736 \r\nQ 959 2375 959 1747 \r\nQ 959 1119 1226 758 \r\nQ 1494 397 1959 397 \r\nQ 2419 397 2687 759 \r\nQ 2956 1122 2956 1747 \r\nQ 2956 2369 2687 2733 \r\nQ 2419 3097 1959 3097 \r\nz\r\nM 1959 3584 \r\nQ 2709 3584 3137 3096 \r\nQ 3566 2609 3566 1747 \r\nQ 3566 888 3137 398 \r\nQ 2709 -91 1959 -91 \r\nQ 1206 -91 779 398 \r\nQ 353 888 353 1747 \r\nQ 353 2609 779 3096 \r\nQ 1206 3584 1959 3584 \r\nz\r\n\" id=\"DejaVuSans-6f\" transform=\"scale(0.015625)\"/>\r\n       <path d=\"M 2631 2963 \r\nQ 2534 3019 2420 3045 \r\nQ 2306 3072 2169 3072 \r\nQ 1681 3072 1420 2755 \r\nQ 1159 2438 1159 1844 \r\nL 1159 0 \r\nL 581 0 \r\nL 581 3500 \r\nL 1159 3500 \r\nL 1159 2956 \r\nQ 1341 3275 1631 3429 \r\nQ 1922 3584 2338 3584 \r\nQ 2397 3584 2469 3576 \r\nQ 2541 3569 2628 3553 \r\nL 2631 2963 \r\nz\r\n\" id=\"DejaVuSans-72\" transform=\"scale(0.015625)\"/>\r\n       <path d=\"M 3597 1894 \r\nL 3597 1613 \r\nL 953 1613 \r\nQ 991 1019 1311 708 \r\nQ 1631 397 2203 397 \r\nQ 2534 397 2845 478 \r\nQ 3156 559 3463 722 \r\nL 3463 178 \r\nQ 3153 47 2828 -22 \r\nQ 2503 -91 2169 -91 \r\nQ 1331 -91 842 396 \r\nQ 353 884 353 1716 \r\nQ 353 2575 817 3079 \r\nQ 1281 3584 2069 3584 \r\nQ 2775 3584 3186 3129 \r\nQ 3597 2675 3597 1894 \r\nz\r\nM 3022 2063 \r\nQ 3016 2534 2758 2815 \r\nQ 2500 3097 2075 3097 \r\nQ 1594 3097 1305 2825 \r\nQ 1016 2553 972 2059 \r\nL 3022 2063 \r\nz\r\n\" id=\"DejaVuSans-65\" transform=\"scale(0.015625)\"/>\r\n      </defs>\r\n      <use xlink:href=\"#DejaVuSans-73\"/>\r\n      <use x=\"52.099609\" xlink:href=\"#DejaVuSans-63\"/>\r\n      <use x=\"107.080078\" xlink:href=\"#DejaVuSans-6f\"/>\r\n      <use x=\"168.261719\" xlink:href=\"#DejaVuSans-72\"/>\r\n      <use x=\"207.125\" xlink:href=\"#DejaVuSans-65\"/>\r\n     </g>\r\n    </g>\r\n   </g>\r\n   <g id=\"matplotlib.axis_2\">\r\n    <g id=\"ytick_1\">\r\n     <g id=\"line2d_8\">\r\n      <defs>\r\n       <path d=\"M 0 0 \r\nL -3.5 0 \r\n\" id=\"mc9a6debfc0\" style=\"stroke:#000000;stroke-width:0.8;\"/>\r\n      </defs>\r\n      <g>\r\n       <use style=\"stroke:#000000;stroke-width:0.8;\" x=\"40.88125\" xlink:href=\"#mc9a6debfc0\" y=\"228.439219\"/>\r\n      </g>\r\n     </g>\r\n     <g id=\"text_9\">\r\n      <!-- 30 -->\r\n      <g transform=\"translate(21.15625 232.238437)scale(0.1 -0.1)\">\r\n       <defs>\r\n        <path d=\"M 2034 4250 \r\nQ 1547 4250 1301 3770 \r\nQ 1056 3291 1056 2328 \r\nQ 1056 1369 1301 889 \r\nQ 1547 409 2034 409 \r\nQ 2525 409 2770 889 \r\nQ 3016 1369 3016 2328 \r\nQ 3016 3291 2770 3770 \r\nQ 2525 4250 2034 4250 \r\nz\r\nM 2034 4750 \r\nQ 2819 4750 3233 4129 \r\nQ 3647 3509 3647 2328 \r\nQ 3647 1150 3233 529 \r\nQ 2819 -91 2034 -91 \r\nQ 1250 -91 836 529 \r\nQ 422 1150 422 2328 \r\nQ 422 3509 836 4129 \r\nQ 1250 4750 2034 4750 \r\nz\r\n\" id=\"DejaVuSans-30\" transform=\"scale(0.015625)\"/>\r\n       </defs>\r\n       <use xlink:href=\"#DejaVuSans-33\"/>\r\n       <use x=\"63.623047\" xlink:href=\"#DejaVuSans-30\"/>\r\n      </g>\r\n     </g>\r\n    </g>\r\n    <g id=\"ytick_2\">\r\n     <g id=\"line2d_9\">\r\n      <g>\r\n       <use style=\"stroke:#000000;stroke-width:0.8;\" x=\"40.88125\" xlink:href=\"#mc9a6debfc0\" y=\"184.951219\"/>\r\n      </g>\r\n     </g>\r\n     <g id=\"text_10\">\r\n      <!-- 40 -->\r\n      <g transform=\"translate(21.15625 188.750437)scale(0.1 -0.1)\">\r\n       <use xlink:href=\"#DejaVuSans-34\"/>\r\n       <use x=\"63.623047\" xlink:href=\"#DejaVuSans-30\"/>\r\n      </g>\r\n     </g>\r\n    </g>\r\n    <g id=\"ytick_3\">\r\n     <g id=\"line2d_10\">\r\n      <g>\r\n       <use style=\"stroke:#000000;stroke-width:0.8;\" x=\"40.88125\" xlink:href=\"#mc9a6debfc0\" y=\"141.463219\"/>\r\n      </g>\r\n     </g>\r\n     <g id=\"text_11\">\r\n      <!-- 50 -->\r\n      <g transform=\"translate(21.15625 145.262437)scale(0.1 -0.1)\">\r\n       <use xlink:href=\"#DejaVuSans-35\"/>\r\n       <use x=\"63.623047\" xlink:href=\"#DejaVuSans-30\"/>\r\n      </g>\r\n     </g>\r\n    </g>\r\n    <g id=\"ytick_4\">\r\n     <g id=\"line2d_11\">\r\n      <g>\r\n       <use style=\"stroke:#000000;stroke-width:0.8;\" x=\"40.88125\" xlink:href=\"#mc9a6debfc0\" y=\"97.975219\"/>\r\n      </g>\r\n     </g>\r\n     <g id=\"text_12\">\r\n      <!-- 60 -->\r\n      <g transform=\"translate(21.15625 101.774437)scale(0.1 -0.1)\">\r\n       <use xlink:href=\"#DejaVuSans-36\"/>\r\n       <use x=\"63.623047\" xlink:href=\"#DejaVuSans-30\"/>\r\n      </g>\r\n     </g>\r\n    </g>\r\n    <g id=\"ytick_5\">\r\n     <g id=\"line2d_12\">\r\n      <g>\r\n       <use style=\"stroke:#000000;stroke-width:0.8;\" x=\"40.88125\" xlink:href=\"#mc9a6debfc0\" y=\"54.487219\"/>\r\n      </g>\r\n     </g>\r\n     <g id=\"text_13\">\r\n      <!-- 70 -->\r\n      <g transform=\"translate(21.15625 58.286437)scale(0.1 -0.1)\">\r\n       <use xlink:href=\"#DejaVuSans-37\"/>\r\n       <use x=\"63.623047\" xlink:href=\"#DejaVuSans-30\"/>\r\n      </g>\r\n     </g>\r\n    </g>\r\n    <g id=\"ytick_6\">\r\n     <g id=\"line2d_13\">\r\n      <g>\r\n       <use style=\"stroke:#000000;stroke-width:0.8;\" x=\"40.88125\" xlink:href=\"#mc9a6debfc0\" y=\"10.999219\"/>\r\n      </g>\r\n     </g>\r\n     <g id=\"text_14\">\r\n      <!-- 80 -->\r\n      <g transform=\"translate(21.15625 14.798437)scale(0.1 -0.1)\">\r\n       <use xlink:href=\"#DejaVuSans-38\"/>\r\n       <use x=\"63.623047\" xlink:href=\"#DejaVuSans-30\"/>\r\n      </g>\r\n     </g>\r\n    </g>\r\n    <g id=\"text_15\">\r\n     <!-- life_expectancy -->\r\n     <g transform=\"translate(14.798438 158.684062)rotate(-90)scale(0.1 -0.1)\">\r\n      <defs>\r\n       <path d=\"M 603 4863 \r\nL 1178 4863 \r\nL 1178 0 \r\nL 603 0 \r\nL 603 4863 \r\nz\r\n\" id=\"DejaVuSans-6c\" transform=\"scale(0.015625)\"/>\r\n       <path d=\"M 603 3500 \r\nL 1178 3500 \r\nL 1178 0 \r\nL 603 0 \r\nL 603 3500 \r\nz\r\nM 603 4863 \r\nL 1178 4863 \r\nL 1178 4134 \r\nL 603 4134 \r\nL 603 4863 \r\nz\r\n\" id=\"DejaVuSans-69\" transform=\"scale(0.015625)\"/>\r\n       <path d=\"M 2375 4863 \r\nL 2375 4384 \r\nL 1825 4384 \r\nQ 1516 4384 1395 4259 \r\nQ 1275 4134 1275 3809 \r\nL 1275 3500 \r\nL 2222 3500 \r\nL 2222 3053 \r\nL 1275 3053 \r\nL 1275 0 \r\nL 697 0 \r\nL 697 3053 \r\nL 147 3053 \r\nL 147 3500 \r\nL 697 3500 \r\nL 697 3744 \r\nQ 697 4328 969 4595 \r\nQ 1241 4863 1831 4863 \r\nL 2375 4863 \r\nz\r\n\" id=\"DejaVuSans-66\" transform=\"scale(0.015625)\"/>\r\n       <path d=\"M 3263 -1063 \r\nL 3263 -1509 \r\nL -63 -1509 \r\nL -63 -1063 \r\nL 3263 -1063 \r\nz\r\n\" id=\"DejaVuSans-5f\" transform=\"scale(0.015625)\"/>\r\n       <path d=\"M 3513 3500 \r\nL 2247 1797 \r\nL 3578 0 \r\nL 2900 0 \r\nL 1881 1375 \r\nL 863 0 \r\nL 184 0 \r\nL 1544 1831 \r\nL 300 3500 \r\nL 978 3500 \r\nL 1906 2253 \r\nL 2834 3500 \r\nL 3513 3500 \r\nz\r\n\" id=\"DejaVuSans-78\" transform=\"scale(0.015625)\"/>\r\n       <path d=\"M 1159 525 \r\nL 1159 -1331 \r\nL 581 -1331 \r\nL 581 3500 \r\nL 1159 3500 \r\nL 1159 2969 \r\nQ 1341 3281 1617 3432 \r\nQ 1894 3584 2278 3584 \r\nQ 2916 3584 3314 3078 \r\nQ 3713 2572 3713 1747 \r\nQ 3713 922 3314 415 \r\nQ 2916 -91 2278 -91 \r\nQ 1894 -91 1617 61 \r\nQ 1341 213 1159 525 \r\nz\r\nM 3116 1747 \r\nQ 3116 2381 2855 2742 \r\nQ 2594 3103 2138 3103 \r\nQ 1681 3103 1420 2742 \r\nQ 1159 2381 1159 1747 \r\nQ 1159 1113 1420 752 \r\nQ 1681 391 2138 391 \r\nQ 2594 391 2855 752 \r\nQ 3116 1113 3116 1747 \r\nz\r\n\" id=\"DejaVuSans-70\" transform=\"scale(0.015625)\"/>\r\n       <path d=\"M 1172 4494 \r\nL 1172 3500 \r\nL 2356 3500 \r\nL 2356 3053 \r\nL 1172 3053 \r\nL 1172 1153 \r\nQ 1172 725 1289 603 \r\nQ 1406 481 1766 481 \r\nL 2356 481 \r\nL 2356 0 \r\nL 1766 0 \r\nQ 1100 0 847 248 \r\nQ 594 497 594 1153 \r\nL 594 3053 \r\nL 172 3053 \r\nL 172 3500 \r\nL 594 3500 \r\nL 594 4494 \r\nL 1172 4494 \r\nz\r\n\" id=\"DejaVuSans-74\" transform=\"scale(0.015625)\"/>\r\n       <path d=\"M 2194 1759 \r\nQ 1497 1759 1228 1600 \r\nQ 959 1441 959 1056 \r\nQ 959 750 1161 570 \r\nQ 1363 391 1709 391 \r\nQ 2188 391 2477 730 \r\nQ 2766 1069 2766 1631 \r\nL 2766 1759 \r\nL 2194 1759 \r\nz\r\nM 3341 1997 \r\nL 3341 0 \r\nL 2766 0 \r\nL 2766 531 \r\nQ 2569 213 2275 61 \r\nQ 1981 -91 1556 -91 \r\nQ 1019 -91 701 211 \r\nQ 384 513 384 1019 \r\nQ 384 1609 779 1909 \r\nQ 1175 2209 1959 2209 \r\nL 2766 2209 \r\nL 2766 2266 \r\nQ 2766 2663 2505 2880 \r\nQ 2244 3097 1772 3097 \r\nQ 1472 3097 1187 3025 \r\nQ 903 2953 641 2809 \r\nL 641 3341 \r\nQ 956 3463 1253 3523 \r\nQ 1550 3584 1831 3584 \r\nQ 2591 3584 2966 3190 \r\nQ 3341 2797 3341 1997 \r\nz\r\n\" id=\"DejaVuSans-61\" transform=\"scale(0.015625)\"/>\r\n       <path d=\"M 3513 2113 \r\nL 3513 0 \r\nL 2938 0 \r\nL 2938 2094 \r\nQ 2938 2591 2744 2837 \r\nQ 2550 3084 2163 3084 \r\nQ 1697 3084 1428 2787 \r\nQ 1159 2491 1159 1978 \r\nL 1159 0 \r\nL 581 0 \r\nL 581 3500 \r\nL 1159 3500 \r\nL 1159 2956 \r\nQ 1366 3272 1645 3428 \r\nQ 1925 3584 2291 3584 \r\nQ 2894 3584 3203 3211 \r\nQ 3513 2838 3513 2113 \r\nz\r\n\" id=\"DejaVuSans-6e\" transform=\"scale(0.015625)\"/>\r\n       <path d=\"M 2059 -325 \r\nQ 1816 -950 1584 -1140 \r\nQ 1353 -1331 966 -1331 \r\nL 506 -1331 \r\nL 506 -850 \r\nL 844 -850 \r\nQ 1081 -850 1212 -737 \r\nQ 1344 -625 1503 -206 \r\nL 1606 56 \r\nL 191 3500 \r\nL 800 3500 \r\nL 1894 763 \r\nL 2988 3500 \r\nL 3597 3500 \r\nL 2059 -325 \r\nz\r\n\" id=\"DejaVuSans-79\" transform=\"scale(0.015625)\"/>\r\n      </defs>\r\n      <use xlink:href=\"#DejaVuSans-6c\"/>\r\n      <use x=\"27.783203\" xlink:href=\"#DejaVuSans-69\"/>\r\n      <use x=\"55.566406\" xlink:href=\"#DejaVuSans-66\"/>\r\n      <use x=\"90.771484\" xlink:href=\"#DejaVuSans-65\"/>\r\n      <use x=\"152.294922\" xlink:href=\"#DejaVuSans-5f\"/>\r\n      <use x=\"202.294922\" xlink:href=\"#DejaVuSans-65\"/>\r\n      <use x=\"262.068359\" xlink:href=\"#DejaVuSans-78\"/>\r\n      <use x=\"321.248047\" xlink:href=\"#DejaVuSans-70\"/>\r\n      <use x=\"384.724609\" xlink:href=\"#DejaVuSans-65\"/>\r\n      <use x=\"446.248047\" xlink:href=\"#DejaVuSans-63\"/>\r\n      <use x=\"501.228516\" xlink:href=\"#DejaVuSans-74\"/>\r\n      <use x=\"540.4375\" xlink:href=\"#DejaVuSans-61\"/>\r\n      <use x=\"601.716797\" xlink:href=\"#DejaVuSans-6e\"/>\r\n      <use x=\"665.095703\" xlink:href=\"#DejaVuSans-63\"/>\r\n      <use x=\"720.076172\" xlink:href=\"#DejaVuSans-79\"/>\r\n     </g>\r\n    </g>\r\n   </g>\r\n   <g id=\"patch_3\">\r\n    <path d=\"M 40.88125 228.439219 \r\nL 40.88125 10.999219 \r\n\" style=\"fill:none;stroke:#000000;stroke-linecap:square;stroke-linejoin:miter;stroke-width:0.8;\"/>\r\n   </g>\r\n   <g id=\"patch_4\">\r\n    <path d=\"M 375.68125 228.439219 \r\nL 375.68125 10.999219 \r\n\" style=\"fill:none;stroke:#000000;stroke-linecap:square;stroke-linejoin:miter;stroke-width:0.8;\"/>\r\n   </g>\r\n   <g id=\"patch_5\">\r\n    <path d=\"M 40.88125 228.439219 \r\nL 375.68125 228.439219 \r\n\" style=\"fill:none;stroke:#000000;stroke-linecap:square;stroke-linejoin:miter;stroke-width:0.8;\"/>\r\n   </g>\r\n   <g id=\"patch_6\">\r\n    <path d=\"M 40.88125 10.999219 \r\nL 375.68125 10.999219 \r\n\" style=\"fill:none;stroke:#000000;stroke-linecap:square;stroke-linejoin:miter;stroke-width:0.8;\"/>\r\n   </g>\r\n  </g>\r\n </g>\r\n <defs>\r\n  <clipPath id=\"p8d804cc6f9\">\r\n   <rect height=\"217.44\" width=\"334.8\" x=\"40.88125\" y=\"10.999219\"/>\r\n  </clipPath>\r\n </defs>\r\n</svg>\r\n",
      "image/png": "[encoded data removed]"
     },
     "metadata": {
      "needs_background": "light"
     }
    }
   ],
   "source": [
    "happy_life.plot(kind = 'scatter', x = 'score', y = 'life_expectancy').set(xlim =(2, 8), ylim =(30, 80))"
   ]
  },
  {
   "cell_type": "markdown",
   "id": "a9fae1df",
   "metadata": {},
   "source": [
    "Generally, longer life expectancies are correlated with happier lives"
   ]
  }
 ],
 "metadata": {
  "interpreter": {
   "hash": "ef19576ba81a241d3fe40416f7fab88758350e775c5cf205b69256e3a84aa984"
  },
  "kernelspec": {
   "name": "python3",
   "display_name": "Python 3.9.5 64-bit"
  },
  "language_info": {
   "codemirror_mode": {
    "name": "ipython",
    "version": 3
   },
   "file_extension": ".py",
   "mimetype": "text/x-python",
   "name": "python",
   "nbconvert_exporter": "python",
   "pygments_lexer": "ipython3",
   "version": "3.9.5"
  }
 },
 "nbformat": 4,
 "nbformat_minor": 5
}